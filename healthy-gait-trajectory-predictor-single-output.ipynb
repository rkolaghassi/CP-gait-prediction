{
 "cells": [
  {
   "cell_type": "markdown",
   "metadata": {},
   "source": [
    "## Set up"
   ]
  },
  {
   "cell_type": "markdown",
   "metadata": {},
   "source": [
    "#### Import Libraries"
   ]
  },
  {
   "cell_type": "code",
   "execution_count": 1,
   "metadata": {},
   "outputs": [],
   "source": [
    "from utils import *"
   ]
  },
  {
   "cell_type": "code",
   "execution_count": 2,
   "metadata": {},
   "outputs": [],
   "source": [
    "# TO DO: check if lines 8-11 are needed \n",
    "\n",
    "RANDOM_SEED = 6\n",
    "np.random.seed(RANDOM_SEED)\n",
    "\n",
    "# torch.backends.cudnn.benchmark = False # uses deterministic convolution algorithm (may reduce performance)\n",
    "# torch.backends.cudnn.deterministic = True #\n",
    "\n",
    "#Sets the seed of RNG (GPU and CPU)\n",
    "torch.manual_seed(RANDOM_SEED)\n",
    "random.seed(RANDOM_SEED)\n",
    "\n",
    "torch.cuda.manual_seed_all(RANDOM_SEED)\n",
    "torch.cuda.manual_seed(RANDOM_SEED) "
   ]
  },
  {
   "cell_type": "code",
   "execution_count": 3,
   "metadata": {},
   "outputs": [
    {
     "name": "stdout",
     "output_type": "stream",
     "text": [
      "features: ['Hips Flexion-Extension Left', 'Knees Flexion-Extension Left', 'Ankles Dorsiflexion-Plantarflexion Left', 'Hips Flexion-Extension Right', 'Knees Flexion-Extension Right', 'Ankles Dorsiflexion-Plantarflexion Right']\n",
      "input_window: 100\n",
      "output_window: 1\n",
      "stride: 1\n"
     ]
    }
   ],
   "source": [
    "# Set settings\n",
    "features, input_window, output_window, stride = set_settings()\n",
    "\n",
    "print(f'features: {features}')\n",
    "print(f'input_window: {input_window}')\n",
    "print(f'output_window: {output_window}')\n",
    "print(f'stride: {stride}')"
   ]
  },
  {
   "cell_type": "code",
   "execution_count": 4,
   "metadata": {},
   "outputs": [
    {
     "name": "stdout",
     "output_type": "stream",
     "text": [
      "The device used in this notebook is: cuda\n"
     ]
    }
   ],
   "source": [
    "# Set device\n",
    "print(f'The device used in this notebook is: {setDevice()}')\n",
    "\n",
    "DEVICE = setDevice()"
   ]
  },
  {
   "cell_type": "markdown",
   "metadata": {},
   "source": [
    "#### Load Data "
   ]
  },
  {
   "cell_type": "code",
   "execution_count": 5,
   "metadata": {},
   "outputs": [
    {
     "name": "stdout",
     "output_type": "stream",
     "text": [
      "Current working directory is: D:\\Study 2 Data\\Healthy Gait\\Train\n",
      "There are 7 files in the specified path.\n"
     ]
    }
   ],
   "source": [
    "file_dir = r'D:\\Study 2 Data\\Healthy Gait\\Train'\n",
    "train_files = os.listdir(file_dir) \n",
    "\n",
    "# Changes the working directory to get the data from their location \n",
    "os.chdir(file_dir)\n",
    "cwd = os.getcwd()\n",
    "\n",
    "print(f'Current working directory is: {cwd}')\n",
    "print(f\"There are {len(train_files)} files in the specified path.\")"
   ]
  },
  {
   "cell_type": "code",
   "execution_count": 6,
   "metadata": {},
   "outputs": [
    {
     "data": {
      "text/plain": [
       "['AB3154 BF T6-10.csv',\n",
       " 'AB6751 BF T1-5.csv',\n",
       " 'AB7422 BF T1-5.csv',\n",
       " 'AB7779 BF T1-5.csv',\n",
       " 'AB9119 BF T1-5.csv',\n",
       " 'AB9737 BF T1-5.csv',\n",
       " 'AB9737 BF T6-10.csv']"
      ]
     },
     "execution_count": 6,
     "metadata": {},
     "output_type": "execute_result"
    }
   ],
   "source": [
    "train_files"
   ]
  },
  {
   "cell_type": "code",
   "execution_count": 7,
   "metadata": {},
   "outputs": [
    {
     "data": {
      "text/plain": [
       "['Trial',\n",
       " 'Time',\n",
       " 'Hips Flexion-Extension Left',\n",
       " 'Knees Flexion-Extension Left',\n",
       " 'Ankles Dorsiflexion-Plantarflexion Left',\n",
       " 'Hips Flexion-Extension Right',\n",
       " 'Knees Flexion-Extension Right',\n",
       " 'Ankles Dorsiflexion-Plantarflexion Right']"
      ]
     },
     "execution_count": 7,
     "metadata": {},
     "output_type": "execute_result"
    }
   ],
   "source": [
    "#Create feature list to extract values needed from CSV files\n",
    "all_features = ['Trial', 'Time'] + features\n",
    "all_features"
   ]
  },
  {
   "cell_type": "markdown",
   "metadata": {},
   "source": [
    "#### Extract Data from CSV into Pandas Dataframe"
   ]
  },
  {
   "cell_type": "code",
   "execution_count": 8,
   "metadata": {},
   "outputs": [
    {
     "name": "stdout",
     "output_type": "stream",
     "text": [
      "Extracting data from: AB3154 BF T6-10.csv\n",
      "Extracting data from: AB6751 BF T1-5.csv\n",
      "Extracting data from: AB7422 BF T1-5.csv\n",
      "Extracting data from: AB7779 BF T1-5.csv\n",
      "Extracting data from: AB9119 BF T1-5.csv\n",
      "Extracting data from: AB9737 BF T1-5.csv\n",
      "Extracting data from: AB9737 BF T6-10.csv\n"
     ]
    }
   ],
   "source": [
    "all_data = create_dataframe(train_files, all_features)"
   ]
  },
  {
   "cell_type": "code",
   "execution_count": 9,
   "metadata": {},
   "outputs": [],
   "source": [
    "all_data.reset_index(drop=True, inplace=True) #reset the index of the table\n",
    "# path = r'D:\\Study 2 Data\\Healthy Gait' + '\\\\' + 'all_data_healthy_train.csv'\n",
    "# all_data.to_csv(path)"
   ]
  },
  {
   "cell_type": "code",
   "execution_count": 10,
   "metadata": {},
   "outputs": [
    {
     "data": {
      "text/html": [
       "<div>\n",
       "<style scoped>\n",
       "    .dataframe tbody tr th:only-of-type {\n",
       "        vertical-align: middle;\n",
       "    }\n",
       "\n",
       "    .dataframe tbody tr th {\n",
       "        vertical-align: top;\n",
       "    }\n",
       "\n",
       "    .dataframe thead th {\n",
       "        text-align: right;\n",
       "    }\n",
       "</style>\n",
       "<table border=\"1\" class=\"dataframe\">\n",
       "  <thead>\n",
       "    <tr style=\"text-align: right;\">\n",
       "      <th></th>\n",
       "      <th>Patient ID</th>\n",
       "      <th>Trial</th>\n",
       "      <th>Time</th>\n",
       "      <th>Hips Flexion-Extension Left</th>\n",
       "      <th>Knees Flexion-Extension Left</th>\n",
       "      <th>Ankles Dorsiflexion-Plantarflexion Left</th>\n",
       "      <th>Hips Flexion-Extension Right</th>\n",
       "      <th>Knees Flexion-Extension Right</th>\n",
       "      <th>Ankles Dorsiflexion-Plantarflexion Right</th>\n",
       "    </tr>\n",
       "  </thead>\n",
       "  <tbody>\n",
       "    <tr>\n",
       "      <th>0</th>\n",
       "      <td>AB3154 BF T6-10</td>\n",
       "      <td>1</td>\n",
       "      <td>161.00</td>\n",
       "      <td>-1.76414</td>\n",
       "      <td>0.42597</td>\n",
       "      <td>2.24148</td>\n",
       "      <td>-1.29770</td>\n",
       "      <td>4.85581</td>\n",
       "      <td>4.25152</td>\n",
       "    </tr>\n",
       "    <tr>\n",
       "      <th>1</th>\n",
       "      <td>AB3154 BF T6-10</td>\n",
       "      <td>1</td>\n",
       "      <td>161.01</td>\n",
       "      <td>-1.71541</td>\n",
       "      <td>0.43044</td>\n",
       "      <td>2.25861</td>\n",
       "      <td>-1.13917</td>\n",
       "      <td>4.97912</td>\n",
       "      <td>4.25320</td>\n",
       "    </tr>\n",
       "    <tr>\n",
       "      <th>2</th>\n",
       "      <td>AB3154 BF T6-10</td>\n",
       "      <td>1</td>\n",
       "      <td>161.02</td>\n",
       "      <td>-1.66432</td>\n",
       "      <td>0.43358</td>\n",
       "      <td>2.27493</td>\n",
       "      <td>-0.96327</td>\n",
       "      <td>5.11719</td>\n",
       "      <td>4.25485</td>\n",
       "    </tr>\n",
       "    <tr>\n",
       "      <th>3</th>\n",
       "      <td>AB3154 BF T6-10</td>\n",
       "      <td>1</td>\n",
       "      <td>161.03</td>\n",
       "      <td>-1.60888</td>\n",
       "      <td>0.43609</td>\n",
       "      <td>2.29088</td>\n",
       "      <td>-0.77092</td>\n",
       "      <td>5.26771</td>\n",
       "      <td>4.25494</td>\n",
       "    </tr>\n",
       "    <tr>\n",
       "      <th>4</th>\n",
       "      <td>AB3154 BF T6-10</td>\n",
       "      <td>1</td>\n",
       "      <td>161.04</td>\n",
       "      <td>-1.54643</td>\n",
       "      <td>0.43905</td>\n",
       "      <td>2.30714</td>\n",
       "      <td>-0.56356</td>\n",
       "      <td>5.42747</td>\n",
       "      <td>4.25163</td>\n",
       "    </tr>\n",
       "    <tr>\n",
       "      <th>...</th>\n",
       "      <td>...</td>\n",
       "      <td>...</td>\n",
       "      <td>...</td>\n",
       "      <td>...</td>\n",
       "      <td>...</td>\n",
       "      <td>...</td>\n",
       "      <td>...</td>\n",
       "      <td>...</td>\n",
       "      <td>...</td>\n",
       "    </tr>\n",
       "    <tr>\n",
       "      <th>69453</th>\n",
       "      <td>AB9737 BF T6-10</td>\n",
       "      <td>14</td>\n",
       "      <td>474.70</td>\n",
       "      <td>5.59699</td>\n",
       "      <td>13.43638</td>\n",
       "      <td>-0.19627</td>\n",
       "      <td>-10.90823</td>\n",
       "      <td>6.82313</td>\n",
       "      <td>14.37402</td>\n",
       "    </tr>\n",
       "    <tr>\n",
       "      <th>69454</th>\n",
       "      <td>AB9737 BF T6-10</td>\n",
       "      <td>14</td>\n",
       "      <td>474.71</td>\n",
       "      <td>5.45820</td>\n",
       "      <td>13.20250</td>\n",
       "      <td>-0.17039</td>\n",
       "      <td>-10.20259</td>\n",
       "      <td>7.80148</td>\n",
       "      <td>14.11679</td>\n",
       "    </tr>\n",
       "    <tr>\n",
       "      <th>69455</th>\n",
       "      <td>AB9737 BF T6-10</td>\n",
       "      <td>14</td>\n",
       "      <td>474.72</td>\n",
       "      <td>5.31928</td>\n",
       "      <td>12.95930</td>\n",
       "      <td>-0.15604</td>\n",
       "      <td>-9.44410</td>\n",
       "      <td>8.89409</td>\n",
       "      <td>13.85472</td>\n",
       "    </tr>\n",
       "    <tr>\n",
       "      <th>69456</th>\n",
       "      <td>AB9737 BF T6-10</td>\n",
       "      <td>14</td>\n",
       "      <td>474.73</td>\n",
       "      <td>5.17878</td>\n",
       "      <td>12.70795</td>\n",
       "      <td>-0.15333</td>\n",
       "      <td>-8.64847</td>\n",
       "      <td>10.08021</td>\n",
       "      <td>13.59274</td>\n",
       "    </tr>\n",
       "    <tr>\n",
       "      <th>69457</th>\n",
       "      <td>AB9737 BF T6-10</td>\n",
       "      <td>14</td>\n",
       "      <td>474.74</td>\n",
       "      <td>5.03528</td>\n",
       "      <td>12.44960</td>\n",
       "      <td>-0.16229</td>\n",
       "      <td>-7.83159</td>\n",
       "      <td>11.33597</td>\n",
       "      <td>13.33652</td>\n",
       "    </tr>\n",
       "  </tbody>\n",
       "</table>\n",
       "<p>69458 rows × 9 columns</p>\n",
       "</div>"
      ],
      "text/plain": [
       "            Patient ID  Trial    Time  Hips Flexion-Extension Left  \\\n",
       "0      AB3154 BF T6-10      1  161.00                     -1.76414   \n",
       "1      AB3154 BF T6-10      1  161.01                     -1.71541   \n",
       "2      AB3154 BF T6-10      1  161.02                     -1.66432   \n",
       "3      AB3154 BF T6-10      1  161.03                     -1.60888   \n",
       "4      AB3154 BF T6-10      1  161.04                     -1.54643   \n",
       "...                ...    ...     ...                          ...   \n",
       "69453  AB9737 BF T6-10     14  474.70                      5.59699   \n",
       "69454  AB9737 BF T6-10     14  474.71                      5.45820   \n",
       "69455  AB9737 BF T6-10     14  474.72                      5.31928   \n",
       "69456  AB9737 BF T6-10     14  474.73                      5.17878   \n",
       "69457  AB9737 BF T6-10     14  474.74                      5.03528   \n",
       "\n",
       "       Knees Flexion-Extension Left  Ankles Dorsiflexion-Plantarflexion Left  \\\n",
       "0                           0.42597                                  2.24148   \n",
       "1                           0.43044                                  2.25861   \n",
       "2                           0.43358                                  2.27493   \n",
       "3                           0.43609                                  2.29088   \n",
       "4                           0.43905                                  2.30714   \n",
       "...                             ...                                      ...   \n",
       "69453                      13.43638                                 -0.19627   \n",
       "69454                      13.20250                                 -0.17039   \n",
       "69455                      12.95930                                 -0.15604   \n",
       "69456                      12.70795                                 -0.15333   \n",
       "69457                      12.44960                                 -0.16229   \n",
       "\n",
       "       Hips Flexion-Extension Right  Knees Flexion-Extension Right  \\\n",
       "0                          -1.29770                        4.85581   \n",
       "1                          -1.13917                        4.97912   \n",
       "2                          -0.96327                        5.11719   \n",
       "3                          -0.77092                        5.26771   \n",
       "4                          -0.56356                        5.42747   \n",
       "...                             ...                            ...   \n",
       "69453                     -10.90823                        6.82313   \n",
       "69454                     -10.20259                        7.80148   \n",
       "69455                      -9.44410                        8.89409   \n",
       "69456                      -8.64847                       10.08021   \n",
       "69457                      -7.83159                       11.33597   \n",
       "\n",
       "       Ankles Dorsiflexion-Plantarflexion Right  \n",
       "0                                       4.25152  \n",
       "1                                       4.25320  \n",
       "2                                       4.25485  \n",
       "3                                       4.25494  \n",
       "4                                       4.25163  \n",
       "...                                         ...  \n",
       "69453                                  14.37402  \n",
       "69454                                  14.11679  \n",
       "69455                                  13.85472  \n",
       "69456                                  13.59274  \n",
       "69457                                  13.33652  \n",
       "\n",
       "[69458 rows x 9 columns]"
      ]
     },
     "execution_count": 10,
     "metadata": {},
     "output_type": "execute_result"
    }
   ],
   "source": [
    "all_data"
   ]
  },
  {
   "cell_type": "code",
   "execution_count": 11,
   "metadata": {},
   "outputs": [
    {
     "name": "stdout",
     "output_type": "stream",
     "text": [
      "maximum number of trials is: 16\n"
     ]
    }
   ],
   "source": [
    "n_trials = all_data['Trial'].max()\n",
    "print(f'maximum number of trials is: {n_trials}')"
   ]
  },
  {
   "cell_type": "code",
   "execution_count": 12,
   "metadata": {},
   "outputs": [
    {
     "data": {
      "text/plain": [
       "array(['AB3154 BF T6-10', 'AB6751 BF T1-5', 'AB7422 BF T1-5',\n",
       "       'AB7779 BF T1-5', 'AB9119 BF T1-5', 'AB9737 BF T1-5',\n",
       "       'AB9737 BF T6-10'], dtype=object)"
      ]
     },
     "execution_count": 12,
     "metadata": {},
     "output_type": "execute_result"
    }
   ],
   "source": [
    "all_data['Patient ID'].unique()"
   ]
  },
  {
   "cell_type": "markdown",
   "metadata": {},
   "source": [
    "#### Divide into training and validation sets"
   ]
  },
  {
   "cell_type": "code",
   "execution_count": 13,
   "metadata": {},
   "outputs": [],
   "source": [
    "train_subjects = ['AB3154 BF T6-10', \n",
    "                     'AB6751 BF T1-5', \n",
    "                     'AB7779 BF T1-5',\n",
    "                     'AB9737 BF T1-5', \n",
    "                     'AB9737 BF T6-10',\n",
    "                     'AB7422 BF T1-5',\n",
    "                     ]\n",
    "\n",
    "val_subjects = ['AB9119 BF T1-5']"
   ]
  },
  {
   "cell_type": "code",
   "execution_count": 14,
   "metadata": {},
   "outputs": [],
   "source": [
    "train_data = all_data.loc[all_data['Patient ID'].isin(train_subjects)]\n",
    "\n",
    "val_data = all_data.loc[all_data['Patient ID'].isin(val_subjects)]"
   ]
  },
  {
   "cell_type": "code",
   "execution_count": 15,
   "metadata": {},
   "outputs": [
    {
     "name": "stdout",
     "output_type": "stream",
     "text": [
      "all_data: (69458, 9)\n",
      "train_data: (61289, 9)\n",
      "val_data: (8169, 9)\n"
     ]
    }
   ],
   "source": [
    "print(f'all_data: {all_data.shape}')\n",
    "print(f'train_data: {train_data.shape}')\n",
    "print(f'val_data: {val_data.shape}')"
   ]
  },
  {
   "cell_type": "markdown",
   "metadata": {},
   "source": [
    "## Data Analysis"
   ]
  },
  {
   "cell_type": "markdown",
   "metadata": {},
   "source": [
    "#### Data Analysis"
   ]
  },
  {
   "cell_type": "code",
   "execution_count": 16,
   "metadata": {},
   "outputs": [
    {
     "data": {
      "text/plain": [
       "Patient ID                                  0\n",
       "Trial                                       0\n",
       "Time                                        0\n",
       "Hips Flexion-Extension Left                 0\n",
       "Knees Flexion-Extension Left                0\n",
       "Ankles Dorsiflexion-Plantarflexion Left     0\n",
       "Hips Flexion-Extension Right                0\n",
       "Knees Flexion-Extension Right               0\n",
       "Ankles Dorsiflexion-Plantarflexion Right    0\n",
       "dtype: int64"
      ]
     },
     "execution_count": 16,
     "metadata": {},
     "output_type": "execute_result"
    }
   ],
   "source": [
    "all_data.isnull().sum()"
   ]
  },
  {
   "cell_type": "code",
   "execution_count": 17,
   "metadata": {},
   "outputs": [
    {
     "data": {
      "image/png": "[encoded data removed]",
      "text/plain": [
       "<Figure size 432x288 with 1 Axes>"
      ]
     },
     "metadata": {
      "needs_background": "light"
     },
     "output_type": "display_data"
    }
   ],
   "source": [
    "ax = sns.violinplot(x=\"Patient ID\", y=\"Hips Flexion-Extension Left\", \n",
    "                    data=all_data, palette=\"muted\")"
   ]
  },
  {
   "cell_type": "code",
   "execution_count": 18,
   "metadata": {},
   "outputs": [],
   "source": [
    "# ax = sns.violinplot(x=\"Trial\", y=\"Hips Flexion-Extension Right\", \n",
    "#                     data=all_data[all_data['Patient ID'] == \"AB3154 T6-10 BF\"], palette=\"muted\")"
   ]
  },
  {
   "cell_type": "code",
   "execution_count": 19,
   "metadata": {},
   "outputs": [],
   "source": [
    "# ax = sns.violinplot(x=\"Trial\", y=\"Hips Flexion-Extension Right\", \n",
    "#                     data=all_data[all_data['Patient ID'] == \"AB5498 BF T6-10\"], palette=\"muted\")"
   ]
  },
  {
   "cell_type": "markdown",
   "metadata": {},
   "source": [
    "## Data Processing"
   ]
  },
  {
   "cell_type": "code",
   "execution_count": 20,
   "metadata": {},
   "outputs": [
    {
     "name": "stdout",
     "output_type": "stream",
     "text": [
      "For patient: AB3154 BF T6-10, trial: 1, there are: 651 time-points\n",
      "For patient: AB3154 BF T6-10, trial: 2, there are: 541 time-points\n",
      "For patient: AB3154 BF T6-10, trial: 3, there are: 613 time-points\n",
      "For patient: AB3154 BF T6-10, trial: 4, there are: 601 time-points\n",
      "For patient: AB3154 BF T6-10, trial: 5, there are: 711 time-points\n",
      "For patient: AB3154 BF T6-10, trial: 6, there are: 651 time-points\n",
      "For patient: AB3154 BF T6-10, trial: 7, there are: 1031 time-points\n",
      "For patient: AB3154 BF T6-10, trial: 8, there are: 896 time-points\n",
      "For patient: AB3154 BF T6-10, trial: 9, there are: 812 time-points\n",
      "For patient: AB6751 BF T1-5, trial: 1, there are: 761 time-points\n",
      "For patient: AB6751 BF T1-5, trial: 2, there are: 733 time-points\n",
      "For patient: AB6751 BF T1-5, trial: 3, there are: 731 time-points\n",
      "For patient: AB6751 BF T1-5, trial: 4, there are: 682 time-points\n",
      "For patient: AB6751 BF T1-5, trial: 5, there are: 710 time-points\n",
      "For patient: AB6751 BF T1-5, trial: 6, there are: 708 time-points\n",
      "For patient: AB6751 BF T1-5, trial: 7, there are: 682 time-points\n",
      "For patient: AB6751 BF T1-5, trial: 8, there are: 675 time-points\n",
      "For patient: AB6751 BF T1-5, trial: 9, there are: 900 time-points\n",
      "For patient: AB6751 BF T1-5, trial: 10, there are: 761 time-points\n",
      "For patient: AB7422 BF T1-5, trial: 1, there are: 1004 time-points\n",
      "For patient: AB7422 BF T1-5, trial: 2, there are: 781 time-points\n",
      "For patient: AB7422 BF T1-5, trial: 3, there are: 689 time-points\n",
      "For patient: AB7422 BF T1-5, trial: 4, there are: 792 time-points\n",
      "For patient: AB7422 BF T1-5, trial: 5, there are: 735 time-points\n",
      "For patient: AB7422 BF T1-5, trial: 6, there are: 835 time-points\n",
      "For patient: AB7422 BF T1-5, trial: 7, there are: 761 time-points\n",
      "For patient: AB7422 BF T1-5, trial: 8, there are: 790 time-points\n",
      "For patient: AB7422 BF T1-5, trial: 9, there are: 687 time-points\n",
      "For patient: AB7422 BF T1-5, trial: 10, there are: 775 time-points\n",
      "For patient: AB7779 BF T1-5, trial: 1, there are: 1055 time-points\n",
      "For patient: AB7779 BF T1-5, trial: 2, there are: 914 time-points\n",
      "For patient: AB7779 BF T1-5, trial: 3, there are: 893 time-points\n",
      "For patient: AB7779 BF T1-5, trial: 4, there are: 962 time-points\n",
      "For patient: AB7779 BF T1-5, trial: 5, there are: 830 time-points\n",
      "For patient: AB7779 BF T1-5, trial: 6, there are: 721 time-points\n",
      "For patient: AB7779 BF T1-5, trial: 7, there are: 731 time-points\n",
      "For patient: AB7779 BF T1-5, trial: 8, there are: 771 time-points\n",
      "For patient: AB7779 BF T1-5, trial: 9, there are: 663 time-points\n",
      "For patient: AB7779 BF T1-5, trial: 10, there are: 754 time-points\n",
      "For patient: AB9737 BF T1-5, trial: 1, there are: 1027 time-points\n",
      "For patient: AB9737 BF T1-5, trial: 2, there are: 1066 time-points\n",
      "For patient: AB9737 BF T1-5, trial: 3, there are: 1061 time-points\n",
      "For patient: AB9737 BF T1-5, trial: 4, there are: 880 time-points\n",
      "For patient: AB9737 BF T1-5, trial: 5, there are: 995 time-points\n",
      "For patient: AB9737 BF T1-5, trial: 6, there are: 921 time-points\n",
      "For patient: AB9737 BF T1-5, trial: 7, there are: 897 time-points\n",
      "For patient: AB9737 BF T1-5, trial: 8, there are: 920 time-points\n",
      "For patient: AB9737 BF T1-5, trial: 9, there are: 836 time-points\n",
      "For patient: AB9737 BF T1-5, trial: 10, there are: 874 time-points\n",
      "For patient: AB9737 BF T1-5, trial: 11, there are: 801 time-points\n",
      "For patient: AB9737 BF T1-5, trial: 12, there are: 877 time-points\n",
      "For patient: AB9737 BF T1-5, trial: 13, there are: 833 time-points\n",
      "For patient: AB9737 BF T1-5, trial: 14, there are: 811 time-points\n",
      "For patient: AB9737 BF T1-5, trial: 15, there are: 909 time-points\n",
      "For patient: AB9737 BF T1-5, trial: 16, there are: 824 time-points\n",
      "For patient: AB9737 BF T6-10, trial: 1, there are: 1843 time-points\n",
      "For patient: AB9737 BF T6-10, trial: 2, there are: 1565 time-points\n",
      "For patient: AB9737 BF T6-10, trial: 3, there are: 1296 time-points\n",
      "For patient: AB9737 BF T6-10, trial: 4, there are: 1241 time-points\n",
      "For patient: AB9737 BF T6-10, trial: 5, there are: 1251 time-points\n",
      "For patient: AB9737 BF T6-10, trial: 6, there are: 951 time-points\n",
      "For patient: AB9737 BF T6-10, trial: 7, there are: 1170 time-points\n",
      "For patient: AB9737 BF T6-10, trial: 8, there are: 1201 time-points\n",
      "For patient: AB9737 BF T6-10, trial: 9, there are: 1051 time-points\n",
      "For patient: AB9737 BF T6-10, trial: 10, there are: 1023 time-points\n",
      "For patient: AB9737 BF T6-10, trial: 11, there are: 1026 time-points\n",
      "For patient: AB9737 BF T6-10, trial: 12, there are: 1063 time-points\n",
      "For patient: AB9737 BF T6-10, trial: 13, there are: 1020 time-points\n",
      "For patient: AB9737 BF T6-10, trial: 14, there are: 1063 time-points\n",
      "\n",
      "There are 69 samples\n",
      "For patient: AB9119 BF T1-5, trial: 1, there are: 890 time-points\n",
      "For patient: AB9119 BF T1-5, trial: 2, there are: 1001 time-points\n",
      "For patient: AB9119 BF T1-5, trial: 3, there are: 831 time-points\n",
      "For patient: AB9119 BF T1-5, trial: 4, there are: 1051 time-points\n",
      "For patient: AB9119 BF T1-5, trial: 5, there are: 736 time-points\n",
      "For patient: AB9119 BF T1-5, trial: 6, there are: 766 time-points\n",
      "For patient: AB9119 BF T1-5, trial: 7, there are: 664 time-points\n",
      "For patient: AB9119 BF T1-5, trial: 8, there are: 764 time-points\n",
      "For patient: AB9119 BF T1-5, trial: 9, there are: 711 time-points\n",
      "For patient: AB9119 BF T1-5, trial: 10, there are: 755 time-points\n",
      "\n",
      "There are 10 samples\n"
     ]
    }
   ],
   "source": [
    "train_samples = count_nsamples(train_data)\n",
    "val_samples = count_nsamples(val_data)"
   ]
  },
  {
   "cell_type": "code",
   "execution_count": 21,
   "metadata": {},
   "outputs": [
    {
     "name": "stdout",
     "output_type": "stream",
     "text": [
      "Number of train samples: 69\n",
      "Number of validation samples: 10\n"
     ]
    }
   ],
   "source": [
    "print(f'Number of train samples: {train_samples}')\n",
    "print(f'Number of validation samples: {val_samples}')"
   ]
  },
  {
   "cell_type": "code",
   "execution_count": 22,
   "metadata": {},
   "outputs": [],
   "source": [
    "# all_data['Patient ID'] == \"AB5498 BF T6-10\" "
   ]
  },
  {
   "cell_type": "code",
   "execution_count": 23,
   "metadata": {},
   "outputs": [],
   "source": [
    "# os.makedirs('D:\\Study 2 Data\\Pre-process sample', exist_ok=True)  #check if directory exists\n",
    "# all_data.to_csv('D:\\Study 2 Data\\Pre-process sample/exported-data3.csv')  #export data to csv"
   ]
  },
  {
   "cell_type": "markdown",
   "metadata": {},
   "source": [
    "#### Convert Data into numpy array for forming windows"
   ]
  },
  {
   "cell_type": "code",
   "execution_count": 24,
   "metadata": {},
   "outputs": [],
   "source": [
    "m = all_data['Patient ID'].unique()"
   ]
  },
  {
   "cell_type": "code",
   "execution_count": 25,
   "metadata": {},
   "outputs": [],
   "source": [
    "\n",
    "def pd_to_np_converter(data, n_samples, features):\n",
    "    #create a numpy array that stores the data for export\n",
    "    sample_ID = []\n",
    "    # patients = 2\n",
    "    # n_trials = 10\n",
    "    # # samples = patients * n_trials\n",
    "    data_store = np.zeros((n_samples, 2000, len(features)), dtype=np.float32)\n",
    "    i = 0\n",
    "\n",
    "    for p in data['Patient ID'].unique(): #loop over patients \n",
    "        for t in data['Trial'].unique(): #loop over trials starting with trials 1 to trial 9 (inclusive)\n",
    "            pd_array = data[(data['Patient ID'] == p) & (data['Trial'] == t)]\n",
    "            if pd_array.empty:\n",
    "                continue\n",
    "                # print('DataFrame is empty!')\n",
    "                # print(f'Trail {t} does not exist in {p}')\n",
    "            else:\n",
    "                np_array = pd_array.to_numpy()\n",
    "                data_store[i, :np_array.shape[0], :] = np_array[:,3:] \n",
    "                sample_ID.append(p+ ' Ts'+str(t)) \n",
    "                i +=1\n",
    "\n",
    "    return pd_array.columns, data_store\n"
   ]
  },
  {
   "cell_type": "code",
   "execution_count": 26,
   "metadata": {},
   "outputs": [
    {
     "name": "stdout",
     "output_type": "stream",
     "text": [
      "train_data_np.shape: (69, 2000, 6)\n",
      "val_data_np.shape: (10, 2000, 6)\n"
     ]
    }
   ],
   "source": [
    "train_columns, train_data_np = pd_to_np_converter(train_data, train_samples, features)\n",
    "val_columns, val_data_np = pd_to_np_converter(val_data, val_samples, features)\n",
    "\n",
    "print(f'train_data_np.shape: {train_data_np.shape}')\n",
    "print(f'val_data_np.shape: {val_data_np.shape}')"
   ]
  },
  {
   "cell_type": "code",
   "execution_count": 27,
   "metadata": {},
   "outputs": [
    {
     "data": {
      "text/plain": [
       "['Hips Flexion-Extension Left',\n",
       " 'Knees Flexion-Extension Left',\n",
       " 'Ankles Dorsiflexion-Plantarflexion Left',\n",
       " 'Hips Flexion-Extension Right',\n",
       " 'Knees Flexion-Extension Right',\n",
       " 'Ankles Dorsiflexion-Plantarflexion Right']"
      ]
     },
     "execution_count": 27,
     "metadata": {},
     "output_type": "execute_result"
    }
   ],
   "source": [
    "train_columns[3:].tolist() "
   ]
  },
  {
   "cell_type": "code",
   "execution_count": 28,
   "metadata": {},
   "outputs": [
    {
     "data": {
      "text/plain": [
       "True"
      ]
     },
     "execution_count": 28,
     "metadata": {},
     "output_type": "execute_result"
    }
   ],
   "source": [
    "features == train_columns[3:].tolist() "
   ]
  },
  {
   "cell_type": "code",
   "execution_count": 29,
   "metadata": {},
   "outputs": [
    {
     "name": "stdout",
     "output_type": "stream",
     "text": [
      "YAY! Column headers of dataframe match features\n"
     ]
    }
   ],
   "source": [
    "labels_keys = train_columns[3:].tolist() #copy the train columns removing the first column headers'Patient ID', 'Trial', 'Time'\n",
    "\n",
    "\n",
    "if features == labels_keys: # check that the features are the same as the label keys \n",
    "    print('YAY! Column headers of dataframe match features')\n",
    "else:\n",
    "    print('ERROR: Features and labels_keys do not match!')"
   ]
  },
  {
   "cell_type": "markdown",
   "metadata": {},
   "source": [
    "#### Generate Dictionary for Features"
   ]
  },
  {
   "cell_type": "code",
   "execution_count": 30,
   "metadata": {},
   "outputs": [
    {
     "data": {
      "text/plain": [
       "{'Hips Flexion-Extension Left': 0,\n",
       " 'Knees Flexion-Extension Left': 1,\n",
       " 'Ankles Dorsiflexion-Plantarflexion Left': 2,\n",
       " 'Hips Flexion-Extension Right': 3,\n",
       " 'Knees Flexion-Extension Right': 4,\n",
       " 'Ankles Dorsiflexion-Plantarflexion Right': 5}"
      ]
     },
     "execution_count": 30,
     "metadata": {},
     "output_type": "execute_result"
    }
   ],
   "source": [
    "labels_keys = features \n",
    "\n",
    "labels_idx = np.arange(0, len(labels_keys), 1)\n",
    "\n",
    "labels = dict(zip(labels_keys, labels_idx))\n",
    "\n",
    "len(labels)\n",
    "labels\n",
    "# labels_keys"
   ]
  },
  {
   "cell_type": "markdown",
   "metadata": {},
   "source": [
    "#### Process Data: Window Generation"
   ]
  },
  {
   "cell_type": "code",
   "execution_count": 31,
   "metadata": {},
   "outputs": [],
   "source": [
    "def window_generator_nth(sequence, input_window, output_window, stride, features, labels):\n",
    "    \"\"\"\n",
    "    Trims the input sequence from leading and trailing zeros, then generates an array with input windows and another array for the corresponding output windows\n",
    "    Args:\n",
    "        sequence: (np.array, float32) columns are features while rows are time points\n",
    "        features: (list, strin~g) column names\n",
    "        input_window: (int)\n",
    "        stride (int): the value the input window shifts along the sequence \n",
    "    Returns:\n",
    "\n",
    "    \"\"\"\n",
    "    # shortest_seqLen = float('inf')\n",
    "\n",
    "    # f_zeros = [] #array that stores the number of leading zeros for each feature\n",
    "    b_zeros = [] #array that stores the number of trailing zeros for each feacture \n",
    "\n",
    "    for f in features:\n",
    "        # trim the leading and training zeros\n",
    "        # f_zeros.append(sequence[:,labels[f]].shape[0] - np.trim_zeros(sequence[:,labels[f]], 'f').shape[0]) #forward zeros\n",
    "        b_zeros.append(sequence[:,labels[f]].shape[0] - np.trim_zeros(sequence[:,labels[f]], 'b').shape[0]) #backward zeros\n",
    "\n",
    "    # max_f_zeros = max(f_zeros) #find the maximum number of leading zeros\n",
    "    max_b_zeros = max(b_zeros) #find the maximum number of trailing/backward zeros \n",
    "    # print(max_b_zeros)\n",
    "\n",
    "    #total sequence length minus max leading and trailing zeros \n",
    "    trimmed_seqLen = sequence[:,0].shape[0] - (max_b_zeros)    \n",
    "    print(f'trimmed_seqLen: {trimmed_seqLen}')\n",
    "\n",
    "    # Slides are the number of times the input window can scan the sequence \n",
    "    # Using the equation that calculates the number of outputs as in convolution  (W – F + 2P) / S + 1, W=input image width, F=filter width, P=padding, S=stride\n",
    "    # The width of the image is taken as the number of time steps in the sequence, corresponding to the length of any TRIMMED column in the data \n",
    "    slides = ((trimmed_seqLen - (input_window+output_window)) // stride) + 1\n",
    "    print(f\"number of slides is: {slides}\")\n",
    "\n",
    "    # Calculating the first index of each of the output sequences (first index always f_zeros as its always shifted to start with the first non-zero element)\n",
    "    seq_indicies = (np.arange(slides) * stride)\n",
    "\n",
    "    if slides <= 0:\n",
    "        raise ValueError(\"input window and output window length are greater than sequence length, check their values\")\n",
    "\n",
    "    # Creates an zero numpy array to store the samples in \n",
    "    X_values = np.zeros((len(seq_indicies) , input_window, len(features)))\n",
    "    Y_values = np.zeros((len(seq_indicies), 1, len(features)))\n",
    "\n",
    "    # Loop through the features, then loop through the list of sequence indicies needed for input and output windows \n",
    "    for j, feature in enumerate(features):\n",
    "        # print(j)\n",
    "        # print(feature)\n",
    "        for i, idx in enumerate(seq_indicies):\n",
    "            X_values[i, :, j] = sequence[idx:idx+input_window, labels[feature]]\n",
    "            Y_values[i, :, j] = sequence[idx+input_window + output_window-1, labels[feature]]\n",
    "        \n",
    "    \n",
    "    print(f'shapeX: {X_values.shape}')\n",
    "    print(f'shapeY: {Y_values.shape}')\n",
    "\n",
    "    return X_values, Y_values \n"
   ]
  },
  {
   "cell_type": "code",
   "execution_count": 39,
   "metadata": {},
   "outputs": [],
   "source": [
    "def window_generator_fltrd(sequence, input_window, output_window, stride, features, labels):\n",
    "    \"\"\"\n",
    "    Trims the input sequence from leading and trailing zeros, then generates an array with input windows and another array for the corresponding output windows\n",
    "    Args:\n",
    "        sequence: (np.array, float32) columns are features while rows are time points\n",
    "        features: (list, strin~g) column names\n",
    "        input_window: (int)\n",
    "        stride (int): the value the input window shifts along the sequence \n",
    "    Returns:\n",
    "\n",
    "    \"\"\"\n",
    "    # shortest_seqLen = float('inf')\n",
    "\n",
    "    # f_zeros = [] #array that stores the number of leading zeros for each feature\n",
    "    b_zeros = [] #array that stores the number of trailing zeros for each feacture \n",
    "\n",
    "    for f in features:\n",
    "        # trim the leading and training zeros\n",
    "        # f_zeros.append(sequence[:,labels[f]].shape[0] - np.trim_zeros(sequence[:,labels[f]], 'f').shape[0]) #forward zeros\n",
    "        b_zeros.append(sequence[:,labels[f]].shape[0] - np.trim_zeros(sequence[:,labels[f]], 'b').shape[0]) #backward zeros\n",
    "\n",
    "    # max_f_zeros = max(f_zeros) #find the maximum number of leading zeros\n",
    "    max_b_zeros = max(b_zeros) #find the maximum number of trailing/backward zeros \n",
    "    # print(max_b_zeros)\n",
    "\n",
    "    #total sequence length minus max leading and trailing zeros \n",
    "    trimmed_seqLen = sequence[:,0].shape[0] - (max_b_zeros)\n",
    "    trimmed_seqLen_reduced = trimmed_seqLen - 200 #reducing sequence size to remove the first and last 200 timesteps which may contain errors   \n",
    "    print(f'trimmed_seqLen: {trimmed_seqLen}')\n",
    "    print(f'trimmed_seqLen_reduced: {trimmed_seqLen_reduced}')\n",
    "\n",
    "\n",
    "    # Slides are the number of times the input window can scan the sequence \n",
    "    # Using the equation that calculates the number of outputs as in convolution  (W – F + 2P) / S + 1, W=input image width, F=filter width, P=padding, S=stride\n",
    "    # The width of the image is taken as the number of time steps in the sequence, corresponding to the length of any TRIMMED column in the data \n",
    "    slides = ((trimmed_seqLen_reduced - (input_window+output_window)) // stride) + 1\n",
    "    print(f\"number of slides is: {slides}\")\n",
    "\n",
    "    # Calculating the first index of each of the output sequences (first index always f_zeros as its always shifted to start with the first non-zero element)\n",
    "    seq_indicies = (np.arange(slides) * stride) + 100\n",
    "\n",
    "    if slides <= 0:\n",
    "        raise ValueError(\"input window and output window length are greater than sequence length, check their values\")\n",
    "\n",
    "    # Creates an zero numpy array to store the samples in \n",
    "    X_values = np.zeros((len(seq_indicies) , input_window, len(features)))\n",
    "    Y_values = np.zeros((len(seq_indicies), output_window, len(features)))\n",
    "\n",
    "    # Loop through the features, then loop through the list of sequence indicies needed for input and output windows \n",
    "    for j, feature in enumerate(features):\n",
    "        # print(j)\n",
    "        # print(feature)\n",
    "        for i, idx in enumerate(seq_indicies):\n",
    "            X_values[i, :, j] = sequence[idx:idx+input_window, labels[feature]]\n",
    "            Y_values[i, :, j] = sequence[idx+input_window:idx+input_window + output_window, labels[feature]]\n",
    "\n",
    "    return X_values, Y_values "
   ]
  },
  {
   "cell_type": "code",
   "execution_count": 40,
   "metadata": {},
   "outputs": [],
   "source": [
    "# #Testing window method\n",
    "# sequence=train_data_np[2, :30,:]\n",
    "# # f_zeros = [] #array that stores the number of leading zeros for each feature\n",
    "# b_zeros = [] #array that stores the number of trailing zeros for each feacture \n",
    "\n",
    "# for f in features:\n",
    "#     # trim the leading and training zeros\n",
    "#     # f_zeros.append(sequence[:,labels[f]].shape[0] - np.trim_zeros(sequence[:,labels[f]], 'f').shape[0]) #forward zeros\n",
    "#     b_zeros.append(sequence[:,labels[f]].shape[0] - np.trim_zeros(sequence[:,labels[f]], 'b').shape[0]) #backward zeros\n",
    "\n",
    "# # max_f_zeros = max(f_zeros) #find the maximum number of leading zeros\n",
    "# max_b_zeros = max(b_zeros) #find the maximum number of trailing/backward zeros \n",
    "# # print(max_b_zeros)\n",
    "\n",
    "# #total sequence length minus max leading and trailing zeros \n",
    "# trimmed_seqLen = sequence[:,0].shape[0] - (max_b_zeros)    \n",
    "# print(f'trimmed_seqLen: {trimmed_seqLen}')\n",
    "\n",
    "# # Slides are the number of times the input window can scan the sequence \n",
    "# # Using the equation that calculates the number of outputs as in convolution  (W – F + 2P) / S + 1, W=input image width, F=filter width, P=padding, S=stride\n",
    "# # The width of the image is taken as the number of time steps in the sequence, corresponding to the length of any TRIMMED column in the data \n",
    "# slides = ((trimmed_seqLen - (input_window+output_window)) // stride) + 1\n",
    "# print(f\"number of slides is: {slides}\")\n",
    "\n",
    "# # Calculating the first index of each of the output sequences (first index always f_zeros as its always shifted to start with the first non-zero element)\n",
    "# seq_indicies = (np.arange(slides) * stride)\n",
    "\n",
    "# if slides <= 0:\n",
    "#     raise ValueError(\"input window and output window length are greater than sequence length, check their values\")\n",
    "\n",
    "# # Creates an zero numpy array to store the samples in \n",
    "# X_values = np.zeros((len(seq_indicies) , input_window, len(features)))\n",
    "# Y_values = np.zeros((len(seq_indicies), 1, len(features)))\n",
    "# Yt_values = np.zeros((len(seq_indicies), output_window, len(features)))\n",
    "\n",
    "\n",
    "# # Loop through the features, then loop through the list of sequence indicies needed for input and output windows \n",
    "# for j, feature in enumerate(features):\n",
    "#     # print(j)\n",
    "#     # print(feature)\n",
    "#     for i, idx in enumerate(seq_indicies):\n",
    "#         X_values[i, :, j] = sequence[idx:idx+input_window, labels[feature]]\n",
    "#         Yt_values[i, :, j] = sequence[idx+input_window:idx+input_window + output_window, labels[feature]]\n",
    "\n",
    "#         Y_values[i, :, j] = sequence[idx+input_window + output_window -1, labels[feature]] #just get the nth index (:5 means up to 5 and not inclusive)\n",
    "#         # print(idx+input_window + output_window)\n",
    "#         # Y_values[i, :, j] = sequence[idx+input_window + output_window, labels[feature]]\n",
    "\n",
    "\n",
    "# sequence\n",
    "\n",
    "# print('X_values')\n",
    "# print(X_values[2,:,4])\n",
    "\n",
    "# print('Y_values')\n",
    "# print(Y_values[2,:,4])\n",
    "\n",
    "# print('Yt_values')\n",
    "# print(Yt_values[2,:,4])"
   ]
  },
  {
   "cell_type": "code",
   "execution_count": 41,
   "metadata": {},
   "outputs": [
    {
     "name": "stdout",
     "output_type": "stream",
     "text": [
      "trimmed_seqLen: 651\n",
      "trimmed_seqLen_reduced: 451\n",
      "number of slides is: 351\n",
      "trimmed_seqLen: 541\n",
      "trimmed_seqLen_reduced: 341\n",
      "number of slides is: 241\n",
      "trimmed_seqLen: 613\n",
      "trimmed_seqLen_reduced: 413\n",
      "number of slides is: 313\n",
      "trimmed_seqLen: 601\n",
      "trimmed_seqLen_reduced: 401\n",
      "number of slides is: 301\n",
      "trimmed_seqLen: 711\n",
      "trimmed_seqLen_reduced: 511\n",
      "number of slides is: 411\n",
      "trimmed_seqLen: 651\n",
      "trimmed_seqLen_reduced: 451\n",
      "number of slides is: 351\n",
      "trimmed_seqLen: 1031\n",
      "trimmed_seqLen_reduced: 831\n",
      "number of slides is: 731\n",
      "trimmed_seqLen: 896\n",
      "trimmed_seqLen_reduced: 696\n",
      "number of slides is: 596\n",
      "trimmed_seqLen: 812\n",
      "trimmed_seqLen_reduced: 612\n",
      "number of slides is: 512\n",
      "trimmed_seqLen: 761\n",
      "trimmed_seqLen_reduced: 561\n",
      "number of slides is: 461\n",
      "trimmed_seqLen: 733\n",
      "trimmed_seqLen_reduced: 533\n",
      "number of slides is: 433\n",
      "trimmed_seqLen: 731\n",
      "trimmed_seqLen_reduced: 531\n",
      "number of slides is: 431\n",
      "trimmed_seqLen: 682\n",
      "trimmed_seqLen_reduced: 482\n",
      "number of slides is: 382\n",
      "trimmed_seqLen: 710\n",
      "trimmed_seqLen_reduced: 510\n",
      "number of slides is: 410\n",
      "trimmed_seqLen: 708\n",
      "trimmed_seqLen_reduced: 508\n",
      "number of slides is: 408\n",
      "trimmed_seqLen: 682\n",
      "trimmed_seqLen_reduced: 482\n",
      "number of slides is: 382\n",
      "trimmed_seqLen: 675\n",
      "trimmed_seqLen_reduced: 475\n",
      "number of slides is: 375\n",
      "trimmed_seqLen: 900\n",
      "trimmed_seqLen_reduced: 700\n",
      "number of slides is: 600\n",
      "trimmed_seqLen: 761\n",
      "trimmed_seqLen_reduced: 561\n",
      "number of slides is: 461\n",
      "trimmed_seqLen: 1004\n",
      "trimmed_seqLen_reduced: 804\n",
      "number of slides is: 704\n",
      "trimmed_seqLen: 781\n",
      "trimmed_seqLen_reduced: 581\n",
      "number of slides is: 481\n",
      "trimmed_seqLen: 689\n",
      "trimmed_seqLen_reduced: 489\n",
      "number of slides is: 389\n",
      "trimmed_seqLen: 792\n",
      "trimmed_seqLen_reduced: 592\n",
      "number of slides is: 492\n",
      "trimmed_seqLen: 735\n",
      "trimmed_seqLen_reduced: 535\n",
      "number of slides is: 435\n",
      "trimmed_seqLen: 835\n",
      "trimmed_seqLen_reduced: 635\n",
      "number of slides is: 535\n",
      "trimmed_seqLen: 761\n",
      "trimmed_seqLen_reduced: 561\n",
      "number of slides is: 461\n",
      "trimmed_seqLen: 790\n",
      "trimmed_seqLen_reduced: 590\n",
      "number of slides is: 490\n",
      "trimmed_seqLen: 687\n",
      "trimmed_seqLen_reduced: 487\n",
      "number of slides is: 387\n",
      "trimmed_seqLen: 775\n",
      "trimmed_seqLen_reduced: 575\n",
      "number of slides is: 475\n",
      "trimmed_seqLen: 1055\n",
      "trimmed_seqLen_reduced: 855\n",
      "number of slides is: 755\n",
      "trimmed_seqLen: 914\n",
      "trimmed_seqLen_reduced: 714\n",
      "number of slides is: 614\n",
      "trimmed_seqLen: 893\n",
      "trimmed_seqLen_reduced: 693\n",
      "number of slides is: 593\n",
      "trimmed_seqLen: 962\n",
      "trimmed_seqLen_reduced: 762\n",
      "number of slides is: 662\n",
      "trimmed_seqLen: 830\n",
      "trimmed_seqLen_reduced: 630\n",
      "number of slides is: 530\n",
      "trimmed_seqLen: 721\n",
      "trimmed_seqLen_reduced: 521\n",
      "number of slides is: 421\n",
      "trimmed_seqLen: 731\n",
      "trimmed_seqLen_reduced: 531\n",
      "number of slides is: 431\n",
      "trimmed_seqLen: 771\n",
      "trimmed_seqLen_reduced: 571\n",
      "number of slides is: 471\n",
      "trimmed_seqLen: 663\n",
      "trimmed_seqLen_reduced: 463\n",
      "number of slides is: 363\n",
      "trimmed_seqLen: 754\n",
      "trimmed_seqLen_reduced: 554\n",
      "number of slides is: 454\n",
      "trimmed_seqLen: 1027\n",
      "trimmed_seqLen_reduced: 827\n",
      "number of slides is: 727\n",
      "trimmed_seqLen: 1066\n",
      "trimmed_seqLen_reduced: 866\n",
      "number of slides is: 766\n",
      "trimmed_seqLen: 1061\n",
      "trimmed_seqLen_reduced: 861\n",
      "number of slides is: 761\n",
      "trimmed_seqLen: 880\n",
      "trimmed_seqLen_reduced: 680\n",
      "number of slides is: 580\n",
      "trimmed_seqLen: 995\n",
      "trimmed_seqLen_reduced: 795\n",
      "number of slides is: 695\n",
      "trimmed_seqLen: 921\n",
      "trimmed_seqLen_reduced: 721\n",
      "number of slides is: 621\n",
      "trimmed_seqLen: 897\n",
      "trimmed_seqLen_reduced: 697\n",
      "number of slides is: 597\n",
      "trimmed_seqLen: 920\n",
      "trimmed_seqLen_reduced: 720\n",
      "number of slides is: 620\n",
      "trimmed_seqLen: 836\n",
      "trimmed_seqLen_reduced: 636\n",
      "number of slides is: 536\n",
      "trimmed_seqLen: 874\n",
      "trimmed_seqLen_reduced: 674\n",
      "number of slides is: 574\n",
      "trimmed_seqLen: 801\n",
      "trimmed_seqLen_reduced: 601\n",
      "number of slides is: 501\n",
      "trimmed_seqLen: 877\n",
      "trimmed_seqLen_reduced: 677\n",
      "number of slides is: 577\n",
      "trimmed_seqLen: 833\n",
      "trimmed_seqLen_reduced: 633\n",
      "number of slides is: 533\n",
      "trimmed_seqLen: 811\n",
      "trimmed_seqLen_reduced: 611\n",
      "number of slides is: 511\n",
      "trimmed_seqLen: 909\n",
      "trimmed_seqLen_reduced: 709\n",
      "number of slides is: 609\n",
      "trimmed_seqLen: 824\n",
      "trimmed_seqLen_reduced: 624\n",
      "number of slides is: 524\n",
      "trimmed_seqLen: 1843\n",
      "trimmed_seqLen_reduced: 1643\n",
      "number of slides is: 1543\n",
      "trimmed_seqLen: 1565\n",
      "trimmed_seqLen_reduced: 1365\n",
      "number of slides is: 1265\n",
      "trimmed_seqLen: 1296\n",
      "trimmed_seqLen_reduced: 1096\n",
      "number of slides is: 996\n",
      "trimmed_seqLen: 1241\n",
      "trimmed_seqLen_reduced: 1041\n",
      "number of slides is: 941\n",
      "trimmed_seqLen: 1251\n",
      "trimmed_seqLen_reduced: 1051\n",
      "number of slides is: 951\n",
      "trimmed_seqLen: 951\n",
      "trimmed_seqLen_reduced: 751\n",
      "number of slides is: 651\n",
      "trimmed_seqLen: 1170\n",
      "trimmed_seqLen_reduced: 970\n",
      "number of slides is: 870\n",
      "trimmed_seqLen: 1201\n",
      "trimmed_seqLen_reduced: 1001\n",
      "number of slides is: 901\n",
      "trimmed_seqLen: 1051\n",
      "trimmed_seqLen_reduced: 851\n",
      "number of slides is: 751\n",
      "trimmed_seqLen: 1023\n",
      "trimmed_seqLen_reduced: 823\n",
      "number of slides is: 723\n",
      "trimmed_seqLen: 1026\n",
      "trimmed_seqLen_reduced: 826\n",
      "number of slides is: 726\n",
      "trimmed_seqLen: 1063\n",
      "trimmed_seqLen_reduced: 863\n",
      "number of slides is: 763\n",
      "trimmed_seqLen: 1020\n",
      "trimmed_seqLen_reduced: 820\n",
      "number of slides is: 720\n",
      "trimmed_seqLen: 1063\n",
      "trimmed_seqLen_reduced: 863\n",
      "number of slides is: 763\n",
      "shape of X_train_windows: (62100, 100, 6)\n",
      "shape of Y_train_windows: (62100, 1, 6)\n",
      "shape of X_train_data: (40589, 100, 6)\n",
      "shape of Y_train_data: (40589, 1, 6)\n"
     ]
    }
   ],
   "source": [
    "# Creating training datasets\n",
    "# Selecting the features to be used when creating windows \n",
    "approx_seq_len = 2000 # appoximate the length of the longest sequence that can be encountered \n",
    "# samples_per_file = ((approx_seq_len - (input_window+output_window)) // stride) + 1 #number of window samples generated per file \n",
    "samples_per_file =900\n",
    "\n",
    "\n",
    "# create a zero-filled 3D array with shape (number of samples * number of files, window size, number of features)\n",
    "X_train_windows = np.zeros((samples_per_file*train_samples, input_window, len(features)), dtype=np.float32) #size can be reduced by decreasing train_size \n",
    "Y_train_windows = np.zeros((samples_per_file*train_samples, 1, len(features)), dtype=np.float32) \n",
    "\n",
    "\n",
    "start_idx = 0 #setting start index to equal zero \n",
    "train_sample_sum = 0\n",
    "train_excluded_samples = []\n",
    "# Create training windows \n",
    "\n",
    "#for i in tqdm(range(train_size)): #Use for including all data including outliers \n",
    "for i in range(train_samples): \n",
    "       \n",
    "    X_values, Y_values = window_generator_fltrd(\n",
    "        train_data_np[i,:,:],\n",
    "        input_window=input_window, \n",
    "        output_window=output_window, \n",
    "        stride=stride, \n",
    "        features=features,\n",
    "        labels=labels\n",
    "        )\n",
    "\n",
    "    end_idx = start_idx + X_values.shape[0]\n",
    "\n",
    "    # print(f'file number [{f}] start index: {start_idx}, end index: {end_idx}, number of samples: {X_values.shape[0]}')\n",
    "\n",
    "    X_train_windows[start_idx:end_idx, :, :] = X_values\n",
    "    Y_train_windows[start_idx:end_idx, :, :] = Y_values\n",
    "\n",
    "    # print(f'number of samples copied: {X_train_data_store[start_idx:end_idx, :, :].shape[0]}')\n",
    "\n",
    "    start_idx = end_idx \n",
    "    train_sample_sum += X_values.shape[0]\n",
    "\n",
    "    # except Exception:\n",
    "    #     exception_msg(i)\n",
    "    #     train_excluded_samples.append(i)\n",
    "\n",
    "# print(f\"Completed storage of training windows samples, which contains {X_train_data_store.shape[0]} samples\")\n",
    "X_train_data = X_train_windows[:end_idx, :, :]\n",
    "Y_train_data = Y_train_windows[:end_idx, :, :]\n",
    "\n",
    "\n",
    "print(f'shape of X_train_windows: {X_train_windows.shape}')\n",
    "print(f'shape of Y_train_windows: {Y_train_windows.shape}')\n",
    "\n",
    "print(f'shape of X_train_data: {X_train_data.shape}')\n",
    "print(f'shape of Y_train_data: {Y_train_data.shape}')"
   ]
  },
  {
   "cell_type": "code",
   "execution_count": 42,
   "metadata": {},
   "outputs": [
    {
     "name": "stdout",
     "output_type": "stream",
     "text": [
      "trimmed_seqLen: 890\n",
      "trimmed_seqLen_reduced: 690\n",
      "number of slides is: 590\n",
      "trimmed_seqLen: 1001\n",
      "trimmed_seqLen_reduced: 801\n",
      "number of slides is: 701\n",
      "trimmed_seqLen: 831\n",
      "trimmed_seqLen_reduced: 631\n",
      "number of slides is: 531\n",
      "trimmed_seqLen: 1051\n",
      "trimmed_seqLen_reduced: 851\n",
      "number of slides is: 751\n",
      "trimmed_seqLen: 736\n",
      "trimmed_seqLen_reduced: 536\n",
      "number of slides is: 436\n",
      "trimmed_seqLen: 766\n",
      "trimmed_seqLen_reduced: 566\n",
      "number of slides is: 466\n",
      "trimmed_seqLen: 664\n",
      "trimmed_seqLen_reduced: 464\n",
      "number of slides is: 364\n",
      "trimmed_seqLen: 764\n",
      "trimmed_seqLen_reduced: 564\n",
      "number of slides is: 464\n",
      "trimmed_seqLen: 711\n",
      "trimmed_seqLen_reduced: 511\n",
      "number of slides is: 411\n",
      "trimmed_seqLen: 755\n",
      "trimmed_seqLen_reduced: 555\n",
      "number of slides is: 455\n",
      "shape of X_val_windows: (9000, 100, 6)\n",
      "shape of Y_val_windows: (9000, 1, 6)\n",
      "shape of X_val_data: (5169, 100, 6)\n",
      "shape of Y_val_data: (5169, 1, 6)\n"
     ]
    }
   ],
   "source": [
    "# Creating validation datasets\n",
    "# Selecting the features to be used when creating windows \n",
    "approx_seq_len = 2000 # appoximate the length of the longest sequence that can be encountered \n",
    "# samples_per_file = ((approx_seq_len - (input_window+output_window)) // stride) + 1 #number of window samples generated per file \n",
    "samples_per_file = 900\n",
    "\n",
    "\n",
    "# create a zero-filled 3D array with shape (number of samples * number of files, window size, number of features)\n",
    "X_val_windows = np.zeros((samples_per_file*val_samples, input_window, len(features)), dtype=np.float32) #size can be reduced by decreasing train_size \n",
    "Y_val_windows = np.zeros((samples_per_file*val_samples, 1, len(features)), dtype=np.float32) \n",
    "\n",
    "\n",
    "start_idx = 0 #setting start index to equal zero \n",
    "val_sample_sum = 0\n",
    "val_excluded_samples = []\n",
    "# Create training windows \n",
    "\n",
    "#for i in tqdm(range(train_size)): #Use for including all data including outliers \n",
    "for i in range(val_samples): \n",
    "       \n",
    "    X_values, Y_values = window_generator_fltrd(\n",
    "        val_data_np[i,:,:],\n",
    "        input_window=input_window, \n",
    "        output_window=output_window, \n",
    "        stride=stride, \n",
    "        features=features,\n",
    "        labels=labels\n",
    "        )\n",
    "\n",
    "    end_idx = start_idx + X_values.shape[0]\n",
    "\n",
    "    # print(f'file number [{f}] start index: {start_idx}, end index: {end_idx}, number of samples: {X_values.shape[0]}')\n",
    "\n",
    "    X_val_windows[start_idx:end_idx, :, :] = X_values\n",
    "    Y_val_windows[start_idx:end_idx, :, :] = Y_values\n",
    "\n",
    "    # print(f'number of samples copied: {X_train_data_store[start_idx:end_idx, :, :].shape[0]}')\n",
    "\n",
    "    start_idx = end_idx \n",
    "    val_sample_sum += X_values.shape[0]\n",
    "\n",
    "    # except Exception:\n",
    "    #     exception_msg(i)\n",
    "    #     train_excluded_samples.append(i)\n",
    "\n",
    "# print(f\"Completed storage of training windows samples, which contains {X_train_data_store.shape[0]} samples\")\n",
    "X_val_data = X_val_windows[:end_idx, :, :]\n",
    "Y_val_data = Y_val_windows[:end_idx, :, :]\n",
    "\n",
    "\n",
    "print(f'shape of X_val_windows: {X_val_windows.shape}')\n",
    "print(f'shape of Y_val_windows: {Y_val_windows.shape}')\n",
    "\n",
    "print(f'shape of X_val_data: {X_val_data.shape}')\n",
    "print(f'shape of Y_val_data: {Y_val_data.shape}')"
   ]
  },
  {
   "cell_type": "code",
   "execution_count": 43,
   "metadata": {},
   "outputs": [
    {
     "data": {
      "image/png": "[encoded data removed]",
      "text/plain": [
       "<Figure size 432x288 with 1 Axes>"
      ]
     },
     "metadata": {
      "needs_background": "light"
     },
     "output_type": "display_data"
    },
    {
     "data": {
      "image/png": "[encoded data removed]",
      "text/plain": [
       "<Figure size 432x288 with 1 Axes>"
      ]
     },
     "metadata": {
      "needs_background": "light"
     },
     "output_type": "display_data"
    },
    {
     "data": {
      "image/png": "[encoded data removed]",
      "text/plain": [
       "<Figure size 432x288 with 1 Axes>"
      ]
     },
     "metadata": {
      "needs_background": "light"
     },
     "output_type": "display_data"
    },
    {
     "data": {
      "image/png": "[encoded data removed]",
      "text/plain": [
       "<Figure size 432x288 with 1 Axes>"
      ]
     },
     "metadata": {
      "needs_background": "light"
     },
     "output_type": "display_data"
    },
    {
     "data": {
      "image/png": "[encoded data removed]",
      "text/plain": [
       "<Figure size 432x288 with 1 Axes>"
      ]
     },
     "metadata": {
      "needs_background": "light"
     },
     "output_type": "display_data"
    },
    {
     "data": {
      "image/png": "[encoded data removed]",
      "text/plain": [
       "<Figure size 432x288 with 1 Axes>"
      ]
     },
     "metadata": {
      "needs_background": "light"
     },
     "output_type": "display_data"
    }
   ],
   "source": [
    "# Plot histogram of the data \n",
    "for f in range(len(features)):\n",
    "    plt.hist(Y_train_data[:,:,f].reshape(-1,1), label = features[f], bins=50, range=(Y_train_data.min(), Y_train_data.max()))\n",
    "    plt.legend()\n",
    "    plt.show()"
   ]
  },
  {
   "cell_type": "markdown",
   "metadata": {},
   "source": [
    "#### Process Data: Normalisation/Standarisation"
   ]
  },
  {
   "cell_type": "code",
   "execution_count": 44,
   "metadata": {},
   "outputs": [
    {
     "data": {
      "text/plain": [
       "array([[-30.96504974, -10.40592957, -49.7908783 , -34.75827026,\n",
       "        -15.14066029, -47.07204819],\n",
       "       [ 63.01054001,  87.99124146,  27.9573307 ,  61.78282166,\n",
       "         85.05821228,  31.47718048]])"
      ]
     },
     "execution_count": 44,
     "metadata": {},
     "output_type": "execute_result"
    }
   ],
   "source": [
    "X_train_norm, scalars = normalise_fit(X_train_data)\n",
    "Y_train_norm = normalise_transform(Y_train_data, scalars)\n",
    "\n",
    "\n",
    "X_val_norm = normalise_transform(X_val_data, scalars)\n",
    "Y_val_norm = normalise_transform(Y_val_data, scalars)\n",
    "\n",
    "\n",
    "scalars"
   ]
  },
  {
   "cell_type": "code",
   "execution_count": 45,
   "metadata": {},
   "outputs": [
    {
     "data": {
      "image/png": "[encoded data removed]",
      "text/plain": [
       "<Figure size 432x288 with 1 Axes>"
      ]
     },
     "metadata": {
      "needs_background": "light"
     },
     "output_type": "display_data"
    },
    {
     "data": {
      "image/png": "[encoded data removed]",
      "text/plain": [
       "<Figure size 432x288 with 1 Axes>"
      ]
     },
     "metadata": {
      "needs_background": "light"
     },
     "output_type": "display_data"
    },
    {
     "data": {
      "image/png": "[encoded data removed]",
      "text/plain": [
       "<Figure size 432x288 with 1 Axes>"
      ]
     },
     "metadata": {
      "needs_background": "light"
     },
     "output_type": "display_data"
    },
    {
     "data": {
      "image/png": "[encoded data removed]",
      "text/plain": [
       "<Figure size 432x288 with 1 Axes>"
      ]
     },
     "metadata": {
      "needs_background": "light"
     },
     "output_type": "display_data"
    },
    {
     "data": {
      "image/png": "[encoded data removed]",
      "text/plain": [
       "<Figure size 432x288 with 1 Axes>"
      ]
     },
     "metadata": {
      "needs_background": "light"
     },
     "output_type": "display_data"
    },
    {
     "data": {
      "image/png": "[encoded data removed]",
      "text/plain": [
       "<Figure size 432x288 with 1 Axes>"
      ]
     },
     "metadata": {
      "needs_background": "light"
     },
     "output_type": "display_data"
    }
   ],
   "source": [
    "# Plot histogram of the data \n",
    "for f in range(len(features)):\n",
    "    plt.hist(Y_train_norm[:,:,f].reshape(-1,1), bins=50, label = features[f])\n",
    "    plt.legend()\n",
    "    plt.show()"
   ]
  },
  {
   "cell_type": "code",
   "execution_count": 46,
   "metadata": {},
   "outputs": [],
   "source": [
    "# Creates dataset object that gets individual samples for training/testing so that the Dataloader can generate batches\n",
    "class gaitDataset(Dataset):\n",
    "    def __init__(self, x, y):\n",
    "        self.x = x \n",
    "        self.y = y \n",
    "\n",
    "    def __len__(self):\n",
    "        return self.x.shape[0]\n",
    "    \n",
    "    def __getitem__(self, index):\n",
    "        X_sample = self.x[index, :, :]\n",
    "        Y_sample = self.y[index, :]\n",
    "        return X_sample, Y_sample"
   ]
  },
  {
   "cell_type": "code",
   "execution_count": 47,
   "metadata": {},
   "outputs": [
    {
     "name": "stdout",
     "output_type": "stream",
     "text": [
      "X_train shape: torch.Size([40589, 100, 6])\n",
      "Y_train shape: torch.Size([40589, 6])\n",
      "X_val shape: torch.Size([5169, 100, 6])\n",
      "Y_val shape: torch.Size([5169, 6])\n"
     ]
    }
   ],
   "source": [
    "# Convert to Tensor \n",
    "# do not store on GPU (yet)\n",
    "X_train = torch.from_numpy(X_train_norm).float()\n",
    "Y_train = torch.from_numpy(Y_train_norm).float().squeeze()\n",
    "\n",
    "X_val = torch.from_numpy(X_val_norm).float()\n",
    "Y_val = torch.from_numpy(Y_val_norm).float().squeeze()\n",
    "\n",
    "print(f'X_train shape: {X_train.shape}')\n",
    "print(f'Y_train shape: {Y_train.shape}')\n",
    "\n",
    "print(f'X_val shape: {X_val.shape}')\n",
    "print(f'Y_val shape: {Y_val.shape}')\n"
   ]
  },
  {
   "cell_type": "code",
   "execution_count": 48,
   "metadata": {},
   "outputs": [
    {
     "name": "stdout",
     "output_type": "stream",
     "text": [
      "Train Dataset length: 40589\n",
      "Val Dataset length: 5169\n"
     ]
    }
   ],
   "source": [
    "train_dataset = gaitDataset(X_train, Y_train)\n",
    "# train_dataloader = DataLoader(train_dataset, batch_size=len(train_dataset), shuffle = False)\n",
    "train_dataloader = DataLoader(train_dataset, batch_size=16, shuffle = True)\n",
    "\n",
    "val_dataset = gaitDataset(X_val, Y_val) #ADJUSTED\n",
    "# val_dataloader = DataLoader(val_dataset, batch_size=len(val_dataset), shuffle=False)\n",
    "val_dataloader = DataLoader(val_dataset, batch_size=16, shuffle=True)\n",
    "\n",
    "# batch_size = 32\n",
    "print(f\"Train Dataset length: {len(train_dataset)}\")\n",
    "print(f\"Val Dataset length: {len(val_dataset)}\")\n"
   ]
  },
  {
   "cell_type": "markdown",
   "metadata": {},
   "source": [
    "## Hyperparameter Optimisation"
   ]
  },
  {
   "cell_type": "code",
   "execution_count": 49,
   "metadata": {},
   "outputs": [],
   "source": [
    "# # useful resources: https://www.youtube.com/watch?v=8A6TEjG2DNw (LSTM Time Series Prediction Tutorial using PyTorch in Python | Coronavirus Daily Cases Forecasting)\n",
    "# LSTM model \n",
    "class LSTM(nn.Module):\n",
    "    def __init__(self, input_size, in_seq_len, out_seq_len, output_size, params, device):\n",
    "        super(LSTM, self).__init__()\n",
    "        '''\n",
    "        nn.lstm: \n",
    "        input_size = number of features in input, if batch_first = TRUE (batchSize, seq_len, Hin) FEATURES\n",
    "        hidden_size = number of features in hidden state\n",
    "        num_layers\n",
    "        batch_first = if TRUE (batch, seq, Hin) Hin may mean input features\n",
    "        h_0 = (D * num_layers, batchSize, Hout)\n",
    "        c_0 = (D * num_layers, batchSize, Hcell)\n",
    "\n",
    "        output = (batchSize, seq_len, D * Hout) Hout may mean output features, if batch first = TRUE \n",
    "        h_0 = (D*num_layers, N, Hout) final state for each element in the batch \n",
    "        C_0 = (D*num_layers, N, Hcell) final cell state for each element \n",
    "\n",
    "        nn.linear:\n",
    "        input_size = (N,*, Hin) Hin = input_features (equal to hidden size therefore is arbitrarily set)\n",
    "        output_size = (N, *, Hout) Hout = output features (equal to output_size passed in to the model) \n",
    "\n",
    "        '''\n",
    "        # Pytorch documentation: \n",
    "        # >>> rnn = nn.LSTM(10, 20, 2) features, hidden_size, number of layers \n",
    "        # >>> input = torch.randn(5, 3, 10) in_seq_len, batch_size, hidden_size (batch size should not be input to the mode, inferred from the shape of the input and will be the first number if batch_first = TRUE)\n",
    "        # >>> h0 = torch.randn(2, 3, 20)\n",
    "        # >>> c0 = torch.randn(2, 3, 20)\n",
    "        # >>> output, (hn, cn) = rnn(input, (h0, c0))\n",
    "\n",
    "        self.input_size = input_size\n",
    "        self.hidden_size = params['hidden_size']\n",
    "        self.num_layers = params['num_layers']\n",
    "        self.in_seq_len = in_seq_len\n",
    "        self.output_size = output_size \n",
    "        self.out_seq_len = 1 # make this default\n",
    "        self.device = device\n",
    "        \n",
    "        # nn.LSTM(features, hidden_size, number of layers)\n",
    "        self.lstm = nn.LSTM(input_size=self.input_size, hidden_size=self.hidden_size, num_layers=self.num_layers, batch_first = True)\n",
    "\n",
    "        #nn.fc1\n",
    "        self.fc1 = nn.Linear(in_features=self.hidden_size, out_features=(self.output_size * self.out_seq_len))\n",
    "        # self.fc1 = nn.Linear(in_features=self.hidden_size, out_features=(self.output_size * self.out_seq_len))\n",
    "\n",
    "\n",
    "    def forward(self, input_data):\n",
    "\n",
    "        # initialise hidden and cell states after passing through each batch (this is skipped in stateless model)\n",
    "        h_0 = torch.zeros(self.num_layers, input_data.shape[0], self.hidden_size).to(self.device) # input_data.shape[0] is equal to batch size\n",
    "        c_0 = torch.zeros(self.num_layers, input_data.shape[0], self.hidden_size).to(self.device)\n",
    "\n",
    "        #propagate through LSTM\n",
    "        lstm_out, (h_out, c_out) = self.lstm(input_data, (h_0, c_0))\n",
    "        # lsmt_out.shape = (batch_size,seq_length, hidden_size)\n",
    "        # print('lstm_out[-1][-1]')\n",
    "        # print(lstm_out[-1][-1])\n",
    "\n",
    "        # print('h_out[-1][-1]')\n",
    "        # print(h_out[-1][-1])\n",
    "        # if lstm_out[-1][-1] == h_out[-1][-1]:\n",
    "        #     print(lstm_out[-1][-1])\n",
    "            \n",
    "        # print(f'lsmt_out: {lstm_out.shape}')\n",
    "        # print(f'h_out: {h_out.shape}')\n",
    "        # print(f'h_out: {h_out.shape}')\n",
    "\n",
    "        # propagate through linear layer \n",
    "        fc1_out = self.fc1(h_out[-1])\n",
    "        # fc1_out = self.fc1(lstm_out)\n",
    "        # print(f'preds.shape (before reshaping): {fc1_out.shape}')\n",
    "        \n",
    "        preds = fc1_out.reshape(input_data.shape[0], self.out_seq_len, self.output_size)\n",
    "        # print(f'preds.shape (after reshaping): {preds.shape}')\n",
    "        \n",
    "        return preds"
   ]
  },
  {
   "cell_type": "code",
   "execution_count": 50,
   "metadata": {},
   "outputs": [],
   "source": [
    "def train_LSTM(model, train_dataloader, val_dataloader, params, device):\n",
    "    loss_function = nn.MSELoss(reduction='mean')\n",
    "    optimiser = torch.optim.Adam(model.parameters(), lr = params['learning_rate'])\n",
    "\n",
    "    # train_loss, val_loss = np.zeros(num_epochs), np.zeros(num_epochs)\n",
    "    num_epochs=params['num_epochs']\n",
    "    train_loss = np.zeros(num_epochs)\n",
    "    val_loss = np.zeros(num_epochs)\n",
    "\n",
    "    for epoch in range(num_epochs):\n",
    "        # Loop over batch values \n",
    "        runningLoss_train = 0. \n",
    "\n",
    "        for idx, (batch_inputs, batch_targets) in enumerate(train_dataloader):\n",
    "            \n",
    "            # Save batch on GPU\n",
    "            batch_inputs, batch_targets = batch_inputs.to(device), batch_targets.to(device)\n",
    "\n",
    "            # Means we are training the model, so uses techniques such as dropout etc., otherwise model.train(model=False)\n",
    "            model.train() \n",
    "\n",
    "            #set gradients to zero\n",
    "            optimiser.zero_grad()\n",
    "            preds = model(batch_inputs)\n",
    "            # print(f'shape of training predictions: {preds.shape}')\n",
    "        \n",
    "            loss = loss_function(preds, batch_targets)\n",
    "            \n",
    "\n",
    "            loss.backward()\n",
    "            optimiser.step()\n",
    "            runningLoss_train += loss.item()\n",
    "\n",
    "        train_loss[epoch] = runningLoss_train / len(train_dataloader)\n",
    "\n",
    "        # print(f\"Epoch: [{epoch + 1}/{num_epochs}]\", f\"Training loss: {runningLoss_train/len(train_dataloader)}\")\n",
    "\n",
    "        # Evaluate on validation set\n",
    "\n",
    "        model.eval() # means we are evaluating the model, stops process such as dropout etc. \n",
    "        runningLoss_val = 0.\n",
    "\n",
    "        with torch.no_grad(): # makes sure gradient is not stored \n",
    "            for idx, (batch_inputs, batch_targets) in enumerate(val_dataloader):\n",
    "                \n",
    "                batch_inputs, batch_targets = batch_inputs.to(device), batch_targets.to(device)\n",
    "                optimiser.zero_grad() #WHY?\n",
    "                preds = model(batch_inputs)\n",
    "                # print(f'shape of validation predictions: {preds.shape}')\n",
    "\n",
    "                loss = loss_function(preds, batch_targets)\n",
    "                runningLoss_val += loss.item()\n",
    "\n",
    "        val_loss[epoch] = runningLoss_val/len(val_dataloader)\n",
    "\n",
    "        # print(f\"Epoch: [{epoch + 1}/{num_epochs}]\", f\"Validation loss: {runningLoss_val/len(val_dataloader)}\")\n",
    "\n",
    "    return val_loss[-1]"
   ]
  },
  {
   "cell_type": "code",
   "execution_count": 51,
   "metadata": {},
   "outputs": [],
   "source": [
    "input_size=len(features)\n",
    "in_seq_len=input_window\n",
    "out_seq_len=output_window\n",
    "output_size=len(features)"
   ]
  },
  {
   "cell_type": "code",
   "execution_count": 52,
   "metadata": {},
   "outputs": [],
   "source": [
    "def objective_LSTM(trial):\n",
    "        \n",
    "    params = {\n",
    "            'learning_rate': trial.suggest_categorical('learning_rate', [0.1, 0.01, 0.001, 0.0001, 0.00001]),\n",
    "            'num_epochs': trial.suggest_int('num_epochs', 10, 250, step=10),\n",
    "            'num_layers': trial.suggest_categorical('num_layers', [1,2,3,4]),\n",
    "            'hidden_size': trial.suggest_categorical('hidden_size', [16, 32, 64, 100, 128, 256])\n",
    "            }\n",
    "    \n",
    "    model = LSTM(input_size=input_size, in_seq_len=in_seq_len, out_seq_len=out_seq_len, output_size=output_size, params = params, device=DEVICE).to(DEVICE)\n",
    "    val_loss = train_LSTM(model, train_dataloader, val_dataloader, params, device=DEVICE)\n",
    "\n",
    "\n",
    "    return val_loss\n"
   ]
  },
  {
   "cell_type": "code",
   "execution_count": 53,
   "metadata": {},
   "outputs": [],
   "source": [
    "# import optuna\n",
    "\n",
    "# study = optuna.create_study(direction=\"minimize\", sampler=optuna.samplers.TPESampler(), pruner=optuna.pruners.HyperbandPruner())\n",
    "# study.optimize(objective_LSTM, n_trials=100)\n",
    "\n"
   ]
  },
  {
   "cell_type": "markdown",
   "metadata": {},
   "source": [
    "## Training Models"
   ]
  },
  {
   "cell_type": "markdown",
   "metadata": {},
   "source": [
    "#### Deep Learning Models"
   ]
  },
  {
   "cell_type": "code",
   "execution_count": 54,
   "metadata": {},
   "outputs": [],
   "source": [
    "model = 'LSTM'\n",
    "exp_ID = '095'"
   ]
  },
  {
   "cell_type": "code",
   "execution_count": 55,
   "metadata": {},
   "outputs": [],
   "source": [
    "MODEL_PATH =   r'D:\\Study 2 Results and Models\\Study 2 Model Checkpoints' + '\\\\'  + 'Exp' + str(exp_ID) + '-' + str(date.today()) + '-' + model + '-In' + str(input_window) + '-Out' + str(output_window) + '.pt'"
   ]
  },
  {
   "cell_type": "code",
   "execution_count": 56,
   "metadata": {},
   "outputs": [],
   "source": [
    "# Training the LSTM model using a loss function and a optimiser\n",
    "def train_LSTM(model, train_dataloader, val_dataloader, num_epochs, learning_rate, device):\n",
    "    loss_function = nn.MSELoss(reduction='mean')\n",
    "    optimiser = torch.optim.Adam(model.parameters(), lr = learning_rate)\n",
    "\n",
    "    # train_loss, val_loss = np.zeros(num_epochs), np.zeros(num_epochs)\n",
    "    train_loss = np.zeros(num_epochs)\n",
    "    val_loss = np.zeros(num_epochs)\n",
    "\n",
    "    min_val_loss = 1.\n",
    "\n",
    "    for epoch in tqdm(range(num_epochs)):\n",
    "        # Loop over batch values \n",
    "        runningLoss_train = 0. \n",
    "\n",
    "        for idx, (batch_inputs, batch_targets) in enumerate(train_dataloader):\n",
    "            \n",
    "            # Save batch on GPU\n",
    "            batch_inputs, batch_targets = batch_inputs.to(device), batch_targets.to(device)\n",
    "\n",
    "            # Means we are training the model, so uses techniques such as dropout etc., otherwise model.train(model=False)\n",
    "            model.train() \n",
    "\n",
    "            #set gradients to zero\n",
    "            optimiser.zero_grad()\n",
    "            preds = model(batch_inputs)\n",
    "            # print(f'shape of training predictions: {preds.shape}')\n",
    "        \n",
    "            loss = loss_function(preds, batch_targets)\n",
    "            \n",
    "\n",
    "            loss.backward()\n",
    "            optimiser.step()\n",
    "            runningLoss_train += loss.item()\n",
    "\n",
    "        train_loss[epoch] = runningLoss_train / len(train_dataloader)\n",
    "\n",
    "        print(f\"Epoch: [{epoch + 1}/{num_epochs}]\", f\"Training loss: {runningLoss_train/len(train_dataloader)}\")\n",
    "\n",
    "        # Evaluate on validation set\n",
    "\n",
    "        model.eval() # means we are evaluating the model, stops process such as dropout etc. \n",
    "        runningLoss_val = 0.\n",
    "\n",
    "        with torch.no_grad(): # makes sure gradient is not stored \n",
    "            for idx, (batch_inputs, batch_targets) in enumerate(val_dataloader):\n",
    "                \n",
    "                batch_inputs, batch_targets = batch_inputs.to(device), batch_targets.to(device)\n",
    "                optimiser.zero_grad() #WHY?\n",
    "                preds = model(batch_inputs)\n",
    "                # print(f'shape of validation predictions: {preds.shape}')\n",
    "\n",
    "                loss = loss_function(preds, batch_targets)\n",
    "                runningLoss_val += loss.item()\n",
    "\n",
    "        val_loss[epoch] = runningLoss_val/len(val_dataloader)\n",
    "\n",
    "\n",
    "        print(f\"Epoch: [{epoch + 1}/{num_epochs}]\", f\"Validation loss: {runningLoss_val/len(val_dataloader)}\")\n",
    "\n",
    "        # print(f'val loss: {val_loss[epoch]}')\n",
    "\n",
    "        # print(f'min val loss: {min_val_loss}')\n",
    "        # Save best model so far\n",
    "        if val_loss[epoch] < min_val_loss:\n",
    "\n",
    "            # print('YAY, new best value')\n",
    "            min_val_loss = val_loss[epoch]\n",
    "\n",
    "            torch.save({\n",
    "                        'epoch': epoch,\n",
    "                        'model_state_dict': model.state_dict(),\n",
    "                        'optimiser_state_dict': optimiser.state_dict(),\n",
    "                        'loss': val_loss[epoch],\n",
    "                        }, MODEL_PATH)\n",
    "                        \n",
    "\n",
    "    return train_loss, val_loss"
   ]
  },
  {
   "cell_type": "code",
   "execution_count": 57,
   "metadata": {},
   "outputs": [],
   "source": [
    "# # useful resources: https://www.youtube.com/watch?v=8A6TEjG2DNw (LSTM Time Series Prediction Tutorial using PyTorch in Python | Coronavirus Daily Cases Forecasting)\n",
    "# LSTM model \n",
    "\n",
    "class LSTM(nn.Module):\n",
    "    def __init__(self, input_size, hidden_size, num_layers, in_seq_len, out_seq_len, output_size, device):\n",
    "        super(LSTM, self).__init__()\n",
    "        '''\n",
    "        nn.lstm: \n",
    "        input_size = number of features in input, if batch_first = TRUE (batchSize, seq_len, Hin) FEATURES\n",
    "        hidden_size = number of features in hidden state\n",
    "        num_layers\n",
    "        batch_first = if TRUE (batch, seq, Hin) Hin may mean input features\n",
    "        h_0 = (D * num_layers, batchSize, Hout)\n",
    "        c_0 = (D * num_layers, batchSize, Hcell)\n",
    "\n",
    "        output = (batchSize, seq_len, D * Hout) Hout may mean output features, if batch first = TRUE \n",
    "        h_0 = (D*num_layers, N, Hout) final state for each element in the batch \n",
    "        C_0 = (D*num_layers, N, Hcell) final cell state for each element \n",
    "\n",
    "        nn.linear:\n",
    "        input_size = (N,*, Hin) Hin = input_features (equal to hidden size therefore is arbitrarily set)\n",
    "        output_size = (N, *, Hout) Hout = output features (equal to output_size passed in to the model) \n",
    "\n",
    "        '''\n",
    "        # Pytorch documentation: \n",
    "        # >>> rnn = nn.LSTM(10, 20, 2) features, hidden_size, number of layers \n",
    "        # >>> input = torch.randn(5, 3, 10) in_seq_len, batch_size, hidden_size (batch size should not be input to the mode, inferred from the shape of the input and will be the first number if batch_first = TRUE)\n",
    "        # >>> h0 = torch.randn(2, 3, 20)\n",
    "        # >>> c0 = torch.randn(2, 3, 20)\n",
    "        # >>> output, (hn, cn) = rnn(input, (h0, c0))\n",
    "\n",
    "        self.input_size = input_size\n",
    "        self.hidden_size = hidden_size\n",
    "        self.num_layers = num_layers\n",
    "        self.in_seq_len = in_seq_len\n",
    "        self.output_size = output_size\n",
    "        self.out_seq_len = 1 #make this default\n",
    "        self.device = device\n",
    "        \n",
    "        # nn.LSTM(features, hidden_size, number of layers)\n",
    "        self.lstm = nn.LSTM(input_size=self.input_size, hidden_size=self.hidden_size, num_layers=self.num_layers, dropout=0.1, batch_first = True)\n",
    "\n",
    "        #nn.fc1\n",
    "        # self.fc1 = nn.Linear(in_features=self.hidden_size, out_features=(self.output_size * self.out_seq_len)) #ORIGINAL\n",
    "        self.fc1 = nn.Linear(in_features=self.hidden_size, out_features=self.output_size)\n",
    "\n",
    "\n",
    "    def forward(self, input_data):\n",
    "\n",
    "        # initialise hidden and cell states after passing through each batch (this is skipped in stateless model)\n",
    "        h_0 = torch.zeros(self.num_layers, input_data.shape[0], self.hidden_size).to(self.device) # input_data.shape[0] is equal to batch size\n",
    "        c_0 = torch.zeros(self.num_layers, input_data.shape[0], self.hidden_size).to(self.device)\n",
    "\n",
    "        #propagate through LSTM\n",
    "        lstm_out, (h_out, c_out) = self.lstm(input_data, (h_0, c_0))\n",
    "        fc1_out = self.fc1(h_out[-1])\n",
    "        \n",
    "        preds = fc1_out\n",
    "        \n",
    "        return preds"
   ]
  },
  {
   "cell_type": "code",
   "execution_count": 58,
   "metadata": {},
   "outputs": [],
   "source": [
    "# # # useful resources: https://www.youtube.com/watch?v=8A6TEjG2DNw (LSTM Time Series Prediction Tutorial using PyTorch in Python | Coronavirus Daily Cases Forecasting)\n",
    "# # LSTM model \n",
    "# class LSTM_attention(nn.Module):\n",
    "#     def __init__(self, input_size, hidden_size, num_layers, in_seq_len, out_seq_len, output_size, device):\n",
    "#         super(LSTM_attention, self).__init__()\n",
    "#         '''\n",
    "#         nn.lstm: \n",
    "#         input_size = number of features in input, if batch_first = TRUE (batchSize, seq_len, Hin) FEATURES\n",
    "#         hidden_size = number of features in hidden state\n",
    "#         num_layers\n",
    "#         batch_first = if TRUE (batch, seq, Hin) Hin may mean input features\n",
    "#         h_0 = (D * num_layers, batchSize, Hout)\n",
    "#         c_0 = (D * num_layers, batchSize, Hcell)\n",
    "\n",
    "#         output = (batchSize, seq_len, D * Hout) Hout may mean output features, if batch first = TRUE \n",
    "#         h_0 = (D*num_layers, N, Hout) final state for each element in the batch \n",
    "#         C_0 = (D*num_layers, N, Hcell) final cell state for each element \n",
    "\n",
    "#         nn.linear:\n",
    "#         input_size = (N,*, Hin) Hin = input_features (equal to hidden size therefore is arbitrarily set)\n",
    "#         output_size = (N, *, Hout) Hout = output features (equal to output_size passed in to the model) \n",
    "\n",
    "#         '''\n",
    "#         # Pytorch documentation: \n",
    "#         # >>> rnn = nn.LSTM(10, 20, 2) features, hidden_size, number of layers \n",
    "#         # >>> input = torch.randn(5, 3, 10) in_seq_len, batch_size, hidden_size (batch size should not be input to the mode, inferred from the shape of the input and will be the first number if batch_first = TRUE)\n",
    "#         # >>> h0 = torch.randn(2, 3, 20)\n",
    "#         # >>> c0 = torch.randn(2, 3, 20)\n",
    "#         # >>> output, (hn, cn) = rnn(input, (h0, c0))\n",
    "\n",
    "#         self.input_size = input_size\n",
    "#         self.hidden_size = hidden_size\n",
    "#         self.num_layers = num_layers\n",
    "#         self.in_seq_len = in_seq_len\n",
    "#         self.output_size = output_size\n",
    "#         self.out_seq_len = 1 #make this default\n",
    "#         self.device = device\n",
    "        \n",
    "#         # nn.LSTM(features, hidden_size, number of layers)\n",
    "#         self.lstm = nn.LSTM(input_size=self.input_size, hidden_size=self.hidden_size, num_layers=self.num_layers, batch_first = True)\n",
    "\n",
    "#         self.attention = nn.MultiheadAttention(embed_dim=self.hidden_size, num_heads=4, batch_first=True, device = DEVICE)\n",
    "\n",
    "#         #nn.fc1\n",
    "#         self.fc1 = nn.Linear(in_features=self.hidden_size, out_features=(self.output_size * self.out_seq_len))\n",
    "#         # self.fc1 = nn.Linear(in_features=self.hidden_size, out_features=(self.output_size * self.out_seq_len))\n",
    "\n",
    "#     # def attention_net(self, lstm_output, final_state):\n",
    "#     #         # lstm_output = lstm_output.permute(1, 0, 2)\n",
    "#     #         hidden = final_state.squeeze(0)\n",
    "#     #         attn_weights = torch.bmm(lstm_output, hidden.unsqueeze(2)).squeeze(2)\n",
    "#     #         soft_attn_weights = F.softmax(attn_weights, dim=1)\n",
    "#     #         new_hidden_state = torch.bmm(lstm_output.transpose(1, 2),\n",
    "#     #                                     soft_attn_weights.unsqueeze(2)).squeeze(2)\n",
    "                \n",
    "#     #         return new_hidden_state\n",
    "\n",
    "#     def attention(self, lstm_output, final_state):\n",
    "#         # lstm_output = lstm_output.permute(1, 0, 2)\n",
    "#         merged_state = torch.cat([s for s in final_state], 1)\n",
    "#         merged_state = merged_state.squeeze(0).unsqueeze(2)\n",
    "#         weights = torch.bmm(lstm_output, merged_state)\n",
    "#         weights = F.softmax(weights.squeeze(2), dim=1).unsqueeze(2)\n",
    "#         return torch.bmm(torch.transpose(lstm_output, 1, 2), weights).squeeze(2)\n",
    "\n",
    "#     def forward(self, input_data):\n",
    "\n",
    "#         # initialise hidden and cell states after passing through each batch (this is skipped in stateless model)\n",
    "#         h_0 = torch.zeros(self.num_layers, input_data.shape[0], self.hidden_size).to(self.device) # input_data.shape[0] is equal to batch size\n",
    "#         c_0 = torch.zeros(self.num_layers, input_data.shape[0], self.hidden_size).to(self.device)\n",
    "\n",
    "#         #propagate through LSTM\n",
    "#         lstm_out, (h_out, c_out) = self.lstm(input_data, (h_0, c_0))\n",
    "#         # lsmt_out.shape = (batch_size,seq_length, hidden_size)\n",
    "#         # print('lstm_out[-1][-1]')\n",
    "#         # print(lstm_out[-1][-1])\n",
    "\n",
    "#         # print('h_out[-1][-1]')\n",
    "#         # print(h_out[-1][-1])\n",
    "#         # if lstm_out[-1][-1] == h_out[-1][-1]:\n",
    "#         #     print(lstm_out[-1][-1])\n",
    "            \n",
    "#         # print(f'lsmt_out: {lstm_out.shape}')\n",
    "#         # print(f'h_out: {h_out.shape}')\n",
    "#         # print(f'h_out: {h_out.shape}')    \n",
    "\n",
    "#         print(f'h_out[-1,:,:] shape: {h_out[-1,:,:].shape}')\n",
    "#         print(f'h_out[-1] shape: {h_out[-1].shape}')\n",
    "#         print(f'h_out shape: {h_out.shape}')\n",
    "#         print(f'lstm_out shape: {lstm_out.shape}')\n",
    "\n",
    "#         attn_output = self.attention(lstm_out, h_out)\n",
    "\n",
    "#         print(f'attn_output shape: {attn_output.shape}')\n",
    "#         # print(f'attn_output_weights shape: {attn_output_weights.shape}')\n",
    "\n",
    "\n",
    "#         # propagate through linear layer \n",
    "\n",
    "#         fc1_out = self.fc1(h_out[-1])\n",
    "#         # fc1_out = self.fc1(lstm_out)\n",
    "#         # print(f'preds.shape (before reshaping): {fc1_out.shape}')\n",
    "\n",
    "        \n",
    "#         preds = fc1_out.reshape(input_data.shape[0], self.out_seq_len, self.output_size)\n",
    "#         # print(f'preds.shape (after reshaping): {preds.shape}')\n",
    "        \n",
    "#         return preds"
   ]
  },
  {
   "cell_type": "code",
   "execution_count": 59,
   "metadata": {},
   "outputs": [],
   "source": [
    "# # # useful resources: https://www.youtube.com/watch?v=8A6TEjG2DNw (LSTM Time Series Prediction Tutorial using PyTorch in Python | Coronavirus Daily Cases Forecasting)\n",
    "# # LSTM model \n",
    "# class LSTM_bi(nn.Module):\n",
    "#     def __init__(self, input_size, hidden_size, num_layers, in_seq_len, out_seq_len, output_size, device):\n",
    "#         super(LSTM_bi, self).__init__()\n",
    "#         '''\n",
    "#         nn.lstm: \n",
    "#         input_size = number of features in input, if batch_first = TRUE (batchSize, seq_len, Hin) FEATURES\n",
    "#         hidden_size = number of features in hidden state\n",
    "#         num_layers\n",
    "#         batch_first = if TRUE (batch, seq, Hin) Hin may mean input features\n",
    "#         h_0 = (D * num_layers, batchSize, Hout)\n",
    "#         c_0 = (D * num_layers, batchSize, Hcell)\n",
    "\n",
    "#         output = (batchSize, seq_len, D * Hout) Hout may mean output features, if batch first = TRUE \n",
    "#         h_0 = (D*num_layers, N, Hout) final state for each element in the batch \n",
    "#         C_0 = (D*num_layers, N, Hcell) final cell state for each element \n",
    "\n",
    "#         nn.linear:\n",
    "#         input_size = (N,*, Hin) Hin = input_features (equal to hidden size therefore is arbitrarily set)\n",
    "#         output_size = (N, *, Hout) Hout = output features (equal to output_size passed in to the model) \n",
    "\n",
    "#         '''\n",
    "#         # Pytorch documentation: \n",
    "#         # >>> rnn = nn.LSTM(10, 20, 2) features, hidden_size, number of layers \n",
    "#         # >>> input = torch.randn(5, 3, 10) in_seq_len, batch_size, hidden_size (batch size should not be input to the mode, inferred from the shape of the input and will be the first number if batch_first = TRUE)\n",
    "#         # >>> h0 = torch.randn(2, 3, 20)\n",
    "#         # >>> c0 = torch.randn(2, 3, 20)\n",
    "#         # >>> output, (hn, cn) = rnn(input, (h0, c0))\n",
    "\n",
    "#         self.input_size = input_size\n",
    "#         self.hidden_size = hidden_size\n",
    "#         self.num_layers = num_layers\n",
    "#         self.in_seq_len = in_seq_len\n",
    "#         self.output_size = output_size\n",
    "#         self.out_seq_len = 1\n",
    "#         self.device = device\n",
    "        \n",
    "#         # nn.LSTM(features, hidden_size, number of layers)\n",
    "#         self.lstm = nn.LSTM(input_size=self.input_size, hidden_size=self.hidden_size, num_layers=self.num_layers, batch_first = True, bidirectional=True)\n",
    "\n",
    "#         #nn.fc1\n",
    "#         self.fc1 = nn.Linear(in_features=self.hidden_size*2, out_features=(self.output_size * self.out_seq_len))\n",
    "#         # self.fc1 = nn.Linear(in_features=self.hidden_size, out_features=(self.output_size * self.out_seq_len))\n",
    "\n",
    "\n",
    "#     def forward(self, input_data):\n",
    "\n",
    "#         # initialise hidden and cell states after passing through each batch (this is skipped in stateless model)\n",
    "#         h_0 = torch.zeros(self.num_layers*2, input_data.shape[0], self.hidden_size).to(self.device) # input_data.shape[0] is equal to batch size\n",
    "#         c_0 = torch.zeros(self.num_layers*2, input_data.shape[0], self.hidden_size).to(self.device)\n",
    "\n",
    "#         #propagate through LSTM\n",
    "#         lstm_out, (h_out, c_out) = self.lstm(input_data, (h_0, c_0))\n",
    "#         # lsmt_out.shape = (batch_size,seq_length, hidden_size)\n",
    "#         # print('h_out.shape')\n",
    "#         # print(h_out.shape)\n",
    "\n",
    "#         # print('lstm_out[:,-1,:].shape')\n",
    "#         # print(lstm_out[:,-1,:].shape)\n",
    "\n",
    "#         # print('h_out[-1]')\n",
    "#         # print(h_out[-1].shape)\n",
    "#         # if lstm_out[-1][-1] == h_out[-1][-1]:\n",
    "#         # #     print(lstm_out[-1][-1])\n",
    "#         # concat_lstm_out = torch.cat((h_out[0,:,:], h_out[-1,:,:]), dim = 1)\n",
    "#         # print(f'concat_lstm_out {concat_lstm_out.shape}')\n",
    "#         # print(f'lsmt_out: {lstm_out[:,-1,:].shape}')\n",
    "#         # print(f'h_out: {h_out[-1].shape}')\n",
    "#         # print(f'h_out: {h_out.shape}')\n",
    "\n",
    "#         # propagate through linear layer \n",
    "#         # fc1_out = self.fc1(lstm_out[:,-1,:])\n",
    "\n",
    "#         # hidden = torch.cat((h_out[-2, :, :], h_out[-1, :, :]),\n",
    "#         #                                 dim=1)\n",
    "\n",
    "            \n",
    "#         # print(f'hidden : {hidden.shape}')\n",
    "#         # fc1_out = self.fc1(hidden)\n",
    "#         fc1_out = self.fc1(h_out[-1])\n",
    "#         # print(f'preds.shape (before reshaping): {fc1_out.shape}')\n",
    "        \n",
    "#         preds = fc1_out.reshape(input_data.shape[0], self.out_seq_len, self.output_size)\n",
    "#         # print(f'preds.shape (after reshaping): {preds.shape}')\n",
    "        \n",
    "#         return preds"
   ]
  },
  {
   "cell_type": "code",
   "execution_count": 96,
   "metadata": {},
   "outputs": [
    {
     "data": {
      "application/vnd.jupyter.widget-view+json": {
       "model_id": "0fd72439487f44248fba279141cfe92b",
       "version_major": 2,
       "version_minor": 0
      },
      "text/plain": [
       "  0%|          | 0/20 [00:00<?, ?it/s]"
      ]
     },
     "metadata": {},
     "output_type": "display_data"
    },
    {
     "name": "stdout",
     "output_type": "stream",
     "text": [
      "Epoch: [1/20] Training loss: 0.013842355961014565\n",
      "Epoch: [1/20] Validation loss: 0.009574708672539319\n",
      "Epoch: [2/20] Training loss: 0.0029754052169464608\n",
      "Epoch: [2/20] Validation loss: 0.005462128358582656\n",
      "Epoch: [3/20] Training loss: 0.0019356807333672\n",
      "Epoch: [3/20] Validation loss: 0.0033719578785189417\n",
      "Epoch: [4/20] Training loss: 0.0012530077820426095\n",
      "Epoch: [4/20] Validation loss: 0.0020939132391279676\n",
      "Epoch: [5/20] Training loss: 0.0008523084634326172\n",
      "Epoch: [5/20] Validation loss: 0.001648036799900935\n",
      "Epoch: [6/20] Training loss: 0.0006908187584875898\n",
      "Epoch: [6/20] Validation loss: 0.0014379472084800472\n",
      "Epoch: [7/20] Training loss: 0.0006059117288025669\n",
      "Epoch: [7/20] Validation loss: 0.0012305530223256714\n",
      "Epoch: [8/20] Training loss: 0.0005459149627277102\n",
      "Epoch: [8/20] Validation loss: 0.0010733948395311556\n",
      "Epoch: [9/20] Training loss: 0.0005085429693697036\n",
      "Epoch: [9/20] Validation loss: 0.001100534986669376\n",
      "Epoch: [10/20] Training loss: 0.00047811057379718535\n",
      "Epoch: [10/20] Validation loss: 0.0009399494448177987\n",
      "Epoch: [11/20] Training loss: 0.0004474946216106614\n",
      "Epoch: [11/20] Validation loss: 0.0010003823119382384\n",
      "Epoch: [12/20] Training loss: 0.00042608227262742947\n",
      "Epoch: [12/20] Validation loss: 0.001013135531756245\n",
      "Epoch: [13/20] Training loss: 0.0004054479865087648\n",
      "Epoch: [13/20] Validation loss: 0.0009339485412864531\n",
      "Epoch: [14/20] Training loss: 0.00039435075644041553\n",
      "Epoch: [14/20] Validation loss: 0.0009400274810800903\n",
      "Epoch: [15/20] Training loss: 0.00038184495347842555\n",
      "Epoch: [15/20] Validation loss: 0.0008515444080083758\n",
      "Epoch: [16/20] Training loss: 0.0003706600524227318\n",
      "Epoch: [16/20] Validation loss: 0.0007442078111372761\n",
      "Epoch: [17/20] Training loss: 0.000358796480268849\n",
      "Epoch: [17/20] Validation loss: 0.0007655727077005316\n",
      "Epoch: [18/20] Training loss: 0.00034955564021728683\n",
      "Epoch: [18/20] Validation loss: 0.000765680953559184\n",
      "Epoch: [19/20] Training loss: 0.00034511577157116656\n",
      "Epoch: [19/20] Validation loss: 0.000694713918984448\n",
      "Epoch: [20/20] Training loss: 0.0003372800883841266\n",
      "Epoch: [20/20] Validation loss: 0.0007577491971774797\n"
     ]
    }
   ],
   "source": [
    "# # # Train LSTM \n",
    "input_size=len(features)\n",
    "hidden_size=10\n",
    "num_layers=3\n",
    "in_seq_len=input_window\n",
    "out_seq_len=output_window\n",
    "output_size=len(features)\n",
    "num_epochs=20\n",
    "learning_rate= 0.001\n",
    "\n",
    "\n",
    "model_LSTM = LSTM(input_size=input_size, hidden_size=hidden_size, num_layers=num_layers, in_seq_len=in_seq_len, out_seq_len=out_seq_len, output_size=output_size, device=DEVICE).to(DEVICE)\n",
    "\n",
    "train_history, val_history = train_LSTM(model_LSTM, train_dataloader=train_dataloader, val_dataloader=val_dataloader, num_epochs=num_epochs, learning_rate=learning_rate, device=DEVICE) #ADJUSTED"
   ]
  },
  {
   "cell_type": "markdown",
   "metadata": {},
   "source": [
    "#### Load best model"
   ]
  },
  {
   "cell_type": "code",
   "execution_count": 97,
   "metadata": {},
   "outputs": [
    {
     "data": {
      "text/plain": [
       "LSTM(\n",
       "  (lstm): LSTM(6, 10, num_layers=3, batch_first=True, dropout=0.1)\n",
       "  (fc1): Linear(in_features=10, out_features=6, bias=True)\n",
       ")"
      ]
     },
     "execution_count": 97,
     "metadata": {},
     "output_type": "execute_result"
    }
   ],
   "source": [
    "checkpoint_model = LSTM(input_size=input_size, hidden_size=hidden_size, num_layers=num_layers, in_seq_len=in_seq_len, out_seq_len=out_seq_len, output_size=output_size, device=DEVICE).to(DEVICE)\n",
    "optimiser = torch.optim.Adam(checkpoint_model.parameters(), lr = learning_rate)\n",
    "\n",
    "checkpoint = torch.load(MODEL_PATH)\n",
    "checkpoint_model.load_state_dict(checkpoint['model_state_dict'])\n",
    "optimiser.load_state_dict(checkpoint['optimiser_state_dict'])\n",
    "best_epoch = checkpoint['epoch']\n",
    "best_val_loss = checkpoint['loss']\n",
    "\n",
    "checkpoint_model.eval()\n"
   ]
  },
  {
   "cell_type": "code",
   "execution_count": 98,
   "metadata": {},
   "outputs": [
    {
     "data": {
      "text/plain": [
       "'D:\\\\Study 2 Results and Models\\\\Study 2 Model Checkpoints\\\\Exp095-2022-07-29-LSTM-In100-Out1.pt'"
      ]
     },
     "execution_count": 98,
     "metadata": {},
     "output_type": "execute_result"
    }
   ],
   "source": [
    "MODEL_PATH"
   ]
  },
  {
   "cell_type": "code",
   "execution_count": 99,
   "metadata": {},
   "outputs": [
    {
     "data": {
      "text/plain": [
       "18"
      ]
     },
     "execution_count": 99,
     "metadata": {},
     "output_type": "execute_result"
    }
   ],
   "source": [
    "best_epoch"
   ]
  },
  {
   "cell_type": "code",
   "execution_count": 100,
   "metadata": {},
   "outputs": [
    {
     "data": {
      "text/plain": [
       "0.000694713918984448"
      ]
     },
     "execution_count": 100,
     "metadata": {},
     "output_type": "execute_result"
    }
   ],
   "source": [
    "best_val_loss"
   ]
  },
  {
   "cell_type": "code",
   "execution_count": 101,
   "metadata": {},
   "outputs": [
    {
     "data": {
      "application/vnd.jupyter.widget-view+json": {
       "model_id": "b481d715fca3461893a186d786466149",
       "version_major": 2,
       "version_minor": 0
      },
      "text/plain": [
       "0it [00:00, ?it/s]"
      ]
     },
     "metadata": {},
     "output_type": "display_data"
    },
    {
     "name": "stdout",
     "output_type": "stream",
     "text": [
      "val loss: 0.0006973406324740845\n",
      "Shape of predicted values test: (5169, 6)\n",
      "shape of actual values test: (5169, 6)\n",
      "Shape of predicted values test post denormalisation: (5169, 1, 6)\n",
      "shape of actual values test post denormalisation: (5169, 1, 6)\n"
     ]
    }
   ],
   "source": [
    "pred_val_output, actual_val_output, val_loss = test_LSTM(checkpoint_model, val_dataloader, DEVICE)\n",
    "\n",
    "predicted_values_val = pred_val_output.cpu().numpy()\n",
    "actual_values_val = actual_val_output.cpu().numpy()\n",
    "\n",
    "print(f'val loss: {val_loss}')\n",
    "print(f'Shape of predicted values test: {predicted_values_val.shape}')\n",
    "print(f'shape of actual values test: {actual_values_val.shape}')\n",
    "\n",
    "predicted_val_denorm = denormalise(np.expand_dims(predicted_values_val,1), scalars)\n",
    "actual_val_denorm = denormalise(np.expand_dims(actual_values_val,1), scalars)\n",
    "\n",
    "print(f'Shape of predicted values test post denormalisation: {predicted_val_denorm.shape}')\n",
    "print(f'shape of actual values test post denormalisation: {actual_val_denorm.shape}')"
   ]
  },
  {
   "cell_type": "code",
   "execution_count": 102,
   "metadata": {},
   "outputs": [
    {
     "name": "stdout",
     "output_type": "stream",
     "text": [
      "Val MSE Loss: 6.0170371646675695\n",
      "Val MSE std: 17.843278884887695\n",
      "Val MAE Loss: 1.757118383028632\n",
      "Val MAE std: 1.7115991115570068\n"
     ]
    }
   ],
   "source": [
    "val_mse_loss, val_mse_std = mse_loss(predicted_val_denorm, actual_val_denorm, reduction='mean', format='np')\n",
    "val_mae_loss, val_mae_std = mae_loss(predicted_val_denorm, actual_val_denorm, reduction='mean', format='np')\n",
    "\n",
    "print(f'Val MSE Loss: {val_mse_loss}')\n",
    "print(f'Val MSE std: {val_mse_std}')\n",
    "print(f'Val MAE Loss: {val_mae_loss}')\n",
    "print(f'Val MAE std: {val_mae_std}')"
   ]
  },
  {
   "cell_type": "markdown",
   "metadata": {},
   "source": [
    "#### Training and validation losses"
   ]
  },
  {
   "cell_type": "code",
   "execution_count": 103,
   "metadata": {},
   "outputs": [
    {
     "data": {
      "image/png": "[encoded data removed]",
      "text/plain": [
       "<Figure size 1440x432 with 1 Axes>"
      ]
     },
     "metadata": {
      "needs_background": "light"
     },
     "output_type": "display_data"
    }
   ],
   "source": [
    "plt.plot(train_history[10:], label = 'Training loss')\n",
    "plt.plot(val_history[10:], label = 'Val loss')\n",
    "plt.xlabel('Iterations')\n",
    "plt.ylabel('MSE Loss')\n",
    "plt.title('Training and Validation MSE Loss')\n",
    "plt.legend()\n",
    "plt.show()"
   ]
  },
  {
   "cell_type": "markdown",
   "metadata": {},
   "source": [
    "#### Load Test Data"
   ]
  },
  {
   "cell_type": "code",
   "execution_count": 104,
   "metadata": {},
   "outputs": [
    {
     "name": "stdout",
     "output_type": "stream",
     "text": [
      "Current working directory is: D:\\Study 2 Data\\Healthy Gait\\Val\n",
      "There are 1 files in the specified path.\n"
     ]
    },
    {
     "data": {
      "text/plain": [
       "['AB9119 BF T1-5.csv']"
      ]
     },
     "execution_count": 104,
     "metadata": {},
     "output_type": "execute_result"
    }
   ],
   "source": [
    "file_dir = r'D:\\Study 2 Data\\Healthy Gait\\Val'\n",
    "# file_dir = f'D:\\Study 2 Data\\Healthy Gait\\evaluate'\n",
    "test_files = os.listdir(file_dir) \n",
    "\n",
    "# Changes the working directory to get the data from their location \n",
    "os.chdir(file_dir)\n",
    "cwd = os.getcwd()\n",
    "\n",
    "print(f'Current working directory is: {cwd}')\n",
    "print(f\"There are {len(test_files)} files in the specified path.\")\n",
    "\n",
    "test_files\n"
   ]
  },
  {
   "cell_type": "code",
   "execution_count": 105,
   "metadata": {},
   "outputs": [
    {
     "data": {
      "text/plain": [
       "['AB9119 BF T1-5']"
      ]
     },
     "execution_count": 105,
     "metadata": {},
     "output_type": "execute_result"
    }
   ],
   "source": [
    "val_subjects"
   ]
  },
  {
   "cell_type": "code",
   "execution_count": 70,
   "metadata": {},
   "outputs": [
    {
     "name": "stdout",
     "output_type": "stream",
     "text": [
      "Extracting data from: AB9119 BF T1-5.csv\n"
     ]
    }
   ],
   "source": [
    "test_data = create_dataframe(test_files, all_features)"
   ]
  },
  {
   "cell_type": "code",
   "execution_count": 71,
   "metadata": {},
   "outputs": [
    {
     "data": {
      "text/plain": [
       "(8169, 9)"
      ]
     },
     "execution_count": 71,
     "metadata": {},
     "output_type": "execute_result"
    }
   ],
   "source": [
    "test_data.shape"
   ]
  },
  {
   "cell_type": "code",
   "execution_count": 72,
   "metadata": {},
   "outputs": [
    {
     "name": "stdout",
     "output_type": "stream",
     "text": [
      "For patient: AB9119 BF T1-5, trial: 1, there are: 890 time-points\n",
      "For patient: AB9119 BF T1-5, trial: 2, there are: 1001 time-points\n",
      "For patient: AB9119 BF T1-5, trial: 3, there are: 831 time-points\n",
      "For patient: AB9119 BF T1-5, trial: 4, there are: 1051 time-points\n",
      "For patient: AB9119 BF T1-5, trial: 5, there are: 736 time-points\n",
      "For patient: AB9119 BF T1-5, trial: 6, there are: 766 time-points\n",
      "For patient: AB9119 BF T1-5, trial: 7, there are: 664 time-points\n",
      "For patient: AB9119 BF T1-5, trial: 8, there are: 764 time-points\n",
      "For patient: AB9119 BF T1-5, trial: 9, there are: 711 time-points\n",
      "For patient: AB9119 BF T1-5, trial: 10, there are: 755 time-points\n",
      "\n",
      "There are 10 samples\n"
     ]
    }
   ],
   "source": [
    "test_samples = count_nsamples(test_data)"
   ]
  },
  {
   "cell_type": "code",
   "execution_count": 73,
   "metadata": {},
   "outputs": [],
   "source": [
    "def pd_to_np_converter(data, n_samples, features):\n",
    "    #create a numpy array that stores the data for export\n",
    "    sample_ID = []\n",
    "    # patients = 2\n",
    "    # n_trials = 10\n",
    "    # # samples = patients * n_trials\n",
    "    data_store = np.zeros((n_samples, 2500, len(features)), dtype=np.float32)\n",
    "    i = 0\n",
    "\n",
    "    for p in data['Patient ID'].unique(): #loop over patients \n",
    "        for t in data['Trial'].unique(): #loop over trials starting with trials 1 to trial 9 (inclusive)\n",
    "            pd_array = data[(data['Patient ID'] == p) & (data['Trial'] == t)]\n",
    "            if pd_array.empty:\n",
    "                continue\n",
    "                # print('DataFrame is empty!')\n",
    "                # print(f'Trail {t} does not exist in {p}')\n",
    "            else:\n",
    "                np_array = pd_array.to_numpy()\n",
    "                data_store[i, :np_array.shape[0], :] = np_array[:,3:] #[:,3:] is because we are\n",
    "                sample_ID.append(p+ ' Ts'+str(t)) \n",
    "                i +=1\n",
    "\n",
    "    return pd_array.columns, data_store"
   ]
  },
  {
   "cell_type": "code",
   "execution_count": 74,
   "metadata": {},
   "outputs": [
    {
     "name": "stdout",
     "output_type": "stream",
     "text": [
      "test_data_np.shape: (10, 2500, 6)\n"
     ]
    },
    {
     "data": {
      "text/plain": [
       "Index(['Patient ID', 'Trial', 'Time', 'Hips Flexion-Extension Left',\n",
       "       'Knees Flexion-Extension Left',\n",
       "       'Ankles Dorsiflexion-Plantarflexion Left',\n",
       "       'Hips Flexion-Extension Right', 'Knees Flexion-Extension Right',\n",
       "       'Ankles Dorsiflexion-Plantarflexion Right'],\n",
       "      dtype='object')"
      ]
     },
     "execution_count": 74,
     "metadata": {},
     "output_type": "execute_result"
    }
   ],
   "source": [
    "test_columns, test_data_np = pd_to_np_converter(test_data, test_samples, features)\n",
    "\n",
    "print(f'test_data_np.shape: {test_data_np.shape}')\n",
    "\n",
    "test_columns"
   ]
  },
  {
   "cell_type": "code",
   "execution_count": 80,
   "metadata": {},
   "outputs": [
    {
     "name": "stdout",
     "output_type": "stream",
     "text": [
      "trimmed_seqLen: 890\n",
      "trimmed_seqLen_reduced: 690\n",
      "number of slides is: 590\n",
      "trimmed_seqLen: 1001\n",
      "trimmed_seqLen_reduced: 801\n",
      "number of slides is: 701\n",
      "trimmed_seqLen: 831\n",
      "trimmed_seqLen_reduced: 631\n",
      "number of slides is: 531\n",
      "trimmed_seqLen: 1051\n",
      "trimmed_seqLen_reduced: 851\n",
      "number of slides is: 751\n",
      "trimmed_seqLen: 736\n",
      "trimmed_seqLen_reduced: 536\n",
      "number of slides is: 436\n",
      "trimmed_seqLen: 766\n",
      "trimmed_seqLen_reduced: 566\n",
      "number of slides is: 466\n",
      "trimmed_seqLen: 664\n",
      "trimmed_seqLen_reduced: 464\n",
      "number of slides is: 364\n",
      "trimmed_seqLen: 764\n",
      "trimmed_seqLen_reduced: 564\n",
      "number of slides is: 464\n",
      "trimmed_seqLen: 711\n",
      "trimmed_seqLen_reduced: 511\n",
      "number of slides is: 411\n",
      "trimmed_seqLen: 755\n",
      "trimmed_seqLen_reduced: 555\n",
      "number of slides is: 455\n",
      "shape of X_test_windows: (20000, 100, 6)\n",
      "shape of Y_test_windows: (20000, 1, 6)\n",
      "shape of X_test_data: (5169, 100, 6)\n",
      "shape of Y_test_data: (5169, 1, 6)\n"
     ]
    }
   ],
   "source": [
    "# Selecting the features to be used when creating windows \n",
    "# approx_seq_len = 2500 # appoximate the length of the longest sequence that can be encountered \n",
    "# samples_per_file = ((approx_seq_len - (input_window+output_window)) // stride) + 1 #number of window samples generated per file \n",
    "samples_per_file = 2000\n",
    "\n",
    "\n",
    "# create a zero-filled 3D array with shape (number of samples * number of files, window size, number of features)\n",
    "X_test_windows = np.zeros((samples_per_file*test_samples, input_window, len(features)), dtype=np.float32) #size can be reduced by decreasing train_size \n",
    "Y_test_windows = np.zeros((samples_per_file*test_samples, output_window, len(features)), dtype=np.float32) \n",
    "\n",
    "\n",
    "start_idx = 0 #setting start index to equal zero \n",
    "test_sample_sum = 0\n",
    "test_excluded_samples = []\n",
    "# Create training windows \n",
    "\n",
    "#for i in tqdm(range(train_size)): #Use for including all data including outliers \n",
    "for i in range(test_samples): \n",
    "       \n",
    "    X_values, Y_values = window_generator_fltrd(\n",
    "        test_data_np[i,:,:],\n",
    "        input_window=input_window, \n",
    "        output_window=output_window, \n",
    "        stride=stride, \n",
    "        features=features,\n",
    "        labels=labels\n",
    "        )\n",
    "\n",
    "    end_idx = start_idx + X_values.shape[0]\n",
    "\n",
    "    # print(f'file number [{f}] start index: {start_idx}, end index: {end_idx}, number of samples: {X_values.shape[0]}')\n",
    "\n",
    "    X_test_windows[start_idx:end_idx, :, :] = X_values\n",
    "    Y_test_windows[start_idx:end_idx, :, :] = Y_values\n",
    "\n",
    "    # print(f'number of samples copied: {X_train_data_store[start_idx:end_idx, :, :].shape[0]}')\n",
    "\n",
    "    start_idx = end_idx \n",
    "    test_sample_sum += X_values.shape[0]\n",
    "\n",
    "    # except Exception:\n",
    "    #     exception_msg(i)\n",
    "    #     train_excluded_samples.append(i)\n",
    "\n",
    "# print(f\"Completed storage of training windows samples, which contains {X_train_data_store.shape[0]} samples\")\n",
    "X_test_data = X_test_windows[:end_idx, :, :]\n",
    "Y_test_data = Y_test_windows[:end_idx, :, :]\n",
    "\n",
    "\n",
    "print(f'shape of X_test_windows: {X_test_windows.shape}')\n",
    "print(f'shape of Y_test_windows: {Y_test_windows.shape}')\n",
    "\n",
    "print(f'shape of X_test_data: {X_test_data.shape}')\n",
    "print(f'shape of Y_test_data: {Y_test_data.shape}')"
   ]
  },
  {
   "cell_type": "markdown",
   "metadata": {},
   "source": [
    "#### Prepare Data for hModel"
   ]
  },
  {
   "cell_type": "code",
   "execution_count": 81,
   "metadata": {},
   "outputs": [],
   "source": [
    "hModel_X_test_norm = normalise_transform(X_test_data, scalars)\n",
    "hModel_Y_test_norm = normalise_transform(Y_test_data, scalars)"
   ]
  },
  {
   "cell_type": "code",
   "execution_count": 82,
   "metadata": {},
   "outputs": [
    {
     "data": {
      "image/png": "[encoded data removed]",
      "text/plain": [
       "<Figure size 432x288 with 1 Axes>"
      ]
     },
     "metadata": {
      "needs_background": "light"
     },
     "output_type": "display_data"
    },
    {
     "data": {
      "image/png": "[encoded data removed]",
      "text/plain": [
       "<Figure size 432x288 with 1 Axes>"
      ]
     },
     "metadata": {
      "needs_background": "light"
     },
     "output_type": "display_data"
    },
    {
     "data": {
      "image/png": "[encoded data removed]",
      "text/plain": [
       "<Figure size 432x288 with 1 Axes>"
      ]
     },
     "metadata": {
      "needs_background": "light"
     },
     "output_type": "display_data"
    },
    {
     "data": {
      "image/png": "[encoded data removed]",
      "text/plain": [
       "<Figure size 432x288 with 1 Axes>"
      ]
     },
     "metadata": {
      "needs_background": "light"
     },
     "output_type": "display_data"
    },
    {
     "data": {
      "image/png": "[encoded data removed]",
      "text/plain": [
       "<Figure size 432x288 with 1 Axes>"
      ]
     },
     "metadata": {
      "needs_background": "light"
     },
     "output_type": "display_data"
    },
    {
     "data": {
      "image/png": "[encoded data removed]",
      "text/plain": [
       "<Figure size 432x288 with 1 Axes>"
      ]
     },
     "metadata": {
      "needs_background": "light"
     },
     "output_type": "display_data"
    }
   ],
   "source": [
    "# Plot histogram of the data \n",
    "for f in range(len(features)):\n",
    "    plt.hist(hModel_X_test_norm[:,:,f].reshape(-1,1), bins=50, label = features[f])\n",
    "    plt.legend()\n",
    "    plt.show()"
   ]
  },
  {
   "cell_type": "code",
   "execution_count": 83,
   "metadata": {},
   "outputs": [
    {
     "data": {
      "image/png": "[encoded data removed]",
      "text/plain": [
       "<Figure size 432x288 with 1 Axes>"
      ]
     },
     "metadata": {
      "needs_background": "light"
     },
     "output_type": "display_data"
    },
    {
     "data": {
      "image/png": "[encoded data removed]",
      "text/plain": [
       "<Figure size 432x288 with 1 Axes>"
      ]
     },
     "metadata": {
      "needs_background": "light"
     },
     "output_type": "display_data"
    },
    {
     "data": {
      "image/png": "[encoded data removed]",
      "text/plain": [
       "<Figure size 432x288 with 1 Axes>"
      ]
     },
     "metadata": {
      "needs_background": "light"
     },
     "output_type": "display_data"
    },
    {
     "data": {
      "image/png": "[encoded data removed]",
      "text/plain": [
       "<Figure size 432x288 with 1 Axes>"
      ]
     },
     "metadata": {
      "needs_background": "light"
     },
     "output_type": "display_data"
    },
    {
     "data": {
      "image/png": "[encoded data removed]",
      "text/plain": [
       "<Figure size 432x288 with 1 Axes>"
      ]
     },
     "metadata": {
      "needs_background": "light"
     },
     "output_type": "display_data"
    },
    {
     "data": {
      "image/png": "[encoded data removed]",
      "text/plain": [
       "<Figure size 432x288 with 1 Axes>"
      ]
     },
     "metadata": {
      "needs_background": "light"
     },
     "output_type": "display_data"
    }
   ],
   "source": [
    "# Plot histogram of the data \n",
    "for f in range(len(features)):\n",
    "    plt.hist(X_test_data[:,:,f].reshape(-1,1), bins=50, label = features[f])\n",
    "    plt.legend()\n",
    "    plt.show()"
   ]
  },
  {
   "cell_type": "code",
   "execution_count": 84,
   "metadata": {},
   "outputs": [
    {
     "name": "stdout",
     "output_type": "stream",
     "text": [
      "hModel_X_test_tensor shape: torch.Size([5169, 100, 6])\n",
      "hModel_Y_test_tensor shape: torch.Size([5169, 6])\n"
     ]
    }
   ],
   "source": [
    "# Convert to Tensor \n",
    "# do not store on GPU (yet)\n",
    "hModel_X_test_tensor = torch.from_numpy(hModel_X_test_norm).float()\n",
    "hModel_Y_test_tensor = torch.from_numpy(hModel_Y_test_norm).float().squeeze()\n",
    "\n",
    "print(f'hModel_X_test_tensor shape: {hModel_X_test_tensor.shape}')\n",
    "print(f'hModel_Y_test_tensor shape: {hModel_Y_test_tensor.shape}')\n"
   ]
  },
  {
   "cell_type": "code",
   "execution_count": 85,
   "metadata": {},
   "outputs": [],
   "source": [
    "# #only use if predicting one feature\n",
    "# hModel_Y_test_tensor = hModel_Y_test_tensor[:,:,1].unsqueeze(-1)\n",
    "\n",
    "# print(f'hModel_Y_test_tensor shape: {hModel_Y_test_tensor.shape}')"
   ]
  },
  {
   "cell_type": "code",
   "execution_count": 86,
   "metadata": {},
   "outputs": [],
   "source": [
    "hModel_test_dataset = gaitDataset(hModel_X_test_tensor, hModel_Y_test_tensor)\n",
    "# train_dataloader = DataLoader(train_dataset, batch_size=len(train_dataset), shuffle = False)\n",
    "hModel_test_dataloader = DataLoader(hModel_test_dataset, batch_size=32, shuffle = False)\n",
    "# hModel_test_dataloader = DataLoader(hModel_test_dataset, batch_size=16, shuffle = False)"
   ]
  },
  {
   "cell_type": "markdown",
   "metadata": {},
   "source": [
    "#### Load Healthy Model"
   ]
  },
  {
   "cell_type": "code",
   "execution_count": 106,
   "metadata": {},
   "outputs": [],
   "source": [
    "H_MODEL_PATH = r'D:\\Study 2 Results and Models\\Study 2 Model Checkpoints' +  '\\\\' + 'Exp095-2022-07-28-LSTM-In100-Out1' + '.pt'"
   ]
  },
  {
   "cell_type": "code",
   "execution_count": 107,
   "metadata": {},
   "outputs": [
    {
     "data": {
      "text/plain": [
       "LSTM(\n",
       "  (lstm): LSTM(6, 10, num_layers=3, batch_first=True, dropout=0.1)\n",
       "  (fc1): Linear(in_features=10, out_features=6, bias=True)\n",
       ")"
      ]
     },
     "execution_count": 107,
     "metadata": {},
     "output_type": "execute_result"
    }
   ],
   "source": [
    "#set parameters of the model \n",
    "input_size=len(features)\n",
    "hidden_size=10\n",
    "num_layers=3\n",
    "in_seq_len=input_window\n",
    "out_seq_len=output_window\n",
    "output_size=len(features)\n",
    "learning_rate= 0.001\n",
    "\n",
    "\n",
    "hModel = LSTM(input_size=input_size, hidden_size=hidden_size, num_layers=num_layers, in_seq_len=in_seq_len, out_seq_len=out_seq_len, output_size=output_size, device=DEVICE).to(DEVICE)\n",
    "# hModel = MLP(input_size=input_size, in_seq_len=in_seq_len, out_seq_len=out_seq_len, output_size=output_size, device=DEVICE).to(DEVICE)\n",
    "optimiser = torch.optim.Adam(hModel.parameters(), lr = learning_rate)\n",
    "\n",
    "checkpoint = torch.load(H_MODEL_PATH)\n",
    "hModel.load_state_dict(checkpoint['model_state_dict'])\n",
    "optimiser.load_state_dict(checkpoint['optimiser_state_dict'])\n",
    "best_epoch_hModel = checkpoint['epoch']\n",
    "best_val_loss_hModel = checkpoint['loss']\n",
    "\n",
    "hModel.eval()"
   ]
  },
  {
   "cell_type": "code",
   "execution_count": 108,
   "metadata": {},
   "outputs": [
    {
     "data": {
      "text/plain": [
       "'D:\\\\Study 2 Results and Models\\\\Study 2 Model Checkpoints\\\\Exp095-2022-07-28-LSTM-In100-Out1.pt'"
      ]
     },
     "execution_count": 108,
     "metadata": {},
     "output_type": "execute_result"
    }
   ],
   "source": [
    "H_MODEL_PATH"
   ]
  },
  {
   "cell_type": "code",
   "execution_count": 109,
   "metadata": {},
   "outputs": [
    {
     "data": {
      "text/plain": [
       "7"
      ]
     },
     "execution_count": 109,
     "metadata": {},
     "output_type": "execute_result"
    }
   ],
   "source": [
    "best_epoch_hModel"
   ]
  },
  {
   "cell_type": "code",
   "execution_count": 110,
   "metadata": {},
   "outputs": [
    {
     "data": {
      "text/plain": [
       "0.0007924010744059089"
      ]
     },
     "execution_count": 110,
     "metadata": {},
     "output_type": "execute_result"
    }
   ],
   "source": [
    "best_val_loss_hModel"
   ]
  },
  {
   "cell_type": "code",
   "execution_count": 111,
   "metadata": {},
   "outputs": [
    {
     "data": {
      "application/vnd.jupyter.widget-view+json": {
       "model_id": "5fca1e8d1dc24be9b7c18298a8313df6",
       "version_major": 2,
       "version_minor": 0
      },
      "text/plain": [
       "0it [00:00, ?it/s]"
      ]
     },
     "metadata": {},
     "output_type": "display_data"
    },
    {
     "name": "stdout",
     "output_type": "stream",
     "text": [
      "hmodel loss: 0.0012836401014125985\n",
      "Shape of predicted values test: (5169, 6)\n",
      "shape of actual values test: (5169, 6)\n",
      "Shape of predicted values test post denormalisation: (5169, 1, 6)\n",
      "shape of actual values test post denormalisation: (5169, 1, 6)\n"
     ]
    }
   ],
   "source": [
    "hModel_preds_norm, hModel_actual_norm, hmodel_loss = test_LSTM(hModel, hModel_test_dataloader, DEVICE)\n",
    "# hModel_preds_norm, hModel_actual_norm, hmodel_loss = test_MLP(hModel, hModel_test_dataloader)\n",
    "\n",
    "\n",
    "# H_model_predicted_values = hModel_preds_norm.cpu().numpy()\n",
    "# H_model_actual_values = hModel_actual_norm.cpu().numpy()\n",
    "\n",
    "print(f'hmodel loss: {hmodel_loss}')\n",
    "print(f'Shape of predicted values test: {hModel_preds_norm.cpu().numpy().shape}')\n",
    "print(f'shape of actual values test: {hModel_actual_norm.cpu().numpy().shape}')\n",
    "\n",
    "# hModel_preds = denormalise(hModel_preds_norm.cpu().numpy(), healthy_scalars)\n",
    "hModel_preds = denormalise(np.expand_dims(predicted_values_val,1), scalars)\n",
    "hModel_actual = denormalise(np.expand_dims(actual_values_val,1), scalars)\n",
    "\n",
    "print(f'Shape of predicted values test post denormalisation: {hModel_preds.shape}')\n",
    "print(f'shape of actual values test post denormalisation: {hModel_actual.shape}')"
   ]
  },
  {
   "cell_type": "code",
   "execution_count": 112,
   "metadata": {},
   "outputs": [
    {
     "name": "stdout",
     "output_type": "stream",
     "text": [
      "Losses for Healthy trained model\n",
      "hmodel MSE Loss: 6.0170371646675695\n",
      "hmodel MSE std: 17.843278884887695\n",
      "hmodel MAE Loss: 1.757118383028632\n",
      "hmodel MAE std: 1.7115991115570068\n"
     ]
    }
   ],
   "source": [
    "hModel_mse_loss, hModel_mse_std = mse_loss(hModel_preds, hModel_actual, reduction='mean', format='np')\n",
    "hModel_mae_loss, hModel_mae_std = mae_loss(hModel_preds, hModel_actual, reduction='mean', format='np')\n",
    "\n",
    "print('Losses for Healthy trained model')\n",
    "print(f'hmodel MSE Loss: {hModel_mse_loss}')\n",
    "print(f'hmodel MSE std: {hModel_mse_std}')\n",
    "print(f'hmodel MAE Loss: {hModel_mae_loss}')\n",
    "print(f'hmodel MAE std: {hModel_mae_std}')"
   ]
  },
  {
   "cell_type": "markdown",
   "metadata": {},
   "source": [
    "#### Original Code"
   ]
  },
  {
   "cell_type": "code",
   "execution_count": 113,
   "metadata": {},
   "outputs": [
    {
     "data": {
      "text/plain": [
       "(200, 6)"
      ]
     },
     "execution_count": 113,
     "metadata": {},
     "output_type": "execute_result"
    }
   ],
   "source": [
    "s = 1000#sample to plot\n",
    "nsteps_future = 200 #number of steps to predict in the future \n",
    "\n",
    "with torch.no_grad(): #do not calculate gradients for forward pass\n",
    "    in_to_model = hModel_X_test_tensor[s].expand((1,-1,-1)).to(DEVICE) \n",
    "    all_preds=[] \n",
    "\n",
    "    for _ in range(0,nsteps_future): #loop over the steps to predict in the future\n",
    "        # print(f'in_to_model: {in_to_model[:,-10:,1]}')\n",
    "        future_pred = hModel(in_to_model)\n",
    "\n",
    "        all_preds.append(future_pred.tolist())\n",
    "\n",
    "        new_in_to_model = torch.cat((in_to_model, future_pred.unsqueeze(1)),1)\n",
    "        in_to_model = new_in_to_model[:,1:,:]\n",
    "\n",
    "all_future_preds = np.array(all_preds).reshape((nsteps_future,len(features)))\n",
    "\n",
    "all_future_preds.shape"
   ]
  },
  {
   "cell_type": "code",
   "execution_count": 114,
   "metadata": {},
   "outputs": [
    {
     "name": "stdout",
     "output_type": "stream",
     "text": [
      "torch.Size([100])\n",
      "(200,)\n"
     ]
    },
    {
     "data": {
      "image/png": "[encoded data removed]",
      "text/plain": [
       "<Figure size 1440x432 with 1 Axes>"
      ]
     },
     "metadata": {
      "needs_background": "light"
     },
     "output_type": "display_data"
    },
    {
     "name": "stdout",
     "output_type": "stream",
     "text": [
      "torch.Size([100])\n",
      "(200,)\n"
     ]
    },
    {
     "data": {
      "image/png": "[encoded data removed]",
      "text/plain": [
       "<Figure size 1440x432 with 1 Axes>"
      ]
     },
     "metadata": {
      "needs_background": "light"
     },
     "output_type": "display_data"
    },
    {
     "name": "stdout",
     "output_type": "stream",
     "text": [
      "torch.Size([100])\n",
      "(200,)\n"
     ]
    },
    {
     "data": {
      "image/png": "[encoded data removed]",
      "text/plain": [
       "<Figure size 1440x432 with 1 Axes>"
      ]
     },
     "metadata": {
      "needs_background": "light"
     },
     "output_type": "display_data"
    },
    {
     "name": "stdout",
     "output_type": "stream",
     "text": [
      "torch.Size([100])\n",
      "(200,)\n"
     ]
    },
    {
     "data": {
      "image/png": "[encoded data removed]",
      "text/plain": [
       "<Figure size 1440x432 with 1 Axes>"
      ]
     },
     "metadata": {
      "needs_background": "light"
     },
     "output_type": "display_data"
    },
    {
     "name": "stdout",
     "output_type": "stream",
     "text": [
      "torch.Size([100])\n",
      "(200,)\n"
     ]
    },
    {
     "data": {
      "image/png": "[encoded data removed]",
      "text/plain": [
       "<Figure size 1440x432 with 1 Axes>"
      ]
     },
     "metadata": {
      "needs_background": "light"
     },
     "output_type": "display_data"
    },
    {
     "name": "stdout",
     "output_type": "stream",
     "text": [
      "torch.Size([100])\n",
      "(200,)\n"
     ]
    },
    {
     "data": {
      "image/png": "[encoded data removed]",
      "text/plain": [
       "<Figure size 1440x432 with 1 Axes>"
      ]
     },
     "metadata": {
      "needs_background": "light"
     },
     "output_type": "display_data"
    }
   ],
   "source": [
    "input_seq = hModel_X_test_tensor[s].expand((1,-1,-1))\n",
    "\n",
    "\n",
    "for f in range(len(features)):\n",
    "    path = r'D:\\Study 2 Results and Models\\Model Performance' + '\\\\'  + 'Exp' + str(exp_ID) + '-' + str(date.today()) + '-' + model + '-In' + str(input_window) + '-Out' + str(output_window) + '-Plot(1)-' + str(features[f]) + '.png'\n",
    "   \n",
    "    input = input_seq[:,:,f].squeeze()\n",
    "    print(input.shape)\n",
    "\n",
    "    predicted_trajectory = all_future_preds[:,f]\n",
    "    print(predicted_trajectory.shape)\n",
    "\n",
    "    past_timepoints = np.arange(0,len(input))\n",
    "    # print(f'past_timepoints: {past_timepoints}')\n",
    "\n",
    "    future_timepoints = np.arange(len(input), len(input)+len(predicted_trajectory))\n",
    "    # print(f'future_timepoints: {future_timepoints}')\n",
    "\n",
    "    actual_seq = hModel_Y_test_tensor[s:s+nsteps_future,f].reshape(-1,1).squeeze()\n",
    "    actual_timepoints = np.arange(len(input), len(input)+len(actual_seq))\n",
    "\n",
    "    rcParams['figure.figsize'] = 20,6\n",
    "\n",
    "    # ax = sns.lineplot(x=past_timepoints[-20:], y=input[-20:]) #only plots last 20 values of input\n",
    "    ax = sns.lineplot(x=past_timepoints[:], y=input[:], label='input_timesteps')\n",
    "\n",
    "    # ax.fill_between(x=past_timepoints, y1=input_stats, y2=input_stats, alpha=0.1)\n",
    "    ax = sns.lineplot(x=future_timepoints, y=predicted_trajectory, label='hModel_preds')\n",
    "\n",
    "    ax = sns.lineplot(x=actual_timepoints, y = actual_seq, label='actual')\n",
    "    # ax = sns.lineplot(x=future_timepoints, y=H_model_preds, label='H_model_preds')\n",
    "    # ax = sns.lineplot(x=future_timepoints, y=actual, label='actual')\n",
    "    # ax = sns.lineplot(x=future_timepoints, y=input_bf_processing, label='input_bf_processing')\n",
    "\n",
    "    # ax.set(font_scale = 1)\n",
    "    # sns.set(rc={'axes.facecolor':'whitegrid', 'figure.facecolor':'whitegrid'})\n",
    "\n",
    "    fontsize = 15\n",
    "    ax.set_xlabel('Time-step', fontsize =15)\n",
    "    ax.set_ylabel('Angle (degrees)', fontsize =15)\n",
    "\n",
    "    plt.legend(fontsize = 15)\n",
    "    plt.title(features[f] + ' S ' + str(s))\n",
    "#  \n",
    "    # plt.savefig(path)\n",
    "    plt.show()\n"
   ]
  },
  {
   "cell_type": "code",
   "execution_count": null,
   "metadata": {},
   "outputs": [],
   "source": []
  },
  {
   "cell_type": "code",
   "execution_count": null,
   "metadata": {},
   "outputs": [],
   "source": [
    "#original sequence size [n_samples, timesteps, featuers]\n",
    "\n",
    "#take only one timesteps from each sample + choose one feature only [:, 1, f]\n",
    "\n",
    "#flatten sequence and plot \n",
    "\n",
    "in_seq_to_plt = X_sample.cpu().numpy()\n",
    "\n",
    "gen_seq_to_plt = generated_sequence.cpu().numpy()\n",
    "\n",
    "in_seq_to_plt_denorm = denormalise(in_seq_to_plt, scalars)\n",
    "gen_seq_to_plt_denorm = denormalise(gen_seq_to_plt, scalars)\n",
    "\n",
    "in_seq_to_plt_denorm = in_seq_to_plt_denorm[:, :, 1]\n",
    "gen_seq_to_plt_denorm = gen_seq_to_plt_denorm[:, 0, 1]\n",
    "\n",
    "print('in_seq_to_plt_denorm')\n",
    "print(in_seq_to_plt_denorm)\n",
    "print('gen_seq_to_plt_denorm')\n",
    "print(gen_seq_to_plt_denorm)\n",
    "\n"
   ]
  },
  {
   "cell_type": "code",
   "execution_count": null,
   "metadata": {},
   "outputs": [],
   "source": [
    "past_timepoints=np.array()\n",
    "\n",
    "ax = sns.lineplot(x=past_timepoints[-20:], y=input[-20:])\n",
    "# ax.fill_between(x=past_timepoints, y1=input_stats, y2=input_stats, alpha=0.1)\n",
    "ax = sns.lineplot(x=future_timepoints, y=preds)\n",
    "ax = sns.lineplot(x=future_timepoints, y=actual)"
   ]
  },
  {
   "cell_type": "markdown",
   "metadata": {},
   "source": [
    "### Visualise Predictions"
   ]
  },
  {
   "cell_type": "code",
   "execution_count": null,
   "metadata": {},
   "outputs": [],
   "source": [
    "val_dataset = gaitDataset(X_val, Y_val) #ADJUSTED\n",
    "# val_dataloader = DataLoader(val_dataset, batch_size=len(val_dataset), shuffle=False)\n",
    "val_dataloader = DataLoader(val_dataset, batch_size=32, shuffle=False)\n",
    "\n",
    "\n",
    "print(f\"Train Dataset length: {len(train_dataset)}\")\n",
    "print(f\"Val Dataset length: {len(val_dataset)}\")"
   ]
  },
  {
   "cell_type": "code",
   "execution_count": null,
   "metadata": {},
   "outputs": [],
   "source": [
    "pred_val_output, actual_val_output, val_loss = test_LSTM(model_LSTM, val_dataloader, DEVICE)\n",
    "\n",
    "predicted_values_val = pred_val_output.cpu().numpy()\n",
    "actual_values_val = actual_val_output.cpu().numpy()\n",
    "\n",
    "print(f'val loss: {val_loss}')\n",
    "print(f'Shape of predicted values test: {predicted_values_val.shape}')\n",
    "print(f'shape of actual values test: {actual_values_val.shape}')\n",
    "\n",
    "predicted_val_denorm = denormalise(predicted_values_val, scalars)\n",
    "actual_val_denorm = denormalise(actual_values_val, scalars)\n",
    "\n",
    "print(f'Shape of predicted values test post denormalisation: {predicted_val_denorm.shape}')\n",
    "print(f'shape of actual values test post denormalisation: {actual_val_denorm.shape}')"
   ]
  },
  {
   "cell_type": "code",
   "execution_count": null,
   "metadata": {},
   "outputs": [],
   "source": [
    "val_mse_loss, val_mse_std = mse_loss(predicted_val_denorm, actual_val_denorm, reduction='mean', format='np')\n",
    "val_mae_loss, val_mae_std = mae_loss(predicted_val_denorm, actual_val_denorm, reduction='mean', format='np')\n",
    "\n",
    "print(f'Val MSE Loss: {val_mse_loss}')\n",
    "print(f'Val MSE std: {val_mse_std}')\n",
    "print(f'Val MAE Loss: {val_mae_loss}')\n",
    "print(f'Val MAE std: {val_mae_std}')"
   ]
  },
  {
   "cell_type": "code",
   "execution_count": null,
   "metadata": {},
   "outputs": [],
   "source": [
    "X_val[1,:,1]\n"
   ]
  },
  {
   "cell_type": "code",
   "execution_count": null,
   "metadata": {},
   "outputs": [],
   "source": [
    "Y_val[1,:,1]"
   ]
  },
  {
   "cell_type": "code",
   "execution_count": null,
   "metadata": {},
   "outputs": [],
   "source": [
    "actual_val_output[1,:,1]"
   ]
  },
  {
   "cell_type": "code",
   "execution_count": null,
   "metadata": {},
   "outputs": [],
   "source": [
    "pred_val_output[1,:,1]"
   ]
  },
  {
   "cell_type": "code",
   "execution_count": null,
   "metadata": {},
   "outputs": [],
   "source": []
  },
  {
   "cell_type": "code",
   "execution_count": null,
   "metadata": {},
   "outputs": [],
   "source": [
    "# input = np.array([1,2,3,3,5,3,1,1,2])\n",
    "\n",
    "# print(len(input))\n",
    "# actual = np.array([3,4,2])\n",
    "# preds = np.array([2,1,1])\n",
    "\n",
    "# past_timepoints = np.arange(0,len(input))\n",
    "# print(past_timepoints)\n",
    "\n",
    "# future_timepoints = np.arange(len(input), len(input)+len(preds))\n",
    "# print(future_timepoints)\n",
    "\n",
    "idx = 4\n",
    "\n",
    "input = X_val[idx,:,idx]\n",
    "\n",
    "print(len(input))\n",
    "actual = actual_val_output[idx,:,idx].cpu().numpy()\n",
    "preds = pred_val_output[idx,:,idx].cpu().numpy()\n",
    "\n",
    "past_timepoints = np.arange(0,len(input))\n",
    "print(past_timepoints)\n",
    "\n",
    "future_timepoints = np.arange(len(input), len(input)+len(preds))\n",
    "print(future_timepoints)"
   ]
  },
  {
   "cell_type": "code",
   "execution_count": null,
   "metadata": {},
   "outputs": [],
   "source": [
    "ax = sns.lineplot(x=past_timepoints[-20:], y=input[-20:])\n",
    "# ax.fill_between(x=past_timepoints, y1=input_stats, y2=input_stats, alpha=0.1)\n",
    "ax = sns.lineplot(x=future_timepoints, y=preds)\n",
    "ax = sns.lineplot(x=future_timepoints, y=actual)"
   ]
  },
  {
   "cell_type": "markdown",
   "metadata": {},
   "source": [
    "### Test on CP data\n"
   ]
  },
  {
   "cell_type": "code",
   "execution_count": null,
   "metadata": {},
   "outputs": [],
   "source": [
    "file_dir = r'D:\\Study 2 Data\\CP Test (sub-sample)'\n",
    "cp_files = os.listdir(file_dir) \n",
    "\n",
    "# Changes the working directory to get the data from their location \n",
    "os.chdir(file_dir)\n",
    "cwd = os.getcwd()\n",
    "\n",
    "print(f'Current working directory is: {cwd}')\n",
    "print(f\"There are {len(cp_files)} files in the specified path.\")\n",
    "\n",
    "cp_files\n"
   ]
  },
  {
   "cell_type": "code",
   "execution_count": null,
   "metadata": {},
   "outputs": [],
   "source": [
    "CP_data = create_dataframe(cp_files, all_features)"
   ]
  },
  {
   "cell_type": "code",
   "execution_count": null,
   "metadata": {},
   "outputs": [],
   "source": [
    "CP_data.shape"
   ]
  },
  {
   "cell_type": "code",
   "execution_count": null,
   "metadata": {},
   "outputs": [],
   "source": [
    "CP_samples = count_nsamples(CP_data)"
   ]
  },
  {
   "cell_type": "code",
   "execution_count": null,
   "metadata": {},
   "outputs": [],
   "source": [
    "def pd_to_np_converter(data, n_samples, features):\n",
    "    #create a numpy array that stores the data for export\n",
    "    sample_ID = []\n",
    "    # patients = 2\n",
    "    # n_trials = 10\n",
    "    # # samples = patients * n_trials\n",
    "    data_store = np.zeros((n_samples, 2500, len(features)), dtype=np.float32)\n",
    "    i = 0\n",
    "\n",
    "    for p in data['Patient ID'].unique(): #loop over patients \n",
    "        for t in data['Trial'].unique(): #loop over trials starting with trials 1 to trial 9 (inclusive)\n",
    "            pd_array = data[(data['Patient ID'] == p) & (data['Trial'] == t)]\n",
    "            if pd_array.empty:\n",
    "                continue\n",
    "                # print('DataFrame is empty!')\n",
    "                # print(f'Trail {t} does not exist in {p}')\n",
    "            else:\n",
    "                np_array = pd_array.to_numpy()\n",
    "                data_store[i, :np_array.shape[0], :] = np_array[:,3:] \n",
    "                sample_ID.append(p+ ' Ts'+str(t)) \n",
    "                i +=1\n",
    "\n",
    "    return pd_array.columns, data_store"
   ]
  },
  {
   "cell_type": "code",
   "execution_count": null,
   "metadata": {},
   "outputs": [],
   "source": [
    "CP_columns, CP_data_np = pd_to_np_converter(CP_data, CP_samples, features)\n",
    "\n",
    "print(f'CP_data_np.shape: {CP_data_np.shape}')\n"
   ]
  },
  {
   "cell_type": "code",
   "execution_count": null,
   "metadata": {},
   "outputs": [],
   "source": [
    "# CHECKKKKKKKKKKKKKKKKKKKKKKKKKKKKKKKKKKKKKKKKKKKKKKKKKKKKKKKKKKKKKKKKKKKKKKKKKKKKKKKKKKKKKKKKKKKKKKKKKKKKKKKKKKKKKKKKKKKKKKKKKKKKKKKKKKKKKKKKKKKKKKKKKKKKKKKKKKKKKKKKKKKKKKKKKK\n",
    "# Selecting the features to be used when creating windows \n",
    "approx_seq_len = 2500 # appoximate the length of the longest sequence that can be encountered \n",
    "# samples_per_file = ((approx_seq_len - (input_window+output_window)) // stride) + 1 #number of window samples generated per file \n",
    "samples_per_file = 2000\n",
    "\n",
    "\n",
    "# create a zero-filled 3D array with shape (number of samples * number of files, window size, number of features)\n",
    "X_CP_windows = np.zeros((samples_per_file*CP_samples, input_window, len(features)), dtype=np.float32) #size can be reduced by decreasing train_size \n",
    "Y_CP_windows = np.zeros((samples_per_file*CP_samples, output_window, len(features)), dtype=np.float32) \n",
    "\n",
    "\n",
    "start_idx = 0 #setting start index to equal zero \n",
    "CP_sample_sum = 0\n",
    "CP_excluded_samples = []\n",
    "# Create training windows \n",
    "\n",
    "#for i in tqdm(range(train_size)): #Use for including all data including outliers \n",
    "for i in range(CP_samples): \n",
    "       \n",
    "    X_values, Y_values = window_generator(\n",
    "        CP_data_np[i,:,:],\n",
    "        input_window=input_window, \n",
    "        output_window=output_window, \n",
    "        stride=stride, \n",
    "        features=features,\n",
    "        labels=labels\n",
    "        )\n",
    "\n",
    "    end_idx = start_idx + X_values.shape[0]\n",
    "\n",
    "    # print(f'file number [{f}] start index: {start_idx}, end index: {end_idx}, number of samples: {X_values.shape[0]}')\n",
    "\n",
    "    X_CP_windows[start_idx:end_idx, :, :] = X_values\n",
    "    Y_CP_windows[start_idx:end_idx, :, :] = Y_values\n",
    "\n",
    "    # print(f'number of samples copied: {X_train_data_store[start_idx:end_idx, :, :].shape[0]}')\n",
    "\n",
    "    start_idx = end_idx \n",
    "    CP_sample_sum += X_values.shape[0]\n",
    "\n",
    "    # except Exception:\n",
    "    #     exception_msg(i)\n",
    "    #     train_excluded_samples.append(i)\n",
    "\n",
    "# print(f\"Completed storage of training windows samples, which contains {X_train_data_store.shape[0]} samples\")\n",
    "X_CP_data = X_CP_windows[:end_idx, :, :]\n",
    "Y_CP_data = Y_CP_windows[:end_idx, :, :]\n",
    "\n",
    "\n",
    "print(f'shape of X_CP_windows: {X_CP_windows.shape}')\n",
    "print(f'shape of Y_CP_windows: {Y_CP_windows.shape}')\n",
    "\n",
    "print(f'shape of X_CP_data: {X_CP_data.shape}')\n",
    "print(f'shape of Y_CP_data: {Y_CP_data.shape}')"
   ]
  },
  {
   "cell_type": "code",
   "execution_count": null,
   "metadata": {},
   "outputs": [],
   "source": [
    "X_CP_norm = normalise_transform(X_CP_data, scalars)\n",
    "Y_CP_norm = normalise_transform(Y_CP_data, scalars)"
   ]
  },
  {
   "cell_type": "code",
   "execution_count": null,
   "metadata": {},
   "outputs": [],
   "source": [
    "\n",
    "# Plot histogram of the data \n",
    "for f in range(len(features)):\n",
    "    plt.hist(X_CP_norm[:,:,f].reshape(-1,1), bins=50, label = features[f])\n",
    "    plt.legend()\n",
    "    plt.show()"
   ]
  },
  {
   "cell_type": "code",
   "execution_count": null,
   "metadata": {},
   "outputs": [],
   "source": [
    "# Convert to Tensor \n",
    "# do not store on GPU (yet)\n",
    "X_CP_tensor = torch.from_numpy(X_CP_norm).float()\n",
    "Y_CP_tensor = torch.from_numpy(Y_CP_norm).float()\n",
    "\n",
    "print(f'X_CP_tensor shape: {X_CP_tensor.shape}')\n",
    "print(f'Y_CP_tensor shape: {Y_CP_tensor.shape}')\n"
   ]
  },
  {
   "cell_type": "code",
   "execution_count": null,
   "metadata": {},
   "outputs": [],
   "source": [
    "CP_dataset = gaitDataset(X_CP_tensor, Y_CP_tensor)\n",
    "# train_dataloader = DataLoader(train_dataset, batch_size=len(train_dataset), shuffle = False)\n",
    "CP_dataloader = DataLoader(CP_dataset, batch_size=32, shuffle = False)"
   ]
  },
  {
   "cell_type": "code",
   "execution_count": null,
   "metadata": {},
   "outputs": [],
   "source": [
    "pred_CP_output, actual_CP_output, CP_loss = test_LSTM(checkpoint_model, CP_dataloader, DEVICE)\n",
    "\n",
    "predicted_values_CP = pred_CP_output.cpu().numpy()\n",
    "actual_values_CP = actual_CP_output.cpu().numpy()\n",
    "\n",
    "print(f'CP loss: {CP_loss}')\n",
    "print(f'Shape of predicted values test: {predicted_values_CP.shape}')\n",
    "print(f'shape of actual values test: {actual_values_CP.shape}')\n",
    "\n",
    "predicted_CP_denorm = denormalise(predicted_values_CP, scalars)\n",
    "actual_CP_denorm = denormalise(actual_values_CP, scalars)\n",
    "\n",
    "print(f'Shape of predicted values test post denormalisation: {predicted_CP_denorm.shape}')\n",
    "print(f'shape of actual values test post denormalisation: {actual_CP_denorm.shape}')"
   ]
  },
  {
   "cell_type": "code",
   "execution_count": null,
   "metadata": {},
   "outputs": [],
   "source": [
    "CP_mse_loss, CP_mse_std = mse_loss(predicted_CP_denorm, actual_CP_denorm, reduction='mean', format='np')\n",
    "CP_mae_loss, CP_mae_std = mae_loss(predicted_CP_denorm, actual_CP_denorm, reduction='mean', format='np')\n",
    "\n",
    "print(f'CP MSE Loss: {CP_mse_loss}')\n",
    "print(f'CP MSE std: {CP_mse_std}')\n",
    "print(f'CP MAE Loss: {CP_mae_loss}')\n",
    "print(f'CP MAE std: {CP_mae_std}')"
   ]
  },
  {
   "cell_type": "code",
   "execution_count": null,
   "metadata": {},
   "outputs": [],
   "source": [
    "#code for generating sequences based on an input\n",
    "\n",
    "def test_LSTM_single_step(model, input_seq, n_future_steps, device):\n",
    "    # loss_function = nn.MSELoss(reduction='mean')\n",
    "    model.eval()\n",
    "    # actual_output, pred_output = [], []\n",
    "    # running_loss = 0. \n",
    "\n",
    "    gen_seq = [] #generated sequence \n",
    "    new_seq = torch.empty(input_seq.shape)\n",
    "    input_seq = input_seq.to(device)\n",
    "\n",
    "    with torch.no_grad():\n",
    "        for i in range(n_future_steps):\n",
    "        \n",
    "            # print(f'input_seq shape: {input_seq.shape}')\n",
    "\n",
    "            preds = model(input_seq)\n",
    "            # print(f'preds.shape: {preds.shape}')\n",
    "            \n",
    "            gen_seq.append(preds)\n",
    "            # print(f'input_seq[:,preds.shape[1]:,:].shape: {input_seq[:,preds.shape[1]:,:].shape}')\n",
    "\n",
    "            new_seq=torch.cat((input_seq[:,preds.shape[1]:,:], preds), axis=1)\n",
    "\n",
    "            # print(f'new_seq.shape: {new_seq.shape}')\n",
    "            input_seq=new_seq\n",
    "\n",
    "        gen_seq_tensor = torch.vstack(gen_seq)\n",
    "    # print(f'gen_seq_tensor.shape: {gen_seq_tensor.shape}')\n",
    "    \n",
    "    return gen_seq_tensor\n",
    "\n",
    "\n",
    "        \n",
    "\n",
    "\n",
    "\n",
    "    # inputs = []\n",
    "    # outputs = []\n",
    "\n",
    "    # model(inputs)\n",
    "\n",
    "    #     for idx, (batch_inputs, batch_targets) in tqdm(enumerate(dataloader)):\n",
    "\n",
    "    #         batch_inputs, batch_targets = batch_inputs.to(device), batch_targets.to(device)\n",
    "\n",
    "    #         # if idx==0:\n",
    "    #         #     batch_preds = model(batch_inputs)\n",
    "    #         #     # print(f'batch shape: {batch_preds.shape}')\n",
    "    #         #     loss = loss_function(batch_preds, batch_targets)\n",
    "    #         #     running_loss += loss.item()\n",
    "    #         #     current_preds = batch_preds\n",
    "    #         #     all_preds = batch_preds\n",
    "\n",
    "    #         # else:\n",
    "    #         #     batch_preds = model(batch_inputs)\n",
    "    #         #     print(f'batch shape: {batch_preds.shape}')\n",
    "    #         #     loss = loss_function(batch_preds, batch_targets)\n",
    "    #         #     running_loss += loss.item()\n",
    "    #         #     all_preds = torch.cat((current_preds, batch_preds), dim=0)\n",
    "    #         #     current_preds = batch_preds\n",
    "\n",
    "    #         batch_preds = model(batch_inputs)\n",
    "    #         loss = loss_function(batch_preds, batch_targets)\n",
    "    #         running_loss += loss.item()\n",
    "    #         actual_output.append(batch_targets)\n",
    "    #         pred_output.append(batch_preds)\n",
    "\n",
    "\n",
    "    #         #             lst = []\n",
    "    #         # print(f'{x.size()}')\n",
    "    #         # for i in range(10):\n",
    "    #         #     x += i  # say we do something with x at iteration i\n",
    "    #         #     lst.append(x)\n",
    "    #         # # lstt = torch.stack([x for _ in range(10)])\n",
    "    #         # lstt = torch.stack(lst)\n",
    "    #         # print(lstt.size())\n",
    "\n",
    "    #     total_loss = running_loss / len(dataloader)\n",
    "\n",
    "    #     actual_output_tensor = torch.vstack(actual_output)\n",
    "    #     pred_output_tensor = torch.vstack(pred_output)\n",
    "    \n",
    "    # return pred_output_tensor, actual_output_tensor, total_loss"
   ]
  },
  {
   "cell_type": "code",
   "execution_count": null,
   "metadata": {},
   "outputs": [],
   "source": [
    "X_sample, Y_sample = [ x[0] for x in iter(CP_dataloader).next() ]\n",
    "\n",
    "X_sample = X_sample.unsqueeze(0)\n",
    "\n",
    "X_sample.shape"
   ]
  },
  {
   "cell_type": "code",
   "execution_count": null,
   "metadata": {},
   "outputs": [],
   "source": [
    "X_sample.shape\n",
    "\n",
    "Y_sample.shape"
   ]
  },
  {
   "cell_type": "code",
   "execution_count": null,
   "metadata": {},
   "outputs": [],
   "source": [
    "generated_sequence = test_LSTM_single_step(model_LSTM, X_sample,20, DEVICE)\n",
    "\n"
   ]
  },
  {
   "cell_type": "markdown",
   "metadata": {},
   "source": [
    "### Connect sequences to plot  "
   ]
  },
  {
   "cell_type": "code",
   "execution_count": null,
   "metadata": {},
   "outputs": [],
   "source": [
    "#original sequence size [n_samples, timesteps, featuers]\n",
    "\n",
    "#take only one timesteps from each sample + choose one feature only [:, 1, f]\n",
    "\n",
    "#flatten sequence and plot \n",
    "\n",
    "in_seq_to_plt = X_sample.cpu().numpy()\n",
    "\n",
    "gen_seq_to_plt = generated_sequence.cpu().numpy()\n",
    "\n",
    "in_seq_to_plt_denorm = denormalise(in_seq_to_plt, scalars)\n",
    "gen_seq_to_plt_denorm = denormalise(gen_seq_to_plt, scalars)\n",
    "\n",
    "in_seq_to_plt_denorm = in_seq_to_plt_denorm[:, :, 1]\n",
    "gen_seq_to_plt_denorm = gen_seq_to_plt_denorm[:, 0, 1]\n",
    "\n",
    "print('in_seq_to_plt_denorm')\n",
    "print(in_seq_to_plt_denorm)\n",
    "print('gen_seq_to_plt_denorm')\n",
    "print(gen_seq_to_plt_denorm)\n",
    "\n"
   ]
  },
  {
   "cell_type": "code",
   "execution_count": null,
   "metadata": {},
   "outputs": [],
   "source": [
    "past_timepoints=np.array()\n",
    "\n",
    "ax = sns.lineplot(x=past_timepoints[-20:], y=input[-20:])\n",
    "# ax.fill_between(x=past_timepoints, y1=input_stats, y2=input_stats, alpha=0.1)\n",
    "ax = sns.lineplot(x=future_timepoints, y=preds)\n",
    "ax = sns.lineplot(x=future_timepoints, y=actual)"
   ]
  },
  {
   "cell_type": "markdown",
   "metadata": {},
   "source": [
    "### Benchmark"
   ]
  },
  {
   "cell_type": "markdown",
   "metadata": {},
   "source": [
    "#### Benchmark against naive method "
   ]
  },
  {
   "cell_type": "code",
   "execution_count": null,
   "metadata": {},
   "outputs": [],
   "source": [
    "## benchmark against naive output (making prediction only last value)\n",
    "naive_1_train_output = np.zeros(Y_train_data.shape)\n",
    "\n",
    "for f in range(len(features)):\n",
    "    for s in range(Y_train_data.shape[0]):\n",
    "        naive_1_train_output[s,:,f] = np.ones((output_window)) * X_train_data[s,-1,f]\n",
    "\n",
    "\n",
    "\n",
    "# print(naive_1_test_output.shape)\n",
    "\n",
    "\n",
    "# naive_1_test_output[1,:,1]\n",
    "\n",
    "# X_test_data[1,:,1]\n",
    "\n"
   ]
  },
  {
   "cell_type": "code",
   "execution_count": null,
   "metadata": {},
   "outputs": [],
   "source": [
    "naive_1_mse_loss, naive_1_mse_std = mse_loss(naive_1_train_output, Y_train_data, reduction='mean', format='np')\n",
    "naive_1_mae_loss, naive_1_mae_std = mae_loss(naive_1_train_output, Y_train_data, reduction='mean', format='np')\n",
    "\n",
    "print(f'naive_1 MSE Loss: {naive_1_mse_loss}')\n",
    "print(f'naive_1 MSE std: {naive_1_mse_std} ')\n",
    "print(f'naive_1 MAE Loss: {naive_1_mae_loss}')\n",
    "print(f'naive_1 MAE std: {naive_1_mae_std}')"
   ]
  },
  {
   "cell_type": "code",
   "execution_count": null,
   "metadata": {},
   "outputs": [],
   "source": [
    "## benchmark against mean output\n",
    "\n",
    "naive_average_train_output = np.zeros(Y_train_data.shape)\n",
    "\n",
    "for f in range(len(features)):\n",
    "    for s in range(Y_train_data.shape[0]):\n",
    "        naive_average_train_output[s,:,f] = np.ones((output_window)) * np.mean(X_train_data[s,:,f])\n",
    "\n",
    "\n",
    "\n",
    "print(naive_average_train_output.shape)\n",
    "\n"
   ]
  },
  {
   "cell_type": "code",
   "execution_count": null,
   "metadata": {},
   "outputs": [],
   "source": [
    "naive_average_mse_loss, naive_average_mse_std = mse_loss(naive_average_train_output, Y_train_data, reduction='mean', format='np')\n",
    "naive_average_mae_loss, naive_average_mae_std = mae_loss(naive_average_train_output, Y_train_data, reduction='mean', format='np')\n",
    "\n",
    "print(f'average MSE Loss: {naive_average_mse_loss}')\n",
    "print(f'average MSE std: {naive_average_mse_std} ')\n",
    "print(f'average MAE Loss: {naive_average_mae_loss}')\n",
    "print(f'average MAE std: {naive_average_mae_std}')"
   ]
  },
  {
   "cell_type": "markdown",
   "metadata": {},
   "source": [
    "### Save Progress and Results"
   ]
  },
  {
   "cell_type": "code",
   "execution_count": null,
   "metadata": {},
   "outputs": [],
   "source": [
    "out_fname = r'D:\\Study 2 Results and Models\\Investigation Results' + '\\\\' + 'Study 2 Experimentation Results' + '.txt'"
   ]
  },
  {
   "cell_type": "code",
   "execution_count": null,
   "metadata": {},
   "outputs": [],
   "source": [
    "# if os.path.exists(out_fname):\n",
    "#     print('ERROR: File with this name already exists, try alternative name.')\n",
    "    \n",
    "# else:\n",
    "with open(out_fname, 'a+') as text_file:\n",
    "    \n",
    "    print('Experiment Report', file=text_file)\n",
    "    print(f'{exp_ID}: {date.today()}',file=text_file)\n",
    "    # print('\\n', file=text_file)\n",
    "    print(f'model: {model}', file=text_file)\n",
    "    print(f'features: {features} \\n', file=text_file)\n",
    "\n",
    "    print('Information on Data', file=text_file)\n",
    "    print(f'train size: {train_sample_sum}', file=text_file)\n",
    "    print(f'validation size: {val_sample_sum}', file=text_file)\n",
    "    print(f'Train subjects: {train_subjects}', file=text_file)\n",
    "    print(f'Val subjects: {val_subjects}', file=text_file)\n",
    "    print(f'Scalars: {scalars} \\n', file=text_file)\n",
    "\n",
    "    print('Model Hyperparameters', file=text_file)\n",
    "    print(f'input window size: {input_window}', file=text_file)\n",
    "    print(f'output window size: {output_window}', file=text_file)\n",
    "    print(f'stride: {stride}', file=text_file)\n",
    "    print(f'epochs: {num_epochs}', file=text_file)\n",
    "    print(f'hidden size: {hidden_size}', file=text_file)\n",
    "    print(f'number of layers: {num_layers}', file=text_file)\n",
    "    print(f'learning rate: {learning_rate}', file=text_file)\n",
    "    print(f'optimiser: MSE', file=text_file)\n",
    "\n",
    "    print(f'best_epoch: {best_epoch}', file=text_file)\n",
    "    print(f'best_val_loss: {best_val_loss}', file=text_file)\n",
    "\n",
    "    print('\\n', file = text_file)\n",
    "    print(f'Model Architecture', file=text_file)\n",
    "    print(model_LSTM, file=text_file)\n",
    "\n",
    "    print(f'Losses during training:', file=text_file)\n",
    "    print(f'training loss: {train_history}', file=text_file)\n",
    "    print(f'validation history: {val_history}', file=text_file)\n",
    "\n",
    "    print('\\n', file=text_file)\n",
    "    print(f'Denomralised MSE and MAE: ', file=text_file)\n",
    "    print(f'Validation MSE and std(degrees): {val_mse_loss:.3f}, {val_mse_std:.3f}', file=text_file)\n",
    "    print(f'Validation MAE and std (degrees): {val_mae_loss:.3f}, {val_mae_std:.3f}', file=text_file)\n",
    "    # print('\\n', file=text_file)\n",
    "    print('--------------------------------------------------------------------------------------------------------', file=text_file)\n",
    "\n",
    "\n",
    "print(\"Generation of text file complete.\")"
   ]
  },
  {
   "cell_type": "code",
   "execution_count": null,
   "metadata": {},
   "outputs": [],
   "source": [
    "plt_path = r'D:\\Study 2 Results and Models\\Investigations Plots' + '\\\\'  + 'Exp' + str(exp_ID) + '-' + str(date.today()) + '-' + model + '-In' + str(input_window) + '-Out' + str(output_window) + '(loss)' + '.png'\n",
    "fst_e = 10 #first epoch to start plotting for \n",
    "x = [i for i in range(fst_e,num_epochs)]\n",
    "# print(x)\n",
    "# print(train_history[20:145].shape)\n",
    "plt.plot(x,train_history[fst_e:], label = 'Training loss')\n",
    "plt.plot(x,val_history[fst_e:], label = 'Val loss')\n",
    "# plt.plot(train_history, label = 'Training loss')\n",
    "# plt.plot(val_history, label = 'Val loss')\n",
    "\n",
    "\n",
    "plt.xlabel('Iterations')\n",
    "plt.ylabel('MSE Loss')\n",
    "plt.title('Train and Val MSE Loss')\n",
    "plt.legend()\n",
    "plt.savefig(plt_path)"
   ]
  },
  {
   "cell_type": "code",
   "execution_count": null,
   "metadata": {},
   "outputs": [],
   "source": [
    "import_path = r'D:\\Study 1 Results and Models\\Study 1 Models\\LSTM_4' + '\\\\' + 'Exp014-2022-02-10-LSTM-In120-Out3.pickle'\n",
    "# # # import_path = r'C:\\Users\\Rania\\rbk9\\Study 1 Results and Models\\Study 1 Models\\CNN_1' + '\\\\' + 'Exp001-2022-01-24-CNN-In96-Out1.pickle'\n",
    "# # # model_CNN = CNN(input_size, output_size=output_size, kernel_size=kernel_size, stride=1, in_seq_len=in_seq_len, out_seq_len=out_seq_len,  device = DEVICE).to(DEVICE)\n",
    "\n",
    "input_size=len(features)\n",
    "hidden_size=128\n",
    "num_layers=4\n",
    "in_seq_len=input_window\n",
    "out_seq_len=output_window\n",
    "output_size=len(features)\n",
    "# num_epochs=60\n",
    "\n",
    "# # learning_rate= 0.001\n",
    "\n",
    "model_LSTM = LSTM(input_size=input_size, hidden_size=hidden_size, num_layers=num_layers, in_seq_len=in_seq_len, out_seq_len=out_seq_len, output_size=output_size, device=DEVICE).to(DEVICE)\n",
    "model_LSTM.load_state_dict(torch.load(import_path))\n",
    "model_LSTM.eval()"
   ]
  },
  {
   "cell_type": "code",
   "execution_count": null,
   "metadata": {},
   "outputs": [],
   "source": [
    "pred_val_output, actual_val_output, val_loss = test_LSTM(model_LSTM, val_dataloader, DEVICE)\n",
    "\n",
    "predicted_values_val = pred_val_output.cpu().numpy()\n",
    "actual_values_val = actual_val_output.cpu().numpy()\n",
    "\n",
    "print(f'val loss: {val_loss}')\n",
    "print(f'Shape of predicted values test: {predicted_values_val.shape}')\n",
    "print(f'shape of actual values test: {actual_values_val.shape}')\n",
    "\n",
    "predicted_val_denorm = denormalise(predicted_values_val, scalars)\n",
    "actual_val_denorm = denormalise(actual_values_val, scalars)\n",
    "\n",
    "print(f'Shape of predicted values test post denormalisation: {predicted_val_denorm.shape}')\n",
    "print(f'shape of actual values test post denormalisation: {actual_val_denorm.shape}')"
   ]
  },
  {
   "cell_type": "code",
   "execution_count": null,
   "metadata": {},
   "outputs": [],
   "source": [
    "val_mse_loss, val_mse_std = mse_loss(predicted_val_denorm, actual_val_denorm, reduction='mean', format='np')\n",
    "val_mae_loss, val_mae_std = mae_loss(predicted_val_denorm, actual_val_denorm, reduction='mean', format='np')\n",
    "\n",
    "print(f'Val MSE Loss: {val_mse_loss}')\n",
    "print(f'Val MSE std: {val_mse_std}')\n",
    "print(f'Val MAE Loss: {val_mae_loss}')\n",
    "print(f'Val MAE std: {val_mae_std}')"
   ]
  },
  {
   "cell_type": "code",
   "execution_count": null,
   "metadata": {},
   "outputs": [],
   "source": [
    "# for p in model_LSTM.parameters():\n",
    "#     print(p.device)"
   ]
  },
  {
   "cell_type": "code",
   "execution_count": null,
   "metadata": {},
   "outputs": [],
   "source": [
    "# # Testing function \n",
    "# def test_LSTM(model, dataloader):\n",
    "#     loss_function = nn.MSELoss(reduction='mean')\n",
    "#     model.eval()\n",
    "#     actual_output, pred_output = [], []\n",
    "#     running_loss = 0. \n",
    "    \n",
    "#     with torch.no_grad():\n",
    "#         for idx, (batch_inputs, batch_targets) in tqdm(enumerate(dataloader)):\n",
    "\n",
    "#             batch_inputs, batch_targets = batch_inputs.to(DEVICE), batch_targets.to(DEVICE)\n",
    "\n",
    "#             # if idx==0:\n",
    "#             #     batch_preds = model(batch_inputs)\n",
    "#             #     # print(f'batch shape: {batch_preds.shape}')\n",
    "#             #     loss = loss_function(batch_preds, batch_targets)\n",
    "#             #     running_loss += loss.item()\n",
    "#             #     current_preds = batch_preds\n",
    "#             #     all_preds = batch_preds\n",
    "\n",
    "#             # else:\n",
    "#             #     batch_preds = model(batch_inputs)\n",
    "#             #     print(f'batch shape: {batch_preds.shape}')\n",
    "#             #     loss = loss_function(batch_preds, batch_targets)\n",
    "#             #     running_loss += loss.item()\n",
    "#             #     all_preds = torch.cat((current_preds, batch_preds), dim=0)\n",
    "#             #     current_preds = batch_preds\n",
    "\n",
    "#             batch_preds = model(batch_inputs)\n",
    "#             # print(f'batch preds: {batch_preds.type}')\n",
    "#             loss = loss_function(batch_preds, batch_targets)\n",
    "#             running_loss += loss.item()\n",
    "#             actual_output.append(batch_targets)\n",
    "#             pred_output.append(batch_preds)\n",
    "\n",
    "\n",
    "#             #             lst = []\n",
    "#             # print(f'{x.size()}')\n",
    "#             # for i in range(10):\n",
    "#             #     x += i  # say we do something with x at iteration i\n",
    "#             #     lst.append(x)\n",
    "#             # # lstt = torch.stack([x for _ in range(10)])\n",
    "#             # lstt = torch.stack(lst)\n",
    "#             # print(lstt.size())\n",
    "\n",
    "#         total_loss = running_loss / len(dataloader)\n",
    "\n",
    "#         actual_output_tensor = torch.vstack(actual_output)\n",
    "#         pred_output_tensor = torch.vstack(pred_output)\n",
    "    \n",
    "#     return pred_output_tensor, actual_output_tensor, total_loss"
   ]
  },
  {
   "cell_type": "code",
   "execution_count": null,
   "metadata": {},
   "outputs": [],
   "source": [
    "# # Creates dataset object that gets individual samples for training/testing so that the Dataloader can generate batches\n",
    "# class gaitDataset(Dataset):\n",
    "#     def __init__(self, x, y):\n",
    "#         self.x = x \n",
    "#         self.y = y \n",
    "\n",
    "#     def __len__(self):\n",
    "#         return self.x.shape[0]\n",
    "    \n",
    "#     def __getitem__(self, index):\n",
    "#         X_sample = self.x[index, :, :]\n",
    "#         Y_sample = self.y[index, :, :]\n",
    "#         return X_sample, Y_sample"
   ]
  },
  {
   "cell_type": "code",
   "execution_count": null,
   "metadata": {},
   "outputs": [],
   "source": [
    "# # X_test_norm = normalise_transform(X_test_data, scalars)\n",
    "# # Y_test_norm = normalise_transform(Y_test_data, scalars)\n",
    "\n",
    "# # Convert to Tensor \n",
    "# # do not store on GPU (yet)\n",
    "# X_test = torch.from_numpy(X_train_norm).float()\n",
    "# Y_test = torch.from_numpy(Y_train_norm).float()\n",
    "\n",
    "# print(f'X_test shape: {X_test.shape}')\n",
    "# print(f'Y_test shape: {Y_test.shape}')"
   ]
  },
  {
   "cell_type": "code",
   "execution_count": null,
   "metadata": {},
   "outputs": [],
   "source": [
    "# test_dataset = gaitDataset(X_test, Y_test)\n",
    "# # # test_dataloader = DataLoader(test_dataset, batch_size=len(test_dataset), shuffle=False)\n",
    "# test_dataloader = DataLoader(test_dataset, batch_size=32, shuffle=False) #ADJUSTED\n",
    "\n",
    "# print(f\"Test Dataset length: {len(test_dataset)}\")"
   ]
  },
  {
   "cell_type": "code",
   "execution_count": null,
   "metadata": {},
   "outputs": [],
   "source": [
    "# pred_test_output, actual_test_output, test_loss = test_LSTM(model_LSTM, test_dataloader)\n",
    "\n",
    "# predicted_values_test = pred_test_output.cpu().numpy() # premute again to make the order of the array (samples, windows, features)\n",
    "# actual_values_test =  actual_test_output.cpu().numpy()\n",
    "\n",
    "# print(f'test loss: {test_loss}')\n",
    "\n",
    "# print(f'Shape of predicted values test: {predicted_values_test.shape}')\n",
    "# print(f'shape of actual values test: {actual_values_test.shape}')\n",
    "\n",
    "# predicted_test_denorm = denormalise(predicted_values_test, scalars)\n",
    "# actual_test_denorm =  denormalise(actual_values_test, scalars)\n",
    "\n",
    "# print(f'Shape of predicted values test post denormalisation: {predicted_test_denorm.shape}')\n",
    "# print(f'shape of actual values test post denormalisation: {actual_test_denorm.shape}')"
   ]
  },
  {
   "cell_type": "code",
   "execution_count": null,
   "metadata": {},
   "outputs": [],
   "source": [
    "test_mse_loss, test_mse_std = mse_loss(predicted_test_denorm, actual_test_denorm, reduction='mean', format='np')\n",
    "test_mae_loss, test_mae_std = mae_loss(predicted_test_denorm, actual_test_denorm, reduction='mean', format='np')\n",
    "\n",
    "print(f'Test MSE Loss: {test_mse_loss}')\n",
    "print(f'Test MSE std: {test_mse_std} ')\n",
    "\n",
    "# MDE= mae_loss(actual_test_denorm[:-1,:,:],actual_test_denorm[1:,:,:],reduction='mean', format='np')\n",
    "MDE= mae_loss(actual_test_denorm[:,:,:],actual_test_denorm[:,:,:],reduction='mean', format='np')\n",
    "\n",
    "print(f'Test MAE Loss: {test_mae_loss}')\n",
    "print(f'Test MAE std: {test_mae_std}')"
   ]
  },
  {
   "cell_type": "code",
   "execution_count": null,
   "metadata": {},
   "outputs": [],
   "source": [
    "plt.hist(np.abs(predicted_test_denorm[:,:,1].reshape(-1,1) - actual_test_denorm[:,:,1].reshape(-1,1)))\n",
    "\n"
   ]
  },
  {
   "cell_type": "code",
   "execution_count": null,
   "metadata": {},
   "outputs": [],
   "source": [
    "actual = np.array([23,36,28,33,44,22,12,10,1])\n",
    "predicted = np.array([23, 35.5, 28.1, 33, 45, 15, 13, 8, 0])\n",
    "\n",
    "actual-predicted"
   ]
  },
  {
   "cell_type": "code",
   "execution_count": null,
   "metadata": {},
   "outputs": [],
   "source": [
    "abs_values = np.abs(actual-predicted)\n",
    "\n",
    "plt.hist(abs_values)"
   ]
  },
  {
   "cell_type": "code",
   "execution_count": null,
   "metadata": {},
   "outputs": [],
   "source": [
    "\n",
    "\n",
    "np.abs(actual-predicted).std()\n"
   ]
  }
 ],
 "metadata": {
  "interpreter": {
   "hash": "27ff62b9f8f46ac7739d102fa0cb2cdb691dbf234c24f48db1edec61200604ab"
  },
  "kernelspec": {
   "display_name": "Python 3.9.7 ('study2')",
   "language": "python",
   "name": "python3"
  },
  "language_info": {
   "codemirror_mode": {
    "name": "ipython",
    "version": 3
   },
   "file_extension": ".py",
   "mimetype": "text/x-python",
   "name": "python",
   "nbconvert_exporter": "python",
   "pygments_lexer": "ipython3",
   "version": "3.9.7"
  },
  "orig_nbformat": 4
 },
 "nbformat": 4,
 "nbformat_minor": 2
}
