{
 "cells": [
  {
   "cell_type": "markdown",
   "metadata": {},
   "source": [
    "## Load Libraries"
   ]
  },
  {
   "cell_type": "code",
   "execution_count": 1,
   "metadata": {},
   "outputs": [
    {
     "name": "stdout",
     "output_type": "stream",
     "text": [
      "Importing the dtw module. When using in academic works please cite:\n",
      "  T. Giorgino. Computing and Visualizing Dynamic Time Warping Alignments in R: The dtw Package.\n",
      "  J. Stat. Soft., doi:10.18637/jss.v031.i07.\n",
      "\n"
     ]
    }
   ],
   "source": [
    "import numpy as np\n",
    "import torch\n",
    "import math\n",
    "from matplotlib import pyplot as plt\n",
    "from matplotlib.pyplot import figure\n",
    "from matplotlib import rcParams\n",
    "from utils.utils import *\n",
    "from dtw import dtw\n",
    "\n",
    "\n",
    "np.random.seed(2)"
   ]
  },
  {
   "cell_type": "code",
   "execution_count": 2,
   "metadata": {},
   "outputs": [
    {
     "name": "stdout",
     "output_type": "stream",
     "text": [
      "The device used in this notebook is: cuda\n"
     ]
    }
   ],
   "source": [
    "# Set device\n",
    "print(f'The device used in this notebook is: {setDevice()}')\n",
    "\n",
    "DEVICE = setDevice()"
   ]
  },
  {
   "cell_type": "markdown",
   "metadata": {},
   "source": [
    "## Import data"
   ]
  },
  {
   "cell_type": "code",
   "execution_count": 3,
   "metadata": {},
   "outputs": [
    {
     "name": "stdout",
     "output_type": "stream",
     "text": [
      "features: ['Hips Flexion-Extension Left', 'Knees Flexion-Extension Left', 'Ankles Dorsiflexion-Plantarflexion Left', 'Hips Flexion-Extension Right', 'Knees Flexion-Extension Right', 'Ankles Dorsiflexion-Plantarflexion Right']\n",
      "input_window: 100\n",
      "output_window: 1\n",
      "stride: 1\n"
     ]
    }
   ],
   "source": [
    "# Set settings\n",
    "features, input_window, output_window, stride = set_settings()\n",
    "\n",
    "print(f'features: {features}')\n",
    "print(f'input_window: {input_window}')\n",
    "print(f'output_window: {output_window}')\n",
    "print(f'stride: {stride}')"
   ]
  },
  {
   "cell_type": "code",
   "execution_count": 4,
   "metadata": {},
   "outputs": [
    {
     "name": "stdout",
     "output_type": "stream",
     "text": [
      "Current working directory is: D:\\Study 2 Data\\Healthy Gait\\NYU Train_val\n",
      "There are 3 files in the specified path.\n"
     ]
    }
   ],
   "source": [
    "file_dir = r'D:\\Study 2 Data\\Healthy Gait\\NYU Train_val' # Location of Healthy Gait Data\n",
    "# file_dir = r'D:\\Study 2 Data\\CP Gait\\Train' # Location of CP Gait Data \n",
    "\n",
    "train_files = os.listdir(file_dir) \n",
    "\n",
    "os.chdir(file_dir)\n",
    "cwd = os.getcwd()\n",
    "\n",
    "print(f'Current working directory is: {cwd}')\n",
    "print(f\"There are {len(train_files)} files in the specified path.\")"
   ]
  },
  {
   "cell_type": "code",
   "execution_count": 5,
   "metadata": {},
   "outputs": [
    {
     "data": {
      "text/plain": [
       "['AB2188 BF T1-5.csv', 'AB3154 BF T6-10.csv', 'AB9738 BF T1-5.csv']"
      ]
     },
     "execution_count": 5,
     "metadata": {},
     "output_type": "execute_result"
    }
   ],
   "source": [
    "train_files"
   ]
  },
  {
   "cell_type": "code",
   "execution_count": 6,
   "metadata": {},
   "outputs": [
    {
     "data": {
      "text/plain": [
       "['Trial',\n",
       " 'Time',\n",
       " 'Hips Flexion-Extension Left',\n",
       " 'Knees Flexion-Extension Left',\n",
       " 'Ankles Dorsiflexion-Plantarflexion Left',\n",
       " 'Hips Flexion-Extension Right',\n",
       " 'Knees Flexion-Extension Right',\n",
       " 'Ankles Dorsiflexion-Plantarflexion Right']"
      ]
     },
     "execution_count": 6,
     "metadata": {},
     "output_type": "execute_result"
    }
   ],
   "source": [
    "#Create feature list to extract values needed from CSV files\n",
    "all_features = ['Trial', 'Time'] + features\n",
    "all_features\n"
   ]
  },
  {
   "cell_type": "code",
   "execution_count": 7,
   "metadata": {},
   "outputs": [
    {
     "name": "stdout",
     "output_type": "stream",
     "text": [
      "Extracting data from: AB2188 BF T1-5.csv\n"
     ]
    },
    {
     "name": "stdout",
     "output_type": "stream",
     "text": [
      "Extracting data from: AB3154 BF T6-10.csv\n",
      "Extracting data from: AB9738 BF T1-5.csv\n"
     ]
    }
   ],
   "source": [
    "#Extracts data from csv files and compiles them into a dataframe\n",
    "all_data = create_dataframe(train_files, all_features)"
   ]
  },
  {
   "cell_type": "code",
   "execution_count": 8,
   "metadata": {},
   "outputs": [],
   "source": [
    "all_data.reset_index(drop=True, inplace=True) #reset the index of the table\n",
    "# path = r'D:\\Study 2 Data\\Healthy Gait' + '\\\\' + 'all_data_healthy_train.csv'\n",
    "# all_data.to_csv(path)"
   ]
  },
  {
   "cell_type": "code",
   "execution_count": 9,
   "metadata": {},
   "outputs": [
    {
     "data": {
      "text/html": [
       "<div>\n",
       "<style scoped>\n",
       "    .dataframe tbody tr th:only-of-type {\n",
       "        vertical-align: middle;\n",
       "    }\n",
       "\n",
       "    .dataframe tbody tr th {\n",
       "        vertical-align: top;\n",
       "    }\n",
       "\n",
       "    .dataframe thead th {\n",
       "        text-align: right;\n",
       "    }\n",
       "</style>\n",
       "<table border=\"1\" class=\"dataframe\">\n",
       "  <thead>\n",
       "    <tr style=\"text-align: right;\">\n",
       "      <th></th>\n",
       "      <th>Patient ID</th>\n",
       "      <th>Trial</th>\n",
       "      <th>Time</th>\n",
       "      <th>Hips Flexion-Extension Left</th>\n",
       "      <th>Knees Flexion-Extension Left</th>\n",
       "      <th>Ankles Dorsiflexion-Plantarflexion Left</th>\n",
       "      <th>Hips Flexion-Extension Right</th>\n",
       "      <th>Knees Flexion-Extension Right</th>\n",
       "      <th>Ankles Dorsiflexion-Plantarflexion Right</th>\n",
       "    </tr>\n",
       "  </thead>\n",
       "  <tbody>\n",
       "    <tr>\n",
       "      <th>0</th>\n",
       "      <td>AB2188 BF T1-5</td>\n",
       "      <td>1</td>\n",
       "      <td>223.83</td>\n",
       "      <td>24.69730</td>\n",
       "      <td>43.98116</td>\n",
       "      <td>13.16722</td>\n",
       "      <td>7.40105</td>\n",
       "      <td>19.83552</td>\n",
       "      <td>3.46198</td>\n",
       "    </tr>\n",
       "    <tr>\n",
       "      <th>1</th>\n",
       "      <td>AB2188 BF T1-5</td>\n",
       "      <td>1</td>\n",
       "      <td>223.84</td>\n",
       "      <td>24.44713</td>\n",
       "      <td>43.17039</td>\n",
       "      <td>13.07729</td>\n",
       "      <td>7.04358</td>\n",
       "      <td>19.57988</td>\n",
       "      <td>3.53245</td>\n",
       "    </tr>\n",
       "    <tr>\n",
       "      <th>2</th>\n",
       "      <td>AB2188 BF T1-5</td>\n",
       "      <td>1</td>\n",
       "      <td>223.85</td>\n",
       "      <td>24.17547</td>\n",
       "      <td>42.45852</td>\n",
       "      <td>13.01625</td>\n",
       "      <td>6.69202</td>\n",
       "      <td>19.29897</td>\n",
       "      <td>3.58736</td>\n",
       "    </tr>\n",
       "    <tr>\n",
       "      <th>3</th>\n",
       "      <td>AB2188 BF T1-5</td>\n",
       "      <td>1</td>\n",
       "      <td>223.86</td>\n",
       "      <td>23.88122</td>\n",
       "      <td>41.82635</td>\n",
       "      <td>12.98980</td>\n",
       "      <td>6.35465</td>\n",
       "      <td>19.00309</td>\n",
       "      <td>3.63057</td>\n",
       "    </tr>\n",
       "    <tr>\n",
       "      <th>4</th>\n",
       "      <td>AB2188 BF T1-5</td>\n",
       "      <td>1</td>\n",
       "      <td>223.87</td>\n",
       "      <td>23.56337</td>\n",
       "      <td>41.25273</td>\n",
       "      <td>13.00300</td>\n",
       "      <td>6.03926</td>\n",
       "      <td>18.70273</td>\n",
       "      <td>3.66602</td>\n",
       "    </tr>\n",
       "    <tr>\n",
       "      <th>...</th>\n",
       "      <td>...</td>\n",
       "      <td>...</td>\n",
       "      <td>...</td>\n",
       "      <td>...</td>\n",
       "      <td>...</td>\n",
       "      <td>...</td>\n",
       "      <td>...</td>\n",
       "      <td>...</td>\n",
       "      <td>...</td>\n",
       "    </tr>\n",
       "    <tr>\n",
       "      <th>22196</th>\n",
       "      <td>AB9738 BF T1-5</td>\n",
       "      <td>10</td>\n",
       "      <td>357.98</td>\n",
       "      <td>10.99086</td>\n",
       "      <td>7.10503</td>\n",
       "      <td>6.93556</td>\n",
       "      <td>24.15779</td>\n",
       "      <td>24.79361</td>\n",
       "      <td>-6.96295</td>\n",
       "    </tr>\n",
       "    <tr>\n",
       "      <th>22197</th>\n",
       "      <td>AB9738 BF T1-5</td>\n",
       "      <td>10</td>\n",
       "      <td>357.99</td>\n",
       "      <td>10.66388</td>\n",
       "      <td>6.95092</td>\n",
       "      <td>7.04563</td>\n",
       "      <td>23.36649</td>\n",
       "      <td>23.37365</td>\n",
       "      <td>-6.78526</td>\n",
       "    </tr>\n",
       "    <tr>\n",
       "      <th>22198</th>\n",
       "      <td>AB9738 BF T1-5</td>\n",
       "      <td>10</td>\n",
       "      <td>358.00</td>\n",
       "      <td>10.47453</td>\n",
       "      <td>6.99232</td>\n",
       "      <td>7.14855</td>\n",
       "      <td>22.59988</td>\n",
       "      <td>22.00132</td>\n",
       "      <td>-6.50384</td>\n",
       "    </tr>\n",
       "    <tr>\n",
       "      <th>22199</th>\n",
       "      <td>AB9738 BF T1-5</td>\n",
       "      <td>10</td>\n",
       "      <td>358.01</td>\n",
       "      <td>10.44759</td>\n",
       "      <td>7.27248</td>\n",
       "      <td>7.23479</td>\n",
       "      <td>21.89250</td>\n",
       "      <td>20.71157</td>\n",
       "      <td>-6.14128</td>\n",
       "    </tr>\n",
       "    <tr>\n",
       "      <th>22200</th>\n",
       "      <td>AB9738 BF T1-5</td>\n",
       "      <td>10</td>\n",
       "      <td>358.02</td>\n",
       "      <td>10.60070</td>\n",
       "      <td>7.82769</td>\n",
       "      <td>7.29123</td>\n",
       "      <td>21.27437</td>\n",
       "      <td>19.53785</td>\n",
       "      <td>-5.72671</td>\n",
       "    </tr>\n",
       "  </tbody>\n",
       "</table>\n",
       "<p>22201 rows × 9 columns</p>\n",
       "</div>"
      ],
      "text/plain": [
       "           Patient ID  Trial    Time  Hips Flexion-Extension Left  \\\n",
       "0      AB2188 BF T1-5      1  223.83                     24.69730   \n",
       "1      AB2188 BF T1-5      1  223.84                     24.44713   \n",
       "2      AB2188 BF T1-5      1  223.85                     24.17547   \n",
       "3      AB2188 BF T1-5      1  223.86                     23.88122   \n",
       "4      AB2188 BF T1-5      1  223.87                     23.56337   \n",
       "...               ...    ...     ...                          ...   \n",
       "22196  AB9738 BF T1-5     10  357.98                     10.99086   \n",
       "22197  AB9738 BF T1-5     10  357.99                     10.66388   \n",
       "22198  AB9738 BF T1-5     10  358.00                     10.47453   \n",
       "22199  AB9738 BF T1-5     10  358.01                     10.44759   \n",
       "22200  AB9738 BF T1-5     10  358.02                     10.60070   \n",
       "\n",
       "       Knees Flexion-Extension Left  Ankles Dorsiflexion-Plantarflexion Left  \\\n",
       "0                          43.98116                                 13.16722   \n",
       "1                          43.17039                                 13.07729   \n",
       "2                          42.45852                                 13.01625   \n",
       "3                          41.82635                                 12.98980   \n",
       "4                          41.25273                                 13.00300   \n",
       "...                             ...                                      ...   \n",
       "22196                       7.10503                                  6.93556   \n",
       "22197                       6.95092                                  7.04563   \n",
       "22198                       6.99232                                  7.14855   \n",
       "22199                       7.27248                                  7.23479   \n",
       "22200                       7.82769                                  7.29123   \n",
       "\n",
       "       Hips Flexion-Extension Right  Knees Flexion-Extension Right  \\\n",
       "0                           7.40105                       19.83552   \n",
       "1                           7.04358                       19.57988   \n",
       "2                           6.69202                       19.29897   \n",
       "3                           6.35465                       19.00309   \n",
       "4                           6.03926                       18.70273   \n",
       "...                             ...                            ...   \n",
       "22196                      24.15779                       24.79361   \n",
       "22197                      23.36649                       23.37365   \n",
       "22198                      22.59988                       22.00132   \n",
       "22199                      21.89250                       20.71157   \n",
       "22200                      21.27437                       19.53785   \n",
       "\n",
       "       Ankles Dorsiflexion-Plantarflexion Right  \n",
       "0                                       3.46198  \n",
       "1                                       3.53245  \n",
       "2                                       3.58736  \n",
       "3                                       3.63057  \n",
       "4                                       3.66602  \n",
       "...                                         ...  \n",
       "22196                                  -6.96295  \n",
       "22197                                  -6.78526  \n",
       "22198                                  -6.50384  \n",
       "22199                                  -6.14128  \n",
       "22200                                  -5.72671  \n",
       "\n",
       "[22201 rows x 9 columns]"
      ]
     },
     "execution_count": 9,
     "metadata": {},
     "output_type": "execute_result"
    }
   ],
   "source": [
    "all_data"
   ]
  },
  {
   "cell_type": "code",
   "execution_count": 10,
   "metadata": {},
   "outputs": [
    {
     "name": "stdout",
     "output_type": "stream",
     "text": [
      "maximum number of trials is: 10\n"
     ]
    }
   ],
   "source": [
    "n_trials = all_data['Trial'].max()\n",
    "print(f'maximum number of trials is: {n_trials}')"
   ]
  },
  {
   "cell_type": "code",
   "execution_count": 11,
   "metadata": {},
   "outputs": [
    {
     "data": {
      "text/plain": [
       "array(['AB2188 BF T1-5', 'AB3154 BF T6-10', 'AB9738 BF T1-5'],\n",
       "      dtype=object)"
      ]
     },
     "execution_count": 11,
     "metadata": {},
     "output_type": "execute_result"
    }
   ],
   "source": [
    "all_data['Patient ID'].unique()"
   ]
  },
  {
   "cell_type": "code",
   "execution_count": 12,
   "metadata": {},
   "outputs": [],
   "source": [
    "# Divide subjects into training and validation set\n",
    "train_subjects = ['AB2188 BF T1-5', \n",
    "                  'AB3154 BF T6-10',]\n",
    "\n",
    "val_subjects = ['AB9738 BF T1-5']"
   ]
  },
  {
   "cell_type": "code",
   "execution_count": 13,
   "metadata": {},
   "outputs": [],
   "source": [
    "train_data = all_data.loc[all_data['Patient ID'].isin(train_subjects)]\n",
    "\n",
    "val_data = all_data.loc[all_data['Patient ID'].isin(val_subjects)]"
   ]
  },
  {
   "cell_type": "code",
   "execution_count": 14,
   "metadata": {},
   "outputs": [
    {
     "name": "stdout",
     "output_type": "stream",
     "text": [
      "all_data: (22201, 9)\n",
      "train_data: (13769, 9)\n",
      "val_data: (8432, 9)\n"
     ]
    }
   ],
   "source": [
    "print(f'all_data: {all_data.shape}')\n",
    "print(f'train_data: {train_data.shape}')\n",
    "print(f'val_data: {val_data.shape}')"
   ]
  },
  {
   "cell_type": "code",
   "execution_count": 15,
   "metadata": {},
   "outputs": [
    {
     "name": "stdout",
     "output_type": "stream",
     "text": [
      "For patient: AB2188 BF T1-5, trial: 1, there are: 718 time-points\n",
      "For patient: AB2188 BF T1-5, trial: 2, there are: 801 time-points\n",
      "For patient: AB2188 BF T1-5, trial: 3, there are: 706 time-points\n",
      "For patient: AB2188 BF T1-5, trial: 4, there are: 651 time-points\n",
      "For patient: AB2188 BF T1-5, trial: 5, there are: 741 time-points\n",
      "For patient: AB2188 BF T1-5, trial: 6, there are: 691 time-points\n",
      "For patient: AB2188 BF T1-5, trial: 7, there are: 722 time-points\n",
      "For patient: AB2188 BF T1-5, trial: 8, there are: 726 time-points\n",
      "For patient: AB2188 BF T1-5, trial: 9, there are: 740 time-points\n",
      "For patient: AB2188 BF T1-5, trial: 10, there are: 766 time-points\n",
      "For patient: AB3154 BF T6-10, trial: 1, there are: 651 time-points\n",
      "For patient: AB3154 BF T6-10, trial: 2, there are: 541 time-points\n",
      "For patient: AB3154 BF T6-10, trial: 3, there are: 613 time-points\n",
      "For patient: AB3154 BF T6-10, trial: 4, there are: 601 time-points\n",
      "For patient: AB3154 BF T6-10, trial: 5, there are: 711 time-points\n",
      "For patient: AB3154 BF T6-10, trial: 6, there are: 651 time-points\n",
      "For patient: AB3154 BF T6-10, trial: 7, there are: 1031 time-points\n",
      "For patient: AB3154 BF T6-10, trial: 8, there are: 896 time-points\n",
      "For patient: AB3154 BF T6-10, trial: 9, there are: 812 time-points\n",
      "\n",
      "There are 19 samples\n",
      "For patient: AB9738 BF T1-5, trial: 1, there are: 896 time-points\n",
      "For patient: AB9738 BF T1-5, trial: 2, there are: 981 time-points\n",
      "For patient: AB9738 BF T1-5, trial: 3, there are: 1001 time-points\n",
      "For patient: AB9738 BF T1-5, trial: 4, there are: 906 time-points\n",
      "For patient: AB9738 BF T1-5, trial: 5, there are: 958 time-points\n",
      "For patient: AB9738 BF T1-5, trial: 6, there are: 951 time-points\n",
      "For patient: AB9738 BF T1-5, trial: 8, there are: 904 time-points\n",
      "For patient: AB9738 BF T1-5, trial: 9, there are: 926 time-points\n",
      "For patient: AB9738 BF T1-5, trial: 10, there are: 909 time-points\n",
      "\n",
      "There are 9 samples\n"
     ]
    }
   ],
   "source": [
    "# Count the number of trials and time-points for each patient in th train and validation set\n",
    "train_samples = count_nsamples(train_data)\n",
    "val_samples = count_nsamples(val_data)"
   ]
  },
  {
   "cell_type": "code",
   "execution_count": 16,
   "metadata": {},
   "outputs": [
    {
     "name": "stdout",
     "output_type": "stream",
     "text": [
      "Number of train samples: 19\n",
      "Number of validation samples: 9\n"
     ]
    }
   ],
   "source": [
    "print(f'Number of train samples: {train_samples}')\n",
    "print(f'Number of validation samples: {val_samples}')"
   ]
  },
  {
   "cell_type": "code",
   "execution_count": 17,
   "metadata": {},
   "outputs": [],
   "source": [
    "# m = all_data['Patient ID'].unique()"
   ]
  },
  {
   "cell_type": "code",
   "execution_count": 18,
   "metadata": {},
   "outputs": [],
   "source": [
    "# #copied to utils\n",
    "# def pd_to_np_converter(data, n_samples, features):\n",
    "#     #create a numpy array that stores the data for export\n",
    "#     sample_ID = []\n",
    "#     # patients = 2\n",
    "#     # n_trials = 10\n",
    "#     # # samples = patients * n_trials\n",
    "#     data_store = np.zeros((n_samples, 2000, len(features)), dtype=np.float32)\n",
    "#     i = 0\n",
    "\n",
    "#     for p in data['Patient ID'].unique(): #loop over patients \n",
    "#         for t in data['Trial'].unique(): #loop over trials starting with trials 1 to trial 9 (inclusive)\n",
    "#             pd_array = data[(data['Patient ID'] == p) & (data['Trial'] == t)]\n",
    "#             if pd_array.empty:\n",
    "#                 continue\n",
    "#                 # print('DataFrame is empty!')\n",
    "#                 # print(f'Trail {t} does not exist in {p}')\n",
    "#             else:\n",
    "#                 np_array = pd_array.to_numpy()\n",
    "#                 data_store[i, :np_array.shape[0], :] = np_array[:,3:] \n",
    "#                 sample_ID.append(p+ ' Ts'+str(t)) \n",
    "#                 i +=1\n",
    "\n",
    "#     return pd_array.columns, data_store\n"
   ]
  },
  {
   "cell_type": "code",
   "execution_count": 19,
   "metadata": {},
   "outputs": [
    {
     "name": "stdout",
     "output_type": "stream",
     "text": [
      "train_data_np.shape: (19, 2000, 6)\n",
      "val_data_np.shape: (9, 2000, 6)\n"
     ]
    }
   ],
   "source": [
    "train_columns, train_data_np = pd_to_np_converter(train_data, train_samples, features)\n",
    "val_columns, val_data_np = pd_to_np_converter(val_data, val_samples, features)\n",
    "\n",
    "print(f'train_data_np.shape: {train_data_np.shape}')\n",
    "print(f'val_data_np.shape: {val_data_np.shape}')"
   ]
  },
  {
   "cell_type": "code",
   "execution_count": 20,
   "metadata": {},
   "outputs": [
    {
     "data": {
      "text/plain": [
       "['Hips Flexion-Extension Left',\n",
       " 'Knees Flexion-Extension Left',\n",
       " 'Ankles Dorsiflexion-Plantarflexion Left',\n",
       " 'Hips Flexion-Extension Right',\n",
       " 'Knees Flexion-Extension Right',\n",
       " 'Ankles Dorsiflexion-Plantarflexion Right']"
      ]
     },
     "execution_count": 20,
     "metadata": {},
     "output_type": "execute_result"
    }
   ],
   "source": [
    "train_columns[3:].tolist() "
   ]
  },
  {
   "cell_type": "code",
   "execution_count": 21,
   "metadata": {},
   "outputs": [
    {
     "data": {
      "text/plain": [
       "True"
      ]
     },
     "execution_count": 21,
     "metadata": {},
     "output_type": "execute_result"
    }
   ],
   "source": [
    "features == train_columns[3:].tolist() "
   ]
  },
  {
   "cell_type": "code",
   "execution_count": 22,
   "metadata": {},
   "outputs": [
    {
     "name": "stdout",
     "output_type": "stream",
     "text": [
      "Yay!! Column headers of dataframe match features\n"
     ]
    }
   ],
   "source": [
    "labels_keys = train_columns[3:].tolist() #copy the train columns removing the first column headers'Patient ID', 'Trial', 'Time'\n",
    "\n",
    "\n",
    "if features == labels_keys: # check that the features are the same as the label keys \n",
    "    print('Yay!! Column headers of dataframe match features')\n",
    "else:\n",
    "    print('ERROR: Features and labels_keys do not match!')"
   ]
  },
  {
   "cell_type": "code",
   "execution_count": 23,
   "metadata": {},
   "outputs": [
    {
     "data": {
      "text/plain": [
       "{'Hips Flexion-Extension Left': 0,\n",
       " 'Knees Flexion-Extension Left': 1,\n",
       " 'Ankles Dorsiflexion-Plantarflexion Left': 2,\n",
       " 'Hips Flexion-Extension Right': 3,\n",
       " 'Knees Flexion-Extension Right': 4,\n",
       " 'Ankles Dorsiflexion-Plantarflexion Right': 5}"
      ]
     },
     "execution_count": 23,
     "metadata": {},
     "output_type": "execute_result"
    }
   ],
   "source": [
    "labels_keys = features \n",
    "\n",
    "labels_idx = np.arange(0, len(labels_keys), 1)\n",
    "\n",
    "labels = dict(zip(labels_keys, labels_idx))\n",
    "\n",
    "len(labels)\n",
    "labels\n",
    "# labels_keys"
   ]
  },
  {
   "cell_type": "code",
   "execution_count": 24,
   "metadata": {},
   "outputs": [
    {
     "name": "stdout",
     "output_type": "stream",
     "text": [
      "trimmed_seqLen: 718\n",
      "trimmed_seqLen_reduced: 418\n",
      "number of slides is: 318\n",
      "trimmed_seqLen: 801\n",
      "trimmed_seqLen_reduced: 501\n",
      "number of slides is: 401\n",
      "trimmed_seqLen: 706\n",
      "trimmed_seqLen_reduced: 406\n",
      "number of slides is: 306\n",
      "trimmed_seqLen: 651\n",
      "trimmed_seqLen_reduced: 351\n",
      "number of slides is: 251\n",
      "trimmed_seqLen: 741\n",
      "trimmed_seqLen_reduced: 441\n",
      "number of slides is: 341\n",
      "trimmed_seqLen: 691\n",
      "trimmed_seqLen_reduced: 391\n",
      "number of slides is: 291\n",
      "trimmed_seqLen: 722\n",
      "trimmed_seqLen_reduced: 422\n",
      "number of slides is: 322\n",
      "trimmed_seqLen: 726\n",
      "trimmed_seqLen_reduced: 426\n",
      "number of slides is: 326\n",
      "trimmed_seqLen: 740\n",
      "trimmed_seqLen_reduced: 440\n",
      "number of slides is: 340\n",
      "trimmed_seqLen: 766\n",
      "trimmed_seqLen_reduced: 466\n",
      "number of slides is: 366\n",
      "trimmed_seqLen: 651\n",
      "trimmed_seqLen_reduced: 351\n",
      "number of slides is: 251\n",
      "trimmed_seqLen: 541\n",
      "trimmed_seqLen_reduced: 241\n",
      "number of slides is: 141\n",
      "trimmed_seqLen: 613\n",
      "trimmed_seqLen_reduced: 313\n",
      "number of slides is: 213\n",
      "trimmed_seqLen: 601\n",
      "trimmed_seqLen_reduced: 301\n",
      "number of slides is: 201\n",
      "trimmed_seqLen: 711\n",
      "trimmed_seqLen_reduced: 411\n",
      "number of slides is: 311\n",
      "trimmed_seqLen: 651\n",
      "trimmed_seqLen_reduced: 351\n",
      "number of slides is: 251\n",
      "trimmed_seqLen: 1031\n",
      "trimmed_seqLen_reduced: 731\n",
      "number of slides is: 631\n",
      "trimmed_seqLen: 896\n",
      "trimmed_seqLen_reduced: 596\n",
      "number of slides is: 496\n",
      "trimmed_seqLen: 812\n",
      "trimmed_seqLen_reduced: 512\n",
      "number of slides is: 412\n",
      "shape of X_train_windows: (17100, 100, 6)\n",
      "shape of Y_train_windows: (17100, 1, 6)\n",
      "shape of X_train_data: (6169, 100, 6)\n",
      "shape of Y_train_data: (6169, 1, 6)\n"
     ]
    }
   ],
   "source": [
    "# Creating training datasets\n",
    "# Selecting the features to be used when creating windows \n",
    "approx_seq_len = 2000 # appoximate the length of the longest sequence that can be encountered \n",
    "# samples_per_file = ((approx_seq_len - (input_window+output_window)) // stride) + 1 #number of window samples generated per file \n",
    "samples_per_file = 900\n",
    "\n",
    "\n",
    "# create a zero-filled 3D array with shape (number of samples * number of files, window size, number of features)\n",
    "X_train_windows = np.zeros((samples_per_file*train_samples, input_window, len(features)), dtype=np.float32) #size can be reduced by decreasing train_size \n",
    "Y_train_windows = np.zeros((samples_per_file*train_samples, output_window, len(features)), dtype=np.float32)\n",
    "\n",
    "\n",
    "start_idx = 0 #setting start index to equal zero \n",
    "train_sample_sum = 0\n",
    "train_excluded_samples = []\n",
    "# Create training windows \n",
    "\n",
    "#for i in tqdm(range(train_size)): #Use for including all data including outliers \n",
    "for i in range(train_samples): \n",
    "       \n",
    "    X_values, Y_values = window_generator_fltrd(\n",
    "        train_data_np[i,:,:],\n",
    "        input_window=input_window, \n",
    "        output_window=output_window, \n",
    "        stride=stride, \n",
    "        features=features,\n",
    "        labels=labels\n",
    "        )\n",
    "\n",
    "    end_idx = start_idx + X_values.shape[0]\n",
    "\n",
    "    # print(f'file number [{f}] start index: {start_idx}, end index: {end_idx}, number of samples: {X_values.shape[0]}')\n",
    "\n",
    "    X_train_windows[start_idx:end_idx, :, :] = X_values\n",
    "    Y_train_windows[start_idx:end_idx, :, :] = Y_values\n",
    "\n",
    "    # print(f'number of samples copied: {X_train_data_store[start_idx:end_idx, :, :].shape[0]}')\n",
    "\n",
    "    start_idx = end_idx \n",
    "    train_sample_sum += X_values.shape[0]\n",
    "\n",
    "    # except Exception:\n",
    "    #     exception_msg(i)\n",
    "    #     train_excluded_samples.append(i)\n",
    "\n",
    "# print(f\"Completed storage of training windows samples, which contains {X_train_data_store.shape[0]} samples\")\n",
    "X_train_data = X_train_windows[:end_idx, :, :].astype('float64')\n",
    "Y_train_data = Y_train_windows[:end_idx, :, :].astype('float64')\n",
    "\n",
    "\n",
    "print(f'shape of X_train_windows: {X_train_windows.shape}')\n",
    "print(f'shape of Y_train_windows: {Y_train_windows.shape}')\n",
    "\n",
    "print(f'shape of X_train_data: {X_train_data.shape}')\n",
    "print(f'shape of Y_train_data: {Y_train_data.shape}')"
   ]
  },
  {
   "cell_type": "code",
   "execution_count": 25,
   "metadata": {},
   "outputs": [
    {
     "name": "stdout",
     "output_type": "stream",
     "text": [
      "trimmed_seqLen: 896\n",
      "trimmed_seqLen_reduced: 596\n",
      "number of slides is: 496\n",
      "trimmed_seqLen: 981\n",
      "trimmed_seqLen_reduced: 681\n",
      "number of slides is: 581\n",
      "trimmed_seqLen: 1001\n",
      "trimmed_seqLen_reduced: 701\n",
      "number of slides is: 601\n",
      "trimmed_seqLen: 906\n",
      "trimmed_seqLen_reduced: 606\n",
      "number of slides is: 506\n",
      "trimmed_seqLen: 958\n",
      "trimmed_seqLen_reduced: 658\n",
      "number of slides is: 558\n",
      "trimmed_seqLen: 951\n",
      "trimmed_seqLen_reduced: 651\n",
      "number of slides is: 551\n",
      "trimmed_seqLen: 904\n",
      "trimmed_seqLen_reduced: 604\n",
      "number of slides is: 504\n",
      "trimmed_seqLen: 926\n",
      "trimmed_seqLen_reduced: 626\n",
      "number of slides is: 526\n",
      "trimmed_seqLen: 909\n",
      "trimmed_seqLen_reduced: 609\n",
      "number of slides is: 509\n",
      "shape of X_val_windows: (14400, 100, 6)\n",
      "shape of Y_val_windows: (14400, 1, 6)\n",
      "shape of X_val_data: (4832, 100, 6)\n",
      "shape of Y_val_data: (4832, 1, 6)\n"
     ]
    }
   ],
   "source": [
    "# Creating validation datasets\n",
    "# Selecting the features to be used when creating windows \n",
    "approx_seq_len = 2000 # appoximate the length of the longest sequence that can be encountered \n",
    "# samples_per_file = ((approx_seq_len - (input_window+output_window)) // stride) + 1 #number of window samples generated per file \n",
    "samples_per_file = 1600\n",
    "\n",
    "\n",
    "# create a zero-filled 3D array with shape (number of samples * number of files, window size, number of features)\n",
    "X_val_windows = np.zeros((samples_per_file*val_samples, input_window, len(features)), dtype=np.float32) #size can be reduced by decreasing train_size \n",
    "Y_val_windows = np.zeros((samples_per_file*val_samples, output_window, len(features)), dtype=np.float32) \n",
    "\n",
    "\n",
    "start_idx = 0 #setting start index to equal zero \n",
    "val_sample_sum = 0\n",
    "val_excluded_samples = []\n",
    "# Create training windows \n",
    "\n",
    "#for i in tqdm(range(train_size)): #Use for including all data including outliers \n",
    "for i in range(val_samples): \n",
    "       \n",
    "    X_values, Y_values = window_generator_fltrd(\n",
    "        val_data_np[i,:,:],\n",
    "        input_window=input_window, \n",
    "        output_window=output_window, \n",
    "        stride=stride, \n",
    "        features=features,\n",
    "        labels=labels\n",
    "        )\n",
    "\n",
    "    end_idx = start_idx + X_values.shape[0]\n",
    "\n",
    "    # print(f'file number [{f}] start index: {start_idx}, end index: {end_idx}, number of samples: {X_values.shape[0]}')\n",
    "\n",
    "    X_val_windows[start_idx:end_idx, :, :] = X_values\n",
    "    Y_val_windows[start_idx:end_idx, :, :] = Y_values\n",
    "\n",
    "    # print(f'number of samples copied: {X_train_data_store[start_idx:end_idx, :, :].shape[0]}')\n",
    "\n",
    "    start_idx = end_idx \n",
    "    val_sample_sum += X_values.shape[0]\n",
    "\n",
    "    # except Exception:\n",
    "    #     exception_msg(i)\n",
    "    #     train_excluded_samples.append(i)\n",
    "\n",
    "# print(f\"Completed storage of training windows samples, which contains {X_train_data_store.shape[0]} samples\")\n",
    "X_val_data = X_val_windows[:end_idx, :, :].astype('float64')\n",
    "Y_val_data = Y_val_windows[:end_idx, :, :].astype('float64')\n",
    "\n",
    "\n",
    "print(f'shape of X_val_windows: {X_val_windows.shape}')\n",
    "print(f'shape of Y_val_windows: {Y_val_windows.shape}')\n",
    "\n",
    "print(f'shape of X_val_data: {X_val_data.shape}')\n",
    "print(f'shape of Y_val_data: {Y_val_data.shape}')"
   ]
  },
  {
   "cell_type": "code",
   "execution_count": 26,
   "metadata": {},
   "outputs": [
    {
     "name": "stdout",
     "output_type": "stream",
     "text": [
      "trimmed_seqLen: 896\n",
      "trimmed_seqLen_reduced: 596\n",
      "number of slides is: 297\n",
      "trimmed_seqLen: 981\n",
      "trimmed_seqLen_reduced: 681\n",
      "number of slides is: 382\n",
      "trimmed_seqLen: 1001\n",
      "trimmed_seqLen_reduced: 701\n",
      "number of slides is: 402\n",
      "trimmed_seqLen: 906\n",
      "trimmed_seqLen_reduced: 606\n",
      "number of slides is: 307\n",
      "trimmed_seqLen: 958\n",
      "trimmed_seqLen_reduced: 658\n",
      "number of slides is: 359\n",
      "trimmed_seqLen: 951\n",
      "trimmed_seqLen_reduced: 651\n",
      "number of slides is: 352\n",
      "trimmed_seqLen: 904\n",
      "trimmed_seqLen_reduced: 604\n",
      "number of slides is: 305\n",
      "trimmed_seqLen: 926\n",
      "trimmed_seqLen_reduced: 626\n",
      "number of slides is: 327\n",
      "trimmed_seqLen: 909\n",
      "trimmed_seqLen_reduced: 609\n",
      "number of slides is: 310\n",
      "shape of X_val_lt_windows: (14400, 100, 6)\n",
      "shape of Y_val_lt_windows: (14400, 200, 6)\n",
      "shape of X_val_lt_data: (3041, 100, 6)\n",
      "shape of Y_val_lt_data: (3041, 200, 6)\n"
     ]
    }
   ],
   "source": [
    "# Creating validation datasets (long term predictions)\n",
    "# Selecting the features to be used when creating windows \n",
    "approx_seq_len = 2000 # appoximate the length of the longest sequence that can be encountered \n",
    "# samples_per_file = ((approx_seq_len - (input_window+output_window)) // stride) + 1 #number of window samples generated per file \n",
    "samples_per_file = 1600\n",
    "\n",
    "future_window = 200\n",
    "\n",
    "# create a zero-filled 3D array with shape (number of samples * number of files, window size, number of features)\n",
    "X_val_lt_windows = np.zeros((samples_per_file*val_samples, input_window, len(features)), dtype=np.float32) #size can be reduced by decreasing train_size \n",
    "Y_val_lt_windows = np.zeros((samples_per_file*val_samples, future_window, len(features)), dtype=np.float32) \n",
    "\n",
    "\n",
    "start_idx = 0 #setting start index to equal zero \n",
    "val_lt_sample_sum = 0\n",
    "val_lt_excluded_samples = []\n",
    "# Create training windows \n",
    "\n",
    "#for i in tqdm(range(train_size)): #Use for including all data including outliers \n",
    "for i in range(val_samples): \n",
    "       \n",
    "    X_values, Y_values = window_generator_lt_fltrd(\n",
    "        val_data_np[i,:,:],\n",
    "        input_window=input_window, \n",
    "        future_window=future_window, \n",
    "        stride=stride, \n",
    "        features=features,\n",
    "        labels=labels\n",
    "        )\n",
    "\n",
    "    end_idx = start_idx + X_values.shape[0]\n",
    "\n",
    "    # print(f'file number [{f}] start index: {start_idx}, end index: {end_idx}, number of samples: {X_values.shape[0]}')\n",
    "\n",
    "    X_val_lt_windows[start_idx:end_idx, :, :] = X_values\n",
    "    Y_val_lt_windows[start_idx:end_idx, :, :] = Y_values\n",
    "\n",
    "    # print(f'number of samples copied: {X_train_data_store[start_idx:end_idx, :, :].shape[0]}')\n",
    "\n",
    "    start_idx = end_idx \n",
    "    val_lt_sample_sum += X_values.shape[0]\n",
    "\n",
    "    # except Exception:\n",
    "    #     exception_msg(i)\n",
    "    #     train_excluded_samples.append(i)\n",
    "\n",
    "# print(f\"Completed storage of training windows samples, which contains {X_train_data_store.shape[0]} samples\")\n",
    "X_val_lt_data = X_val_lt_windows[:end_idx, :, :].astype('float64')\n",
    "Y_val_lt_data = Y_val_lt_windows[:end_idx, :, :].astype('float64')\n",
    "\n",
    "\n",
    "print(f'shape of X_val_lt_windows: {X_val_lt_windows.shape}')\n",
    "print(f'shape of Y_val_lt_windows: {Y_val_lt_windows.shape}')\n",
    "\n",
    "print(f'shape of X_val_lt_data: {X_val_lt_data.shape}')\n",
    "print(f'shape of Y_val_lt_data: {Y_val_lt_data.shape}')"
   ]
  },
  {
   "cell_type": "code",
   "execution_count": 27,
   "metadata": {},
   "outputs": [],
   "source": [
    "# Set values of the scalars needed to normalise the data (scalars represent maximum and minimum joint angles ranges in the data)\n",
    "scalars= np.array([[-45., -45., -90., -45., -45., -90.], [100., 120., 45., 100., 120., 45.]])"
   ]
  },
  {
   "cell_type": "code",
   "execution_count": 28,
   "metadata": {},
   "outputs": [
    {
     "data": {
      "text/plain": [
       "array([[-45., -45., -90., -45., -45., -90.],\n",
       "       [100., 120.,  45., 100., 120.,  45.]])"
      ]
     },
     "execution_count": 28,
     "metadata": {},
     "output_type": "execute_result"
    }
   ],
   "source": [
    "scalars"
   ]
  },
  {
   "cell_type": "code",
   "execution_count": 29,
   "metadata": {},
   "outputs": [],
   "source": [
    "# X_train_norm, scalars = normalise_fit(X_train_data)\n",
    "X_train_norm = normalise_transform(X_train_data, scalars)\n",
    "Y_train_norm = normalise_transform(Y_train_data, scalars)\n",
    "\n",
    "X_val_norm = normalise_transform(X_val_data, scalars)\n",
    "Y_val_norm = normalise_transform(Y_val_data, scalars)\n",
    "\n",
    "X_val_lt_norm = normalise_transform(X_val_lt_data, scalars)\n",
    "Y_val_lt_norm = normalise_transform(Y_val_lt_data, scalars)"
   ]
  },
  {
   "cell_type": "code",
   "execution_count": 30,
   "metadata": {},
   "outputs": [
    {
     "data": {
      "image/png": "[encoded data removed]",
      "text/plain": [
       "<Figure size 432x288 with 1 Axes>"
      ]
     },
     "metadata": {
      "needs_background": "light"
     },
     "output_type": "display_data"
    },
    {
     "data": {
      "image/png": "[encoded data removed]",
      "text/plain": [
       "<Figure size 432x288 with 1 Axes>"
      ]
     },
     "metadata": {
      "needs_background": "light"
     },
     "output_type": "display_data"
    },
    {
     "data": {
      "image/png": "[encoded data removed]",
      "text/plain": [
       "<Figure size 432x288 with 1 Axes>"
      ]
     },
     "metadata": {
      "needs_background": "light"
     },
     "output_type": "display_data"
    },
    {
     "data": {
      "image/png": "[encoded data removed]",
      "text/plain": [
       "<Figure size 432x288 with 1 Axes>"
      ]
     },
     "metadata": {
      "needs_background": "light"
     },
     "output_type": "display_data"
    },
    {
     "data": {
      "image/png": "[encoded data removed]",
      "text/plain": [
       "<Figure size 432x288 with 1 Axes>"
      ]
     },
     "metadata": {
      "needs_background": "light"
     },
     "output_type": "display_data"
    },
    {
     "data": {
      "image/png": "[encoded data removed]",
      "text/plain": [
       "<Figure size 432x288 with 1 Axes>"
      ]
     },
     "metadata": {
      "needs_background": "light"
     },
     "output_type": "display_data"
    }
   ],
   "source": [
    "for i in range(6):\n",
    "    plt.hist(X_train_data[:,:,i].reshape(-1,1), label=features[i])\n",
    "    plt.legend()\n",
    "    plt.show()"
   ]
  },
  {
   "cell_type": "code",
   "execution_count": 31,
   "metadata": {},
   "outputs": [
    {
     "name": "stdout",
     "output_type": "stream",
     "text": [
      "X_train shape: torch.Size([6169, 100, 6])\n",
      "Y_train shape: torch.Size([6169, 1, 6])\n",
      "X_val shape: torch.Size([4832, 100, 6])\n",
      "Y_val shape: torch.Size([4832, 1, 6])\n",
      "X_val_lt shape: torch.Size([3041, 100, 6])\n",
      "Y_val_lt shape: torch.Size([3041, 200, 6])\n"
     ]
    }
   ],
   "source": [
    "# Convert to Tensor \n",
    "# do not store on GPU (yet)\n",
    "X_train = torch.from_numpy(X_train_norm).to(torch.float64)\n",
    "Y_train = torch.from_numpy(Y_train_norm).to(torch.float64)\n",
    "\n",
    "# X_val = torch.from_numpy(X_val_norm).float()\n",
    "\n",
    "# X_val_resized = np.expand_dims(Y_val_norm[:,0,:], axis=1)\n",
    "# Y_val = torch.from_numpy(X_val_resized).float()\n",
    "\n",
    "X_val = torch.from_numpy(X_val_norm).to(torch.float64)\n",
    "Y_val = torch.from_numpy(Y_val_norm).to(torch.float64)\n",
    "\n",
    "\n",
    "X_val_lt = torch.from_numpy(X_val_lt_norm).to(torch.float64)\n",
    "Y_val_lt = torch.from_numpy(Y_val_lt_norm).to(torch.float64)\n",
    "\n",
    "\n",
    "print(f'X_train shape: {X_train.shape}')\n",
    "print(f'Y_train shape: {Y_train.shape}')\n",
    "\n",
    "print(f'X_val shape: {X_val.shape}')\n",
    "print(f'Y_val shape: {Y_val.shape}')\n",
    "\n",
    "print(f'X_val_lt shape: {X_val_lt.shape}') #long term predictions\n",
    "print(f'Y_val_lt shape: {Y_val_lt.shape}') #long term predictions\n",
    "\n",
    "\n"
   ]
  },
  {
   "cell_type": "code",
   "execution_count": 32,
   "metadata": {},
   "outputs": [
    {
     "data": {
      "text/plain": [
       "torch.float64"
      ]
     },
     "execution_count": 32,
     "metadata": {},
     "output_type": "execute_result"
    }
   ],
   "source": [
    "X_val.dtype"
   ]
  },
  {
   "cell_type": "code",
   "execution_count": 33,
   "metadata": {},
   "outputs": [
    {
     "name": "stdout",
     "output_type": "stream",
     "text": [
      "Train Dataset length: 6169\n",
      "Val Dataset length: 4832\n",
      "Val_lt Dataset length: 3041\n"
     ]
    }
   ],
   "source": [
    "train_dataset = gaitDataset(X_train, Y_train)\n",
    "train_dataloader = DataLoader(train_dataset, batch_size=256, shuffle = True)\n",
    "# train_dataloader = DataLoader(train_dataset, batch_size=len(train_dataset), shuffle = False) #256\n",
    "\n",
    "val_dataset = gaitDataset(X_val, Y_val) #ADJUSTED\n",
    "val_dataloader = DataLoader(val_dataset, batch_size=256, shuffle=True)\n",
    "# val_dataloader = DataLoader(val_dataset, batch_size=len(train_dataset), shuffle=False)\n",
    "\n",
    "\n",
    "val_lt_dataset = gaitDataset(X_val_lt, Y_val_lt) #long term predictions\n",
    "val_lt_dataloader = DataLoader(val_lt_dataset, batch_size=256, shuffle=False)\n",
    "\n",
    "\n",
    "print(f\"Train Dataset length: {len(train_dataset)}\")\n",
    "print(f\"Val Dataset length: {len(val_dataset)}\")\n",
    "print(f\"Val_lt Dataset length: {len(val_lt_dataset)}\")\n"
   ]
  },
  {
   "cell_type": "code",
   "execution_count": 34,
   "metadata": {},
   "outputs": [],
   "source": [
    "# len(train_dataloader)"
   ]
  },
  {
   "cell_type": "markdown",
   "metadata": {},
   "source": [
    "## Set the Architecture of the DL Models\n"
   ]
  },
  {
   "cell_type": "code",
   "execution_count": 35,
   "metadata": {},
   "outputs": [
    {
     "name": "stdout",
     "output_type": "stream",
     "text": [
      "shape of X_train: torch.Size([6169, 100, 6]), shape of Y_train: torch.Size([6169, 1, 6])\n"
     ]
    }
   ],
   "source": [
    "print(f'shape of X_train: {X_train.shape}, shape of Y_train: {Y_train.shape}')"
   ]
  },
  {
   "cell_type": "code",
   "execution_count": 36,
   "metadata": {},
   "outputs": [],
   "source": [
    "look_back = 100"
   ]
  },
  {
   "cell_type": "code",
   "execution_count": 37,
   "metadata": {},
   "outputs": [],
   "source": [
    "# #Vanilla LSTM\n",
    "# class Net(nn.Module):\n",
    "#     def __init__(self, n_neurons, input_shape):\n",
    "#         super(Net, self).__init__()\n",
    "        \n",
    "#         # self.fc1 = nn.Linear(input_shape, n_neurons)\n",
    "#         self.lstm = nn.LSTM(input_size=input_shape, hidden_size=n_neurons)\n",
    "#         self.fc = nn.Linear(n_neurons, 1)\n",
    "    \n",
    "#     def forward(self, x):\n",
    "#         out, _ = self.lstm(x)\n",
    "#         # out = self.fc1(x)\n",
    "#         out = self.fc(out)\n",
    "#         return out"
   ]
  },
  {
   "cell_type": "code",
   "execution_count": 38,
   "metadata": {},
   "outputs": [],
   "source": [
    "# # Vanilla LSTM\n",
    "# class LSTM(nn.Module):\n",
    "#     def __init__(self, n_neurons, input_shape):\n",
    "#         super(LSTM, self).__init__()\n",
    "        \n",
    "#         self.lstm = nn.LSTM(input_size=len(features), hidden_size=n_neurons, num_layers=2, batch_first = True)\n",
    "#         self.fc = nn.Linear(n_neurons, len(features))\n",
    "\n",
    "#     def forward(self, x):\n",
    "#         # print(f'input shape: {x.shape}')\n",
    "#         out, _ = self.lstm(x)\n",
    "\n",
    "#         out = self.fc(out[:,-1])\n",
    "\n",
    "#         return out.unsqueeze(1)"
   ]
  },
  {
   "cell_type": "code",
   "execution_count": 39,
   "metadata": {},
   "outputs": [],
   "source": [
    "# LSTM model \n",
    "class LSTM(nn.Module):\n",
    "    def __init__(self, n_neurons, look_back):\n",
    "        super(LSTM, self).__init__()\n",
    "        '''\n",
    "        nn.lstm: \n",
    "        input_size = number of features in input, if batch_first = TRUE (batchSize, seq_len, Hin) FEATURES\n",
    "        hidden_size = number of features in hidden state\n",
    "        num_layers\n",
    "        batch_first = if TRUE (batch, seq, Hin) Hin may mean input features\n",
    "        h_0 = (D * num_layers, batchSize, Hout)\n",
    "        c_0 = (D * num_layers, batchSize, Hcell)\n",
    "\n",
    "        output = (batchSize, seq_len, D * Hout) Hout may mean output features, if batch first = TRUE \n",
    "        h_0 = (D*num_layers, N, Hout) final state for each element in the batch \n",
    "        C_0 = (D*num_layers, N, Hcell) final cell state for each element \n",
    "\n",
    "        nn.linear:\n",
    "        input_size = (N,*, Hin) Hin = input_features (equal to hidden size therefore is arbitrarily set)\n",
    "        output_size = (N, *, Hout) Hout = output features (equal to output_size passed in to the model) \n",
    "\n",
    "        '''\n",
    "        # Pytorch documentation: \n",
    "        # >>> rnn = nn.LSTM(10, 20, 2) features, hidden_size, number of layers \n",
    "        # >>> input = torch.randn(5, 3, 10) in_seq_len, batch_size, hidden_size (batch size should not be input to the mode, inferred from the shape of the input and will be the first number if batch_first = TRUE)\n",
    "        # >>> h0 = torch.randn(2, 3, 20)\n",
    "        # >>> c0 = torch.randn(2, 3, 20)\n",
    "        # >>> output, (hn, cn) = rnn(input, (h0, c0))\n",
    "\n",
    "        self.input_size = len(features)\n",
    "        self.hidden_size = n_neurons\n",
    "        self.num_layers = 2\n",
    "        self.in_seq_len = look_back\n",
    "        self.output_size = len(features)\n",
    "        self.out_seq_len = output_window\n",
    "        self.device = DEVICE\n",
    "        \n",
    "        # nn.LSTM(features, hidden_size, number of layers)\n",
    "        self.lstm = nn.LSTM(input_size=self.input_size, hidden_size=self.hidden_size, num_layers=self.num_layers, batch_first = True)\n",
    "\n",
    "\n",
    "        self.fc1 = nn.Linear(in_features=self.hidden_size, out_features=(self.output_size * self.out_seq_len))\n",
    "\n",
    "\n",
    "    def forward(self, input_data):\n",
    "\n",
    "        # initialise hidden and cell states after passing through each batch (this is skipped in stateless model)\n",
    "        h_0 = torch.zeros(self.num_layers, input_data.shape[0], self.hidden_size).double().to(self.device) # input_data.shape[0] is equal to batch size\n",
    "        c_0 = torch.zeros(self.num_layers, input_data.shape[0], self.hidden_size).double().to(self.device)\n",
    "\n",
    "        #propagate through LSTM\n",
    "        lstm_out, (h_out, c_out) = self.lstm(input_data, (h_0, c_0))\n",
    "        # print(f'shape h_out[-1] {h_out.shape}')\n",
    "        # propagate through linear layer \n",
    "        fc1_out = self.fc1(h_out[-1])\n",
    "       \n",
    "        preds = fc1_out.reshape(input_data.shape[0], self.out_seq_len, self.output_size)\n",
    "        # print(f'preds.shape (after reshaping): {preds.shape}')\n",
    "        \n",
    "        return preds"
   ]
  },
  {
   "cell_type": "code",
   "execution_count": 96,
   "metadata": {},
   "outputs": [],
   "source": [
    "class MLP(nn.Module):\n",
    "    def __init__(self, n_neurons, input_shape):\n",
    "        super(MLP, self).__init__()\n",
    "        # self.flatten = nn.Flatten()\n",
    "        self.input_size = len(features)\n",
    "        self.output_size = len(features)\n",
    "        self.in_seq_len = input_shape\n",
    "        self.out_seq_len = 1\n",
    "        self.device = DEVICE \n",
    "        self.layers = 3\n",
    "        self.num_units = 200\n",
    "        \n",
    "\n",
    "        self.flatten = nn.Flatten(start_dim=1, end_dim=-1)\n",
    "\n",
    "        linear_layers_lst = [] #linear layer list\n",
    " \n",
    "        for i in range(self.layers):\n",
    "            linear_layers_lst.append(nn.Linear(self.num_units, self.num_units))\n",
    "            linear_layers_lst.append(nn.ReLU())\n",
    "\n",
    "       \n",
    "        linear_layers = tuple((linear_layers_lst))\n",
    "\n",
    "        self.MLP = nn.Sequential(nn.Linear(in_features=self.input_size*self.in_seq_len, out_features=self.num_units), \n",
    "                                nn.ReLU(), \n",
    "                                *linear_layers, \n",
    "                                nn.Linear(self.num_units, self.output_size*self.out_seq_len))\n",
    "\n",
    "        # self.tanh = nn.Tanh()\n",
    "        self.sigmoid = nn.Sigmoid()\n",
    "\n",
    "    def forward(self, x):\n",
    "        # print(f'shape of x: {x.shape}')\n",
    "        out = self.flatten(x)\n",
    "        # x is in the shape [batch_size, in_seq_len, features], but should be reshaped to [batch_size, in_seq_len*features]\n",
    "        # print(f'shape of flatten: {out.shape}')\n",
    "        out = self.MLP(out)\n",
    "        # print(f'shape of MLP: {out.shape}')\n",
    "        out = self.sigmoid(out)\n",
    "        preds = out.reshape(x.shape[0],  self.out_seq_len,self.output_size)\n",
    "        return preds"
   ]
  },
  {
   "cell_type": "code",
   "execution_count": 97,
   "metadata": {},
   "outputs": [],
   "source": [
    "class CNN(nn.Module):\n",
    "    def __init__(self):\n",
    "        super(CNN, self).__init__()\n",
    "        '''\n",
    "        nn.Conv1d\n",
    "        in_channels: number of features in input \n",
    "        out_channels: number of channels in output\n",
    "        kernel_size: size of convolving layer\n",
    "        stride: convolution stride\n",
    "        padding=0\n",
    "        dilation=1\n",
    "        groups=1\n",
    "        bias=True\n",
    "        padding_mode='zeros'\n",
    "        device=device \n",
    "        dtype=None\n",
    "\n",
    "        nn.MaxPool1d\n",
    "        kernel_size:\n",
    "        stride=None: default is kernel_size\n",
    "        padding=0:\n",
    "        dilation=1\n",
    "        return_indices=False\n",
    "        ceil_mode=False\n",
    "\n",
    "        torch.flatten (reshapes to 1D vector)\n",
    "        input\n",
    "        start_dim=0\n",
    "        end_dim=- 1\n",
    "\n",
    "        nn.Linear \n",
    "        input_size = (N,*, Hin) Hin = input_features (equal to hidden size therefore is arbitrarily set)\n",
    "        output_size = (N, *, Hout) Hout = output features (equal to output_size passed in to the model) \n",
    "        '''\n",
    "        # Pytorch documentation: \n",
    "        # >>> m = nn.Conv1d(16, 33, 3, stride=2) features(in_channels), output_channels, kernel_size\n",
    "        # >>> input = torch.randn(20, 16, 50) batch_size, features, length of sequence \n",
    "        # >>> output = m(input~)\n",
    "\n",
    "\n",
    "        # >>> m = nn.MaxPool1d(3, stride=2) kernel_size, stride\n",
    "        # >>> input = torch.randn(20, 16, 50)\n",
    "        # >>> output = m(input)\n",
    "    \n",
    "        self.input_size = len(features)\n",
    "        self.output_size = len(features)\n",
    "        # self.kernel_size = kernel_size\n",
    "        # self.stride = stride\n",
    "        self.device = DEVICE \n",
    "        self.in_seq_len = input_window\n",
    "        self.out_seq_len = output_window\n",
    "        self.conv1_channels = 32\n",
    "        self.conv2_channels = 48\n",
    "        self.conv3_channels = 256\n",
    "        self.conv4_channels = 256\n",
    "        self.kernel_12 = 3\n",
    "        self.kernel_34 = 3\n",
    "        self.padding = 2\n",
    "        self.stride = 2\n",
    "        self.dilation = 1\n",
    "\n",
    "        def calc_shape(input, kernel_size, stride, padding=0, dilation =1, operation = 'conv'):\n",
    "            if operation == 'conv':\n",
    "            # size = ((input - kernel_size + (2 * padding))/stride)  + 1 \n",
    "                size = ((input + 2 * padding - dilation * (kernel_size-1) -1)/stride )+ 1\n",
    "\n",
    "            if operation == 'pool':\n",
    "                size = ((input - kernel_size)/stride)  + 1\n",
    "\n",
    "            return size\n",
    "\n",
    "        self.conv1 = nn.Conv1d(in_channels = self.input_size, out_channels = self.conv1_channels, kernel_size = self.kernel_12, stride = self.stride, padding = self.padding, dilation=self.dilation)\n",
    "        post_conv1 = calc_shape(input = self.in_seq_len, kernel_size = self.kernel_12, stride = self.stride, padding = self.padding,  dilation=self.dilation, operation='conv')\n",
    "        # print(f'post conv1: {post_conv1}')\n",
    "\n",
    "        self.conv2 = nn.Conv1d(in_channels = self.conv1_channels, out_channels = self.conv2_channels, kernel_size = self.kernel_12 , stride = self.stride, padding = self.padding,  dilation=self.dilation)\n",
    "        post_conv2 = calc_shape(input = post_conv1, kernel_size =self.kernel_12 , stride = self.stride, padding = self.padding,  dilation=self.dilation,  operation='conv')\n",
    "        # print(f'post conv2: {post_conv2}')\n",
    "\n",
    "        self.pool1 = nn.MaxPool1d(kernel_size = 2, stride = 2)\n",
    "        post_pool1 = calc_shape(input = post_conv2, kernel_size = 2, stride = 2,  operation='pool')\n",
    "        # print(f'post poo1: {post_pool1}')\n",
    "\n",
    "        self.conv3 = nn.Conv1d(in_channels=self.conv2_channels, out_channels=self.conv3_channels, kernel_size = self.kernel_34, stride = self.stride, padding = self.padding,  dilation=self.dilation )\n",
    "        post_conv3 = calc_shape(input = post_pool1, kernel_size = self.kernel_34, stride = self.stride, padding = self.padding, dilation=self.dilation, operation='conv')\n",
    "        # print(f'post conv3: {post_conv3}')\n",
    "\n",
    "\n",
    "        self.conv4 = nn.Conv1d(in_channels=self.conv3_channels, out_channels=self.conv4_channels, kernel_size = self.kernel_34, stride = self.stride, padding = self.padding,  dilation=self.dilation)\n",
    "        post_conv4 = calc_shape(input = post_conv3, kernel_size = self.kernel_34, stride = self.stride, padding = self.padding,  dilation=self.dilation, operation='conv')\n",
    "        # print(f'post conv4: {post_conv4}')\n",
    "\n",
    "\n",
    "        self.pool2 = nn.MaxPool1d(kernel_size = 2, stride = 2)\n",
    "        post_pool2 = calc_shape(input = post_conv4, kernel_size = 2, stride = 2,  operation='pool')\n",
    "        # print(f'post pool2: {post_pool2}')\n",
    "\n",
    "        # print(f'linear input: {post_pool2 * 32}')\n",
    "\n",
    "        self.fc1 = nn.Linear(in_features = (int(post_pool2) * self.conv4_channels), out_features=(self.output_size * self.out_seq_len))\n",
    "        #nn.Linear(in_features=self.hidden_size, out_features=(self.output_size * self.out_seq_len))\n",
    "\n",
    "\n",
    "    def forward(self, input_data):\n",
    "        '''\n",
    "        input_data.shape = \n",
    "        '''\n",
    "        # print(f'input_data.shape = {input_data.shape}') #input_data.shape = torch.Size([512, 2, 120])\n",
    "        input = input_data.permute(0,2,1)\n",
    "        out = self.conv1(input)\n",
    "        out = F.relu(out)\n",
    "        out = self.conv2(out)\n",
    "        out = F.relu(out)\n",
    "        # print(f'conv1 out shape = {out.shape}') #conv1_out.shape = torch.Size([512, 12, 120])\n",
    "        out = self.pool1(out)\n",
    "        # print(f'pool1 out shape = {out.shape}')\n",
    "        out = self.conv3(out)\n",
    "        # print(f'conv2 out shape: {out.shape}')\n",
    "        out = F.relu(out)\n",
    "        out = self.conv4(out)\n",
    "        out = F.relu(out)\n",
    "        out = self.pool2(out)\n",
    "        out = torch.flatten(out, start_dim = 1, end_dim=-1) #do not flatten batches \n",
    "        # print(f'flatten layer out shape: {out.shape}') #([512, 720]) \n",
    "        out = self.fc1(out)\n",
    "        # print(f'fc1 out shape: {out.shape}')\n",
    "        preds = out.reshape(input_data.shape[0],  self.out_seq_len, self.output_size)\n",
    "        # print(f'preds.shape (after reshaping): {preds.shape}')\n",
    "\n",
    "        return preds"
   ]
  },
  {
   "cell_type": "code",
   "execution_count": 98,
   "metadata": {},
   "outputs": [],
   "source": [
    "class PositionalEncoding(nn.Module):\n",
    "    \"Implement the PE function.\"\n",
    "\n",
    "    def __init__(self, d_model, dropout, max_len=100):\n",
    "        super(PositionalEncoding, self).__init__()\n",
    "        self.dropout = nn.Dropout(p=dropout)\n",
    "\n",
    "        # Compute the positional encodings once in log space.\n",
    "        pe = torch.zeros(max_len, d_model)\n",
    "        position = torch.arange(0, max_len).unsqueeze(1)\n",
    "        div_term = torch.exp(torch.arange(0, d_model, 2) *\n",
    "                             -(math.log(10000.0) / d_model))\n",
    "        pe[:, 0::2] = torch.sin(position * div_term)\n",
    "        pe[:, 1::2] = torch.cos(position * div_term)\n",
    "        pe.requires_grad = False\n",
    "        #pe = pe.unsqueeze(0)\n",
    "        self.register_buffer('pe', pe)\n",
    "\n",
    "    def forward(self, x):\n",
    "        #x = x + self.pe[:x.size(0), :]#Variable(self.pe[:x.size(0), :], requires_grad=False)\n",
    "        x = x + self.pe[:x.size(1), :].unsqueeze(0).repeat(x.size(0), 1, 1) ## modified by Bing to adapt to batch\n",
    "        return self.dropout(x)\n",
    "        # return x"
   ]
  },
  {
   "cell_type": "code",
   "execution_count": 99,
   "metadata": {},
   "outputs": [],
   "source": [
    "class Transformer(nn.Module):\n",
    "    def __init__(self):\n",
    "        super(Transformer, self).__init__()\n",
    "\n",
    "        # self.device = device\n",
    "        self.feature_size = len(features)\n",
    "        # self.out_seq_len = 6\n",
    "        self.d_model= 80\n",
    "\n",
    "\n",
    "        # self.t2v = Time2Vec(input_dim=len(features), embed_dim=self.d_model, act_function=torch.sin).to(DEVICE)\n",
    "        self.enc_in = nn.Linear(len(features), self.d_model)\n",
    "        self.dec_in = nn.Linear(len(features), self.d_model)\n",
    "        self.pe = PositionalEncoding(d_model = self.d_model, dropout = 0.2).to(DEVICE)\n",
    "        self.transformer = nn.Transformer(d_model=self.d_model, nhead = 8, num_encoder_layers=1, num_decoder_layers=1, dim_feedforward=100, dropout=0.1, batch_first=True)\n",
    "        self.linear = nn.Linear(80 ,len(features))\n",
    "        # self.tanh = nn.Tanh()\n",
    "        self.sigmoid = nn.Sigmoid()\n",
    "\n",
    "    def forward(self,x):\n",
    "        # print(f'input shape: {x.shape}')\n",
    "        src = self.enc_in(x)\n",
    "        # print(f'linear layer output shape: {src.shape}')\n",
    "        src = self.pe(src)\n",
    "\n",
    "\n",
    "        # print(f'after positional encoding: {out.shape}')\n",
    "\n",
    "        # tgt = self.pe(x[:,:-1,:])\n",
    "        # tgt = self.pe(x[:,-1,:].unsqueeze(1))\n",
    "        tgt = self.dec_in(x[:,-1,:].unsqueeze(1))\n",
    "        # print(f'linear layer output shape (decoder): {tgt.shape}')\n",
    "        tgt = self.pe(tgt)\n",
    "\n",
    "        out = self.transformer(src, tgt)\n",
    "        # output of decoder shape: torch.Size([batch_size, 99, input_embed])\n",
    "        # print(f'output of transfoermer: {out.shape}')\n",
    "        \n",
    "        out = out.reshape(out.shape[0], -1)\n",
    "        # print(f'reshaped transfoer out: {out.shape}')\n",
    "\n",
    "        out = self.linear(out)\n",
    "        out = self.sigmoid(out)\n",
    "        out = out.reshape(x.shape[0], 1, self.feature_size)\n",
    "        # print(f'output of decoder shape: {out.shape}')\n",
    "\n",
    "        \n",
    "        return out"
   ]
  },
  {
   "cell_type": "markdown",
   "metadata": {},
   "source": [
    "## Train Model"
   ]
  },
  {
   "cell_type": "code",
   "execution_count": 100,
   "metadata": {},
   "outputs": [],
   "source": [
    "# DEVICE = 'cpu'\n",
    "DEVICE = 'cuda'"
   ]
  },
  {
   "cell_type": "code",
   "execution_count": 69,
   "metadata": {},
   "outputs": [
    {
     "name": "stdout",
     "output_type": "stream",
     "text": [
      "File already exists, choose a different name\n"
     ]
    },
    {
     "ename": "RuntimeError",
     "evalue": "No active exception to reraise",
     "output_type": "error",
     "traceback": [
      "\u001b[1;31m---------------------------------------------------------------------------\u001b[0m",
      "\u001b[1;31mRuntimeError\u001b[0m                              Traceback (most recent call last)",
      "\u001b[1;32m~\\AppData\\Local\\Temp/ipykernel_16956/3419149065.py\u001b[0m in \u001b[0;36m<module>\u001b[1;34m\u001b[0m\n\u001b[0;32m      7\u001b[0m \u001b[1;32melse\u001b[0m\u001b[1;33m:\u001b[0m\u001b[1;33m\u001b[0m\u001b[1;33m\u001b[0m\u001b[0m\n\u001b[0;32m      8\u001b[0m     \u001b[0mprint\u001b[0m\u001b[1;33m(\u001b[0m\u001b[1;34m'File already exists, choose a different name'\u001b[0m\u001b[1;33m)\u001b[0m\u001b[1;33m\u001b[0m\u001b[1;33m\u001b[0m\u001b[0m\n\u001b[1;32m----> 9\u001b[1;33m     \u001b[1;32mraise\u001b[0m\u001b[1;33m\u001b[0m\u001b[1;33m\u001b[0m\u001b[0m\n\u001b[0m\u001b[0;32m     10\u001b[0m \u001b[1;33m\u001b[0m\u001b[0m\n",
      "\u001b[1;31mRuntimeError\u001b[0m: No active exception to reraise"
     ]
    }
   ],
   "source": [
    "fname = 'NYU_test'\n",
    "folder_path = r'D:\\Study 2 Results and Models\\NUY test' + '\\\\' + fname \n",
    "path = r'D:\\Study 2 Results and Models\\NUY test' + '\\\\' + fname + '\\\\'  + fname + '.pth'\n",
    "\n",
    "if not os.path.exists(folder_path):\n",
    "    os.makedirs(folder_path)\n",
    "else:\n",
    "    print('File already exists, choose a different name')\n",
    "    raise \n",
    "    "
   ]
  },
  {
   "cell_type": "code",
   "execution_count": 101,
   "metadata": {},
   "outputs": [
    {
     "data": {
      "application/vnd.jupyter.widget-view+json": {
       "model_id": "046868bd728f4b5fa5fa74fd5840aa1c",
       "version_major": 2,
       "version_minor": 0
      },
      "text/plain": [
       "  0%|          | 0/2 [00:00<?, ?it/s]"
      ]
     },
     "metadata": {},
     "output_type": "display_data"
    },
    {
     "ename": "KeyboardInterrupt",
     "evalue": "",
     "output_type": "error",
     "traceback": [
      "\u001b[1;31m---------------------------------------------------------------------------\u001b[0m",
      "\u001b[1;31mKeyboardInterrupt\u001b[0m                         Traceback (most recent call last)",
      "\u001b[1;32m~\\AppData\\Local\\Temp/ipykernel_16956/2659906095.py\u001b[0m in \u001b[0;36m<module>\u001b[1;34m\u001b[0m\n\u001b[0;32m     90\u001b[0m             \u001b[1;32mfor\u001b[0m \u001b[0ms\u001b[0m \u001b[1;32min\u001b[0m \u001b[0mrange\u001b[0m\u001b[1;33m(\u001b[0m\u001b[0mbatch_targets\u001b[0m\u001b[1;33m.\u001b[0m\u001b[0mshape\u001b[0m\u001b[1;33m[\u001b[0m\u001b[1;36m0\u001b[0m\u001b[1;33m]\u001b[0m\u001b[1;33m)\u001b[0m\u001b[1;33m:\u001b[0m\u001b[1;33m\u001b[0m\u001b[1;33m\u001b[0m\u001b[0m\n\u001b[0;32m     91\u001b[0m                 \u001b[1;32mfor\u001b[0m \u001b[0mf\u001b[0m \u001b[1;32min\u001b[0m \u001b[0mrange\u001b[0m\u001b[1;33m(\u001b[0m\u001b[0mlen\u001b[0m\u001b[1;33m(\u001b[0m\u001b[0mfeatures\u001b[0m\u001b[1;33m)\u001b[0m\u001b[1;33m)\u001b[0m\u001b[1;33m:\u001b[0m\u001b[1;33m\u001b[0m\u001b[1;33m\u001b[0m\u001b[0m\n\u001b[1;32m---> 92\u001b[1;33m                     \u001b[0mdis\u001b[0m \u001b[1;33m=\u001b[0m \u001b[0mdtw\u001b[0m\u001b[1;33m(\u001b[0m\u001b[0mextrapolation\u001b[0m\u001b[1;33m[\u001b[0m\u001b[0ms\u001b[0m\u001b[1;33m,\u001b[0m\u001b[1;33m:\u001b[0m\u001b[1;33m,\u001b[0m\u001b[0mf\u001b[0m\u001b[1;33m]\u001b[0m\u001b[1;33m.\u001b[0m\u001b[0msqueeze\u001b[0m\u001b[1;33m(\u001b[0m\u001b[1;33m)\u001b[0m\u001b[1;33m.\u001b[0m\u001b[0mcpu\u001b[0m\u001b[1;33m(\u001b[0m\u001b[1;33m)\u001b[0m\u001b[1;33m,\u001b[0m\u001b[0mbatch_targets\u001b[0m\u001b[1;33m[\u001b[0m\u001b[0ms\u001b[0m\u001b[1;33m,\u001b[0m\u001b[1;33m:\u001b[0m\u001b[1;33m,\u001b[0m\u001b[0mf\u001b[0m\u001b[1;33m]\u001b[0m\u001b[1;33m.\u001b[0m\u001b[0msqueeze\u001b[0m\u001b[1;33m(\u001b[0m\u001b[1;33m)\u001b[0m\u001b[1;33m.\u001b[0m\u001b[0mcpu\u001b[0m\u001b[1;33m(\u001b[0m\u001b[1;33m)\u001b[0m\u001b[1;33m,\u001b[0m \u001b[0mdistance_only\u001b[0m\u001b[1;33m=\u001b[0m\u001b[1;32mTrue\u001b[0m\u001b[1;33m)\u001b[0m\u001b[1;33m.\u001b[0m\u001b[0mdistance\u001b[0m\u001b[1;33m\u001b[0m\u001b[1;33m\u001b[0m\u001b[0m\n\u001b[0m\u001b[0;32m     93\u001b[0m \u001b[1;33m\u001b[0m\u001b[0m\n\u001b[0;32m     94\u001b[0m                     \u001b[0mrunning_dtw\u001b[0m \u001b[1;33m+=\u001b[0m \u001b[0mdis\u001b[0m\u001b[1;33m\u001b[0m\u001b[1;33m\u001b[0m\u001b[0m\n",
      "\u001b[1;31mKeyboardInterrupt\u001b[0m: "
     ]
    }
   ],
   "source": [
    "n_neurons = 200\n",
    "# model = CNN().double().to(DEVICE)\n",
    "model = MLP(n_neurons, look_back).double().to(DEVICE)\n",
    "# model = Transformer().double().to(DEVICE)\n",
    "# model = LSTM(n_neurons, look_back).double().to(DEVICE)\n",
    "\n",
    "loss_function = nn.MSELoss()\n",
    "optimizer = optim.Adam(model.parameters(), lr=0.0001)\n",
    "\n",
    "train_loss = []\n",
    "val_loss = []\n",
    "lt_loss = []\n",
    "dtw_loss = []\n",
    "\n",
    "lowest_dtw = 1000.\n",
    "\n",
    "epochs = 2\n",
    "\n",
    "for epoch in tqdm(range(epochs)):\n",
    "    train_loss_total = 0.\n",
    "    i = 0\n",
    "    model.train()\n",
    "    for idx, (batch_inputs, batch_targets) in enumerate(train_dataloader):\n",
    "        i += 1\n",
    "        model.zero_grad()\n",
    "        # print(f'train_labels shape: {batch_inputs.shape}')\n",
    "\n",
    "        batch_inputs, batch_targets = batch_inputs.to(DEVICE), batch_targets.to(DEVICE)\n",
    "        \n",
    "        # print(f'batch_inputs.shape {batch_inputs.shape}')\n",
    "        predictions = model(batch_inputs)\n",
    "        # print(f'predictions.shape {predictions.shape}')\n",
    "        # print(f'train_labels shape: {batch_targets.shape}')\n",
    "        loss = loss_function(predictions, batch_targets)\n",
    "\n",
    "        train_loss_total += loss.item()\n",
    "        loss.backward()\n",
    "        optimizer.step()\n",
    "    # print(f'len(dataloader): {len(train_dataloader)}')\n",
    "    train_loss_total = train_loss_total/len(train_dataloader)\n",
    "    train_loss.append(train_loss_total)\n",
    "\n",
    "    # Calculate validation loss\n",
    "    model.eval()\n",
    "    with torch.no_grad():\n",
    "        val_loss_total = 0.\n",
    "        for idx, (batch_inputs, batch_targets) in enumerate(val_dataloader):\n",
    "            \n",
    "\n",
    "            batch_inputs, batch_targets = batch_inputs.to(DEVICE), batch_targets.to(DEVICE)\n",
    "            predictions = model(batch_inputs)\n",
    "            # print(f'train_labels shape: {train_labels.shape}')\n",
    "            loss = loss_function(predictions, batch_targets)\n",
    "            val_loss_total += loss.item()\n",
    "    \n",
    "    val_loss_total = val_loss_total/len(val_dataloader)\n",
    "    val_loss.append(val_loss_total)\n",
    "\n",
    "    # Calculating long term loss\n",
    "    model.eval()\n",
    "    with torch.no_grad():\n",
    "        lt_loss_total = 0.\n",
    "        dtw_total = 0.\n",
    "\n",
    "        for idx, (batch_inputs, batch_targets) in enumerate(val_lt_dataloader):\n",
    "\n",
    "            extrapolation = torch.zeros((batch_inputs.shape[0], 200, len(features))).to(DEVICE)\n",
    "            # print(f'extrapolation.shape: {extrapolation.shape}')\n",
    "\n",
    "            batch_inputs, batch_targets = batch_inputs.to(DEVICE), batch_targets.to(DEVICE)\n",
    "            current_inputs = batch_inputs\n",
    "            for i in range(200):\n",
    "                # print(f'current_inputs.shape {current_inputs.shape}')\n",
    "                predictions = model(current_inputs)\n",
    "                # print(f'predictions.shape {predictions.shape}')\n",
    "\n",
    "                extrapolation[:,i,:] = predictions.squeeze(1)\n",
    "                # print(f'current_inputs[:,1:,:].shape {current_inputs[:,1:,:].shape}')\n",
    "                # print(f'predictions.shape {predictions.shape}')\n",
    "\n",
    "                #concat shape [batch_size, 99, len(features)] and [batch_size, 1, len(features)]\n",
    "                current_inputs = torch.cat((current_inputs[:,1:,:], predictions), axis=1)\n",
    "\n",
    "            loss = loss_function(extrapolation, batch_targets)\n",
    "    \n",
    "            lt_loss_total += loss.item()\n",
    "\n",
    "            #dtw\n",
    "            running_dtw = 0.\n",
    "            for s in range(batch_targets.shape[0]):\n",
    "                for f in range(len(features)):\n",
    "                    dis = dtw(extrapolation[s,:,f].squeeze().cpu(),batch_targets[s,:,f].squeeze().cpu(), distance_only=True).distance\n",
    "                    \n",
    "                    running_dtw += dis\n",
    "\n",
    "            dtw_total += running_dtw / (batch_targets.shape[0] * len(features))\n",
    "\n",
    "    lt_loss_total = lt_loss_total/len(val_lt_dataloader)\n",
    "    lt_loss.append(lt_loss_total)\n",
    "\n",
    "    dtw_total = dtw_total / (len(val_lt_dataloader))\n",
    "    dtw_loss.append(dtw_total)\n",
    "\n",
    "    # plot one sample of extraplation \n",
    "\n",
    "    if epoch % 5 == 0:\n",
    "        x1 = np.arange(0,100)\n",
    "        x3 = np.arange(101,301)\n",
    "\n",
    "        fig, axs = plt.subplots(nrows=2, ncols=3, tight_layout=True, figsize=(15,7))\n",
    "        n = [[0,0], [0,1], [0,2], [1,0], [1,1], [1,2]] #indicies for the plots\n",
    "\n",
    "        text_size = 11\n",
    "        for f in range(len(features)):\n",
    "            axs[n[f][0],n[f][1]].plot(x1, batch_inputs[0,:,f].cpu().numpy().reshape(-1,1).squeeze(), lw=3, c='b', label='input')\n",
    "            axs[n[f][0],n[f][1]].plot(x3, extrapolation[0,:,f].cpu().numpy().reshape(-1,1).squeeze(), lw=3, c='g',linestyle='dashed', label='extrapolation')\n",
    "            axs[n[f][0],n[f][1]].plot(x3, batch_targets[0,:,f].cpu().numpy().reshape(-1,1).squeeze(), lw=2, c='r', label='actual')\n",
    "            axs[n[f][0],n[f][1]].set_xlabel('Time-steps', size=text_size)\n",
    "            axs[n[f][0],n[f][1]].set_ylabel('Angle (Normalised)', size=text_size)\n",
    "            axs[n[f][0],n[f][1]].set_title(features[f], size=text_size)\n",
    "\n",
    "        plt.legend()\n",
    "        plt.show()\n",
    "        \n",
    "\n",
    "    print(f'Epoch: {epoch+1}, Train Loss: {train_loss_total}, Val Loss: {val_loss_total}, lt Loss: {lt_loss_total}, dtw distance: {dtw_total}')\n",
    "\n",
    "\n",
    "    if dtw_total < lowest_dtw:\n",
    "        print('New model saved!')\n",
    "        lowest_dtw = dtw_total\n",
    "        \n",
    "        checkpoint = {'model': model,\n",
    "                'state_dict': model.state_dict(),\n",
    "                'optimizer' : optimizer.state_dict()}\n",
    "\n",
    "        torch.save(checkpoint, path)"
   ]
  },
  {
   "cell_type": "code",
   "execution_count": null,
   "metadata": {},
   "outputs": [
    {
     "name": "stdout",
     "output_type": "stream",
     "text": [
      "Epoch1: train_loss: 0.028930289056179337, val_loss: 0.024702887670684872, lt_loss: 0.024829987301690056, dtw_loss: 27.90669388638952\n",
      "Epoch2: train_loss: 0.01947095187305138, val_loss: 0.013743857087835466, lt_loss: 0.013882138632735639, dtw_loss: 20.22919521096068\n"
     ]
    }
   ],
   "source": [
    "for t in range(epochs):\n",
    "    print(f'Epoch{t+1}: train_loss: {train_loss[t]}, val_loss: {val_loss[t]}, lt_loss: {lt_loss[t]}, dtw_loss: {dtw_loss[t]}')"
   ]
  },
  {
   "cell_type": "markdown",
   "metadata": {},
   "source": [
    "## Load Saved Model"
   ]
  },
  {
   "cell_type": "code",
   "execution_count": 121,
   "metadata": {},
   "outputs": [
    {
     "ename": "NameError",
     "evalue": "name 'read' is not defined",
     "output_type": "error",
     "traceback": [
      "\u001b[1;31m---------------------------------------------------------------------------\u001b[0m",
      "\u001b[1;31mNameError\u001b[0m                                 Traceback (most recent call last)",
      "\u001b[1;32m~\\AppData\\Local\\Temp/ipykernel_16956/917175626.py\u001b[0m in \u001b[0;36m<module>\u001b[1;34m\u001b[0m\n\u001b[0;32m      1\u001b[0m \u001b[0msaved_model_path\u001b[0m \u001b[1;33m=\u001b[0m \u001b[1;34mr'D:\\Study 2 Results and Models\\NUY test\\NYU_test'\u001b[0m \u001b[1;33m+\u001b[0m \u001b[1;34m'\\\\'\u001b[0m \u001b[1;33m+\u001b[0m \u001b[1;34m'Exp079_221103_FCN_wide_norm'\u001b[0m \u001b[1;33m+\u001b[0m \u001b[1;34m'.pth'\u001b[0m\u001b[1;33m\u001b[0m\u001b[1;33m\u001b[0m\u001b[0m\n\u001b[0;32m      2\u001b[0m \u001b[0msaved_model_path\u001b[0m \u001b[1;33m=\u001b[0m \u001b[1;34mr'trained-models\\Exp079_221103_FCN_wide_norm.pth'\u001b[0m\u001b[1;33m\u001b[0m\u001b[1;33m\u001b[0m\u001b[0m\n\u001b[1;32m----> 3\u001b[1;33m \u001b[0mread\u001b[0m\u001b[1;33m.\u001b[0m\u001b[0mcsv\u001b[0m\u001b[1;33m(\u001b[0m\u001b[1;34m\"../data/all_data_healthy_train.csv.csv\"\u001b[0m\u001b[1;33m)\u001b[0m\u001b[1;33m\u001b[0m\u001b[1;33m\u001b[0m\u001b[0m\n\u001b[0m\u001b[0;32m      4\u001b[0m \u001b[1;31m# saved_model_path = r'../Exp079_221103_FCN_wide_norm.pth'\u001b[0m\u001b[1;33m\u001b[0m\u001b[1;33m\u001b[0m\u001b[0m\n",
      "\u001b[1;31mNameError\u001b[0m: name 'read' is not defined"
     ]
    }
   ],
   "source": [
    "saved_model_path = r'D:\\Study 2 Results and Models\\NUY test\\NYU_test' + '\\\\' + 'Exp079_221103_FCN_wide_norm' + '.pth'\n",
    "saved_model_path = r'trained-models\\Exp079_221103_FCN_wide_norm.pth'\n",
    "np.loadcsv(\"../data/all_data_healthy_train.csv.csv\")\n",
    "# saved_model_path = r'../Exp079_221103_FCN_wide_norm.pth'\n"
   ]
  },
  {
   "cell_type": "code",
   "execution_count": 125,
   "metadata": {},
   "outputs": [
    {
     "data": {
      "text/plain": [
       "[]"
      ]
     },
     "execution_count": 125,
     "metadata": {},
     "output_type": "execute_result"
    }
   ],
   "source": [
    "from pandas import read_csv\n",
    "import glob\n",
    " \n",
    "glob.glob('../data/all_data_healthy_train.csv')"
   ]
  },
  {
   "cell_type": "code",
   "execution_count": 120,
   "metadata": {},
   "outputs": [
    {
     "ename": "FileNotFoundError",
     "evalue": "[Errno 2] No such file or directory: '../Exp079_221103_FCN_wide_norm.pth'",
     "output_type": "error",
     "traceback": [
      "\u001b[1;31m---------------------------------------------------------------------------\u001b[0m",
      "\u001b[1;31mFileNotFoundError\u001b[0m                         Traceback (most recent call last)",
      "\u001b[1;32m~\\AppData\\Local\\Temp/ipykernel_16956/2641262785.py\u001b[0m in \u001b[0;36m<module>\u001b[1;34m\u001b[0m\n\u001b[0;32m     10\u001b[0m     \u001b[1;32mreturn\u001b[0m \u001b[0mmodel\u001b[0m\u001b[1;33m\u001b[0m\u001b[1;33m\u001b[0m\u001b[0m\n\u001b[0;32m     11\u001b[0m \u001b[1;33m\u001b[0m\u001b[0m\n\u001b[1;32m---> 12\u001b[1;33m \u001b[0mmodel\u001b[0m \u001b[1;33m=\u001b[0m \u001b[0mload_checkpoint\u001b[0m\u001b[1;33m(\u001b[0m\u001b[0msaved_model_path\u001b[0m\u001b[1;33m)\u001b[0m\u001b[1;33m\u001b[0m\u001b[1;33m\u001b[0m\u001b[0m\n\u001b[0m",
      "\u001b[1;32m~\\AppData\\Local\\Temp/ipykernel_16956/2641262785.py\u001b[0m in \u001b[0;36mload_checkpoint\u001b[1;34m(filepath)\u001b[0m\n\u001b[0;32m      1\u001b[0m \u001b[1;31m#load model\u001b[0m\u001b[1;33m\u001b[0m\u001b[1;33m\u001b[0m\u001b[0m\n\u001b[0;32m      2\u001b[0m \u001b[1;32mdef\u001b[0m \u001b[0mload_checkpoint\u001b[0m\u001b[1;33m(\u001b[0m\u001b[0mfilepath\u001b[0m\u001b[1;33m)\u001b[0m\u001b[1;33m:\u001b[0m\u001b[1;33m\u001b[0m\u001b[1;33m\u001b[0m\u001b[0m\n\u001b[1;32m----> 3\u001b[1;33m     \u001b[0mcheckpoint\u001b[0m \u001b[1;33m=\u001b[0m \u001b[0mtorch\u001b[0m\u001b[1;33m.\u001b[0m\u001b[0mload\u001b[0m\u001b[1;33m(\u001b[0m\u001b[0mfilepath\u001b[0m\u001b[1;33m)\u001b[0m\u001b[1;33m\u001b[0m\u001b[1;33m\u001b[0m\u001b[0m\n\u001b[0m\u001b[0;32m      4\u001b[0m     \u001b[0mmodel\u001b[0m \u001b[1;33m=\u001b[0m \u001b[0mcheckpoint\u001b[0m\u001b[1;33m[\u001b[0m\u001b[1;34m'model'\u001b[0m\u001b[1;33m]\u001b[0m\u001b[1;33m\u001b[0m\u001b[1;33m\u001b[0m\u001b[0m\n\u001b[0;32m      5\u001b[0m     \u001b[0mmodel\u001b[0m\u001b[1;33m.\u001b[0m\u001b[0mload_state_dict\u001b[0m\u001b[1;33m(\u001b[0m\u001b[0mcheckpoint\u001b[0m\u001b[1;33m[\u001b[0m\u001b[1;34m'state_dict'\u001b[0m\u001b[1;33m]\u001b[0m\u001b[1;33m)\u001b[0m\u001b[1;33m\u001b[0m\u001b[1;33m\u001b[0m\u001b[0m\n",
      "\u001b[1;32mc:\\Users\\Rania\\Anaconda3\\envs\\study2\\lib\\site-packages\\torch\\serialization.py\u001b[0m in \u001b[0;36mload\u001b[1;34m(f, map_location, pickle_module, **pickle_load_args)\u001b[0m\n\u001b[0;32m    592\u001b[0m         \u001b[0mpickle_load_args\u001b[0m\u001b[1;33m[\u001b[0m\u001b[1;34m'encoding'\u001b[0m\u001b[1;33m]\u001b[0m \u001b[1;33m=\u001b[0m \u001b[1;34m'utf-8'\u001b[0m\u001b[1;33m\u001b[0m\u001b[1;33m\u001b[0m\u001b[0m\n\u001b[0;32m    593\u001b[0m \u001b[1;33m\u001b[0m\u001b[0m\n\u001b[1;32m--> 594\u001b[1;33m     \u001b[1;32mwith\u001b[0m \u001b[0m_open_file_like\u001b[0m\u001b[1;33m(\u001b[0m\u001b[0mf\u001b[0m\u001b[1;33m,\u001b[0m \u001b[1;34m'rb'\u001b[0m\u001b[1;33m)\u001b[0m \u001b[1;32mas\u001b[0m \u001b[0mopened_file\u001b[0m\u001b[1;33m:\u001b[0m\u001b[1;33m\u001b[0m\u001b[1;33m\u001b[0m\u001b[0m\n\u001b[0m\u001b[0;32m    595\u001b[0m         \u001b[1;32mif\u001b[0m \u001b[0m_is_zipfile\u001b[0m\u001b[1;33m(\u001b[0m\u001b[0mopened_file\u001b[0m\u001b[1;33m)\u001b[0m\u001b[1;33m:\u001b[0m\u001b[1;33m\u001b[0m\u001b[1;33m\u001b[0m\u001b[0m\n\u001b[0;32m    596\u001b[0m             \u001b[1;31m# The zipfile reader is going to advance the current file position.\u001b[0m\u001b[1;33m\u001b[0m\u001b[1;33m\u001b[0m\u001b[0m\n",
      "\u001b[1;32mc:\\Users\\Rania\\Anaconda3\\envs\\study2\\lib\\site-packages\\torch\\serialization.py\u001b[0m in \u001b[0;36m_open_file_like\u001b[1;34m(name_or_buffer, mode)\u001b[0m\n\u001b[0;32m    228\u001b[0m \u001b[1;32mdef\u001b[0m \u001b[0m_open_file_like\u001b[0m\u001b[1;33m(\u001b[0m\u001b[0mname_or_buffer\u001b[0m\u001b[1;33m,\u001b[0m \u001b[0mmode\u001b[0m\u001b[1;33m)\u001b[0m\u001b[1;33m:\u001b[0m\u001b[1;33m\u001b[0m\u001b[1;33m\u001b[0m\u001b[0m\n\u001b[0;32m    229\u001b[0m     \u001b[1;32mif\u001b[0m \u001b[0m_is_path\u001b[0m\u001b[1;33m(\u001b[0m\u001b[0mname_or_buffer\u001b[0m\u001b[1;33m)\u001b[0m\u001b[1;33m:\u001b[0m\u001b[1;33m\u001b[0m\u001b[1;33m\u001b[0m\u001b[0m\n\u001b[1;32m--> 230\u001b[1;33m         \u001b[1;32mreturn\u001b[0m \u001b[0m_open_file\u001b[0m\u001b[1;33m(\u001b[0m\u001b[0mname_or_buffer\u001b[0m\u001b[1;33m,\u001b[0m \u001b[0mmode\u001b[0m\u001b[1;33m)\u001b[0m\u001b[1;33m\u001b[0m\u001b[1;33m\u001b[0m\u001b[0m\n\u001b[0m\u001b[0;32m    231\u001b[0m     \u001b[1;32melse\u001b[0m\u001b[1;33m:\u001b[0m\u001b[1;33m\u001b[0m\u001b[1;33m\u001b[0m\u001b[0m\n\u001b[0;32m    232\u001b[0m         \u001b[1;32mif\u001b[0m \u001b[1;34m'w'\u001b[0m \u001b[1;32min\u001b[0m \u001b[0mmode\u001b[0m\u001b[1;33m:\u001b[0m\u001b[1;33m\u001b[0m\u001b[1;33m\u001b[0m\u001b[0m\n",
      "\u001b[1;32mc:\\Users\\Rania\\Anaconda3\\envs\\study2\\lib\\site-packages\\torch\\serialization.py\u001b[0m in \u001b[0;36m__init__\u001b[1;34m(self, name, mode)\u001b[0m\n\u001b[0;32m    209\u001b[0m \u001b[1;32mclass\u001b[0m \u001b[0m_open_file\u001b[0m\u001b[1;33m(\u001b[0m\u001b[0m_opener\u001b[0m\u001b[1;33m)\u001b[0m\u001b[1;33m:\u001b[0m\u001b[1;33m\u001b[0m\u001b[1;33m\u001b[0m\u001b[0m\n\u001b[0;32m    210\u001b[0m     \u001b[1;32mdef\u001b[0m \u001b[0m__init__\u001b[0m\u001b[1;33m(\u001b[0m\u001b[0mself\u001b[0m\u001b[1;33m,\u001b[0m \u001b[0mname\u001b[0m\u001b[1;33m,\u001b[0m \u001b[0mmode\u001b[0m\u001b[1;33m)\u001b[0m\u001b[1;33m:\u001b[0m\u001b[1;33m\u001b[0m\u001b[1;33m\u001b[0m\u001b[0m\n\u001b[1;32m--> 211\u001b[1;33m         \u001b[0msuper\u001b[0m\u001b[1;33m(\u001b[0m\u001b[0m_open_file\u001b[0m\u001b[1;33m,\u001b[0m \u001b[0mself\u001b[0m\u001b[1;33m)\u001b[0m\u001b[1;33m.\u001b[0m\u001b[0m__init__\u001b[0m\u001b[1;33m(\u001b[0m\u001b[0mopen\u001b[0m\u001b[1;33m(\u001b[0m\u001b[0mname\u001b[0m\u001b[1;33m,\u001b[0m \u001b[0mmode\u001b[0m\u001b[1;33m)\u001b[0m\u001b[1;33m)\u001b[0m\u001b[1;33m\u001b[0m\u001b[1;33m\u001b[0m\u001b[0m\n\u001b[0m\u001b[0;32m    212\u001b[0m \u001b[1;33m\u001b[0m\u001b[0m\n\u001b[0;32m    213\u001b[0m     \u001b[1;32mdef\u001b[0m \u001b[0m__exit__\u001b[0m\u001b[1;33m(\u001b[0m\u001b[0mself\u001b[0m\u001b[1;33m,\u001b[0m \u001b[1;33m*\u001b[0m\u001b[0margs\u001b[0m\u001b[1;33m)\u001b[0m\u001b[1;33m:\u001b[0m\u001b[1;33m\u001b[0m\u001b[1;33m\u001b[0m\u001b[0m\n",
      "\u001b[1;31mFileNotFoundError\u001b[0m: [Errno 2] No such file or directory: '../Exp079_221103_FCN_wide_norm.pth'"
     ]
    }
   ],
   "source": [
    "#load model \n",
    "def load_checkpoint(filepath):\n",
    "    checkpoint = torch.load(filepath)\n",
    "    model = checkpoint['model']\n",
    "    model.load_state_dict(checkpoint['state_dict'])\n",
    "    for parameter in model.parameters():\n",
    "        parameter.requires_grad = False\n",
    "\n",
    "    model.eval()\n",
    "    return model\n",
    "\n",
    "model = load_checkpoint(saved_model_path)"
   ]
  },
  {
   "cell_type": "code",
   "execution_count": 104,
   "metadata": {},
   "outputs": [
    {
     "data": {
      "text/plain": [
       "MLP(\n",
       "  (flatten): Flatten(start_dim=1, end_dim=-1)\n",
       "  (MLP): Sequential(\n",
       "    (0): Linear(in_features=600, out_features=200, bias=True)\n",
       "    (1): ReLU()\n",
       "    (2): Linear(in_features=200, out_features=200, bias=True)\n",
       "    (3): ReLU()\n",
       "    (4): Linear(in_features=200, out_features=200, bias=True)\n",
       "    (5): ReLU()\n",
       "    (6): Linear(in_features=200, out_features=200, bias=True)\n",
       "    (7): ReLU()\n",
       "    (8): Linear(in_features=200, out_features=6, bias=True)\n",
       "  )\n",
       "  (sigmoid): Sigmoid()\n",
       ")"
      ]
     },
     "execution_count": 104,
     "metadata": {},
     "output_type": "execute_result"
    }
   ],
   "source": [
    "model.eval()"
   ]
  },
  {
   "cell_type": "markdown",
   "metadata": {},
   "source": [
    "## Plot of Training Loss Curves "
   ]
  },
  {
   "cell_type": "code",
   "execution_count": 105,
   "metadata": {},
   "outputs": [
    {
     "data": {
      "image/png": "[encoded data removed]",
      "text/plain": [
       "<Figure size 504x360 with 1 Axes>"
      ]
     },
     "metadata": {
      "needs_background": "light"
     },
     "output_type": "display_data"
    },
    {
     "data": {
      "image/png": "[encoded data removed]",
      "text/plain": [
       "<Figure size 504x360 with 1 Axes>"
      ]
     },
     "metadata": {
      "needs_background": "light"
     },
     "output_type": "display_data"
    },
    {
     "data": {
      "image/png": "[encoded data removed]",
      "text/plain": [
       "<Figure size 504x360 with 1 Axes>"
      ]
     },
     "metadata": {
      "needs_background": "light"
     },
     "output_type": "display_data"
    }
   ],
   "source": [
    "fig, ax = plt.subplots(1, 1, figsize=(7, 5))\n",
    "\n",
    "ax.plot(train_loss[:], lw=2, label='Train Loss')\n",
    "ax.plot(val_loss[:], lw=2, label='Val Loss')\n",
    "\n",
    "ax.set_title(\"Training Loss Curves\")\n",
    "ax.set_xlabel(\"Epoch\")\n",
    "ax.set_ylabel(\"Loss (MSE)\")\n",
    "ax.legend()\n",
    "plt.show()\n",
    "\n",
    "fig, ax = plt.subplots(1, 1, figsize=(7, 5))\n",
    "\n",
    "ax.plot(lt_loss[:], lw=2, label='Long term prediction Loss')\n",
    "\n",
    "ax.set_title(\"Long-term Prediction Errors on Validation Set\")\n",
    "ax.set_xlabel(\"Epoch\")\n",
    "ax.set_ylabel(\"Loss (MSE)\")\n",
    "ax.legend()\n",
    "plt.show()\n",
    "\n",
    "fig, ax = plt.subplots(1, 1, figsize=(7, 5))\n",
    "ax.plot(dtw_loss, lw=2, label='dtw')\n",
    "ax.set_title(\"Dynamic Time Warping Distances\")\n",
    "ax.set_xlabel(\"Epoch\")\n",
    "ax.set_ylabel(\"Dynamic Time Warping Distance\")\n",
    "ax.legend()\n",
    "plt.show()\n",
    "\n",
    "# fig, ax = plt.subplots(1, 1, figsize=(8, 5))\n",
    "\n",
    "# ax.set_title(\"Plot of the Log of Loss Curves\")\n",
    "# ax.plot(np.log(train_loss[:]), lw=2, label='Train Loss')\n",
    "# ax.plot(np.log(val_loss[:]), lw=2, label='Val Loss')\n",
    "# ax.plot(np.log(lt_loss[:]), lw=2, label='Long term prediction Loss')\n",
    "\n",
    "# ax.set_xlabel(\"Epoch\")\n",
    "# ax.set_ylabel(\"Log Loss (MSE)\")\n",
    "# ax.legend()\n",
    "# plt.show()"
   ]
  },
  {
   "cell_type": "markdown",
   "metadata": {},
   "source": [
    "## Load Test Set"
   ]
  },
  {
   "cell_type": "code",
   "execution_count": 106,
   "metadata": {},
   "outputs": [
    {
     "data": {
      "text/plain": [
       "torch.Size([3041, 1, 6])"
      ]
     },
     "execution_count": 106,
     "metadata": {},
     "output_type": "execute_result"
    }
   ],
   "source": [
    "test_dataset = X_val_lt.to(DEVICE)\n",
    "with torch.no_grad():\n",
    "    test_predictions = model(test_dataset)\n",
    "\n",
    "test_predictions.shape"
   ]
  },
  {
   "cell_type": "markdown",
   "metadata": {},
   "source": [
    "## Visualisation of Predictions (one-step-ahead predictions)"
   ]
  },
  {
   "cell_type": "code",
   "execution_count": 107,
   "metadata": {},
   "outputs": [
    {
     "data": {
      "text/plain": [
       "<matplotlib.legend.Legend at 0x2a1be95b100>"
      ]
     },
     "execution_count": 107,
     "metadata": {},
     "output_type": "execute_result"
    },
    {
     "data": {
      "image/png": "[encoded data removed]",
      "text/plain": [
       "<Figure size 504x648 with 6 Axes>"
      ]
     },
     "metadata": {
      "needs_background": "light"
     },
     "output_type": "display_data"
    }
   ],
   "source": [
    "x1 = np.arange(0,100)\n",
    "x2 = 101\n",
    "s=500 #sample used for paper\n",
    "\n",
    "fig, axs = plt.subplots(nrows=3, ncols=2, tight_layout=True, figsize=(7,9))\n",
    "n = [[0,0], [1,0], [2,0], [0,1], [1,1], [2,1]] #indicies for the plots\n",
    "\n",
    "text_size = 11\n",
    "alpha = ['a', 'b', 'c', 'd', 'e', 'f']\n",
    "for f in range(len(features)):\n",
    "    # axs[n[f][0],n[f][1]].text(-0.1, 1, alpha[f], size=20, weight='bold', transform=axs[0,0].transAxes)\n",
    "    axs[n[f][0],n[f][1]].plot(x1, test_dataset[s,:,f].cpu().numpy().reshape(-1,1).squeeze(), lw=2, c='b', label = 'input')\n",
    "    axs[n[f][0],n[f][1]].scatter(x2, test_predictions[s,:,f].cpu().numpy().reshape(-1,1).squeeze(), lw=2, marker = 'x', c='g', label='one-step-ahead prediction')\n",
    "    # axs[n[f][0],n[f][1]].scatter(x2, actual_denorm[0,0,f], lw=2, marker = 'x', c='r', label='actual')\n",
    "\n",
    "    axs[n[f][0],n[f][1]].set_xlabel('Time-step', size=text_size)\n",
    "    axs[n[f][0],n[f][1]].set_ylabel('Angle (degrees)', size=text_size)\n",
    "    axs[n[f][0],n[f][1]].set_title(features[f], size=text_size)\n",
    "    axs[n[f][0],n[f][1]].text(-0.1, 1.15, alpha[f], size=18, weight='bold', transform=axs[n[f][0],n[f][1]].transAxes)\n",
    "\n",
    "\n",
    "# axLine, axLabel = ax.get_legend_handles_labels()\n",
    "plt.legend(loc='lower left', bbox_to_anchor=(0.05, -0.8))"
   ]
  },
  {
   "cell_type": "markdown",
   "metadata": {},
   "source": [
    "## Visualisation of Long-term Predictions (200-timesteps in the future)"
   ]
  },
  {
   "cell_type": "code",
   "execution_count": 108,
   "metadata": {},
   "outputs": [
    {
     "data": {
      "text/plain": [
       "torch.Size([1, 100, 6])"
      ]
     },
     "execution_count": 108,
     "metadata": {},
     "output_type": "execute_result"
    }
   ],
   "source": [
    "extrapolation = torch.zeros((1,200, len(features))).to(DEVICE)\n",
    "seed_batch = test_dataset[s,:,:].unsqueeze(0).to(DEVICE)\n",
    "current_batch = seed_batch\n",
    "with torch.no_grad():\n",
    "    for i in range(200):\n",
    "        predicted_value = model(current_batch)\n",
    "        extrapolation[:,i,:] = predicted_value\n",
    "        current_batch = torch.cat((current_batch[:,1:,:], predicted_value), axis=1)\n",
    "\n",
    "seed_batch.shape"
   ]
  },
  {
   "cell_type": "code",
   "execution_count": 109,
   "metadata": {},
   "outputs": [
    {
     "data": {
      "text/plain": [
       "<matplotlib.legend.Legend at 0x2a254663310>"
      ]
     },
     "execution_count": 109,
     "metadata": {},
     "output_type": "execute_result"
    },
    {
     "data": {
      "image/png": "[encoded data removed]",
      "text/plain": [
       "<Figure size 1080x504 with 6 Axes>"
      ]
     },
     "metadata": {
      "needs_background": "light"
     },
     "output_type": "display_data"
    }
   ],
   "source": [
    "x1 = np.arange(0,100)\n",
    "x2 = 101\n",
    "x3 = np.arange(101,301)\n",
    "\n",
    "fig, axs = plt.subplots(nrows=2, ncols=3, tight_layout=True, figsize=(15,7))\n",
    "n = [[0,0], [0,1], [0,2], [1,0], [1,1], [1,2]] #indicies for the plots\n",
    "\n",
    "text_size = 11\n",
    "for f in range(len(features)):\n",
    "    axs[n[f][0],n[f][1]].plot(x1, seed_batch[:,:,f].cpu().numpy().reshape(-1,1).squeeze(), lw=3, c='b', label='input')\n",
    "    axs[n[f][0],n[f][1]].plot(x3, extrapolation[:,:,f].cpu().numpy().reshape(-1,1).squeeze(), lw=3, linestyle='dashed', c='g', label='extrapolation')\n",
    "    axs[n[f][0],n[f][1]].plot(x3, Y_val_lt[s,:,f].cpu().numpy().reshape(-1,1).squeeze(), lw=2, c='r', label='actual')\n",
    "    axs[n[f][0],n[f][1]].set_xlabel('Time-steps', size=text_size)\n",
    "    axs[n[f][0],n[f][1]].set_ylabel('Angle (Normalised)', size=text_size)\n",
    "    axs[n[f][0],n[f][1]].set_title(features[f], size=text_size)\n",
    "\n",
    "plt.legend()\n"
   ]
  },
  {
   "cell_type": "markdown",
   "metadata": {},
   "source": [
    "## Calculating MSE and MAE"
   ]
  },
  {
   "cell_type": "code",
   "execution_count": 110,
   "metadata": {},
   "outputs": [
    {
     "name": "stdout",
     "output_type": "stream",
     "text": [
      "shape of X validation data: torch.Size([4832, 100, 6]), Y validation data: torch.Size([4832, 1, 6])\n"
     ]
    }
   ],
   "source": [
    "print(f'shape of X validation data: {X_val.shape}, Y validation data: {Y_val.shape}')"
   ]
  },
  {
   "cell_type": "code",
   "execution_count": 111,
   "metadata": {},
   "outputs": [],
   "source": [
    "# Calculate predictions\n",
    "model.eval()\n",
    "with torch.no_grad():\n",
    "    test_predictions = model(X_val.to(DEVICE))\n",
    "\n",
    "#Denormalise X_val and Y_val and predictions \n",
    "input_val = denormalise(X_val.cpu().numpy(), scalars)\n",
    "actual_val = denormalise(Y_val.cpu().numpy(), scalars)\n",
    "preds_val = denormalise(test_predictions.cpu().numpy(), scalars)"
   ]
  },
  {
   "cell_type": "code",
   "execution_count": 112,
   "metadata": {},
   "outputs": [
    {
     "name": "stdout",
     "output_type": "stream",
     "text": [
      "Val MSE Loss: 3.0064, Val MSE std: 4.3183\n",
      "Val MAE Loss: 1.376, Val MAE std: 1.055\n"
     ]
    }
   ],
   "source": [
    "val_mse_loss, val_mse_std = mse_loss(preds_val, actual_val, reduction='mean', format='np')\n",
    "val_mae_loss, val_mae_std = mae_loss(preds_val, actual_val, reduction='mean', format='np')\n",
    "\n",
    "print(f'Val MSE Loss: {val_mse_loss:.5}, Val MSE std: {val_mse_std:.5}')\n",
    "print(f'Val MAE Loss: {val_mae_loss:.5}, Val MAE std: {val_mae_std:.5}')\n"
   ]
  },
  {
   "cell_type": "markdown",
   "metadata": {},
   "source": [
    "## Errors for Each Joint"
   ]
  },
  {
   "cell_type": "code",
   "execution_count": 113,
   "metadata": {},
   "outputs": [
    {
     "name": "stdout",
     "output_type": "stream",
     "text": [
      " Error for Hips Flexion-Extension Left is: 1.238\n",
      " Error for Knees Flexion-Extension Left is: 1.604\n",
      " Error for Ankles Dorsiflexion-Plantarflexion Left is: 1.480\n",
      " Error for Hips Flexion-Extension Right is: 1.231\n",
      " Error for Knees Flexion-Extension Right is: 1.459\n",
      " Error for Ankles Dorsiflexion-Plantarflexion Right is: 1.243\n"
     ]
    }
   ],
   "source": [
    "for f in range(len(features)):\n",
    "    print(f' Error for {features[f]} is: {np.mean(abs(preds_val[:,:,f]-actual_val[:,:,f])):.3f}')"
   ]
  },
  {
   "cell_type": "code",
   "execution_count": 114,
   "metadata": {},
   "outputs": [
    {
     "data": {
      "image/png": "[encoded data removed]",
      "text/plain": [
       "<Figure size 432x288 with 1 Axes>"
      ]
     },
     "metadata": {
      "needs_background": "light"
     },
     "output_type": "display_data"
    }
   ],
   "source": [
    "#Plotting the Distribution of Errors\n",
    "diff = abs(preds_val[:,:,0] -actual_val[:,:,0])\n",
    "plt.hist(diff.squeeze(), 60)\n",
    "plt.xlabel('Error between actual and predictions (degrees)')\n",
    "plt.title('Distribution of Errors')\n",
    "plt.ylabel('Frequency')\n",
    "plt.show()"
   ]
  },
  {
   "cell_type": "code",
   "execution_count": null,
   "metadata": {},
   "outputs": [],
   "source": []
  }
 ],
 "metadata": {
  "kernelspec": {
   "display_name": "Python 3.9.7 ('study2')",
   "language": "python",
   "name": "python3"
  },
  "language_info": {
   "codemirror_mode": {
    "name": "ipython",
    "version": 3
   },
   "file_extension": ".py",
   "mimetype": "text/x-python",
   "name": "python",
   "nbconvert_exporter": "python",
   "pygments_lexer": "ipython3",
   "version": "3.9.7"
  },
  "orig_nbformat": 4,
  "vscode": {
   "interpreter": {
    "hash": "27ff62b9f8f46ac7739d102fa0cb2cdb691dbf234c24f48db1edec61200604ab"
   }
  }
 },
 "nbformat": 4,
 "nbformat_minor": 2
}
