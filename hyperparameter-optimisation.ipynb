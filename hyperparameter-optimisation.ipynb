{
 "cells": [
  {
   "cell_type": "code",
   "execution_count": 1,
   "metadata": {},
   "outputs": [
    {
     "name": "stdout",
     "output_type": "stream",
     "text": [
      "Importing the dtw module. When using in academic works please cite:\n",
      "  T. Giorgino. Computing and Visualizing Dynamic Time Warping Alignments in R: The dtw Package.\n",
      "  J. Stat. Soft., doi:10.18637/jss.v031.i07.\n",
      "\n"
     ]
    }
   ],
   "source": [
    "import numpy as np\n",
    "import torch\n",
    "from matplotlib import pyplot as plt\n",
    "from matplotlib.pyplot import figure\n",
    "from matplotlib import rcParams\n",
    "from utils.utils import *\n",
    "from dtw import dtw\n",
    "\n",
    "\n",
    "np.random.seed(2)"
   ]
  },
  {
   "cell_type": "code",
   "execution_count": 2,
   "metadata": {},
   "outputs": [
    {
     "name": "stdout",
     "output_type": "stream",
     "text": [
      "The device used in this notebook is: cuda\n"
     ]
    }
   ],
   "source": [
    "# Set device\n",
    "print(f'The device used in this notebook is: {setDevice()}')\n",
    "\n",
    "DEVICE = setDevice()"
   ]
  },
  {
   "cell_type": "markdown",
   "metadata": {},
   "source": [
    "#### Import data"
   ]
  },
  {
   "cell_type": "code",
   "execution_count": 3,
   "metadata": {},
   "outputs": [
    {
     "name": "stdout",
     "output_type": "stream",
     "text": [
      "features: ['Hips Flexion-Extension Left', 'Knees Flexion-Extension Left', 'Ankles Dorsiflexion-Plantarflexion Left', 'Hips Flexion-Extension Right', 'Knees Flexion-Extension Right', 'Ankles Dorsiflexion-Plantarflexion Right']\n",
      "input_window: 100\n",
      "output_window: 1\n",
      "stride: 1\n"
     ]
    }
   ],
   "source": [
    "# Set settings\n",
    "features, input_window, output_window, stride = set_settings()\n",
    "\n",
    "print(f'features: {features}')\n",
    "print(f'input_window: {input_window}')\n",
    "print(f'output_window: {output_window}')\n",
    "print(f'stride: {stride}')"
   ]
  },
  {
   "cell_type": "code",
   "execution_count": 4,
   "metadata": {},
   "outputs": [
    {
     "name": "stdout",
     "output_type": "stream",
     "text": [
      "Current working directory is: D:\\Study 2 Data\\Healthy Gait\\Train_Val\n",
      "There are 10 files in the specified path.\n"
     ]
    }
   ],
   "source": [
    "file_dir = r'D:\\Study 2 Data\\Healthy Gait\\Train_Val' \n",
    "# file_dir = r'D:\\Study 2 Data\\CP Gait\\Train'\n",
    "train_files = os.listdir(file_dir) \n",
    "\n",
    "# Changes the working directory to get the data from their location \n",
    "os.chdir(file_dir)\n",
    "cwd = os.getcwd()\n",
    "\n",
    "print(f'Current working directory is: {cwd}')\n",
    "print(f\"There are {len(train_files)} files in the specified path.\")"
   ]
  },
  {
   "cell_type": "code",
   "execution_count": 5,
   "metadata": {},
   "outputs": [
    {
     "data": {
      "text/plain": [
       "['AB2188 BF T1-5.csv',\n",
       " 'AB3154 BF T6-10.csv',\n",
       " 'AB6751 BF T1-5.csv',\n",
       " 'AB7422 BF T1-5.csv',\n",
       " 'AB7779 BF T1-5.csv',\n",
       " 'AB9119 BF T1-5.csv',\n",
       " 'AB9737 BF T1-5.csv',\n",
       " 'AB9737 BF T6-10.csv',\n",
       " 'AB9738 BF T1-5.csv',\n",
       " 'RP1677 V1 BF T1-5.csv']"
      ]
     },
     "execution_count": 5,
     "metadata": {},
     "output_type": "execute_result"
    }
   ],
   "source": [
    "train_files"
   ]
  },
  {
   "cell_type": "code",
   "execution_count": 6,
   "metadata": {},
   "outputs": [
    {
     "data": {
      "text/plain": [
       "['Trial',\n",
       " 'Time',\n",
       " 'Hips Flexion-Extension Left',\n",
       " 'Knees Flexion-Extension Left',\n",
       " 'Ankles Dorsiflexion-Plantarflexion Left',\n",
       " 'Hips Flexion-Extension Right',\n",
       " 'Knees Flexion-Extension Right',\n",
       " 'Ankles Dorsiflexion-Plantarflexion Right']"
      ]
     },
     "execution_count": 6,
     "metadata": {},
     "output_type": "execute_result"
    }
   ],
   "source": [
    "#Create feature list to extract values needed from CSV files\n",
    "all_features = ['Trial', 'Time'] + features\n",
    "all_features\n"
   ]
  },
  {
   "cell_type": "code",
   "execution_count": 7,
   "metadata": {},
   "outputs": [
    {
     "name": "stdout",
     "output_type": "stream",
     "text": [
      "Extracting data from: AB2188 BF T1-5.csv\n",
      "Extracting data from: AB3154 BF T6-10.csv\n",
      "Extracting data from: AB6751 BF T1-5.csv\n",
      "Extracting data from: AB7422 BF T1-5.csv\n",
      "Extracting data from: AB7779 BF T1-5.csv\n",
      "Extracting data from: AB9119 BF T1-5.csv\n",
      "Extracting data from: AB9737 BF T1-5.csv\n",
      "Extracting data from: AB9737 BF T6-10.csv\n",
      "Extracting data from: AB9738 BF T1-5.csv\n",
      "Extracting data from: RP1677 V1 BF T1-5.csv\n"
     ]
    }
   ],
   "source": [
    "all_data = create_dataframe(train_files, all_features)"
   ]
  },
  {
   "cell_type": "code",
   "execution_count": 8,
   "metadata": {},
   "outputs": [],
   "source": [
    "all_data.reset_index(drop=True, inplace=True) #reset the index of the table\n",
    "# path = r'D:\\Study 2 Data\\Healthy Gait' + '\\\\' + 'all_data_healthy_train.csv'\n",
    "# all_data.to_csv(path)"
   ]
  },
  {
   "cell_type": "code",
   "execution_count": 9,
   "metadata": {},
   "outputs": [
    {
     "data": {
      "text/html": [
       "<div>\n",
       "<style scoped>\n",
       "    .dataframe tbody tr th:only-of-type {\n",
       "        vertical-align: middle;\n",
       "    }\n",
       "\n",
       "    .dataframe tbody tr th {\n",
       "        vertical-align: top;\n",
       "    }\n",
       "\n",
       "    .dataframe thead th {\n",
       "        text-align: right;\n",
       "    }\n",
       "</style>\n",
       "<table border=\"1\" class=\"dataframe\">\n",
       "  <thead>\n",
       "    <tr style=\"text-align: right;\">\n",
       "      <th></th>\n",
       "      <th>Patient ID</th>\n",
       "      <th>Trial</th>\n",
       "      <th>Time</th>\n",
       "      <th>Hips Flexion-Extension Left</th>\n",
       "      <th>Knees Flexion-Extension Left</th>\n",
       "      <th>Ankles Dorsiflexion-Plantarflexion Left</th>\n",
       "      <th>Hips Flexion-Extension Right</th>\n",
       "      <th>Knees Flexion-Extension Right</th>\n",
       "      <th>Ankles Dorsiflexion-Plantarflexion Right</th>\n",
       "    </tr>\n",
       "  </thead>\n",
       "  <tbody>\n",
       "    <tr>\n",
       "      <th>0</th>\n",
       "      <td>AB2188 BF T1-5</td>\n",
       "      <td>1</td>\n",
       "      <td>223.83</td>\n",
       "      <td>24.69730</td>\n",
       "      <td>43.98116</td>\n",
       "      <td>13.16722</td>\n",
       "      <td>7.40105</td>\n",
       "      <td>19.83552</td>\n",
       "      <td>3.46198</td>\n",
       "    </tr>\n",
       "    <tr>\n",
       "      <th>1</th>\n",
       "      <td>AB2188 BF T1-5</td>\n",
       "      <td>1</td>\n",
       "      <td>223.84</td>\n",
       "      <td>24.44713</td>\n",
       "      <td>43.17039</td>\n",
       "      <td>13.07729</td>\n",
       "      <td>7.04358</td>\n",
       "      <td>19.57988</td>\n",
       "      <td>3.53245</td>\n",
       "    </tr>\n",
       "    <tr>\n",
       "      <th>2</th>\n",
       "      <td>AB2188 BF T1-5</td>\n",
       "      <td>1</td>\n",
       "      <td>223.85</td>\n",
       "      <td>24.17547</td>\n",
       "      <td>42.45852</td>\n",
       "      <td>13.01625</td>\n",
       "      <td>6.69202</td>\n",
       "      <td>19.29897</td>\n",
       "      <td>3.58736</td>\n",
       "    </tr>\n",
       "    <tr>\n",
       "      <th>3</th>\n",
       "      <td>AB2188 BF T1-5</td>\n",
       "      <td>1</td>\n",
       "      <td>223.86</td>\n",
       "      <td>23.88122</td>\n",
       "      <td>41.82635</td>\n",
       "      <td>12.98980</td>\n",
       "      <td>6.35465</td>\n",
       "      <td>19.00309</td>\n",
       "      <td>3.63057</td>\n",
       "    </tr>\n",
       "    <tr>\n",
       "      <th>4</th>\n",
       "      <td>AB2188 BF T1-5</td>\n",
       "      <td>1</td>\n",
       "      <td>223.87</td>\n",
       "      <td>23.56337</td>\n",
       "      <td>41.25273</td>\n",
       "      <td>13.00300</td>\n",
       "      <td>6.03926</td>\n",
       "      <td>18.70273</td>\n",
       "      <td>3.66602</td>\n",
       "    </tr>\n",
       "    <tr>\n",
       "      <th>...</th>\n",
       "      <td>...</td>\n",
       "      <td>...</td>\n",
       "      <td>...</td>\n",
       "      <td>...</td>\n",
       "      <td>...</td>\n",
       "      <td>...</td>\n",
       "      <td>...</td>\n",
       "      <td>...</td>\n",
       "      <td>...</td>\n",
       "    </tr>\n",
       "    <tr>\n",
       "      <th>97365</th>\n",
       "      <td>RP1677 V1 BF T1-5</td>\n",
       "      <td>8</td>\n",
       "      <td>599.64</td>\n",
       "      <td>-6.93656</td>\n",
       "      <td>10.82815</td>\n",
       "      <td>-35.73075</td>\n",
       "      <td>9.91959</td>\n",
       "      <td>27.10278</td>\n",
       "      <td>-40.89069</td>\n",
       "    </tr>\n",
       "    <tr>\n",
       "      <th>97366</th>\n",
       "      <td>RP1677 V1 BF T1-5</td>\n",
       "      <td>8</td>\n",
       "      <td>599.65</td>\n",
       "      <td>-5.40192</td>\n",
       "      <td>11.88957</td>\n",
       "      <td>-37.14417</td>\n",
       "      <td>9.41865</td>\n",
       "      <td>26.10446</td>\n",
       "      <td>-41.32368</td>\n",
       "    </tr>\n",
       "    <tr>\n",
       "      <th>97367</th>\n",
       "      <td>RP1677 V1 BF T1-5</td>\n",
       "      <td>8</td>\n",
       "      <td>599.66</td>\n",
       "      <td>-3.99662</td>\n",
       "      <td>12.89493</td>\n",
       "      <td>-38.42186</td>\n",
       "      <td>8.87176</td>\n",
       "      <td>25.07484</td>\n",
       "      <td>-41.66603</td>\n",
       "    </tr>\n",
       "    <tr>\n",
       "      <th>97368</th>\n",
       "      <td>RP1677 V1 BF T1-5</td>\n",
       "      <td>8</td>\n",
       "      <td>599.67</td>\n",
       "      <td>-2.76106</td>\n",
       "      <td>13.83548</td>\n",
       "      <td>-39.51443</td>\n",
       "      <td>8.28708</td>\n",
       "      <td>24.04106</td>\n",
       "      <td>-41.89437</td>\n",
       "    </tr>\n",
       "    <tr>\n",
       "      <th>97369</th>\n",
       "      <td>RP1677 V1 BF T1-5</td>\n",
       "      <td>8</td>\n",
       "      <td>599.68</td>\n",
       "      <td>-1.72652</td>\n",
       "      <td>14.71199</td>\n",
       "      <td>-40.37890</td>\n",
       "      <td>7.67308</td>\n",
       "      <td>23.02927</td>\n",
       "      <td>-41.99300</td>\n",
       "    </tr>\n",
       "  </tbody>\n",
       "</table>\n",
       "<p>97370 rows × 9 columns</p>\n",
       "</div>"
      ],
      "text/plain": [
       "              Patient ID  Trial    Time  Hips Flexion-Extension Left  \\\n",
       "0         AB2188 BF T1-5      1  223.83                     24.69730   \n",
       "1         AB2188 BF T1-5      1  223.84                     24.44713   \n",
       "2         AB2188 BF T1-5      1  223.85                     24.17547   \n",
       "3         AB2188 BF T1-5      1  223.86                     23.88122   \n",
       "4         AB2188 BF T1-5      1  223.87                     23.56337   \n",
       "...                  ...    ...     ...                          ...   \n",
       "97365  RP1677 V1 BF T1-5      8  599.64                     -6.93656   \n",
       "97366  RP1677 V1 BF T1-5      8  599.65                     -5.40192   \n",
       "97367  RP1677 V1 BF T1-5      8  599.66                     -3.99662   \n",
       "97368  RP1677 V1 BF T1-5      8  599.67                     -2.76106   \n",
       "97369  RP1677 V1 BF T1-5      8  599.68                     -1.72652   \n",
       "\n",
       "       Knees Flexion-Extension Left  Ankles Dorsiflexion-Plantarflexion Left  \\\n",
       "0                          43.98116                                 13.16722   \n",
       "1                          43.17039                                 13.07729   \n",
       "2                          42.45852                                 13.01625   \n",
       "3                          41.82635                                 12.98980   \n",
       "4                          41.25273                                 13.00300   \n",
       "...                             ...                                      ...   \n",
       "97365                      10.82815                                -35.73075   \n",
       "97366                      11.88957                                -37.14417   \n",
       "97367                      12.89493                                -38.42186   \n",
       "97368                      13.83548                                -39.51443   \n",
       "97369                      14.71199                                -40.37890   \n",
       "\n",
       "       Hips Flexion-Extension Right  Knees Flexion-Extension Right  \\\n",
       "0                           7.40105                       19.83552   \n",
       "1                           7.04358                       19.57988   \n",
       "2                           6.69202                       19.29897   \n",
       "3                           6.35465                       19.00309   \n",
       "4                           6.03926                       18.70273   \n",
       "...                             ...                            ...   \n",
       "97365                       9.91959                       27.10278   \n",
       "97366                       9.41865                       26.10446   \n",
       "97367                       8.87176                       25.07484   \n",
       "97368                       8.28708                       24.04106   \n",
       "97369                       7.67308                       23.02927   \n",
       "\n",
       "       Ankles Dorsiflexion-Plantarflexion Right  \n",
       "0                                       3.46198  \n",
       "1                                       3.53245  \n",
       "2                                       3.58736  \n",
       "3                                       3.63057  \n",
       "4                                       3.66602  \n",
       "...                                         ...  \n",
       "97365                                 -40.89069  \n",
       "97366                                 -41.32368  \n",
       "97367                                 -41.66603  \n",
       "97368                                 -41.89437  \n",
       "97369                                 -41.99300  \n",
       "\n",
       "[97370 rows x 9 columns]"
      ]
     },
     "execution_count": 9,
     "metadata": {},
     "output_type": "execute_result"
    }
   ],
   "source": [
    "all_data"
   ]
  },
  {
   "cell_type": "code",
   "execution_count": 10,
   "metadata": {},
   "outputs": [
    {
     "name": "stdout",
     "output_type": "stream",
     "text": [
      "maximum number of trials is: 16\n"
     ]
    }
   ],
   "source": [
    "n_trials = all_data['Trial'].max()\n",
    "print(f'maximum number of trials is: {n_trials}')"
   ]
  },
  {
   "cell_type": "code",
   "execution_count": 11,
   "metadata": {},
   "outputs": [
    {
     "data": {
      "text/plain": [
       "array(['AB2188 BF T1-5', 'AB3154 BF T6-10', 'AB6751 BF T1-5',\n",
       "       'AB7422 BF T1-5', 'AB7779 BF T1-5', 'AB9119 BF T1-5',\n",
       "       'AB9737 BF T1-5', 'AB9737 BF T6-10', 'AB9738 BF T1-5',\n",
       "       'RP1677 V1 BF T1-5'], dtype=object)"
      ]
     },
     "execution_count": 11,
     "metadata": {},
     "output_type": "execute_result"
    }
   ],
   "source": [
    "all_data['Patient ID'].unique()"
   ]
  },
  {
   "cell_type": "code",
   "execution_count": 12,
   "metadata": {},
   "outputs": [],
   "source": [
    "# # Healthy Subjects \n",
    "# train_subjects = ['AB2188 BF T1-5',\n",
    "#                     'AB3154 BF T6-10', \n",
    "#                     'AB6751 BF T1-5',\n",
    "#                     'AB7422 BF T1-5',\n",
    "#                     'AB7779 BF T1-5', \n",
    "#                     'AB9737 BF T1-5', \n",
    "#                     'AB9737 BF T6-10', \n",
    "#                     'AB9738 BF T1-5']\n",
    "\n",
    "# val_subjects = ['AB9119 BF T1-5']\n"
   ]
  },
  {
   "cell_type": "code",
   "execution_count": 13,
   "metadata": {},
   "outputs": [],
   "source": [
    "# Healthy Subjects \n",
    "train_subjects = ['AB3154 BF T6-10', \n",
    "                    'AB6751 BF T1-5',\n",
    "                    'AB7422 BF T1-5',\n",
    "                    'AB7779 BF T1-5',\n",
    "                    'AB9119 BF T1-5', \n",
    "                    'AB9737 BF T1-5', \n",
    "                    'AB9737 BF T6-10', \n",
    "                    'AB9738 BF T1-5']\n",
    "\n",
    "val_subjects = ['AB2188 BF T1-5']\n"
   ]
  },
  {
   "cell_type": "code",
   "execution_count": 14,
   "metadata": {},
   "outputs": [
    {
     "data": {
      "text/plain": [
       "['AB2188 BF T1-5']"
      ]
     },
     "execution_count": 14,
     "metadata": {},
     "output_type": "execute_result"
    }
   ],
   "source": [
    "val_subjects"
   ]
  },
  {
   "cell_type": "code",
   "execution_count": 15,
   "metadata": {},
   "outputs": [],
   "source": [
    "train_data = all_data.loc[all_data['Patient ID'].isin(train_subjects)]\n",
    "\n",
    "val_data = all_data.loc[all_data['Patient ID'].isin(val_subjects)]"
   ]
  },
  {
   "cell_type": "code",
   "execution_count": 16,
   "metadata": {},
   "outputs": [
    {
     "name": "stdout",
     "output_type": "stream",
     "text": [
      "all_data: (97370, 9)\n",
      "train_data: (77890, 9)\n",
      "val_data: (7262, 9)\n"
     ]
    }
   ],
   "source": [
    "print(f'all_data: {all_data.shape}')\n",
    "print(f'train_data: {train_data.shape}')\n",
    "print(f'val_data: {val_data.shape}')"
   ]
  },
  {
   "cell_type": "code",
   "execution_count": 17,
   "metadata": {},
   "outputs": [
    {
     "name": "stdout",
     "output_type": "stream",
     "text": [
      "For patient: AB3154 BF T6-10, trial: 1, there are: 651 time-points\n",
      "For patient: AB3154 BF T6-10, trial: 2, there are: 541 time-points\n",
      "For patient: AB3154 BF T6-10, trial: 3, there are: 613 time-points\n",
      "For patient: AB3154 BF T6-10, trial: 4, there are: 601 time-points\n",
      "For patient: AB3154 BF T6-10, trial: 5, there are: 711 time-points\n",
      "For patient: AB3154 BF T6-10, trial: 6, there are: 651 time-points\n",
      "For patient: AB3154 BF T6-10, trial: 7, there are: 1031 time-points\n",
      "For patient: AB3154 BF T6-10, trial: 8, there are: 896 time-points\n",
      "For patient: AB3154 BF T6-10, trial: 9, there are: 812 time-points\n",
      "For patient: AB6751 BF T1-5, trial: 1, there are: 761 time-points\n",
      "For patient: AB6751 BF T1-5, trial: 2, there are: 733 time-points\n",
      "For patient: AB6751 BF T1-5, trial: 3, there are: 731 time-points\n",
      "For patient: AB6751 BF T1-5, trial: 4, there are: 682 time-points\n",
      "For patient: AB6751 BF T1-5, trial: 5, there are: 710 time-points\n",
      "For patient: AB6751 BF T1-5, trial: 6, there are: 708 time-points\n",
      "For patient: AB6751 BF T1-5, trial: 7, there are: 682 time-points\n",
      "For patient: AB6751 BF T1-5, trial: 8, there are: 675 time-points\n",
      "For patient: AB6751 BF T1-5, trial: 9, there are: 900 time-points\n",
      "For patient: AB6751 BF T1-5, trial: 10, there are: 761 time-points\n",
      "For patient: AB7422 BF T1-5, trial: 1, there are: 1004 time-points\n",
      "For patient: AB7422 BF T1-5, trial: 2, there are: 781 time-points\n",
      "For patient: AB7422 BF T1-5, trial: 3, there are: 689 time-points\n",
      "For patient: AB7422 BF T1-5, trial: 4, there are: 792 time-points\n",
      "For patient: AB7422 BF T1-5, trial: 5, there are: 735 time-points\n",
      "For patient: AB7422 BF T1-5, trial: 6, there are: 835 time-points\n",
      "For patient: AB7422 BF T1-5, trial: 7, there are: 761 time-points\n",
      "For patient: AB7422 BF T1-5, trial: 8, there are: 790 time-points\n",
      "For patient: AB7422 BF T1-5, trial: 9, there are: 687 time-points\n",
      "For patient: AB7422 BF T1-5, trial: 10, there are: 775 time-points\n",
      "For patient: AB7779 BF T1-5, trial: 1, there are: 1055 time-points\n",
      "For patient: AB7779 BF T1-5, trial: 2, there are: 914 time-points\n",
      "For patient: AB7779 BF T1-5, trial: 3, there are: 893 time-points\n",
      "For patient: AB7779 BF T1-5, trial: 4, there are: 962 time-points\n",
      "For patient: AB7779 BF T1-5, trial: 5, there are: 830 time-points\n",
      "For patient: AB7779 BF T1-5, trial: 6, there are: 721 time-points\n",
      "For patient: AB7779 BF T1-5, trial: 7, there are: 731 time-points\n",
      "For patient: AB7779 BF T1-5, trial: 8, there are: 771 time-points\n",
      "For patient: AB7779 BF T1-5, trial: 9, there are: 663 time-points\n",
      "For patient: AB7779 BF T1-5, trial: 10, there are: 754 time-points\n",
      "For patient: AB9119 BF T1-5, trial: 1, there are: 890 time-points\n",
      "For patient: AB9119 BF T1-5, trial: 2, there are: 1001 time-points\n",
      "For patient: AB9119 BF T1-5, trial: 3, there are: 831 time-points\n",
      "For patient: AB9119 BF T1-5, trial: 4, there are: 1051 time-points\n",
      "For patient: AB9119 BF T1-5, trial: 5, there are: 736 time-points\n",
      "For patient: AB9119 BF T1-5, trial: 6, there are: 766 time-points\n",
      "For patient: AB9119 BF T1-5, trial: 7, there are: 664 time-points\n",
      "For patient: AB9119 BF T1-5, trial: 8, there are: 764 time-points\n",
      "For patient: AB9119 BF T1-5, trial: 9, there are: 711 time-points\n",
      "For patient: AB9119 BF T1-5, trial: 10, there are: 755 time-points\n",
      "For patient: AB9737 BF T1-5, trial: 1, there are: 1027 time-points\n",
      "For patient: AB9737 BF T1-5, trial: 2, there are: 1066 time-points\n",
      "For patient: AB9737 BF T1-5, trial: 3, there are: 1061 time-points\n",
      "For patient: AB9737 BF T1-5, trial: 4, there are: 880 time-points\n",
      "For patient: AB9737 BF T1-5, trial: 5, there are: 995 time-points\n",
      "For patient: AB9737 BF T1-5, trial: 6, there are: 921 time-points\n",
      "For patient: AB9737 BF T1-5, trial: 7, there are: 897 time-points\n",
      "For patient: AB9737 BF T1-5, trial: 8, there are: 920 time-points\n",
      "For patient: AB9737 BF T1-5, trial: 9, there are: 836 time-points\n",
      "For patient: AB9737 BF T1-5, trial: 10, there are: 874 time-points\n",
      "For patient: AB9737 BF T1-5, trial: 11, there are: 801 time-points\n",
      "For patient: AB9737 BF T1-5, trial: 12, there are: 877 time-points\n",
      "For patient: AB9737 BF T1-5, trial: 13, there are: 833 time-points\n",
      "For patient: AB9737 BF T1-5, trial: 14, there are: 811 time-points\n",
      "For patient: AB9737 BF T1-5, trial: 15, there are: 909 time-points\n",
      "For patient: AB9737 BF T1-5, trial: 16, there are: 824 time-points\n",
      "For patient: AB9737 BF T6-10, trial: 1, there are: 1843 time-points\n",
      "For patient: AB9737 BF T6-10, trial: 2, there are: 1565 time-points\n",
      "For patient: AB9737 BF T6-10, trial: 3, there are: 1296 time-points\n",
      "For patient: AB9737 BF T6-10, trial: 4, there are: 1241 time-points\n",
      "For patient: AB9737 BF T6-10, trial: 5, there are: 1251 time-points\n",
      "For patient: AB9737 BF T6-10, trial: 6, there are: 951 time-points\n",
      "For patient: AB9737 BF T6-10, trial: 7, there are: 1170 time-points\n",
      "For patient: AB9737 BF T6-10, trial: 8, there are: 1201 time-points\n",
      "For patient: AB9737 BF T6-10, trial: 9, there are: 1051 time-points\n",
      "For patient: AB9737 BF T6-10, trial: 10, there are: 1023 time-points\n",
      "For patient: AB9737 BF T6-10, trial: 11, there are: 1026 time-points\n",
      "For patient: AB9737 BF T6-10, trial: 12, there are: 1063 time-points\n",
      "For patient: AB9737 BF T6-10, trial: 13, there are: 1020 time-points\n",
      "For patient: AB9737 BF T6-10, trial: 14, there are: 1063 time-points\n",
      "For patient: AB9738 BF T1-5, trial: 1, there are: 896 time-points\n",
      "For patient: AB9738 BF T1-5, trial: 2, there are: 981 time-points\n",
      "For patient: AB9738 BF T1-5, trial: 3, there are: 1001 time-points\n",
      "For patient: AB9738 BF T1-5, trial: 4, there are: 906 time-points\n",
      "For patient: AB9738 BF T1-5, trial: 5, there are: 958 time-points\n",
      "For patient: AB9738 BF T1-5, trial: 6, there are: 951 time-points\n",
      "For patient: AB9738 BF T1-5, trial: 8, there are: 904 time-points\n",
      "For patient: AB9738 BF T1-5, trial: 9, there are: 926 time-points\n",
      "For patient: AB9738 BF T1-5, trial: 10, there are: 909 time-points\n",
      "\n",
      "There are 88 samples\n",
      "For patient: AB2188 BF T1-5, trial: 1, there are: 718 time-points\n",
      "For patient: AB2188 BF T1-5, trial: 2, there are: 801 time-points\n",
      "For patient: AB2188 BF T1-5, trial: 3, there are: 706 time-points\n",
      "For patient: AB2188 BF T1-5, trial: 4, there are: 651 time-points\n",
      "For patient: AB2188 BF T1-5, trial: 5, there are: 741 time-points\n",
      "For patient: AB2188 BF T1-5, trial: 6, there are: 691 time-points\n",
      "For patient: AB2188 BF T1-5, trial: 7, there are: 722 time-points\n",
      "For patient: AB2188 BF T1-5, trial: 8, there are: 726 time-points\n",
      "For patient: AB2188 BF T1-5, trial: 9, there are: 740 time-points\n",
      "For patient: AB2188 BF T1-5, trial: 10, there are: 766 time-points\n",
      "\n",
      "There are 10 samples\n"
     ]
    }
   ],
   "source": [
    "train_samples = count_nsamples(train_data)\n",
    "val_samples = count_nsamples(val_data)"
   ]
  },
  {
   "cell_type": "code",
   "execution_count": 18,
   "metadata": {},
   "outputs": [
    {
     "name": "stdout",
     "output_type": "stream",
     "text": [
      "Number of train samples: 88\n",
      "Number of validation samples: 10\n"
     ]
    }
   ],
   "source": [
    "print(f'Number of train samples: {train_samples}')\n",
    "print(f'Number of validation samples: {val_samples}')"
   ]
  },
  {
   "cell_type": "code",
   "execution_count": 19,
   "metadata": {},
   "outputs": [],
   "source": [
    "m = all_data['Patient ID'].unique()"
   ]
  },
  {
   "cell_type": "code",
   "execution_count": 20,
   "metadata": {},
   "outputs": [],
   "source": [
    "\n",
    "def pd_to_np_converter(data, n_samples, features):\n",
    "    #create a numpy array that stores the data for export\n",
    "    sample_ID = []\n",
    "    # patients = 2\n",
    "    # n_trials = 10\n",
    "    # # samples = patients * n_trials\n",
    "    data_store = np.zeros((n_samples, 2000, len(features)), dtype=np.float32)\n",
    "    i = 0\n",
    "\n",
    "    for p in data['Patient ID'].unique(): #loop over patients \n",
    "        for t in data['Trial'].unique(): #loop over trials starting with trials 1 to trial 9 (inclusive)\n",
    "            pd_array = data[(data['Patient ID'] == p) & (data['Trial'] == t)]\n",
    "            if pd_array.empty:\n",
    "                continue\n",
    "                # print('DataFrame is empty!')\n",
    "                # print(f'Trail {t} does not exist in {p}')\n",
    "            else:\n",
    "                np_array = pd_array.to_numpy()\n",
    "                data_store[i, :np_array.shape[0], :] = np_array[:,3:] \n",
    "                sample_ID.append(p+ ' Ts'+str(t)) \n",
    "                i +=1\n",
    "\n",
    "    return pd_array.columns, data_store\n"
   ]
  },
  {
   "cell_type": "code",
   "execution_count": 21,
   "metadata": {},
   "outputs": [
    {
     "name": "stdout",
     "output_type": "stream",
     "text": [
      "train_data_np.shape: (88, 2000, 6)\n",
      "val_data_np.shape: (10, 2000, 6)\n"
     ]
    }
   ],
   "source": [
    "train_columns, train_data_np = pd_to_np_converter(train_data, train_samples, features)\n",
    "val_columns, val_data_np = pd_to_np_converter(val_data, val_samples, features)\n",
    "\n",
    "print(f'train_data_np.shape: {train_data_np.shape}')\n",
    "print(f'val_data_np.shape: {val_data_np.shape}')"
   ]
  },
  {
   "cell_type": "code",
   "execution_count": 22,
   "metadata": {},
   "outputs": [
    {
     "data": {
      "text/plain": [
       "['Hips Flexion-Extension Left',\n",
       " 'Knees Flexion-Extension Left',\n",
       " 'Ankles Dorsiflexion-Plantarflexion Left',\n",
       " 'Hips Flexion-Extension Right',\n",
       " 'Knees Flexion-Extension Right',\n",
       " 'Ankles Dorsiflexion-Plantarflexion Right']"
      ]
     },
     "execution_count": 22,
     "metadata": {},
     "output_type": "execute_result"
    }
   ],
   "source": [
    "train_columns[3:].tolist() "
   ]
  },
  {
   "cell_type": "code",
   "execution_count": 23,
   "metadata": {},
   "outputs": [
    {
     "data": {
      "text/plain": [
       "True"
      ]
     },
     "execution_count": 23,
     "metadata": {},
     "output_type": "execute_result"
    }
   ],
   "source": [
    "features == train_columns[3:].tolist() "
   ]
  },
  {
   "cell_type": "code",
   "execution_count": 24,
   "metadata": {},
   "outputs": [
    {
     "name": "stdout",
     "output_type": "stream",
     "text": [
      "YAY! Column headers of dataframe match features\n"
     ]
    }
   ],
   "source": [
    "labels_keys = train_columns[3:].tolist() #copy the train columns removing the first column headers'Patient ID', 'Trial', 'Time'\n",
    "\n",
    "\n",
    "if features == labels_keys: # check that the features are the same as the label keys \n",
    "    print('YAY! Column headers of dataframe match features')\n",
    "else:\n",
    "    print('ERROR: Features and labels_keys do not match!')"
   ]
  },
  {
   "cell_type": "code",
   "execution_count": 25,
   "metadata": {},
   "outputs": [
    {
     "data": {
      "text/plain": [
       "{'Hips Flexion-Extension Left': 0,\n",
       " 'Knees Flexion-Extension Left': 1,\n",
       " 'Ankles Dorsiflexion-Plantarflexion Left': 2,\n",
       " 'Hips Flexion-Extension Right': 3,\n",
       " 'Knees Flexion-Extension Right': 4,\n",
       " 'Ankles Dorsiflexion-Plantarflexion Right': 5}"
      ]
     },
     "execution_count": 25,
     "metadata": {},
     "output_type": "execute_result"
    }
   ],
   "source": [
    "labels_keys = features \n",
    "\n",
    "labels_idx = np.arange(0, len(labels_keys), 1)\n",
    "\n",
    "labels = dict(zip(labels_keys, labels_idx))\n",
    "\n",
    "len(labels)\n",
    "labels\n",
    "# labels_keys"
   ]
  },
  {
   "cell_type": "code",
   "execution_count": 26,
   "metadata": {},
   "outputs": [],
   "source": [
    "def window_generator_fltrd(sequence, input_window, output_window, stride, features, labels):\n",
    "    \"\"\"\n",
    "    Trims the input sequence from leading and trailing zeros, then generates an array with input windows and another array for the corresponding output windows\n",
    "    Args:\n",
    "        sequence: (np.array, float32) columns are features while rows are time points\n",
    "        features: (list, strin~g) column names\n",
    "        input_window: (int)\n",
    "        stride (int): the value the input window shifts along the sequence \n",
    "    Returns:\n",
    "\n",
    "    \"\"\"\n",
    "    # shortest_seqLen = float('inf')\n",
    "\n",
    "    # f_zeros = [] #array that stores the number of leading zeros for each feature\n",
    "    b_zeros = [] #array that stores the number of trailing zeros for each feacture \n",
    "\n",
    "    for f in features:\n",
    "        # trim the leading and training zeros\n",
    "        # f_zeros.append(sequence[:,labels[f]].shape[0] - np.trim_zeros(sequence[:,labels[f]], 'f').shape[0]) #forward zeros\n",
    "        b_zeros.append(sequence[:,labels[f]].shape[0] - np.trim_zeros(sequence[:,labels[f]], 'b').shape[0]) #backward zeros\n",
    "\n",
    "    # max_f_zeros = max(f_zeros) #find the maximum number of leading zeros\n",
    "    max_b_zeros = max(b_zeros) #find the maximum number of trailing/backward zeros \n",
    "    # print(max_b_zeros)\n",
    "\n",
    "    #total sequence length minus max leading and trailing zeros \n",
    "    trimmed_seqLen = sequence[:,0].shape[0] - (max_b_zeros)\n",
    "    trimmed_seqLen_reduced = trimmed_seqLen - 300 #reducing sequence size to remove the first and last 200 timesteps which may contain errors   \n",
    "    print(f'trimmed_seqLen: {trimmed_seqLen}')\n",
    "    print(f'trimmed_seqLen_reduced: {trimmed_seqLen_reduced}')\n",
    "\n",
    "\n",
    "    # Slides are the number of times the input window can scan the sequence \n",
    "    # Using the equation that calculates the number of outputs as in convolution  (W – F + 2P) / S + 1, W=input image width, F=filter width, P=padding, S=stride\n",
    "    # The width of the image is taken as the number of time steps in the sequence, corresponding to the length of any TRIMMED column in the data \n",
    "    slides = ((trimmed_seqLen_reduced - (input_window+output_window)) // stride) + 1\n",
    "    print(f\"number of slides is: {slides}\")\n",
    "\n",
    "    # Calculating the first index of each of the output sequences (first index always f_zeros as its always shifted to start with the first non-zero element)\n",
    "    seq_indicies = (np.arange(slides) * stride) + 150\n",
    "\n",
    "    if slides <= 0:\n",
    "        raise ValueError(\"input window and output window length are greater than sequence length, check their values\")\n",
    "\n",
    "    # Creates an zero numpy array to store the samples in \n",
    "    X_values = np.zeros((len(seq_indicies) , input_window, len(features)))\n",
    "    Y_values = np.zeros((len(seq_indicies), output_window, len(features)))\n",
    "\n",
    "    # Loop through the features, then loop through the list of sequence indicies needed for input and output windows \n",
    "    for j, feature in enumerate(features):\n",
    "        # print(j)\n",
    "        # print(feature)\n",
    "        for i, idx in enumerate(seq_indicies):\n",
    "            X_values[i, :, j] = sequence[idx:idx+input_window, labels[feature]]\n",
    "            Y_values[i, :, j] = sequence[idx+input_window:idx+input_window + output_window, labels[feature]]\n",
    "\n",
    "    return X_values, Y_values "
   ]
  },
  {
   "cell_type": "code",
   "execution_count": 27,
   "metadata": {},
   "outputs": [],
   "source": [
    "def window_generator_lt_fltrd(sequence, input_window, future_window, stride, features, labels): #window gernerator long term fltrd (creats a validation window up to 200 timesteps in advance to measure error on long term future predictions)\n",
    "    \"\"\"\n",
    "    Trims the input sequence from leading and trailing zeros, then generates an array with input windows and another array for the corresponding output windows\n",
    "    Args:\n",
    "        sequence: (np.array, float32) columns are features while rows are time points\n",
    "        features: (list, strin~g) column names\n",
    "        input_window: (int)\n",
    "        stride (int): the value the input window shifts along the sequence \n",
    "    Returns:\n",
    "\n",
    "    \"\"\"\n",
    "    b_zeros = [] #array that stores the number of trailing zeros for each feacture \n",
    "\n",
    "    for f in features:\n",
    "        # trim the leading and training zeros\n",
    "        b_zeros.append(sequence[:,labels[f]].shape[0] - np.trim_zeros(sequence[:,labels[f]], 'b').shape[0]) #backward zeros\n",
    "\n",
    "    max_b_zeros = max(b_zeros) #find the maximum number of trailing/backward zeros \n",
    "    # print(max_b_zeros)\n",
    "\n",
    "    fltrd_samples = 2 * 150 #remove 100 timesteps from the beggining and ending of the entire sequence\n",
    "    # lt_len = 200 # number of timesteps to predict in the future based on a single input window (to be used in measuring errors based on prediction input)\n",
    "    \n",
    "    #total sequence length minus max leading and trailing zeros \n",
    "    trimmed_seqLen = sequence[:,0].shape[0] - (max_b_zeros)\n",
    "    trimmed_seqLen_reduced = trimmed_seqLen - (fltrd_samples) # (- fltrd_samples is done to reduce sequence size to remove the first and last 150 timesteps which may contain errors since they corresponding to beggining and ending of the trials \n",
    "    print(f'trimmed_seqLen: {trimmed_seqLen}')\n",
    "    print(f'trimmed_seqLen_reduced: {trimmed_seqLen_reduced}')\n",
    "\n",
    "\n",
    "    # Slides are the number of times the input window can scan the sequence \n",
    "    # Using the equation that calculates the number of outputs as in convolution  (W – F + 2P) / S + 1, W=input image width, F=filter width, P=padding, S=stride\n",
    "    # The width of the image is taken as the number of time steps in the sequence, corresponding to the length of any TRIMMED column in the data \n",
    "    slides = ((trimmed_seqLen_reduced - (input_window+future_window)) // stride) + 1\n",
    "    print(f\"number of slides is: {slides}\")\n",
    "\n",
    "    # Calculating the first index of each of the output sequences (first index always f_zeros as its always shifted to start with the first non-zero element)\n",
    "    seq_indicies = (np.arange(slides) * stride) + 150\n",
    "\n",
    "    if slides <= 0:\n",
    "        raise ValueError(\"input window and output window length are greater than sequence length, check their values\")\n",
    "        # return None \n",
    "\n",
    "    # Creates an zero numpy array to store the samples in \n",
    "    X_values = np.zeros((len(seq_indicies) , input_window, len(features)))\n",
    "    Y_values = np.zeros((len(seq_indicies), future_window, len(features)))\n",
    "\n",
    "    # Loop through the features, then loop through the list of sequence indicies needed for input and output windows \n",
    "    for j, feature in enumerate(features):\n",
    "        # print(j)\n",
    "        # print(feature)\n",
    "        for i, idx in enumerate(seq_indicies):\n",
    "            X_values[i, :, j] = sequence[idx:idx+input_window, labels[feature]]\n",
    "            Y_values[i, :, j] = sequence[idx+input_window:idx+input_window + future_window, labels[feature]]\n",
    "\n",
    "    return X_values, Y_values "
   ]
  },
  {
   "cell_type": "code",
   "execution_count": 28,
   "metadata": {},
   "outputs": [
    {
     "name": "stdout",
     "output_type": "stream",
     "text": [
      "trimmed_seqLen: 651\n",
      "trimmed_seqLen_reduced: 351\n",
      "number of slides is: 251\n",
      "trimmed_seqLen: 541\n",
      "trimmed_seqLen_reduced: 241\n",
      "number of slides is: 141\n",
      "trimmed_seqLen: 613\n",
      "trimmed_seqLen_reduced: 313\n",
      "number of slides is: 213\n",
      "trimmed_seqLen: 601\n",
      "trimmed_seqLen_reduced: 301\n",
      "number of slides is: 201\n",
      "trimmed_seqLen: 711\n",
      "trimmed_seqLen_reduced: 411\n",
      "number of slides is: 311\n",
      "trimmed_seqLen: 651\n",
      "trimmed_seqLen_reduced: 351\n",
      "number of slides is: 251\n",
      "trimmed_seqLen: 1031\n",
      "trimmed_seqLen_reduced: 731\n",
      "number of slides is: 631\n",
      "trimmed_seqLen: 896\n",
      "trimmed_seqLen_reduced: 596\n",
      "number of slides is: 496\n",
      "trimmed_seqLen: 812\n",
      "trimmed_seqLen_reduced: 512\n",
      "number of slides is: 412\n",
      "trimmed_seqLen: 761\n",
      "trimmed_seqLen_reduced: 461\n",
      "number of slides is: 361\n",
      "trimmed_seqLen: 733\n",
      "trimmed_seqLen_reduced: 433\n",
      "number of slides is: 333\n",
      "trimmed_seqLen: 731\n",
      "trimmed_seqLen_reduced: 431\n",
      "number of slides is: 331\n",
      "trimmed_seqLen: 682\n",
      "trimmed_seqLen_reduced: 382\n",
      "number of slides is: 282\n",
      "trimmed_seqLen: 710\n",
      "trimmed_seqLen_reduced: 410\n",
      "number of slides is: 310\n",
      "trimmed_seqLen: 708\n",
      "trimmed_seqLen_reduced: 408\n",
      "number of slides is: 308\n",
      "trimmed_seqLen: 682\n",
      "trimmed_seqLen_reduced: 382\n",
      "number of slides is: 282\n",
      "trimmed_seqLen: 675\n",
      "trimmed_seqLen_reduced: 375\n",
      "number of slides is: 275\n",
      "trimmed_seqLen: 900\n",
      "trimmed_seqLen_reduced: 600\n",
      "number of slides is: 500\n",
      "trimmed_seqLen: 761\n",
      "trimmed_seqLen_reduced: 461\n",
      "number of slides is: 361\n",
      "trimmed_seqLen: 1004\n",
      "trimmed_seqLen_reduced: 704\n",
      "number of slides is: 604\n",
      "trimmed_seqLen: 781\n",
      "trimmed_seqLen_reduced: 481\n",
      "number of slides is: 381\n",
      "trimmed_seqLen: 689\n",
      "trimmed_seqLen_reduced: 389\n",
      "number of slides is: 289\n",
      "trimmed_seqLen: 792\n",
      "trimmed_seqLen_reduced: 492\n",
      "number of slides is: 392\n",
      "trimmed_seqLen: 735\n",
      "trimmed_seqLen_reduced: 435\n",
      "number of slides is: 335\n",
      "trimmed_seqLen: 835\n",
      "trimmed_seqLen_reduced: 535\n",
      "number of slides is: 435\n",
      "trimmed_seqLen: 761\n",
      "trimmed_seqLen_reduced: 461\n",
      "number of slides is: 361\n",
      "trimmed_seqLen: 790\n",
      "trimmed_seqLen_reduced: 490\n",
      "number of slides is: 390\n",
      "trimmed_seqLen: 687\n",
      "trimmed_seqLen_reduced: 387\n",
      "number of slides is: 287\n",
      "trimmed_seqLen: 775\n",
      "trimmed_seqLen_reduced: 475\n",
      "number of slides is: 375\n",
      "trimmed_seqLen: 1055\n",
      "trimmed_seqLen_reduced: 755\n",
      "number of slides is: 655\n",
      "trimmed_seqLen: 914\n",
      "trimmed_seqLen_reduced: 614\n",
      "number of slides is: 514\n",
      "trimmed_seqLen: 893\n",
      "trimmed_seqLen_reduced: 593\n",
      "number of slides is: 493\n",
      "trimmed_seqLen: 962\n",
      "trimmed_seqLen_reduced: 662\n",
      "number of slides is: 562\n",
      "trimmed_seqLen: 830\n",
      "trimmed_seqLen_reduced: 530\n",
      "number of slides is: 430\n",
      "trimmed_seqLen: 721\n",
      "trimmed_seqLen_reduced: 421\n",
      "number of slides is: 321\n",
      "trimmed_seqLen: 731\n",
      "trimmed_seqLen_reduced: 431\n",
      "number of slides is: 331\n",
      "trimmed_seqLen: 771\n",
      "trimmed_seqLen_reduced: 471\n",
      "number of slides is: 371\n",
      "trimmed_seqLen: 663\n",
      "trimmed_seqLen_reduced: 363\n",
      "number of slides is: 263\n",
      "trimmed_seqLen: 754\n",
      "trimmed_seqLen_reduced: 454\n",
      "number of slides is: 354\n",
      "trimmed_seqLen: 890\n",
      "trimmed_seqLen_reduced: 590\n",
      "number of slides is: 490\n",
      "trimmed_seqLen: 1001\n",
      "trimmed_seqLen_reduced: 701\n",
      "number of slides is: 601\n",
      "trimmed_seqLen: 831\n",
      "trimmed_seqLen_reduced: 531\n",
      "number of slides is: 431\n",
      "trimmed_seqLen: 1051\n",
      "trimmed_seqLen_reduced: 751\n",
      "number of slides is: 651\n",
      "trimmed_seqLen: 736\n",
      "trimmed_seqLen_reduced: 436\n",
      "number of slides is: 336\n",
      "trimmed_seqLen: 766\n",
      "trimmed_seqLen_reduced: 466\n",
      "number of slides is: 366\n",
      "trimmed_seqLen: 664\n",
      "trimmed_seqLen_reduced: 364\n",
      "number of slides is: 264\n",
      "trimmed_seqLen: 764\n",
      "trimmed_seqLen_reduced: 464\n",
      "number of slides is: 364\n",
      "trimmed_seqLen: 711\n",
      "trimmed_seqLen_reduced: 411\n",
      "number of slides is: 311\n",
      "trimmed_seqLen: 755\n",
      "trimmed_seqLen_reduced: 455\n",
      "number of slides is: 355\n",
      "trimmed_seqLen: 1027\n",
      "trimmed_seqLen_reduced: 727\n",
      "number of slides is: 627\n",
      "trimmed_seqLen: 1066\n",
      "trimmed_seqLen_reduced: 766\n",
      "number of slides is: 666\n",
      "trimmed_seqLen: 1061\n",
      "trimmed_seqLen_reduced: 761\n",
      "number of slides is: 661\n",
      "trimmed_seqLen: 880\n",
      "trimmed_seqLen_reduced: 580\n",
      "number of slides is: 480\n",
      "trimmed_seqLen: 995\n",
      "trimmed_seqLen_reduced: 695\n",
      "number of slides is: 595\n",
      "trimmed_seqLen: 921\n",
      "trimmed_seqLen_reduced: 621\n",
      "number of slides is: 521\n",
      "trimmed_seqLen: 897\n",
      "trimmed_seqLen_reduced: 597\n",
      "number of slides is: 497\n",
      "trimmed_seqLen: 920\n",
      "trimmed_seqLen_reduced: 620\n",
      "number of slides is: 520\n",
      "trimmed_seqLen: 836\n",
      "trimmed_seqLen_reduced: 536\n",
      "number of slides is: 436\n",
      "trimmed_seqLen: 874\n",
      "trimmed_seqLen_reduced: 574\n",
      "number of slides is: 474\n",
      "trimmed_seqLen: 801\n",
      "trimmed_seqLen_reduced: 501\n",
      "number of slides is: 401\n",
      "trimmed_seqLen: 877\n",
      "trimmed_seqLen_reduced: 577\n",
      "number of slides is: 477\n",
      "trimmed_seqLen: 833\n",
      "trimmed_seqLen_reduced: 533\n",
      "number of slides is: 433\n",
      "trimmed_seqLen: 811\n",
      "trimmed_seqLen_reduced: 511\n",
      "number of slides is: 411\n",
      "trimmed_seqLen: 909\n",
      "trimmed_seqLen_reduced: 609\n",
      "number of slides is: 509\n",
      "trimmed_seqLen: 824\n",
      "trimmed_seqLen_reduced: 524\n",
      "number of slides is: 424\n",
      "trimmed_seqLen: 1843\n",
      "trimmed_seqLen_reduced: 1543\n",
      "number of slides is: 1443\n",
      "trimmed_seqLen: 1565\n",
      "trimmed_seqLen_reduced: 1265\n",
      "number of slides is: 1165\n",
      "trimmed_seqLen: 1296\n",
      "trimmed_seqLen_reduced: 996\n",
      "number of slides is: 896\n",
      "trimmed_seqLen: 1241\n",
      "trimmed_seqLen_reduced: 941\n",
      "number of slides is: 841\n",
      "trimmed_seqLen: 1251\n",
      "trimmed_seqLen_reduced: 951\n",
      "number of slides is: 851\n",
      "trimmed_seqLen: 951\n",
      "trimmed_seqLen_reduced: 651\n",
      "number of slides is: 551\n",
      "trimmed_seqLen: 1170\n",
      "trimmed_seqLen_reduced: 870\n",
      "number of slides is: 770\n",
      "trimmed_seqLen: 1201\n",
      "trimmed_seqLen_reduced: 901\n",
      "number of slides is: 801\n",
      "trimmed_seqLen: 1051\n",
      "trimmed_seqLen_reduced: 751\n",
      "number of slides is: 651\n",
      "trimmed_seqLen: 1023\n",
      "trimmed_seqLen_reduced: 723\n",
      "number of slides is: 623\n",
      "trimmed_seqLen: 1026\n",
      "trimmed_seqLen_reduced: 726\n",
      "number of slides is: 626\n",
      "trimmed_seqLen: 1063\n",
      "trimmed_seqLen_reduced: 763\n",
      "number of slides is: 663\n",
      "trimmed_seqLen: 1020\n",
      "trimmed_seqLen_reduced: 720\n",
      "number of slides is: 620\n",
      "trimmed_seqLen: 1063\n",
      "trimmed_seqLen_reduced: 763\n",
      "number of slides is: 663\n",
      "trimmed_seqLen: 896\n",
      "trimmed_seqLen_reduced: 596\n",
      "number of slides is: 496\n",
      "trimmed_seqLen: 981\n",
      "trimmed_seqLen_reduced: 681\n",
      "number of slides is: 581\n",
      "trimmed_seqLen: 1001\n",
      "trimmed_seqLen_reduced: 701\n",
      "number of slides is: 601\n",
      "trimmed_seqLen: 906\n",
      "trimmed_seqLen_reduced: 606\n",
      "number of slides is: 506\n",
      "trimmed_seqLen: 958\n",
      "trimmed_seqLen_reduced: 658\n",
      "number of slides is: 558\n",
      "trimmed_seqLen: 951\n",
      "trimmed_seqLen_reduced: 651\n",
      "number of slides is: 551\n",
      "trimmed_seqLen: 904\n",
      "trimmed_seqLen_reduced: 604\n",
      "number of slides is: 504\n",
      "trimmed_seqLen: 926\n",
      "trimmed_seqLen_reduced: 626\n",
      "number of slides is: 526\n",
      "trimmed_seqLen: 909\n",
      "trimmed_seqLen_reduced: 609\n",
      "number of slides is: 509\n",
      "shape of X_train_windows: (79200, 100, 6)\n",
      "shape of Y_train_windows: (79200, 1, 6)\n",
      "shape of X_train_data: (42690, 100, 6)\n",
      "shape of Y_train_data: (42690, 1, 6)\n"
     ]
    }
   ],
   "source": [
    "# Creating training datasets\n",
    "# Selecting the features to be used when creating windows \n",
    "approx_seq_len = 2000 # appoximate the length of the longest sequence that can be encountered \n",
    "# samples_per_file = ((approx_seq_len - (input_window+output_window)) // stride) + 1 #number of window samples generated per file \n",
    "samples_per_file = 900\n",
    "\n",
    "\n",
    "# create a zero-filled 3D array with shape (number of samples * number of files, window size, number of features)\n",
    "X_train_windows = np.zeros((samples_per_file*train_samples, input_window, len(features)), dtype=np.float64) #size can be reduced by decreasing train_size \n",
    "Y_train_windows = np.zeros((samples_per_file*train_samples, output_window, len(features)), dtype=np.float64) \n",
    "\n",
    "\n",
    "start_idx = 0 #setting start index to equal zero \n",
    "train_sample_sum = 0\n",
    "train_excluded_samples = []\n",
    "# Create training windows \n",
    "\n",
    "#for i in tqdm(range(train_size)): #Use for including all data including outliers \n",
    "for i in range(train_samples): \n",
    "       \n",
    "    X_values, Y_values = window_generator_fltrd(\n",
    "        train_data_np[i,:,:],\n",
    "        input_window=input_window, \n",
    "        output_window=output_window, \n",
    "        stride=stride, \n",
    "        features=features,\n",
    "        labels=labels\n",
    "        )\n",
    "\n",
    "    end_idx = start_idx + X_values.shape[0]\n",
    "\n",
    "    # print(f'file number [{f}] start index: {start_idx}, end index: {end_idx}, number of samples: {X_values.shape[0]}')\n",
    "\n",
    "    X_train_windows[start_idx:end_idx, :, :] = X_values\n",
    "    Y_train_windows[start_idx:end_idx, :, :] = Y_values\n",
    "\n",
    "    # print(f'number of samples copied: {X_train_data_store[start_idx:end_idx, :, :].shape[0]}')\n",
    "\n",
    "    start_idx = end_idx \n",
    "    train_sample_sum += X_values.shape[0]\n",
    "\n",
    "    # except Exception:\n",
    "    #     exception_msg(i)\n",
    "    #     train_excluded_samples.append(i)\n",
    "\n",
    "# print(f\"Completed storage of training windows samples, which contains {X_train_data_store.shape[0]} samples\")\n",
    "X_train_data = X_train_windows[:end_idx, :, :].astype('float64')\n",
    "Y_train_data = Y_train_windows[:end_idx, :, :].astype('float64')\n",
    "\n",
    "\n",
    "print(f'shape of X_train_windows: {X_train_windows.shape}')\n",
    "print(f'shape of Y_train_windows: {Y_train_windows.shape}')\n",
    "\n",
    "print(f'shape of X_train_data: {X_train_data.shape}')\n",
    "print(f'shape of Y_train_data: {Y_train_data.shape}')"
   ]
  },
  {
   "cell_type": "code",
   "execution_count": 29,
   "metadata": {},
   "outputs": [
    {
     "name": "stdout",
     "output_type": "stream",
     "text": [
      "trimmed_seqLen: 718\n",
      "trimmed_seqLen_reduced: 418\n",
      "number of slides is: 318\n",
      "trimmed_seqLen: 801\n",
      "trimmed_seqLen_reduced: 501\n",
      "number of slides is: 401\n",
      "trimmed_seqLen: 706\n",
      "trimmed_seqLen_reduced: 406\n",
      "number of slides is: 306\n",
      "trimmed_seqLen: 651\n",
      "trimmed_seqLen_reduced: 351\n",
      "number of slides is: 251\n",
      "trimmed_seqLen: 741\n",
      "trimmed_seqLen_reduced: 441\n",
      "number of slides is: 341\n",
      "trimmed_seqLen: 691\n",
      "trimmed_seqLen_reduced: 391\n",
      "number of slides is: 291\n",
      "trimmed_seqLen: 722\n",
      "trimmed_seqLen_reduced: 422\n",
      "number of slides is: 322\n",
      "trimmed_seqLen: 726\n",
      "trimmed_seqLen_reduced: 426\n",
      "number of slides is: 326\n",
      "trimmed_seqLen: 740\n",
      "trimmed_seqLen_reduced: 440\n",
      "number of slides is: 340\n",
      "trimmed_seqLen: 766\n",
      "trimmed_seqLen_reduced: 466\n",
      "number of slides is: 366\n",
      "shape of X_val_windows: (16000, 100, 6)\n",
      "shape of Y_val_windows: (16000, 1, 6)\n",
      "shape of X_val_data: (3262, 100, 6)\n",
      "shape of Y_val_data: (3262, 1, 6)\n"
     ]
    }
   ],
   "source": [
    "# Creating validation datasets\n",
    "# Selecting the features to be used when creating windows \n",
    "approx_seq_len = 2000 # appoximate the length of the longest sequence that can be encountered \n",
    "# samples_per_file = ((approx_seq_len - (input_window+output_window)) // stride) + 1 #number of window samples generated per file \n",
    "samples_per_file = 1600\n",
    "\n",
    "\n",
    "# create a zero-filled 3D array with shape (number of samples * number of files, window size, number of features)\n",
    "X_val_windows = np.zeros((samples_per_file*val_samples, input_window, len(features)), dtype=np.float64) #size can be reduced by decreasing train_size \n",
    "Y_val_windows = np.zeros((samples_per_file*val_samples, output_window, len(features)), dtype=np.float64) \n",
    "\n",
    "\n",
    "start_idx = 0 #setting start index to equal zero \n",
    "val_sample_sum = 0\n",
    "val_excluded_samples = []\n",
    "# Create training windows \n",
    "\n",
    "#for i in tqdm(range(train_size)): #Use for including all data including outliers \n",
    "for i in range(val_samples): \n",
    "       \n",
    "    X_values, Y_values = window_generator_fltrd(\n",
    "        val_data_np[i,:,:],\n",
    "        input_window=input_window, \n",
    "        output_window=output_window, \n",
    "        stride=stride, \n",
    "        features=features,\n",
    "        labels=labels\n",
    "        )\n",
    "\n",
    "    end_idx = start_idx + X_values.shape[0]\n",
    "\n",
    "    # print(f'file number [{f}] start index: {start_idx}, end index: {end_idx}, number of samples: {X_values.shape[0]}')\n",
    "\n",
    "    X_val_windows[start_idx:end_idx, :, :] = X_values\n",
    "    Y_val_windows[start_idx:end_idx, :, :] = Y_values\n",
    "\n",
    "    # print(f'number of samples copied: {X_train_data_store[start_idx:end_idx, :, :].shape[0]}')\n",
    "\n",
    "    start_idx = end_idx \n",
    "    val_sample_sum += X_values.shape[0]\n",
    "\n",
    "    # except Exception:\n",
    "    #     exception_msg(i)\n",
    "    #     train_excluded_samples.append(i)\n",
    "\n",
    "# print(f\"Completed storage of training windows samples, which contains {X_train_data_store.shape[0]} samples\")\n",
    "X_val_data = X_val_windows[:end_idx, :, :].astype('float64')\n",
    "Y_val_data = Y_val_windows[:end_idx, :, :].astype('float64')\n",
    "\n",
    "\n",
    "print(f'shape of X_val_windows: {X_val_windows.shape}')\n",
    "print(f'shape of Y_val_windows: {Y_val_windows.shape}')\n",
    "\n",
    "print(f'shape of X_val_data: {X_val_data.shape}')\n",
    "print(f'shape of Y_val_data: {Y_val_data.shape}')"
   ]
  },
  {
   "cell_type": "code",
   "execution_count": 30,
   "metadata": {},
   "outputs": [
    {
     "name": "stdout",
     "output_type": "stream",
     "text": [
      "trimmed_seqLen: 718\n",
      "trimmed_seqLen_reduced: 418\n",
      "number of slides is: 119\n",
      "trimmed_seqLen: 801\n",
      "trimmed_seqLen_reduced: 501\n",
      "number of slides is: 202\n",
      "trimmed_seqLen: 706\n",
      "trimmed_seqLen_reduced: 406\n",
      "number of slides is: 107\n",
      "trimmed_seqLen: 651\n",
      "trimmed_seqLen_reduced: 351\n",
      "number of slides is: 52\n",
      "trimmed_seqLen: 741\n",
      "trimmed_seqLen_reduced: 441\n",
      "number of slides is: 142\n",
      "trimmed_seqLen: 691\n",
      "trimmed_seqLen_reduced: 391\n",
      "number of slides is: 92\n",
      "trimmed_seqLen: 722\n",
      "trimmed_seqLen_reduced: 422\n",
      "number of slides is: 123\n",
      "trimmed_seqLen: 726\n",
      "trimmed_seqLen_reduced: 426\n",
      "number of slides is: 127\n",
      "trimmed_seqLen: 740\n",
      "trimmed_seqLen_reduced: 440\n",
      "number of slides is: 141\n",
      "trimmed_seqLen: 766\n",
      "trimmed_seqLen_reduced: 466\n",
      "number of slides is: 167\n",
      "shape of X_val_lt_windows: (16000, 100, 6)\n",
      "shape of Y_val_lt_windows: (16000, 200, 6)\n",
      "shape of X_val_lt_data: (1272, 100, 6)\n",
      "shape of Y_val_lt_data: (1272, 200, 6)\n"
     ]
    }
   ],
   "source": [
    "# Creating validation datasets (long term predictions)\n",
    "# Selecting the features to be used when creating windows \n",
    "approx_seq_len = 2000 # appoximate the length of the longest sequence that can be encountered \n",
    "# samples_per_file = ((approx_seq_len - (input_window+output_window)) // stride) + 1 #number of window samples generated per file \n",
    "samples_per_file = 1600\n",
    "\n",
    "future_window = 200\n",
    "\n",
    "# create a zero-filled 3D array with shape (number of samples * number of files, window size, number of features)\n",
    "X_val_lt_windows = np.zeros((samples_per_file*val_samples, input_window, len(features)), dtype=np.float64) #size can be reduced by decreasing train_size \n",
    "Y_val_lt_windows = np.zeros((samples_per_file*val_samples, future_window, len(features)), dtype=np.float64) \n",
    "\n",
    "\n",
    "start_idx = 0 #setting start index to equal zero \n",
    "val_lt_sample_sum = 0\n",
    "val_lt_excluded_samples = []\n",
    "# Create training windows \n",
    "\n",
    "#for i in tqdm(range(train_size)): #Use for including all data including outliers \n",
    "for i in range(val_samples): \n",
    "       \n",
    "    X_values, Y_values = window_generator_lt_fltrd(\n",
    "        val_data_np[i,:,:],\n",
    "        input_window=input_window, \n",
    "        future_window=future_window, \n",
    "        stride=stride, \n",
    "        features=features,\n",
    "        labels=labels\n",
    "        )\n",
    "\n",
    "    end_idx = start_idx + X_values.shape[0]\n",
    "\n",
    "    # print(f'file number [{f}] start index: {start_idx}, end index: {end_idx}, number of samples: {X_values.shape[0]}')\n",
    "\n",
    "    X_val_lt_windows[start_idx:end_idx, :, :] = X_values\n",
    "    Y_val_lt_windows[start_idx:end_idx, :, :] = Y_values\n",
    "\n",
    "    # print(f'number of samples copied: {X_train_data_store[start_idx:end_idx, :, :].shape[0]}')\n",
    "\n",
    "    start_idx = end_idx \n",
    "    val_lt_sample_sum += X_values.shape[0]\n",
    "\n",
    "    # except Exception:\n",
    "    #     exception_msg(i)\n",
    "    #     train_excluded_samples.append(i)\n",
    "\n",
    "# print(f\"Completed storage of training windows samples, which contains {X_train_data_store.shape[0]} samples\")\n",
    "X_val_lt_data = X_val_lt_windows[:end_idx, :, :].astype('float64')\n",
    "Y_val_lt_data = Y_val_lt_windows[:end_idx, :, :].astype('float64')\n",
    "\n",
    "\n",
    "print(f'shape of X_val_lt_windows: {X_val_lt_windows.shape}')\n",
    "print(f'shape of Y_val_lt_windows: {Y_val_lt_windows.shape}')\n",
    "\n",
    "print(f'shape of X_val_lt_data: {X_val_lt_data.shape}')\n",
    "print(f'shape of Y_val_lt_data: {Y_val_lt_data.shape}')"
   ]
  },
  {
   "cell_type": "code",
   "execution_count": 31,
   "metadata": {},
   "outputs": [
    {
     "data": {
      "text/plain": [
       "array([[-30.96504974,  -9.91796017, -49.7908783 , -34.52795029,\n",
       "        -14.86672974, -47.07204819],\n",
       "       [ 90.99295044, 111.41835022,  27.9573307 ,  61.78282166,\n",
       "         91.98961639,  37.62150955]])"
      ]
     },
     "execution_count": 31,
     "metadata": {},
     "output_type": "execute_result"
    }
   ],
   "source": [
    "X_train_norm, scalars = normalise_fit(X_train_data)\n",
    "Y_train_norm = normalise_transform(Y_train_data, scalars)\n",
    "\n",
    "X_val_norm = normalise_transform(X_val_data, scalars)\n",
    "Y_val_norm = normalise_transform(Y_val_data, scalars)\n",
    "\n",
    "X_val_lt_norm = normalise_transform(X_val_lt_data, scalars)\n",
    "Y_val_lt_norm = normalise_transform(Y_val_lt_data, scalars)\n",
    "\n",
    "\n",
    "scalars"
   ]
  },
  {
   "cell_type": "code",
   "execution_count": 32,
   "metadata": {},
   "outputs": [
    {
     "data": {
      "text/plain": [
       "[<matplotlib.lines.Line2D at 0x154a2434af0>,\n",
       " <matplotlib.lines.Line2D at 0x154a2434a90>,\n",
       " <matplotlib.lines.Line2D at 0x154a2434bb0>,\n",
       " <matplotlib.lines.Line2D at 0x154a2434cd0>,\n",
       " <matplotlib.lines.Line2D at 0x154a2434df0>,\n",
       " <matplotlib.lines.Line2D at 0x154a2434f10>]"
      ]
     },
     "execution_count": 32,
     "metadata": {},
     "output_type": "execute_result"
    },
    {
     "data": {
      "image/png": "[encoded data removed]",
      "text/plain": [
       "<Figure size 432x288 with 1 Axes>"
      ]
     },
     "metadata": {
      "needs_background": "light"
     },
     "output_type": "display_data"
    }
   ],
   "source": [
    "plt.plot(X_train_norm[2089,:])"
   ]
  },
  {
   "cell_type": "code",
   "execution_count": 33,
   "metadata": {},
   "outputs": [
    {
     "name": "stdout",
     "output_type": "stream",
     "text": [
      "X_train shape: torch.Size([42690, 100, 6])\n",
      "Y_train shape: torch.Size([42690, 1, 6])\n",
      "X_val shape: torch.Size([3262, 100, 6])\n",
      "Y_val shape: torch.Size([3262, 1, 6])\n",
      "X_val_lt shape: torch.Size([1272, 100, 6])\n",
      "Y_val_lt shape: torch.Size([1272, 200, 6])\n"
     ]
    }
   ],
   "source": [
    "# Convert to Tensor \n",
    "# do not store on GPU (yet)\n",
    "X_train = torch.from_numpy(X_train_norm).to(torch.float64)\n",
    "Y_train = torch.from_numpy(Y_train_norm).to(torch.float64)\n",
    "\n",
    "# X_val = torch.from_numpy(X_val_norm).float()\n",
    "\n",
    "# X_val_resized = np.expand_dims(Y_val_norm[:,0,:], axis=1)\n",
    "# Y_val = torch.from_numpy(X_val_resized).float()\n",
    "\n",
    "X_val = torch.from_numpy(X_val_norm).to(torch.float64)\n",
    "Y_val = torch.from_numpy(Y_val_norm).to(torch.float64)\n",
    "\n",
    "\n",
    "X_val_lt = torch.from_numpy(X_val_lt_norm).to(torch.float64)\n",
    "Y_val_lt = torch.from_numpy(Y_val_lt_norm).to(torch.float64)\n",
    "\n",
    "\n",
    "print(f'X_train shape: {X_train.shape}')\n",
    "print(f'Y_train shape: {Y_train.shape}')\n",
    "\n",
    "print(f'X_val shape: {X_val.shape}')\n",
    "print(f'Y_val shape: {Y_val.shape}')\n",
    "\n",
    "print(f'X_val_lt shape: {X_val_lt.shape}') #long term predictions\n",
    "print(f'Y_val_lt shape: {Y_val_lt.shape}') #long term predictions\n",
    "\n",
    "\n"
   ]
  },
  {
   "cell_type": "code",
   "execution_count": 34,
   "metadata": {},
   "outputs": [
    {
     "data": {
      "text/plain": [
       "torch.float64"
      ]
     },
     "execution_count": 34,
     "metadata": {},
     "output_type": "execute_result"
    }
   ],
   "source": [
    "X_val.dtype"
   ]
  },
  {
   "cell_type": "code",
   "execution_count": 35,
   "metadata": {},
   "outputs": [],
   "source": [
    "# len(train_dataloader)"
   ]
  },
  {
   "cell_type": "markdown",
   "metadata": {},
   "source": [
    "### Model training\n"
   ]
  },
  {
   "cell_type": "markdown",
   "metadata": {},
   "source": [
    "#### Another tutorial:\n",
    "https://www.kaggle.com/code/seangribben/lstm-time-series-prediction-pytorch-sine-wave"
   ]
  },
  {
   "cell_type": "code",
   "execution_count": 36,
   "metadata": {},
   "outputs": [
    {
     "name": "stdout",
     "output_type": "stream",
     "text": [
      "shape of X_train: torch.Size([42690, 100, 6]), shape of Y_train: torch.Size([42690, 1, 6])\n"
     ]
    }
   ],
   "source": [
    "print(f'shape of X_train: {X_train.shape}, shape of Y_train: {Y_train.shape}')"
   ]
  },
  {
   "cell_type": "code",
   "execution_count": 37,
   "metadata": {},
   "outputs": [],
   "source": [
    "# train_dataset = gaitDataset(X_train, Y_train)\n",
    "# train_dataloader = DataLoader(train_dataset, batch_size=256, shuffle = False)\n",
    "# # train_dataloader = DataLoader(train_dataset, batch_size=len(train_dataset), shuffle = False)\n",
    "\n",
    "# val_dataset = gaitDataset(X_val, Y_val) #ADJUSTED\n",
    "# # val_dataloader = DataLoader(val_dataset, batch_size=128, shuffle=False)\n",
    "# val_dataloader = DataLoader(val_dataset, batch_size=256, shuffle=False)"
   ]
  },
  {
   "cell_type": "code",
   "execution_count": 38,
   "metadata": {},
   "outputs": [],
   "source": [
    "# train_dataset.shape\n",
    "# train_labels.shape"
   ]
  },
  {
   "cell_type": "code",
   "execution_count": 39,
   "metadata": {},
   "outputs": [],
   "source": [
    "# #Vanilla LSTM\n",
    "# class Net(nn.Module):\n",
    "#     def __init__(self, n_neurons, input_shape):\n",
    "#         super(Net, self).__init__()\n",
    "        \n",
    "#         # self.fc1 = nn.Linear(input_shape, n_neurons)\n",
    "#         self.lstm = nn.LSTM(input_size=input_shape, hidden_size=n_neurons)\n",
    "#         self.fc = nn.Linear(n_neurons, 1)\n",
    "    \n",
    "#     def forward(self, x):\n",
    "#         out, _ = self.lstm(x)\n",
    "#         # out = self.fc1(x)\n",
    "#         out = self.fc(out)\n",
    "#         return out"
   ]
  },
  {
   "cell_type": "code",
   "execution_count": 40,
   "metadata": {},
   "outputs": [],
   "source": [
    "# # Vanilla LSTM\n",
    "# class LSTM(nn.Module):\n",
    "#     def __init__(self, n_neurons, input_shape):\n",
    "#         super(LSTM, self).__init__()\n",
    "        \n",
    "#         self.lstm = nn.LSTM(input_size=len(features), hidden_size=n_neurons, num_layers=2, batch_first = True)\n",
    "#         self.fc = nn.Linear(n_neurons, len(features))\n",
    "\n",
    "#     def forward(self, x):\n",
    "#         # print(f'input shape: {x.shape}')\n",
    "#         out, _ = self.lstm(x)\n",
    "\n",
    "#         out = self.fc(out[:,-1])\n",
    "\n",
    "#         return out.unsqueeze(1)"
   ]
  },
  {
   "cell_type": "code",
   "execution_count": 41,
   "metadata": {},
   "outputs": [],
   "source": [
    "# # useful resources: https://www.youtube.com/watch?v=8A6TEjG2DNw (LSTM Time Series Prediction Tutorial using PyTorch in Python | Coronavirus Daily Cases Forecasting)\n",
    "# LSTM model \n",
    "class LSTM(nn.Module):\n",
    "    def __init__(self, params):\n",
    "        super(LSTM, self).__init__()\n",
    "        '''\n",
    "        nn.lstm: \n",
    "        input_size = number of features in input, if batch_first = TRUE (batchSize, seq_len, Hin) FEATURES\n",
    "        hidden_size = number of features in hidden state\n",
    "        num_layers\n",
    "        batch_first = if TRUE (batch, seq, Hin) Hin may mean input features\n",
    "        h_0 = (D * num_layers, batchSize, Hout)\n",
    "        c_0 = (D * num_layers, batchSize, Hcell)\n",
    "\n",
    "        output = (batchSize, seq_len, D * Hout) Hout may mean output features, if batch first = TRUE \n",
    "        h_0 = (D*num_layers, N, Hout) final state for each element in the batch \n",
    "        C_0 = (D*num_layers, N, Hcell) final cell state for each element \n",
    "\n",
    "        nn.linear:\n",
    "        input_size = (N,*, Hin) Hin = input_features (equal to hidden size therefore is arbitrarily set)\n",
    "        output_size = (N, *, Hout) Hout = output features (equal to output_size passed in to the model) \n",
    "\n",
    "        '''\n",
    "        # Pytorch documentation: \n",
    "        # >>> rnn = nn.LSTM(10, 20, 2) features, hidden_size, number of layers \n",
    "        # >>> input = torch.randn(5, 3, 10) in_seq_len, batch_size, hidden_size (batch size should not be input to the mode, inferred from the shape of the input and will be the first number if batch_first = TRUE)\n",
    "        # >>> h0 = torch.randn(2, 3, 20)\n",
    "        # >>> c0 = torch.randn(2, 3, 20)\n",
    "        # >>> output, (hn, cn) = rnn(input, (h0, c0))\n",
    "\n",
    "        self.input_size = len(features)\n",
    "        self.hidden_size = params['hidden_size']\n",
    "        self.num_layers = params['num_layers']\n",
    "        self.in_seq_len = 100\n",
    "        self.output_size = len(features)\n",
    "        self.out_seq_len = output_window\n",
    "        self.device = DEVICE\n",
    "        \n",
    "        # nn.LSTM(features, hidden_size, number of layers)\n",
    "        self.lstm = nn.LSTM(input_size=self.input_size, hidden_size=self.hidden_size, num_layers=self.num_layers, batch_first = True)\n",
    "\n",
    "        #nn.fc1\n",
    "        self.fc1 = nn.Linear(in_features=self.hidden_size, out_features=(self.output_size * self.out_seq_len))\n",
    "        # self.fc1 = nn.Linear(in_features=self.hidden_size, out_features=(self.output_size * self.out_seq_len))\n",
    "\n",
    "\n",
    "    def forward(self, input_data):\n",
    "\n",
    "        # initialise hidden and cell states after passing through each batch (this is skipped in stateless model)\n",
    "        h_0 = torch.zeros(self.num_layers, input_data.shape[0], self.hidden_size).double().to(self.device) # input_data.shape[0] is equal to batch size\n",
    "        c_0 = torch.zeros(self.num_layers, input_data.shape[0], self.hidden_size).double().to(self.device)\n",
    "\n",
    "        #propagate through LSTM\n",
    "        lstm_out, (h_out, c_out) = self.lstm(input_data, (h_0, c_0))\n",
    "        # print(f'shape h_out[-1] {h_out.shape}')\n",
    "        # propagate through linear layer \n",
    "        fc1_out = self.fc1(h_out[-1])\n",
    "       \n",
    "        preds = fc1_out.reshape(input_data.shape[0], self.out_seq_len, self.output_size)\n",
    "        # print(f'preds.shape (after reshaping): {preds.shape}')\n",
    "        \n",
    "        return preds"
   ]
  },
  {
   "cell_type": "code",
   "execution_count": 42,
   "metadata": {},
   "outputs": [],
   "source": [
    "# # MLP\n",
    "# class Net(nn.Module):\n",
    "#     def __init__(self, n_neurons, input_shape):\n",
    "#         super(Net, self).__init__()\n",
    "#         self.flatten = nn.Flatten(start_dim=1, end_dim=-1)\n",
    "#         self.fc1 = nn.Linear(input_shape, n_neurons)\n",
    "#         self.fc = nn.Linear(n_neurons, 1)\n",
    "#         # self.relu = nn.ReLU()\n",
    "#     def forward(self, x):\n",
    "#         # print(f'input: {x.shape}')\n",
    "#         out = self.flatten(x)\n",
    "#         # print(f'flatten output: {out.shape}')\n",
    "#         out = self.fc1(out)\n",
    "#         # out = self.relu(out)\n",
    "#         # print(f'fc1 shape: {out.shape}')\n",
    "#         out = self.fc(out)\n",
    "#         # print(f'output.shape {out.shape}')\n",
    "#         return out.unsqueeze(1)"
   ]
  },
  {
   "cell_type": "code",
   "execution_count": 43,
   "metadata": {},
   "outputs": [],
   "source": [
    "# # MLP\n",
    "# class MLP(nn.Module):\n",
    "#     def __init__(self, n_neurons, input_shape):\n",
    "#         super(MLP, self).__init__()\n",
    "\n",
    "#         self.flatten = nn.Flatten(1,-1)\n",
    "#         self.fc1 = nn.Linear(input_shape*len(features), n_neurons)\n",
    "#         self.fc = nn.Linear(n_neurons, len(features))\n",
    "#         self.relu = nn.ReLU()\n",
    "\n",
    "#     def forward(self, x):\n",
    "#         # print(f'input: {x.shape}')\n",
    "#         out = self.flatten(x)\n",
    "#         # print(f'flatten output: {out.shape}')\n",
    "#         out = self.fc1(out)\n",
    "#         out = self.relu(out)\n",
    "#         # print(f'fc1 shape: {out.shape}')\n",
    "#         out = self.fc(out)\n",
    "#         # print(f'output.shape {out.shape}')\n",
    "#         return out.unsqueeze(1)"
   ]
  },
  {
   "cell_type": "code",
   "execution_count": 44,
   "metadata": {},
   "outputs": [],
   "source": [
    "# # MLP\n",
    "# class MLP(nn.Module):\n",
    "#     def __init__(self, n_neurons, input_shape):\n",
    "#         super(MLP, self).__init__()\n",
    "        \n",
    "#         self.fc1 = nn.Linear(input_shape, n_neurons)\n",
    "#         self.fc2 = nn.Linear(n_neurons, n_neurons)\n",
    "\n",
    "#         self.fc3 = nn.Linear(n_neurons, n_neurons)\n",
    " \n",
    "#         # self.fc1 = nn.Linear(n_neurons, n_neurons)\n",
    "\n",
    "#         # self.lstm = nn.LSTM(input_size=input_shape, hidden_size=n_neurons)\n",
    "#         self.fc = nn.Linear(n_neurons, 1)\n",
    "#         self.relu = nn.ReLU()\n",
    "    \n",
    "#     def forward(self, x):\n",
    "#         # print(f'input shape: {x.permute(2,0,1).shape}')\n",
    "#         # out, _ = self.lstm(x)\n",
    "#         out = self.fc1(x.permute(2,0,1))\n",
    "#         out = self.relu(out)\n",
    "\n",
    "#         out = self.fc2(out)\n",
    "#         out = self.relu(out)\n",
    "        \n",
    "#         out = self.fc3(out)\n",
    "#         out = self.relu(out)\n",
    "\n",
    "#         # print(f'lstm out shape: {out.shape}')\n",
    "#         out = self.fc(out)\n",
    "#         # print(f'output.shape {out.permute(1,0,2).shape}')\n",
    "#         return out.permute(1,2,0)"
   ]
  },
  {
   "cell_type": "code",
   "execution_count": 45,
   "metadata": {},
   "outputs": [],
   "source": [
    "class MLP(nn.Module):\n",
    "    def __init__(self, params):\n",
    "        super(MLP, self).__init__()\n",
    "        # self.flatten = nn.Flatten()\n",
    "        self.input_size = len(features)\n",
    "        self.output_size = len(features)\n",
    "        self.in_seq_len = 100\n",
    "        self.out_seq_len = 1\n",
    "        self.device = DEVICE \n",
    "        self.layers = params['layers']\n",
    "        self.num_units = params['num_units']\n",
    "        \n",
    "\n",
    "        self.flatten = nn.Flatten(start_dim=1, end_dim=-1)\n",
    "\n",
    "        linear_layers_lst = [] #linear layer list\n",
    " \n",
    "        for i in range(self.layers):\n",
    "            linear_layers_lst.append(nn.Linear(self.num_units, self.num_units))\n",
    "            linear_layers_lst.append(nn.ReLU())\n",
    "\n",
    "       \n",
    "        linear_layers = tuple((linear_layers_lst))\n",
    "\n",
    "        self.MLP = nn.Sequential(nn.Linear(in_features=self.input_size*self.in_seq_len, out_features=self.num_units), \n",
    "                                nn.ReLU(), \n",
    "                                *linear_layers, \n",
    "                                nn.Linear(self.num_units, self.output_size*self.out_seq_len))\n",
    "\n",
    "        # self.tanh = nn.Tanh()\n",
    "        self.sigmoid = nn.Sigmoid()\n",
    "\n",
    "    def forward(self, x):\n",
    "        # print(f'shape of x: {x.shape}')\n",
    "        out = self.flatten(x)\n",
    "        # x is in the shape [batch_size, in_seq_len, features], but should be reshaped to [batch_size, in_seq_len*features]\n",
    "        # print(f'shape of flatten: {out.shape}')\n",
    "        out = self.MLP(out)\n",
    "        # print(f'shape of MLP: {out.shape}')\n",
    "        out = self.sigmoid(out)\n",
    "        preds = out.reshape(x.shape[0],  self.out_seq_len,self.output_size)\n",
    "        return preds\n"
   ]
  },
  {
   "cell_type": "code",
   "execution_count": 46,
   "metadata": {},
   "outputs": [],
   "source": [
    "class CNN(nn.Module):\n",
    "    def __init__(self):\n",
    "        super(CNN, self).__init__()\n",
    "\n",
    "        self.input_size = len(features)\n",
    "        self.output_size = len(features)\n",
    "        # self.kernel_size = kernel_size\n",
    "        # self.stride = stride\n",
    "        self.device = DEVICE \n",
    "        self.in_seq_len = input_window\n",
    "        self.out_seq_len = output_window\n",
    "        self.conv1_channels = 32\n",
    "        self.conv2_channels = 48\n",
    "        self.conv3_channels = 256\n",
    "        self.conv4_channels = 256\n",
    "        self.kernel_12 = 3\n",
    "        self.kernel_34 = 3\n",
    "        self.padding = 2\n",
    "        self.stride = 2\n",
    "        self.dilation = 1\n",
    "\n",
    "        def calc_shape(input, kernel_size, stride, padding=0, dilation =1, operation = 'conv'):\n",
    "            if operation == 'conv':\n",
    "            # size = ((input - kernel_size + (2 * padding))/stride)  + 1 \n",
    "                size = ((input + 2 * padding - dilation * (kernel_size-1) -1)/stride )+ 1\n",
    "\n",
    "            if operation == 'pool':\n",
    "                size = ((input - kernel_size)/stride)  + 1\n",
    "\n",
    "            return size\n",
    "\n",
    "        self.conv1 = nn.Conv1d(in_channels = self.input_size, out_channels = self.conv1_channels, kernel_size = self.kernel_12, stride = self.stride, padding = self.padding, dilation=self.dilation)\n",
    "        post_conv1 = calc_shape(input = self.in_seq_len, kernel_size = self.kernel_12, stride = self.stride, padding = self.padding,  dilation=self.dilation, operation='conv')\n",
    "        # print(f'post conv1: {post_conv1}')\n",
    "\n",
    "        self.conv2 = nn.Conv1d(in_channels = self.conv1_channels, out_channels = self.conv2_channels, kernel_size = self.kernel_12 , stride = self.stride, padding = self.padding,  dilation=self.dilation)\n",
    "        post_conv2 = calc_shape(input = post_conv1, kernel_size =self.kernel_12 , stride = self.stride, padding = self.padding,  dilation=self.dilation,  operation='conv')\n",
    "        # print(f'post conv2: {post_conv2}')\n",
    "\n",
    "        self.pool1 = nn.MaxPool1d(kernel_size = 2, stride = 2)\n",
    "        post_pool1 = calc_shape(input = post_conv2, kernel_size = 2, stride = 2,  operation='pool')\n",
    "        # print(f'post poo1: {post_pool1}')\n",
    "\n",
    "        self.conv3 = nn.Conv1d(in_channels=self.conv2_channels, out_channels=self.conv3_channels, kernel_size = self.kernel_34, stride = self.stride, padding = self.padding,  dilation=self.dilation )\n",
    "        post_conv3 = calc_shape(input = post_pool1, kernel_size = self.kernel_34, stride = self.stride, padding = self.padding, dilation=self.dilation, operation='conv')\n",
    "        # print(f'post conv3: {post_conv3}')\n",
    "\n",
    "\n",
    "        self.conv4 = nn.Conv1d(in_channels=self.conv3_channels, out_channels=self.conv4_channels, kernel_size = self.kernel_34, stride = self.stride, padding = self.padding,  dilation=self.dilation)\n",
    "        post_conv4 = calc_shape(input = post_conv3, kernel_size = self.kernel_34, stride = self.stride, padding = self.padding,  dilation=self.dilation, operation='conv')\n",
    "        # print(f'post conv4: {post_conv4}')\n",
    "\n",
    "\n",
    "        self.pool2 = nn.MaxPool1d(kernel_size = 2, stride = 2)\n",
    "        post_pool2 = calc_shape(input = post_conv4, kernel_size = 2, stride = 2,  operation='pool')\n",
    "        # print(f'post pool2: {post_pool2}')\n",
    "\n",
    "        # print(f'linear input: {post_pool2 * 32}')\n",
    "\n",
    "        self.fc1 = nn.Linear(in_features = (int(post_pool2) * self.conv4_channels), out_features=(self.output_size * self.out_seq_len))\n",
    "        #nn.Linear(in_features=self.hidden_size, out_features=(self.output_size * self.out_seq_len))\n",
    "\n",
    "\n",
    "    def forward(self, input_data):\n",
    "        '''\n",
    "        input_data.shape = \n",
    "        '''\n",
    "        # print(f'input_data.shape = {input_data.shape}') #input_data.shape = torch.Size([512, 2, 120])\n",
    "        input = input_data.permute(0,2,1)\n",
    "        out = self.conv1(input)\n",
    "        out = F.relu(out)\n",
    "        out = self.conv2(out)\n",
    "        out = F.relu(out)\n",
    "        # print(f'conv1 out shape = {out.shape}') #conv1_out.shape = torch.Size([512, 12, 120])\n",
    "        out = self.pool1(out)\n",
    "        # print(f'pool1 out shape = {out.shape}')\n",
    "        out = self.conv3(out)\n",
    "        # print(f'conv2 out shape: {out.shape}')\n",
    "        out = F.relu(out)\n",
    "        out = self.conv4(out)\n",
    "        out = F.relu(out)\n",
    "        out = self.pool2(out)\n",
    "        out = torch.flatten(out, start_dim = 1, end_dim=-1) #do not flatten batches \n",
    "        # print(f'flatten layer out shape: {out.shape}') #([512, 720]) \n",
    "        out = self.fc1(out)\n",
    "        # print(f'fc1 out shape: {out.shape}')\n",
    "        preds = out.reshape(input_data.shape[0],  self.out_seq_len, self.output_size)\n",
    "        # print(f'preds.shape (after reshaping): {preds.shape}')\n",
    "\n",
    "        return preds"
   ]
  },
  {
   "cell_type": "code",
   "execution_count": 47,
   "metadata": {},
   "outputs": [],
   "source": [
    "class CNN(nn.Module):\n",
    "    def __init__(self, params):\n",
    "        super(CNN, self).__init__()\n",
    "\n",
    "        self.input_size = len(features)\n",
    "        self.output_size = len(features)\n",
    "        # self.kernel_size = kernel_size\n",
    "        # self.stride = stride\n",
    "        self.device = DEVICE \n",
    "        self.in_seq_len = input_window\n",
    "        self.out_seq_len = output_window\n",
    "        self.conv1_channels = params['conv1_channels']\n",
    "        self.conv2_channels = params['conv2_channels']\n",
    "        self.conv3_channels = params['conv3_channels']\n",
    "        self.conv4_channels = params['conv4_channels']\n",
    "        self.kernel_12 = params['kernel_12']\n",
    "        self.kernel_34 = params['kernel_34']\n",
    "        self.padding = params['padding']\n",
    "        self.stride = params['stride']\n",
    "        self.dilation = params['dilation']\n",
    "\n",
    "        def calc_shape(input, kernel_size, stride, padding=0, dilation =1, operation = 'conv'):\n",
    "            if operation == 'conv':\n",
    "            # size = ((input - kernel_size + (2 * padding))/stride)  + 1 \n",
    "                size = ((input + 2 * padding - dilation * (kernel_size-1) -1)/stride )+ 1\n",
    "\n",
    "            if operation == 'pool':\n",
    "                size = ((input - kernel_size)/stride)  + 1\n",
    "\n",
    "            return size\n",
    "\n",
    "        self.conv1 = nn.Conv1d(in_channels = self.input_size, out_channels = self.conv1_channels, kernel_size = self.kernel_12, stride = self.stride, padding = self.padding, dilation=self.dilation)\n",
    "        post_conv1 = calc_shape(input = self.in_seq_len, kernel_size = self.kernel_12, stride = self.stride, padding = self.padding,  dilation=self.dilation, operation='conv')\n",
    "        # print(f'post conv1: {post_conv1}')\n",
    "\n",
    "        self.conv2 = nn.Conv1d(in_channels = self.conv1_channels, out_channels = self.conv2_channels, kernel_size = self.kernel_12 , stride = self.stride, padding = self.padding,  dilation=self.dilation)\n",
    "        post_conv2 = calc_shape(input = post_conv1, kernel_size =self.kernel_12 , stride = self.stride, padding = self.padding,  dilation=self.dilation,  operation='conv')\n",
    "        # print(f'post conv2: {post_conv2}')\n",
    "\n",
    "        self.pool1 = nn.MaxPool1d(kernel_size = 2, stride = 2)\n",
    "        post_pool1 = calc_shape(input = post_conv2, kernel_size = 2, stride = 2,  operation='pool')\n",
    "        # print(f'post poo1: {post_pool1}')\n",
    "\n",
    "        self.conv3 = nn.Conv1d(in_channels=self.conv2_channels, out_channels=self.conv3_channels, kernel_size = self.kernel_34, stride = self.stride, padding = self.padding,  dilation=self.dilation )\n",
    "        post_conv3 = calc_shape(input = post_pool1, kernel_size = self.kernel_34, stride = self.stride, padding = self.padding, dilation=self.dilation, operation='conv')\n",
    "        # print(f'post conv3: {post_conv3}')\n",
    "\n",
    "\n",
    "        self.conv4 = nn.Conv1d(in_channels=self.conv3_channels, out_channels=self.conv4_channels, kernel_size = self.kernel_34, stride = self.stride, padding = self.padding,  dilation=self.dilation)\n",
    "        post_conv4 = calc_shape(input = post_conv3, kernel_size = self.kernel_34, stride = self.stride, padding = self.padding,  dilation=self.dilation, operation='conv')\n",
    "        # print(f'post conv4: {post_conv4}')\n",
    "\n",
    "\n",
    "        self.pool2 = nn.MaxPool1d(kernel_size = 2, stride = 2)\n",
    "        post_pool2 = calc_shape(input = post_conv4, kernel_size = 2, stride = 2,  operation='pool')\n",
    "        # print(f'post pool2: {post_pool2}')\n",
    "\n",
    "        # print(f'linear input: {post_pool2 * 32}')\n",
    "\n",
    "        self.fc1 = nn.Linear(in_features = (int(post_pool2) * self.conv4_channels), out_features=(self.output_size * self.out_seq_len))\n",
    "        #nn.Linear(in_features=self.hidden_size, out_features=(self.output_size * self.out_seq_len))\n",
    "\n",
    "\n",
    "    def forward(self, input_data):\n",
    "        '''\n",
    "        input_data.shape = \n",
    "        '''\n",
    "        # print(f'input_data.shape = {input_data.shape}') #input_data.shape = torch.Size([512, 2, 120])\n",
    "        input = input_data.permute(0,2,1)\n",
    "        out = self.conv1(input)\n",
    "        out = F.relu(out)\n",
    "        out = self.conv2(out)\n",
    "        out = F.relu(out)\n",
    "        # print(f'conv1 out shape = {out.shape}') #conv1_out.shape = torch.Size([512, 12, 120])\n",
    "        out = self.pool1(out)\n",
    "        # print(f'pool1 out shape = {out.shape}')\n",
    "        out = self.conv3(out)\n",
    "        # print(f'conv2 out shape: {out.shape}')\n",
    "        out = F.relu(out)\n",
    "        out = self.conv4(out)\n",
    "        out = F.relu(out)\n",
    "        out = self.pool2(out)\n",
    "        out = torch.flatten(out, start_dim = 1, end_dim=-1) #do not flatten batches \n",
    "        # print(f'flatten layer out shape: {out.shape}') #([512, 720]) \n",
    "        out = self.fc1(out)\n",
    "        # print(f'fc1 out shape: {out.shape}')\n",
    "        preds = out.reshape(input_data.shape[0],  self.out_seq_len, self.output_size)\n",
    "        # print(f'preds.shape (after reshaping): {preds.shape}')\n",
    "\n",
    "        return preds"
   ]
  },
  {
   "cell_type": "code",
   "execution_count": 48,
   "metadata": {},
   "outputs": [],
   "source": [
    "# DEVICE = 'cpu'\n",
    "DEVICE = 'cuda'"
   ]
  },
  {
   "cell_type": "code",
   "execution_count": 49,
   "metadata": {},
   "outputs": [],
   "source": [
    "# fname = 'Exp033_220916_LSTM_batch'\n",
    "# folder_path = r'D:\\Study 2 Results and Models\\Study 2 Experiments' + '\\\\' + fname \n",
    "# path = r'D:\\Study 2 Results and Models\\Study 2 Experiments'+ '\\\\' + fname + '\\\\'  + fname + '.pth'\n",
    "\n",
    "# if not os.path.exists(folder_path):\n",
    "#     os.makedirs(folder_path)\n",
    "# else:\n",
    "#     print('File already exists, choose a different name')\n",
    "#     raise \n",
    "    "
   ]
  },
  {
   "cell_type": "code",
   "execution_count": 50,
   "metadata": {},
   "outputs": [],
   "source": [
    "global trial_number\n",
    "trial_number = 0\n",
    "trial_descrbn = 'CNN'"
   ]
  },
  {
   "cell_type": "code",
   "execution_count": 51,
   "metadata": {},
   "outputs": [],
   "source": [
    "train_dataset = gaitDataset(X_train, Y_train)\n",
    "val_dataset = gaitDataset(X_val, Y_val) #ADJUSTED\n",
    "val_lt_dataset = gaitDataset(X_val_lt, Y_val_lt) #long term predictions\n"
   ]
  },
  {
   "cell_type": "code",
   "execution_count": 52,
   "metadata": {},
   "outputs": [],
   "source": [
    "def train_model(model, train_dataset, val_dataset, val_lt_dataset, params):\n",
    "    global trial_number\n",
    "\n",
    "    train_dataloader = DataLoader(train_dataset, batch_size=params['batch_size'], shuffle = True)\n",
    "    val_dataloader = DataLoader(val_dataset, batch_size=params['batch_size'], shuffle=True)\n",
    "    val_lt_dataloader = DataLoader(val_lt_dataset, batch_size=params['batch_size'], shuffle=True)\n",
    "\n",
    "    \n",
    "    MODEL_PATH= r'D:\\Study 2 Results and Models\\Study 2 Optimisation\\CNN\\2022_10_05 MLP Optimisation' + '\\\\'  + str(trial_descrbn) + '-' + 'trial' + str(trial_number) + '.pt'\n",
    "\n",
    "    loss_function = nn.MSELoss()\n",
    "    optimizer = optim.Adam(model.parameters(), lr=params['learning_rate'])\n",
    "\n",
    "    train_loss = []\n",
    "    val_loss = []\n",
    "    lt_loss = []\n",
    "    dtw_loss = []\n",
    "\n",
    "    lowest_dtw = 1000.\n",
    "\n",
    "    for epoch in tqdm(range(40)):\n",
    "        train_loss_total = 0.\n",
    "        i = 0\n",
    "        model.train()\n",
    "        for idx, (batch_inputs, batch_targets) in enumerate(train_dataloader):\n",
    "            i += 1\n",
    "            model.zero_grad()\n",
    "            # print(f'train_labels shape: {batch_inputs.shape}')\n",
    "\n",
    "            batch_inputs, batch_targets = batch_inputs.to(DEVICE), batch_targets.to(DEVICE)\n",
    "            \n",
    "            # print(f'batch_inputs.shape {batch_inputs.shape}')\n",
    "            predictions = model(batch_inputs)\n",
    "            # print(f'predictions.shape {predictions.shape}')\n",
    "            # print(f'train_labels shape: {batch_targets.shape}')\n",
    "            loss = loss_function(predictions, batch_targets)\n",
    "\n",
    "            train_loss_total += loss.item()\n",
    "            loss.backward()\n",
    "            optimizer.step()\n",
    "        # print(f'len(dataloader): {len(train_dataloader)}')\n",
    "        train_loss_total = train_loss_total/len(train_dataloader)\n",
    "        train_loss.append(train_loss_total)\n",
    "\n",
    "        # Calculate validation loss\n",
    "        model.eval()\n",
    "        with torch.no_grad():\n",
    "            val_loss_total = 0.\n",
    "            for idx, (batch_inputs, batch_targets) in enumerate(val_dataloader):\n",
    "                \n",
    "\n",
    "                batch_inputs, batch_targets = batch_inputs.to(DEVICE), batch_targets.to(DEVICE)\n",
    "                predictions = model(batch_inputs)\n",
    "                # print(f'train_labels shape: {train_labels.shape}')\n",
    "                loss = loss_function(predictions, batch_targets)\n",
    "                val_loss_total += loss.item()\n",
    "        \n",
    "        val_loss_total = val_loss_total/len(val_dataloader)\n",
    "        val_loss.append(val_loss_total)\n",
    "\n",
    "        # Calculating long term loss\n",
    "        model.eval()\n",
    "        with torch.no_grad():\n",
    "            lt_loss_total = 0.\n",
    "            dtw_total = 0.\n",
    "\n",
    "            for idx, (batch_inputs, batch_targets) in enumerate(val_lt_dataloader):\n",
    "\n",
    "                extrapolation = torch.zeros((batch_inputs.shape[0], 200, len(features))).to(DEVICE)\n",
    "                # print(f'extrapolation.shape: {extrapolation.shape}')\n",
    "\n",
    "                batch_inputs, batch_targets = batch_inputs.to(DEVICE), batch_targets.to(DEVICE)\n",
    "                current_inputs = batch_inputs\n",
    "                for i in range(200):\n",
    "                    # print(f'current_inputs.shape {current_inputs.shape}')\n",
    "                    predictions = model(current_inputs)\n",
    "                    # print(f'predictions.shape {predictions.shape}')\n",
    "\n",
    "                    extrapolation[:,i,:] = predictions.squeeze(1)\n",
    "                    # print(f'current_inputs[:,1:,:].shape {current_inputs[:,1:,:].shape}')\n",
    "                    # print(f'predictions.shape {predictions.shape}')\n",
    "\n",
    "                    #concat shape [batch_size, 99, len(features)] and [batch_size, 1, len(features)]\n",
    "                    current_inputs = torch.cat((current_inputs[:,1:,:], predictions), axis=1)\n",
    "\n",
    "                loss = loss_function(extrapolation, batch_targets)\n",
    "        \n",
    "                lt_loss_total += loss.item()\n",
    "\n",
    "                #dtw\n",
    "                running_dtw = 0.\n",
    "                for s in range(batch_targets.shape[0]):\n",
    "                    for f in range(len(features)):\n",
    "                        dis = dtw(extrapolation[s,:,f].squeeze().cpu(),batch_targets[s,:,f].squeeze().cpu(), distance_only=True).distance\n",
    "                        \n",
    "                        running_dtw += dis\n",
    "\n",
    "                dtw_total += running_dtw / (batch_targets.shape[0] * len(features))\n",
    "\n",
    "        lt_loss_total = lt_loss_total/len(val_lt_dataloader)\n",
    "        lt_loss.append(lt_loss_total)\n",
    "\n",
    "        dtw_total = dtw_total / (len(val_lt_dataloader))\n",
    "        dtw_loss.append(dtw_total)\n",
    "\n",
    "        if dtw_total < lowest_dtw:\n",
    "            # print('New model saved!')\n",
    "            lowest_dtw = dtw_total\n",
    "\n",
    "            checkpoint = {'model': model,\n",
    "                    'state_dict': model.state_dict(),\n",
    "                    'epoch': epoch+1,\n",
    "                    'optimizer' : optimizer.state_dict(),\n",
    "                    'val_loss': val_loss_total, \n",
    "                    'dtw_distance': dtw_total,\n",
    "                    }\n",
    "\n",
    "            torch.save(checkpoint, MODEL_PATH)\n",
    "    \n",
    "    trial_number+=1\n",
    "    return lowest_dtw\n",
    "\n",
    "        "
   ]
  },
  {
   "cell_type": "code",
   "execution_count": 53,
   "metadata": {},
   "outputs": [],
   "source": [
    "import optuna"
   ]
  },
  {
   "cell_type": "code",
   "execution_count": 54,
   "metadata": {},
   "outputs": [],
   "source": [
    "# n_neurons = 100\n",
    "# model = MLP(n_neurons, look_back).double().to(DEVICE)\n",
    "# model = CNN().double().to(DEVICE)\n",
    "\n",
    "def objective(trial):\n",
    "\n",
    "    params = {\n",
    "            'learning_rate': trial.suggest_categorical('learning_rate', [0.1, 0.01, 0.001, 0.0001, 0.00001]),\n",
    "            'batch_size': trial.suggest_categorical('batch_size', [32,64,128,256,512]),   \n",
    "            'conv1_channels': trial.suggest_categorical('conv1_channels', [16, 32, 48]),\n",
    "            'conv2_channels': trial.suggest_categorical('conv2_channels', [32, 48, 64]),\n",
    "            'conv3_channels': trial.suggest_categorical('conv3_channels', [64, 128, 256]),\n",
    "            'conv4_channels': trial.suggest_categorical('conv4_channels', [128, 256, 512]),\n",
    "            'kernel_12': trial.suggest_int('kernel_12', 1, 5),\n",
    "            'kernel_34': trial.suggest_int('kernel_34', 1, 5),\n",
    "            'padding':trial.suggest_int('padding', 0, 4),\n",
    "            'stride':trial.suggest_int('stride', 1,4),\n",
    "            'dilation': trial.suggest_categorical('dilation', [1,2,4])\n",
    "            }\n",
    "\n",
    "    #https://stackoverflow.com/questions/58820574/how-to-sample-parameters-without-duplicates-in-optuna\n",
    "    # Check duplication and skip if it's detected.\n",
    "    for t in trial.study.trials:\n",
    "        # print(t)\n",
    "        if t.state != optuna.structs.TrialState.COMPLETE:\n",
    "            continue\n",
    "\n",
    "        if t.params == trial.params:\n",
    "            global trial_number\n",
    "            trial_number += 1\n",
    "            return t.value\n",
    "            \n",
    "    try:\n",
    "        model = CNN(params).double().to(DEVICE)\n",
    "        \n",
    "        dtw_distance = train_model(model, train_dataset, val_dataset, val_lt_dataset, params)\n",
    "    \n",
    "    except Exception:\n",
    "        dtw_distance=1000000\n",
    "\n",
    "    return dtw_distance\n",
    "\n"
   ]
  },
  {
   "cell_type": "code",
   "execution_count": 55,
   "metadata": {},
   "outputs": [
    {
     "name": "stderr",
     "output_type": "stream",
     "text": [
      "\u001b[32m[I 2022-10-04 21:27:45,033]\u001b[0m A new study created in memory with name: no-name-0b5b56f9-927a-4b45-9ecf-4715aba63e47\u001b[0m\n",
      "c:\\Users\\Rania\\Anaconda3\\envs\\study2\\lib\\site-packages\\optuna\\structs.py:18: FutureWarning: `structs` is deprecated. Classes have moved to the following modules. `structs.StudyDirection`->`study.StudyDirection`, `structs.StudySummary`->`study.StudySummary`, `structs.FrozenTrial`->`trial.FrozenTrial`, `structs.TrialState`->`trial.TrialState`, `structs.TrialPruned`->`exceptions.TrialPruned`.\n",
      "  warnings.warn(_message, FutureWarning)\n",
      "c:\\Users\\Rania\\Anaconda3\\envs\\study2\\lib\\site-packages\\torch\\nn\\init.py:388: UserWarning: Initializing zero-element tensors is a no-op\n",
      "  warnings.warn(\"Initializing zero-element tensors is a no-op\")\n"
     ]
    },
    {
     "data": {
      "application/vnd.jupyter.widget-view+json": {
       "model_id": "f640d1bec62242aabde17dbbcd5c3f01",
       "version_major": 2,
       "version_minor": 0
      },
      "text/plain": [
       "  0%|          | 0/40 [00:00<?, ?it/s]"
      ]
     },
     "metadata": {},
     "output_type": "display_data"
    },
    {
     "name": "stderr",
     "output_type": "stream",
     "text": [
      "\u001b[32m[I 2022-10-04 21:27:48,080]\u001b[0m Trial 0 finished with value: 1000000.0 and parameters: {'learning_rate': 0.001, 'batch_size': 32, 'conv1_channels': 48, 'conv2_channels': 48, 'conv3_channels': 64, 'conv4_channels': 128, 'kernel_12': 1, 'kernel_34': 5, 'padding': 0, 'stride': 2, 'dilation': 1}. Best is trial 0 with value: 1000000.0.\u001b[0m\n",
      "\u001b[32m[I 2022-10-04 21:27:48,086]\u001b[0m Trial 1 finished with value: 1000000.0 and parameters: {'learning_rate': 0.001, 'batch_size': 128, 'conv1_channels': 32, 'conv2_channels': 32, 'conv3_channels': 256, 'conv4_channels': 256, 'kernel_12': 2, 'kernel_34': 5, 'padding': 2, 'stride': 3, 'dilation': 4}. Best is trial 0 with value: 1000000.0.\u001b[0m\n",
      "c:\\Users\\Rania\\Anaconda3\\envs\\study2\\lib\\site-packages\\torch\\nn\\init.py:388: UserWarning: Initializing zero-element tensors is a no-op\n",
      "  warnings.warn(\"Initializing zero-element tensors is a no-op\")\n"
     ]
    },
    {
     "data": {
      "application/vnd.jupyter.widget-view+json": {
       "model_id": "5f3a205741da408aa4ad87f589d0fc19",
       "version_major": 2,
       "version_minor": 0
      },
      "text/plain": [
       "  0%|          | 0/40 [00:00<?, ?it/s]"
      ]
     },
     "metadata": {},
     "output_type": "display_data"
    },
    {
     "name": "stderr",
     "output_type": "stream",
     "text": [
      "\u001b[32m[I 2022-10-04 21:27:48,145]\u001b[0m Trial 2 finished with value: 1000000.0 and parameters: {'learning_rate': 0.0001, 'batch_size': 64, 'conv1_channels': 48, 'conv2_channels': 32, 'conv3_channels': 128, 'conv4_channels': 128, 'kernel_12': 3, 'kernel_34': 3, 'padding': 2, 'stride': 4, 'dilation': 1}. Best is trial 0 with value: 1000000.0.\u001b[0m\n"
     ]
    },
    {
     "data": {
      "application/vnd.jupyter.widget-view+json": {
       "model_id": "4c3be22b2528403fb7d119b4dc20a041",
       "version_major": 2,
       "version_minor": 0
      },
      "text/plain": [
       "  0%|          | 0/40 [00:00<?, ?it/s]"
      ]
     },
     "metadata": {},
     "output_type": "display_data"
    },
    {
     "name": "stderr",
     "output_type": "stream",
     "text": [
      "\u001b[32m[I 2022-10-04 21:36:59,210]\u001b[0m Trial 3 finished with value: 26.851051414381526 and parameters: {'learning_rate': 1e-05, 'batch_size': 512, 'conv1_channels': 48, 'conv2_channels': 48, 'conv3_channels': 64, 'conv4_channels': 256, 'kernel_12': 2, 'kernel_34': 5, 'padding': 4, 'stride': 4, 'dilation': 1}. Best is trial 3 with value: 26.851051414381526.\u001b[0m\n",
      "c:\\Users\\Rania\\Anaconda3\\envs\\study2\\lib\\site-packages\\torch\\nn\\init.py:388: UserWarning: Initializing zero-element tensors is a no-op\n",
      "  warnings.warn(\"Initializing zero-element tensors is a no-op\")\n"
     ]
    },
    {
     "data": {
      "application/vnd.jupyter.widget-view+json": {
       "model_id": "b918e4513ed849b7abdbe62107605b84",
       "version_major": 2,
       "version_minor": 0
      },
      "text/plain": [
       "  0%|          | 0/40 [00:00<?, ?it/s]"
      ]
     },
     "metadata": {},
     "output_type": "display_data"
    },
    {
     "name": "stderr",
     "output_type": "stream",
     "text": [
      "\u001b[32m[I 2022-10-04 21:36:59,240]\u001b[0m Trial 4 finished with value: 1000000.0 and parameters: {'learning_rate': 0.001, 'batch_size': 128, 'conv1_channels': 48, 'conv2_channels': 48, 'conv3_channels': 256, 'conv4_channels': 512, 'kernel_12': 1, 'kernel_34': 4, 'padding': 3, 'stride': 4, 'dilation': 4}. Best is trial 3 with value: 26.851051414381526.\u001b[0m\n"
     ]
    },
    {
     "data": {
      "application/vnd.jupyter.widget-view+json": {
       "model_id": "6f4f6ce897d4433fadba3dce29f02798",
       "version_major": 2,
       "version_minor": 0
      },
      "text/plain": [
       "  0%|          | 0/40 [00:00<?, ?it/s]"
      ]
     },
     "metadata": {},
     "output_type": "display_data"
    },
    {
     "name": "stderr",
     "output_type": "stream",
     "text": [
      "\u001b[32m[I 2022-10-04 22:16:13,209]\u001b[0m Trial 5 finished with value: 8.013418450685919 and parameters: {'learning_rate': 0.001, 'batch_size': 256, 'conv1_channels': 48, 'conv2_channels': 64, 'conv3_channels': 128, 'conv4_channels': 256, 'kernel_12': 2, 'kernel_34': 4, 'padding': 4, 'stride': 1, 'dilation': 2}. Best is trial 5 with value: 8.013418450685919.\u001b[0m\n"
     ]
    },
    {
     "data": {
      "application/vnd.jupyter.widget-view+json": {
       "model_id": "60c36a96a0934edb9d7455a8680e60b8",
       "version_major": 2,
       "version_minor": 0
      },
      "text/plain": [
       "  0%|          | 0/40 [00:00<?, ?it/s]"
      ]
     },
     "metadata": {},
     "output_type": "display_data"
    },
    {
     "name": "stderr",
     "output_type": "stream",
     "text": [
      "\u001b[32m[I 2022-10-04 22:47:36,281]\u001b[0m Trial 6 finished with value: 12.189168976906934 and parameters: {'learning_rate': 1e-05, 'batch_size': 256, 'conv1_channels': 48, 'conv2_channels': 48, 'conv3_channels': 128, 'conv4_channels': 512, 'kernel_12': 2, 'kernel_34': 2, 'padding': 0, 'stride': 1, 'dilation': 2}. Best is trial 5 with value: 8.013418450685919.\u001b[0m\n"
     ]
    },
    {
     "data": {
      "application/vnd.jupyter.widget-view+json": {
       "model_id": "477f32393ea74c3a9784c611126f3209",
       "version_major": 2,
       "version_minor": 0
      },
      "text/plain": [
       "  0%|          | 0/40 [00:00<?, ?it/s]"
      ]
     },
     "metadata": {},
     "output_type": "display_data"
    },
    {
     "name": "stderr",
     "output_type": "stream",
     "text": [
      "\u001b[32m[I 2022-10-04 23:01:06,844]\u001b[0m Trial 7 finished with value: 1000000.0 and parameters: {'learning_rate': 0.01, 'batch_size': 32, 'conv1_channels': 16, 'conv2_channels': 32, 'conv3_channels': 64, 'conv4_channels': 512, 'kernel_12': 4, 'kernel_34': 2, 'padding': 4, 'stride': 1, 'dilation': 4}. Best is trial 5 with value: 8.013418450685919.\u001b[0m\n",
      "c:\\Users\\Rania\\Anaconda3\\envs\\study2\\lib\\site-packages\\torch\\nn\\init.py:388: UserWarning: Initializing zero-element tensors is a no-op\n",
      "  warnings.warn(\"Initializing zero-element tensors is a no-op\")\n"
     ]
    },
    {
     "data": {
      "application/vnd.jupyter.widget-view+json": {
       "model_id": "8cb317fb1d6e49efae013d9787db960b",
       "version_major": 2,
       "version_minor": 0
      },
      "text/plain": [
       "  0%|          | 0/40 [00:00<?, ?it/s]"
      ]
     },
     "metadata": {},
     "output_type": "display_data"
    },
    {
     "name": "stderr",
     "output_type": "stream",
     "text": [
      "\u001b[32m[I 2022-10-04 23:01:06,875]\u001b[0m Trial 8 finished with value: 1000000.0 and parameters: {'learning_rate': 0.1, 'batch_size': 512, 'conv1_channels': 16, 'conv2_channels': 32, 'conv3_channels': 128, 'conv4_channels': 256, 'kernel_12': 3, 'kernel_34': 3, 'padding': 2, 'stride': 4, 'dilation': 4}. Best is trial 5 with value: 8.013418450685919.\u001b[0m\n"
     ]
    },
    {
     "data": {
      "application/vnd.jupyter.widget-view+json": {
       "model_id": "a9320e9504f947f690340d572a8e686a",
       "version_major": 2,
       "version_minor": 0
      },
      "text/plain": [
       "  0%|          | 0/40 [00:00<?, ?it/s]"
      ]
     },
     "metadata": {},
     "output_type": "display_data"
    },
    {
     "name": "stderr",
     "output_type": "stream",
     "text": [
      "\u001b[32m[I 2022-10-04 23:29:13,233]\u001b[0m Trial 9 finished with value: 7.073466507209685 and parameters: {'learning_rate': 0.0001, 'batch_size': 128, 'conv1_channels': 48, 'conv2_channels': 32, 'conv3_channels': 256, 'conv4_channels': 128, 'kernel_12': 5, 'kernel_34': 3, 'padding': 0, 'stride': 1, 'dilation': 2}. Best is trial 9 with value: 7.073466507209685.\u001b[0m\n"
     ]
    },
    {
     "data": {
      "application/vnd.jupyter.widget-view+json": {
       "model_id": "7e12f394994d4880af16168c869db640",
       "version_major": 2,
       "version_minor": 0
      },
      "text/plain": [
       "  0%|          | 0/40 [00:00<?, ?it/s]"
      ]
     },
     "metadata": {},
     "output_type": "display_data"
    },
    {
     "name": "stderr",
     "output_type": "stream",
     "text": [
      "\u001b[32m[I 2022-10-04 23:40:36,624]\u001b[0m Trial 10 finished with value: 12.594866577365384 and parameters: {'learning_rate': 0.0001, 'batch_size': 128, 'conv1_channels': 32, 'conv2_channels': 64, 'conv3_channels': 256, 'conv4_channels': 128, 'kernel_12': 5, 'kernel_34': 1, 'padding': 1, 'stride': 2, 'dilation': 2}. Best is trial 9 with value: 7.073466507209685.\u001b[0m\n"
     ]
    },
    {
     "data": {
      "application/vnd.jupyter.widget-view+json": {
       "model_id": "d4f8b8bfffac4fc9a8d230775342ac9d",
       "version_major": 2,
       "version_minor": 0
      },
      "text/plain": [
       "  0%|          | 0/40 [00:00<?, ?it/s]"
      ]
     },
     "metadata": {},
     "output_type": "display_data"
    },
    {
     "name": "stderr",
     "output_type": "stream",
     "text": [
      "\u001b[32m[I 2022-10-05 00:19:05,072]\u001b[0m Trial 11 finished with value: 9.298655622482851 and parameters: {'learning_rate': 0.0001, 'batch_size': 256, 'conv1_channels': 48, 'conv2_channels': 64, 'conv3_channels': 128, 'conv4_channels': 256, 'kernel_12': 5, 'kernel_34': 4, 'padding': 3, 'stride': 1, 'dilation': 2}. Best is trial 9 with value: 7.073466507209685.\u001b[0m\n",
      "c:\\Users\\Rania\\Anaconda3\\envs\\study2\\lib\\site-packages\\torch\\nn\\init.py:388: UserWarning: Initializing zero-element tensors is a no-op\n",
      "  warnings.warn(\"Initializing zero-element tensors is a no-op\")\n"
     ]
    },
    {
     "data": {
      "application/vnd.jupyter.widget-view+json": {
       "model_id": "807076b202cb41ae9cace200d12302c4",
       "version_major": 2,
       "version_minor": 0
      },
      "text/plain": [
       "  0%|          | 0/40 [00:00<?, ?it/s]"
      ]
     },
     "metadata": {},
     "output_type": "display_data"
    },
    {
     "name": "stderr",
     "output_type": "stream",
     "text": [
      "\u001b[32m[I 2022-10-05 00:19:05,112]\u001b[0m Trial 12 finished with value: 1000000.0 and parameters: {'learning_rate': 0.1, 'batch_size': 256, 'conv1_channels': 48, 'conv2_channels': 64, 'conv3_channels': 256, 'conv4_channels': 128, 'kernel_12': 4, 'kernel_34': 4, 'padding': 1, 'stride': 2, 'dilation': 2}. Best is trial 9 with value: 7.073466507209685.\u001b[0m\n"
     ]
    },
    {
     "data": {
      "application/vnd.jupyter.widget-view+json": {
       "model_id": "b8659be44e2a4b7aa10240cb4e8f44f2",
       "version_major": 2,
       "version_minor": 0
      },
      "text/plain": [
       "  0%|          | 0/40 [00:00<?, ?it/s]"
      ]
     },
     "metadata": {},
     "output_type": "display_data"
    },
    {
     "name": "stderr",
     "output_type": "stream",
     "text": [
      "\u001b[32m[I 2022-10-05 00:52:12,304]\u001b[0m Trial 13 finished with value: 14.534093103741915 and parameters: {'learning_rate': 0.01, 'batch_size': 64, 'conv1_channels': 48, 'conv2_channels': 64, 'conv3_channels': 256, 'conv4_channels': 128, 'kernel_12': 4, 'kernel_34': 2, 'padding': 3, 'stride': 1, 'dilation': 2}. Best is trial 9 with value: 7.073466507209685.\u001b[0m\n",
      "c:\\Users\\Rania\\Anaconda3\\envs\\study2\\lib\\site-packages\\torch\\nn\\init.py:388: UserWarning: Initializing zero-element tensors is a no-op\n",
      "  warnings.warn(\"Initializing zero-element tensors is a no-op\")\n"
     ]
    },
    {
     "data": {
      "application/vnd.jupyter.widget-view+json": {
       "model_id": "261c173da805417893ffc73c6d252481",
       "version_major": 2,
       "version_minor": 0
      },
      "text/plain": [
       "  0%|          | 0/40 [00:00<?, ?it/s]"
      ]
     },
     "metadata": {},
     "output_type": "display_data"
    },
    {
     "name": "stderr",
     "output_type": "stream",
     "text": [
      "\u001b[32m[I 2022-10-05 00:52:12,342]\u001b[0m Trial 14 finished with value: 1000000.0 and parameters: {'learning_rate': 0.0001, 'batch_size': 256, 'conv1_channels': 32, 'conv2_channels': 64, 'conv3_channels': 128, 'conv4_channels': 256, 'kernel_12': 2, 'kernel_34': 3, 'padding': 1, 'stride': 3, 'dilation': 2}. Best is trial 9 with value: 7.073466507209685.\u001b[0m\n",
      "c:\\Users\\Rania\\Anaconda3\\envs\\study2\\lib\\site-packages\\torch\\nn\\init.py:388: UserWarning: Initializing zero-element tensors is a no-op\n",
      "  warnings.warn(\"Initializing zero-element tensors is a no-op\")\n"
     ]
    },
    {
     "data": {
      "application/vnd.jupyter.widget-view+json": {
       "model_id": "fd67c0929964446c992172de4a3bb086",
       "version_major": 2,
       "version_minor": 0
      },
      "text/plain": [
       "  0%|          | 0/40 [00:00<?, ?it/s]"
      ]
     },
     "metadata": {},
     "output_type": "display_data"
    },
    {
     "name": "stderr",
     "output_type": "stream",
     "text": [
      "\u001b[32m[I 2022-10-05 00:52:12,381]\u001b[0m Trial 15 finished with value: 1000000.0 and parameters: {'learning_rate': 0.001, 'batch_size': 128, 'conv1_channels': 16, 'conv2_channels': 32, 'conv3_channels': 128, 'conv4_channels': 256, 'kernel_12': 5, 'kernel_34': 4, 'padding': 0, 'stride': 2, 'dilation': 2}. Best is trial 9 with value: 7.073466507209685.\u001b[0m\n"
     ]
    },
    {
     "data": {
      "application/vnd.jupyter.widget-view+json": {
       "model_id": "86edd7d36a98494789847044bec13cf9",
       "version_major": 2,
       "version_minor": 0
      },
      "text/plain": [
       "  0%|          | 0/40 [00:00<?, ?it/s]"
      ]
     },
     "metadata": {},
     "output_type": "display_data"
    },
    {
     "name": "stderr",
     "output_type": "stream",
     "text": [
      "\u001b[32m[I 2022-10-05 01:16:48,670]\u001b[0m Trial 16 finished with value: 8.574075178756612 and parameters: {'learning_rate': 0.0001, 'batch_size': 128, 'conv1_channels': 48, 'conv2_channels': 64, 'conv3_channels': 256, 'conv4_channels': 128, 'kernel_12': 3, 'kernel_34': 1, 'padding': 4, 'stride': 1, 'dilation': 2}. Best is trial 9 with value: 7.073466507209685.\u001b[0m\n"
     ]
    },
    {
     "data": {
      "application/vnd.jupyter.widget-view+json": {
       "model_id": "4f58c0cf0ba647d5a17ca532036a6498",
       "version_major": 2,
       "version_minor": 0
      },
      "text/plain": [
       "  0%|          | 0/40 [00:00<?, ?it/s]"
      ]
     },
     "metadata": {},
     "output_type": "display_data"
    },
    {
     "name": "stderr",
     "output_type": "stream",
     "text": [
      "\u001b[32m[I 2022-10-05 01:54:02,779]\u001b[0m Trial 17 finished with value: 9.633886266834157 and parameters: {'learning_rate': 0.001, 'batch_size': 256, 'conv1_channels': 48, 'conv2_channels': 32, 'conv3_channels': 256, 'conv4_channels': 128, 'kernel_12': 4, 'kernel_34': 4, 'padding': 3, 'stride': 1, 'dilation': 2}. Best is trial 9 with value: 7.073466507209685.\u001b[0m\n",
      "c:\\Users\\Rania\\Anaconda3\\envs\\study2\\lib\\site-packages\\torch\\nn\\init.py:388: UserWarning: Initializing zero-element tensors is a no-op\n",
      "  warnings.warn(\"Initializing zero-element tensors is a no-op\")\n"
     ]
    },
    {
     "data": {
      "application/vnd.jupyter.widget-view+json": {
       "model_id": "8266fb0e6e4c4e11b944d133c654558b",
       "version_major": 2,
       "version_minor": 0
      },
      "text/plain": [
       "  0%|          | 0/40 [00:00<?, ?it/s]"
      ]
     },
     "metadata": {},
     "output_type": "display_data"
    },
    {
     "name": "stderr",
     "output_type": "stream",
     "text": [
      "\u001b[32m[I 2022-10-05 01:54:02,817]\u001b[0m Trial 18 finished with value: 1000000.0 and parameters: {'learning_rate': 0.1, 'batch_size': 64, 'conv1_channels': 16, 'conv2_channels': 32, 'conv3_channels': 128, 'conv4_channels': 256, 'kernel_12': 3, 'kernel_34': 3, 'padding': 1, 'stride': 3, 'dilation': 2}. Best is trial 9 with value: 7.073466507209685.\u001b[0m\n"
     ]
    },
    {
     "data": {
      "application/vnd.jupyter.widget-view+json": {
       "model_id": "03c484a3d78e4980997480628294048c",
       "version_major": 2,
       "version_minor": 0
      },
      "text/plain": [
       "  0%|          | 0/40 [00:00<?, ?it/s]"
      ]
     },
     "metadata": {},
     "output_type": "display_data"
    },
    {
     "name": "stderr",
     "output_type": "stream",
     "text": [
      "\u001b[32m[I 2022-10-05 02:10:59,102]\u001b[0m Trial 19 finished with value: 9.053972240367484 and parameters: {'learning_rate': 0.01, 'batch_size': 32, 'conv1_channels': 32, 'conv2_channels': 64, 'conv3_channels': 64, 'conv4_channels': 512, 'kernel_12': 1, 'kernel_34': 3, 'padding': 0, 'stride': 2, 'dilation': 1}. Best is trial 9 with value: 7.073466507209685.\u001b[0m\n"
     ]
    },
    {
     "data": {
      "application/vnd.jupyter.widget-view+json": {
       "model_id": "72a389d056624de2b4834f3e1302db33",
       "version_major": 2,
       "version_minor": 0
      },
      "text/plain": [
       "  0%|          | 0/40 [00:00<?, ?it/s]"
      ]
     },
     "metadata": {},
     "output_type": "display_data"
    },
    {
     "name": "stderr",
     "output_type": "stream",
     "text": [
      "\u001b[32m[I 2022-10-05 02:41:01,046]\u001b[0m Trial 20 finished with value: 8.516791787949339 and parameters: {'learning_rate': 1e-05, 'batch_size': 512, 'conv1_channels': 48, 'conv2_channels': 64, 'conv3_channels': 256, 'conv4_channels': 128, 'kernel_12': 2, 'kernel_34': 2, 'padding': 4, 'stride': 1, 'dilation': 2}. Best is trial 9 with value: 7.073466507209685.\u001b[0m\n",
      "\u001b[32m[I 2022-10-05 02:41:01,063]\u001b[0m Trial 21 finished with value: 8.516791787949339 and parameters: {'learning_rate': 1e-05, 'batch_size': 512, 'conv1_channels': 48, 'conv2_channels': 64, 'conv3_channels': 256, 'conv4_channels': 128, 'kernel_12': 2, 'kernel_34': 2, 'padding': 4, 'stride': 1, 'dilation': 2}. Best is trial 9 with value: 7.073466507209685.\u001b[0m\n",
      "\u001b[32m[I 2022-10-05 02:41:01,077]\u001b[0m Trial 22 finished with value: 8.516791787949339 and parameters: {'learning_rate': 1e-05, 'batch_size': 512, 'conv1_channels': 48, 'conv2_channels': 64, 'conv3_channels': 256, 'conv4_channels': 128, 'kernel_12': 2, 'kernel_34': 2, 'padding': 4, 'stride': 1, 'dilation': 2}. Best is trial 9 with value: 7.073466507209685.\u001b[0m\n"
     ]
    },
    {
     "data": {
      "application/vnd.jupyter.widget-view+json": {
       "model_id": "a21c81bbcf4a4e91bf23b992868b81df",
       "version_major": 2,
       "version_minor": 0
      },
      "text/plain": [
       "  0%|          | 0/40 [00:00<?, ?it/s]"
      ]
     },
     "metadata": {},
     "output_type": "display_data"
    },
    {
     "name": "stderr",
     "output_type": "stream",
     "text": [
      "\u001b[32m[I 2022-10-05 02:51:10,671]\u001b[0m Trial 23 finished with value: 23.405412902633177 and parameters: {'learning_rate': 1e-05, 'batch_size': 512, 'conv1_channels': 48, 'conv2_channels': 64, 'conv3_channels': 256, 'conv4_channels': 128, 'kernel_12': 1, 'kernel_34': 1, 'padding': 3, 'stride': 2, 'dilation': 2}. Best is trial 9 with value: 7.073466507209685.\u001b[0m\n"
     ]
    },
    {
     "data": {
      "application/vnd.jupyter.widget-view+json": {
       "model_id": "637b8252ab4546309244d99802ceea17",
       "version_major": 2,
       "version_minor": 0
      },
      "text/plain": [
       "  0%|          | 0/40 [00:00<?, ?it/s]"
      ]
     },
     "metadata": {},
     "output_type": "display_data"
    },
    {
     "name": "stderr",
     "output_type": "stream",
     "text": [
      "\u001b[32m[I 2022-10-05 03:36:26,667]\u001b[0m Trial 24 finished with value: 9.079544535013673 and parameters: {'learning_rate': 0.001, 'batch_size': 128, 'conv1_channels': 48, 'conv2_channels': 64, 'conv3_channels': 256, 'conv4_channels': 128, 'kernel_12': 3, 'kernel_34': 4, 'padding': 4, 'stride': 1, 'dilation': 2}. Best is trial 9 with value: 7.073466507209685.\u001b[0m\n"
     ]
    },
    {
     "data": {
      "application/vnd.jupyter.widget-view+json": {
       "model_id": "93699ba85e0c45e2a7e245b9462f10a1",
       "version_major": 2,
       "version_minor": 0
      },
      "text/plain": [
       "  0%|          | 0/40 [00:00<?, ?it/s]"
      ]
     },
     "metadata": {},
     "output_type": "display_data"
    },
    {
     "name": "stderr",
     "output_type": "stream",
     "text": [
      "\u001b[32m[I 2022-10-05 04:05:59,144]\u001b[0m Trial 25 finished with value: 11.622596517068326 and parameters: {'learning_rate': 1e-05, 'batch_size': 512, 'conv1_channels': 48, 'conv2_channels': 32, 'conv3_channels': 128, 'conv4_channels': 256, 'kernel_12': 2, 'kernel_34': 3, 'padding': 3, 'stride': 1, 'dilation': 2}. Best is trial 9 with value: 7.073466507209685.\u001b[0m\n"
     ]
    },
    {
     "data": {
      "application/vnd.jupyter.widget-view+json": {
       "model_id": "26c16d64330e40038849339ab4acb199",
       "version_major": 2,
       "version_minor": 0
      },
      "text/plain": [
       "  0%|          | 0/40 [00:00<?, ?it/s]"
      ]
     },
     "metadata": {},
     "output_type": "display_data"
    },
    {
     "name": "stderr",
     "output_type": "stream",
     "text": [
      "\u001b[32m[I 2022-10-05 04:18:16,758]\u001b[0m Trial 26 finished with value: 7.189079296259806 and parameters: {'learning_rate': 0.0001, 'batch_size': 256, 'conv1_channels': 48, 'conv2_channels': 64, 'conv3_channels': 256, 'conv4_channels': 128, 'kernel_12': 3, 'kernel_34': 2, 'padding': 2, 'stride': 2, 'dilation': 2}. Best is trial 9 with value: 7.073466507209685.\u001b[0m\n",
      "c:\\Users\\Rania\\Anaconda3\\envs\\study2\\lib\\site-packages\\torch\\nn\\init.py:388: UserWarning: Initializing zero-element tensors is a no-op\n",
      "  warnings.warn(\"Initializing zero-element tensors is a no-op\")\n"
     ]
    },
    {
     "data": {
      "application/vnd.jupyter.widget-view+json": {
       "model_id": "845c9ac19d1b4f0095c5b6ec1abb6f8c",
       "version_major": 2,
       "version_minor": 0
      },
      "text/plain": [
       "  0%|          | 0/40 [00:00<?, ?it/s]"
      ]
     },
     "metadata": {},
     "output_type": "display_data"
    },
    {
     "name": "stderr",
     "output_type": "stream",
     "text": [
      "\u001b[32m[I 2022-10-05 04:18:16,801]\u001b[0m Trial 27 finished with value: 1000000.0 and parameters: {'learning_rate': 0.0001, 'batch_size': 256, 'conv1_channels': 16, 'conv2_channels': 48, 'conv3_channels': 64, 'conv4_channels': 512, 'kernel_12': 4, 'kernel_34': 3, 'padding': 2, 'stride': 2, 'dilation': 4}. Best is trial 9 with value: 7.073466507209685.\u001b[0m\n",
      "c:\\Users\\Rania\\Anaconda3\\envs\\study2\\lib\\site-packages\\torch\\nn\\init.py:388: UserWarning: Initializing zero-element tensors is a no-op\n",
      "  warnings.warn(\"Initializing zero-element tensors is a no-op\")\n"
     ]
    },
    {
     "data": {
      "application/vnd.jupyter.widget-view+json": {
       "model_id": "f738ad4d2d4c4e2d8c333c283fc48910",
       "version_major": 2,
       "version_minor": 0
      },
      "text/plain": [
       "  0%|          | 0/40 [00:00<?, ?it/s]"
      ]
     },
     "metadata": {},
     "output_type": "display_data"
    },
    {
     "name": "stderr",
     "output_type": "stream",
     "text": [
      "\u001b[32m[I 2022-10-05 04:18:16,850]\u001b[0m Trial 28 finished with value: 1000000.0 and parameters: {'learning_rate': 0.0001, 'batch_size': 256, 'conv1_channels': 32, 'conv2_channels': 64, 'conv3_channels': 256, 'conv4_channels': 128, 'kernel_12': 3, 'kernel_34': 3, 'padding': 1, 'stride': 3, 'dilation': 1}. Best is trial 9 with value: 7.073466507209685.\u001b[0m\n",
      "\u001b[32m[I 2022-10-05 04:18:16,870]\u001b[0m Trial 29 finished with value: 1000000.0 and parameters: {'learning_rate': 0.0001, 'batch_size': 256, 'conv1_channels': 48, 'conv2_channels': 32, 'conv3_channels': 128, 'conv4_channels': 256, 'kernel_12': 5, 'kernel_34': 5, 'padding': 0, 'stride': 2, 'dilation': 2}. Best is trial 9 with value: 7.073466507209685.\u001b[0m\n"
     ]
    },
    {
     "data": {
      "application/vnd.jupyter.widget-view+json": {
       "model_id": "c8c6c0cefa4e4d2f9c4edc840ee988fe",
       "version_major": 2,
       "version_minor": 0
      },
      "text/plain": [
       "  0%|          | 0/40 [00:00<?, ?it/s]"
      ]
     },
     "metadata": {},
     "output_type": "display_data"
    },
    {
     "name": "stderr",
     "output_type": "stream",
     "text": [
      "\u001b[32m[I 2022-10-05 04:35:50,703]\u001b[0m Trial 30 finished with value: 13.406577968643466 and parameters: {'learning_rate': 0.001, 'batch_size': 32, 'conv1_channels': 48, 'conv2_channels': 48, 'conv3_channels': 64, 'conv4_channels': 128, 'kernel_12': 3, 'kernel_34': 2, 'padding': 2, 'stride': 2, 'dilation': 1}. Best is trial 9 with value: 7.073466507209685.\u001b[0m\n"
     ]
    },
    {
     "data": {
      "application/vnd.jupyter.widget-view+json": {
       "model_id": "5c998172c70a429391a74b657c01bb7c",
       "version_major": 2,
       "version_minor": 0
      },
      "text/plain": [
       "  0%|          | 0/40 [00:00<?, ?it/s]"
      ]
     },
     "metadata": {},
     "output_type": "display_data"
    },
    {
     "name": "stderr",
     "output_type": "stream",
     "text": [
      "\u001b[32m[I 2022-10-05 05:05:39,368]\u001b[0m Trial 31 finished with value: 9.129232215031077 and parameters: {'learning_rate': 0.0001, 'batch_size': 256, 'conv1_channels': 48, 'conv2_channels': 64, 'conv3_channels': 256, 'conv4_channels': 128, 'kernel_12': 1, 'kernel_34': 2, 'padding': 4, 'stride': 1, 'dilation': 2}. Best is trial 9 with value: 7.073466507209685.\u001b[0m\n"
     ]
    },
    {
     "data": {
      "application/vnd.jupyter.widget-view+json": {
       "model_id": "34102a02244c41ce814f51556264d2c4",
       "version_major": 2,
       "version_minor": 0
      },
      "text/plain": [
       "  0%|          | 0/40 [00:00<?, ?it/s]"
      ]
     },
     "metadata": {},
     "output_type": "display_data"
    },
    {
     "name": "stderr",
     "output_type": "stream",
     "text": [
      "\u001b[32m[I 2022-10-05 05:28:09,849]\u001b[0m Trial 32 finished with value: 12.002462698503644 and parameters: {'learning_rate': 0.001, 'batch_size': 128, 'conv1_channels': 48, 'conv2_channels': 64, 'conv3_channels': 256, 'conv4_channels': 128, 'kernel_12': 2, 'kernel_34': 1, 'padding': 3, 'stride': 1, 'dilation': 2}. Best is trial 9 with value: 7.073466507209685.\u001b[0m\n"
     ]
    },
    {
     "data": {
      "application/vnd.jupyter.widget-view+json": {
       "model_id": "d7eeded38fbe4d2aa3aa3bcc4c6fc0ea",
       "version_major": 2,
       "version_minor": 0
      },
      "text/plain": [
       "  0%|          | 0/40 [00:00<?, ?it/s]"
      ]
     },
     "metadata": {},
     "output_type": "display_data"
    },
    {
     "name": "stderr",
     "output_type": "stream",
     "text": [
      "\u001b[32m[I 2022-10-05 05:55:56,951]\u001b[0m Trial 33 finished with value: 11.10058389300573 and parameters: {'learning_rate': 0.0001, 'batch_size': 256, 'conv1_channels': 48, 'conv2_channels': 64, 'conv3_channels': 256, 'conv4_channels': 128, 'kernel_12': 2, 'kernel_34': 2, 'padding': 2, 'stride': 1, 'dilation': 2}. Best is trial 9 with value: 7.073466507209685.\u001b[0m\n"
     ]
    },
    {
     "data": {
      "application/vnd.jupyter.widget-view+json": {
       "model_id": "675741f367ae43e382f4e26d686a9a2a",
       "version_major": 2,
       "version_minor": 0
      },
      "text/plain": [
       "  0%|          | 0/40 [00:00<?, ?it/s]"
      ]
     },
     "metadata": {},
     "output_type": "display_data"
    },
    {
     "name": "stderr",
     "output_type": "stream",
     "text": [
      "\u001b[32m[I 2022-10-05 06:15:25,901]\u001b[0m Trial 34 finished with value: 7.139807711841629 and parameters: {'learning_rate': 1e-05, 'batch_size': 64, 'conv1_channels': 48, 'conv2_channels': 64, 'conv3_channels': 256, 'conv4_channels': 128, 'kernel_12': 3, 'kernel_34': 5, 'padding': 4, 'stride': 2, 'dilation': 2}. Best is trial 9 with value: 7.073466507209685.\u001b[0m\n",
      "\u001b[32m[I 2022-10-05 06:15:25,922]\u001b[0m Trial 35 finished with value: 1000000.0 and parameters: {'learning_rate': 0.001, 'batch_size': 64, 'conv1_channels': 48, 'conv2_channels': 32, 'conv3_channels': 256, 'conv4_channels': 128, 'kernel_12': 3, 'kernel_34': 5, 'padding': 2, 'stride': 2, 'dilation': 4}. Best is trial 9 with value: 7.073466507209685.\u001b[0m\n"
     ]
    },
    {
     "data": {
      "application/vnd.jupyter.widget-view+json": {
       "model_id": "ec385bf5aa194284988fab7e28287e4e",
       "version_major": 2,
       "version_minor": 0
      },
      "text/plain": [
       "  0%|          | 0/40 [00:00<?, ?it/s]"
      ]
     },
     "metadata": {},
     "output_type": "display_data"
    },
    {
     "name": "stderr",
     "output_type": "stream",
     "text": [
      "\u001b[32m[I 2022-10-05 06:36:49,064]\u001b[0m Trial 36 finished with value: 7.169075507971867 and parameters: {'learning_rate': 0.0001, 'batch_size': 64, 'conv1_channels': 48, 'conv2_channels': 48, 'conv3_channels': 256, 'conv4_channels': 256, 'kernel_12': 4, 'kernel_34': 5, 'padding': 3, 'stride': 3, 'dilation': 1}. Best is trial 9 with value: 7.073466507209685.\u001b[0m\n"
     ]
    },
    {
     "data": {
      "application/vnd.jupyter.widget-view+json": {
       "model_id": "9a0e608ced9d465aa46d8bf105362c02",
       "version_major": 2,
       "version_minor": 0
      },
      "text/plain": [
       "  0%|          | 0/40 [00:00<?, ?it/s]"
      ]
     },
     "metadata": {},
     "output_type": "display_data"
    },
    {
     "name": "stderr",
     "output_type": "stream",
     "text": [
      "\u001b[32m[I 2022-10-05 06:56:19,545]\u001b[0m Trial 37 finished with value: 7.060743159197488 and parameters: {'learning_rate': 0.0001, 'batch_size': 64, 'conv1_channels': 48, 'conv2_channels': 48, 'conv3_channels': 256, 'conv4_channels': 128, 'kernel_12': 4, 'kernel_34': 5, 'padding': 3, 'stride': 3, 'dilation': 1}. Best is trial 37 with value: 7.060743159197488.\u001b[0m\n"
     ]
    },
    {
     "data": {
      "application/vnd.jupyter.widget-view+json": {
       "model_id": "de0acc5ab09744b8869ba6629774d72d",
       "version_major": 2,
       "version_minor": 0
      },
      "text/plain": [
       "  0%|          | 0/40 [00:00<?, ?it/s]"
      ]
     },
     "metadata": {},
     "output_type": "display_data"
    },
    {
     "name": "stderr",
     "output_type": "stream",
     "text": [
      "\u001b[32m[I 2022-10-05 07:21:02,832]\u001b[0m Trial 38 finished with value: 6.836657766935727 and parameters: {'learning_rate': 0.0001, 'batch_size': 64, 'conv1_channels': 32, 'conv2_channels': 48, 'conv3_channels': 256, 'conv4_channels': 512, 'kernel_12': 4, 'kernel_34': 5, 'padding': 3, 'stride': 3, 'dilation': 1}. Best is trial 38 with value: 6.836657766935727.\u001b[0m\n"
     ]
    },
    {
     "data": {
      "application/vnd.jupyter.widget-view+json": {
       "model_id": "e9fcaa9cf5e94d66affcdb2c091222e9",
       "version_major": 2,
       "version_minor": 0
      },
      "text/plain": [
       "  0%|          | 0/40 [00:00<?, ?it/s]"
      ]
     },
     "metadata": {},
     "output_type": "display_data"
    },
    {
     "name": "stderr",
     "output_type": "stream",
     "text": [
      "\u001b[32m[I 2022-10-05 07:45:13,514]\u001b[0m Trial 39 finished with value: 7.0410463231385645 and parameters: {'learning_rate': 0.0001, 'batch_size': 64, 'conv1_channels': 32, 'conv2_channels': 48, 'conv3_channels': 256, 'conv4_channels': 512, 'kernel_12': 5, 'kernel_34': 5, 'padding': 3, 'stride': 3, 'dilation': 1}. Best is trial 38 with value: 6.836657766935727.\u001b[0m\n",
      "c:\\Users\\Rania\\Anaconda3\\envs\\study2\\lib\\site-packages\\torch\\nn\\init.py:388: UserWarning: Initializing zero-element tensors is a no-op\n",
      "  warnings.warn(\"Initializing zero-element tensors is a no-op\")\n"
     ]
    },
    {
     "data": {
      "application/vnd.jupyter.widget-view+json": {
       "model_id": "5c2d909e96374885996feac3fe9fe86b",
       "version_major": 2,
       "version_minor": 0
      },
      "text/plain": [
       "  0%|          | 0/40 [00:00<?, ?it/s]"
      ]
     },
     "metadata": {},
     "output_type": "display_data"
    },
    {
     "name": "stderr",
     "output_type": "stream",
     "text": [
      "\u001b[32m[I 2022-10-05 07:45:13,563]\u001b[0m Trial 40 finished with value: 1000000.0 and parameters: {'learning_rate': 0.0001, 'batch_size': 64, 'conv1_channels': 32, 'conv2_channels': 48, 'conv3_channels': 256, 'conv4_channels': 512, 'kernel_12': 5, 'kernel_34': 5, 'padding': 3, 'stride': 4, 'dilation': 1}. Best is trial 38 with value: 6.836657766935727.\u001b[0m\n",
      "\u001b[32m[I 2022-10-05 07:45:13,584]\u001b[0m Trial 41 finished with value: 7.0410463231385645 and parameters: {'learning_rate': 0.0001, 'batch_size': 64, 'conv1_channels': 32, 'conv2_channels': 48, 'conv3_channels': 256, 'conv4_channels': 512, 'kernel_12': 5, 'kernel_34': 5, 'padding': 3, 'stride': 3, 'dilation': 1}. Best is trial 38 with value: 6.836657766935727.\u001b[0m\n",
      "\u001b[32m[I 2022-10-05 07:45:13,605]\u001b[0m Trial 42 finished with value: 7.0410463231385645 and parameters: {'learning_rate': 0.0001, 'batch_size': 64, 'conv1_channels': 32, 'conv2_channels': 48, 'conv3_channels': 256, 'conv4_channels': 512, 'kernel_12': 5, 'kernel_34': 5, 'padding': 3, 'stride': 3, 'dilation': 1}. Best is trial 38 with value: 6.836657766935727.\u001b[0m\n",
      "\u001b[32m[I 2022-10-05 07:45:13,630]\u001b[0m Trial 43 finished with value: 7.0410463231385645 and parameters: {'learning_rate': 0.0001, 'batch_size': 64, 'conv1_channels': 32, 'conv2_channels': 48, 'conv3_channels': 256, 'conv4_channels': 512, 'kernel_12': 5, 'kernel_34': 5, 'padding': 3, 'stride': 3, 'dilation': 1}. Best is trial 38 with value: 6.836657766935727.\u001b[0m\n",
      "\u001b[32m[I 2022-10-05 07:45:13,651]\u001b[0m Trial 44 finished with value: 7.0410463231385645 and parameters: {'learning_rate': 0.0001, 'batch_size': 64, 'conv1_channels': 32, 'conv2_channels': 48, 'conv3_channels': 256, 'conv4_channels': 512, 'kernel_12': 5, 'kernel_34': 5, 'padding': 3, 'stride': 3, 'dilation': 1}. Best is trial 38 with value: 6.836657766935727.\u001b[0m\n",
      "\u001b[32m[I 2022-10-05 07:45:13,672]\u001b[0m Trial 45 finished with value: 7.0410463231385645 and parameters: {'learning_rate': 0.0001, 'batch_size': 64, 'conv1_channels': 32, 'conv2_channels': 48, 'conv3_channels': 256, 'conv4_channels': 512, 'kernel_12': 5, 'kernel_34': 5, 'padding': 3, 'stride': 3, 'dilation': 1}. Best is trial 38 with value: 6.836657766935727.\u001b[0m\n"
     ]
    },
    {
     "data": {
      "application/vnd.jupyter.widget-view+json": {
       "model_id": "e19f91b17fd04507b1bfc7d1a299cf63",
       "version_major": 2,
       "version_minor": 0
      },
      "text/plain": [
       "  0%|          | 0/40 [00:00<?, ?it/s]"
      ]
     },
     "metadata": {},
     "output_type": "display_data"
    },
    {
     "name": "stderr",
     "output_type": "stream",
     "text": [
      "\u001b[32m[I 2022-10-05 08:00:21,234]\u001b[0m Trial 46 finished with value: 7.825577151662299 and parameters: {'learning_rate': 0.0001, 'batch_size': 64, 'conv1_channels': 32, 'conv2_channels': 48, 'conv3_channels': 64, 'conv4_channels': 512, 'kernel_12': 5, 'kernel_34': 5, 'padding': 3, 'stride': 3, 'dilation': 1}. Best is trial 38 with value: 6.836657766935727.\u001b[0m\n",
      "c:\\Users\\Rania\\Anaconda3\\envs\\study2\\lib\\site-packages\\torch\\nn\\init.py:388: UserWarning: Initializing zero-element tensors is a no-op\n",
      "  warnings.warn(\"Initializing zero-element tensors is a no-op\")\n"
     ]
    },
    {
     "data": {
      "application/vnd.jupyter.widget-view+json": {
       "model_id": "ec3ffcc9b6e040daac54b58dd30445e7",
       "version_major": 2,
       "version_minor": 0
      },
      "text/plain": [
       "  0%|          | 0/40 [00:00<?, ?it/s]"
      ]
     },
     "metadata": {},
     "output_type": "display_data"
    },
    {
     "name": "stderr",
     "output_type": "stream",
     "text": [
      "\u001b[32m[I 2022-10-05 08:00:21,282]\u001b[0m Trial 47 finished with value: 1000000.0 and parameters: {'learning_rate': 0.01, 'batch_size': 64, 'conv1_channels': 32, 'conv2_channels': 48, 'conv3_channels': 256, 'conv4_channels': 512, 'kernel_12': 5, 'kernel_34': 5, 'padding': 3, 'stride': 4, 'dilation': 1}. Best is trial 38 with value: 6.836657766935727.\u001b[0m\n"
     ]
    },
    {
     "data": {
      "application/vnd.jupyter.widget-view+json": {
       "model_id": "9ef5322412964f00adf8f1471e3cd614",
       "version_major": 2,
       "version_minor": 0
      },
      "text/plain": [
       "  0%|          | 0/40 [00:00<?, ?it/s]"
      ]
     },
     "metadata": {},
     "output_type": "display_data"
    },
    {
     "name": "stderr",
     "output_type": "stream",
     "text": [
      "\u001b[32m[I 2022-10-05 08:00:34,562]\u001b[0m Trial 48 finished with value: 1000000.0 and parameters: {'learning_rate': 0.1, 'batch_size': 64, 'conv1_channels': 32, 'conv2_channels': 48, 'conv3_channels': 256, 'conv4_channels': 512, 'kernel_12': 4, 'kernel_34': 4, 'padding': 2, 'stride': 3, 'dilation': 1}. Best is trial 38 with value: 6.836657766935727.\u001b[0m\n",
      "\u001b[32m[I 2022-10-05 08:00:34,585]\u001b[0m Trial 49 finished with value: 7.0410463231385645 and parameters: {'learning_rate': 0.0001, 'batch_size': 64, 'conv1_channels': 32, 'conv2_channels': 48, 'conv3_channels': 256, 'conv4_channels': 512, 'kernel_12': 5, 'kernel_34': 5, 'padding': 3, 'stride': 3, 'dilation': 1}. Best is trial 38 with value: 6.836657766935727.\u001b[0m\n",
      "\u001b[32m[I 2022-10-05 08:00:34,608]\u001b[0m Trial 50 finished with value: 1000000.0 and parameters: {'learning_rate': 0.0001, 'batch_size': 64, 'conv1_channels': 32, 'conv2_channels': 48, 'conv3_channels': 256, 'conv4_channels': 512, 'kernel_12': 5, 'kernel_34': 5, 'padding': 3, 'stride': 4, 'dilation': 1}. Best is trial 38 with value: 6.836657766935727.\u001b[0m\n",
      "\u001b[32m[I 2022-10-05 08:00:34,631]\u001b[0m Trial 51 finished with value: 7.0410463231385645 and parameters: {'learning_rate': 0.0001, 'batch_size': 64, 'conv1_channels': 32, 'conv2_channels': 48, 'conv3_channels': 256, 'conv4_channels': 512, 'kernel_12': 5, 'kernel_34': 5, 'padding': 3, 'stride': 3, 'dilation': 1}. Best is trial 38 with value: 6.836657766935727.\u001b[0m\n",
      "\u001b[32m[I 2022-10-05 08:00:34,653]\u001b[0m Trial 52 finished with value: 7.0410463231385645 and parameters: {'learning_rate': 0.0001, 'batch_size': 64, 'conv1_channels': 32, 'conv2_channels': 48, 'conv3_channels': 256, 'conv4_channels': 512, 'kernel_12': 5, 'kernel_34': 5, 'padding': 3, 'stride': 3, 'dilation': 1}. Best is trial 38 with value: 6.836657766935727.\u001b[0m\n"
     ]
    },
    {
     "data": {
      "application/vnd.jupyter.widget-view+json": {
       "model_id": "e4bd9ab3d664416089d5f64c4a896f68",
       "version_major": 2,
       "version_minor": 0
      },
      "text/plain": [
       "  0%|          | 0/40 [00:00<?, ?it/s]"
      ]
     },
     "metadata": {},
     "output_type": "display_data"
    },
    {
     "name": "stderr",
     "output_type": "stream",
     "text": [
      "\u001b[32m[I 2022-10-05 08:23:51,524]\u001b[0m Trial 53 finished with value: 5.979384277967133 and parameters: {'learning_rate': 0.0001, 'batch_size': 64, 'conv1_channels': 32, 'conv2_channels': 48, 'conv3_channels': 256, 'conv4_channels': 512, 'kernel_12': 4, 'kernel_34': 4, 'padding': 3, 'stride': 3, 'dilation': 1}. Best is trial 53 with value: 5.979384277967133.\u001b[0m\n",
      "\u001b[32m[I 2022-10-05 08:23:51,548]\u001b[0m Trial 54 finished with value: 5.979384277967133 and parameters: {'learning_rate': 0.0001, 'batch_size': 64, 'conv1_channels': 32, 'conv2_channels': 48, 'conv3_channels': 256, 'conv4_channels': 512, 'kernel_12': 4, 'kernel_34': 4, 'padding': 3, 'stride': 3, 'dilation': 1}. Best is trial 53 with value: 5.979384277967133.\u001b[0m\n",
      "\u001b[32m[I 2022-10-05 08:23:51,572]\u001b[0m Trial 55 finished with value: 5.979384277967133 and parameters: {'learning_rate': 0.0001, 'batch_size': 64, 'conv1_channels': 32, 'conv2_channels': 48, 'conv3_channels': 256, 'conv4_channels': 512, 'kernel_12': 4, 'kernel_34': 4, 'padding': 3, 'stride': 3, 'dilation': 1}. Best is trial 53 with value: 5.979384277967133.\u001b[0m\n",
      "\u001b[32m[I 2022-10-05 08:23:51,596]\u001b[0m Trial 56 finished with value: 1000000.0 and parameters: {'learning_rate': 0.1, 'batch_size': 64, 'conv1_channels': 32, 'conv2_channels': 48, 'conv3_channels': 256, 'conv4_channels': 512, 'kernel_12': 4, 'kernel_34': 4, 'padding': 2, 'stride': 3, 'dilation': 1}. Best is trial 53 with value: 5.979384277967133.\u001b[0m\n"
     ]
    },
    {
     "data": {
      "application/vnd.jupyter.widget-view+json": {
       "model_id": "2f1c2058d4ed46d38adb355123330201",
       "version_major": 2,
       "version_minor": 0
      },
      "text/plain": [
       "  0%|          | 0/40 [00:00<?, ?it/s]"
      ]
     },
     "metadata": {},
     "output_type": "display_data"
    },
    {
     "name": "stderr",
     "output_type": "stream",
     "text": [
      "\u001b[32m[I 2022-10-05 08:43:55,676]\u001b[0m Trial 57 finished with value: 12.238978884816323 and parameters: {'learning_rate': 0.01, 'batch_size': 32, 'conv1_channels': 32, 'conv2_channels': 48, 'conv3_channels': 64, 'conv4_channels': 512, 'kernel_12': 4, 'kernel_34': 4, 'padding': 4, 'stride': 3, 'dilation': 1}. Best is trial 53 with value: 5.979384277967133.\u001b[0m\n"
     ]
    },
    {
     "data": {
      "application/vnd.jupyter.widget-view+json": {
       "model_id": "d220d43b644f42aab6d55596485adc5a",
       "version_major": 2,
       "version_minor": 0
      },
      "text/plain": [
       "  0%|          | 0/40 [00:00<?, ?it/s]"
      ]
     },
     "metadata": {},
     "output_type": "display_data"
    },
    {
     "name": "stderr",
     "output_type": "stream",
     "text": [
      "\u001b[32m[I 2022-10-05 09:05:44,538]\u001b[0m Trial 58 finished with value: 7.613575571538585 and parameters: {'learning_rate': 0.0001, 'batch_size': 64, 'conv1_channels': 32, 'conv2_channels': 48, 'conv3_channels': 256, 'conv4_channels': 512, 'kernel_12': 4, 'kernel_34': 4, 'padding': 3, 'stride': 4, 'dilation': 1}. Best is trial 53 with value: 5.979384277967133.\u001b[0m\n",
      "\u001b[32m[I 2022-10-05 09:05:44,561]\u001b[0m Trial 59 finished with value: 5.979384277967133 and parameters: {'learning_rate': 0.0001, 'batch_size': 64, 'conv1_channels': 32, 'conv2_channels': 48, 'conv3_channels': 256, 'conv4_channels': 512, 'kernel_12': 4, 'kernel_34': 4, 'padding': 3, 'stride': 3, 'dilation': 1}. Best is trial 53 with value: 5.979384277967133.\u001b[0m\n"
     ]
    },
    {
     "data": {
      "application/vnd.jupyter.widget-view+json": {
       "model_id": "88255efc80564f11ba2c376286acd9d3",
       "version_major": 2,
       "version_minor": 0
      },
      "text/plain": [
       "  0%|          | 0/40 [00:00<?, ?it/s]"
      ]
     },
     "metadata": {},
     "output_type": "display_data"
    },
    {
     "name": "stderr",
     "output_type": "stream",
     "text": [
      "\u001b[32m[I 2022-10-05 09:27:51,231]\u001b[0m Trial 60 finished with value: 10.06939558088671 and parameters: {'learning_rate': 0.0001, 'batch_size': 64, 'conv1_channels': 32, 'conv2_channels': 48, 'conv3_channels': 256, 'conv4_channels': 512, 'kernel_12': 4, 'kernel_34': 4, 'padding': 2, 'stride': 3, 'dilation': 1}. Best is trial 53 with value: 5.979384277967133.\u001b[0m\n",
      "\u001b[32m[I 2022-10-05 09:27:51,253]\u001b[0m Trial 61 finished with value: 5.979384277967133 and parameters: {'learning_rate': 0.0001, 'batch_size': 64, 'conv1_channels': 32, 'conv2_channels': 48, 'conv3_channels': 256, 'conv4_channels': 512, 'kernel_12': 4, 'kernel_34': 4, 'padding': 3, 'stride': 3, 'dilation': 1}. Best is trial 53 with value: 5.979384277967133.\u001b[0m\n",
      "\u001b[32m[I 2022-10-05 09:27:51,276]\u001b[0m Trial 62 finished with value: 5.979384277967133 and parameters: {'learning_rate': 0.0001, 'batch_size': 64, 'conv1_channels': 32, 'conv2_channels': 48, 'conv3_channels': 256, 'conv4_channels': 512, 'kernel_12': 4, 'kernel_34': 4, 'padding': 3, 'stride': 3, 'dilation': 1}. Best is trial 53 with value: 5.979384277967133.\u001b[0m\n",
      "c:\\Users\\Rania\\Anaconda3\\envs\\study2\\lib\\site-packages\\torch\\nn\\init.py:388: UserWarning: Initializing zero-element tensors is a no-op\n",
      "  warnings.warn(\"Initializing zero-element tensors is a no-op\")\n"
     ]
    },
    {
     "data": {
      "application/vnd.jupyter.widget-view+json": {
       "model_id": "00ec5f3d8bba48169b070191d3f4a7f2",
       "version_major": 2,
       "version_minor": 0
      },
      "text/plain": [
       "  0%|          | 0/40 [00:00<?, ?it/s]"
      ]
     },
     "metadata": {},
     "output_type": "display_data"
    },
    {
     "name": "stderr",
     "output_type": "stream",
     "text": [
      "\u001b[32m[I 2022-10-05 09:27:51,324]\u001b[0m Trial 63 finished with value: 1000000.0 and parameters: {'learning_rate': 0.0001, 'batch_size': 64, 'conv1_channels': 32, 'conv2_channels': 48, 'conv3_channels': 256, 'conv4_channels': 512, 'kernel_12': 4, 'kernel_34': 4, 'padding': 3, 'stride': 3, 'dilation': 4}. Best is trial 53 with value: 5.979384277967133.\u001b[0m\n"
     ]
    },
    {
     "data": {
      "application/vnd.jupyter.widget-view+json": {
       "model_id": "e9f973056ee04c52822dc7e6a0a12f0b",
       "version_major": 2,
       "version_minor": 0
      },
      "text/plain": [
       "  0%|          | 0/40 [00:00<?, ?it/s]"
      ]
     },
     "metadata": {},
     "output_type": "display_data"
    },
    {
     "name": "stderr",
     "output_type": "stream",
     "text": [
      "\u001b[32m[I 2022-10-05 09:50:47,629]\u001b[0m Trial 64 finished with value: 6.839498113454882 and parameters: {'learning_rate': 0.0001, 'batch_size': 64, 'conv1_channels': 16, 'conv2_channels': 48, 'conv3_channels': 256, 'conv4_channels': 512, 'kernel_12': 4, 'kernel_34': 4, 'padding': 3, 'stride': 3, 'dilation': 1}. Best is trial 53 with value: 5.979384277967133.\u001b[0m\n"
     ]
    },
    {
     "data": {
      "application/vnd.jupyter.widget-view+json": {
       "model_id": "067054fed8924f61a1a7ec42cf56c0e3",
       "version_major": 2,
       "version_minor": 0
      },
      "text/plain": [
       "  0%|          | 0/40 [00:00<?, ?it/s]"
      ]
     },
     "metadata": {},
     "output_type": "display_data"
    },
    {
     "name": "stderr",
     "output_type": "stream",
     "text": [
      "\u001b[32m[I 2022-10-05 10:15:05,153]\u001b[0m Trial 65 finished with value: 5.804477887537879 and parameters: {'learning_rate': 0.0001, 'batch_size': 64, 'conv1_channels': 32, 'conv2_channels': 48, 'conv3_channels': 256, 'conv4_channels': 512, 'kernel_12': 4, 'kernel_34': 4, 'padding': 4, 'stride': 3, 'dilation': 1}. Best is trial 65 with value: 5.804477887537879.\u001b[0m\n"
     ]
    },
    {
     "data": {
      "application/vnd.jupyter.widget-view+json": {
       "model_id": "8a299d2f337b4286aa50d7be7eeba043",
       "version_major": 2,
       "version_minor": 0
      },
      "text/plain": [
       "  0%|          | 0/40 [00:00<?, ?it/s]"
      ]
     },
     "metadata": {},
     "output_type": "display_data"
    },
    {
     "name": "stderr",
     "output_type": "stream",
     "text": [
      "\u001b[32m[I 2022-10-05 10:41:29,917]\u001b[0m Trial 66 finished with value: 5.378540245295797 and parameters: {'learning_rate': 0.0001, 'batch_size': 32, 'conv1_channels': 32, 'conv2_channels': 48, 'conv3_channels': 128, 'conv4_channels': 512, 'kernel_12': 4, 'kernel_34': 4, 'padding': 4, 'stride': 3, 'dilation': 1}. Best is trial 66 with value: 5.378540245295797.\u001b[0m\n"
     ]
    },
    {
     "data": {
      "application/vnd.jupyter.widget-view+json": {
       "model_id": "92bf6d4c74ac4d9baabc11eaddae5646",
       "version_major": 2,
       "version_minor": 0
      },
      "text/plain": [
       "  0%|          | 0/40 [00:00<?, ?it/s]"
      ]
     },
     "metadata": {},
     "output_type": "display_data"
    },
    {
     "name": "stderr",
     "output_type": "stream",
     "text": [
      "\u001b[32m[I 2022-10-05 11:07:22,483]\u001b[0m Trial 67 finished with value: 28.194611150005624 and parameters: {'learning_rate': 0.1, 'batch_size': 32, 'conv1_channels': 32, 'conv2_channels': 48, 'conv3_channels': 128, 'conv4_channels': 512, 'kernel_12': 4, 'kernel_34': 4, 'padding': 4, 'stride': 3, 'dilation': 1}. Best is trial 66 with value: 5.378540245295797.\u001b[0m\n"
     ]
    },
    {
     "data": {
      "application/vnd.jupyter.widget-view+json": {
       "model_id": "0c52d00dcf20431ab15e46b2868c514c",
       "version_major": 2,
       "version_minor": 0
      },
      "text/plain": [
       "  0%|          | 0/40 [00:00<?, ?it/s]"
      ]
     },
     "metadata": {},
     "output_type": "display_data"
    },
    {
     "name": "stderr",
     "output_type": "stream",
     "text": [
      "\u001b[32m[I 2022-10-05 11:32:57,550]\u001b[0m Trial 68 finished with value: 8.930054763193926 and parameters: {'learning_rate': 0.01, 'batch_size': 32, 'conv1_channels': 32, 'conv2_channels': 48, 'conv3_channels': 128, 'conv4_channels': 512, 'kernel_12': 4, 'kernel_34': 4, 'padding': 4, 'stride': 3, 'dilation': 1}. Best is trial 66 with value: 5.378540245295797.\u001b[0m\n"
     ]
    },
    {
     "data": {
      "application/vnd.jupyter.widget-view+json": {
       "model_id": "e835928d7e8b4135abd0aece2eea5021",
       "version_major": 2,
       "version_minor": 0
      },
      "text/plain": [
       "  0%|          | 0/40 [00:00<?, ?it/s]"
      ]
     },
     "metadata": {},
     "output_type": "display_data"
    },
    {
     "name": "stderr",
     "output_type": "stream",
     "text": [
      "\u001b[32m[I 2022-10-05 11:58:00,240]\u001b[0m Trial 69 finished with value: 5.909275027804608 and parameters: {'learning_rate': 0.0001, 'batch_size': 32, 'conv1_channels': 16, 'conv2_channels': 48, 'conv3_channels': 128, 'conv4_channels': 512, 'kernel_12': 4, 'kernel_34': 4, 'padding': 4, 'stride': 3, 'dilation': 1}. Best is trial 66 with value: 5.378540245295797.\u001b[0m\n"
     ]
    }
   ],
   "source": [
    "study = optuna.create_study(direction=\"minimize\", sampler=optuna.samplers.TPESampler())\n",
    "study.optimize(objective, n_trials=70)"
   ]
  },
  {
   "cell_type": "code",
   "execution_count": 56,
   "metadata": {},
   "outputs": [
    {
     "data": {
      "application/vnd.plotly.v1+json": {
       "config": {
        "plotlyServerURL": "https://plot.ly"
       },
       "data": [
        {
         "cliponaxis": false,
         "hovertemplate": [
          "kernel_12 (IntUniformDistribution): 0.0030750665491816294<extra></extra>",
          "conv1_channels (CategoricalDistribution): 0.011110375482461297<extra></extra>",
          "conv3_channels (CategoricalDistribution): 0.014025320181935677<extra></extra>",
          "conv2_channels (CategoricalDistribution): 0.025444381524341867<extra></extra>",
          "conv4_channels (CategoricalDistribution): 0.025978016759348473<extra></extra>",
          "batch_size (CategoricalDistribution): 0.03148560443064226<extra></extra>",
          "kernel_34 (IntUniformDistribution): 0.08571513680678787<extra></extra>",
          "stride (IntUniformDistribution): 0.10190976809520777<extra></extra>",
          "learning_rate (CategoricalDistribution): 0.10744045355545305<extra></extra>",
          "padding (IntUniformDistribution): 0.13148279902385446<extra></extra>",
          "dilation (CategoricalDistribution): 0.46233307759078557<extra></extra>"
         ],
         "marker": {
          "color": "rgb(66,146,198)"
         },
         "orientation": "h",
         "text": [
          "0.0030750665491816294",
          "0.011110375482461297",
          "0.014025320181935677",
          "0.025444381524341867",
          "0.025978016759348473",
          "0.03148560443064226",
          "0.08571513680678787",
          "0.10190976809520777",
          "0.10744045355545305",
          "0.13148279902385446",
          "0.46233307759078557"
         ],
         "textposition": "outside",
         "texttemplate": "%{text:.2f}",
         "type": "bar",
         "x": [
          0.0030750665491816294,
          0.011110375482461297,
          0.014025320181935677,
          0.025444381524341867,
          0.025978016759348473,
          0.03148560443064226,
          0.08571513680678787,
          0.10190976809520777,
          0.10744045355545305,
          0.13148279902385446,
          0.46233307759078557
         ],
         "y": [
          "kernel_12",
          "conv1_channels",
          "conv3_channels",
          "conv2_channels",
          "conv4_channels",
          "batch_size",
          "kernel_34",
          "stride",
          "learning_rate",
          "padding",
          "dilation"
         ]
        }
       ],
       "layout": {
        "showlegend": false,
        "template": {
         "data": {
          "bar": [
           {
            "error_x": {
             "color": "#2a3f5f"
            },
            "error_y": {
             "color": "#2a3f5f"
            },
            "marker": {
             "line": {
              "color": "#E5ECF6",
              "width": 0.5
             },
             "pattern": {
              "fillmode": "overlay",
              "size": 10,
              "solidity": 0.2
             }
            },
            "type": "bar"
           }
          ],
          "barpolar": [
           {
            "marker": {
             "line": {
              "color": "#E5ECF6",
              "width": 0.5
             },
             "pattern": {
              "fillmode": "overlay",
              "size": 10,
              "solidity": 0.2
             }
            },
            "type": "barpolar"
           }
          ],
          "carpet": [
           {
            "aaxis": {
             "endlinecolor": "#2a3f5f",
             "gridcolor": "white",
             "linecolor": "white",
             "minorgridcolor": "white",
             "startlinecolor": "#2a3f5f"
            },
            "baxis": {
             "endlinecolor": "#2a3f5f",
             "gridcolor": "white",
             "linecolor": "white",
             "minorgridcolor": "white",
             "startlinecolor": "#2a3f5f"
            },
            "type": "carpet"
           }
          ],
          "choropleth": [
           {
            "colorbar": {
             "outlinewidth": 0,
             "ticks": ""
            },
            "type": "choropleth"
           }
          ],
          "contour": [
           {
            "colorbar": {
             "outlinewidth": 0,
             "ticks": ""
            },
            "colorscale": [
             [
              0,
              "#0d0887"
             ],
             [
              0.1111111111111111,
              "#46039f"
             ],
             [
              0.2222222222222222,
              "#7201a8"
             ],
             [
              0.3333333333333333,
              "#9c179e"
             ],
             [
              0.4444444444444444,
              "#bd3786"
             ],
             [
              0.5555555555555556,
              "#d8576b"
             ],
             [
              0.6666666666666666,
              "#ed7953"
             ],
             [
              0.7777777777777778,
              "#fb9f3a"
             ],
             [
              0.8888888888888888,
              "#fdca26"
             ],
             [
              1,
              "#f0f921"
             ]
            ],
            "type": "contour"
           }
          ],
          "contourcarpet": [
           {
            "colorbar": {
             "outlinewidth": 0,
             "ticks": ""
            },
            "type": "contourcarpet"
           }
          ],
          "heatmap": [
           {
            "colorbar": {
             "outlinewidth": 0,
             "ticks": ""
            },
            "colorscale": [
             [
              0,
              "#0d0887"
             ],
             [
              0.1111111111111111,
              "#46039f"
             ],
             [
              0.2222222222222222,
              "#7201a8"
             ],
             [
              0.3333333333333333,
              "#9c179e"
             ],
             [
              0.4444444444444444,
              "#bd3786"
             ],
             [
              0.5555555555555556,
              "#d8576b"
             ],
             [
              0.6666666666666666,
              "#ed7953"
             ],
             [
              0.7777777777777778,
              "#fb9f3a"
             ],
             [
              0.8888888888888888,
              "#fdca26"
             ],
             [
              1,
              "#f0f921"
             ]
            ],
            "type": "heatmap"
           }
          ],
          "heatmapgl": [
           {
            "colorbar": {
             "outlinewidth": 0,
             "ticks": ""
            },
            "colorscale": [
             [
              0,
              "#0d0887"
             ],
             [
              0.1111111111111111,
              "#46039f"
             ],
             [
              0.2222222222222222,
              "#7201a8"
             ],
             [
              0.3333333333333333,
              "#9c179e"
             ],
             [
              0.4444444444444444,
              "#bd3786"
             ],
             [
              0.5555555555555556,
              "#d8576b"
             ],
             [
              0.6666666666666666,
              "#ed7953"
             ],
             [
              0.7777777777777778,
              "#fb9f3a"
             ],
             [
              0.8888888888888888,
              "#fdca26"
             ],
             [
              1,
              "#f0f921"
             ]
            ],
            "type": "heatmapgl"
           }
          ],
          "histogram": [
           {
            "marker": {
             "pattern": {
              "fillmode": "overlay",
              "size": 10,
              "solidity": 0.2
             }
            },
            "type": "histogram"
           }
          ],
          "histogram2d": [
           {
            "colorbar": {
             "outlinewidth": 0,
             "ticks": ""
            },
            "colorscale": [
             [
              0,
              "#0d0887"
             ],
             [
              0.1111111111111111,
              "#46039f"
             ],
             [
              0.2222222222222222,
              "#7201a8"
             ],
             [
              0.3333333333333333,
              "#9c179e"
             ],
             [
              0.4444444444444444,
              "#bd3786"
             ],
             [
              0.5555555555555556,
              "#d8576b"
             ],
             [
              0.6666666666666666,
              "#ed7953"
             ],
             [
              0.7777777777777778,
              "#fb9f3a"
             ],
             [
              0.8888888888888888,
              "#fdca26"
             ],
             [
              1,
              "#f0f921"
             ]
            ],
            "type": "histogram2d"
           }
          ],
          "histogram2dcontour": [
           {
            "colorbar": {
             "outlinewidth": 0,
             "ticks": ""
            },
            "colorscale": [
             [
              0,
              "#0d0887"
             ],
             [
              0.1111111111111111,
              "#46039f"
             ],
             [
              0.2222222222222222,
              "#7201a8"
             ],
             [
              0.3333333333333333,
              "#9c179e"
             ],
             [
              0.4444444444444444,
              "#bd3786"
             ],
             [
              0.5555555555555556,
              "#d8576b"
             ],
             [
              0.6666666666666666,
              "#ed7953"
             ],
             [
              0.7777777777777778,
              "#fb9f3a"
             ],
             [
              0.8888888888888888,
              "#fdca26"
             ],
             [
              1,
              "#f0f921"
             ]
            ],
            "type": "histogram2dcontour"
           }
          ],
          "mesh3d": [
           {
            "colorbar": {
             "outlinewidth": 0,
             "ticks": ""
            },
            "type": "mesh3d"
           }
          ],
          "parcoords": [
           {
            "line": {
             "colorbar": {
              "outlinewidth": 0,
              "ticks": ""
             }
            },
            "type": "parcoords"
           }
          ],
          "pie": [
           {
            "automargin": true,
            "type": "pie"
           }
          ],
          "scatter": [
           {
            "marker": {
             "colorbar": {
              "outlinewidth": 0,
              "ticks": ""
             }
            },
            "type": "scatter"
           }
          ],
          "scatter3d": [
           {
            "line": {
             "colorbar": {
              "outlinewidth": 0,
              "ticks": ""
             }
            },
            "marker": {
             "colorbar": {
              "outlinewidth": 0,
              "ticks": ""
             }
            },
            "type": "scatter3d"
           }
          ],
          "scattercarpet": [
           {
            "marker": {
             "colorbar": {
              "outlinewidth": 0,
              "ticks": ""
             }
            },
            "type": "scattercarpet"
           }
          ],
          "scattergeo": [
           {
            "marker": {
             "colorbar": {
              "outlinewidth": 0,
              "ticks": ""
             }
            },
            "type": "scattergeo"
           }
          ],
          "scattergl": [
           {
            "marker": {
             "colorbar": {
              "outlinewidth": 0,
              "ticks": ""
             }
            },
            "type": "scattergl"
           }
          ],
          "scattermapbox": [
           {
            "marker": {
             "colorbar": {
              "outlinewidth": 0,
              "ticks": ""
             }
            },
            "type": "scattermapbox"
           }
          ],
          "scatterpolar": [
           {
            "marker": {
             "colorbar": {
              "outlinewidth": 0,
              "ticks": ""
             }
            },
            "type": "scatterpolar"
           }
          ],
          "scatterpolargl": [
           {
            "marker": {
             "colorbar": {
              "outlinewidth": 0,
              "ticks": ""
             }
            },
            "type": "scatterpolargl"
           }
          ],
          "scatterternary": [
           {
            "marker": {
             "colorbar": {
              "outlinewidth": 0,
              "ticks": ""
             }
            },
            "type": "scatterternary"
           }
          ],
          "surface": [
           {
            "colorbar": {
             "outlinewidth": 0,
             "ticks": ""
            },
            "colorscale": [
             [
              0,
              "#0d0887"
             ],
             [
              0.1111111111111111,
              "#46039f"
             ],
             [
              0.2222222222222222,
              "#7201a8"
             ],
             [
              0.3333333333333333,
              "#9c179e"
             ],
             [
              0.4444444444444444,
              "#bd3786"
             ],
             [
              0.5555555555555556,
              "#d8576b"
             ],
             [
              0.6666666666666666,
              "#ed7953"
             ],
             [
              0.7777777777777778,
              "#fb9f3a"
             ],
             [
              0.8888888888888888,
              "#fdca26"
             ],
             [
              1,
              "#f0f921"
             ]
            ],
            "type": "surface"
           }
          ],
          "table": [
           {
            "cells": {
             "fill": {
              "color": "#EBF0F8"
             },
             "line": {
              "color": "white"
             }
            },
            "header": {
             "fill": {
              "color": "#C8D4E3"
             },
             "line": {
              "color": "white"
             }
            },
            "type": "table"
           }
          ]
         },
         "layout": {
          "annotationdefaults": {
           "arrowcolor": "#2a3f5f",
           "arrowhead": 0,
           "arrowwidth": 1
          },
          "autotypenumbers": "strict",
          "coloraxis": {
           "colorbar": {
            "outlinewidth": 0,
            "ticks": ""
           }
          },
          "colorscale": {
           "diverging": [
            [
             0,
             "#8e0152"
            ],
            [
             0.1,
             "#c51b7d"
            ],
            [
             0.2,
             "#de77ae"
            ],
            [
             0.3,
             "#f1b6da"
            ],
            [
             0.4,
             "#fde0ef"
            ],
            [
             0.5,
             "#f7f7f7"
            ],
            [
             0.6,
             "#e6f5d0"
            ],
            [
             0.7,
             "#b8e186"
            ],
            [
             0.8,
             "#7fbc41"
            ],
            [
             0.9,
             "#4d9221"
            ],
            [
             1,
             "#276419"
            ]
           ],
           "sequential": [
            [
             0,
             "#0d0887"
            ],
            [
             0.1111111111111111,
             "#46039f"
            ],
            [
             0.2222222222222222,
             "#7201a8"
            ],
            [
             0.3333333333333333,
             "#9c179e"
            ],
            [
             0.4444444444444444,
             "#bd3786"
            ],
            [
             0.5555555555555556,
             "#d8576b"
            ],
            [
             0.6666666666666666,
             "#ed7953"
            ],
            [
             0.7777777777777778,
             "#fb9f3a"
            ],
            [
             0.8888888888888888,
             "#fdca26"
            ],
            [
             1,
             "#f0f921"
            ]
           ],
           "sequentialminus": [
            [
             0,
             "#0d0887"
            ],
            [
             0.1111111111111111,
             "#46039f"
            ],
            [
             0.2222222222222222,
             "#7201a8"
            ],
            [
             0.3333333333333333,
             "#9c179e"
            ],
            [
             0.4444444444444444,
             "#bd3786"
            ],
            [
             0.5555555555555556,
             "#d8576b"
            ],
            [
             0.6666666666666666,
             "#ed7953"
            ],
            [
             0.7777777777777778,
             "#fb9f3a"
            ],
            [
             0.8888888888888888,
             "#fdca26"
            ],
            [
             1,
             "#f0f921"
            ]
           ]
          },
          "colorway": [
           "#636efa",
           "#EF553B",
           "#00cc96",
           "#ab63fa",
           "#FFA15A",
           "#19d3f3",
           "#FF6692",
           "#B6E880",
           "#FF97FF",
           "#FECB52"
          ],
          "font": {
           "color": "#2a3f5f"
          },
          "geo": {
           "bgcolor": "white",
           "lakecolor": "white",
           "landcolor": "#E5ECF6",
           "showlakes": true,
           "showland": true,
           "subunitcolor": "white"
          },
          "hoverlabel": {
           "align": "left"
          },
          "hovermode": "closest",
          "mapbox": {
           "style": "light"
          },
          "paper_bgcolor": "white",
          "plot_bgcolor": "#E5ECF6",
          "polar": {
           "angularaxis": {
            "gridcolor": "white",
            "linecolor": "white",
            "ticks": ""
           },
           "bgcolor": "#E5ECF6",
           "radialaxis": {
            "gridcolor": "white",
            "linecolor": "white",
            "ticks": ""
           }
          },
          "scene": {
           "xaxis": {
            "backgroundcolor": "#E5ECF6",
            "gridcolor": "white",
            "gridwidth": 2,
            "linecolor": "white",
            "showbackground": true,
            "ticks": "",
            "zerolinecolor": "white"
           },
           "yaxis": {
            "backgroundcolor": "#E5ECF6",
            "gridcolor": "white",
            "gridwidth": 2,
            "linecolor": "white",
            "showbackground": true,
            "ticks": "",
            "zerolinecolor": "white"
           },
           "zaxis": {
            "backgroundcolor": "#E5ECF6",
            "gridcolor": "white",
            "gridwidth": 2,
            "linecolor": "white",
            "showbackground": true,
            "ticks": "",
            "zerolinecolor": "white"
           }
          },
          "shapedefaults": {
           "line": {
            "color": "#2a3f5f"
           }
          },
          "ternary": {
           "aaxis": {
            "gridcolor": "white",
            "linecolor": "white",
            "ticks": ""
           },
           "baxis": {
            "gridcolor": "white",
            "linecolor": "white",
            "ticks": ""
           },
           "bgcolor": "#E5ECF6",
           "caxis": {
            "gridcolor": "white",
            "linecolor": "white",
            "ticks": ""
           }
          },
          "title": {
           "x": 0.05
          },
          "xaxis": {
           "automargin": true,
           "gridcolor": "white",
           "linecolor": "white",
           "ticks": "",
           "title": {
            "standoff": 15
           },
           "zerolinecolor": "white",
           "zerolinewidth": 2
          },
          "yaxis": {
           "automargin": true,
           "gridcolor": "white",
           "linecolor": "white",
           "ticks": "",
           "title": {
            "standoff": 15
           },
           "zerolinecolor": "white",
           "zerolinewidth": 2
          }
         }
        },
        "title": {
         "text": "Hyperparameter Importances"
        },
        "xaxis": {
         "title": {
          "text": "Importance for Objective Value"
         }
        },
        "yaxis": {
         "title": {
          "text": "Hyperparameter"
         }
        }
       }
      }
     },
     "metadata": {},
     "output_type": "display_data"
    }
   ],
   "source": [
    "fig = optuna.visualization.plot_param_importances(study)\n",
    "fig.show()"
   ]
  },
  {
   "cell_type": "code",
   "execution_count": 59,
   "metadata": {},
   "outputs": [
    {
     "data": {
      "application/vnd.plotly.v1+json": {
       "config": {
        "plotlyServerURL": "https://plot.ly"
       },
       "data": [
        {
         "dimensions": [
          {
           "label": "Objective Value",
           "range": [
            5.378540245295797,
            1000000
           ],
           "values": [
            1000000,
            5.909275027804608,
            12.238978884816323,
            5.378540245295797,
            8.930054763193926,
            28.194611150005624,
            9.053972240367484,
            1000000,
            13.406577968643466,
            1000000,
            6.839498113454882,
            7.825577151662299,
            6.836657766935727,
            7.0410463231385645,
            1000000,
            7.0410463231385645,
            7.0410463231385645,
            7.0410463231385645,
            7.0410463231385645,
            7.0410463231385645,
            7.0410463231385645,
            1000000,
            7.0410463231385645,
            7.0410463231385645,
            5.979384277967133,
            5.979384277967133,
            5.979384277967133,
            7.613575571538585,
            5.979384277967133,
            10.06939558088671,
            5.979384277967133,
            5.979384277967133,
            5.804477887537879,
            1000000,
            1000000,
            1000000,
            1000000,
            1000000,
            1000000,
            7.060743159197488,
            7.169075507971867,
            7.139807711841629,
            14.534093103741915,
            1000000,
            1000000,
            12.594866577365384,
            7.073466507209685,
            1000000,
            8.574075178756612,
            9.079544535013673,
            12.002462698503644,
            1000000,
            1000000,
            1000000,
            1000000,
            9.633886266834157,
            12.189168976906934,
            9.298655622482851,
            8.013418450685919,
            7.189079296259806,
            9.129232215031077,
            11.10058389300573,
            1000000,
            1000000,
            11.622596517068326,
            26.851051414381526,
            8.516791787949339,
            8.516791787949339,
            8.516791787949339,
            23.405412902633177
           ]
          },
          {
           "label": "batch_size",
           "range": [
            0,
            4
           ],
           "ticktext": [
            32,
            64,
            128,
            256,
            512
           ],
           "tickvals": [
            0,
            1,
            2,
            3,
            4
           ],
           "values": [
            0,
            0,
            0,
            0,
            0,
            0,
            0,
            0,
            0,
            1,
            1,
            1,
            1,
            1,
            1,
            1,
            1,
            1,
            1,
            1,
            1,
            1,
            1,
            1,
            1,
            1,
            1,
            1,
            1,
            1,
            1,
            1,
            1,
            1,
            1,
            1,
            1,
            1,
            1,
            1,
            1,
            1,
            1,
            2,
            2,
            2,
            2,
            2,
            2,
            2,
            2,
            3,
            3,
            3,
            3,
            3,
            3,
            3,
            3,
            3,
            3,
            3,
            3,
            4,
            4,
            4,
            4,
            4,
            4,
            4
           ]
          },
          {
           "label": "conv1_channels",
           "range": [
            0,
            2
           ],
           "ticktext": [
            16,
            32,
            48
           ],
           "tickvals": [
            0,
            1,
            2
           ],
           "values": [
            0,
            0,
            1,
            1,
            1,
            1,
            1,
            2,
            2,
            0,
            0,
            1,
            1,
            1,
            1,
            1,
            1,
            1,
            1,
            1,
            1,
            1,
            1,
            1,
            1,
            1,
            1,
            1,
            1,
            1,
            1,
            1,
            1,
            1,
            1,
            1,
            1,
            2,
            2,
            2,
            2,
            2,
            2,
            0,
            1,
            1,
            2,
            2,
            2,
            2,
            2,
            0,
            1,
            1,
            2,
            2,
            2,
            2,
            2,
            2,
            2,
            2,
            2,
            0,
            2,
            2,
            2,
            2,
            2,
            2
           ]
          },
          {
           "label": "conv2_channels",
           "range": [
            0,
            2
           ],
           "ticktext": [
            32,
            48,
            64
           ],
           "tickvals": [
            0,
            1,
            2
           ],
           "values": [
            0,
            1,
            1,
            1,
            1,
            1,
            2,
            1,
            1,
            0,
            1,
            1,
            1,
            1,
            1,
            1,
            1,
            1,
            1,
            1,
            1,
            1,
            1,
            1,
            1,
            1,
            1,
            1,
            1,
            1,
            1,
            1,
            1,
            1,
            1,
            1,
            1,
            0,
            0,
            1,
            1,
            2,
            2,
            0,
            0,
            2,
            0,
            1,
            2,
            2,
            2,
            1,
            2,
            2,
            0,
            0,
            1,
            2,
            2,
            2,
            2,
            2,
            2,
            0,
            0,
            1,
            2,
            2,
            2,
            2
           ]
          },
          {
           "label": "conv3_channels",
           "range": [
            0,
            2
           ],
           "ticktext": [
            64,
            128,
            256
           ],
           "tickvals": [
            0,
            1,
            2
           ],
           "values": [
            0,
            1,
            0,
            1,
            1,
            1,
            0,
            0,
            0,
            1,
            2,
            0,
            2,
            2,
            2,
            2,
            2,
            2,
            2,
            2,
            2,
            2,
            2,
            2,
            2,
            2,
            2,
            2,
            2,
            2,
            2,
            2,
            2,
            2,
            2,
            2,
            2,
            1,
            2,
            2,
            2,
            2,
            2,
            1,
            2,
            2,
            2,
            2,
            2,
            2,
            2,
            0,
            1,
            2,
            1,
            2,
            1,
            1,
            1,
            2,
            2,
            2,
            2,
            1,
            1,
            0,
            2,
            2,
            2,
            2
           ]
          },
          {
           "label": "conv4_channels",
           "range": [
            0,
            2
           ],
           "ticktext": [
            128,
            256,
            512
           ],
           "tickvals": [
            0,
            1,
            2
           ],
           "values": [
            2,
            2,
            2,
            2,
            2,
            2,
            2,
            0,
            0,
            1,
            2,
            2,
            2,
            2,
            2,
            2,
            2,
            2,
            2,
            2,
            2,
            2,
            2,
            2,
            2,
            2,
            2,
            2,
            2,
            2,
            2,
            2,
            2,
            2,
            2,
            2,
            2,
            0,
            0,
            0,
            1,
            0,
            0,
            1,
            1,
            0,
            0,
            2,
            0,
            0,
            0,
            2,
            1,
            0,
            1,
            0,
            2,
            1,
            1,
            0,
            0,
            0,
            0,
            1,
            1,
            1,
            0,
            0,
            0,
            0
           ]
          },
          {
           "label": "dilation",
           "range": [
            0,
            2
           ],
           "ticktext": [
            1,
            2,
            4
           ],
           "tickvals": [
            0,
            1,
            2
           ],
           "values": [
            2,
            0,
            0,
            0,
            0,
            0,
            0,
            0,
            0,
            1,
            0,
            0,
            0,
            0,
            0,
            0,
            0,
            0,
            0,
            0,
            0,
            0,
            0,
            0,
            0,
            0,
            0,
            0,
            0,
            0,
            0,
            0,
            0,
            0,
            0,
            0,
            2,
            0,
            2,
            0,
            0,
            1,
            1,
            1,
            2,
            1,
            1,
            2,
            1,
            1,
            1,
            2,
            1,
            0,
            1,
            1,
            1,
            1,
            1,
            1,
            1,
            1,
            1,
            2,
            1,
            0,
            1,
            1,
            1,
            1
           ]
          },
          {
           "label": "kernel_12",
           "range": [
            1,
            5
           ],
           "values": [
            4,
            4,
            4,
            4,
            4,
            4,
            1,
            1,
            3,
            3,
            4,
            5,
            4,
            5,
            5,
            5,
            5,
            5,
            5,
            5,
            5,
            5,
            5,
            5,
            4,
            4,
            4,
            4,
            4,
            4,
            4,
            4,
            4,
            5,
            4,
            4,
            4,
            3,
            3,
            4,
            4,
            3,
            4,
            5,
            2,
            5,
            5,
            1,
            3,
            3,
            2,
            4,
            2,
            3,
            5,
            4,
            2,
            5,
            2,
            3,
            1,
            2,
            4,
            3,
            2,
            2,
            2,
            2,
            2,
            1
           ]
          },
          {
           "label": "kernel_34",
           "range": [
            1,
            5
           ],
           "values": [
            2,
            4,
            4,
            4,
            4,
            4,
            3,
            5,
            2,
            3,
            4,
            5,
            5,
            5,
            5,
            5,
            5,
            5,
            5,
            5,
            5,
            5,
            5,
            5,
            4,
            4,
            4,
            4,
            4,
            4,
            4,
            4,
            4,
            5,
            4,
            4,
            4,
            3,
            5,
            5,
            5,
            5,
            2,
            4,
            5,
            1,
            3,
            4,
            1,
            4,
            1,
            3,
            3,
            3,
            5,
            4,
            2,
            4,
            4,
            2,
            2,
            2,
            4,
            3,
            3,
            5,
            2,
            2,
            2,
            1
           ]
          },
          {
           "label": "learning_rate",
           "range": [
            0,
            4
           ],
           "ticktext": [
            0.00001,
            0.0001,
            0.001,
            0.01,
            0.1
           ],
           "tickvals": [
            0,
            1,
            2,
            3,
            4
           ],
           "values": [
            3,
            1,
            3,
            1,
            3,
            4,
            3,
            2,
            2,
            4,
            1,
            1,
            1,
            1,
            1,
            1,
            1,
            1,
            1,
            1,
            1,
            1,
            1,
            1,
            1,
            1,
            1,
            1,
            1,
            1,
            1,
            1,
            1,
            3,
            4,
            4,
            1,
            1,
            2,
            1,
            1,
            0,
            3,
            2,
            2,
            1,
            1,
            2,
            1,
            2,
            2,
            1,
            1,
            1,
            1,
            2,
            0,
            1,
            2,
            1,
            1,
            1,
            4,
            4,
            0,
            0,
            0,
            0,
            0,
            0
           ]
          },
          {
           "label": "padding",
           "range": [
            0,
            4
           ],
           "values": [
            4,
            4,
            4,
            4,
            4,
            4,
            0,
            0,
            2,
            1,
            3,
            3,
            3,
            3,
            3,
            3,
            3,
            3,
            3,
            3,
            3,
            3,
            3,
            3,
            3,
            3,
            3,
            3,
            3,
            2,
            3,
            3,
            4,
            3,
            2,
            2,
            3,
            2,
            2,
            3,
            3,
            4,
            3,
            0,
            2,
            1,
            0,
            3,
            4,
            4,
            3,
            2,
            1,
            1,
            0,
            3,
            0,
            3,
            4,
            2,
            4,
            2,
            1,
            2,
            3,
            4,
            4,
            4,
            4,
            3
           ]
          },
          {
           "label": "stride",
           "range": [
            1,
            4
           ],
           "values": [
            1,
            3,
            3,
            3,
            3,
            3,
            2,
            2,
            2,
            3,
            3,
            3,
            3,
            3,
            4,
            3,
            3,
            3,
            3,
            3,
            3,
            4,
            3,
            3,
            3,
            3,
            3,
            4,
            3,
            3,
            3,
            3,
            3,
            4,
            3,
            3,
            3,
            4,
            2,
            3,
            3,
            2,
            1,
            2,
            3,
            2,
            1,
            4,
            1,
            1,
            1,
            2,
            3,
            3,
            2,
            1,
            1,
            1,
            1,
            2,
            1,
            1,
            2,
            4,
            1,
            4,
            1,
            1,
            1,
            2
           ]
          }
         ],
         "labelangle": 30,
         "labelside": "bottom",
         "line": {
          "color": [
           1000000,
           5.909275027804608,
           12.238978884816323,
           5.378540245295797,
           8.930054763193926,
           28.194611150005624,
           9.053972240367484,
           1000000,
           13.406577968643466,
           1000000,
           6.839498113454882,
           7.825577151662299,
           6.836657766935727,
           7.0410463231385645,
           1000000,
           7.0410463231385645,
           7.0410463231385645,
           7.0410463231385645,
           7.0410463231385645,
           7.0410463231385645,
           7.0410463231385645,
           1000000,
           7.0410463231385645,
           7.0410463231385645,
           5.979384277967133,
           5.979384277967133,
           5.979384277967133,
           7.613575571538585,
           5.979384277967133,
           10.06939558088671,
           5.979384277967133,
           5.979384277967133,
           5.804477887537879,
           1000000,
           1000000,
           1000000,
           1000000,
           1000000,
           1000000,
           7.060743159197488,
           7.169075507971867,
           7.139807711841629,
           14.534093103741915,
           1000000,
           1000000,
           12.594866577365384,
           7.073466507209685,
           1000000,
           8.574075178756612,
           9.079544535013673,
           12.002462698503644,
           1000000,
           1000000,
           1000000,
           1000000,
           9.633886266834157,
           12.189168976906934,
           9.298655622482851,
           8.013418450685919,
           7.189079296259806,
           9.129232215031077,
           11.10058389300573,
           1000000,
           1000000,
           11.622596517068326,
           26.851051414381526,
           8.516791787949339,
           8.516791787949339,
           8.516791787949339,
           23.405412902633177
          ],
          "colorbar": {
           "title": {
            "text": "Objective Value"
           }
          },
          "colorscale": [
           [
            0,
            "rgb(247,251,255)"
           ],
           [
            0.125,
            "rgb(222,235,247)"
           ],
           [
            0.25,
            "rgb(198,219,239)"
           ],
           [
            0.375,
            "rgb(158,202,225)"
           ],
           [
            0.5,
            "rgb(107,174,214)"
           ],
           [
            0.625,
            "rgb(66,146,198)"
           ],
           [
            0.75,
            "rgb(33,113,181)"
           ],
           [
            0.875,
            "rgb(8,81,156)"
           ],
           [
            1,
            "rgb(8,48,107)"
           ]
          ],
          "reversescale": true,
          "showscale": true
         },
         "type": "parcoords"
        }
       ],
       "layout": {
        "template": {
         "data": {
          "bar": [
           {
            "error_x": {
             "color": "#2a3f5f"
            },
            "error_y": {
             "color": "#2a3f5f"
            },
            "marker": {
             "line": {
              "color": "#E5ECF6",
              "width": 0.5
             },
             "pattern": {
              "fillmode": "overlay",
              "size": 10,
              "solidity": 0.2
             }
            },
            "type": "bar"
           }
          ],
          "barpolar": [
           {
            "marker": {
             "line": {
              "color": "#E5ECF6",
              "width": 0.5
             },
             "pattern": {
              "fillmode": "overlay",
              "size": 10,
              "solidity": 0.2
             }
            },
            "type": "barpolar"
           }
          ],
          "carpet": [
           {
            "aaxis": {
             "endlinecolor": "#2a3f5f",
             "gridcolor": "white",
             "linecolor": "white",
             "minorgridcolor": "white",
             "startlinecolor": "#2a3f5f"
            },
            "baxis": {
             "endlinecolor": "#2a3f5f",
             "gridcolor": "white",
             "linecolor": "white",
             "minorgridcolor": "white",
             "startlinecolor": "#2a3f5f"
            },
            "type": "carpet"
           }
          ],
          "choropleth": [
           {
            "colorbar": {
             "outlinewidth": 0,
             "ticks": ""
            },
            "type": "choropleth"
           }
          ],
          "contour": [
           {
            "colorbar": {
             "outlinewidth": 0,
             "ticks": ""
            },
            "colorscale": [
             [
              0,
              "#0d0887"
             ],
             [
              0.1111111111111111,
              "#46039f"
             ],
             [
              0.2222222222222222,
              "#7201a8"
             ],
             [
              0.3333333333333333,
              "#9c179e"
             ],
             [
              0.4444444444444444,
              "#bd3786"
             ],
             [
              0.5555555555555556,
              "#d8576b"
             ],
             [
              0.6666666666666666,
              "#ed7953"
             ],
             [
              0.7777777777777778,
              "#fb9f3a"
             ],
             [
              0.8888888888888888,
              "#fdca26"
             ],
             [
              1,
              "#f0f921"
             ]
            ],
            "type": "contour"
           }
          ],
          "contourcarpet": [
           {
            "colorbar": {
             "outlinewidth": 0,
             "ticks": ""
            },
            "type": "contourcarpet"
           }
          ],
          "heatmap": [
           {
            "colorbar": {
             "outlinewidth": 0,
             "ticks": ""
            },
            "colorscale": [
             [
              0,
              "#0d0887"
             ],
             [
              0.1111111111111111,
              "#46039f"
             ],
             [
              0.2222222222222222,
              "#7201a8"
             ],
             [
              0.3333333333333333,
              "#9c179e"
             ],
             [
              0.4444444444444444,
              "#bd3786"
             ],
             [
              0.5555555555555556,
              "#d8576b"
             ],
             [
              0.6666666666666666,
              "#ed7953"
             ],
             [
              0.7777777777777778,
              "#fb9f3a"
             ],
             [
              0.8888888888888888,
              "#fdca26"
             ],
             [
              1,
              "#f0f921"
             ]
            ],
            "type": "heatmap"
           }
          ],
          "heatmapgl": [
           {
            "colorbar": {
             "outlinewidth": 0,
             "ticks": ""
            },
            "colorscale": [
             [
              0,
              "#0d0887"
             ],
             [
              0.1111111111111111,
              "#46039f"
             ],
             [
              0.2222222222222222,
              "#7201a8"
             ],
             [
              0.3333333333333333,
              "#9c179e"
             ],
             [
              0.4444444444444444,
              "#bd3786"
             ],
             [
              0.5555555555555556,
              "#d8576b"
             ],
             [
              0.6666666666666666,
              "#ed7953"
             ],
             [
              0.7777777777777778,
              "#fb9f3a"
             ],
             [
              0.8888888888888888,
              "#fdca26"
             ],
             [
              1,
              "#f0f921"
             ]
            ],
            "type": "heatmapgl"
           }
          ],
          "histogram": [
           {
            "marker": {
             "pattern": {
              "fillmode": "overlay",
              "size": 10,
              "solidity": 0.2
             }
            },
            "type": "histogram"
           }
          ],
          "histogram2d": [
           {
            "colorbar": {
             "outlinewidth": 0,
             "ticks": ""
            },
            "colorscale": [
             [
              0,
              "#0d0887"
             ],
             [
              0.1111111111111111,
              "#46039f"
             ],
             [
              0.2222222222222222,
              "#7201a8"
             ],
             [
              0.3333333333333333,
              "#9c179e"
             ],
             [
              0.4444444444444444,
              "#bd3786"
             ],
             [
              0.5555555555555556,
              "#d8576b"
             ],
             [
              0.6666666666666666,
              "#ed7953"
             ],
             [
              0.7777777777777778,
              "#fb9f3a"
             ],
             [
              0.8888888888888888,
              "#fdca26"
             ],
             [
              1,
              "#f0f921"
             ]
            ],
            "type": "histogram2d"
           }
          ],
          "histogram2dcontour": [
           {
            "colorbar": {
             "outlinewidth": 0,
             "ticks": ""
            },
            "colorscale": [
             [
              0,
              "#0d0887"
             ],
             [
              0.1111111111111111,
              "#46039f"
             ],
             [
              0.2222222222222222,
              "#7201a8"
             ],
             [
              0.3333333333333333,
              "#9c179e"
             ],
             [
              0.4444444444444444,
              "#bd3786"
             ],
             [
              0.5555555555555556,
              "#d8576b"
             ],
             [
              0.6666666666666666,
              "#ed7953"
             ],
             [
              0.7777777777777778,
              "#fb9f3a"
             ],
             [
              0.8888888888888888,
              "#fdca26"
             ],
             [
              1,
              "#f0f921"
             ]
            ],
            "type": "histogram2dcontour"
           }
          ],
          "mesh3d": [
           {
            "colorbar": {
             "outlinewidth": 0,
             "ticks": ""
            },
            "type": "mesh3d"
           }
          ],
          "parcoords": [
           {
            "line": {
             "colorbar": {
              "outlinewidth": 0,
              "ticks": ""
             }
            },
            "type": "parcoords"
           }
          ],
          "pie": [
           {
            "automargin": true,
            "type": "pie"
           }
          ],
          "scatter": [
           {
            "marker": {
             "colorbar": {
              "outlinewidth": 0,
              "ticks": ""
             }
            },
            "type": "scatter"
           }
          ],
          "scatter3d": [
           {
            "line": {
             "colorbar": {
              "outlinewidth": 0,
              "ticks": ""
             }
            },
            "marker": {
             "colorbar": {
              "outlinewidth": 0,
              "ticks": ""
             }
            },
            "type": "scatter3d"
           }
          ],
          "scattercarpet": [
           {
            "marker": {
             "colorbar": {
              "outlinewidth": 0,
              "ticks": ""
             }
            },
            "type": "scattercarpet"
           }
          ],
          "scattergeo": [
           {
            "marker": {
             "colorbar": {
              "outlinewidth": 0,
              "ticks": ""
             }
            },
            "type": "scattergeo"
           }
          ],
          "scattergl": [
           {
            "marker": {
             "colorbar": {
              "outlinewidth": 0,
              "ticks": ""
             }
            },
            "type": "scattergl"
           }
          ],
          "scattermapbox": [
           {
            "marker": {
             "colorbar": {
              "outlinewidth": 0,
              "ticks": ""
             }
            },
            "type": "scattermapbox"
           }
          ],
          "scatterpolar": [
           {
            "marker": {
             "colorbar": {
              "outlinewidth": 0,
              "ticks": ""
             }
            },
            "type": "scatterpolar"
           }
          ],
          "scatterpolargl": [
           {
            "marker": {
             "colorbar": {
              "outlinewidth": 0,
              "ticks": ""
             }
            },
            "type": "scatterpolargl"
           }
          ],
          "scatterternary": [
           {
            "marker": {
             "colorbar": {
              "outlinewidth": 0,
              "ticks": ""
             }
            },
            "type": "scatterternary"
           }
          ],
          "surface": [
           {
            "colorbar": {
             "outlinewidth": 0,
             "ticks": ""
            },
            "colorscale": [
             [
              0,
              "#0d0887"
             ],
             [
              0.1111111111111111,
              "#46039f"
             ],
             [
              0.2222222222222222,
              "#7201a8"
             ],
             [
              0.3333333333333333,
              "#9c179e"
             ],
             [
              0.4444444444444444,
              "#bd3786"
             ],
             [
              0.5555555555555556,
              "#d8576b"
             ],
             [
              0.6666666666666666,
              "#ed7953"
             ],
             [
              0.7777777777777778,
              "#fb9f3a"
             ],
             [
              0.8888888888888888,
              "#fdca26"
             ],
             [
              1,
              "#f0f921"
             ]
            ],
            "type": "surface"
           }
          ],
          "table": [
           {
            "cells": {
             "fill": {
              "color": "#EBF0F8"
             },
             "line": {
              "color": "white"
             }
            },
            "header": {
             "fill": {
              "color": "#C8D4E3"
             },
             "line": {
              "color": "white"
             }
            },
            "type": "table"
           }
          ]
         },
         "layout": {
          "annotationdefaults": {
           "arrowcolor": "#2a3f5f",
           "arrowhead": 0,
           "arrowwidth": 1
          },
          "autotypenumbers": "strict",
          "coloraxis": {
           "colorbar": {
            "outlinewidth": 0,
            "ticks": ""
           }
          },
          "colorscale": {
           "diverging": [
            [
             0,
             "#8e0152"
            ],
            [
             0.1,
             "#c51b7d"
            ],
            [
             0.2,
             "#de77ae"
            ],
            [
             0.3,
             "#f1b6da"
            ],
            [
             0.4,
             "#fde0ef"
            ],
            [
             0.5,
             "#f7f7f7"
            ],
            [
             0.6,
             "#e6f5d0"
            ],
            [
             0.7,
             "#b8e186"
            ],
            [
             0.8,
             "#7fbc41"
            ],
            [
             0.9,
             "#4d9221"
            ],
            [
             1,
             "#276419"
            ]
           ],
           "sequential": [
            [
             0,
             "#0d0887"
            ],
            [
             0.1111111111111111,
             "#46039f"
            ],
            [
             0.2222222222222222,
             "#7201a8"
            ],
            [
             0.3333333333333333,
             "#9c179e"
            ],
            [
             0.4444444444444444,
             "#bd3786"
            ],
            [
             0.5555555555555556,
             "#d8576b"
            ],
            [
             0.6666666666666666,
             "#ed7953"
            ],
            [
             0.7777777777777778,
             "#fb9f3a"
            ],
            [
             0.8888888888888888,
             "#fdca26"
            ],
            [
             1,
             "#f0f921"
            ]
           ],
           "sequentialminus": [
            [
             0,
             "#0d0887"
            ],
            [
             0.1111111111111111,
             "#46039f"
            ],
            [
             0.2222222222222222,
             "#7201a8"
            ],
            [
             0.3333333333333333,
             "#9c179e"
            ],
            [
             0.4444444444444444,
             "#bd3786"
            ],
            [
             0.5555555555555556,
             "#d8576b"
            ],
            [
             0.6666666666666666,
             "#ed7953"
            ],
            [
             0.7777777777777778,
             "#fb9f3a"
            ],
            [
             0.8888888888888888,
             "#fdca26"
            ],
            [
             1,
             "#f0f921"
            ]
           ]
          },
          "colorway": [
           "#636efa",
           "#EF553B",
           "#00cc96",
           "#ab63fa",
           "#FFA15A",
           "#19d3f3",
           "#FF6692",
           "#B6E880",
           "#FF97FF",
           "#FECB52"
          ],
          "font": {
           "color": "#2a3f5f"
          },
          "geo": {
           "bgcolor": "white",
           "lakecolor": "white",
           "landcolor": "#E5ECF6",
           "showlakes": true,
           "showland": true,
           "subunitcolor": "white"
          },
          "hoverlabel": {
           "align": "left"
          },
          "hovermode": "closest",
          "mapbox": {
           "style": "light"
          },
          "paper_bgcolor": "white",
          "plot_bgcolor": "#E5ECF6",
          "polar": {
           "angularaxis": {
            "gridcolor": "white",
            "linecolor": "white",
            "ticks": ""
           },
           "bgcolor": "#E5ECF6",
           "radialaxis": {
            "gridcolor": "white",
            "linecolor": "white",
            "ticks": ""
           }
          },
          "scene": {
           "xaxis": {
            "backgroundcolor": "#E5ECF6",
            "gridcolor": "white",
            "gridwidth": 2,
            "linecolor": "white",
            "showbackground": true,
            "ticks": "",
            "zerolinecolor": "white"
           },
           "yaxis": {
            "backgroundcolor": "#E5ECF6",
            "gridcolor": "white",
            "gridwidth": 2,
            "linecolor": "white",
            "showbackground": true,
            "ticks": "",
            "zerolinecolor": "white"
           },
           "zaxis": {
            "backgroundcolor": "#E5ECF6",
            "gridcolor": "white",
            "gridwidth": 2,
            "linecolor": "white",
            "showbackground": true,
            "ticks": "",
            "zerolinecolor": "white"
           }
          },
          "shapedefaults": {
           "line": {
            "color": "#2a3f5f"
           }
          },
          "ternary": {
           "aaxis": {
            "gridcolor": "white",
            "linecolor": "white",
            "ticks": ""
           },
           "baxis": {
            "gridcolor": "white",
            "linecolor": "white",
            "ticks": ""
           },
           "bgcolor": "#E5ECF6",
           "caxis": {
            "gridcolor": "white",
            "linecolor": "white",
            "ticks": ""
           }
          },
          "title": {
           "x": 0.05
          },
          "xaxis": {
           "automargin": true,
           "gridcolor": "white",
           "linecolor": "white",
           "ticks": "",
           "title": {
            "standoff": 15
           },
           "zerolinecolor": "white",
           "zerolinewidth": 2
          },
          "yaxis": {
           "automargin": true,
           "gridcolor": "white",
           "linecolor": "white",
           "ticks": "",
           "title": {
            "standoff": 15
           },
           "zerolinecolor": "white",
           "zerolinewidth": 2
          }
         }
        },
        "title": {
         "text": "Parallel Coordinate Plot"
        }
       }
      }
     },
     "metadata": {},
     "output_type": "display_data"
    }
   ],
   "source": [
    "fig = optuna.visualization.plot_parallel_coordinate(study,params=['learning_rate','learning_rate','batch_size','conv1_channels','conv2_channels','conv3_channels','conv4_channels',\n",
    " 'kernel_12', 'kernel_34','padding', 'stride','dilation'])\n",
    "fig.show()"
   ]
  },
  {
   "cell_type": "code",
   "execution_count": 58,
   "metadata": {},
   "outputs": [
    {
     "name": "stderr",
     "output_type": "stream",
     "text": [
      "C:\\Users\\Rania\\AppData\\Local\\Temp/ipykernel_164/1194121658.py:1: ExperimentalWarning:\n",
      "\n",
      "plot_slice is experimental (supported from v2.2.0). The interface can change in the future.\n",
      "\n"
     ]
    },
    {
     "data": {
      "text/plain": [
       "array([<AxesSubplot:xlabel='batch_size', ylabel='Objective Value'>,\n",
       "       <AxesSubplot:xlabel='conv1_channels'>,\n",
       "       <AxesSubplot:xlabel='conv2_channels'>,\n",
       "       <AxesSubplot:xlabel='conv3_channels'>,\n",
       "       <AxesSubplot:xlabel='conv4_channels'>,\n",
       "       <AxesSubplot:xlabel='dilation'>, <AxesSubplot:xlabel='kernel_12'>,\n",
       "       <AxesSubplot:xlabel='kernel_34'>,\n",
       "       <AxesSubplot:xlabel='learning_rate'>,\n",
       "       <AxesSubplot:xlabel='padding'>, <AxesSubplot:xlabel='stride'>],\n",
       "      dtype=object)"
      ]
     },
     "execution_count": 58,
     "metadata": {},
     "output_type": "execute_result"
    },
    {
     "data": {
      "image/png": "[encoded data removed]",
      "text/plain": [
       "<Figure size 2376x288 with 12 Axes>"
      ]
     },
     "metadata": {},
     "output_type": "display_data"
    }
   ],
   "source": [
    "optuna.visualization.matplotlib.plot_slice(study, params=['learning_rate','learning_rate','batch_size','conv1_channels','conv2_channels','conv3_channels','conv4_channels',\n",
    " 'kernel_12', 'kernel_34','padding', 'stride','dilation'])"
   ]
  },
  {
   "cell_type": "code",
   "execution_count": 60,
   "metadata": {},
   "outputs": [
    {
     "name": "stderr",
     "output_type": "stream",
     "text": [
      "C:\\Users\\Rania\\AppData\\Local\\Temp/ipykernel_164/4239086276.py:3: ExperimentalWarning:\n",
      "\n",
      "plot_contour is experimental (supported from v2.2.0). The interface can change in the future.\n",
      "\n",
      "\u001b[33m[W 2022-10-05 16:43:00,032]\u001b[0m Output figures of this Matplotlib-based `plot_contour` function would be different from those of the Plotly-based `plot_contour`.\u001b[0m\n"
     ]
    },
    {
     "ename": "KeyboardInterrupt",
     "evalue": "",
     "output_type": "error",
     "traceback": [
      "\u001b[1;31m---------------------------------------------------------------------------\u001b[0m",
      "\u001b[1;31mKeyboardInterrupt\u001b[0m                         Traceback (most recent call last)",
      "\u001b[1;32m~\\AppData\\Local\\Temp/ipykernel_164/4239086276.py\u001b[0m in \u001b[0;36m<module>\u001b[1;34m\u001b[0m\n\u001b[0;32m      1\u001b[0m \u001b[0mfigure\u001b[0m\u001b[1;33m(\u001b[0m\u001b[0mfigsize\u001b[0m\u001b[1;33m=\u001b[0m\u001b[1;33m(\u001b[0m\u001b[1;36m8\u001b[0m\u001b[1;33m,\u001b[0m \u001b[1;36m6\u001b[0m\u001b[1;33m)\u001b[0m\u001b[1;33m,\u001b[0m \u001b[0mdpi\u001b[0m\u001b[1;33m=\u001b[0m\u001b[1;36m80\u001b[0m\u001b[1;33m)\u001b[0m\u001b[1;33m\u001b[0m\u001b[1;33m\u001b[0m\u001b[0m\n\u001b[0;32m      2\u001b[0m \u001b[1;33m\u001b[0m\u001b[0m\n\u001b[1;32m----> 3\u001b[1;33m optuna.visualization.matplotlib.plot_contour(study, params=['learning_rate','learning_rate','batch_size','conv1_channels','conv2_channels','conv3_channels','conv4_channels',\n\u001b[0m\u001b[0;32m      4\u001b[0m  'kernel_12', 'kernel_34','padding', 'stride','dilation'])\n",
      "\u001b[1;32mc:\\Users\\Rania\\Anaconda3\\envs\\study2\\lib\\site-packages\\optuna\\_experimental.py\u001b[0m in \u001b[0;36mnew_func\u001b[1;34m(*args, **kwargs)\u001b[0m\n\u001b[0;32m     66\u001b[0m                 )\n\u001b[0;32m     67\u001b[0m \u001b[1;33m\u001b[0m\u001b[0m\n\u001b[1;32m---> 68\u001b[1;33m                 \u001b[1;32mreturn\u001b[0m \u001b[0mfunc\u001b[0m\u001b[1;33m(\u001b[0m\u001b[1;33m*\u001b[0m\u001b[0margs\u001b[0m\u001b[1;33m,\u001b[0m \u001b[1;33m**\u001b[0m\u001b[0mkwargs\u001b[0m\u001b[1;33m)\u001b[0m  \u001b[1;31m# type: ignore\u001b[0m\u001b[1;33m\u001b[0m\u001b[1;33m\u001b[0m\u001b[0m\n\u001b[0m\u001b[0;32m     69\u001b[0m \u001b[1;33m\u001b[0m\u001b[0m\n\u001b[0;32m     70\u001b[0m             \u001b[1;32mreturn\u001b[0m \u001b[0mnew_func\u001b[0m\u001b[1;33m\u001b[0m\u001b[1;33m\u001b[0m\u001b[0m\n",
      "\u001b[1;32mc:\\Users\\Rania\\Anaconda3\\envs\\study2\\lib\\site-packages\\optuna\\visualization\\matplotlib\\_contour.py\u001b[0m in \u001b[0;36mplot_contour\u001b[1;34m(study, params, target, target_name)\u001b[0m\n\u001b[0;32m    107\u001b[0m         \u001b[1;34m\"those of the Plotly-based `plot_contour`.\"\u001b[0m\u001b[1;33m\u001b[0m\u001b[1;33m\u001b[0m\u001b[0m\n\u001b[0;32m    108\u001b[0m     )\n\u001b[1;32m--> 109\u001b[1;33m     \u001b[1;32mreturn\u001b[0m \u001b[0m_get_contour_plot\u001b[0m\u001b[1;33m(\u001b[0m\u001b[0mstudy\u001b[0m\u001b[1;33m,\u001b[0m \u001b[0mparams\u001b[0m\u001b[1;33m,\u001b[0m \u001b[0mtarget\u001b[0m\u001b[1;33m,\u001b[0m \u001b[0mtarget_name\u001b[0m\u001b[1;33m)\u001b[0m\u001b[1;33m\u001b[0m\u001b[1;33m\u001b[0m\u001b[0m\n\u001b[0m\u001b[0;32m    110\u001b[0m \u001b[1;33m\u001b[0m\u001b[0m\n\u001b[0;32m    111\u001b[0m \u001b[1;33m\u001b[0m\u001b[0m\n",
      "\u001b[1;32mc:\\Users\\Rania\\Anaconda3\\envs\\study2\\lib\\site-packages\\optuna\\visualization\\matplotlib\\_contour.py\u001b[0m in \u001b[0;36m_get_contour_plot\u001b[1;34m(study, params, target, target_name)\u001b[0m\n\u001b[0;32m    172\u001b[0m             \u001b[1;32mfor\u001b[0m \u001b[0my_i\u001b[0m\u001b[1;33m,\u001b[0m \u001b[0my_param\u001b[0m \u001b[1;32min\u001b[0m \u001b[0menumerate\u001b[0m\u001b[1;33m(\u001b[0m\u001b[0msorted_params\u001b[0m\u001b[1;33m)\u001b[0m\u001b[1;33m:\u001b[0m\u001b[1;33m\u001b[0m\u001b[1;33m\u001b[0m\u001b[0m\n\u001b[0;32m    173\u001b[0m                 \u001b[0max\u001b[0m \u001b[1;33m=\u001b[0m \u001b[0maxs\u001b[0m\u001b[1;33m[\u001b[0m\u001b[0my_i\u001b[0m\u001b[1;33m,\u001b[0m \u001b[0mx_i\u001b[0m\u001b[1;33m]\u001b[0m\u001b[1;33m\u001b[0m\u001b[1;33m\u001b[0m\u001b[0m\n\u001b[1;32m--> 174\u001b[1;33m                 cs = _generate_contour_subplot(\n\u001b[0m\u001b[0;32m    175\u001b[0m                     \u001b[0mtrials\u001b[0m\u001b[1;33m,\u001b[0m \u001b[0mx_param\u001b[0m\u001b[1;33m,\u001b[0m \u001b[0my_param\u001b[0m\u001b[1;33m,\u001b[0m \u001b[0max\u001b[0m\u001b[1;33m,\u001b[0m \u001b[0mcmap\u001b[0m\u001b[1;33m,\u001b[0m \u001b[0mcontour_point_num\u001b[0m\u001b[1;33m,\u001b[0m \u001b[0mtarget\u001b[0m\u001b[1;33m\u001b[0m\u001b[1;33m\u001b[0m\u001b[0m\n\u001b[0;32m    176\u001b[0m                 )\n",
      "\u001b[1;32mc:\\Users\\Rania\\Anaconda3\\envs\\study2\\lib\\site-packages\\optuna\\visualization\\matplotlib\\_contour.py\u001b[0m in \u001b[0;36m_generate_contour_subplot\u001b[1;34m(trials, x_param, y_param, ax, cmap, contour_point_num, target)\u001b[0m\n\u001b[0;32m    395\u001b[0m         \u001b[0mx_values_dummy_count\u001b[0m\u001b[1;33m,\u001b[0m\u001b[1;33m\u001b[0m\u001b[1;33m\u001b[0m\u001b[0m\n\u001b[0;32m    396\u001b[0m         \u001b[0my_values_dummy_count\u001b[0m\u001b[1;33m,\u001b[0m\u001b[1;33m\u001b[0m\u001b[1;33m\u001b[0m\u001b[0m\n\u001b[1;32m--> 397\u001b[1;33m     \u001b[1;33m)\u001b[0m \u001b[1;33m=\u001b[0m \u001b[0m_calculate_griddata\u001b[0m\u001b[1;33m(\u001b[0m\u001b[1;33m\u001b[0m\u001b[1;33m\u001b[0m\u001b[0m\n\u001b[0m\u001b[0;32m    398\u001b[0m         \u001b[0mtrials\u001b[0m\u001b[1;33m,\u001b[0m \u001b[0mx_param\u001b[0m\u001b[1;33m,\u001b[0m \u001b[0mx_indices\u001b[0m\u001b[1;33m,\u001b[0m \u001b[0my_param\u001b[0m\u001b[1;33m,\u001b[0m \u001b[0my_indices\u001b[0m\u001b[1;33m,\u001b[0m \u001b[0mcontour_point_num\u001b[0m\u001b[1;33m,\u001b[0m \u001b[0mtarget\u001b[0m\u001b[1;33m\u001b[0m\u001b[1;33m\u001b[0m\u001b[0m\n\u001b[0;32m    399\u001b[0m     )\n",
      "\u001b[1;32mc:\\Users\\Rania\\Anaconda3\\envs\\study2\\lib\\site-packages\\optuna\\visualization\\matplotlib\\_contour.py\u001b[0m in \u001b[0;36m_calculate_griddata\u001b[1;34m(trials, x_param, x_indices, y_param, y_indices, contour_point_num, target)\u001b[0m\n\u001b[0;32m    342\u001b[0m         \u001b[1;31m# and interpolate it with Plotly algorithm\u001b[0m\u001b[1;33m\u001b[0m\u001b[1;33m\u001b[0m\u001b[0m\n\u001b[0;32m    343\u001b[0m         \u001b[0mzmap\u001b[0m \u001b[1;33m=\u001b[0m \u001b[0m_create_zmap\u001b[0m\u001b[1;33m(\u001b[0m\u001b[0mx_array\u001b[0m\u001b[1;33m,\u001b[0m \u001b[0my_array\u001b[0m\u001b[1;33m,\u001b[0m \u001b[0mz_values\u001b[0m\u001b[1;33m,\u001b[0m \u001b[0mxi\u001b[0m\u001b[1;33m,\u001b[0m \u001b[0myi\u001b[0m\u001b[1;33m)\u001b[0m\u001b[1;33m\u001b[0m\u001b[1;33m\u001b[0m\u001b[0m\n\u001b[1;32m--> 344\u001b[1;33m         \u001b[0m_interpolate_zmap\u001b[0m\u001b[1;33m(\u001b[0m\u001b[0mzmap\u001b[0m\u001b[1;33m,\u001b[0m \u001b[0mcontour_point_num\u001b[0m\u001b[1;33m)\u001b[0m\u001b[1;33m\u001b[0m\u001b[1;33m\u001b[0m\u001b[0m\n\u001b[0m\u001b[0;32m    345\u001b[0m         \u001b[0mzi\u001b[0m \u001b[1;33m=\u001b[0m \u001b[0m_create_zmatrix_from_zmap\u001b[0m\u001b[1;33m(\u001b[0m\u001b[0mzmap\u001b[0m\u001b[1;33m,\u001b[0m \u001b[0mcontour_point_num\u001b[0m\u001b[1;33m)\u001b[0m\u001b[1;33m\u001b[0m\u001b[1;33m\u001b[0m\u001b[0m\n\u001b[0;32m    346\u001b[0m \u001b[1;33m\u001b[0m\u001b[0m\n",
      "\u001b[1;32mc:\\Users\\Rania\\Anaconda3\\envs\\study2\\lib\\site-packages\\optuna\\visualization\\matplotlib\\_contour.py\u001b[0m in \u001b[0;36m_interpolate_zmap\u001b[1;34m(zmap, contour_plot_num)\u001b[0m\n\u001b[0;32m    502\u001b[0m             \u001b[1;31m# correct for overshoot and run again\u001b[0m\u001b[1;33m\u001b[0m\u001b[1;33m\u001b[0m\u001b[0m\n\u001b[0;32m    503\u001b[0m             \u001b[0mmax_fractional_delta\u001b[0m \u001b[1;33m=\u001b[0m \u001b[1;36m0.5\u001b[0m \u001b[1;33m-\u001b[0m \u001b[1;36m0.25\u001b[0m \u001b[1;33m*\u001b[0m \u001b[0mmin\u001b[0m\u001b[1;33m(\u001b[0m\u001b[1;36m1\u001b[0m\u001b[1;33m,\u001b[0m \u001b[0mmax_fractional_delta\u001b[0m \u001b[1;33m*\u001b[0m \u001b[1;36m0.5\u001b[0m\u001b[1;33m)\u001b[0m\u001b[1;33m\u001b[0m\u001b[1;33m\u001b[0m\u001b[0m\n\u001b[1;32m--> 504\u001b[1;33m             \u001b[0mmax_fractional_delta\u001b[0m \u001b[1;33m=\u001b[0m \u001b[0m_run_iteration\u001b[0m\u001b[1;33m(\u001b[0m\u001b[0mzmap\u001b[0m\u001b[1;33m,\u001b[0m \u001b[0mempties\u001b[0m\u001b[1;33m,\u001b[0m \u001b[0mmax_fractional_delta\u001b[0m\u001b[1;33m)\u001b[0m\u001b[1;33m\u001b[0m\u001b[1;33m\u001b[0m\u001b[0m\n\u001b[0m\u001b[0;32m    505\u001b[0m \u001b[1;33m\u001b[0m\u001b[0m\n\u001b[0;32m    506\u001b[0m         \u001b[1;32melse\u001b[0m\u001b[1;33m:\u001b[0m\u001b[1;33m\u001b[0m\u001b[1;33m\u001b[0m\u001b[0m\n",
      "\u001b[1;32mc:\\Users\\Rania\\Anaconda3\\envs\\study2\\lib\\site-packages\\optuna\\visualization\\matplotlib\\_contour.py\u001b[0m in \u001b[0;36m_run_iteration\u001b[1;34m(zmap, coordinates, overshoot)\u001b[0m\n\u001b[0;32m    617\u001b[0m             \u001b[0mzmap\u001b[0m\u001b[1;33m[\u001b[0m\u001b[0mcoord\u001b[0m\u001b[1;33m]\u001b[0m \u001b[1;33m=\u001b[0m \u001b[1;33m(\u001b[0m\u001b[1;36m1\u001b[0m \u001b[1;33m+\u001b[0m \u001b[0movershoot\u001b[0m\u001b[1;33m)\u001b[0m \u001b[1;33m*\u001b[0m \u001b[0mnew_val\u001b[0m \u001b[1;33m-\u001b[0m \u001b[0movershoot\u001b[0m \u001b[1;33m*\u001b[0m \u001b[0mcurrent_val\u001b[0m\u001b[1;33m\u001b[0m\u001b[1;33m\u001b[0m\u001b[0m\n\u001b[0;32m    618\u001b[0m             \u001b[1;32mif\u001b[0m \u001b[0mmax_neighbor\u001b[0m \u001b[1;33m>\u001b[0m \u001b[0mmin_neighbor\u001b[0m\u001b[1;33m:\u001b[0m\u001b[1;33m\u001b[0m\u001b[1;33m\u001b[0m\u001b[0m\n\u001b[1;32m--> 619\u001b[1;33m                 \u001b[0mfractional_delta\u001b[0m \u001b[1;33m=\u001b[0m \u001b[0mabs\u001b[0m\u001b[1;33m(\u001b[0m\u001b[0mnew_val\u001b[0m \u001b[1;33m-\u001b[0m \u001b[0mcurrent_val\u001b[0m\u001b[1;33m)\u001b[0m \u001b[1;33m/\u001b[0m \u001b[1;33m(\u001b[0m\u001b[0mmax_neighbor\u001b[0m \u001b[1;33m-\u001b[0m \u001b[0mmin_neighbor\u001b[0m\u001b[1;33m)\u001b[0m\u001b[1;33m\u001b[0m\u001b[1;33m\u001b[0m\u001b[0m\n\u001b[0m\u001b[0;32m    620\u001b[0m                 \u001b[0mmax_fractional_delta\u001b[0m \u001b[1;33m=\u001b[0m \u001b[0mmax\u001b[0m\u001b[1;33m(\u001b[0m\u001b[0movershoot\u001b[0m\u001b[1;33m,\u001b[0m \u001b[0mfractional_delta\u001b[0m\u001b[1;33m)\u001b[0m\u001b[1;33m\u001b[0m\u001b[1;33m\u001b[0m\u001b[0m\n\u001b[0;32m    621\u001b[0m \u001b[1;33m\u001b[0m\u001b[0m\n",
      "\u001b[1;31mKeyboardInterrupt\u001b[0m: "
     ]
    },
    {
     "data": {
      "text/plain": [
       "<Figure size 640x480 with 0 Axes>"
      ]
     },
     "metadata": {},
     "output_type": "display_data"
    },
    {
     "data": {
      "image/png": "[encoded data removed]",
      "text/plain": [
       "<Figure size 432x288 with 121 Axes>"
      ]
     },
     "metadata": {},
     "output_type": "display_data"
    }
   ],
   "source": [
    "figure(figsize=(8, 6), dpi=80)\n",
    "\n",
    "optuna.visualization.matplotlib.plot_contour(study, params=['learning_rate','learning_rate','batch_size','conv1_channels','conv2_channels','conv3_channels','conv4_channels',\n",
    " 'kernel_12', 'kernel_34','padding', 'stride','dilation'])"
   ]
  },
  {
   "cell_type": "code",
   "execution_count": 61,
   "metadata": {},
   "outputs": [
    {
     "name": "stdout",
     "output_type": "stream",
     "text": [
      "Current working directory is: D:\\Study 2 Results and Models\\Study 2 Optimisation\\CNN\\2022_10_05 CNN Optimisation\n",
      "There are 38 files in the specified path.\n"
     ]
    }
   ],
   "source": [
    "MODEL_PATH= r'D:\\Study 2 Results and Models\\Study 2 Optimisation\\CNN\\2022_10_05 CNN Optimisation'\n",
    "\n",
    "model_file = os.listdir(MODEL_PATH) \n",
    "\n",
    "# Changes the working directory to get the data from their location \n",
    "os.chdir(MODEL_PATH)\n",
    "cwd = os.getcwd()\n",
    "\n",
    "print(f'Current working directory is: {cwd}') \n",
    "print(f\"There are {len(model_file)} files in the specified path.\")"
   ]
  },
  {
   "cell_type": "code",
   "execution_count": 62,
   "metadata": {},
   "outputs": [
    {
     "name": "stdout",
     "output_type": "stream",
     "text": [
      "CNN-trial0.pt: best_epoch: 40, best_val_loss: 0.02842, dtw_distance: 26.85105\n",
      "CNN-trial1.pt: best_epoch: 1, best_val_loss: 0.00134, dtw_distance: 8.01342\n",
      "CNN-trial10.pt: best_epoch: 38, best_val_loss: 0.00262, dtw_distance: 8.51679\n",
      "CNN-trial13.pt: best_epoch: 40, best_val_loss: 0.02623, dtw_distance: 23.40541\n",
      "CNN-trial14.pt: best_epoch: 32, best_val_loss: 0.00002, dtw_distance: 9.07954\n",
      "CNN-trial15.pt: best_epoch: 35, best_val_loss: 0.00245, dtw_distance: 11.62260\n",
      "CNN-trial16.pt: best_epoch: 40, best_val_loss: 0.00295, dtw_distance: 7.18908\n",
      "CNN-trial17.pt: best_epoch: 2, best_val_loss: 0.00039, dtw_distance: 13.40658\n",
      "CNN-trial18.pt: best_epoch: 5, best_val_loss: 0.00206, dtw_distance: 9.12923\n",
      "CNN-trial19.pt: best_epoch: 1, best_val_loss: 0.00128, dtw_distance: 12.00246\n",
      "CNN-trial2.pt: best_epoch: 8, best_val_loss: 0.00876, dtw_distance: 12.18917\n",
      "CNN-trial20.pt: best_epoch: 2, best_val_loss: 0.00338, dtw_distance: 11.10058\n",
      "CNN-trial21.pt: best_epoch: 34, best_val_loss: 0.00080, dtw_distance: 7.13981\n",
      "CNN-trial22.pt: best_epoch: 15, best_val_loss: 0.00062, dtw_distance: 7.16908\n",
      "CNN-trial23.pt: best_epoch: 8, best_val_loss: 0.00158, dtw_distance: 7.06074\n",
      "CNN-trial24.pt: best_epoch: 14, best_val_loss: 0.00065, dtw_distance: 6.83666\n",
      "CNN-trial25.pt: best_epoch: 8, best_val_loss: 0.00054, dtw_distance: 7.04105\n",
      "CNN-trial3.pt: best_epoch: 29, best_val_loss: 0.00071, dtw_distance: 7.07347\n",
      "CNN-trial31.pt: best_epoch: 17, best_val_loss: 0.00025, dtw_distance: 7.82558\n",
      "CNN-trial36.pt: best_epoch: 5, best_val_loss: 0.00158, dtw_distance: 5.97938\n",
      "CNN-trial4.pt: best_epoch: 3, best_val_loss: 0.00682, dtw_distance: 12.59487\n",
      "CNN-trial40.pt: best_epoch: 1, best_val_loss: 0.00519, dtw_distance: 12.23898\n",
      "CNN-trial41.pt: best_epoch: 2, best_val_loss: 0.00242, dtw_distance: 7.61358\n",
      "CNN-trial43.pt: best_epoch: 9, best_val_loss: 0.00039, dtw_distance: 10.06940\n",
      "CNN-trial46.pt: best_epoch: 31, best_val_loss: 0.00035, dtw_distance: 6.83950\n",
      "CNN-trial47.pt: best_epoch: 23, best_val_loss: 0.00149, dtw_distance: 5.80448\n",
      "CNN-trial48.pt: best_epoch: 26, best_val_loss: 0.00097, dtw_distance: 5.37854\n",
      "CNN-trial49.pt: best_epoch: 11, best_val_loss: 0.03441, dtw_distance: 28.19461\n",
      "CNN-trial5.pt: best_epoch: 14, best_val_loss: 0.00060, dtw_distance: 9.29866\n",
      "CNN-trial50.pt: best_epoch: 1, best_val_loss: 0.00605, dtw_distance: 8.93005\n",
      "CNN-trial51.pt: best_epoch: 27, best_val_loss: 0.00110, dtw_distance: 5.90928\n",
      "CNN-trial6.pt: best_epoch: 1, best_val_loss: 0.00224, dtw_distance: 14.53409\n",
      "CNN-trial7.pt: best_epoch: 1, best_val_loss: 0.00387, dtw_distance: 8.57408\n",
      "CNN-trial8.pt: best_epoch: 10, best_val_loss: 0.00017, dtw_distance: 9.63389\n",
      "CNN-trial9.pt: best_epoch: 3, best_val_loss: 0.00525, dtw_distance: 9.05397\n"
     ]
    }
   ],
   "source": [
    "for f in model_file:\n",
    "    if f.endswith((\".pt\")):\n",
    "        checkpoint = torch.load(f)\n",
    "        best_epoch = checkpoint['epoch']\n",
    "        best_val_loss = checkpoint['val_loss']\n",
    "        dtw_total = checkpoint['dtw_distance']\n",
    "\n",
    "        print(f'{f}: best_epoch: {best_epoch}, best_val_loss: {best_val_loss:.5f}, dtw_distance: {dtw_total:.5f}')"
   ]
  },
  {
   "cell_type": "code",
   "execution_count": null,
   "metadata": {},
   "outputs": [],
   "source": [
    "#load model \n",
    "def load_checkpoint(filepath):\n",
    "    checkpoint = torch.load(filepath)\n",
    "    model = checkpoint['model']\n",
    "    model.load_state_dict(checkpoint['state_dict'])\n",
    "    for parameter in model.parameters():\n",
    "        parameter.requires_grad = False\n",
    "\n",
    "    model.eval()\n",
    "    return model\n",
    "\n",
    "model = load_checkpoint(path)"
   ]
  },
  {
   "cell_type": "code",
   "execution_count": null,
   "metadata": {},
   "outputs": [],
   "source": [
    "\n",
    "fig, ax = plt.subplots(1, 1, figsize=(15, 5))\n",
    "\n",
    "ax.plot(train_loss[:], lw=2, label='Train Loss')\n",
    "ax.plot(val_loss[:], lw=2, label='Val Loss')\n",
    "\n",
    "ax.set_xlabel(\"Epoch\")\n",
    "ax.set_ylabel(\"Loss (MSE)\")\n",
    "ax.legend()\n",
    "plt.show()\n",
    "\n",
    "fig, ax = plt.subplots(1, 1, figsize=(15, 5))\n",
    "\n",
    "ax.plot(train_loss[:], lw=2, label='Train Loss')\n",
    "ax.plot(val_loss[:], lw=2, label='Val Loss')\n",
    "ax.plot(lt_loss[:], lw=2, label='Long term prediction Loss')\n",
    "\n",
    "ax.set_xlabel(\"Epoch\")\n",
    "ax.set_ylabel(\"Loss (MSE)\")\n",
    "ax.legend()\n",
    "plt.show()\n",
    "\n",
    "plt.figure(figsize=(15,5))\n",
    "plt.plot(dtw_loss, lw=2, label='dtw')\n",
    "plt.xlabel(\"Epoch\")\n",
    "plt.ylabel(\"Distance\")\n",
    "plt.legend()\n",
    "plt.show()"
   ]
  },
  {
   "cell_type": "code",
   "execution_count": null,
   "metadata": {},
   "outputs": [],
   "source": [
    "plt.plot(dtw_loss)"
   ]
  },
  {
   "cell_type": "code",
   "execution_count": null,
   "metadata": {},
   "outputs": [],
   "source": [
    "fig, ax = plt.subplots(1, 1, figsize=(15, 5))\n",
    "\n",
    "ax.plot(np.log(train_loss[:]), lw=2, label='Train Loss')\n",
    "ax.plot(np.log(val_loss[:]), lw=2, label='Val Loss')\n",
    "ax.plot(np.log(lt_loss[:]), lw=2, label='Long term prediction Loss')\n",
    "\n",
    "ax.set_xlabel(\"Epoch\")\n",
    "ax.set_ylabel(\"Log Loss (MSE)\")\n",
    "ax.legend()\n",
    "plt.show()"
   ]
  },
  {
   "cell_type": "code",
   "execution_count": null,
   "metadata": {},
   "outputs": [],
   "source": [
    "test_dataset = X_val_lt.to(DEVICE)\n",
    "with torch.no_grad():\n",
    "    test_predictions = model(test_dataset)\n",
    "\n",
    "test_predictions.shape"
   ]
  },
  {
   "cell_type": "code",
   "execution_count": null,
   "metadata": {},
   "outputs": [],
   "source": [
    "#Single Joint Plot\n",
    "# x1 = np.arange(0,100)\n",
    "# x2 = 101\n",
    "# s = 200\n",
    "\n",
    "# fig, ax = plt.subplots(1,1,figsize=(15,5))\n",
    "\n",
    "# plt.plot(x1, test_dataset[s,:,0].cpu().numpy().reshape(-1,1).squeeze(), lw=3, c='b', label = 'input')\n",
    "# plt.scatter(x2, test_predictions[s,:,0].cpu().numpy(), lw=6, c='g', label='prediction')\n",
    "\n",
    "# plt.xlabel('Time-steps')\n",
    "# plt.ylabel('Angle (normalised)')\n",
    "# ax.legend(loc='lower left')\n",
    "# plt.show()"
   ]
  },
  {
   "cell_type": "code",
   "execution_count": null,
   "metadata": {},
   "outputs": [],
   "source": [
    "x1 = np.arange(0,100)\n",
    "x2 = 101\n",
    "s = 200\n",
    "\n",
    "fig, axs = plt.subplots(nrows=2, ncols=3, tight_layout=True, figsize=(15,7))\n",
    "n = [[0,0], [0,1], [0,2], [1,0], [1,1], [1,2]] #indicies for the plots\n",
    "\n",
    "text_size = 11\n",
    "\n",
    "for f in range(len(features)):\n",
    "    axs[n[f][0],n[f][1]].plot(x1, test_dataset[s,:,f].cpu().numpy().reshape(-1,1).squeeze(), lw=3, c='b', label = 'input')\n",
    "    axs[n[f][0],n[f][1]].scatter(x2, test_predictions[s,:,f].cpu().numpy(), lw=6, c='g', label='prediction')\n",
    "    axs[n[f][0],n[f][1]].set_xlabel('Time-steps', size=text_size)\n",
    "    axs[n[f][0],n[f][1]].set_ylabel('Angle (Normalised)', size=text_size)\n",
    "    axs[n[f][0],n[f][1]].set_title(features[f], size=text_size)\n",
    "\n",
    "axLine, axLabel = ax.get_legend_handles_labels()\n",
    "fig.legend(axLine, axLabel,           \n",
    "           loc = 'lower right')"
   ]
  },
  {
   "cell_type": "code",
   "execution_count": null,
   "metadata": {},
   "outputs": [],
   "source": [
    "extrapolation = torch.zeros((1,200, len(features))).to(DEVICE)\n",
    "seed_batch = test_dataset[s,:,:].unsqueeze(0).to(DEVICE)\n",
    "current_batch = seed_batch\n",
    "with torch.no_grad():\n",
    "    for i in range(200):\n",
    "        predicted_value = model(current_batch)\n",
    "        extrapolation[:,i,:] = predicted_value\n",
    "        current_batch = torch.cat((current_batch[:,1:,:], predicted_value), axis=1)\n",
    "\n",
    "seed_batch.shape"
   ]
  },
  {
   "cell_type": "code",
   "execution_count": null,
   "metadata": {},
   "outputs": [],
   "source": [
    "x1 = np.arange(0,100)\n",
    "x2 = 101\n",
    "x3 = np.arange(101,301)\n",
    "\n",
    "fig, ax = plt.subplots(1,1,figsize=(15,5))\n",
    "plt.plot(x1, seed_batch[:,:,0].cpu().numpy().reshape(-1,1).squeeze(), lw=3, c='b', label='input')\n",
    "plt.plot(x3, extrapolation[:,:,0].cpu().numpy().reshape(-1,1).squeeze(), lw=3, linestyle='dashed', c='g', label='extrapolation')\n",
    "plt.plot(x3, Y_val_lt[s,:,0].cpu().numpy().reshape(-1,1).squeeze(), lw=2, c='r', label='actual')\n",
    "plt.legend()"
   ]
  },
  {
   "cell_type": "code",
   "execution_count": null,
   "metadata": {},
   "outputs": [],
   "source": [
    "x1 = np.arange(0,100)\n",
    "x2 = 101\n",
    "x3 = np.arange(101,301)\n",
    "\n",
    "fig, axs = plt.subplots(nrows=2, ncols=3, tight_layout=True, figsize=(15,7))\n",
    "n = [[0,0], [0,1], [0,2], [1,0], [1,1], [1,2]] #indicies for the plots\n",
    "\n",
    "text_size = 11\n",
    "for f in range(len(features)):\n",
    "    axs[n[f][0],n[f][1]].plot(x1, seed_batch[:,:,f].cpu().numpy().reshape(-1,1).squeeze(), lw=3, c='b', label='input')\n",
    "    axs[n[f][0],n[f][1]].plot(x3, extrapolation[:,:,f].cpu().numpy().reshape(-1,1).squeeze(), lw=3, linestyle='dashed', c='g', label='extrapolation')\n",
    "    axs[n[f][0],n[f][1]].plot(x3, Y_val_lt[s,:,f].cpu().numpy().reshape(-1,1).squeeze(), lw=2, c='r', label='actual')\n",
    "    axs[n[f][0],n[f][1]].set_xlabel('Time-steps', size=text_size)\n",
    "    axs[n[f][0],n[f][1]].set_ylabel('Angle (Normalised)', size=text_size)\n",
    "    axs[n[f][0],n[f][1]].set_title(features[f], size=text_size)\n",
    "\n",
    "axLine, axLabel = ax.get_legend_handles_labels()\n",
    "fig.legend(axLine, axLabel,           \n",
    "           loc = 'lower right')"
   ]
  },
  {
   "cell_type": "markdown",
   "metadata": {},
   "source": [
    "### Calculating MSE and MAE"
   ]
  },
  {
   "cell_type": "code",
   "execution_count": null,
   "metadata": {},
   "outputs": [],
   "source": [
    "print(f'shape of X validation data: {X_val.shape}, Y validation data: {Y_val.shape}')"
   ]
  },
  {
   "cell_type": "code",
   "execution_count": null,
   "metadata": {},
   "outputs": [],
   "source": [
    "# Calculate predictions\n",
    "model.eval()\n",
    "with torch.no_grad():\n",
    "    test_predictions = model(X_val.to(DEVICE))\n",
    "\n",
    "#Denormalise X_val and Y_val and predictions \n",
    "input_val = denormalise(X_val.cpu().numpy(), scalars)\n",
    "actual_val = denormalise(Y_val.cpu().numpy(), scalars)\n",
    "preds_val = denormalise(test_predictions.cpu().numpy(), scalars)"
   ]
  },
  {
   "cell_type": "code",
   "execution_count": null,
   "metadata": {},
   "outputs": [],
   "source": [
    "# mse = np.mean((actual_val-preds_val) ** 2)\n",
    "# mae = np.mean(np.abs(actual_val-preds_val))\n",
    "\n",
    "val_mse_loss, val_mse_std = mse_loss(preds_val, actual_val, reduction='mean', format='np')\n",
    "val_mae_loss, val_mae_std = mae_loss(preds_val, actual_val, reduction='mean', format='np')\n",
    "\n",
    "print(f'Val MSE Loss: {val_mse_loss:.5}, Val MSE std: {val_mse_std:.5}')\n",
    "print(f'Val MAE Loss: {val_mae_loss:.5}, Val MAE std: {val_mae_std:.5}')\n"
   ]
  },
  {
   "cell_type": "code",
   "execution_count": null,
   "metadata": {},
   "outputs": [],
   "source": [
    "for f in range(len(features)):\n",
    "    print(f' error for {features[f]} is: {np.mean(abs(preds_val[:,:,f]-actual_val[:,:,f])):.3f}')"
   ]
  },
  {
   "cell_type": "code",
   "execution_count": null,
   "metadata": {},
   "outputs": [],
   "source": [
    "diff = abs(preds_val[:,:,0] -actual_val[:,:,0])\n",
    "plt.hist(diff.squeeze(), 60)\n",
    "plt.xlabel('Error between actual and predictions (degrees)')\n",
    "plt.ylabel('Frequency')\n",
    "plt.show()"
   ]
  },
  {
   "cell_type": "code",
   "execution_count": null,
   "metadata": {},
   "outputs": [],
   "source": [
    "x1 = np.arange(0,100)\n",
    "x2 = 101\n",
    "\n",
    "fig, ax = plt.subplots(1, 1, figsize=(15, 5))\n",
    "\n",
    "plt.plot(x1, input_val[s,:,0].reshape(-1,1).squeeze(), lw=3, c='b', label='input')\n",
    "plt.scatter(x2, actual_val[s,:,0], lw=4, c='r', label='actual')\n",
    "plt.scatter(x2, preds_val[s,:,0], lw=4, c='g', label='prediction')\n",
    "\n",
    "plt.xlabel('Time-step')\n",
    "plt.ylabel('Angle (degrees)')\n",
    "\n",
    "ax.legend(loc=\"lower left\")\n",
    "plt.show()"
   ]
  },
  {
   "cell_type": "markdown",
   "metadata": {},
   "source": [
    "### Model shape"
   ]
  },
  {
   "cell_type": "code",
   "execution_count": null,
   "metadata": {},
   "outputs": [],
   "source": [
    "model.eval()"
   ]
  },
  {
   "cell_type": "code",
   "execution_count": null,
   "metadata": {},
   "outputs": [],
   "source": [
    "# fname = 'Exp020_220906_MLP_dtw'\n",
    "# path = r'D:\\Study 2 Results and Models\\Study 2 Experiments\\Exp020_220906_MLP_dtw' + '\\\\'  + fname + '.pth'\n",
    "\n",
    "# checkpoint = {'model': model,\n",
    "#           'state_dict': model.state_dict(),\n",
    "#           'optimizer' : optimizer.state_dict()}\n",
    "\n",
    "# torch.save(checkpoint, path)"
   ]
  },
  {
   "cell_type": "code",
   "execution_count": null,
   "metadata": {},
   "outputs": [],
   "source": [
    "## benchmark against naive output (making prediction only last value)\n",
    "naive_1_train_output = np.zeros(actual_val.shape)\n",
    "\n",
    "    \n",
    "for f in range(len(features)):\n",
    "    for s in range(actual_val.shape[0]):\n",
    "        naive_1_train_output[s,:,f] = np.ones((output_window)) * input_val[s,-1,f]"
   ]
  },
  {
   "cell_type": "code",
   "execution_count": null,
   "metadata": {},
   "outputs": [],
   "source": [
    "naive_1_mse_loss, naive_1_mse_std = mse_loss(naive_1_train_output, actual_val, reduction='mean', format='np')\n",
    "naive_1_mae_loss, naive_1_mae_std = mae_loss(naive_1_train_output, actual_val, reduction='mean', format='np')\n",
    "\n",
    "print(f'naive_1 MSE Loss: {naive_1_mse_loss}')\n",
    "print(f'naive_1 MSE std: {naive_1_mse_std} ')\n",
    "print(f'naive_1 MAE Loss: {naive_1_mae_loss}')\n",
    "print(f'naive_1 MAE std: {naive_1_mae_std}')"
   ]
  },
  {
   "cell_type": "code",
   "execution_count": null,
   "metadata": {},
   "outputs": [],
   "source": []
  }
 ],
 "metadata": {
  "kernelspec": {
   "display_name": "Python 3.9.7 ('study2')",
   "language": "python",
   "name": "python3"
  },
  "language_info": {
   "codemirror_mode": {
    "name": "ipython",
    "version": 3
   },
   "file_extension": ".py",
   "mimetype": "text/x-python",
   "name": "python",
   "nbconvert_exporter": "python",
   "pygments_lexer": "ipython3",
   "version": "3.9.7"
  },
  "orig_nbformat": 4,
  "vscode": {
   "interpreter": {
    "hash": "27ff62b9f8f46ac7739d102fa0cb2cdb691dbf234c24f48db1edec61200604ab"
   }
  }
 },
 "nbformat": 4,
 "nbformat_minor": 2
}
