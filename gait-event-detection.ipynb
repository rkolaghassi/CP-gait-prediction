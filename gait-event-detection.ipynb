{
 "cells": [
  {
   "cell_type": "code",
   "execution_count": 58,
   "metadata": {},
   "outputs": [],
   "source": [
    "#import libraries\n",
    "import pandas as pd\n",
    "import os\n",
    "from matplotlib import pyplot as plt\n",
    "from matplotlib.pyplot import figure\n",
    "from scipy import stats\n",
    "import scipy \n",
    "import numpy as np\n",
    "from tqdm.notebook import tqdm\n",
    "from torch import nn, optim, strided\n",
    "import time  \n",
    "import torch \n",
    "import random\n",
    "import seaborn as sns\n",
    "import torch.nn.functional as F\n",
    "from sklearn.model_selection import train_test_split\n",
    "from torch.utils.data import Dataset \n",
    "from torch.utils.data import DataLoader\n",
    "from datetime import date\n",
    "import pickle\n",
    "import sys\n",
    "import seaborn as sns"
   ]
  },
  {
   "cell_type": "code",
   "execution_count": 59,
   "metadata": {},
   "outputs": [
    {
     "name": "stdout",
     "output_type": "stream",
     "text": [
      "The device used in this notebook is: cuda\n"
     ]
    }
   ],
   "source": [
    "def setDevice():\n",
    "  DEVICE = \"cuda\" if torch.cuda.is_available() else \"cpu\"\n",
    "  return DEVICE\n",
    "\n",
    "print(f'The device used in this notebook is: {setDevice()}')\n",
    "\n",
    "DEVICE = setDevice()"
   ]
  },
  {
   "cell_type": "code",
   "execution_count": 60,
   "metadata": {},
   "outputs": [],
   "source": [
    "def set_settings():\n",
    "    features = ['Hips Flexion-Extension Left',\n",
    "                'Hips Abduction-Adduction Left',\n",
    "                'Hips Rotation Left',\n",
    "                'Knees Flexion-Extension Left',\n",
    "                'Knees Abduction-Adduction Left',\n",
    "                'Knees Rotation Left',\n",
    "                'Ankles Dorsiflexion-Plantarflexion Left',\n",
    "                'Ankles Eversion-Inversion Left',\n",
    "                'Ankles Rotation Left']\n",
    "\n",
    "    input_window = 120\n",
    "    output_window = 3\n",
    "    stride = 5\n",
    "    return features, input_window, output_window, stride"
   ]
  },
  {
   "cell_type": "markdown",
   "metadata": {},
   "source": [
    "### Set settings"
   ]
  },
  {
   "cell_type": "code",
   "execution_count": 61,
   "metadata": {},
   "outputs": [
    {
     "data": {
      "text/plain": [
       "3"
      ]
     },
     "execution_count": 61,
     "metadata": {},
     "output_type": "execute_result"
    }
   ],
   "source": [
    "features, input_window, output_window, stride = set_settings()\n",
    "\n",
    "output_window"
   ]
  },
  {
   "cell_type": "markdown",
   "metadata": {},
   "source": [
    "### Load Data "
   ]
  },
  {
   "cell_type": "code",
   "execution_count": 62,
   "metadata": {},
   "outputs": [
    {
     "name": "stdout",
     "output_type": "stream",
     "text": [
      "Current working directory is: D:\\Study 2 Data\\Pre-process sample\n",
      "There are 2 files in the specified path.\n"
     ]
    }
   ],
   "source": [
    "file_dir = r'D:\\Study 2 Data\\Pre-process sample'\n",
    "train_files = os.listdir(file_dir) \n",
    "\n",
    "# Changes the working directory to get the data from their location \n",
    "os.chdir(file_dir)\n",
    "cwd = os.getcwd()\n",
    "\n",
    "print(f'Current working directory is: {cwd}')\n",
    "print(f\"There are {len(train_files)} files in the specified path.\")"
   ]
  },
  {
   "cell_type": "code",
   "execution_count": 63,
   "metadata": {},
   "outputs": [
    {
     "data": {
      "text/plain": [
       "['AB3154 T6-10 BF.csv', 'AB5498 BF T6-10.csv']"
      ]
     },
     "execution_count": 63,
     "metadata": {},
     "output_type": "execute_result"
    }
   ],
   "source": [
    "train_files"
   ]
  },
  {
   "cell_type": "code",
   "execution_count": 64,
   "metadata": {},
   "outputs": [],
   "source": [
    "# all_features = ['Trial',\n",
    "#                 'Time',\n",
    "#                 'Hips Flexion-Extension',\n",
    "#                 'Knees Flexion-Extension',\n",
    "#                 'Ankles Dorsiflexion-Plantarflexion',\n",
    "#                 'Acceleration Hips Flexion-Extension',\n",
    "#                 'Acceleration Knees Flexion-Extension',\n",
    "#                 'Acceleration Ankles Dorsiflexion-Plantarflexion']\n",
    "\n",
    "all_features = ['Trial',\n",
    "                'Time',\n",
    "                'Local Gyroscope - GEO Pitch'\n",
    "                ]"
   ]
  },
  {
   "cell_type": "markdown",
   "metadata": {},
   "source": [
    "### Extract Data into Pandas Dataframe"
   ]
  },
  {
   "cell_type": "code",
   "execution_count": 65,
   "metadata": {},
   "outputs": [
    {
     "name": "stdout",
     "output_type": "stream",
     "text": [
      "Extracting data from: AB3154 T6-10 BF.csv\n"
     ]
    }
   ],
   "source": [
    "all_data = pd.DataFrame()\n",
    "\n",
    "for f in train_files[:-1]:\n",
    "\n",
    "    if os.path.exists(f):\n",
    "        print(f'Extracting data from: {f}')\n",
    "\n",
    "    file_data = pd.read_csv(f)\n",
    "\n",
    "    columns = [] #all columne names\n",
    "\n",
    "    # finds the columns names of interest \n",
    "    for idx, _ in enumerate(all_features):\n",
    "        col_name = list(filter(lambda x: x.startswith(all_features[idx]), list(file_data.columns)))\n",
    "        columns.extend(col_name)\n",
    "\n",
    "    # only keep columns of interest\n",
    "    fltrd_data = file_data[columns]\n",
    "\n",
    "    #Add patient ID to dataframe\n",
    "    fltrd_data.insert(0, 'Patient ID', value=[f[:-4]]*fltrd_data.shape[0])\n",
    "\n",
    "    #Remove data at the beggining and in between trials (correspond to Trial value of 0)\n",
    "    data = fltrd_data.drop(fltrd_data[fltrd_data.Trial == 0].index)\n",
    "\n",
    "    #Concatenate trials into a big array \n",
    "    all_data = pd.concat([all_data, data], axis=0)\n"
   ]
  },
  {
   "cell_type": "markdown",
   "metadata": {},
   "source": [
    "### Data Analysis"
   ]
  },
  {
   "cell_type": "code",
   "execution_count": 66,
   "metadata": {},
   "outputs": [
    {
     "data": {
      "text/plain": [
       "Patient ID                     0\n",
       "Trial                          0\n",
       "Time                           0\n",
       "Local Gyroscope - GEO Pitch    0\n",
       "dtype: int64"
      ]
     },
     "execution_count": 66,
     "metadata": {},
     "output_type": "execute_result"
    }
   ],
   "source": [
    "all_data.isnull().sum()"
   ]
  },
  {
   "cell_type": "code",
   "execution_count": 69,
   "metadata": {},
   "outputs": [],
   "source": [
    "gyro_values = all_data[all_data['Trial'] == 3]['Local Gyroscope - GEO Pitch'].to_numpy()"
   ]
  },
  {
   "cell_type": "code",
   "execution_count": 70,
   "metadata": {},
   "outputs": [
    {
     "data": {
      "text/plain": [
       "Text(0, 0.5, 'Gyroscop (pitch)')"
      ]
     },
     "execution_count": 70,
     "metadata": {},
     "output_type": "execute_result"
    },
    {
     "data": {
      "image/png": "[encoded data removed]",
      "text/plain": [
       "<Figure size 792x432 with 1 Axes>"
      ]
     },
     "metadata": {
      "needs_background": "light"
     },
     "output_type": "display_data"
    }
   ],
   "source": [
    "plt.figure(figsize=(11, 6))\n",
    "\n",
    "\n",
    "plt.axhline(y=0, color='r', linestyle='-')\n",
    "\n",
    "plt.plot(gyro_values*-1)\n",
    "plt.xlabel('Timesteps')\n",
    "plt.ylabel('Gyroscop (pitch)')\n"
   ]
  },
  {
   "cell_type": "code",
   "execution_count": 77,
   "metadata": {},
   "outputs": [
    {
     "data": {
      "text/plain": [
       "[1,\n",
       " 1,\n",
       " 1,\n",
       " 1,\n",
       " 1,\n",
       " 1,\n",
       " 1,\n",
       " 1,\n",
       " 1,\n",
       " 1,\n",
       " 1,\n",
       " 1,\n",
       " 1,\n",
       " 1,\n",
       " 1,\n",
       " 1,\n",
       " 1,\n",
       " 1,\n",
       " 1,\n",
       " 1,\n",
       " 1,\n",
       " 1,\n",
       " 1,\n",
       " 1,\n",
       " 1,\n",
       " 1,\n",
       " 1,\n",
       " 1,\n",
       " 1,\n",
       " 1,\n",
       " 1,\n",
       " 1,\n",
       " 1,\n",
       " 1,\n",
       " 1,\n",
       " 1,\n",
       " 1,\n",
       " 1,\n",
       " 1,\n",
       " 1,\n",
       " 1,\n",
       " 1,\n",
       " 1,\n",
       " 1,\n",
       " 1,\n",
       " 1,\n",
       " 1,\n",
       " 1,\n",
       " 1,\n",
       " 1,\n",
       " 1,\n",
       " 1,\n",
       " 1,\n",
       " 1,\n",
       " 1,\n",
       " 1,\n",
       " 1,\n",
       " 1,\n",
       " 1,\n",
       " 1,\n",
       " 1,\n",
       " 1,\n",
       " 1,\n",
       " 1,\n",
       " 1,\n",
       " 1,\n",
       " 1,\n",
       " 1,\n",
       " 1,\n",
       " 1,\n",
       " 1,\n",
       " 1,\n",
       " 1,\n",
       " 1,\n",
       " 1,\n",
       " 1,\n",
       " 1,\n",
       " 1,\n",
       " 1,\n",
       " 1,\n",
       " 1,\n",
       " 1,\n",
       " 1,\n",
       " 1,\n",
       " 1,\n",
       " 1,\n",
       " 1,\n",
       " 1,\n",
       " 1,\n",
       " 1,\n",
       " 1,\n",
       " 1,\n",
       " 1,\n",
       " 1,\n",
       " 1,\n",
       " 1,\n",
       " 1,\n",
       " 1,\n",
       " 1,\n",
       " 1,\n",
       " 1,\n",
       " 1,\n",
       " 1,\n",
       " 1,\n",
       " 1,\n",
       " 1,\n",
       " 1,\n",
       " 1,\n",
       " 1,\n",
       " 1,\n",
       " 1,\n",
       " 1,\n",
       " 1,\n",
       " 1,\n",
       " 1,\n",
       " 1,\n",
       " 1,\n",
       " 1,\n",
       " 1,\n",
       " 1,\n",
       " 1,\n",
       " 1,\n",
       " 1,\n",
       " 1,\n",
       " 1,\n",
       " 1,\n",
       " 1,\n",
       " 1,\n",
       " 1,\n",
       " 1,\n",
       " 1,\n",
       " 1,\n",
       " 1,\n",
       " 1,\n",
       " 1,\n",
       " 1,\n",
       " 1,\n",
       " 1,\n",
       " 1,\n",
       " 1,\n",
       " 1,\n",
       " 1,\n",
       " 1,\n",
       " 1,\n",
       " 1,\n",
       " 1,\n",
       " 1,\n",
       " 1,\n",
       " 1,\n",
       " 1,\n",
       " 1,\n",
       " 1,\n",
       " 1,\n",
       " 1,\n",
       " 1,\n",
       " 1,\n",
       " 1,\n",
       " 1,\n",
       " 1,\n",
       " 1,\n",
       " 1,\n",
       " 1,\n",
       " 1,\n",
       " 1,\n",
       " 1,\n",
       " 1,\n",
       " 1,\n",
       " 1,\n",
       " 1,\n",
       " 1,\n",
       " 1,\n",
       " 1,\n",
       " 1,\n",
       " 1,\n",
       " 1,\n",
       " 1,\n",
       " 1,\n",
       " 1,\n",
       " 1,\n",
       " 1,\n",
       " 1,\n",
       " 1,\n",
       " 1,\n",
       " 1,\n",
       " 1,\n",
       " 1,\n",
       " 1,\n",
       " 1,\n",
       " 1,\n",
       " 1,\n",
       " 1,\n",
       " 1,\n",
       " 1,\n",
       " 1,\n",
       " 1,\n",
       " 1,\n",
       " 1,\n",
       " 1,\n",
       " 1,\n",
       " 1,\n",
       " 1,\n",
       " 1,\n",
       " 1,\n",
       " 1,\n",
       " 1,\n",
       " 1,\n",
       " 1,\n",
       " 1,\n",
       " 1,\n",
       " 1,\n",
       " 1,\n",
       " 1,\n",
       " 1,\n",
       " 1,\n",
       " 1,\n",
       " 1,\n",
       " 1,\n",
       " 1,\n",
       " 1,\n",
       " 1,\n",
       " 1,\n",
       " 1,\n",
       " 1,\n",
       " 1,\n",
       " 1,\n",
       " 1,\n",
       " 1,\n",
       " 1,\n",
       " 1,\n",
       " 1,\n",
       " 1,\n",
       " 1,\n",
       " 1,\n",
       " 1,\n",
       " 1,\n",
       " 1,\n",
       " 1,\n",
       " 1,\n",
       " 1,\n",
       " 1,\n",
       " 1,\n",
       " 1,\n",
       " 1,\n",
       " 1,\n",
       " 1,\n",
       " 1,\n",
       " 1,\n",
       " 1,\n",
       " 1,\n",
       " 1,\n",
       " 1,\n",
       " 1,\n",
       " 1,\n",
       " 1,\n",
       " 1,\n",
       " 1,\n",
       " 1,\n",
       " 1,\n",
       " 1,\n",
       " 1,\n",
       " 1,\n",
       " 1,\n",
       " 1,\n",
       " 1,\n",
       " 1,\n",
       " 1,\n",
       " 1,\n",
       " 1,\n",
       " 1,\n",
       " 1,\n",
       " 1,\n",
       " 1,\n",
       " 1,\n",
       " 1,\n",
       " 1,\n",
       " 1,\n",
       " 1,\n",
       " 1,\n",
       " 1,\n",
       " 1,\n",
       " 1,\n",
       " 1,\n",
       " 1,\n",
       " 1,\n",
       " 1,\n",
       " 1,\n",
       " 1,\n",
       " 1,\n",
       " 1,\n",
       " 1,\n",
       " 1,\n",
       " 1,\n",
       " 1,\n",
       " 1,\n",
       " 1,\n",
       " 1,\n",
       " 1,\n",
       " 1,\n",
       " 1,\n",
       " 1,\n",
       " 1,\n",
       " 1,\n",
       " 1,\n",
       " 1,\n",
       " 1,\n",
       " 1,\n",
       " 1,\n",
       " 1,\n",
       " 1,\n",
       " 1,\n",
       " 1,\n",
       " 1,\n",
       " 1,\n",
       " 1,\n",
       " 1,\n",
       " 1,\n",
       " 1,\n",
       " 1,\n",
       " 1,\n",
       " 1,\n",
       " 1,\n",
       " 1,\n",
       " 1,\n",
       " 1,\n",
       " 1,\n",
       " 1,\n",
       " 1,\n",
       " 1,\n",
       " 1,\n",
       " 1,\n",
       " 1,\n",
       " 1,\n",
       " 1,\n",
       " 1,\n",
       " 1,\n",
       " 1,\n",
       " 1,\n",
       " 1,\n",
       " 1,\n",
       " 1,\n",
       " 1,\n",
       " 1,\n",
       " 1,\n",
       " 1,\n",
       " 1,\n",
       " 1,\n",
       " 1,\n",
       " 1,\n",
       " 1,\n",
       " 1,\n",
       " 1,\n",
       " 1,\n",
       " 1,\n",
       " 1,\n",
       " 1,\n",
       " 1,\n",
       " 1,\n",
       " 1,\n",
       " 1,\n",
       " 1,\n",
       " 1,\n",
       " 1,\n",
       " 1,\n",
       " 1,\n",
       " 1,\n",
       " 1,\n",
       " 1,\n",
       " 1,\n",
       " 1,\n",
       " 1,\n",
       " 1,\n",
       " 1,\n",
       " 1,\n",
       " 1,\n",
       " 1,\n",
       " 1,\n",
       " 1,\n",
       " 1,\n",
       " 1,\n",
       " 1,\n",
       " 1,\n",
       " 1,\n",
       " 1,\n",
       " 1,\n",
       " 1,\n",
       " 1,\n",
       " 1,\n",
       " 1,\n",
       " 1,\n",
       " 1,\n",
       " 1,\n",
       " 1,\n",
       " 1,\n",
       " 1,\n",
       " 1,\n",
       " 1,\n",
       " 1,\n",
       " 1,\n",
       " 1,\n",
       " 1,\n",
       " 1,\n",
       " 1]"
      ]
     },
     "execution_count": 77,
     "metadata": {},
     "output_type": "execute_result"
    }
   ],
   "source": [
    "events = np.zeros_like(gyro_values)"
   ]
  },
  {
   "cell_type": "code",
   "execution_count": 75,
   "metadata": {},
   "outputs": [
    {
     "data": {
      "text/plain": [
       "17450    -99.84059\n",
       "17451    -93.01799\n",
       "17452    -58.33618\n",
       "17453     -5.89916\n",
       "17454     40.54603\n",
       "           ...    \n",
       "18058    299.90260\n",
       "18059    300.22622\n",
       "18060    297.92651\n",
       "18061    296.70821\n",
       "18062    297.68177\n",
       "Name: Local Gyroscope - GEO Pitch, Length: 613, dtype: float64"
      ]
     },
     "execution_count": 75,
     "metadata": {},
     "output_type": "execute_result"
    }
   ],
   "source": [
    "all_data[all_data['Trial'] == 3]['Local Gyroscope - GEO Pitch']"
   ]
  },
  {
   "cell_type": "code",
   "execution_count": 332,
   "metadata": {},
   "outputs": [
    {
     "name": "stdout",
     "output_type": "stream",
     "text": [
      "For patient: AB3154 T6-10 BF, trial: 1, there are: 651 time-points\n",
      "For patient: AB3154 T6-10 BF, trial: 2, there are: 541 time-points\n",
      "For patient: AB3154 T6-10 BF, trial: 3, there are: 613 time-points\n",
      "For patient: AB3154 T6-10 BF, trial: 4, there are: 601 time-points\n",
      "For patient: AB3154 T6-10 BF, trial: 5, there are: 711 time-points\n",
      "For patient: AB3154 T6-10 BF, trial: 6, there are: 651 time-points\n",
      "For patient: AB3154 T6-10 BF, trial: 7, there are: 1031 time-points\n",
      "For patient: AB3154 T6-10 BF, trial: 8, there are: 896 time-points\n",
      "For patient: AB3154 T6-10 BF, trial: 9, there are: 812 time-points\n",
      "DataFrame is empty!\n",
      "Trail 10 does not exist in AB3154 T6-10 BF\n",
      "For patient: AB5498 BF T6-10, trial: 1, there are: 831 time-points\n",
      "For patient: AB5498 BF T6-10, trial: 2, there are: 714 time-points\n",
      "For patient: AB5498 BF T6-10, trial: 3, there are: 736 time-points\n",
      "For patient: AB5498 BF T6-10, trial: 4, there are: 701 time-points\n",
      "For patient: AB5498 BF T6-10, trial: 5, there are: 586 time-points\n",
      "For patient: AB5498 BF T6-10, trial: 6, there are: 666 time-points\n",
      "For patient: AB5498 BF T6-10, trial: 7, there are: 672 time-points\n",
      "For patient: AB5498 BF T6-10, trial: 8, there are: 691 time-points\n",
      "For patient: AB5498 BF T6-10, trial: 9, there are: 692 time-points\n",
      "For patient: AB5498 BF T6-10, trial: 10, there are: 722 time-points\n",
      "\n",
      "There are 19 samples\n"
     ]
    }
   ],
   "source": [
    "n_samples=0\n",
    "for p in all_data['Patient ID'].unique(): #loop over patients\n",
    "    for i in all_data['Trial'].unique():\n",
    "        d = all_data[(all_data['Patient ID'] == p) & (all_data['Trial'] == i)]\n",
    "        if d.empty:\n",
    "            print('DataFrame is empty!')\n",
    "            print(f'Trail {i} does not exist in {p}')\n",
    "        else:\n",
    "            print(f'For patient: {p}, trial: {i}, there are: {len(d)} time-points')\n",
    "            n_samples += 1\n",
    "\n",
    "print(f'\\nThere are {n_samples} samples')\n",
    "        "
   ]
  },
  {
   "cell_type": "code",
   "execution_count": 333,
   "metadata": {},
   "outputs": [
    {
     "data": {
      "text/plain": [
       "16100    False\n",
       "16101    False\n",
       "16102    False\n",
       "16103    False\n",
       "16104    False\n",
       "         ...  \n",
       "26147     True\n",
       "26148     True\n",
       "26149     True\n",
       "26150     True\n",
       "26151     True\n",
       "Name: Patient ID, Length: 13518, dtype: bool"
      ]
     },
     "execution_count": 333,
     "metadata": {},
     "output_type": "execute_result"
    }
   ],
   "source": [
    "all_data['Patient ID'] == \"AB5498 BF T6-10\" "
   ]
  },
  {
   "cell_type": "code",
   "execution_count": 334,
   "metadata": {},
   "outputs": [],
   "source": [
    "# os.makedirs('D:\\Study 2 Data\\Pre-process sample', exist_ok=True)  #check if directory exists\n",
    "# all_data.to_csv('D:\\Study 2 Data\\Pre-process sample/exported-data3.csv')  #export data to csv"
   ]
  },
  {
   "cell_type": "markdown",
   "metadata": {},
   "source": [
    "### Convert Data into numpy array for forming windows"
   ]
  },
  {
   "cell_type": "code",
   "execution_count": 335,
   "metadata": {},
   "outputs": [],
   "source": [
    "m = all_data['Patient ID'].unique()"
   ]
  },
  {
   "cell_type": "code",
   "execution_count": 336,
   "metadata": {},
   "outputs": [
    {
     "name": "stdout",
     "output_type": "stream",
     "text": [
      "features: ['Hips Flexion-Extension Left', 'Hips Abduction-Adduction Left', 'Hips Rotation Left', 'Knees Flexion-Extension Left', 'Knees Abduction-Adduction Left', 'Knees Rotation Left', 'Ankles Dorsiflexion-Plantarflexion Left', 'Ankles Eversion-Inversion Left', 'Ankles Rotation Left']\n",
      "input window: 120\n",
      "output window: 3\n",
      "stride: 5\n"
     ]
    }
   ],
   "source": [
    "features, input_window, output_window, stride = set_settings()\n",
    "print(f'features: {features}')\n",
    "print(f'input window: {input_window}')\n",
    "print(f'output window: {output_window}')\n",
    "print(f'stride: {stride}')"
   ]
  },
  {
   "cell_type": "code",
   "execution_count": 337,
   "metadata": {},
   "outputs": [
    {
     "name": "stdout",
     "output_type": "stream",
     "text": [
      "DataFrame is empty!\n",
      "Trail 9 does not exist in AB3154 T6-10 BF\n"
     ]
    }
   ],
   "source": [
    "#create a numpy array that stores the data for export\n",
    "sample_ID = []\n",
    "# patients = 2\n",
    "# n_trials = 10\n",
    "# # samples = patients * n_trials\n",
    "data_store = np.zeros((n_samples, 1500, 9), dtype=np.float32)\n",
    "i = 0\n",
    "\n",
    "for p in all_data['Patient ID'].unique(): #loop over patients \n",
    "    for t in all_data['Trial'].unique(): #loop over trials starting with trials 1 to trial 9 (inclusive)\n",
    "        pd_array = all_data[(all_data['Patient ID'] == p) & (all_data['Trial'] == t)]\n",
    "        if pd_array.empty:\n",
    "            print('DataFrame is empty!')\n",
    "            print(f'Trail {i} does not exist in {p}')\n",
    "        else:\n",
    "            np_array = pd_array.to_numpy()\n",
    "            data_store[i, :np_array.shape[0], :] = np_array[:,3:] \n",
    "            sample_ID.append(p+ ' Ts'+str(t)) \n",
    "            i +=1\n",
    "\n"
   ]
  },
  {
   "cell_type": "code",
   "execution_count": 338,
   "metadata": {},
   "outputs": [
    {
     "data": {
      "text/plain": [
       "['Hips Flexion-Extension Left',\n",
       " 'Hips Abduction-Adduction Left',\n",
       " 'Hips Rotation Left',\n",
       " 'Knees Flexion-Extension Left',\n",
       " 'Knees Abduction-Adduction Left',\n",
       " 'Knees Rotation Left',\n",
       " 'Ankles Dorsiflexion-Plantarflexion Left',\n",
       " 'Ankles Eversion-Inversion Left',\n",
       " 'Ankles Rotation Left']"
      ]
     },
     "execution_count": 338,
     "metadata": {},
     "output_type": "execute_result"
    }
   ],
   "source": [
    "labels_keys = pd_array.columns[3:].tolist()\n",
    "\n",
    "labels_idx = np.arange(0, len(labels_keys), 1)\n",
    "\n",
    "labels = dict(zip(labels_keys, labels_idx))\n",
    "\n",
    "len(labels)\n",
    "labels\n",
    "\n",
    "labels_keys"
   ]
  },
  {
   "cell_type": "code",
   "execution_count": 339,
   "metadata": {},
   "outputs": [
    {
     "data": {
      "text/plain": [
       "array([[33.0458 , -9.01975, -4.30109, ..., -4.23026,  2.69763, -0.42198],\n",
       "       [34.44156, -8.8945 , -3.99353, ..., -3.98913,  2.9346 , -0.2081 ],\n",
       "       [35.85006, -8.7532 , -3.89897, ..., -3.78138,  3.23843,  0.04619],\n",
       "       ...,\n",
       "       [ 0.     ,  0.     ,  0.     , ...,  0.     ,  0.     ,  0.     ],\n",
       "       [ 0.     ,  0.     ,  0.     , ...,  0.     ,  0.     ,  0.     ],\n",
       "       [ 0.     ,  0.     ,  0.     , ...,  0.     ,  0.     ,  0.     ]],\n",
       "      dtype=float32)"
      ]
     },
     "execution_count": 339,
     "metadata": {},
     "output_type": "execute_result"
    }
   ],
   "source": [
    "data_store.shape\n",
    "data_store[3,:,:]"
   ]
  },
  {
   "cell_type": "code",
   "execution_count": 340,
   "metadata": {},
   "outputs": [],
   "source": [
    "# sequence = data_store[1,:,:]\n",
    "# b_zeros = [] #array that stores the number of trailing zeros for each feacture \n",
    "\n",
    "# for f in features:\n",
    "#     # trim the leading and training zeros\n",
    "#     # f_zeros.append(sequence[:,labels[f]].shape[0] - np.trim_zeros(sequence[:,labels[f]], 'f').shape[0]) #forward zeros\n",
    "#     b_zeros.append(sequence[:,labels[f]].shape[0] - np.trim_zeros(sequence[:,labels[f]], 'b').shape[0]) #backward zeros\n",
    "\n",
    "# # max_f_zeros = max(f_zeros) #find the maximum number of leading zeros\n",
    "# max_b_zeros = max(b_zeros) #find the maximum number of trailing/backward zeros \n",
    "# print(max_b_zeros)\n",
    "\n",
    "# #total sequence length minus max leading and trailing zeros \n",
    "# trimmed_seqLen = sequence[:,0].shape[0] - (max_b_zeros)    \n",
    "# print(trimmed_seqLen)\n",
    "\n",
    "# # Slides are the number of times the input window can scan the sequence \n",
    "# # Using the equation that calculates the number of outputs as in convolution  (W – F + 2P) / S + 1, W=input image width, F=filter width, P=padding, S=stride\n",
    "# # The width of the image is taken as the number of time steps in the sequence, corresponding to the length of any TRIMMED column in the data \n",
    "# slides = ((trimmed_seqLen - (input_window+output_window)) // stride) + 1\n",
    "# print(f\"number of slides is: {slides}\")\n",
    "\n",
    "# # Calculating the first index of each of the output sequences (first index always f_zeros as its always shifted to start with the first non-zero element)\n",
    "# seq_indicies = (np.arange(slides) * stride)\n",
    "\n",
    "# if slides <= 0:\n",
    "#     raise ValueError(\"input window and output window length are greater than sequence length, check their values\")\n",
    "\n",
    "# # Creates an zero numpy array to store the samples in \n",
    "# X_values = np.zeros((len(seq_indicies) , input_window, len(features)))\n",
    "# Y_values = np.zeros((len(seq_indicies), output_window, len(features)))\n",
    "\n",
    "# # Loop through the features, then loop through the list of sequence indicies needed for input and output windows \n",
    "# for j, feature in enumerate(features):\n",
    "#     # print(j)\n",
    "#     # print(feature)\n",
    "#     for i, idx in enumerate(seq_indicies):\n",
    "#         X_values[i, :, j] = sequence[idx:idx+input_window, labels[feature]]\n",
    "#         Y_values[i, :, j] = sequence[idx+input_window:idx+input_window + output_window, labels[feature]]\n",
    "    "
   ]
  },
  {
   "cell_type": "code",
   "execution_count": 341,
   "metadata": {},
   "outputs": [],
   "source": [
    "def window_generator(sequence, input_window, output_window, stride, features):\n",
    "    \"\"\"\n",
    "    Trims the input sequence from leading and trailing zeros, then generates an array with input windows and another array for the corresponding output windows\n",
    "    Args:\n",
    "        sequence: (np.array, float32) columns are features while rows are time points\n",
    "        features: (list, strin~g) column names\n",
    "        input_window: (int)\n",
    "        stride (int): the value the input window shifts along the sequence \n",
    "    Returns:\n",
    "\n",
    "    \"\"\"\n",
    "    # shortest_seqLen = float('inf')\n",
    "\n",
    "    # f_zeros = [] #array that stores the number of leading zeros for each feature\n",
    "    b_zeros = [] #array that stores the number of trailing zeros for each feacture \n",
    "\n",
    "    for f in features:\n",
    "        # trim the leading and training zeros\n",
    "        # f_zeros.append(sequence[:,labels[f]].shape[0] - np.trim_zeros(sequence[:,labels[f]], 'f').shape[0]) #forward zeros\n",
    "        b_zeros.append(sequence[:,labels[f]].shape[0] - np.trim_zeros(sequence[:,labels[f]], 'b').shape[0]) #backward zeros\n",
    "    \n",
    "    # max_f_zeros = max(f_zeros) #find the maximum number of leading zeros\n",
    "    max_b_zeros = max(b_zeros) #find the maximum number of trailing/backward zeros \n",
    "    # print(max_b_zeros)\n",
    "\n",
    "    #total sequence length minus max leading and trailing zeros \n",
    "    trimmed_seqLen = sequence[:,0].shape[0] - (max_b_zeros)    \n",
    "    print(f'trimmed_seqLen: {trimmed_seqLen}')\n",
    "    \n",
    "    # Slides are the number of times the input window can scan the sequence \n",
    "    # Using the equation that calculates the number of outputs as in convolution  (W – F + 2P) / S + 1, W=input image width, F=filter width, P=padding, S=stride\n",
    "    # The width of the image is taken as the number of time steps in the sequence, corresponding to the length of any TRIMMED column in the data \n",
    "    slides = ((trimmed_seqLen - (input_window+output_window)) // stride) + 1\n",
    "    print(f\"number of slides is: {slides}\")\n",
    "\n",
    "    # Calculating the first index of each of the output sequences (first index always f_zeros as its always shifted to start with the first non-zero element)\n",
    "    seq_indicies = (np.arange(slides) * stride)\n",
    "\n",
    "    if slides <= 0:\n",
    "        raise ValueError(\"input window and output window length are greater than sequence length, check their values\")\n",
    "\n",
    "    # Creates an zero numpy array to store the samples in \n",
    "    X_values = np.zeros((len(seq_indicies) , input_window, len(features)))\n",
    "    Y_values = np.zeros((len(seq_indicies), output_window, len(features)))\n",
    "\n",
    "    # Loop through the features, then loop through the list of sequence indicies needed for input and output windows \n",
    "    for j, feature in enumerate(features):\n",
    "        # print(j)\n",
    "        # print(feature)\n",
    "        for i, idx in enumerate(seq_indicies):\n",
    "            X_values[i, :, j] = sequence[idx:idx+input_window, labels[feature]]\n",
    "            Y_values[i, :, j] = sequence[idx+input_window:idx+input_window + output_window, labels[feature]]\n",
    "    \n",
    "    return X_values, Y_values "
   ]
  },
  {
   "cell_type": "code",
   "execution_count": 342,
   "metadata": {},
   "outputs": [
    {
     "name": "stdout",
     "output_type": "stream",
     "text": [
      "trimmed_seqLen: 651\n",
      "number of slides is: 106\n",
      "trimmed_seqLen: 541\n",
      "number of slides is: 84\n",
      "trimmed_seqLen: 613\n",
      "number of slides is: 99\n",
      "trimmed_seqLen: 601\n",
      "number of slides is: 96\n",
      "trimmed_seqLen: 711\n",
      "number of slides is: 118\n",
      "trimmed_seqLen: 651\n",
      "number of slides is: 106\n",
      "trimmed_seqLen: 1031\n",
      "number of slides is: 182\n",
      "trimmed_seqLen: 896\n",
      "number of slides is: 155\n",
      "trimmed_seqLen: 812\n",
      "number of slides is: 138\n",
      "trimmed_seqLen: 831\n",
      "number of slides is: 142\n",
      "trimmed_seqLen: 714\n",
      "number of slides is: 119\n",
      "trimmed_seqLen: 736\n",
      "number of slides is: 123\n",
      "trimmed_seqLen: 701\n",
      "number of slides is: 116\n",
      "trimmed_seqLen: 586\n",
      "number of slides is: 93\n",
      "trimmed_seqLen: 666\n",
      "number of slides is: 109\n",
      "trimmed_seqLen: 672\n",
      "number of slides is: 110\n",
      "trimmed_seqLen: 691\n",
      "number of slides is: 114\n",
      "trimmed_seqLen: 692\n",
      "number of slides is: 114\n",
      "trimmed_seqLen: 722\n",
      "number of slides is: 120\n",
      "shape of X_train_windows: (2850, 120, 9)\n",
      "shape of Y_train_windows: (2850, 3, 9)\n",
      "shape of X_train_data: (2244, 120, 9)\n",
      "shape of Y_train_data: (2244, 3, 9)\n"
     ]
    }
   ],
   "source": [
    "# Creating training and validation datasets\n",
    "# Selecting the features to be used when creating windows \n",
    "\n",
    "approx_seq_len = 2000 # appoximate the length of the longest sequence that can be encountered \n",
    "# samples_per_file = ((approx_seq_len - (input_window+output_window)) // stride) + 1 #number of window samples generated per file \n",
    "samples_per_file = 150\n",
    "n_samples\n",
    "\n",
    "# create a zero-filled 3D array with shape (number of samples * number of files, window size, number of features)\n",
    "\n",
    "X_train_windows = np.zeros((samples_per_file*n_samples, input_window, len(features)), dtype=np.float32) #size can be reduced by decreasing train_size \n",
    "Y_train_windows = np.zeros((samples_per_file*n_samples, output_window, len(features)), dtype=np.float32) \n",
    "\n",
    "\n",
    "start_idx = 0 #setting start index to equal zero \n",
    "train_sample_sum = 0\n",
    "train_excluded_samples = []\n",
    "# Create training windows \n",
    "\n",
    "#for i in tqdm(range(train_size)): #Use for including all data including outliers \n",
    "for i in range(n_samples): \n",
    "       \n",
    "    X_values, Y_values = window_generator(\n",
    "        data_store[i,:,:],\n",
    "        input_window=input_window, \n",
    "        output_window=output_window, \n",
    "        stride=stride, \n",
    "        features=features\n",
    "        )\n",
    "\n",
    "    end_idx = start_idx + X_values.shape[0]\n",
    "\n",
    "    # print(f'file number [{f}] start index: {start_idx}, end index: {end_idx}, number of samples: {X_values.shape[0]}')\n",
    "\n",
    "    X_train_windows[start_idx:end_idx, :, :] = X_values\n",
    "    Y_train_windows[start_idx:end_idx, :, :] = Y_values\n",
    "\n",
    "    # print(f'number of samples copied: {X_train_data_store[start_idx:end_idx, :, :].shape[0]}')\n",
    "\n",
    "    start_idx = end_idx \n",
    "    train_sample_sum += X_values.shape[0]\n",
    "\n",
    "    # except Exception:\n",
    "    #     exception_msg(i)\n",
    "    #     train_excluded_samples.append(i)\n",
    "\n",
    "# print(f\"Completed storage of training windows samples, which contains {X_train_data_store.shape[0]} samples\")\n",
    "X_train_data = X_train_windows[:end_idx, :, :]\n",
    "Y_train_data = Y_train_windows[:end_idx, :, :]\n",
    "\n",
    "\n",
    "print(f'shape of X_train_windows: {X_train_windows.shape}')\n",
    "print(f'shape of Y_train_windows: {Y_train_windows.shape}')\n",
    "\n",
    "print(f'shape of X_train_data: {X_train_data.shape}')\n",
    "print(f'shape of Y_train_data: {Y_train_data.shape}')"
   ]
  },
  {
   "cell_type": "code",
   "execution_count": 343,
   "metadata": {},
   "outputs": [
    {
     "data": {
      "image/png": "[encoded data removed]",
      "text/plain": [
       "<Figure size 432x288 with 1 Axes>"
      ]
     },
     "metadata": {
      "needs_background": "light"
     },
     "output_type": "display_data"
    },
    {
     "data": {
      "image/png": "[encoded data removed]",
      "text/plain": [
       "<Figure size 432x288 with 1 Axes>"
      ]
     },
     "metadata": {
      "needs_background": "light"
     },
     "output_type": "display_data"
    },
    {
     "data": {
      "image/png": "[encoded data removed]",
      "text/plain": [
       "<Figure size 432x288 with 1 Axes>"
      ]
     },
     "metadata": {
      "needs_background": "light"
     },
     "output_type": "display_data"
    },
    {
     "data": {
      "image/png": "[encoded data removed]",
      "text/plain": [
       "<Figure size 432x288 with 1 Axes>"
      ]
     },
     "metadata": {
      "needs_background": "light"
     },
     "output_type": "display_data"
    },
    {
     "data": {
      "image/png": "[encoded data removed]",
      "text/plain": [
       "<Figure size 432x288 with 1 Axes>"
      ]
     },
     "metadata": {
      "needs_background": "light"
     },
     "output_type": "display_data"
    },
    {
     "data": {
      "image/png": "[encoded data removed]",
      "text/plain": [
       "<Figure size 432x288 with 1 Axes>"
      ]
     },
     "metadata": {
      "needs_background": "light"
     },
     "output_type": "display_data"
    },
    {
     "data": {
      "image/png": "[encoded data removed]",
      "text/plain": [
       "<Figure size 432x288 with 1 Axes>"
      ]
     },
     "metadata": {
      "needs_background": "light"
     },
     "output_type": "display_data"
    },
    {
     "data": {
      "image/png": "[encoded data removed]",
      "text/plain": [
       "<Figure size 432x288 with 1 Axes>"
      ]
     },
     "metadata": {
      "needs_background": "light"
     },
     "output_type": "display_data"
    },
    {
     "data": {
      "image/png": "[encoded data removed]",
      "text/plain": [
       "<Figure size 432x288 with 1 Axes>"
      ]
     },
     "metadata": {
      "needs_background": "light"
     },
     "output_type": "display_data"
    }
   ],
   "source": [
    "# Plot histogram of the data \n",
    "for f in range(len(features)):\n",
    "    plt.hist(Y_train_data[:,:,f].reshape(-1,1), label = features[f], bins=50, range=(Y_train_data.min(), Y_train_data.max()))\n",
    "    plt.legend()\n",
    "    plt.show()"
   ]
  },
  {
   "cell_type": "code",
   "execution_count": 344,
   "metadata": {},
   "outputs": [],
   "source": [
    "def normalise_fit(data):\n",
    "    '''\n",
    "    Normalises X_train and output scales to use for normalising testing data and de-normalising output\n",
    "    Args:\n",
    "        prenormalised_data should be a 3-dimensional np.array \n",
    "    \n",
    "    Output:\n",
    "        normalised_data: np.array with the same shape as input data, but normalised\n",
    "        scaling_factors: np.array with 2 rows index 0 for min_val, index 1 for max_value and nfeatures columns \n",
    "\n",
    "    '''\n",
    "    \n",
    "    if data.ndim != 3:\n",
    "        raise ValueError(\"this function can only normalise 3-dimensional inputs\")\n",
    "\n",
    "    normalised_data = np.zeros(data.shape, dtype=np.float32) \n",
    "\n",
    "    features = data.shape[-1]\n",
    "    scaling_factors = np.zeros((2, features))\n",
    "\n",
    "    for feature in range(features):\n",
    "        # print(feature)\n",
    "        scaling_factors[0, feature], scaling_factors[1, feature] =  data[:,:,feature].min(), data[:,:,feature].max() #index 0 is for min, index 1 for max (applies to all features)\n",
    "        normalised_data[:,:,feature] = (data[:,:,feature] - data[:,:,feature].min())/ (data[:,:,feature].max() - data[:,:,feature].min())\n",
    "\n",
    "        # scaling_factors[0, feature], scaling_factors[1, feature] =  -90, 90 #index 0 is for min, index 1 for max (applies to all features)\n",
    "        # normalised_data[:,:,feature] = (data[:,:,feature] - (-90))/ ((90) - (-90))\n",
    "\n",
    "    return normalised_data, scaling_factors"
   ]
  },
  {
   "cell_type": "code",
   "execution_count": 345,
   "metadata": {},
   "outputs": [],
   "source": [
    "def normalise_transform(data, scaling_factors):\n",
    "    '''\n",
    "    Normalise data based on the scaling factors used to normalised the training data \n",
    "    '''\n",
    "\n",
    "    transformed_data = np.zeros(data.shape, dtype=np.float32)\n",
    "    if data.shape[-1] > 1:\n",
    "        for feature in range(data.shape[-1]): #loop over the number of features\n",
    "            min_val = scaling_factors[0, feature] #get minimum value\n",
    "            # print(f'min_val = {min_val}')\n",
    "            max_val = scaling_factors[1, feature] # get maximum value \n",
    "            # print(f'max_val = {max_val}')\n",
    "\n",
    "            transformed_data[:,:,feature] = (data[:,:,feature] - min_val) / (max_val - min_val)\n",
    "    \n",
    "    # in case there is one feature only where scaling_factor shape (2,1)\n",
    "    else:\n",
    "        min_val = scaling_factors[0]\n",
    "        max_val = scaling_factors[1]\n",
    "        transformed_data[:,:,0] = (data[:,:,0] - min_val) / (max_val - min_val)\n",
    "    \n",
    "    return transformed_data"
   ]
  },
  {
   "cell_type": "code",
   "execution_count": 346,
   "metadata": {},
   "outputs": [],
   "source": [
    "# denorm_value = ((max-min) * norm_value) + min\n",
    "def denormalise(data, scaling_factors):\n",
    "    '''\n",
    "    De-normalise data of the model\n",
    "    '''\n",
    "    denormalised_data = np.zeros(data.shape,  dtype=np.float32)\n",
    "\n",
    "    for feature in range(data.shape[-1]):\n",
    "        min_val = scaling_factors[0, feature]\n",
    "        max_val = scaling_factors[1, feature]\n",
    "\n",
    "        denormalised_data[:,:,feature] = ((max_val - min_val) * data[:,:,feature]) + min_val\n",
    "    \n",
    "    return denormalised_data"
   ]
  },
  {
   "cell_type": "code",
   "execution_count": 347,
   "metadata": {},
   "outputs": [
    {
     "data": {
      "text/plain": [
       "(2244, 120, 9)"
      ]
     },
     "execution_count": 347,
     "metadata": {},
     "output_type": "execute_result"
    }
   ],
   "source": [
    "X_train_norm, scalars = normalise_fit(X_train_data)\n",
    "# X_train_data = 1\n",
    "Y_train_norm = normalise_transform(Y_train_data, scalars)\n",
    "# Y_train_data = 1\n",
    "\n",
    "X_train_data.shape"
   ]
  },
  {
   "cell_type": "code",
   "execution_count": 348,
   "metadata": {},
   "outputs": [
    {
     "data": {
      "image/png": "[encoded data removed]",
      "text/plain": [
       "<Figure size 432x288 with 1 Axes>"
      ]
     },
     "metadata": {
      "needs_background": "light"
     },
     "output_type": "display_data"
    },
    {
     "data": {
      "image/png": "[encoded data removed]",
      "text/plain": [
       "<Figure size 432x288 with 1 Axes>"
      ]
     },
     "metadata": {
      "needs_background": "light"
     },
     "output_type": "display_data"
    },
    {
     "data": {
      "image/png": "[encoded data removed]",
      "text/plain": [
       "<Figure size 432x288 with 1 Axes>"
      ]
     },
     "metadata": {
      "needs_background": "light"
     },
     "output_type": "display_data"
    },
    {
     "data": {
      "image/png": "[encoded data removed]",
      "text/plain": [
       "<Figure size 432x288 with 1 Axes>"
      ]
     },
     "metadata": {
      "needs_background": "light"
     },
     "output_type": "display_data"
    },
    {
     "data": {
      "image/png": "[encoded data removed]",
      "text/plain": [
       "<Figure size 432x288 with 1 Axes>"
      ]
     },
     "metadata": {
      "needs_background": "light"
     },
     "output_type": "display_data"
    },
    {
     "data": {
      "image/png": "[encoded data removed]",
      "text/plain": [
       "<Figure size 432x288 with 1 Axes>"
      ]
     },
     "metadata": {
      "needs_background": "light"
     },
     "output_type": "display_data"
    },
    {
     "data": {
      "image/png": "[encoded data removed]",
      "text/plain": [
       "<Figure size 432x288 with 1 Axes>"
      ]
     },
     "metadata": {
      "needs_background": "light"
     },
     "output_type": "display_data"
    },
    {
     "data": {
      "image/png": "[encoded data removed]",
      "text/plain": [
       "<Figure size 432x288 with 1 Axes>"
      ]
     },
     "metadata": {
      "needs_background": "light"
     },
     "output_type": "display_data"
    },
    {
     "data": {
      "image/png": "[encoded data removed]",
      "text/plain": [
       "<Figure size 432x288 with 1 Axes>"
      ]
     },
     "metadata": {
      "needs_background": "light"
     },
     "output_type": "display_data"
    }
   ],
   "source": [
    "# Plot histogram of the data \n",
    "for f in range(len(features)):\n",
    "    plt.hist(Y_train_norm[:,:,f].reshape(-1,1), bins=50, label = features[f])\n",
    "    plt.legend()\n",
    "    plt.show()"
   ]
  },
  {
   "cell_type": "code",
   "execution_count": 349,
   "metadata": {},
   "outputs": [],
   "source": [
    "# # useful resources: https://www.youtube.com/watch?v=8A6TEjG2DNw (LSTM Time Series Prediction Tutorial using PyTorch in Python | Coronavirus Daily Cases Forecasting)\n",
    "# LSTM model \n",
    "class LSTM(nn.Module):\n",
    "    def __init__(self, input_size, hidden_size, num_layers, in_seq_len, out_seq_len, output_size, device):\n",
    "        super(LSTM, self).__init__()\n",
    "        '''\n",
    "        nn.lstm: \n",
    "        input_size = number of features in input, if batch_first = TRUE (batchSize, seq_len, Hin) FEATURES\n",
    "        hidden_size = number of features in hidden state\n",
    "        num_layers\n",
    "        batch_first = if TRUE (batch, seq, Hin) Hin may mean input features\n",
    "        h_0 = (D * num_layers, batchSize, Hout)\n",
    "        c_0 = (D * num_layers, batchSize, Hcell)\n",
    "\n",
    "        output = (batchSize, seq_len, D * Hout) Hout may mean output features, if batch first = TRUE \n",
    "        h_0 = (D*num_layers, N, Hout) final state for each element in the batch \n",
    "        C_0 = (D*num_layers, N, Hcell) final cell state for each element \n",
    "\n",
    "        nn.linear:\n",
    "        input_size = (N,*, Hin) Hin = input_features (equal to hidden size therefore is arbitrarily set)\n",
    "        output_size = (N, *, Hout) Hout = output features (equal to output_size passed in to the model) \n",
    "\n",
    "        '''\n",
    "        # Pytorch documentation: \n",
    "        # >>> rnn = nn.LSTM(10, 20, 2) features, hidden_size, number of layers \n",
    "        # >>> input = torch.randn(5, 3, 10) in_seq_len, batch_size, hidden_size (batch size should not be input to the mode, inferred from the shape of the input and will be the first number if batch_first = TRUE)\n",
    "        # >>> h0 = torch.randn(2, 3, 20)\n",
    "        # >>> c0 = torch.randn(2, 3, 20)\n",
    "        # >>> output, (hn, cn) = rnn(input, (h0, c0))\n",
    "\n",
    "        self.input_size = input_size\n",
    "        self.hidden_size = hidden_size\n",
    "        self.num_layers = num_layers\n",
    "        self.in_seq_len = in_seq_len\n",
    "        self.output_size = output_size\n",
    "        self.out_seq_len = out_seq_len\n",
    "        self.device = device\n",
    "        \n",
    "        # nn.LSTM(features, hidden_size, number of layers)\n",
    "        self.lstm = nn.LSTM(input_size=self.input_size, hidden_size=self.hidden_size, num_layers=self.num_layers, batch_first = True)\n",
    "\n",
    "        #nn.fc1\n",
    "        self.fc1 = nn.Linear(in_features=self.hidden_size, out_features=(self.output_size * self.out_seq_len))\n",
    "\n",
    "    def forward(self, input_data):\n",
    "\n",
    "        # initialise hidden and cell states after passing through each batch (this is skipped in stateless model)\n",
    "        h_0 = torch.zeros(self.num_layers, input_data.shape[0], self.hidden_size).to(self.device) # input_data.shape[0] is equal to batch size\n",
    "        c_0 = torch.zeros(self.num_layers, input_data.shape[0], self.hidden_size).to(self.device)\n",
    "\n",
    "        #propagate through LSTM\n",
    "        lstm_out, (h_out, c_out) = self.lstm(input_data, (h_0, c_0))\n",
    "        # lsmt_out.shape = (batch_size,seq_length, hidden_size)\n",
    "        # print(f'lsmt_out: {lstm_out.shape}')\n",
    "        # print(f'h_out: {h_out[-1].shape}')\n",
    "\n",
    "        # propagate through linear layer \n",
    "        fc1_out = self.fc1(h_out[-1])\n",
    "        # print(f'preds.shape (before reshaping): {fc1_out.shape}')\n",
    "        \n",
    "        preds = fc1_out.reshape(input_data.shape[0], self.out_seq_len, self.output_size)\n",
    "        # print(f'preds.shape (after reshaping): {preds.shape}')\n",
    "        \n",
    "        return preds"
   ]
  },
  {
   "cell_type": "code",
   "execution_count": 350,
   "metadata": {},
   "outputs": [
    {
     "data": {
      "text/plain": [
       "LSTM(\n",
       "  (lstm): LSTM(9, 128, num_layers=4, batch_first=True)\n",
       "  (fc1): Linear(in_features=128, out_features=27, bias=True)\n",
       ")"
      ]
     },
     "execution_count": 350,
     "metadata": {},
     "output_type": "execute_result"
    }
   ],
   "source": [
    "import_path = r'D:\\Study 1 Results and Models\\Study 1 Models\\LSTM_4' + '\\\\' + 'Exp014-2022-02-10-LSTM-In120-Out3.pickle'\n",
    "# # # import_path = r'C:\\Users\\Rania\\rbk9\\Study 1 Results and Models\\Study 1 Models\\CNN_1' + '\\\\' + 'Exp001-2022-01-24-CNN-In96-Out1.pickle'\n",
    "# # # model_CNN = CNN(input_size, output_size=output_size, kernel_size=kernel_size, stride=1, in_seq_len=in_seq_len, out_seq_len=out_seq_len,  device = DEVICE).to(DEVICE)\n",
    "\n",
    "input_size=len(features)\n",
    "hidden_size=128\n",
    "num_layers=4\n",
    "in_seq_len=input_window\n",
    "out_seq_len=output_window\n",
    "output_size=len(features)\n",
    "# num_epochs=60\n",
    "\n",
    "# # learning_rate= 0.001\n",
    "\n",
    "model_LSTM = LSTM(input_size=input_size, hidden_size=hidden_size, num_layers=num_layers, in_seq_len=in_seq_len, out_seq_len=out_seq_len, output_size=output_size, device=DEVICE).to(DEVICE)\n",
    "model_LSTM.load_state_dict(torch.load(import_path))\n",
    "model_LSTM.eval()"
   ]
  },
  {
   "cell_type": "code",
   "execution_count": 351,
   "metadata": {},
   "outputs": [],
   "source": [
    "# for p in model_LSTM.parameters():\n",
    "#     print(p.device)"
   ]
  },
  {
   "cell_type": "code",
   "execution_count": 352,
   "metadata": {},
   "outputs": [],
   "source": [
    "# Testing function \n",
    "def test_LSTM(model, dataloader):\n",
    "    loss_function = nn.MSELoss(reduction='mean')\n",
    "    model.eval()\n",
    "    actual_output, pred_output = [], []\n",
    "    running_loss = 0. \n",
    "    \n",
    "    with torch.no_grad():\n",
    "        for idx, (batch_inputs, batch_targets) in tqdm(enumerate(dataloader)):\n",
    "\n",
    "            batch_inputs, batch_targets = batch_inputs.to(DEVICE), batch_targets.to(DEVICE)\n",
    "\n",
    "            # if idx==0:\n",
    "            #     batch_preds = model(batch_inputs)\n",
    "            #     # print(f'batch shape: {batch_preds.shape}')\n",
    "            #     loss = loss_function(batch_preds, batch_targets)\n",
    "            #     running_loss += loss.item()\n",
    "            #     current_preds = batch_preds\n",
    "            #     all_preds = batch_preds\n",
    "\n",
    "            # else:\n",
    "            #     batch_preds = model(batch_inputs)\n",
    "            #     print(f'batch shape: {batch_preds.shape}')\n",
    "            #     loss = loss_function(batch_preds, batch_targets)\n",
    "            #     running_loss += loss.item()\n",
    "            #     all_preds = torch.cat((current_preds, batch_preds), dim=0)\n",
    "            #     current_preds = batch_preds\n",
    "\n",
    "            batch_preds = model(batch_inputs)\n",
    "            # print(f'batch preds: {batch_preds.type}')\n",
    "            loss = loss_function(batch_preds, batch_targets)\n",
    "            running_loss += loss.item()\n",
    "            actual_output.append(batch_targets)\n",
    "            pred_output.append(batch_preds)\n",
    "\n",
    "\n",
    "            #             lst = []\n",
    "            # print(f'{x.size()}')\n",
    "            # for i in range(10):\n",
    "            #     x += i  # say we do something with x at iteration i\n",
    "            #     lst.append(x)\n",
    "            # # lstt = torch.stack([x for _ in range(10)])\n",
    "            # lstt = torch.stack(lst)\n",
    "            # print(lstt.size())\n",
    "\n",
    "        total_loss = running_loss / len(dataloader)\n",
    "\n",
    "        actual_output_tensor = torch.vstack(actual_output)\n",
    "        pred_output_tensor = torch.vstack(pred_output)\n",
    "    \n",
    "    return pred_output_tensor, actual_output_tensor, total_loss"
   ]
  },
  {
   "cell_type": "code",
   "execution_count": 353,
   "metadata": {},
   "outputs": [],
   "source": [
    "# Creates dataset object that gets individual samples for training/testing so that the Dataloader can generate batches\n",
    "class gaitDataset(Dataset):\n",
    "    def __init__(self, x, y):\n",
    "        self.x = x \n",
    "        self.y = y \n",
    "\n",
    "    def __len__(self):\n",
    "        return self.x.shape[0]\n",
    "    \n",
    "    def __getitem__(self, index):\n",
    "        X_sample = self.x[index, :, :]\n",
    "        Y_sample = self.y[index, :, :]\n",
    "        return X_sample, Y_sample"
   ]
  },
  {
   "cell_type": "code",
   "execution_count": 354,
   "metadata": {},
   "outputs": [
    {
     "name": "stdout",
     "output_type": "stream",
     "text": [
      "X_test shape: torch.Size([2244, 120, 9])\n",
      "Y_test shape: torch.Size([2244, 3, 9])\n"
     ]
    }
   ],
   "source": [
    "# X_test_norm = normalise_transform(X_test_data, scalars)\n",
    "# Y_test_norm = normalise_transform(Y_test_data, scalars)\n",
    "\n",
    "# Convert to Tensor \n",
    "# do not store on GPU (yet)\n",
    "X_test = torch.from_numpy(X_train_norm).float()\n",
    "Y_test = torch.from_numpy(Y_train_norm).float()\n",
    "\n",
    "print(f'X_test shape: {X_test.shape}')\n",
    "print(f'Y_test shape: {Y_test.shape}')"
   ]
  },
  {
   "cell_type": "code",
   "execution_count": 355,
   "metadata": {},
   "outputs": [
    {
     "name": "stdout",
     "output_type": "stream",
     "text": [
      "Test Dataset length: 2244\n"
     ]
    }
   ],
   "source": [
    "test_dataset = gaitDataset(X_test, Y_test)\n",
    "# # test_dataloader = DataLoader(test_dataset, batch_size=len(test_dataset), shuffle=False)\n",
    "test_dataloader = DataLoader(test_dataset, batch_size=32, shuffle=False) #ADJUSTED\n",
    "\n",
    "print(f\"Test Dataset length: {len(test_dataset)}\")"
   ]
  },
  {
   "cell_type": "code",
   "execution_count": 356,
   "metadata": {},
   "outputs": [
    {
     "data": {
      "application/vnd.jupyter.widget-view+json": {
       "model_id": "06dab9ce258a4347926015732ccb6047",
       "version_major": 2,
       "version_minor": 0
      },
      "text/plain": [
       "0it [00:00, ?it/s]"
      ]
     },
     "metadata": {},
     "output_type": "display_data"
    },
    {
     "name": "stdout",
     "output_type": "stream",
     "text": [
      "test loss: 5.117340193259813e-05\n",
      "Shape of predicted values test: (2244, 3, 9)\n",
      "shape of actual values test: (2244, 3, 9)\n",
      "Shape of predicted values test post denormalisation: (2244, 3, 9)\n",
      "shape of actual values test post denormalisation: (2244, 3, 9)\n"
     ]
    }
   ],
   "source": [
    "pred_test_output, actual_test_output, test_loss = test_LSTM(model_LSTM, test_dataloader)\n",
    "\n",
    "predicted_values_test = pred_test_output.cpu().numpy() # premute again to make the order of the array (samples, windows, features)\n",
    "actual_values_test =  actual_test_output.cpu().numpy()\n",
    "\n",
    "print(f'test loss: {test_loss}')\n",
    "\n",
    "print(f'Shape of predicted values test: {predicted_values_test.shape}')\n",
    "print(f'shape of actual values test: {actual_values_test.shape}')\n",
    "\n",
    "predicted_test_denorm = denormalise(predicted_values_test, scalars)\n",
    "actual_test_denorm =  denormalise(actual_values_test, scalars)\n",
    "\n",
    "print(f'Shape of predicted values test post denormalisation: {predicted_test_denorm.shape}')\n",
    "print(f'shape of actual values test post denormalisation: {actual_test_denorm.shape}')"
   ]
  },
  {
   "cell_type": "code",
   "execution_count": 357,
   "metadata": {},
   "outputs": [],
   "source": [
    "def mse_loss(preds, targets, reduction = 'mean', format='torch'):\n",
    "\n",
    "    \n",
    "    if format == 'torch': #default option\n",
    "        loss = 1/(preds.shape[0]*preds.shape[1]*preds.shape[2]) * torch.sum((targets - preds) ** 2)\n",
    "        # print(f'divide shape: {preds.shape[0]*preds.shape[1]*preds.shape[2]}')\n",
    "        # print(f'square sum: {torch.sum((targets - preds) ** 2)}')\n",
    "\n",
    "        # std = torch.sqrt(torch.sum((((targets - preds) ** 2) - loss)**2) * (1/preds.shape[0]*preds.shape[1]*preds.shape[2]-1))\n",
    "        std = torch.std()\n",
    "        \n",
    "        if reduction == 'sum':\n",
    "            loss = torch.sum((targets - preds) ** 2)\n",
    "    \n",
    "    if format == 'np':\n",
    "        loss = 1/(preds.shape[0]*preds.shape[1]*preds.shape[2]) * np.sum((targets - preds) ** 2)\n",
    "        # print(f'divide shape: {preds.shape[0]*preds.shape[1]*preds.shape[2]}')\n",
    "        # print(f'square sum: {torch.sum((targets - preds) ** 2)}')\n",
    "\n",
    "        std = np.std(((targets - preds) ** 2).reshape(-1,1).squeeze())\n",
    "        # print(np.sqrt(np.sum(((targets - preds) ** 2) - loss)**2))\n",
    "        \n",
    "        if reduction == 'sum':\n",
    "            loss = np.sum((targets - preds) ** 2)\n",
    "\n",
    "    return loss, std"
   ]
  },
  {
   "cell_type": "code",
   "execution_count": 358,
   "metadata": {},
   "outputs": [],
   "source": [
    "#mae \n",
    "def mae_loss(preds, targets, reduction = 'mean', format='torch'):\n",
    "\n",
    "    if format == 'torch': #default option\n",
    "        loss = 1/(preds.shape[0]*preds.shape[1]*preds.shape[2]) * torch.sum(torch.abs(targets - preds))\n",
    "        # print(f'divide shape: {preds.shape[0]*preds.shape[1]*preds.shape[2]}')\n",
    "        # print(f'square sum: {torch.sum((targets - preds) ** 2)}')\n",
    "        \n",
    "        if reduction == 'sum':\n",
    "            loss = torch.sum(torch.abs(targets - preds))\n",
    "    \n",
    "    if format == 'np':\n",
    "        loss = 1/(preds.shape[0]*preds.shape[1]*preds.shape[2]) * np.sum(np.absolute(targets - preds))\n",
    "        # print(f'divide shape: {preds.shape[0]*preds.shape[1]*preds.shape[2]}')\n",
    "        # print(f'square sum: {torch.sum((targets - preds) ** 2)}')\n",
    "        \n",
    "        std = np.std(np.abs(targets - preds).reshape(-1,1).squeeze())\n",
    "\n",
    "        if reduction == 'sum':\n",
    "            loss = np.sum(np.absolute(targets - preds))\n",
    "\n",
    "    return loss, std"
   ]
  },
  {
   "cell_type": "code",
   "execution_count": 359,
   "metadata": {},
   "outputs": [
    {
     "name": "stdout",
     "output_type": "stream",
     "text": [
      "Test MSE Loss: 0.184159252992548\n",
      "Test MSE std: 0.5816987156867981 \n",
      "Test MAE Loss: 0.2889795241013072\n",
      "Test MAE std: 0.3172539472579956\n"
     ]
    }
   ],
   "source": [
    "test_mse_loss, test_mse_std = mse_loss(predicted_test_denorm, actual_test_denorm, reduction='mean', format='np')\n",
    "test_mae_loss, test_mae_std = mae_loss(predicted_test_denorm, actual_test_denorm, reduction='mean', format='np')\n",
    "\n",
    "print(f'Test MSE Loss: {test_mse_loss}')\n",
    "print(f'Test MSE std: {test_mse_std} ')\n",
    "\n",
    "# MDE= mae_loss(actual_test_denorm[:-1,:,:],actual_test_denorm[1:,:,:],reduction='mean', format='np')\n",
    "MDE= mae_loss(actual_test_denorm[:,:,:],actual_test_denorm[:,:,:],reduction='mean', format='np')\n",
    "\n",
    "print(f'Test MAE Loss: {test_mae_loss}')\n",
    "print(f'Test MAE std: {test_mae_std}')"
   ]
  },
  {
   "cell_type": "code",
   "execution_count": 392,
   "metadata": {},
   "outputs": [
    {
     "data": {
      "text/plain": [
       "(array([5.815e+03, 6.730e+02, 1.430e+02, 5.200e+01, 2.900e+01, 1.300e+01,\n",
       "        3.000e+00, 1.000e+00, 1.000e+00, 2.000e+00]),\n",
       " array([1.9073486e-06, 3.5805780e-01, 7.1611369e-01, 1.0741695e+00,\n",
       "        1.4322255e+00, 1.7902813e+00, 2.1483371e+00, 2.5063930e+00,\n",
       "        2.8644490e+00, 3.2225049e+00, 3.5805607e+00], dtype=float32),\n",
       " <BarContainer object of 10 artists>)"
      ]
     },
     "execution_count": 392,
     "metadata": {},
     "output_type": "execute_result"
    },
    {
     "data": {
      "image/png": "[encoded data removed]",
      "text/plain": [
       "<Figure size 432x288 with 1 Axes>"
      ]
     },
     "metadata": {
      "needs_background": "light"
     },
     "output_type": "display_data"
    }
   ],
   "source": [
    "plt.hist(np.abs(predicted_test_denorm[:,:,1].reshape(-1,1) - actual_test_denorm[:,:,1].reshape(-1,1)))\n",
    "\n"
   ]
  },
  {
   "cell_type": "code",
   "execution_count": null,
   "metadata": {},
   "outputs": [],
   "source": []
  },
  {
   "cell_type": "code",
   "execution_count": null,
   "metadata": {},
   "outputs": [],
   "source": []
  }
 ],
 "metadata": {
  "kernelspec": {
   "display_name": "Python 3.9.7 ('study2')",
   "language": "python",
   "name": "python3"
  },
  "language_info": {
   "codemirror_mode": {
    "name": "ipython",
    "version": 3
   },
   "file_extension": ".py",
   "mimetype": "text/x-python",
   "name": "python",
   "nbconvert_exporter": "python",
   "pygments_lexer": "ipython3",
   "version": "3.9.7 (default, Sep 16 2021, 16:59:28) [MSC v.1916 64 bit (AMD64)]"
  },
  "orig_nbformat": 4,
  "vscode": {
   "interpreter": {
    "hash": "27ff62b9f8f46ac7739d102fa0cb2cdb691dbf234c24f48db1edec61200604ab"
   }
  }
 },
 "nbformat": 4,
 "nbformat_minor": 2
}
