{
 "cells": [
  {
   "cell_type": "code",
   "execution_count": null,
   "metadata": {},
   "outputs": [],
   "source": [
    "# Testing function \n",
    "def test_LSTM(model, dataloader, device):\n",
    "    loss_function = nn.MSELoss(reduction='mean')\n",
    "    model.eval()\n",
    "    actual_output, pred_output = [], []\n",
    "    running_loss = 0. \n",
    "    \n",
    "    with torch.no_grad():\n",
    "        for idx, (batch_inputs, batch_targets) in tqdm(enumerate(dataloader)):\n",
    "\n",
    "            batch_inputs, batch_targets = batch_inputs.to(device), batch_targets.to(device)\n",
    "\n",
    "            # n = batch_targets.squeeze().shape\n",
    "            # print(f'batch_targets.squeeze(): {n}')\n",
    "\n",
    "            batch_preds = model(batch_inputs)\n",
    "\n",
    "            # c = batch_preds.squeeze().shape\n",
    "            # print(f'batch_preds.squeeze(): {c}')\n",
    "            loss = loss_function(batch_preds, batch_targets.squeeze())\n",
    "            running_loss += loss.item()\n",
    "            print(f'batch_targets for append: {batch_targets.shape}')\n",
    "            print(f'batch_preds for append: {batch_preds.unsqueeze(1).shape}')\n",
    "            actual_output.append(batch_targets)\n",
    "            pred_output.append(batch_preds.unsqueeze(1))\n",
    "\n",
    "\n",
    "            #             lst = []\n",
    "            # print(f'{x.size()}')\n",
    "            # for i in range(10):\n",
    "            #     x += i  # say we do something with x at iteration i\n",
    "            #     lst.append(x)\n",
    "            # # lstt = torch.stack([x for _ in range(10)])\n",
    "            # lstt = torch.stack(lst)\n",
    "            # print(lstt.size())\n",
    "\n",
    "        total_loss = running_loss / len(dataloader)\n",
    "\n",
    "        actual_output_tensor = torch.vstack(actual_output)\n",
    "        pred_output_tensor = torch.vstack(pred_output)\n",
    "    \n",
    "    return pred_output_tensor, actual_output_tensor, total_loss\n"
   ]
  }
 ],
 "metadata": {
  "kernelspec": {
   "display_name": "Python 3.9.7 ('study2')",
   "language": "python",
   "name": "python3"
  },
  "language_info": {
   "name": "python",
   "version": "3.9.7"
  },
  "orig_nbformat": 4,
  "vscode": {
   "interpreter": {
    "hash": "27ff62b9f8f46ac7739d102fa0cb2cdb691dbf234c24f48db1edec61200604ab"
   }
  }
 },
 "nbformat": 4,
 "nbformat_minor": 2
}
