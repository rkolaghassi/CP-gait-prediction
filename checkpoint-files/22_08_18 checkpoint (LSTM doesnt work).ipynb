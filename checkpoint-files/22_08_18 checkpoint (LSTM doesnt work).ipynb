{
 "cells": [
  {
   "cell_type": "markdown",
   "metadata": {},
   "source": [
    "## Set up"
   ]
  },
  {
   "cell_type": "markdown",
   "metadata": {},
   "source": [
    "#### Import Libraries"
   ]
  },
  {
   "cell_type": "code",
   "execution_count": 1,
   "metadata": {},
   "outputs": [],
   "source": [
    "from utils.utils import *\n",
    "from matplotlib import rcParams\n"
   ]
  },
  {
   "cell_type": "code",
   "execution_count": 2,
   "metadata": {},
   "outputs": [],
   "source": [
    "# TO DO: check if lines 8-11 are needed \n",
    "\n",
    "RANDOM_SEED = 6\n",
    "np.random.seed(RANDOM_SEED)\n",
    "\n",
    "# torch.backends.cudnn.benchmark = False # uses deterministic convolution algorithm (may reduce performance)\n",
    "# torch.backends.cudnn.deterministic = True #\n",
    "\n",
    "#Sets the seed of RNG (GPU and CPU)\n",
    "torch.manual_seed(RANDOM_SEED)\n",
    "random.seed(RANDOM_SEED)\n",
    "\n",
    "torch.cuda.manual_seed_all(RANDOM_SEED)\n",
    "torch.cuda.manual_seed(RANDOM_SEED) "
   ]
  },
  {
   "cell_type": "code",
   "execution_count": 3,
   "metadata": {},
   "outputs": [
    {
     "name": "stdout",
     "output_type": "stream",
     "text": [
      "features: ['Hips Flexion-Extension Left']\n",
      "input_window: 100\n",
      "output_window: 1\n",
      "stride: 1\n"
     ]
    }
   ],
   "source": [
    "# Set settings\n",
    "features, input_window, output_window, stride = set_settings()\n",
    "\n",
    "print(f'features: {features}')\n",
    "print(f'input_window: {input_window}')\n",
    "print(f'output_window: {output_window}')\n",
    "print(f'stride: {stride}')"
   ]
  },
  {
   "cell_type": "code",
   "execution_count": 4,
   "metadata": {},
   "outputs": [
    {
     "name": "stdout",
     "output_type": "stream",
     "text": [
      "The device used in this notebook is: cuda\n"
     ]
    }
   ],
   "source": [
    "# Set device\n",
    "print(f'The device used in this notebook is: {setDevice()}')\n",
    "\n",
    "DEVICE = setDevice()"
   ]
  },
  {
   "cell_type": "markdown",
   "metadata": {},
   "source": [
    "#### Load Data "
   ]
  },
  {
   "cell_type": "code",
   "execution_count": 5,
   "metadata": {},
   "outputs": [
    {
     "name": "stdout",
     "output_type": "stream",
     "text": [
      "Current working directory is: D:\\Study 2 Data\\Healthy Gait\\Train\n",
      "There are 7 files in the specified path.\n"
     ]
    }
   ],
   "source": [
    "file_dir = r'D:\\Study 2 Data\\Healthy Gait\\Train' \n",
    "# file_dir = r'D:\\Study 2 Data\\CP Gait\\Train'\n",
    "train_files = os.listdir(file_dir) \n",
    "\n",
    "# Changes the working directory to get the data from their location \n",
    "os.chdir(file_dir)\n",
    "cwd = os.getcwd()\n",
    "\n",
    "print(f'Current working directory is: {cwd}')\n",
    "print(f\"There are {len(train_files)} files in the specified path.\")"
   ]
  },
  {
   "cell_type": "code",
   "execution_count": 6,
   "metadata": {},
   "outputs": [
    {
     "data": {
      "text/plain": [
       "['AB3154 BF T6-10.csv',\n",
       " 'AB6751 BF T1-5.csv',\n",
       " 'AB7422 BF T1-5.csv',\n",
       " 'AB7779 BF T1-5.csv',\n",
       " 'AB9119 BF T1-5.csv',\n",
       " 'AB9737 BF T1-5.csv',\n",
       " 'AB9737 BF T6-10.csv']"
      ]
     },
     "execution_count": 6,
     "metadata": {},
     "output_type": "execute_result"
    }
   ],
   "source": [
    "train_files"
   ]
  },
  {
   "cell_type": "code",
   "execution_count": 7,
   "metadata": {},
   "outputs": [
    {
     "data": {
      "text/plain": [
       "['Trial', 'Time', 'Hips Flexion-Extension Left']"
      ]
     },
     "execution_count": 7,
     "metadata": {},
     "output_type": "execute_result"
    }
   ],
   "source": [
    "#Create feature list to extract values needed from CSV files\n",
    "all_features = ['Trial', 'Time'] + features\n",
    "all_features\n"
   ]
  },
  {
   "cell_type": "markdown",
   "metadata": {},
   "source": [
    "#### Extract Data from CSV into Pandas Dataframe"
   ]
  },
  {
   "cell_type": "code",
   "execution_count": 8,
   "metadata": {},
   "outputs": [
    {
     "name": "stdout",
     "output_type": "stream",
     "text": [
      "Extracting data from: AB3154 BF T6-10.csv\n",
      "Extracting data from: AB6751 BF T1-5.csv\n",
      "Extracting data from: AB7422 BF T1-5.csv\n",
      "Extracting data from: AB7779 BF T1-5.csv\n",
      "Extracting data from: AB9119 BF T1-5.csv\n",
      "Extracting data from: AB9737 BF T1-5.csv\n",
      "Extracting data from: AB9737 BF T6-10.csv\n"
     ]
    }
   ],
   "source": [
    "all_data = create_dataframe(train_files, all_features)"
   ]
  },
  {
   "cell_type": "code",
   "execution_count": 9,
   "metadata": {},
   "outputs": [],
   "source": [
    "all_data.reset_index(drop=True, inplace=True) #reset the index of the table\n",
    "# path = r'D:\\Study 2 Data\\Healthy Gait' + '\\\\' + 'all_data_healthy_train.csv'\n",
    "# all_data.to_csv(path)"
   ]
  },
  {
   "cell_type": "code",
   "execution_count": 10,
   "metadata": {},
   "outputs": [
    {
     "data": {
      "text/html": [
       "<div>\n",
       "<style scoped>\n",
       "    .dataframe tbody tr th:only-of-type {\n",
       "        vertical-align: middle;\n",
       "    }\n",
       "\n",
       "    .dataframe tbody tr th {\n",
       "        vertical-align: top;\n",
       "    }\n",
       "\n",
       "    .dataframe thead th {\n",
       "        text-align: right;\n",
       "    }\n",
       "</style>\n",
       "<table border=\"1\" class=\"dataframe\">\n",
       "  <thead>\n",
       "    <tr style=\"text-align: right;\">\n",
       "      <th></th>\n",
       "      <th>Patient ID</th>\n",
       "      <th>Trial</th>\n",
       "      <th>Time</th>\n",
       "      <th>Hips Flexion-Extension Left</th>\n",
       "    </tr>\n",
       "  </thead>\n",
       "  <tbody>\n",
       "    <tr>\n",
       "      <th>0</th>\n",
       "      <td>AB3154 BF T6-10</td>\n",
       "      <td>1</td>\n",
       "      <td>161.00</td>\n",
       "      <td>-1.76414</td>\n",
       "    </tr>\n",
       "    <tr>\n",
       "      <th>1</th>\n",
       "      <td>AB3154 BF T6-10</td>\n",
       "      <td>1</td>\n",
       "      <td>161.01</td>\n",
       "      <td>-1.71541</td>\n",
       "    </tr>\n",
       "    <tr>\n",
       "      <th>2</th>\n",
       "      <td>AB3154 BF T6-10</td>\n",
       "      <td>1</td>\n",
       "      <td>161.02</td>\n",
       "      <td>-1.66432</td>\n",
       "    </tr>\n",
       "    <tr>\n",
       "      <th>3</th>\n",
       "      <td>AB3154 BF T6-10</td>\n",
       "      <td>1</td>\n",
       "      <td>161.03</td>\n",
       "      <td>-1.60888</td>\n",
       "    </tr>\n",
       "    <tr>\n",
       "      <th>4</th>\n",
       "      <td>AB3154 BF T6-10</td>\n",
       "      <td>1</td>\n",
       "      <td>161.04</td>\n",
       "      <td>-1.54643</td>\n",
       "    </tr>\n",
       "    <tr>\n",
       "      <th>...</th>\n",
       "      <td>...</td>\n",
       "      <td>...</td>\n",
       "      <td>...</td>\n",
       "      <td>...</td>\n",
       "    </tr>\n",
       "    <tr>\n",
       "      <th>69453</th>\n",
       "      <td>AB9737 BF T6-10</td>\n",
       "      <td>14</td>\n",
       "      <td>474.70</td>\n",
       "      <td>5.59699</td>\n",
       "    </tr>\n",
       "    <tr>\n",
       "      <th>69454</th>\n",
       "      <td>AB9737 BF T6-10</td>\n",
       "      <td>14</td>\n",
       "      <td>474.71</td>\n",
       "      <td>5.45820</td>\n",
       "    </tr>\n",
       "    <tr>\n",
       "      <th>69455</th>\n",
       "      <td>AB9737 BF T6-10</td>\n",
       "      <td>14</td>\n",
       "      <td>474.72</td>\n",
       "      <td>5.31928</td>\n",
       "    </tr>\n",
       "    <tr>\n",
       "      <th>69456</th>\n",
       "      <td>AB9737 BF T6-10</td>\n",
       "      <td>14</td>\n",
       "      <td>474.73</td>\n",
       "      <td>5.17878</td>\n",
       "    </tr>\n",
       "    <tr>\n",
       "      <th>69457</th>\n",
       "      <td>AB9737 BF T6-10</td>\n",
       "      <td>14</td>\n",
       "      <td>474.74</td>\n",
       "      <td>5.03528</td>\n",
       "    </tr>\n",
       "  </tbody>\n",
       "</table>\n",
       "<p>69458 rows × 4 columns</p>\n",
       "</div>"
      ],
      "text/plain": [
       "            Patient ID  Trial    Time  Hips Flexion-Extension Left\n",
       "0      AB3154 BF T6-10      1  161.00                     -1.76414\n",
       "1      AB3154 BF T6-10      1  161.01                     -1.71541\n",
       "2      AB3154 BF T6-10      1  161.02                     -1.66432\n",
       "3      AB3154 BF T6-10      1  161.03                     -1.60888\n",
       "4      AB3154 BF T6-10      1  161.04                     -1.54643\n",
       "...                ...    ...     ...                          ...\n",
       "69453  AB9737 BF T6-10     14  474.70                      5.59699\n",
       "69454  AB9737 BF T6-10     14  474.71                      5.45820\n",
       "69455  AB9737 BF T6-10     14  474.72                      5.31928\n",
       "69456  AB9737 BF T6-10     14  474.73                      5.17878\n",
       "69457  AB9737 BF T6-10     14  474.74                      5.03528\n",
       "\n",
       "[69458 rows x 4 columns]"
      ]
     },
     "execution_count": 10,
     "metadata": {},
     "output_type": "execute_result"
    }
   ],
   "source": [
    "all_data"
   ]
  },
  {
   "cell_type": "code",
   "execution_count": 11,
   "metadata": {},
   "outputs": [
    {
     "name": "stdout",
     "output_type": "stream",
     "text": [
      "maximum number of trials is: 16\n"
     ]
    }
   ],
   "source": [
    "n_trials = all_data['Trial'].max()\n",
    "print(f'maximum number of trials is: {n_trials}')"
   ]
  },
  {
   "cell_type": "code",
   "execution_count": 12,
   "metadata": {},
   "outputs": [
    {
     "data": {
      "text/plain": [
       "array(['AB3154 BF T6-10', 'AB6751 BF T1-5', 'AB7422 BF T1-5',\n",
       "       'AB7779 BF T1-5', 'AB9119 BF T1-5', 'AB9737 BF T1-5',\n",
       "       'AB9737 BF T6-10'], dtype=object)"
      ]
     },
     "execution_count": 12,
     "metadata": {},
     "output_type": "execute_result"
    }
   ],
   "source": [
    "all_data['Patient ID'].unique()"
   ]
  },
  {
   "cell_type": "markdown",
   "metadata": {},
   "source": [
    "#### Divide into training and valation sets"
   ]
  },
  {
   "cell_type": "code",
   "execution_count": 13,
   "metadata": {},
   "outputs": [],
   "source": [
    "# # Healthy Subjects # Original\n",
    "# train_subjects = ['AB3154 BF T6-10', \n",
    "#                      'AB6751 BF T1-5', \n",
    "#                      'AB7779 BF T1-5',\n",
    "#                      'AB9737 BF T1-5', \n",
    "#                      'AB9737 BF T6-10',\n",
    "#                      'AB7422 BF T1-5',\n",
    "#                      ]\n",
    "\n",
    "# val_subjects = ['AB9119 BF T1-5']"
   ]
  },
  {
   "cell_type": "code",
   "execution_count": 14,
   "metadata": {},
   "outputs": [],
   "source": [
    "# Healthy Subjects \n",
    "train_subjects = [\n",
    " 'AB9737 BF T1-5', \n",
    " 'AB9737 BF T6-10', \n",
    "'AB3154 BF T6-10',\n",
    " 'AB6751 BF T1-5', \n",
    " 'AB7779 BF T1-5', \n",
    " 'AB7422 BF T1-5']\n",
    "\n",
    "val_subjects = ['AB9119 BF T1-5']\n",
    "\n",
    "\n",
    "\n",
    "\n"
   ]
  },
  {
   "cell_type": "code",
   "execution_count": 15,
   "metadata": {},
   "outputs": [
    {
     "data": {
      "text/plain": [
       "['AB9119 BF T1-5']"
      ]
     },
     "execution_count": 15,
     "metadata": {},
     "output_type": "execute_result"
    }
   ],
   "source": [
    "val_subjects"
   ]
  },
  {
   "cell_type": "code",
   "execution_count": 16,
   "metadata": {},
   "outputs": [],
   "source": [
    "# # CP Subjects\n",
    "# train_subjects = ['RP1677 V1 BF T1-5', \n",
    "#                     'RP1677 V2 BF T1-5', \n",
    "#                     'RP4774 V2 BF T1-2',\n",
    "#                     'RP4774 V2 BF T3-7', \n",
    "#                     'RP4774 V2 BF T8-12', \n",
    "#                     'RP4907 V2 BF T1-5',\n",
    "#                     'RP5498 V1 BF T1-2',\n",
    "#                     'RP5498 V1 BF T3-5', \n",
    "#                     'RP7422 V1 BF T6-10', \n",
    "#                     'RP7422 V2 BF T1-5',\n",
    "#                     'RP9534 V2 BF T1-5', \n",
    "#                     'RP9571 V1 BF T6-10', \n",
    "#                     'RP9571 V2 BF T4-8']\n",
    "\n",
    "# val_subjects = ['RP6751 V1 BF T1-5',\n",
    "#                     'RP6751 V2 BF T1-5',]"
   ]
  },
  {
   "cell_type": "code",
   "execution_count": 17,
   "metadata": {},
   "outputs": [],
   "source": [
    "train_data = all_data.loc[all_data['Patient ID'].isin(train_subjects)]\n",
    "\n",
    "val_data = all_data.loc[all_data['Patient ID'].isin(val_subjects)]"
   ]
  },
  {
   "cell_type": "code",
   "execution_count": 18,
   "metadata": {},
   "outputs": [
    {
     "name": "stdout",
     "output_type": "stream",
     "text": [
      "all_data: (69458, 4)\n",
      "train_data: (61289, 4)\n",
      "val_data: (8169, 4)\n"
     ]
    }
   ],
   "source": [
    "print(f'all_data: {all_data.shape}')\n",
    "print(f'train_data: {train_data.shape}')\n",
    "print(f'val_data: {val_data.shape}')"
   ]
  },
  {
   "cell_type": "markdown",
   "metadata": {},
   "source": [
    "## Data Analysis"
   ]
  },
  {
   "cell_type": "markdown",
   "metadata": {},
   "source": [
    "#### Data Analysis"
   ]
  },
  {
   "cell_type": "code",
   "execution_count": 19,
   "metadata": {},
   "outputs": [
    {
     "data": {
      "text/plain": [
       "Patient ID                     0\n",
       "Trial                          0\n",
       "Time                           0\n",
       "Hips Flexion-Extension Left    0\n",
       "dtype: int64"
      ]
     },
     "execution_count": 19,
     "metadata": {},
     "output_type": "execute_result"
    }
   ],
   "source": [
    "all_data.isnull().sum()"
   ]
  },
  {
   "cell_type": "code",
   "execution_count": 20,
   "metadata": {},
   "outputs": [
    {
     "data": {
      "image/png": "[encoded data removed]",
      "text/plain": [
       "<Figure size 1368x432 with 1 Axes>"
      ]
     },
     "metadata": {},
     "output_type": "display_data"
    }
   ],
   "source": [
    "rcParams['figure.figsize'] = 19,6\n",
    "sns.set(font_scale = 1.5)\n",
    "ax = sns.violinplot(x=\"Patient ID\", y=\"Hips Flexion-Extension Left\", \n",
    "                    data=all_data, palette=\"muted\")"
   ]
  },
  {
   "cell_type": "code",
   "execution_count": 21,
   "metadata": {},
   "outputs": [],
   "source": [
    "# ax = sns.violinplot(x=\"Trial\", y=\"Hips Flexion-Extension Right\", \n",
    "#                     data=all_data[all_data['Patient ID'] == \"AB3154 T6-10 BF\"], palette=\"muted\")"
   ]
  },
  {
   "cell_type": "code",
   "execution_count": 22,
   "metadata": {},
   "outputs": [],
   "source": [
    "# ax = sns.violinplot(x=\"Trial\", y=\"Hips Flexion-Extension Right\", \n",
    "#                     data=all_data[all_data['Patient ID'] == \"AB5498 BF T6-10\"], palette=\"muted\")"
   ]
  },
  {
   "cell_type": "markdown",
   "metadata": {},
   "source": [
    "## Data Processing"
   ]
  },
  {
   "cell_type": "code",
   "execution_count": 23,
   "metadata": {},
   "outputs": [
    {
     "name": "stdout",
     "output_type": "stream",
     "text": [
      "For patient: AB3154 BF T6-10, trial: 1, there are: 651 time-points\n",
      "For patient: AB3154 BF T6-10, trial: 2, there are: 541 time-points\n",
      "For patient: AB3154 BF T6-10, trial: 3, there are: 613 time-points\n",
      "For patient: AB3154 BF T6-10, trial: 4, there are: 601 time-points\n",
      "For patient: AB3154 BF T6-10, trial: 5, there are: 711 time-points\n",
      "For patient: AB3154 BF T6-10, trial: 6, there are: 651 time-points\n",
      "For patient: AB3154 BF T6-10, trial: 7, there are: 1031 time-points\n",
      "For patient: AB3154 BF T6-10, trial: 8, there are: 896 time-points\n",
      "For patient: AB3154 BF T6-10, trial: 9, there are: 812 time-points\n",
      "For patient: AB6751 BF T1-5, trial: 1, there are: 761 time-points\n",
      "For patient: AB6751 BF T1-5, trial: 2, there are: 733 time-points\n",
      "For patient: AB6751 BF T1-5, trial: 3, there are: 731 time-points\n",
      "For patient: AB6751 BF T1-5, trial: 4, there are: 682 time-points\n",
      "For patient: AB6751 BF T1-5, trial: 5, there are: 710 time-points\n",
      "For patient: AB6751 BF T1-5, trial: 6, there are: 708 time-points\n",
      "For patient: AB6751 BF T1-5, trial: 7, there are: 682 time-points\n",
      "For patient: AB6751 BF T1-5, trial: 8, there are: 675 time-points\n",
      "For patient: AB6751 BF T1-5, trial: 9, there are: 900 time-points\n",
      "For patient: AB6751 BF T1-5, trial: 10, there are: 761 time-points\n",
      "For patient: AB7422 BF T1-5, trial: 1, there are: 1004 time-points\n",
      "For patient: AB7422 BF T1-5, trial: 2, there are: 781 time-points\n",
      "For patient: AB7422 BF T1-5, trial: 3, there are: 689 time-points\n",
      "For patient: AB7422 BF T1-5, trial: 4, there are: 792 time-points\n",
      "For patient: AB7422 BF T1-5, trial: 5, there are: 735 time-points\n",
      "For patient: AB7422 BF T1-5, trial: 6, there are: 835 time-points\n",
      "For patient: AB7422 BF T1-5, trial: 7, there are: 761 time-points\n",
      "For patient: AB7422 BF T1-5, trial: 8, there are: 790 time-points\n",
      "For patient: AB7422 BF T1-5, trial: 9, there are: 687 time-points\n",
      "For patient: AB7422 BF T1-5, trial: 10, there are: 775 time-points\n",
      "For patient: AB7779 BF T1-5, trial: 1, there are: 1055 time-points\n",
      "For patient: AB7779 BF T1-5, trial: 2, there are: 914 time-points\n",
      "For patient: AB7779 BF T1-5, trial: 3, there are: 893 time-points\n",
      "For patient: AB7779 BF T1-5, trial: 4, there are: 962 time-points\n",
      "For patient: AB7779 BF T1-5, trial: 5, there are: 830 time-points\n",
      "For patient: AB7779 BF T1-5, trial: 6, there are: 721 time-points\n",
      "For patient: AB7779 BF T1-5, trial: 7, there are: 731 time-points\n",
      "For patient: AB7779 BF T1-5, trial: 8, there are: 771 time-points\n",
      "For patient: AB7779 BF T1-5, trial: 9, there are: 663 time-points\n",
      "For patient: AB7779 BF T1-5, trial: 10, there are: 754 time-points\n",
      "For patient: AB9737 BF T1-5, trial: 1, there are: 1027 time-points\n",
      "For patient: AB9737 BF T1-5, trial: 2, there are: 1066 time-points\n",
      "For patient: AB9737 BF T1-5, trial: 3, there are: 1061 time-points\n",
      "For patient: AB9737 BF T1-5, trial: 4, there are: 880 time-points\n",
      "For patient: AB9737 BF T1-5, trial: 5, there are: 995 time-points\n",
      "For patient: AB9737 BF T1-5, trial: 6, there are: 921 time-points\n",
      "For patient: AB9737 BF T1-5, trial: 7, there are: 897 time-points\n",
      "For patient: AB9737 BF T1-5, trial: 8, there are: 920 time-points\n",
      "For patient: AB9737 BF T1-5, trial: 9, there are: 836 time-points\n",
      "For patient: AB9737 BF T1-5, trial: 10, there are: 874 time-points\n",
      "For patient: AB9737 BF T1-5, trial: 11, there are: 801 time-points\n",
      "For patient: AB9737 BF T1-5, trial: 12, there are: 877 time-points\n",
      "For patient: AB9737 BF T1-5, trial: 13, there are: 833 time-points\n",
      "For patient: AB9737 BF T1-5, trial: 14, there are: 811 time-points\n",
      "For patient: AB9737 BF T1-5, trial: 15, there are: 909 time-points\n",
      "For patient: AB9737 BF T1-5, trial: 16, there are: 824 time-points\n",
      "For patient: AB9737 BF T6-10, trial: 1, there are: 1843 time-points\n",
      "For patient: AB9737 BF T6-10, trial: 2, there are: 1565 time-points\n",
      "For patient: AB9737 BF T6-10, trial: 3, there are: 1296 time-points\n",
      "For patient: AB9737 BF T6-10, trial: 4, there are: 1241 time-points\n",
      "For patient: AB9737 BF T6-10, trial: 5, there are: 1251 time-points\n",
      "For patient: AB9737 BF T6-10, trial: 6, there are: 951 time-points\n",
      "For patient: AB9737 BF T6-10, trial: 7, there are: 1170 time-points\n",
      "For patient: AB9737 BF T6-10, trial: 8, there are: 1201 time-points\n",
      "For patient: AB9737 BF T6-10, trial: 9, there are: 1051 time-points\n",
      "For patient: AB9737 BF T6-10, trial: 10, there are: 1023 time-points\n",
      "For patient: AB9737 BF T6-10, trial: 11, there are: 1026 time-points\n",
      "For patient: AB9737 BF T6-10, trial: 12, there are: 1063 time-points\n",
      "For patient: AB9737 BF T6-10, trial: 13, there are: 1020 time-points\n",
      "For patient: AB9737 BF T6-10, trial: 14, there are: 1063 time-points\n",
      "\n",
      "There are 69 samples\n",
      "For patient: AB9119 BF T1-5, trial: 1, there are: 890 time-points\n",
      "For patient: AB9119 BF T1-5, trial: 2, there are: 1001 time-points\n",
      "For patient: AB9119 BF T1-5, trial: 3, there are: 831 time-points\n",
      "For patient: AB9119 BF T1-5, trial: 4, there are: 1051 time-points\n",
      "For patient: AB9119 BF T1-5, trial: 5, there are: 736 time-points\n",
      "For patient: AB9119 BF T1-5, trial: 6, there are: 766 time-points\n",
      "For patient: AB9119 BF T1-5, trial: 7, there are: 664 time-points\n",
      "For patient: AB9119 BF T1-5, trial: 8, there are: 764 time-points\n",
      "For patient: AB9119 BF T1-5, trial: 9, there are: 711 time-points\n",
      "For patient: AB9119 BF T1-5, trial: 10, there are: 755 time-points\n",
      "\n",
      "There are 10 samples\n"
     ]
    }
   ],
   "source": [
    "train_samples = count_nsamples(train_data)\n",
    "val_samples = count_nsamples(val_data)"
   ]
  },
  {
   "cell_type": "code",
   "execution_count": 24,
   "metadata": {},
   "outputs": [
    {
     "name": "stdout",
     "output_type": "stream",
     "text": [
      "Number of train samples: 69\n",
      "Number of validation samples: 10\n"
     ]
    }
   ],
   "source": [
    "print(f'Number of train samples: {train_samples}')\n",
    "print(f'Number of validation samples: {val_samples}')"
   ]
  },
  {
   "cell_type": "code",
   "execution_count": 25,
   "metadata": {},
   "outputs": [],
   "source": [
    "# os.makedirs('D:\\Study 2 Data\\Pre-process sample', exist_ok=True)  #check if directory exists\n",
    "# all_data.to_csv('D:\\Study 2 Data\\Pre-process sample/exported-data3.csv')  #export data to csv"
   ]
  },
  {
   "cell_type": "markdown",
   "metadata": {},
   "source": [
    "#### Convert Data into numpy array for forming windows"
   ]
  },
  {
   "cell_type": "code",
   "execution_count": 26,
   "metadata": {},
   "outputs": [],
   "source": [
    "m = all_data['Patient ID'].unique()"
   ]
  },
  {
   "cell_type": "code",
   "execution_count": 27,
   "metadata": {},
   "outputs": [],
   "source": [
    "\n",
    "def pd_to_np_converter(data, n_samples, features):\n",
    "    #create a numpy array that stores the data for export\n",
    "    sample_ID = []\n",
    "    # patients = 2\n",
    "    # n_trials = 10\n",
    "    # # samples = patients * n_trials\n",
    "    data_store = np.zeros((n_samples, 2000, len(features)), dtype=np.float32)\n",
    "    i = 0\n",
    "\n",
    "    for p in data['Patient ID'].unique(): #loop over patients \n",
    "        for t in data['Trial'].unique(): #loop over trials starting with trials 1 to trial 9 (inclusive)\n",
    "            pd_array = data[(data['Patient ID'] == p) & (data['Trial'] == t)]\n",
    "            if pd_array.empty:\n",
    "                continue\n",
    "                # print('DataFrame is empty!')\n",
    "                # print(f'Trail {t} does not exist in {p}')\n",
    "            else:\n",
    "                np_array = pd_array.to_numpy()\n",
    "                data_store[i, :np_array.shape[0], :] = np_array[:,3:] \n",
    "                sample_ID.append(p+ ' Ts'+str(t)) \n",
    "                i +=1\n",
    "\n",
    "    return pd_array.columns, data_store\n"
   ]
  },
  {
   "cell_type": "code",
   "execution_count": 28,
   "metadata": {},
   "outputs": [
    {
     "name": "stdout",
     "output_type": "stream",
     "text": [
      "train_data_np.shape: (69, 2000, 1)\n",
      "val_data_np.shape: (10, 2000, 1)\n"
     ]
    }
   ],
   "source": [
    "train_columns, train_data_np = pd_to_np_converter(train_data, train_samples, features)\n",
    "val_columns, val_data_np = pd_to_np_converter(val_data, val_samples, features)\n",
    "\n",
    "print(f'train_data_np.shape: {train_data_np.shape}')\n",
    "print(f'val_data_np.shape: {val_data_np.shape}')"
   ]
  },
  {
   "cell_type": "code",
   "execution_count": 29,
   "metadata": {},
   "outputs": [
    {
     "data": {
      "text/plain": [
       "['Hips Flexion-Extension Left']"
      ]
     },
     "execution_count": 29,
     "metadata": {},
     "output_type": "execute_result"
    }
   ],
   "source": [
    "train_columns[3:].tolist() "
   ]
  },
  {
   "cell_type": "code",
   "execution_count": 30,
   "metadata": {},
   "outputs": [
    {
     "data": {
      "text/plain": [
       "True"
      ]
     },
     "execution_count": 30,
     "metadata": {},
     "output_type": "execute_result"
    }
   ],
   "source": [
    "features == train_columns[3:].tolist() "
   ]
  },
  {
   "cell_type": "code",
   "execution_count": 31,
   "metadata": {},
   "outputs": [
    {
     "name": "stdout",
     "output_type": "stream",
     "text": [
      "YAY! Column headers of dataframe match features\n"
     ]
    }
   ],
   "source": [
    "labels_keys = train_columns[3:].tolist() #copy the train columns removing the first column headers'Patient ID', 'Trial', 'Time'\n",
    "\n",
    "\n",
    "if features == labels_keys: # check that the features are the same as the label keys \n",
    "    print('YAY! Column headers of dataframe match features')\n",
    "else:\n",
    "    print('ERROR: Features and labels_keys do not match!')"
   ]
  },
  {
   "cell_type": "markdown",
   "metadata": {},
   "source": [
    "#### Generate Dictionary for Features"
   ]
  },
  {
   "cell_type": "code",
   "execution_count": 32,
   "metadata": {},
   "outputs": [
    {
     "data": {
      "text/plain": [
       "{'Hips Flexion-Extension Left': 0}"
      ]
     },
     "execution_count": 32,
     "metadata": {},
     "output_type": "execute_result"
    }
   ],
   "source": [
    "labels_keys = features \n",
    "\n",
    "labels_idx = np.arange(0, len(labels_keys), 1)\n",
    "\n",
    "labels = dict(zip(labels_keys, labels_idx))\n",
    "\n",
    "len(labels)\n",
    "labels\n",
    "# labels_keys"
   ]
  },
  {
   "cell_type": "markdown",
   "metadata": {},
   "source": [
    "#### Process Data: Window Generation"
   ]
  },
  {
   "cell_type": "code",
   "execution_count": 33,
   "metadata": {},
   "outputs": [],
   "source": [
    "def window_generator_fltrd(sequence, input_window, output_window, stride, features, labels):\n",
    "    \"\"\"\n",
    "    Trims the input sequence from leading and trailing zeros, then generates an array with input windows and another array for the corresponding output windows\n",
    "    Args:\n",
    "        sequence: (np.array, float32) columns are features while rows are time points\n",
    "        features: (list, strin~g) column names\n",
    "        input_window: (int)\n",
    "        stride (int): the value the input window shifts along the sequence \n",
    "    Returns:\n",
    "\n",
    "    \"\"\"\n",
    "    # shortest_seqLen = float('inf')\n",
    "\n",
    "    # f_zeros = [] #array that stores the number of leading zeros for each feature\n",
    "    b_zeros = [] #array that stores the number of trailing zeros for each feacture \n",
    "\n",
    "    for f in features:\n",
    "        # trim the leading and training zeros\n",
    "        # f_zeros.append(sequence[:,labels[f]].shape[0] - np.trim_zeros(sequence[:,labels[f]], 'f').shape[0]) #forward zeros\n",
    "        b_zeros.append(sequence[:,labels[f]].shape[0] - np.trim_zeros(sequence[:,labels[f]], 'b').shape[0]) #backward zeros\n",
    "\n",
    "    # max_f_zeros = max(f_zeros) #find the maximum number of leading zeros\n",
    "    max_b_zeros = max(b_zeros) #find the maximum number of trailing/backward zeros \n",
    "    # print(max_b_zeros)\n",
    "\n",
    "    #total sequence length minus max leading and trailing zeros \n",
    "    trimmed_seqLen = sequence[:,0].shape[0] - (max_b_zeros)\n",
    "    trimmed_seqLen_reduced = trimmed_seqLen - 200 #reducing sequence size to remove the first and last 200 timesteps which may contain errors   \n",
    "    print(f'trimmed_seqLen: {trimmed_seqLen}')\n",
    "    print(f'trimmed_seqLen_reduced: {trimmed_seqLen_reduced}')\n",
    "\n",
    "\n",
    "    # Slides are the number of times the input window can scan the sequence \n",
    "    # Using the equation that calculates the number of outputs as in convolution  (W – F + 2P) / S + 1, W=input image width, F=filter width, P=padding, S=stride\n",
    "    # The width of the image is taken as the number of time steps in the sequence, corresponding to the length of any TRIMMED column in the data \n",
    "    slides = ((trimmed_seqLen_reduced - (input_window+output_window)) // stride) + 1\n",
    "    print(f\"number of slides is: {slides}\")\n",
    "\n",
    "    # Calculating the first index of each of the output sequences (first index always f_zeros as its always shifted to start with the first non-zero element)\n",
    "    seq_indicies = (np.arange(slides) * stride) + 100\n",
    "\n",
    "    if slides <= 0:\n",
    "        raise ValueError(\"input window and output window length are greater than sequence length, check their values\")\n",
    "\n",
    "    # Creates an zero numpy array to store the samples in \n",
    "    X_values = np.zeros((len(seq_indicies) , input_window, len(features)))\n",
    "    Y_values = np.zeros((len(seq_indicies), output_window, len(features)))\n",
    "\n",
    "    # Loop through the features, then loop through the list of sequence indicies needed for input and output windows \n",
    "    for j, feature in enumerate(features):\n",
    "        # print(j)\n",
    "        # print(feature)\n",
    "        for i, idx in enumerate(seq_indicies):\n",
    "            X_values[i, :, j] = sequence[idx:idx+input_window, labels[feature]]\n",
    "            Y_values[i, :, j] = sequence[idx+input_window:idx+input_window + output_window, labels[feature]]\n",
    "\n",
    "    return X_values, Y_values "
   ]
  },
  {
   "cell_type": "code",
   "execution_count": 34,
   "metadata": {},
   "outputs": [],
   "source": [
    "def window_generator_lt_fltrd(sequence, input_window, future_window, stride, features, labels): #window gernerator long term fltrd (creats a validation window up to 200 timesteps in advance to measure error on long term future predictions)\n",
    "    \"\"\"\n",
    "    Trims the input sequence from leading and trailing zeros, then generates an array with input windows and another array for the corresponding output windows\n",
    "    Args:\n",
    "        sequence: (np.array, float32) columns are features while rows are time points\n",
    "        features: (list, strin~g) column names\n",
    "        input_window: (int)\n",
    "        stride (int): the value the input window shifts along the sequence \n",
    "    Returns:\n",
    "\n",
    "    \"\"\"\n",
    "    b_zeros = [] #array that stores the number of trailing zeros for each feacture \n",
    "\n",
    "    for f in features:\n",
    "        # trim the leading and training zeros\n",
    "        b_zeros.append(sequence[:,labels[f]].shape[0] - np.trim_zeros(sequence[:,labels[f]], 'b').shape[0]) #backward zeros\n",
    "\n",
    "    max_b_zeros = max(b_zeros) #find the maximum number of trailing/backward zeros \n",
    "    # print(max_b_zeros)\n",
    "\n",
    "    fltrd_samples = 2 * 100 #remove 150 timesteps from the beggining and ending of the entire sequence\n",
    "    # lt_len = 200 # number of timesteps to predict in the future based on a single input window (to be used in measuring errors based on prediction input)\n",
    "    \n",
    "    #total sequence length minus max leading and trailing zeros \n",
    "    trimmed_seqLen = sequence[:,0].shape[0] - (max_b_zeros)\n",
    "    trimmed_seqLen_reduced = trimmed_seqLen - (fltrd_samples) # (- fltrd_samples is done to reduce sequence size to remove the first and last 150 timesteps which may contain errors since they corresponding to beggining and ending of the trials \n",
    "    print(f'trimmed_seqLen: {trimmed_seqLen}')\n",
    "    print(f'trimmed_seqLen_reduced: {trimmed_seqLen_reduced}')\n",
    "\n",
    "\n",
    "    # Slides are the number of times the input window can scan the sequence \n",
    "    # Using the equation that calculates the number of outputs as in convolution  (W – F + 2P) / S + 1, W=input image width, F=filter width, P=padding, S=stride\n",
    "    # The width of the image is taken as the number of time steps in the sequence, corresponding to the length of any TRIMMED column in the data \n",
    "    slides = ((trimmed_seqLen_reduced - (input_window+future_window)) // stride) + 1\n",
    "    print(f\"number of slides is: {slides}\")\n",
    "\n",
    "    # Calculating the first index of each of the output sequences (first index always f_zeros as its always shifted to start with the first non-zero element)\n",
    "    seq_indicies = (np.arange(slides) * stride) + 100\n",
    "\n",
    "    if slides <= 0:\n",
    "        raise ValueError(\"input window and output window length are greater than sequence length, check their values\")\n",
    "\n",
    "    # Creates an zero numpy array to store the samples in \n",
    "    X_values = np.zeros((len(seq_indicies) , input_window, len(features)))\n",
    "    Y_values = np.zeros((len(seq_indicies), future_window, len(features)))\n",
    "\n",
    "    # Loop through the features, then loop through the list of sequence indicies needed for input and output windows \n",
    "    for j, feature in enumerate(features):\n",
    "        # print(j)\n",
    "        # print(feature)\n",
    "        for i, idx in enumerate(seq_indicies):\n",
    "            X_values[i, :, j] = sequence[idx:idx+input_window, labels[feature]]\n",
    "            Y_values[i, :, j] = sequence[idx+input_window:idx+input_window + future_window, labels[feature]]\n",
    "\n",
    "    return X_values, Y_values "
   ]
  },
  {
   "cell_type": "code",
   "execution_count": 35,
   "metadata": {},
   "outputs": [
    {
     "name": "stdout",
     "output_type": "stream",
     "text": [
      "trimmed_seqLen: 651\n",
      "trimmed_seqLen_reduced: 451\n",
      "number of slides is: 351\n",
      "trimmed_seqLen: 541\n",
      "trimmed_seqLen_reduced: 341\n",
      "number of slides is: 241\n",
      "trimmed_seqLen: 613\n",
      "trimmed_seqLen_reduced: 413\n",
      "number of slides is: 313\n",
      "trimmed_seqLen: 601\n",
      "trimmed_seqLen_reduced: 401\n",
      "number of slides is: 301\n",
      "trimmed_seqLen: 711\n",
      "trimmed_seqLen_reduced: 511\n",
      "number of slides is: 411\n",
      "trimmed_seqLen: 651\n",
      "trimmed_seqLen_reduced: 451\n",
      "number of slides is: 351\n",
      "trimmed_seqLen: 1031\n",
      "trimmed_seqLen_reduced: 831\n",
      "number of slides is: 731\n",
      "trimmed_seqLen: 896\n",
      "trimmed_seqLen_reduced: 696\n",
      "number of slides is: 596\n",
      "trimmed_seqLen: 812\n",
      "trimmed_seqLen_reduced: 612\n",
      "number of slides is: 512\n",
      "trimmed_seqLen: 761\n",
      "trimmed_seqLen_reduced: 561\n",
      "number of slides is: 461\n",
      "trimmed_seqLen: 733\n",
      "trimmed_seqLen_reduced: 533\n",
      "number of slides is: 433\n",
      "trimmed_seqLen: 731\n",
      "trimmed_seqLen_reduced: 531\n",
      "number of slides is: 431\n",
      "trimmed_seqLen: 682\n",
      "trimmed_seqLen_reduced: 482\n",
      "number of slides is: 382\n",
      "trimmed_seqLen: 710\n",
      "trimmed_seqLen_reduced: 510\n",
      "number of slides is: 410\n",
      "trimmed_seqLen: 708\n",
      "trimmed_seqLen_reduced: 508\n",
      "number of slides is: 408\n",
      "trimmed_seqLen: 682\n",
      "trimmed_seqLen_reduced: 482\n",
      "number of slides is: 382\n",
      "trimmed_seqLen: 675\n",
      "trimmed_seqLen_reduced: 475\n",
      "number of slides is: 375\n",
      "trimmed_seqLen: 900\n",
      "trimmed_seqLen_reduced: 700\n",
      "number of slides is: 600\n",
      "trimmed_seqLen: 761\n",
      "trimmed_seqLen_reduced: 561\n",
      "number of slides is: 461\n",
      "trimmed_seqLen: 1004\n",
      "trimmed_seqLen_reduced: 804\n",
      "number of slides is: 704\n",
      "trimmed_seqLen: 781\n",
      "trimmed_seqLen_reduced: 581\n",
      "number of slides is: 481\n",
      "trimmed_seqLen: 689\n",
      "trimmed_seqLen_reduced: 489\n",
      "number of slides is: 389\n",
      "trimmed_seqLen: 792\n",
      "trimmed_seqLen_reduced: 592\n",
      "number of slides is: 492\n",
      "trimmed_seqLen: 735\n",
      "trimmed_seqLen_reduced: 535\n",
      "number of slides is: 435\n",
      "trimmed_seqLen: 835\n",
      "trimmed_seqLen_reduced: 635\n",
      "number of slides is: 535\n",
      "trimmed_seqLen: 761\n",
      "trimmed_seqLen_reduced: 561\n",
      "number of slides is: 461\n",
      "trimmed_seqLen: 790\n",
      "trimmed_seqLen_reduced: 590\n",
      "number of slides is: 490\n",
      "trimmed_seqLen: 687\n",
      "trimmed_seqLen_reduced: 487\n",
      "number of slides is: 387\n",
      "trimmed_seqLen: 775\n",
      "trimmed_seqLen_reduced: 575\n",
      "number of slides is: 475\n",
      "trimmed_seqLen: 1055\n",
      "trimmed_seqLen_reduced: 855\n",
      "number of slides is: 755\n",
      "trimmed_seqLen: 914\n",
      "trimmed_seqLen_reduced: 714\n",
      "number of slides is: 614\n",
      "trimmed_seqLen: 893\n",
      "trimmed_seqLen_reduced: 693\n",
      "number of slides is: 593\n",
      "trimmed_seqLen: 962\n",
      "trimmed_seqLen_reduced: 762\n",
      "number of slides is: 662\n",
      "trimmed_seqLen: 830\n",
      "trimmed_seqLen_reduced: 630\n",
      "number of slides is: 530\n",
      "trimmed_seqLen: 721\n",
      "trimmed_seqLen_reduced: 521\n",
      "number of slides is: 421\n",
      "trimmed_seqLen: 731\n",
      "trimmed_seqLen_reduced: 531\n",
      "number of slides is: 431\n",
      "trimmed_seqLen: 771\n",
      "trimmed_seqLen_reduced: 571\n",
      "number of slides is: 471\n",
      "trimmed_seqLen: 663\n",
      "trimmed_seqLen_reduced: 463\n",
      "number of slides is: 363\n",
      "trimmed_seqLen: 754\n",
      "trimmed_seqLen_reduced: 554\n",
      "number of slides is: 454\n",
      "trimmed_seqLen: 1027\n",
      "trimmed_seqLen_reduced: 827\n",
      "number of slides is: 727\n",
      "trimmed_seqLen: 1066\n",
      "trimmed_seqLen_reduced: 866\n",
      "number of slides is: 766\n",
      "trimmed_seqLen: 1061\n",
      "trimmed_seqLen_reduced: 861\n",
      "number of slides is: 761\n",
      "trimmed_seqLen: 880\n",
      "trimmed_seqLen_reduced: 680\n",
      "number of slides is: 580\n",
      "trimmed_seqLen: 995\n",
      "trimmed_seqLen_reduced: 795\n",
      "number of slides is: 695\n",
      "trimmed_seqLen: 921\n",
      "trimmed_seqLen_reduced: 721\n",
      "number of slides is: 621\n",
      "trimmed_seqLen: 897\n",
      "trimmed_seqLen_reduced: 697\n",
      "number of slides is: 597\n",
      "trimmed_seqLen: 920\n",
      "trimmed_seqLen_reduced: 720\n",
      "number of slides is: 620\n",
      "trimmed_seqLen: 836\n",
      "trimmed_seqLen_reduced: 636\n",
      "number of slides is: 536\n",
      "trimmed_seqLen: 874\n",
      "trimmed_seqLen_reduced: 674\n",
      "number of slides is: 574\n",
      "trimmed_seqLen: 801\n",
      "trimmed_seqLen_reduced: 601\n",
      "number of slides is: 501\n",
      "trimmed_seqLen: 877\n",
      "trimmed_seqLen_reduced: 677\n",
      "number of slides is: 577\n",
      "trimmed_seqLen: 833\n",
      "trimmed_seqLen_reduced: 633\n",
      "number of slides is: 533\n",
      "trimmed_seqLen: 811\n",
      "trimmed_seqLen_reduced: 611\n",
      "number of slides is: 511\n",
      "trimmed_seqLen: 909\n",
      "trimmed_seqLen_reduced: 709\n",
      "number of slides is: 609\n",
      "trimmed_seqLen: 824\n",
      "trimmed_seqLen_reduced: 624\n",
      "number of slides is: 524\n",
      "trimmed_seqLen: 1843\n",
      "trimmed_seqLen_reduced: 1643\n",
      "number of slides is: 1543\n",
      "trimmed_seqLen: 1565\n",
      "trimmed_seqLen_reduced: 1365\n",
      "number of slides is: 1265\n",
      "trimmed_seqLen: 1296\n",
      "trimmed_seqLen_reduced: 1096\n",
      "number of slides is: 996\n",
      "trimmed_seqLen: 1241\n",
      "trimmed_seqLen_reduced: 1041\n",
      "number of slides is: 941\n",
      "trimmed_seqLen: 1251\n",
      "trimmed_seqLen_reduced: 1051\n",
      "number of slides is: 951\n",
      "trimmed_seqLen: 951\n",
      "trimmed_seqLen_reduced: 751\n",
      "number of slides is: 651\n",
      "trimmed_seqLen: 1170\n",
      "trimmed_seqLen_reduced: 970\n",
      "number of slides is: 870\n",
      "trimmed_seqLen: 1201\n",
      "trimmed_seqLen_reduced: 1001\n",
      "number of slides is: 901\n",
      "trimmed_seqLen: 1051\n",
      "trimmed_seqLen_reduced: 851\n",
      "number of slides is: 751\n",
      "trimmed_seqLen: 1023\n",
      "trimmed_seqLen_reduced: 823\n",
      "number of slides is: 723\n",
      "trimmed_seqLen: 1026\n",
      "trimmed_seqLen_reduced: 826\n",
      "number of slides is: 726\n",
      "trimmed_seqLen: 1063\n",
      "trimmed_seqLen_reduced: 863\n",
      "number of slides is: 763\n",
      "trimmed_seqLen: 1020\n",
      "trimmed_seqLen_reduced: 820\n",
      "number of slides is: 720\n",
      "trimmed_seqLen: 1063\n",
      "trimmed_seqLen_reduced: 863\n",
      "number of slides is: 763\n",
      "shape of X_train_windows: (62100, 100, 1)\n",
      "shape of Y_train_windows: (62100, 1, 1)\n",
      "shape of X_train_data: (40589, 100, 1)\n",
      "shape of Y_train_data: (40589, 1, 1)\n"
     ]
    }
   ],
   "source": [
    "# Creating training datasets\n",
    "# Selecting the features to be used when creating windows \n",
    "approx_seq_len = 2000 # appoximate the length of the longest sequence that can be encountered \n",
    "# samples_per_file = ((approx_seq_len - (input_window+output_window)) // stride) + 1 #number of window samples generated per file \n",
    "samples_per_file = 900\n",
    "\n",
    "\n",
    "# create a zero-filled 3D array with shape (number of samples * number of files, window size, number of features)\n",
    "X_train_windows = np.zeros((samples_per_file*train_samples, input_window, len(features)), dtype=np.float32) #size can be reduced by decreasing train_size \n",
    "Y_train_windows = np.zeros((samples_per_file*train_samples, output_window, len(features)), dtype=np.float32) \n",
    "\n",
    "\n",
    "start_idx = 0 #setting start index to equal zero \n",
    "train_sample_sum = 0\n",
    "train_excluded_samples = []\n",
    "# Create training windows \n",
    "\n",
    "#for i in tqdm(range(train_size)): #Use for including all data including outliers \n",
    "for i in range(train_samples): \n",
    "       \n",
    "    X_values, Y_values = window_generator_fltrd(\n",
    "        train_data_np[i,:,:],\n",
    "        input_window=input_window, \n",
    "        output_window=output_window, \n",
    "        stride=stride, \n",
    "        features=features,\n",
    "        labels=labels\n",
    "        )\n",
    "\n",
    "    end_idx = start_idx + X_values.shape[0]\n",
    "\n",
    "    # print(f'file number [{f}] start index: {start_idx}, end index: {end_idx}, number of samples: {X_values.shape[0]}')\n",
    "\n",
    "    X_train_windows[start_idx:end_idx, :, :] = X_values\n",
    "    Y_train_windows[start_idx:end_idx, :, :] = Y_values\n",
    "\n",
    "    # print(f'number of samples copied: {X_train_data_store[start_idx:end_idx, :, :].shape[0]}')\n",
    "\n",
    "    start_idx = end_idx \n",
    "    train_sample_sum += X_values.shape[0]\n",
    "\n",
    "    # except Exception:\n",
    "    #     exception_msg(i)\n",
    "    #     train_excluded_samples.append(i)\n",
    "\n",
    "# print(f\"Completed storage of training windows samples, which contains {X_train_data_store.shape[0]} samples\")\n",
    "X_train_data = X_train_windows[:end_idx, :, :]\n",
    "Y_train_data = Y_train_windows[:end_idx, :, :]\n",
    "\n",
    "\n",
    "print(f'shape of X_train_windows: {X_train_windows.shape}')\n",
    "print(f'shape of Y_train_windows: {Y_train_windows.shape}')\n",
    "\n",
    "print(f'shape of X_train_data: {X_train_data.shape}')\n",
    "print(f'shape of Y_train_data: {Y_train_data.shape}')"
   ]
  },
  {
   "cell_type": "code",
   "execution_count": 36,
   "metadata": {},
   "outputs": [
    {
     "name": "stdout",
     "output_type": "stream",
     "text": [
      "trimmed_seqLen: 890\n",
      "trimmed_seqLen_reduced: 690\n",
      "number of slides is: 590\n",
      "trimmed_seqLen: 1001\n",
      "trimmed_seqLen_reduced: 801\n",
      "number of slides is: 701\n",
      "trimmed_seqLen: 831\n",
      "trimmed_seqLen_reduced: 631\n",
      "number of slides is: 531\n",
      "trimmed_seqLen: 1051\n",
      "trimmed_seqLen_reduced: 851\n",
      "number of slides is: 751\n",
      "trimmed_seqLen: 736\n",
      "trimmed_seqLen_reduced: 536\n",
      "number of slides is: 436\n",
      "trimmed_seqLen: 766\n",
      "trimmed_seqLen_reduced: 566\n",
      "number of slides is: 466\n",
      "trimmed_seqLen: 664\n",
      "trimmed_seqLen_reduced: 464\n",
      "number of slides is: 364\n",
      "trimmed_seqLen: 764\n",
      "trimmed_seqLen_reduced: 564\n",
      "number of slides is: 464\n",
      "trimmed_seqLen: 711\n",
      "trimmed_seqLen_reduced: 511\n",
      "number of slides is: 411\n",
      "trimmed_seqLen: 755\n",
      "trimmed_seqLen_reduced: 555\n",
      "number of slides is: 455\n",
      "shape of X_val_windows: (16000, 100, 1)\n",
      "shape of Y_val_windows: (16000, 1, 1)\n",
      "shape of X_val_data: (5169, 100, 1)\n",
      "shape of Y_val_data: (5169, 1, 1)\n"
     ]
    }
   ],
   "source": [
    "# Creating validation datasets\n",
    "# Selecting the features to be used when creating windows \n",
    "approx_seq_len = 2000 # appoximate the length of the longest sequence that can be encountered \n",
    "# samples_per_file = ((approx_seq_len - (input_window+output_window)) // stride) + 1 #number of window samples generated per file \n",
    "samples_per_file = 1600\n",
    "\n",
    "\n",
    "# create a zero-filled 3D array with shape (number of samples * number of files, window size, number of features)\n",
    "X_val_windows = np.zeros((samples_per_file*val_samples, input_window, len(features)), dtype=np.float32) #size can be reduced by decreasing train_size \n",
    "Y_val_windows = np.zeros((samples_per_file*val_samples, output_window, len(features)), dtype=np.float32) \n",
    "\n",
    "\n",
    "start_idx = 0 #setting start index to equal zero \n",
    "val_sample_sum = 0\n",
    "val_excluded_samples = []\n",
    "# Create training windows \n",
    "\n",
    "#for i in tqdm(range(train_size)): #Use for including all data including outliers \n",
    "for i in range(val_samples): \n",
    "       \n",
    "    X_values, Y_values = window_generator_fltrd(\n",
    "        val_data_np[i,:,:],\n",
    "        input_window=input_window, \n",
    "        output_window=output_window, \n",
    "        stride=stride, \n",
    "        features=features,\n",
    "        labels=labels\n",
    "        )\n",
    "\n",
    "    end_idx = start_idx + X_values.shape[0]\n",
    "\n",
    "    # print(f'file number [{f}] start index: {start_idx}, end index: {end_idx}, number of samples: {X_values.shape[0]}')\n",
    "\n",
    "    X_val_windows[start_idx:end_idx, :, :] = X_values\n",
    "    Y_val_windows[start_idx:end_idx, :, :] = Y_values\n",
    "\n",
    "    # print(f'number of samples copied: {X_train_data_store[start_idx:end_idx, :, :].shape[0]}')\n",
    "\n",
    "    start_idx = end_idx \n",
    "    val_sample_sum += X_values.shape[0]\n",
    "\n",
    "    # except Exception:\n",
    "    #     exception_msg(i)\n",
    "    #     train_excluded_samples.append(i)\n",
    "\n",
    "# print(f\"Completed storage of training windows samples, which contains {X_train_data_store.shape[0]} samples\")\n",
    "X_val_data = X_val_windows[:end_idx, :, :]\n",
    "Y_val_data = Y_val_windows[:end_idx, :, :]\n",
    "\n",
    "\n",
    "print(f'shape of X_val_windows: {X_val_windows.shape}')\n",
    "print(f'shape of Y_val_windows: {Y_val_windows.shape}')\n",
    "\n",
    "print(f'shape of X_val_data: {X_val_data.shape}')\n",
    "print(f'shape of Y_val_data: {Y_val_data.shape}')"
   ]
  },
  {
   "cell_type": "code",
   "execution_count": 37,
   "metadata": {},
   "outputs": [
    {
     "name": "stdout",
     "output_type": "stream",
     "text": [
      "trimmed_seqLen: 890\n",
      "trimmed_seqLen_reduced: 690\n",
      "number of slides is: 391\n",
      "trimmed_seqLen: 1001\n",
      "trimmed_seqLen_reduced: 801\n",
      "number of slides is: 502\n",
      "trimmed_seqLen: 831\n",
      "trimmed_seqLen_reduced: 631\n",
      "number of slides is: 332\n",
      "trimmed_seqLen: 1051\n",
      "trimmed_seqLen_reduced: 851\n",
      "number of slides is: 552\n",
      "trimmed_seqLen: 736\n",
      "trimmed_seqLen_reduced: 536\n",
      "number of slides is: 237\n",
      "trimmed_seqLen: 766\n",
      "trimmed_seqLen_reduced: 566\n",
      "number of slides is: 267\n",
      "trimmed_seqLen: 664\n",
      "trimmed_seqLen_reduced: 464\n",
      "number of slides is: 165\n",
      "trimmed_seqLen: 764\n",
      "trimmed_seqLen_reduced: 564\n",
      "number of slides is: 265\n",
      "trimmed_seqLen: 711\n",
      "trimmed_seqLen_reduced: 511\n",
      "number of slides is: 212\n",
      "trimmed_seqLen: 755\n",
      "trimmed_seqLen_reduced: 555\n",
      "number of slides is: 256\n",
      "shape of X_val_lt_windows: (16000, 100, 1)\n",
      "shape of Y_val_lt_windows: (16000, 200, 1)\n",
      "shape of X_val_lt_data: (3179, 100, 1)\n",
      "shape of Y_val_lt_data: (3179, 200, 1)\n"
     ]
    }
   ],
   "source": [
    "# Creating validation datasets (long term predictions)\n",
    "# Selecting the features to be used when creating windows \n",
    "approx_seq_len = 2000 # appoximate the length of the longest sequence that can be encountered \n",
    "# samples_per_file = ((approx_seq_len - (input_window+output_window)) // stride) + 1 #number of window samples generated per file \n",
    "samples_per_file = 1600\n",
    "\n",
    "future_window = 200\n",
    "\n",
    "# create a zero-filled 3D array with shape (number of samples * number of files, window size, number of features)\n",
    "X_val_lt_windows = np.zeros((samples_per_file*val_samples, input_window, len(features)), dtype=np.float32) #size can be reduced by decreasing train_size \n",
    "Y_val_lt_windows = np.zeros((samples_per_file*val_samples, future_window, len(features)), dtype=np.float32) \n",
    "\n",
    "\n",
    "start_idx = 0 #setting start index to equal zero \n",
    "val_lt_sample_sum = 0\n",
    "val_lt_excluded_samples = []\n",
    "# Create training windows \n",
    "\n",
    "#for i in tqdm(range(train_size)): #Use for including all data including outliers \n",
    "for i in range(val_samples): \n",
    "       \n",
    "    X_values, Y_values = window_generator_lt_fltrd(\n",
    "        val_data_np[i,:,:],\n",
    "        input_window=input_window, \n",
    "        future_window=future_window, \n",
    "        stride=stride, \n",
    "        features=features,\n",
    "        labels=labels\n",
    "        )\n",
    "\n",
    "    end_idx = start_idx + X_values.shape[0]\n",
    "\n",
    "    # print(f'file number [{f}] start index: {start_idx}, end index: {end_idx}, number of samples: {X_values.shape[0]}')\n",
    "\n",
    "    X_val_lt_windows[start_idx:end_idx, :, :] = X_values\n",
    "    Y_val_lt_windows[start_idx:end_idx, :, :] = Y_values\n",
    "\n",
    "    # print(f'number of samples copied: {X_train_data_store[start_idx:end_idx, :, :].shape[0]}')\n",
    "\n",
    "    start_idx = end_idx \n",
    "    val_lt_sample_sum += X_values.shape[0]\n",
    "\n",
    "    # except Exception:\n",
    "    #     exception_msg(i)\n",
    "    #     train_excluded_samples.append(i)\n",
    "\n",
    "# print(f\"Completed storage of training windows samples, which contains {X_train_data_store.shape[0]} samples\")\n",
    "X_val_lt_data = X_val_lt_windows[:end_idx, :, :]\n",
    "Y_val_lt_data = Y_val_lt_windows[:end_idx, :, :]\n",
    "\n",
    "\n",
    "print(f'shape of X_val_lt_windows: {X_val_lt_windows.shape}')\n",
    "print(f'shape of Y_val_lt_windows: {Y_val_lt_windows.shape}')\n",
    "\n",
    "print(f'shape of X_val_lt_data: {X_val_lt_data.shape}')\n",
    "print(f'shape of Y_val_lt_data: {Y_val_lt_data.shape}')"
   ]
  },
  {
   "cell_type": "code",
   "execution_count": 38,
   "metadata": {},
   "outputs": [
    {
     "ename": "IndexError",
     "evalue": "index 1 is out of bounds for axis 2 with size 1",
     "output_type": "error",
     "traceback": [
      "\u001b[1;31m---------------------------------------------------------------------------\u001b[0m",
      "\u001b[1;31mIndexError\u001b[0m                                Traceback (most recent call last)",
      "\u001b[1;32m~\\AppData\\Local\\Temp/ipykernel_8904/3345126727.py\u001b[0m in \u001b[0;36m<module>\u001b[1;34m\u001b[0m\n\u001b[0;32m      3\u001b[0m \u001b[0mx2\u001b[0m \u001b[1;33m=\u001b[0m \u001b[0mnp\u001b[0m\u001b[1;33m.\u001b[0m\u001b[0marange\u001b[0m\u001b[1;33m(\u001b[0m\u001b[1;36m100\u001b[0m\u001b[1;33m,\u001b[0m\u001b[1;36m300\u001b[0m\u001b[1;33m)\u001b[0m\u001b[1;33m\u001b[0m\u001b[1;33m\u001b[0m\u001b[0m\n\u001b[0;32m      4\u001b[0m \u001b[0mx3\u001b[0m \u001b[1;33m=\u001b[0m \u001b[1;36m100\u001b[0m\u001b[1;33m\u001b[0m\u001b[1;33m\u001b[0m\u001b[0m\n\u001b[1;32m----> 5\u001b[1;33m \u001b[0mplt\u001b[0m\u001b[1;33m.\u001b[0m\u001b[0mplot\u001b[0m\u001b[1;33m(\u001b[0m\u001b[0mx1\u001b[0m\u001b[1;33m,\u001b[0m \u001b[0mX_val_lt_data\u001b[0m\u001b[1;33m[\u001b[0m\u001b[1;36m2\u001b[0m\u001b[1;33m,\u001b[0m\u001b[1;33m:\u001b[0m\u001b[1;33m,\u001b[0m\u001b[1;36m1\u001b[0m\u001b[1;33m]\u001b[0m\u001b[1;33m,\u001b[0m \u001b[0mlabel\u001b[0m\u001b[1;33m=\u001b[0m\u001b[1;34m'input'\u001b[0m\u001b[1;33m)\u001b[0m\u001b[1;33m\u001b[0m\u001b[1;33m\u001b[0m\u001b[0m\n\u001b[0m\u001b[0;32m      6\u001b[0m \u001b[0mplt\u001b[0m\u001b[1;33m.\u001b[0m\u001b[0mplot\u001b[0m\u001b[1;33m(\u001b[0m\u001b[0mx2\u001b[0m\u001b[1;33m,\u001b[0m \u001b[0mY_val_lt_data\u001b[0m\u001b[1;33m[\u001b[0m\u001b[1;36m2\u001b[0m\u001b[1;33m,\u001b[0m\u001b[1;33m:\u001b[0m\u001b[1;33m,\u001b[0m\u001b[1;36m1\u001b[0m\u001b[1;33m]\u001b[0m\u001b[1;33m,\u001b[0m \u001b[0mlabel\u001b[0m\u001b[1;33m=\u001b[0m\u001b[1;34m'200 timesteps in the future'\u001b[0m\u001b[1;33m)\u001b[0m\u001b[1;33m\u001b[0m\u001b[1;33m\u001b[0m\u001b[0m\n\u001b[0;32m      7\u001b[0m \u001b[0mplt\u001b[0m\u001b[1;33m.\u001b[0m\u001b[0mscatter\u001b[0m\u001b[1;33m(\u001b[0m\u001b[0mx3\u001b[0m\u001b[1;33m,\u001b[0m \u001b[0mY_val_data\u001b[0m\u001b[1;33m[\u001b[0m\u001b[1;36m2\u001b[0m\u001b[1;33m,\u001b[0m\u001b[1;33m:\u001b[0m\u001b[1;33m,\u001b[0m\u001b[1;36m1\u001b[0m\u001b[1;33m]\u001b[0m\u001b[1;33m,\u001b[0m \u001b[0ms\u001b[0m\u001b[1;33m=\u001b[0m\u001b[1;36m30\u001b[0m\u001b[1;33m,\u001b[0m \u001b[0mlabel\u001b[0m\u001b[1;33m=\u001b[0m\u001b[1;34m'target value'\u001b[0m\u001b[1;33m,\u001b[0m \u001b[0mcolor\u001b[0m\u001b[1;33m=\u001b[0m\u001b[1;34m'g'\u001b[0m\u001b[1;33m)\u001b[0m\u001b[1;33m\u001b[0m\u001b[1;33m\u001b[0m\u001b[0m\n",
      "\u001b[1;31mIndexError\u001b[0m: index 1 is out of bounds for axis 2 with size 1"
     ]
    }
   ],
   "source": [
    "#checking the windows\n",
    "x1 = np.arange(0,100)\n",
    "x2 = np.arange(100,300)\n",
    "x3 = 100\n",
    "plt.plot(x1, X_val_lt_data[2,:,1], label='input')\n",
    "plt.plot(x2, Y_val_lt_data[2,:,1], label='200 timesteps in the future')\n",
    "plt.scatter(x3, Y_val_data[2,:,1], s=30, label='target value', color='g')\n",
    "plt.legend()\n"
   ]
  },
  {
   "cell_type": "code",
   "execution_count": 39,
   "metadata": {},
   "outputs": [
    {
     "data": {
      "image/png": "[encoded data removed]",
      "text/plain": [
       "<Figure size 720x288 with 1 Axes>"
      ]
     },
     "metadata": {},
     "output_type": "display_data"
    }
   ],
   "source": [
    "# Plot histogram of the data \n",
    "rcParams['figure.figsize'] = 10,4\n",
    "\n",
    "for f in range(len(features)):\n",
    "    plt.hist(Y_train_data[:,:,f].reshape(-1,1), label = features[f], bins=50, range=(Y_train_data.min(), Y_train_data.max()))\n",
    "    plt.legend()\n",
    "    plt.show()"
   ]
  },
  {
   "cell_type": "markdown",
   "metadata": {},
   "source": [
    "#### Process Data: Normalisation/Standarisation"
   ]
  },
  {
   "cell_type": "code",
   "execution_count": 40,
   "metadata": {},
   "outputs": [
    {
     "data": {
      "text/plain": [
       "array([[-30.96504974],\n",
       "       [ 63.01054001]])"
      ]
     },
     "execution_count": 40,
     "metadata": {},
     "output_type": "execute_result"
    }
   ],
   "source": [
    "X_train_norm, scalars = normalise_fit(X_train_data)\n",
    "Y_train_norm = normalise_transform(Y_train_data, scalars)\n",
    "\n",
    "X_val_norm = normalise_transform(X_val_data, scalars)\n",
    "Y_val_norm = normalise_transform(Y_val_data, scalars)\n",
    "\n",
    "X_val_lt_norm = normalise_transform(X_val_lt_data, scalars)\n",
    "Y_val_lt_norm = normalise_transform(Y_val_lt_data, scalars)\n",
    "\n",
    "\n",
    "scalars"
   ]
  },
  {
   "cell_type": "code",
   "execution_count": 41,
   "metadata": {},
   "outputs": [],
   "source": [
    "# #Use the data unnormalised \n",
    "# X_train_norm = X_train_data\n",
    "# Y_train_norm = Y_train_data\n",
    "\n",
    "\n",
    "# X_val_norm = X_val_data\n",
    "# Y_val_norm = Y_val_data"
   ]
  },
  {
   "cell_type": "code",
   "execution_count": 42,
   "metadata": {},
   "outputs": [
    {
     "data": {
      "image/png": "[encoded data removed]",
      "text/plain": [
       "<Figure size 720x288 with 1 Axes>"
      ]
     },
     "metadata": {},
     "output_type": "display_data"
    }
   ],
   "source": [
    "# Plot histogram of the data \n",
    "\n",
    "rcParams['figure.figsize'] = 10,4\n",
    "\n",
    "for f in range(len(features)):\n",
    "    plt.hist(Y_train_data[:,:,f].reshape(-1,1), bins=50, label = features[f])\n",
    "    plt.legend()\n",
    "    plt.show()"
   ]
  },
  {
   "cell_type": "code",
   "execution_count": 43,
   "metadata": {},
   "outputs": [
    {
     "data": {
      "image/png": "[encoded data removed]",
      "text/plain": [
       "<Figure size 720x288 with 1 Axes>"
      ]
     },
     "metadata": {},
     "output_type": "display_data"
    }
   ],
   "source": [
    "# Plot histogram of the data \n",
    "\n",
    "rcParams['figure.figsize'] = 10,4\n",
    "\n",
    "for f in range(len(features)):\n",
    "    plt.hist(Y_train_norm[:,:,f].reshape(-1,1), bins=50, label = features[f])\n",
    "    plt.legend()\n",
    "    plt.show()"
   ]
  },
  {
   "cell_type": "code",
   "execution_count": 85,
   "metadata": {},
   "outputs": [
    {
     "name": "stdout",
     "output_type": "stream",
     "text": [
      "X_train shape: torch.Size([40589, 100, 1])\n",
      "Y_train shape: torch.Size([40589, 1, 1])\n",
      "X_val shape: torch.Size([5169, 100, 1])\n",
      "Y_val shape: torch.Size([5169, 1, 1])\n",
      "X_val_lt shape: torch.Size([3179, 100, 1])\n",
      "Y_val_lt shape: torch.Size([3179, 200, 1])\n"
     ]
    }
   ],
   "source": [
    "# # Convert to Tensor \n",
    "# # do not store on GPU (yet)\n",
    "# X_train = torch.from_numpy(X_train_norm).to(torch.float64)\n",
    "# Y_train = torch.from_numpy(Y_train_norm).to(torch.float64)\n",
    "\n",
    "# # X_val = torch.from_numpy(X_val_norm).float()\n",
    "\n",
    "# # X_val_resized = np.expand_dims(Y_val_norm[:,0,:], axis=1)\n",
    "# # Y_val = torch.from_numpy(X_val_resized).float()\n",
    "\n",
    "# X_val = torch.from_numpy(X_val_norm).to(torch.float64)\n",
    "# Y_val = torch.from_numpy(Y_val_norm).to(torch.float64)\n",
    "\n",
    "\n",
    "# X_val_lt = torch.from_numpy(X_val_lt_norm).to(torch.float64)\n",
    "# Y_val_lt = torch.from_numpy(Y_val_lt_norm).to(torch.float64)\n",
    "\n",
    "\n",
    "# print(f'X_train shape: {X_train.shape}')\n",
    "# print(f'Y_train shape: {Y_train.shape}')\n",
    "\n",
    "# print(f'X_val shape: {X_val.shape}')\n",
    "# print(f'Y_val shape: {Y_val.shape}')\n",
    "\n",
    "# print(f'X_val_lt shape: {X_val_lt.shape}') #long term predictions\n",
    "# print(f'Y_val_lt shape: {Y_val_lt.shape}') #long term predictions\n",
    "\n",
    "\n"
   ]
  },
  {
   "cell_type": "code",
   "execution_count": 328,
   "metadata": {},
   "outputs": [
    {
     "name": "stdout",
     "output_type": "stream",
     "text": [
      "X_train shape: torch.Size([40589, 100, 1])\n",
      "Y_train shape: torch.Size([40589, 1, 1])\n",
      "X_val shape: torch.Size([5169, 100, 1])\n",
      "Y_val shape: torch.Size([5169, 1, 1])\n",
      "X_val_lt shape: torch.Size([3179, 100, 1])\n",
      "Y_val_lt shape: torch.Size([3179, 200, 1])\n"
     ]
    }
   ],
   "source": [
    "# Convert to Tensor \n",
    "# do not store on GPU (yet)\n",
    "X_train = torch.from_numpy(X_train_norm).float()\n",
    "Y_train = torch.from_numpy(Y_train_norm).float()\n",
    "\n",
    "# X_val = torch.from_numpy(X_val_norm).float()\n",
    "\n",
    "# X_val_resized = np.expand_dims(Y_val_norm[:,0,:], axis=1)\n",
    "# Y_val = torch.from_numpy(X_val_resized).float()\n",
    "\n",
    "X_val = torch.from_numpy(X_val_norm).float()\n",
    "Y_val = torch.from_numpy(Y_val_norm).float()\n",
    "\n",
    "\n",
    "X_val_lt = torch.from_numpy(X_val_lt_norm).float()\n",
    "Y_val_lt = torch.from_numpy(Y_val_lt_norm).float()\n",
    "\n",
    "\n",
    "print(f'X_train shape: {X_train.shape}')\n",
    "print(f'Y_train shape: {Y_train.shape}')\n",
    "\n",
    "print(f'X_val shape: {X_val.shape}')\n",
    "print(f'Y_val shape: {Y_val.shape}')\n",
    "\n",
    "print(f'X_val_lt shape: {X_val_lt.shape}') #long term predictions\n",
    "print(f'Y_val_lt shape: {Y_val_lt.shape}') #long term predictions\n",
    "\n",
    "\n"
   ]
  },
  {
   "cell_type": "code",
   "execution_count": 329,
   "metadata": {},
   "outputs": [],
   "source": [
    "# # Convert to Tensor & ROUND\n",
    "# # do not store on GPU (yet)\n",
    "# X_train = torch.from_numpy(np.round(X_train_norm,2)).float()\n",
    "# Y_train = torch.from_numpy(np.round(Y_train_norm)).float()\n",
    "\n",
    "# X_val = torch.from_numpy(np.round(X_val_norm)).float()\n",
    "# Y_val = torch.from_numpy(np.round(Y_val_norm)).float()\n",
    "\n",
    "# print(f'X_train shape: {X_train.shape}')\n",
    "# print(f'Y_train shape: {Y_train.shape}')\n",
    "\n",
    "# print(f'X_val shape: {X_val.shape}')\n",
    "# print(f'Y_val shape: {Y_val.shape}')\n",
    "\n",
    "\n",
    "# X_train[1,:,1]"
   ]
  },
  {
   "cell_type": "code",
   "execution_count": 330,
   "metadata": {},
   "outputs": [],
   "source": [
    "# #only use for predicting a single feautre\n",
    "# Y_train = Y_train[:,:,1].unsqueeze(-1)\n",
    "# Y_val = Y_val[:,:,1].unsqueeze(-1)\n",
    "\n",
    "# print(f'Y_train shape: {Y_train.shape}')\n",
    "\n",
    "# print(f'Y_val shape: {Y_val.shape}')"
   ]
  },
  {
   "cell_type": "code",
   "execution_count": 331,
   "metadata": {},
   "outputs": [],
   "source": [
    "# output_window=1\n",
    "# features = ['Knees Flexion-Extension Left']"
   ]
  },
  {
   "cell_type": "code",
   "execution_count": 332,
   "metadata": {},
   "outputs": [
    {
     "name": "stdout",
     "output_type": "stream",
     "text": [
      "Train Dataset length: 40589\n",
      "Val Dataset length: 5169\n",
      "Val_lt Dataset length: 3179\n"
     ]
    }
   ],
   "source": [
    "train_dataset = gaitDataset(X_train, Y_train)\n",
    "train_dataloader = DataLoader(train_dataset, batch_size=32, shuffle = True)\n",
    "# train_dataloader = DataLoader(train_dataset, batch_size=len(train_dataset), shuffle = False)\n",
    "\n",
    "val_dataset = gaitDataset(X_val, Y_val) #ADJUSTED\n",
    "val_dataloader = DataLoader(val_dataset, batch_size=32, shuffle=True)\n",
    "# val_dataloader = DataLoader(val_dataset, batch_size=len(val_dataset), shuffle=False)\n",
    "\n",
    "\n",
    "\n",
    "val_lt_dataset = gaitDataset(X_val_lt, Y_val_lt) #long term predictions\n",
    "val_lt_dataloader = DataLoader(val_lt_dataset, batch_size=len(val_lt_dataset), shuffle=False)\n",
    "\n",
    "\n",
    "print(f\"Train Dataset length: {len(train_dataset)}\")\n",
    "print(f\"Val Dataset length: {len(val_dataset)}\")\n",
    "print(f\"Val_lt Dataset length: {len(val_lt_dataset)}\")\n"
   ]
  },
  {
   "cell_type": "code",
   "execution_count": 333,
   "metadata": {},
   "outputs": [
    {
     "data": {
      "text/plain": [
       "40589"
      ]
     },
     "execution_count": 333,
     "metadata": {},
     "output_type": "execute_result"
    }
   ],
   "source": [
    "len(train_dataset)"
   ]
  },
  {
   "cell_type": "markdown",
   "metadata": {},
   "source": [
    "#### Import Scalars for healthy and CP gait "
   ]
  },
  {
   "cell_type": "code",
   "execution_count": 334,
   "metadata": {},
   "outputs": [
    {
     "data": {
      "text/plain": [
       "array([[-30.96504974],\n",
       "       [ 63.01054001]])"
      ]
     },
     "execution_count": 334,
     "metadata": {},
     "output_type": "execute_result"
    }
   ],
   "source": [
    "scalars"
   ]
  },
  {
   "cell_type": "code",
   "execution_count": 335,
   "metadata": {},
   "outputs": [],
   "source": [
    "# #Export scalars for healthy gait \n",
    "# import pickle\n",
    "\n",
    "# fname = r'D:\\Study 2 Data\\Healthy Gait' + '\\\\' + 'healthy_scalars.pickle'\n",
    "\n",
    "# # healthy_scalars = scalars.copy()\n",
    "\n",
    "# #export scalars as pickle file \n",
    "# # with open(fname, 'wb') as handle:\n",
    "# #     pickle.dump(healthy_scalars, handle, protocol=pickle.HIGHEST_PROTOCOL)\n",
    "\n",
    "# # Import pickle file\n",
    "# with open(fname, 'rb') as handle:\n",
    "#     healthy_scalars = pickle.load(handle)\n"
   ]
  },
  {
   "cell_type": "code",
   "execution_count": 336,
   "metadata": {},
   "outputs": [],
   "source": [
    "# #Export scalars for CP gait \n",
    "# import pickle\n",
    "\n",
    "# fname = r'D:\\Study 2 Data\\CP Gait' + '\\\\' + 'cp_scalars.pickle'\n",
    "\n",
    "# # cp_scalars = scalars.copy()\n",
    "\n",
    "# # #export scalars as pickle file \n",
    "# # with open(fname, 'wb') as handle:\n",
    "# #     pickle.dump(cp_scalars, handle, protocol=pickle.HIGHEST_PROTOCOL)\n",
    "\n",
    "# # # Import pickle file\n",
    "# with open(fname, 'rb') as handle:\n",
    "#     cp_scalars = pickle.load(handle)\n"
   ]
  },
  {
   "cell_type": "markdown",
   "metadata": {},
   "source": [
    "## Hyperparameter Optimisation"
   ]
  },
  {
   "cell_type": "code",
   "execution_count": 189,
   "metadata": {},
   "outputs": [],
   "source": [
    "# # useful resources: https://www.youtube.com/watch?v=8A6TEjG2DNw (LSTM Time Series Prediction Tutorial using PyTorch in Python | Coronavirus Daily Cases Forecasting)\n",
    "# LSTM model \n",
    "class LSTM(nn.Module):\n",
    "    def __init__(self, input_size, in_seq_len, out_seq_len, output_size, params, device):\n",
    "        super(LSTM, self).__init__()\n",
    "        '''\n",
    "        nn.lstm: \n",
    "        input_size = number of features in input, if batch_first = TRUE (batchSize, seq_len, Hin) FEATURES\n",
    "        hidden_size = number of features in hidden state\n",
    "        num_layers\n",
    "        batch_first = if TRUE (batch, seq, Hin) Hin may mean input features\n",
    "        h_0 = (D * num_layers, batchSize, Hout)\n",
    "        c_0 = (D * num_layers, batchSize, Hcell)\n",
    "\n",
    "        output = (batchSize, seq_len, D * Hout) Hout may mean output features, if batch first = TRUE \n",
    "        h_0 = (D*num_layers, N, Hout) final state for each element in the batch \n",
    "        C_0 = (D*num_layers, N, Hcell) final cell state for each element \n",
    "\n",
    "        nn.linear:\n",
    "        input_size = (N,*, Hin) Hin = input_features (equal to hidden size therefore is arbitrarily set)\n",
    "        output_size = (N, *, Hout) Hout = output features (equal to output_size passed in to the model) \n",
    "\n",
    "        '''\n",
    "        # Pytorch documentation: \n",
    "        # >>> rnn = nn.LSTM(10, 20, 2) features, hidden_size, number of layers \n",
    "        # >>> input = torch.randn(5, 3, 10) in_seq_len, batch_size, hidden_size (batch size should not be input to the mode, inferred from the shape of the input and will be the first number if batch_first = TRUE)\n",
    "        # >>> h0 = torch.randn(2, 3, 20)\n",
    "        # >>> c0 = torch.randn(2, 3, 20)\n",
    "        # >>> output, (hn, cn) = rnn(input, (h0, c0))\n",
    "\n",
    "        self.input_size = input_size\n",
    "        self.hidden_size = params['hidden_size']\n",
    "        self.num_layers = params['num_layers']\n",
    "        self.in_seq_len = in_seq_len\n",
    "        self.output_size = output_size\n",
    "        self.out_seq_len = out_seq_len\n",
    "        self.device = device\n",
    "        \n",
    "        # nn.LSTM(features, hidden_size, number of layers)\n",
    "        self.lstm = nn.LSTM(input_size=self.input_size, hidden_size=self.hidden_size, num_layers=self.num_layers, batch_first = True)\n",
    "\n",
    "        #nn.fc1\n",
    "        self.fc1 = nn.Linear(in_features=self.hidden_size, out_features=(self.output_size * self.out_seq_len))\n",
    "        # self.fc1 = nn.Linear(in_features=self.hidden_size, out_features=(self.output_size * self.out_seq_len))\n",
    "\n",
    "\n",
    "    def forward(self, input_data):\n",
    "\n",
    "        # initialise hidden and cell states after passing through each batch (this is skipped in stateless model)\n",
    "        h_0 = torch.zeros(self.num_layers, input_data.shape[0], self.hidden_size).to(self.device) # input_data.shape[0] is equal to batch size\n",
    "        c_0 = torch.zeros(self.num_layers, input_data.shape[0], self.hidden_size).to(self.device)\n",
    "\n",
    "        #propagate through LSTM\n",
    "        lstm_out, (h_out, c_out) = self.lstm(input_data, (h_0, c_0))\n",
    "        # lsmt_out.shape = (batch_size,seq_length, hidden_size)\n",
    "        # print('lstm_out[-1][-1]')\n",
    "        # print(lstm_out[-1][-1])\n",
    "\n",
    "        # print('h_out[-1][-1]')\n",
    "        # print(h_out[-1][-1])\n",
    "        # if lstm_out[-1][-1] == h_out[-1][-1]:\n",
    "        #     print(lstm_out[-1][-1])\n",
    "            \n",
    "        # print(f'lsmt_out: {lstm_out.shape}')\n",
    "        # print(f'h_out: {h_out.shape}')\n",
    "        # print(f'h_out: {h_out.shape}')\n",
    "\n",
    "        # propagate through linear layer \n",
    "        fc1_out = self.fc1(h_out[-1])\n",
    "        # fc1_out = self.fc1(lstm_out)\n",
    "        # print(f'preds.shape (before reshaping): {fc1_out.shape}')\n",
    "        \n",
    "        preds = fc1_out.reshape(input_data.shape[0], self.out_seq_len, self.output_size)\n",
    "        # print(f'preds.shape (after reshaping): {preds.shape}')\n",
    "        \n",
    "        return preds"
   ]
  },
  {
   "cell_type": "code",
   "execution_count": 337,
   "metadata": {},
   "outputs": [],
   "source": [
    "global trial_number\n",
    "trial_number = 0\n",
    "trial_descrbn = 'LSTM CP'"
   ]
  },
  {
   "cell_type": "code",
   "execution_count": 338,
   "metadata": {},
   "outputs": [],
   "source": [
    "def train_LSTM(model, train_dataloader, val_dataloader, num_epochs, params, device):\n",
    "    global trial_number\n",
    "    \n",
    "    MODEL_PATH= r'D:\\Study 2 Results and Models\\Study 2 Optimisation\\2022-07-10 Optimisation LSTM CP 2 (out 1)' + '\\\\'  + str(trial_descrbn) + '-' + str(date.today()) + '-' + 'trial' + str(trial_number) + '.pt'\n",
    "    loss_function = nn.MSELoss(reduction='mean')\n",
    "    optimiser = torch.optim.Adam(model.parameters(), lr = params['learning_rate'])\n",
    "\n",
    "    # train_loss, val_loss = np.zeros(num_epochs), np.zeros(num_epochs)\n",
    "    # num_epochs=params['num_epochs']\n",
    "    train_loss = np.zeros(num_epochs)\n",
    "    val_loss = np.zeros(num_epochs)\n",
    "    \n",
    "    min_val_loss = 1.\n",
    "    \n",
    "    for epoch in range(num_epochs):\n",
    "        # Loop over batch values \n",
    "        runningLoss_train = 0. \n",
    "\n",
    "        for idx, (batch_inputs, batch_targets) in enumerate(train_dataloader):\n",
    "            \n",
    "            # Save batch on GPU\n",
    "            batch_inputs, batch_targets = batch_inputs.to(device), batch_targets.to(device)\n",
    "\n",
    "            # Means we are training the model, so uses techniques such as dropout etc., otherwise model.train(model=False)\n",
    "            model.train() \n",
    "\n",
    "            #set gradients to zero\n",
    "            optimiser.zero_grad()\n",
    "            preds = model(batch_inputs)\n",
    "            # print(f'shape of training predictions: {preds.shape}')\n",
    "        \n",
    "            loss = loss_function(preds, batch_targets)\n",
    "            \n",
    "\n",
    "            loss.backward()\n",
    "            optimiser.step()\n",
    "            runningLoss_train += loss.item()\n",
    "\n",
    "        train_loss[epoch] = runningLoss_train / len(train_dataloader)\n",
    "\n",
    "        # print(f\"Epoch: [{epoch + 1}/{num_epochs}]\", f\"Training loss: {runningLoss_train/len(train_dataloader)}\")\n",
    "\n",
    "        # Evaluate on validation set\n",
    "\n",
    "        model.eval() # means we are evaluating the model, stops process such as dropout etc. \n",
    "        runningLoss_val = 0.\n",
    "\n",
    "        with torch.no_grad(): # makes sure gradient is not stored \n",
    "            for idx, (batch_inputs, batch_targets) in enumerate(val_dataloader):\n",
    "                \n",
    "                batch_inputs, batch_targets = batch_inputs.to(device), batch_targets.to(device)\n",
    "                optimiser.zero_grad() #WHY?\n",
    "                preds = model(batch_inputs)\n",
    "                # print(f'shape of validation predictions: {preds.shape}')\n",
    "\n",
    "                loss = loss_function(preds, batch_targets)\n",
    "                runningLoss_val += loss.item()\n",
    "\n",
    "        val_loss[epoch] = runningLoss_val/len(val_dataloader)\n",
    "\n",
    "        \n",
    "        if val_loss[epoch] < min_val_loss:\n",
    "\n",
    "            # print('YAY, new best value')\n",
    "            min_val_loss = val_loss[epoch]\n",
    "\n",
    "            torch.save({\n",
    "                        'epoch': epoch,\n",
    "                        'model_state_dict': model.state_dict(),\n",
    "                        'optimiser_state_dict': optimiser.state_dict(),\n",
    "                        'loss': val_loss[epoch],\n",
    "                        }, MODEL_PATH)\n",
    "                        \n",
    "\n",
    "        # print(f\"Epoch: [{epoch + 1}/{num_epochs}]\", f\"Validation loss: {runningLoss_val/len(val_dataloader)}\")\n",
    "\n",
    "    # global trial_number\n",
    "    trial_number+=1 #change file path value \n",
    "\n",
    "    return min_val_loss"
   ]
  },
  {
   "cell_type": "code",
   "execution_count": 339,
   "metadata": {},
   "outputs": [],
   "source": [
    "input_size=len(features)\n",
    "in_seq_len=input_window\n",
    "out_seq_len=output_window\n",
    "output_size=len(features)\n",
    "num_epochs = 200"
   ]
  },
  {
   "cell_type": "code",
   "execution_count": 340,
   "metadata": {},
   "outputs": [],
   "source": [
    "def objective_LSTM(trial):\n",
    "\n",
    "    params = {\n",
    "            'learning_rate': trial.suggest_categorical('learning_rate', [0.1, 0.01, 0.001, 0.0001, 0.00001]),\n",
    "            'num_layers': trial.suggest_categorical('num_layers', [1,2,3,4]),\n",
    "            'hidden_size': trial.suggest_categorical('hidden_size', [16, 32, 64, 100, 128, 256])}\n",
    "        \n",
    "    #https://stackoverflow.com/questions/58820574/how-to-sample-parameters-without-duplicates-in-optuna\n",
    "    # Check duplication and skip if it's detected.\n",
    "    for t in trial.study.trials:\n",
    "        # print(t)\n",
    "        if t.state != optuna.structs.TrialState.COMPLETE:\n",
    "            continue\n",
    "\n",
    "        if t.params == trial.params:\n",
    "            global trial_number\n",
    "            trial_number += 1\n",
    "            return t.value\n",
    "            \n",
    "        \n",
    "            \n",
    "\n",
    "    model = LSTM(input_size=input_size, in_seq_len=in_seq_len, out_seq_len=out_seq_len, output_size=output_size, params = params, device=DEVICE).to(DEVICE)\n",
    "    val_loss = train_LSTM(model, train_dataloader, val_dataloader, num_epochs, params, device=DEVICE)\n",
    "\n",
    "\n",
    "    return val_loss\n"
   ]
  },
  {
   "cell_type": "code",
   "execution_count": 341,
   "metadata": {},
   "outputs": [],
   "source": [
    "# import optuna\n",
    "\n",
    "# study = optuna.create_study(direction=\"minimize\", sampler=optuna.samplers.TPESampler())\n",
    "# study.optimize(objective_LSTM, n_trials=50)\n",
    "\n"
   ]
  },
  {
   "cell_type": "markdown",
   "metadata": {},
   "source": [
    "#### Load all models from file"
   ]
  },
  {
   "cell_type": "code",
   "execution_count": 342,
   "metadata": {},
   "outputs": [
    {
     "ename": "FileNotFoundError",
     "evalue": "[WinError 3] The system cannot find the path specified: 'D:\\\\Study 2 Results and Models\\\\Test-example'",
     "output_type": "error",
     "traceback": [
      "\u001b[1;31m---------------------------------------------------------------------------\u001b[0m",
      "\u001b[1;31mFileNotFoundError\u001b[0m                         Traceback (most recent call last)",
      "\u001b[1;32m~\\AppData\\Local\\Temp/ipykernel_8904/3211717992.py\u001b[0m in \u001b[0;36m<module>\u001b[1;34m\u001b[0m\n\u001b[0;32m      1\u001b[0m \u001b[0mfile_path\u001b[0m \u001b[1;33m=\u001b[0m \u001b[1;34mr'D:\\Study 2 Results and Models\\Test-example'\u001b[0m\u001b[1;33m\u001b[0m\u001b[1;33m\u001b[0m\u001b[0m\n\u001b[0;32m      2\u001b[0m \u001b[1;33m\u001b[0m\u001b[0m\n\u001b[1;32m----> 3\u001b[1;33m \u001b[0mmodel_file\u001b[0m \u001b[1;33m=\u001b[0m \u001b[0mos\u001b[0m\u001b[1;33m.\u001b[0m\u001b[0mlistdir\u001b[0m\u001b[1;33m(\u001b[0m\u001b[0mfile_path\u001b[0m\u001b[1;33m)\u001b[0m\u001b[1;33m\u001b[0m\u001b[1;33m\u001b[0m\u001b[0m\n\u001b[0m\u001b[0;32m      4\u001b[0m \u001b[1;33m\u001b[0m\u001b[0m\n\u001b[0;32m      5\u001b[0m \u001b[1;31m# Changes the working directory to get the data from their location\u001b[0m\u001b[1;33m\u001b[0m\u001b[1;33m\u001b[0m\u001b[0m\n",
      "\u001b[1;31mFileNotFoundError\u001b[0m: [WinError 3] The system cannot find the path specified: 'D:\\\\Study 2 Results and Models\\\\Test-example'"
     ]
    }
   ],
   "source": [
    "file_path = r'D:\\Study 2 Results and Models\\Test-example'\n",
    "\n",
    "model_file = os.listdir(file_path) \n",
    "\n",
    "# Changes the working directory to get the data from their location \n",
    "os.chdir(file_path)\n",
    "cwd = os.getcwd()\n",
    "\n",
    "print(f'Current working directory is: {cwd}')\n",
    "print(f\"There are {len(model_file)} files in the specified path.\")"
   ]
  },
  {
   "cell_type": "code",
   "execution_count": 343,
   "metadata": {},
   "outputs": [
    {
     "ename": "NameError",
     "evalue": "name 'model_file' is not defined",
     "output_type": "error",
     "traceback": [
      "\u001b[1;31m---------------------------------------------------------------------------\u001b[0m",
      "\u001b[1;31mNameError\u001b[0m                                 Traceback (most recent call last)",
      "\u001b[1;32m~\\AppData\\Local\\Temp/ipykernel_8904/3946434471.py\u001b[0m in \u001b[0;36m<module>\u001b[1;34m\u001b[0m\n\u001b[1;32m----> 1\u001b[1;33m \u001b[1;32mfor\u001b[0m \u001b[0mf\u001b[0m \u001b[1;32min\u001b[0m \u001b[0mmodel_file\u001b[0m\u001b[1;33m:\u001b[0m\u001b[1;33m\u001b[0m\u001b[1;33m\u001b[0m\u001b[0m\n\u001b[0m\u001b[0;32m      2\u001b[0m     \u001b[0mcheckpoint\u001b[0m \u001b[1;33m=\u001b[0m \u001b[0mtorch\u001b[0m\u001b[1;33m.\u001b[0m\u001b[0mload\u001b[0m\u001b[1;33m(\u001b[0m\u001b[0mf\u001b[0m\u001b[1;33m)\u001b[0m\u001b[1;33m\u001b[0m\u001b[1;33m\u001b[0m\u001b[0m\n\u001b[0;32m      3\u001b[0m     \u001b[0mbest_epoch\u001b[0m \u001b[1;33m=\u001b[0m \u001b[0mcheckpoint\u001b[0m\u001b[1;33m[\u001b[0m\u001b[1;34m'epoch'\u001b[0m\u001b[1;33m]\u001b[0m\u001b[1;33m\u001b[0m\u001b[1;33m\u001b[0m\u001b[0m\n\u001b[0;32m      4\u001b[0m     \u001b[0mbest_val_loss\u001b[0m \u001b[1;33m=\u001b[0m \u001b[0mcheckpoint\u001b[0m\u001b[1;33m[\u001b[0m\u001b[1;34m'loss'\u001b[0m\u001b[1;33m]\u001b[0m\u001b[1;33m\u001b[0m\u001b[1;33m\u001b[0m\u001b[0m\n\u001b[0;32m      5\u001b[0m \u001b[1;33m\u001b[0m\u001b[0m\n",
      "\u001b[1;31mNameError\u001b[0m: name 'model_file' is not defined"
     ]
    }
   ],
   "source": [
    "for f in model_file:\n",
    "    checkpoint = torch.load(f)\n",
    "    best_epoch = checkpoint['epoch']\n",
    "    best_val_loss = checkpoint['loss']\n",
    "\n",
    "    print(f'For file {f}: best_epoch: {best_epoch}, best_val_loss: {best_val_loss}')"
   ]
  },
  {
   "cell_type": "markdown",
   "metadata": {},
   "source": [
    "## Training Models"
   ]
  },
  {
   "cell_type": "markdown",
   "metadata": {},
   "source": [
    "#### Deep Learning Models"
   ]
  },
  {
   "cell_type": "code",
   "execution_count": 344,
   "metadata": {},
   "outputs": [],
   "source": [
    "# # EarlyStopping Code from: https://github.com/Bjarten/early-stopping-pytorch/blob/master/pytorchtools.py\n",
    "\n",
    "# class EarlyStopping:\n",
    "#     \"\"\"Early stops the training if validation loss doesn't improve after a given patience.\"\"\"\n",
    "#     def __init__(self, patience=7, verbose=False, delta=0, path='checkpoint.pt', trace_func=print):\n",
    "#         \"\"\"\n",
    "#         Args:\n",
    "#             patience (int): How long to wait after last time validation loss improved.\n",
    "#                             Default: 7\n",
    "#             verbose (bool): If True, prints a message for each validation loss improvement. \n",
    "#                             Default: False\n",
    "#             delta (float): Minimum change in the monitored quantity to qualify as an improvement.\n",
    "#                             Default: 0\n",
    "#             path (str): Path for the checkpoint to be saved to.\n",
    "#                             Default: 'checkpoint.pt'\n",
    "#             trace_func (function): trace print function.\n",
    "#                             Default: print            \n",
    "#         \"\"\"\n",
    "#         self.patience = patience\n",
    "#         self.verbose = verbose\n",
    "#         self.counter = 0\n",
    "#         self.best_score = None\n",
    "#         self.early_stop = False\n",
    "#         self.val_loss_min = np.Inf\n",
    "#         self.delta = delta\n",
    "#         self.path = path\n",
    "#         self.trace_func = trace_func\n",
    "        \n",
    "#     def __call__(self, val_loss, model):\n",
    "\n",
    "#         score = -val_loss\n",
    "\n",
    "#         if self.best_score is None:\n",
    "#             self.best_score = score\n",
    "#             self.save_checkpoint(val_loss, model)\n",
    "#         elif score < self.best_score + self.delta:\n",
    "#             self.counter += 1\n",
    "#             self.trace_func(f'EarlyStopping counter: {self.counter} out of {self.patience}')\n",
    "#             if self.counter >= self.patience:\n",
    "#                 self.early_stop = True\n",
    "#         else:\n",
    "#             self.best_score = score\n",
    "#             self.save_checkpoint(val_loss, model)\n",
    "#             self.counter = 0\n",
    "\n",
    "#     def save_checkpoint(self, val_loss, model):\n",
    "#         '''Saves model when validation loss decrease.'''\n",
    "#         if self.verbose:\n",
    "#             self.trace_func(f'Validation loss decreased ({self.val_loss_min:.6f} --> {val_loss:.6f}).  Saving model ...')\n",
    "#         torch.save(model.state_dict(), self.path)\n",
    "#         self.val_loss_min = val_loss"
   ]
  },
  {
   "cell_type": "code",
   "execution_count": 351,
   "metadata": {},
   "outputs": [],
   "source": [
    "model = 'LSTM' \n",
    "exp_ID = '206' "
   ]
  },
  {
   "cell_type": "code",
   "execution_count": 352,
   "metadata": {},
   "outputs": [],
   "source": [
    "MODEL_PATH =   r'D:\\Study 2 Results and Models\\Study 2 Model Checkpoints' + '\\\\'  + 'Exp' + str(exp_ID) + '-' + str(date.today()) + '-' + model + '-In' + str(input_window) + '-Out' + str(output_window) + '.pt'"
   ]
  },
  {
   "cell_type": "code",
   "execution_count": 353,
   "metadata": {},
   "outputs": [
    {
     "data": {
      "text/plain": [
       "'D:\\\\Study 2 Results and Models\\\\Study 2 Model Checkpoints\\\\Exp206-2022-08-18-LSTM-In100-Out1.pt'"
      ]
     },
     "execution_count": 353,
     "metadata": {},
     "output_type": "execute_result"
    }
   ],
   "source": [
    "MODEL_PATH"
   ]
  },
  {
   "cell_type": "code",
   "execution_count": 354,
   "metadata": {},
   "outputs": [],
   "source": [
    "# # # useful resources: https://www.youtube.com/watch?v=8A6TEjG2DNw (LSTM Time Series Prediction Tutorial using PyTorch in Python | Coronavirus Daily Cases Forecasting)\n",
    "# # ORIGINAL\n",
    "# # LSTM model \n",
    "# class LSTM(nn.Module):\n",
    "#     def __init__(self, input_size, hidden_size, num_layers, in_seq_len, out_seq_len, output_size, device):\n",
    "#         super(LSTM, self).__init__()\n",
    "#         '''\n",
    "#         nn.lstm: \n",
    "#         input_size = number of features in input, if batch_first = TRUE (batchSize, seq_len, Hin) FEATURES\n",
    "#         hidden_size = number of features in hidden state\n",
    "#         num_layers\n",
    "#         batch_first = if TRUE (batch, seq, Hin) Hin may mean input features\n",
    "#         h_0 = (D * num_layers, batchSize, Hout)\n",
    "#         c_0 = (D * num_layers, batchSize, Hcell)\n",
    "\n",
    "#         output = (batchSize, seq_len, D * Hout) Hout may mean output features, if batch first = TRUE \n",
    "#         h_0 = (D*num_layers, N, Hout) final state for each element in the batch \n",
    "#         C_0 = (D*num_layers, N, Hcell) final cell state for each element \n",
    "\n",
    "#         nn.linear:\n",
    "#         input_size = (N,*, Hin) Hin = input_features (equal to hidden size therefore is arbitrarily set)\n",
    "#         output_size = (N, *, Hout) Hout = output features (equal to output_size passed in to the model) \n",
    "\n",
    "#         '''\n",
    "#         # Pytorch documentation: \n",
    "#         # >>> rnn = nn.LSTM(10, 20, 2) features, hidden_size, number of layers \n",
    "#         # >>> input = torch.randn(5, 3, 10) in_seq_len, batch_size, hidden_size (batch size should not be input to the mode, inferred from the shape of the input and will be the first number if batch_first = TRUE)\n",
    "#         # >>> h0 = torch.randn(2, 3, 20)\n",
    "#         # >>> c0 = torch.randn(2, 3, 20)\n",
    "#         # >>> output, (hn, cn) = rnn(input, (h0, c0))\n",
    "\n",
    "#         self.input_size = input_size\n",
    "#         self.hidden_size = hidden_size\n",
    "#         self.num_layers = num_layers\n",
    "#         self.in_seq_len = in_seq_len\n",
    "#         self.output_size = output_size\n",
    "#         self.out_seq_len = out_seq_len\n",
    "#         self.device = device\n",
    "        \n",
    "#         # nn.LSTM(features, hidden_size, number of layers)\n",
    "#         self.lstm = nn.LSTM(input_size=self.input_size, hidden_size=self.hidden_size, num_layers=self.num_layers, dropout=0.1, batch_first = True)\n",
    "\n",
    "\n",
    "#         #nn.fc1\n",
    "#         # self.fc1 = nn.Linear(in_features=self.hidden_size, out_features=80)\n",
    "#         self.fc1 = nn.Linear(in_features=21, out_features=(self.output_size * self.out_seq_len))\n",
    "\n",
    "\n",
    "#     def forward(self, input_data):\n",
    "#         # print(f'input_data.shape: {input_data.shape}')\n",
    "#         # initialise hidden and cell states after passing through each batch (this is skipped in stateless model)\n",
    "#         h_0 = torch.zeros(self.num_layers, input_data.shape[0], self.hidden_size).to(self.device) # input_data.shape[0] is equal to batch size\n",
    "#         c_0 = torch.zeros(self.num_layers, input_data.shape[0], self.hidden_size).to(self.device)\n",
    "\n",
    "#         #propagate through LSTM\n",
    "#         lstm_out, (h_out, c_out) = self.lstm(input_data, (h_0, c_0))\n",
    "\n",
    "#         # lsmt_out.shape = (batch_size,seq_length, hidden_size)\n",
    "#         # print('lstm_out[-1][-1]')\n",
    "#         # print(lstm_out[-1][-1])\n",
    "\n",
    "#         # print('h_out[-1][-1]')\n",
    "#         # print(h_out[-1][-1])\n",
    "#         # if lstm_out[-1][-1] == h_out[-1][-1]:\n",
    "#         #     print(lstm_out[-1][-1])\n",
    "            \n",
    "#         # print(f'lsmt_out: {lstm_out.shape}')\n",
    "#         # print(f'h_out: {h_out.shape}')\n",
    "#         # print(f'h_out[-1]: {h_out[-1].shape}')\n",
    "\n",
    "#         h_out = h_out.permute(1,0,2).reshape(input_data.shape[0], -1)\n",
    "#         # print(f'h_out a/f newlook: {h_out.shape}')\n",
    "#         # propagate through linear layer \n",
    "#         fc1_out = self.fc1(h_out)\n",
    "#         # print(f'fc1_out: {fc1_out.shape}')\n",
    "\n",
    "#         # fc2_out = self.fc2(fc1_out)\n",
    "#         # print(f'preds.shape (before reshaping): {fc1_out.shape}')\n",
    "        \n",
    "#         preds = fc1_out.reshape(input_data.shape[0], self.out_seq_len, self.output_size)\n",
    "#         # print(f'preds.shape (after reshaping): {preds.shape}')\n",
    "        \n",
    "#         return preds"
   ]
  },
  {
   "cell_type": "code",
   "execution_count": 355,
   "metadata": {},
   "outputs": [],
   "source": [
    "#source: https://github.com/QData/spacetimeformer/blob/20ab0b572b6f087964aad8d9f89a886b736bf432/spacetimeformer/time2vec.py \n",
    "import torch\n",
    "from torch import nn\n",
    "\n",
    "class Time2Vec(nn.Module):\n",
    "    def __init__(self, input_dim=len(features), embed_dim=512, act_function=torch.sin):\n",
    "        assert embed_dim % input_dim == 0\n",
    "        super(Time2Vec, self).__init__()\n",
    "        self.enabled = embed_dim > 0\n",
    "        if self.enabled:\n",
    "            self.embed_dim = embed_dim // input_dim\n",
    "            self.input_dim = input_dim\n",
    "            self.embed_weight = nn.parameter.Parameter(\n",
    "                torch.randn(self.input_dim, self.embed_dim)\n",
    "            )\n",
    "            self.embed_bias = nn.parameter.Parameter(\n",
    "                torch.randn(self.input_dim, self.embed_dim)\n",
    "            )\n",
    "            self.act_function = act_function\n",
    "\n",
    "    def forward(self, x):\n",
    "        if self.enabled:\n",
    "            x = torch.diag_embed(x)\n",
    "            # x.shape = (bs, sequence_length, input_dim, input_dim)\n",
    "            x_affine = torch.matmul(x, self.embed_weight) + self.embed_bias\n",
    "            # x_affine.shape = (bs, sequence_length, input_dim, time_embed_dim)\n",
    "            x_affine_0, x_affine_remain = torch.split(\n",
    "                x_affine, [1, self.embed_dim - 1], dim=-1\n",
    "            )\n",
    "            x_affine_remain = self.act_function(x_affine_remain)\n",
    "            x_output = torch.cat([x_affine_0, x_affine_remain], dim=-1)\n",
    "            x_output = x_output.view(x_output.size(0), x_output.size(1), -1)\n",
    "            # x_output.shape = (bs, sequence_length, input_dim * time_embed_dim)\n",
    "        else:\n",
    "            x_output = x\n",
    "        return x_output"
   ]
  },
  {
   "cell_type": "code",
   "execution_count": 356,
   "metadata": {},
   "outputs": [],
   "source": [
    "# LSTM model \n",
    "class LSTM(nn.Module):\n",
    "    def __init__(self, input_size, hidden_size, num_layers, in_seq_len, out_seq_len, output_size, device):\n",
    "        super(LSTM, self).__init__()\n",
    "        '''\n",
    "        nn.lstm: \n",
    "        input_size = number of features in input, if batch_first = TRUE (batchSize, seq_len, Hin) FEATURES\n",
    "        hidden_size = number of features in hidden state\n",
    "        num_layers\n",
    "        batch_first = if TRUE (batch, seq, Hin) Hin may mean input features\n",
    "        h_0 = (D * num_layers, batchSize, Hout)\n",
    "        c_0 = (D * num_layers, batchSize, Hcell)\n",
    "\n",
    "        output = (batchSize, seq_len, D * Hout) Hout may mean output features, if batch first = TRUE \n",
    "        h_0 = (D*num_layers, N, Hout) final state for each element in the batch \n",
    "        C_0 = (D*num_layers, N, Hcell) final cell state for each element \n",
    "\n",
    "        nn.linear:\n",
    "        input_size = (N,*, Hin) Hin = input_features (equal to hidden size therefore is arbitrarily set)\n",
    "        output_size = (N, *, Hout) Hout = output features (equal to output_size passed in to the model) \n",
    "\n",
    "        '''\n",
    "        # Pytorch documentation: \n",
    "        # >>> rnn = nn.LSTM(10, 20, 2) features, hidden_size, number of layers \n",
    "        # >>> input = torch.randn(5, 3, 10) in_seq_len, batch_size, hidden_size (batch size should not be input to the mode, inferred from the shape of the input and will be the first number if batch_first = TRUE)\n",
    "        # >>> h0 = torch.randn(2, 3, 20)\n",
    "        # >>> c0 = torch.randn(2, 3, 20)\n",
    "        # >>> output, (hn, cn) = rnn(input, (h0, c0))\n",
    "\n",
    "        self.input_size = input_size\n",
    "        self.hidden_size = hidden_size\n",
    "        self.num_layers = num_layers\n",
    "        self.in_seq_len = in_seq_len\n",
    "        self.output_size = output_size\n",
    "        self.out_seq_len = out_seq_len\n",
    "        self.device = device\n",
    "        \n",
    "        # nn.LSTM(features, hidden_size, number of layers)\n",
    "        self.lstm = nn.LSTM(input_size=self.input_size, hidden_size=self.hidden_size, num_layers=self.num_layers, batch_first = True)\n",
    "\n",
    "\n",
    "        #nn.fc1\n",
    "        # self.fc1 = nn.Linear(in_features=self.hidden_size, out_features=80)\n",
    "        self.fc1 = nn.Linear(in_features=200, out_features=(self.output_size * self.out_seq_len))\n",
    "\n",
    "\n",
    "    def forward(self, input_data):\n",
    "        # print(f'input_data.shape: {input_data.shape}')\n",
    "        # initialise hidden and cell states after passing through each batch (this is skipped in stateless model)\n",
    "        h_0 = torch.zeros(self.num_layers, input_data.shape[0], self.hidden_size).to(self.device) # input_data.shape[0] is equal to batch size\n",
    "        c_0 = torch.zeros(self.num_layers, input_data.shape[0], self.hidden_size).to(self.device)\n",
    "\n",
    "        #propagate through LSTM\n",
    "        lstm_out, (h_out, c_out) = self.lstm(input_data, (h_0, c_0))\n",
    "\n",
    "        # lsmt_out.shape = (batch_size,seq_length, hidden_size)\n",
    "        # print('lstm_out[-1][-1]')\n",
    "        # print(lstm_out[-1][-1])\n",
    "\n",
    "        # print('h_out[-1][-1]')\n",
    "        # print(h_out[-1][-1])\n",
    "        # if lstm_out[-1][-1] == h_out[-1][-1]:\n",
    "        #     print(lstm_out[-1][-1])\n",
    "            \n",
    "        # print(f'lsmt_out: {lstm_out.shape}')\n",
    "        # print(f'h_out: {h_out.shape}')\n",
    "        # print(f'h_out[-1]: {h_out[-1].shape}')\n",
    "\n",
    "        h_out = h_out.permute(1,0,2).reshape(input_data.shape[0], -1)\n",
    "        # print(f'h_out a/f newlook: {h_out.shape}')\n",
    "        # propagate through linear layer \n",
    "        # fc1_out = self.fc1(h_out[-1])\n",
    "        fc1_out = self.fc1(h_out)\n",
    "\n",
    "        # print(f'fc1_out: {fc1_out.shape}')\n",
    "\n",
    "        # fc2_out = self.fc2(fc1_out)\n",
    "        # print(f'preds.shape (before reshaping): {fc1_out.shape}')\n",
    "        \n",
    "        preds = fc1_out.reshape(input_data.shape[0], self.out_seq_len, self.output_size)\n",
    "        # print(f'preds.shape (after reshaping): {preds.shape}')\n",
    "        \n",
    "        return preds"
   ]
  },
  {
   "cell_type": "code",
   "execution_count": 458,
   "metadata": {},
   "outputs": [],
   "source": [
    "# # useful resources: https://www.youtube.com/watch?v=8A6TEjG2DNw (LSTM Time Series Prediction Tutorial using PyTorch in Python | Coronavirus Daily Cases Forecasting)\n",
    "# LSTM model with t2v\n",
    "class LSTM(nn.Module):\n",
    "    def __init__(self, input_size, hidden_size, num_layers, in_seq_len, out_seq_len, output_size, device):\n",
    "        super(LSTM, self).__init__()\n",
    "        '''\n",
    "        nn.lstm: \n",
    "        input_size = number of features in input, if batch_first = TRUE (batchSize, seq_len, Hin) FEATURES\n",
    "        hidden_size = number of features in hidden state\n",
    "        num_layers\n",
    "        batch_first = if TRUE (batch, seq, Hin) Hin may mean input features\n",
    "        h_0 = (D * num_layers, batchSize, Hout)\n",
    "        c_0 = (D * num_layers, batchSize, Hcell)\n",
    "\n",
    "        output = (batchSize, seq_len, D * Hout) Hout may mean output features, if batch first = TRUE \n",
    "        h_0 = (D*num_layers, N, Hout) final state for each element in the batch \n",
    "        C_0 = (D*num_layers, N, Hcell) final cell state for each element \n",
    "\n",
    "        nn.linear:\n",
    "        input_size = (N,*, Hin) Hin = input_features (equal to hidden size therefore is arbitrarily set)\n",
    "        output_size = (N, *, Hout) Hout = output features (equal to output_size passed in to the model) \n",
    "\n",
    "        '''\n",
    "        # Pytorch documentation: \n",
    "        # >>> rnn = nn.LSTM(10, 20, 2) features, hidden_size, number of layers \n",
    "        # >>> input = torch.randn(5, 3, 10) in_seq_len, batch_size, hidden_size (batch size should not be input to the mode, inferred from the shape of the input and will be the first number if batch_first = TRUE)\n",
    "        # >>> h0 = torch.randn(2, 3, 20)\n",
    "        # >>> c0 = torch.randn(2, 3, 20)\n",
    "        # >>> output, (hn, cn) = rnn(input, (h0, c0))\n",
    "\n",
    "        # self.embed_dim = 600\n",
    "        # self.t2v = Time2Vec(input_dim=len(features), embed_dim=self.embed_dim, act_function=torch.sin)\n",
    "        self.input_size = input_size\n",
    "        self.hidden_size = hidden_size\n",
    "        self.num_layers = num_layers\n",
    "        self.in_seq_len = in_seq_len\n",
    "        self.output_size = output_size\n",
    "        self.out_seq_len = out_seq_len\n",
    "        self.device = device\n",
    "\n",
    "        \n",
    "        # nn.LSTM(features, hidden_size, number of layers)\n",
    "        self.lstm = nn.LSTM(input_size=self.input_size, hidden_size=self.hidden_size, batch_first=True)\n",
    "\n",
    "\n",
    "        #nn.fc1\n",
    "        # self.fc1 = nn.Linear(in_features=self.hidden_size, out_features=80)\n",
    "        self.fc1 = nn.Linear(in_features=self.hidden_size, out_features=(self.output_size * self.out_seq_len))\n",
    "\n",
    "\n",
    "    def forward(self, input_data):\n",
    "        # print(f'input_data.shape: {input_data.shape}')\n",
    "        # initialise hidden and cell states after passing through each batch (this is skipped in stateless model)\n",
    "\n",
    "        # affine_data = self.t2v(input_data)\n",
    "\n",
    "        # print(f'affine_data.shape: {affine_data.shape}')\n",
    "\n",
    "\n",
    "        h_0 = torch.zeros(self.num_layers, input_data.shape[0], self.hidden_size).to(self.device)# input_data.shape[0] is equal to batch size\n",
    "        c_0 = torch.zeros(self.num_layers, input_data.shape[0], self.hidden_size).to(self.device)\n",
    "\n",
    "        # print(f'shape input: {input_data.shape}')\n",
    "        #propagate through LSTM\n",
    "        lstm_out,  (h_out, c_out) = self.lstm(input_data)\n",
    "\n",
    "        # print(f'lsmt_out shape: {lstm_out.shape}')\n",
    "\n",
    "        h_out = h_out.permute(1,0,2).reshape(input_data.shape[0], -1)\n",
    "\n",
    "        # print(f'h_out shape a/f reshape: {h_out.shape}')\n",
    "\n",
    "        # fc1_out = self.fc1(lstm_out[:,-1,:]) #works\n",
    "        fc1_out = self.fc1(h_out)\n",
    "\n",
    "        # print(f'fc1_out shape: {fc1_out.shape}')\n",
    "        \n",
    "        preds = fc1_out.reshape(input_data.shape[0], self.out_seq_len, self.output_size)\n",
    "\n",
    "        # print(f'preds shape: {preds.shape}')\n",
    "        \n",
    "        return preds"
   ]
  },
  {
   "cell_type": "code",
   "execution_count": 459,
   "metadata": {},
   "outputs": [],
   "source": [
    "class GRU(nn.Module):\n",
    "    def __init__(self, input_size, hidden_size, num_layers, in_seq_len, out_seq_len, output_size, device):\n",
    "        super(GRU, self).__init__()\n",
    "        '''\n",
    "        nn.lstm: \n",
    "        input_size = number of features in input, if batch_first = TRUE (batchSize, seq_len, Hin) FEATURES\n",
    "        hidden_size = number of features in hidden state\n",
    "        num_layers\n",
    "        batch_first = if TRUE (batch, seq, Hin) Hin may mean input features\n",
    "        h_0 = (D * num_layers, batchSize, Hout)\n",
    "        c_0 = (D * num_layers, batchSize, Hcell)\n",
    "\n",
    "        output = (batchSize, seq_len, D * Hout) Hout may mean output features, if batch first = TRUE \n",
    "        h_0 = (D*num_layers, N, Hout) final state for each element in the batch \n",
    "        C_0 = (D*num_layers, N, Hcell) final cell state for each element \n",
    "\n",
    "        nn.linear:\n",
    "        input_size = (N,*, Hin) Hin = input_features (equal to hidden size therefore is arbitrarily set)\n",
    "        output_size = (N, *, Hout) Hout = output features (equal to output_size passed in to the model) \n",
    "\n",
    "        '''\n",
    "        # Pytorch documentation: \n",
    "        # >>> rnn = nn.LSTM(10, 20, 2) features, hidden_size, number of layers \n",
    "        # >>> input = torch.randn(5, 3, 10) in_seq_len, batch_size, hidden_size (batch size should not be input to the mode, inferred from the shape of the input and will be the first number if batch_first = TRUE)\n",
    "        # >>> h0 = torch.randn(2, 3, 20)\n",
    "        # >>> c0 = torch.randn(2, 3, 20)\n",
    "        # >>> output, (hn, cn) = rnn(input, (h0, c0))\n",
    "\n",
    "        self.input_size = input_size\n",
    "        self.hidden_size = hidden_size\n",
    "        self.num_layers = num_layers\n",
    "        self.in_seq_len = in_seq_len\n",
    "        self.output_size = output_size\n",
    "        self.out_seq_len = out_seq_len\n",
    "        self.device = device\n",
    "        \n",
    "        # nn.LSTM(features, hidden_size, number of layers)\n",
    "        # self.lstm = nn.LSTM(input_size=self.input_size, hidden_size=self.hidden_size, num_layers=self.num_layers, dropout=0.1, batch_first = True)\n",
    "        self.GRU = nn.GRU(input_size=self.input_size, hidden_size=self.hidden_size, num_layers=self.num_layers, batch_first = True, dropout=0.1)\n",
    "\n",
    "\n",
    "        #nn.fc1\n",
    "        # self.fc1 = nn.Linear(in_features=self.hidden_size, out_features=80)\n",
    "        self.fc1 = nn.Linear(in_features=7, out_features = 120)\n",
    "        self.fc2 = nn.Linear(in_features=120, out_features=(self.output_size * self.out_seq_len))\n",
    "\n",
    "\n",
    "    def forward(self, input_data):\n",
    "        # print(f'input_data.shape: {input_data.shape}')\n",
    "        # initialise hidden and cell states after passing through each batch (this is skipped in stateless model)\n",
    "        h_0 = torch.zeros(self.num_layers, input_data.shape[0], self.hidden_size).to(self.device) # input_data.shape[0] is equal to batch size\n",
    "\n",
    "        lstm_out, h_out = self.GRU(input_data, h_0)\n",
    "\n",
    "        # lsmt_out.shape = (batch_size,seq_length, hidden_size)\n",
    "        # print('lstm_out[-1][-1]')\n",
    "        # print(lstm_out[-1][-1])\n",
    "\n",
    "        # print('h_out[-1][-1]')\n",
    "        # print(h_out[-1][-1])\n",
    "        # if lstm_out[-1][-1] == h_out[-1][-1]:\n",
    "        #     print(lstm_out[-1][-1])\n",
    "            \n",
    "        # print(f'lsmt_out: {lstm_out.shape}')\n",
    "        # print(f'h_out: {h_out.shape}')\n",
    "        # print(f'h_out[-1]: {h_out[-1].shape}')\n",
    "\n",
    "        # h_out = h_out.permute(1,0,2).reshape(input_data.shape[0], -1)\n",
    "        # print(f'h_out a/f newlook: {h_out.shape}')\n",
    "        # propagate through linear layer \n",
    "        fc1_out = self.fc1(h_out[-1])\n",
    "        # print(f'fc1_out: {fc1_out.shape}')\n",
    "\n",
    "        # fc2_out = self.fc2(fc1_out)\n",
    "        # print(f'preds.shape (before reshaping): {fc1_out.shape}')\n",
    "        fc2_out = self.fc2(fc1_out)\n",
    "        preds = fc2_out.reshape(input_data.shape[0], self.out_seq_len, self.output_size)\n",
    "        # print(f'preds.shape (after reshaping): {preds.shape}')\n",
    "        \n",
    "        return preds"
   ]
  },
  {
   "cell_type": "code",
   "execution_count": 460,
   "metadata": {},
   "outputs": [],
   "source": [
    "# #code from https://github.com/ojus1/Time2Vec-PyTorch/blob/master/periodic_activations.py\n",
    "\n",
    "# def t2v(tau, f, out_features, w, b, w0, b0, arg=None):\n",
    "#     if arg:\n",
    "#         v1 = f(torch.matmul(tau, w) + b, arg)\n",
    "#     else:\n",
    "#         #print(w.shape, t1.shape, b.shape)\n",
    "#         v1 = f(torch.matmul(tau, w) + b)\n",
    "#     v2 = torch.matmul(tau, w0) + b0\n",
    "#     #print(v1.shape)\n",
    "#     return torch.cat([v1, v2], 1)\n",
    "\n",
    "# class SineActivation(nn.Module):\n",
    "#     def __init__(self, in_features, out_features):\n",
    "#         super(SineActivation, self).__init__()\n",
    "#         self.out_features = out_features\n",
    "#         self.w0 = nn.parameter.Parameter(torch.randn(in_features, 1))\n",
    "#         self.b0 = nn.parameter.Parameter(torch.randn(1))\n",
    "#         self.w = nn.parameter.Parameter(torch.randn(in_features, out_features-1))\n",
    "#         self.b = nn.parameter.Parameter(torch.randn(out_features-1))\n",
    "#         self.f = torch.sin\n",
    "\n",
    "#     def forward(self, tau):\n",
    "#         return t2v(tau, self.f, self.out_features, self.w, self.b, self.w0, self.b0)\n",
    "\n",
    "# class CosineActivation(nn.Module):\n",
    "#     def __init__(self, in_features, out_features):\n",
    "#         super(CosineActivation, self).__init__()\n",
    "#         self.out_features = out_features\n",
    "#         self.w0 = nn.parameter.Parameter(torch.randn(in_features, 1))\n",
    "#         self.b0 = nn.parameter.Parameter(torch.randn(1))\n",
    "#         self.w = nn.parameter.Parameter(torch.randn(in_features, out_features-1))\n",
    "#         self.b = nn.parameter.Parameter(torch.randn(out_features-1))\n",
    "#         self.f = torch.cos\n",
    "\n",
    "#     def forward(self, tau):\n",
    "#         return t2v(tau, self.f, self.out_features, self.w, self.b, self.w0, self.b0)"
   ]
  },
  {
   "cell_type": "code",
   "execution_count": 461,
   "metadata": {},
   "outputs": [],
   "source": [
    "# # # useful resources: https://www.youtube.com/watch?v=8A6TEjG2DNw (LSTM Time Series Prediction Tutorial using PyTorch in Python | Coronavirus Daily Cases Forecasting)\n",
    "# # LSTM model \n",
    "# class Attention_LSTM(nn.Module):\n",
    "#     def __init__(self, input_size, hidden_size, num_layers, in_seq_len, out_seq_len, output_size, device):\n",
    "#         super(Attention_LSTM, self).__init__()\n",
    "#         '''\n",
    "#         nn.lstm: \n",
    "#         input_size = number of features in input, if batch_first = TRUE (batchSize, seq_len, Hin) FEATURES\n",
    "#         hidden_size = number of features in hidden state\n",
    "#         num_layers\n",
    "#         batch_first = if TRUE (batch, seq, Hin) Hin may mean input features\n",
    "#         h_0 = (D * num_layers, batchSize, Hout)\n",
    "#         c_0 = (D * num_layers, batchSize, Hcell)\n",
    "\n",
    "#         output = (batchSize, seq_len, D * Hout) Hout may mean output features, if batch first = TRUE \n",
    "#         h_0 = (D*num_layers, N, Hout) final state for each element in the batch \n",
    "#         C_0 = (D*num_layers, N, Hcell) final cell state for each element \n",
    "\n",
    "#         nn.linear:\n",
    "#         input_size = (N,*, Hin) Hin = input_features (equal to hidden size therefore is arbitrarily set)\n",
    "#         output_size = (N, *, Hout) Hout = output features (equal to output_size passed in to the model) \n",
    "\n",
    "#         '''\n",
    "#         # Pytorch documentation: \n",
    "#         # >>> rnn = nn.LSTM(10, 20, 2) features, hidden_size, number of layers \n",
    "#         # >>> input = torch.randn(5, 3, 10) in_seq_len, batch_size, hidden_size (batch size should not be input to the mode, inferred from the shape of the input and will be the first number if batch_first = TRUE)\n",
    "#         # >>> h0 = torch.randn(2, 3, 20)\n",
    "#         # >>> c0 = torch.randn(2, 3, 20)\n",
    "#         # >>> output, (hn, cn) = rnn(input, (h0, c0))\n",
    "\n",
    "#         self.input_size = input_size\n",
    "#         self.hidden_size = hidden_size\n",
    "#         self.num_layers = num_layers\n",
    "#         self.in_seq_len = in_seq_len\n",
    "#         self.output_size = output_size\n",
    "#         self.out_seq_len = out_seq_len\n",
    "#         self.device = device\n",
    "        \n",
    "#         # nn.LSTM(features, hidden_size, number of layers)\n",
    "#         self.lstm = nn.LSTM(input_size=self.input_size, hidden_size=self.hidden_size, num_layers=self.num_layers, batch_first = True)\n",
    "\n",
    "#         #nn.fc1\n",
    "#         self.fc1 = nn.Linear(in_features=self.hidden_size, out_features=(self.output_size * self.out_seq_len))\n",
    "        \n",
    "#         # self.fc1 = nn.Linear(in_features=self.hidden_size, out_features=(self.output_size * self.out_seq_len))\n",
    "\n",
    "\n",
    "#     def forward(self, input_data):\n",
    "\n",
    "#         # initialise hidden and cell states after passing through each batch (this is skipped in stateless model)\n",
    "#         h_0 = torch.zeros(self.num_layers, input_data.shape[0], self.hidden_size).to(self.device) # input_data.shape[0] is equal to batch size\n",
    "\n",
    "#         c_0 = torch.zeros(self.num_layers, input_data.shape[0], self.hidden_size).to(self.device)\n",
    "\n",
    "#         #propagate through LSTM\n",
    "#         lstm_out, (h_out, c_out) = self.lstm(input_data, (h_0, c_0))\n",
    "#         # lsmt_out.shape = (batch_size,seq_length, hidden_size)\n",
    "#         # print('lstm_out[-1][-1]')\n",
    "#         # print(lstm_out[-1][-1])\n",
    "\n",
    "#         # print('h_out[-1][-1]')\n",
    "#         # print(h_out[-1][-1])\n",
    "#         # if lstm_out[-1][-1] == h_out[-1][-1]:\n",
    "#         #     print(lstm_out[-1][-1])\n",
    "            \n",
    "#         # print(f'lsmt_out: {lstm_out.shape}')\n",
    "#         # print(f'h_out: {h_out.shape}')\n",
    "#         # print(f'h_out[-1]: {h_out[-1].shape}')\n",
    "\n",
    "#         # propagate through linear layer \n",
    "#         fc1_out = self.fc1(h_out[-1])\n",
    "    \n",
    "#         # fc1_out = self.fc1(lstm_out)\n",
    "#         # print(f'preds.shape (before reshaping): {fc1_out.shape}')\n",
    "        \n",
    "#         preds = fc1_out.reshape(input_data.shape[0], self.out_seq_len, self.output_size)\n",
    "#         # print(f'preds.shape (after reshaping): {preds.shape}')\n",
    "        \n",
    "#         return preds"
   ]
  },
  {
   "cell_type": "code",
   "execution_count": 462,
   "metadata": {},
   "outputs": [],
   "source": [
    "# Training the LSTM model using a loss function and a optimiser\n",
    "#ORIGINAL\n",
    "def train_LSTM(model, train_dataloader, val_dataloader, val_lt_dataloader, num_epochs, learning_rate, device):\n",
    "    loss_function = nn.MSELoss()\n",
    "    optimiser = torch.optim.Adam(model.parameters(), lr = learning_rate)\n",
    "\n",
    "    # train_loss, val_loss = np.zeros(num_epochs), np.zeros(num_epochs)\n",
    "    train_loss = np.zeros(num_epochs)\n",
    "    val_loss = np.zeros(num_epochs)\n",
    "    lt_loss = np.zeros(num_epochs)\n",
    "\n",
    "    min_val_loss = 1.\n",
    "\n",
    "    for epoch in tqdm(range(num_epochs)):\n",
    "        # Loop over batch values \n",
    "        runningLoss_train = 0. \n",
    "\n",
    "        for idx, (batch_inputs, batch_targets) in enumerate(train_dataloader):\n",
    "            \n",
    "            # Save batch on GPU\n",
    "            batch_inputs, batch_targets = batch_inputs.to(device), batch_targets.to(device)\n",
    "\n",
    "            # Means we are training the model, so uses techniques such as dropout etc., otherwise model.train(model=False)\n",
    "            model.train() \n",
    "\n",
    "            #set gradients to zero\n",
    "            optimiser.zero_grad()\n",
    "            preds = model(batch_inputs)\n",
    "            # print(f'shape of training predictions: {preds.shape}')\n",
    "        \n",
    "            loss = loss_function(preds, batch_targets)\n",
    "            \n",
    "\n",
    "            loss.backward()\n",
    "            optimiser.step()\n",
    "            runningLoss_train += loss.item()\n",
    "\n",
    "        train_loss[epoch] = runningLoss_train / len(train_dataloader)\n",
    "\n",
    "        print(f\"Epoch: [{epoch + 1}/{num_epochs}]\", f\"Training loss: {runningLoss_train/len(train_dataloader)}\")\n",
    "\n",
    "        # Evaluate on validation set\n",
    "\n",
    "        model.eval() # means we are evaluating the model, stops process such as dropout etc. \n",
    "        runningLoss_val = 0.\n",
    "\n",
    "        with torch.no_grad(): # makes sure gradient is not stored \n",
    "            for idx, (batch_inputs, batch_targets) in enumerate(val_dataloader):\n",
    "                \n",
    "                batch_inputs, batch_targets = batch_inputs.to(device), batch_targets.to(device)\n",
    "                optimiser.zero_grad() #WHY?\n",
    "                preds = model(batch_inputs)\n",
    "                # print(f'shape of validation predictions: {preds.shape}')\n",
    "\n",
    "                loss = loss_function(preds, batch_targets)\n",
    "                runningLoss_val += loss.item()\n",
    "\n",
    "        val_loss[epoch] = runningLoss_val/len(val_dataloader)\n",
    "\n",
    "\n",
    "        print(f\"Epoch: [{epoch + 1}/{num_epochs}]\", f\"Validation loss: {runningLoss_val/len(val_dataloader)}\")\n",
    "\n",
    "\n",
    "        #Measure long term error \n",
    "        lt_loss_criterion = nn.L1Loss() #long term loss criterion (l1 loss measures MAE for 99 steps in the future)\n",
    "        future_window=200\n",
    "        runningLoss_val_lt = 0.\n",
    "\n",
    "        with torch.no_grad(): # makes sure gradient is not stored \n",
    "            for idx, (batch_inputs, batch_targets) in enumerate(val_lt_dataloader):\n",
    "\n",
    "                batch_inputs, batch_targets = batch_inputs.to(device), batch_targets.to(device)\n",
    "                \n",
    "                future_preds = torch.zeros((batch_inputs.shape[0], 200, len(features))).to(DEVICE) #would store the predicted outputs for 200 timesteps\n",
    "                \n",
    "                # loop to calculate all 200 preds in the future\n",
    "                for t in range(0,future_window):\n",
    "                    optimiser.zero_grad()\n",
    "                    preds = model(batch_inputs)\n",
    "                    # print(f'preds.shape: {preds.shape}')\n",
    "                    # print(f'future_preds[:,t,:].shape: {future_preds[:,t,:].shape}')\n",
    "                    future_preds[:,t,:] = preds.squeeze()\n",
    "                    new_batch_inputs = torch.cat((batch_inputs, preds),1)\n",
    "                    batch_inputs = new_batch_inputs[:,1:,:]\n",
    "                \n",
    "                #Evalute long term predictions\n",
    "                # print(f'future_preds[101:].shape: {future_preds[:,101:,:].shape}')\n",
    "                loss = lt_loss_criterion(future_preds[:,101:,:], batch_targets[:,101:,:])\n",
    "                runningLoss_val_lt += loss.item()\n",
    "\n",
    "        lt_loss[epoch] = runningLoss_val_lt/len(val_lt_dataloader)\n",
    "\n",
    "\n",
    "        print(f\"Epoch: [{epoch + 1}/{num_epochs}]\", f\"Long term Validation loss: {runningLoss_val_lt/len(val_lt_dataloader)}\")\n",
    "\n",
    "\n",
    "        # print(f'val loss: {val_loss[epoch]}')\n",
    "\n",
    "        # print(f'min val loss: {min_val_loss}')\n",
    "        # Save best model so far\n",
    "        if val_loss[epoch] < min_val_loss:\n",
    "\n",
    "            # print('YAY, new best value')\n",
    "            min_val_loss = val_loss[epoch]\n",
    "\n",
    "            torch.save({\n",
    "                        'epoch': epoch,\n",
    "                        'model_state_dict': model.state_dict(),\n",
    "                        'optimiser_state_dict': optimiser.state_dict(),\n",
    "                        'loss': val_loss[epoch],\n",
    "                        }, MODEL_PATH)\n",
    "                        \n",
    "\n",
    "    return train_loss, val_loss, lt_loss"
   ]
  },
  {
   "cell_type": "code",
   "execution_count": 463,
   "metadata": {},
   "outputs": [],
   "source": [
    "#Testing function \n",
    "def test_LSTM(model, dataloader, device):\n",
    "    loss_function = nn.MSELoss()\n",
    "    model.eval()\n",
    "    actual_output, pred_output = [], []\n",
    "    running_loss = 0. \n",
    "    \n",
    "    with torch.no_grad():\n",
    "        for idx, (batch_inputs, batch_targets) in tqdm(enumerate(dataloader)):\n",
    "\n",
    "            batch_inputs, batch_targets = batch_inputs.to(device), batch_targets.to(device)\n",
    "\n",
    "            # if idx==0:\n",
    "            #     batch_preds = model(batch_inputs)\n",
    "            #     # print(f'batch shape: {batch_preds.shape}')\n",
    "            #     loss = loss_function(batch_preds, batch_targets)\n",
    "            #     running_loss += loss.item()\n",
    "            #     current_preds = batch_preds\n",
    "            #     all_preds = batch_preds\n",
    "\n",
    "            # else:\n",
    "            #     batch_preds = model(batch_inputs)\n",
    "            #     print(f'batch shape: {batch_preds.shape}')\n",
    "            #     loss = loss_function(batch_preds, batch_targets)\n",
    "            #     running_loss += loss.item()\n",
    "            #     all_preds = torch.cat((current_preds, batch_preds), dim=0)\n",
    "            #     current_preds = batch_preds\n",
    "\n",
    "            batch_preds = model(batch_inputs)\n",
    "            loss = loss_function(batch_preds, batch_targets)\n",
    "            running_loss += loss.item()\n",
    "            actual_output.append(batch_targets)\n",
    "            pred_output.append(batch_preds)\n",
    "\n",
    "\n",
    "            #             lst = []\n",
    "            # print(f'{x.size()}')\n",
    "            # for i in range(10):\n",
    "            #     x += i  # say we do something with x at iteration i\n",
    "            #     lst.append(x)\n",
    "            # # lstt = torch.stack([x for _ in range(10)])\n",
    "            # lstt = torch.stack(lst)\n",
    "            # print(lstt.size())\n",
    "\n",
    "        total_loss = running_loss / len(dataloader)\n",
    "\n",
    "        actual_output_tensor = torch.vstack(actual_output)\n",
    "        pred_output_tensor = torch.vstack(pred_output)\n",
    "    \n",
    "    return pred_output_tensor, actual_output_tensor, total_loss"
   ]
  },
  {
   "cell_type": "code",
   "execution_count": 464,
   "metadata": {},
   "outputs": [
    {
     "data": {
      "application/vnd.jupyter.widget-view+json": {
       "model_id": "de60854c405449e6a0706b43d62c8ce9",
       "version_major": 2,
       "version_minor": 0
      },
      "text/plain": [
       "  0%|          | 0/5000 [00:00<?, ?it/s]"
      ]
     },
     "metadata": {},
     "output_type": "display_data"
    },
    {
     "name": "stdout",
     "output_type": "stream",
     "text": [
      "Epoch: [1/5000] Training loss: 0.011448001936626434 / Validation loss: 0.000583277494081779\n",
      "Epoch: [2/5000] Training loss: 7.826682989311214e-05 / Validation loss: 0.0002113794101733444\n",
      "Epoch: [3/5000] Training loss: 3.171421547741841e-05 / Validation loss: 0.00010697319844944609\n",
      "Epoch: [4/5000] Training loss: 1.4589894778199583e-05 / Validation loss: 3.8957091604701146e-05\n",
      "Epoch: [5/5000] Training loss: 6.116004573065785e-06 / Validation loss: 1.533174764113533e-05\n",
      "Epoch: [6/5000] Training loss: 3.3306958097228732e-06 / Validation loss: 1.5142061385384655e-05\n",
      "Epoch: [7/5000] Training loss: 2.62909902925077e-06 / Validation loss: 8.005640491903228e-06\n",
      "Epoch: [8/5000] Training loss: 2.476048658157321e-06 / Validation loss: 1.4845655349756585e-05\n",
      "Epoch: [9/5000] Training loss: 2.2711823987630393e-06 / Validation loss: 6.835679058008001e-06\n",
      "Epoch: [10/5000] Training loss: 1.845351721936633e-06 / Validation loss: 4.170991804517986e-06\n",
      "Epoch: [11/5000] Training loss: 1.2800913048349047e-06 / Validation loss: 3.5077178888149105e-06\n",
      "Epoch: [12/5000] Training loss: 1.0851894912078614e-06 / Validation loss: 3.0029772892984186e-06\n",
      "Epoch: [13/5000] Training loss: 9.235847865639929e-07 / Validation loss: 2.0909952016233017e-06\n",
      "Epoch: [14/5000] Training loss: 8.833499838530219e-07 / Validation loss: 2.375075648559024e-06\n",
      "Epoch: [15/5000] Training loss: 6.632787947109344e-07 / Validation loss: 2.4799551922260884e-06\n",
      "Epoch: [16/5000] Training loss: 7.284373101546517e-07 / Validation loss: 3.160294945111538e-06\n",
      "Epoch: [17/5000] Training loss: 6.312734392687718e-07 / Validation loss: 1.911550581845393e-06\n",
      "Epoch: [18/5000] Training loss: 5.303576244169771e-07 / Validation loss: 1.4358512962532171e-06\n",
      "Epoch: [19/5000] Training loss: 5.015272760360346e-07 / Validation loss: 2.1230679266532936e-06\n",
      "Epoch: [20/5000] Training loss: 4.437252349383867e-07 / Validation loss: 1.1996002172405317e-06\n",
      "Epoch: [21/5000] Training loss: 4.6397780200421004e-07 / Validation loss: 2.687749555560812e-06\n",
      "Epoch: [22/5000] Training loss: 3.874006031222477e-07 / Validation loss: 8.090386829609189e-07\n",
      "Epoch: [23/5000] Training loss: 4.1899986602210097e-07 / Validation loss: 9.748033122212201e-07\n",
      "Epoch: [24/5000] Training loss: 3.5390565069251785e-07 / Validation loss: 8.85771377759873e-07\n",
      "Epoch: [25/5000] Training loss: 3.460475763562907e-07 / Validation loss: 7.497804424186726e-07\n"
     ]
    },
    {
     "ename": "KeyboardInterrupt",
     "evalue": "",
     "output_type": "error",
     "traceback": [
      "\u001b[1;31m---------------------------------------------------------------------------\u001b[0m",
      "\u001b[1;31mKeyboardInterrupt\u001b[0m                         Traceback (most recent call last)",
      "\u001b[1;32m~\\AppData\\Local\\Temp/ipykernel_8904/3751151502.py\u001b[0m in \u001b[0;36m<module>\u001b[1;34m\u001b[0m\n\u001b[0;32m     12\u001b[0m \u001b[0mmodel_LSTM\u001b[0m \u001b[1;33m=\u001b[0m \u001b[0mLSTM\u001b[0m\u001b[1;33m(\u001b[0m\u001b[0minput_size\u001b[0m\u001b[1;33m=\u001b[0m\u001b[0minput_size\u001b[0m\u001b[1;33m,\u001b[0m \u001b[0mhidden_size\u001b[0m\u001b[1;33m=\u001b[0m\u001b[0mhidden_size\u001b[0m\u001b[1;33m,\u001b[0m \u001b[0mnum_layers\u001b[0m\u001b[1;33m=\u001b[0m\u001b[0mnum_layers\u001b[0m\u001b[1;33m,\u001b[0m \u001b[0min_seq_len\u001b[0m\u001b[1;33m=\u001b[0m\u001b[0min_seq_len\u001b[0m\u001b[1;33m,\u001b[0m \u001b[0mout_seq_len\u001b[0m\u001b[1;33m=\u001b[0m\u001b[0mout_seq_len\u001b[0m\u001b[1;33m,\u001b[0m \u001b[0moutput_size\u001b[0m\u001b[1;33m=\u001b[0m\u001b[0moutput_size\u001b[0m\u001b[1;33m,\u001b[0m \u001b[0mdevice\u001b[0m\u001b[1;33m=\u001b[0m\u001b[0mDEVICE\u001b[0m\u001b[1;33m)\u001b[0m\u001b[1;33m.\u001b[0m\u001b[0mto\u001b[0m\u001b[1;33m(\u001b[0m\u001b[0mDEVICE\u001b[0m\u001b[1;33m)\u001b[0m\u001b[1;33m\u001b[0m\u001b[1;33m\u001b[0m\u001b[0m\n\u001b[0;32m     13\u001b[0m \u001b[1;33m\u001b[0m\u001b[0m\n\u001b[1;32m---> 14\u001b[1;33m \u001b[0mtrain_history\u001b[0m\u001b[1;33m,\u001b[0m \u001b[0mval_history\u001b[0m\u001b[1;33m,\u001b[0m \u001b[0mlt_history\u001b[0m\u001b[1;33m,\u001b[0m \u001b[0mr_history\u001b[0m \u001b[1;33m=\u001b[0m \u001b[0mtrain_MLP\u001b[0m\u001b[1;33m(\u001b[0m\u001b[0mmodel_LSTM\u001b[0m\u001b[1;33m,\u001b[0m \u001b[0mtrain_dataloader\u001b[0m\u001b[1;33m=\u001b[0m\u001b[0mtrain_dataloader\u001b[0m\u001b[1;33m,\u001b[0m \u001b[0mval_dataloader\u001b[0m\u001b[1;33m=\u001b[0m\u001b[0mval_dataloader\u001b[0m\u001b[1;33m,\u001b[0m \u001b[0mval_lt_dataloader\u001b[0m\u001b[1;33m=\u001b[0m\u001b[0mval_lt_dataloader\u001b[0m\u001b[1;33m,\u001b[0m \u001b[0mnum_epochs\u001b[0m\u001b[1;33m=\u001b[0m\u001b[0mnum_epochs\u001b[0m\u001b[1;33m,\u001b[0m \u001b[0mlearning_rate\u001b[0m\u001b[1;33m=\u001b[0m\u001b[0mlearning_rate\u001b[0m\u001b[1;33m)\u001b[0m\u001b[1;33m\u001b[0m\u001b[1;33m\u001b[0m\u001b[0m\n\u001b[0m\u001b[0;32m     15\u001b[0m \u001b[1;31m# train_history, val_history, lt_history, r_history = train_MLP(model_LSTM, train_dataloader=train_dataloader, val_dataloader=val_dataloader, val_lt_dataloader=val_lt_dataloader, num_epochs=num_epochs, learning_rate=learning_rate)\u001b[0m\u001b[1;33m\u001b[0m\u001b[1;33m\u001b[0m\u001b[0m\n",
      "\u001b[1;32m~\\AppData\\Local\\Temp/ipykernel_8904/2212099947.py\u001b[0m in \u001b[0;36mtrain_MLP\u001b[1;34m(model, train_dataloader, val_dataloader, val_lt_dataloader, num_epochs, learning_rate)\u001b[0m\n\u001b[0;32m     29\u001b[0m             \u001b[1;31m#set gradients to zero\u001b[0m\u001b[1;33m\u001b[0m\u001b[1;33m\u001b[0m\u001b[0m\n\u001b[0;32m     30\u001b[0m             \u001b[0moptimiser\u001b[0m\u001b[1;33m.\u001b[0m\u001b[0mzero_grad\u001b[0m\u001b[1;33m(\u001b[0m\u001b[1;33m)\u001b[0m\u001b[1;33m\u001b[0m\u001b[1;33m\u001b[0m\u001b[0m\n\u001b[1;32m---> 31\u001b[1;33m             \u001b[0mpreds\u001b[0m \u001b[1;33m=\u001b[0m \u001b[0mmodel\u001b[0m\u001b[1;33m(\u001b[0m\u001b[0mbatch_inputs\u001b[0m\u001b[1;33m)\u001b[0m\u001b[1;33m\u001b[0m\u001b[1;33m\u001b[0m\u001b[0m\n\u001b[0m\u001b[0;32m     32\u001b[0m             \u001b[1;31m# print(f'shape of training predictions: {preds.shape}')\u001b[0m\u001b[1;33m\u001b[0m\u001b[1;33m\u001b[0m\u001b[0m\n\u001b[0;32m     33\u001b[0m \u001b[1;33m\u001b[0m\u001b[0m\n",
      "\u001b[1;32mc:\\Users\\Rania\\Anaconda3\\envs\\study2\\lib\\site-packages\\torch\\nn\\modules\\module.py\u001b[0m in \u001b[0;36m_call_impl\u001b[1;34m(self, *input, **kwargs)\u001b[0m\n\u001b[0;32m   1100\u001b[0m         if not (self._backward_hooks or self._forward_hooks or self._forward_pre_hooks or _global_backward_hooks\n\u001b[0;32m   1101\u001b[0m                 or _global_forward_hooks or _global_forward_pre_hooks):\n\u001b[1;32m-> 1102\u001b[1;33m             \u001b[1;32mreturn\u001b[0m \u001b[0mforward_call\u001b[0m\u001b[1;33m(\u001b[0m\u001b[1;33m*\u001b[0m\u001b[0minput\u001b[0m\u001b[1;33m,\u001b[0m \u001b[1;33m**\u001b[0m\u001b[0mkwargs\u001b[0m\u001b[1;33m)\u001b[0m\u001b[1;33m\u001b[0m\u001b[1;33m\u001b[0m\u001b[0m\n\u001b[0m\u001b[0;32m   1103\u001b[0m         \u001b[1;31m# Do not call functions when jit is used\u001b[0m\u001b[1;33m\u001b[0m\u001b[1;33m\u001b[0m\u001b[0m\n\u001b[0;32m   1104\u001b[0m         \u001b[0mfull_backward_hooks\u001b[0m\u001b[1;33m,\u001b[0m \u001b[0mnon_full_backward_hooks\u001b[0m \u001b[1;33m=\u001b[0m \u001b[1;33m[\u001b[0m\u001b[1;33m]\u001b[0m\u001b[1;33m,\u001b[0m \u001b[1;33m[\u001b[0m\u001b[1;33m]\u001b[0m\u001b[1;33m\u001b[0m\u001b[1;33m\u001b[0m\u001b[0m\n",
      "\u001b[1;32m~\\AppData\\Local\\Temp/ipykernel_8904/3738482146.py\u001b[0m in \u001b[0;36mforward\u001b[1;34m(self, input_data)\u001b[0m\n\u001b[0;32m     63\u001b[0m         \u001b[1;31m# print(f'shape input: {input_data.shape}')\u001b[0m\u001b[1;33m\u001b[0m\u001b[1;33m\u001b[0m\u001b[0m\n\u001b[0;32m     64\u001b[0m         \u001b[1;31m#propagate through LSTM\u001b[0m\u001b[1;33m\u001b[0m\u001b[1;33m\u001b[0m\u001b[0m\n\u001b[1;32m---> 65\u001b[1;33m         \u001b[0mlstm_out\u001b[0m\u001b[1;33m,\u001b[0m  \u001b[1;33m(\u001b[0m\u001b[0mh_out\u001b[0m\u001b[1;33m,\u001b[0m \u001b[0mc_out\u001b[0m\u001b[1;33m)\u001b[0m \u001b[1;33m=\u001b[0m \u001b[0mself\u001b[0m\u001b[1;33m.\u001b[0m\u001b[0mlstm\u001b[0m\u001b[1;33m(\u001b[0m\u001b[0minput_data\u001b[0m\u001b[1;33m)\u001b[0m\u001b[1;33m\u001b[0m\u001b[1;33m\u001b[0m\u001b[0m\n\u001b[0m\u001b[0;32m     66\u001b[0m \u001b[1;33m\u001b[0m\u001b[0m\n\u001b[0;32m     67\u001b[0m         \u001b[1;31m# print(f'lsmt_out shape: {lstm_out.shape}')\u001b[0m\u001b[1;33m\u001b[0m\u001b[1;33m\u001b[0m\u001b[0m\n",
      "\u001b[1;32mc:\\Users\\Rania\\Anaconda3\\envs\\study2\\lib\\site-packages\\torch\\nn\\modules\\module.py\u001b[0m in \u001b[0;36m_call_impl\u001b[1;34m(self, *input, **kwargs)\u001b[0m\n\u001b[0;32m   1100\u001b[0m         if not (self._backward_hooks or self._forward_hooks or self._forward_pre_hooks or _global_backward_hooks\n\u001b[0;32m   1101\u001b[0m                 or _global_forward_hooks or _global_forward_pre_hooks):\n\u001b[1;32m-> 1102\u001b[1;33m             \u001b[1;32mreturn\u001b[0m \u001b[0mforward_call\u001b[0m\u001b[1;33m(\u001b[0m\u001b[1;33m*\u001b[0m\u001b[0minput\u001b[0m\u001b[1;33m,\u001b[0m \u001b[1;33m**\u001b[0m\u001b[0mkwargs\u001b[0m\u001b[1;33m)\u001b[0m\u001b[1;33m\u001b[0m\u001b[1;33m\u001b[0m\u001b[0m\n\u001b[0m\u001b[0;32m   1103\u001b[0m         \u001b[1;31m# Do not call functions when jit is used\u001b[0m\u001b[1;33m\u001b[0m\u001b[1;33m\u001b[0m\u001b[0m\n\u001b[0;32m   1104\u001b[0m         \u001b[0mfull_backward_hooks\u001b[0m\u001b[1;33m,\u001b[0m \u001b[0mnon_full_backward_hooks\u001b[0m \u001b[1;33m=\u001b[0m \u001b[1;33m[\u001b[0m\u001b[1;33m]\u001b[0m\u001b[1;33m,\u001b[0m \u001b[1;33m[\u001b[0m\u001b[1;33m]\u001b[0m\u001b[1;33m\u001b[0m\u001b[1;33m\u001b[0m\u001b[0m\n",
      "\u001b[1;32mc:\\Users\\Rania\\Anaconda3\\envs\\study2\\lib\\site-packages\\torch\\nn\\modules\\rnn.py\u001b[0m in \u001b[0;36mforward\u001b[1;34m(self, input, hx)\u001b[0m\n\u001b[0;32m    689\u001b[0m         \u001b[0mself\u001b[0m\u001b[1;33m.\u001b[0m\u001b[0mcheck_forward_args\u001b[0m\u001b[1;33m(\u001b[0m\u001b[0minput\u001b[0m\u001b[1;33m,\u001b[0m \u001b[0mhx\u001b[0m\u001b[1;33m,\u001b[0m \u001b[0mbatch_sizes\u001b[0m\u001b[1;33m)\u001b[0m\u001b[1;33m\u001b[0m\u001b[1;33m\u001b[0m\u001b[0m\n\u001b[0;32m    690\u001b[0m         \u001b[1;32mif\u001b[0m \u001b[0mbatch_sizes\u001b[0m \u001b[1;32mis\u001b[0m \u001b[1;32mNone\u001b[0m\u001b[1;33m:\u001b[0m\u001b[1;33m\u001b[0m\u001b[1;33m\u001b[0m\u001b[0m\n\u001b[1;32m--> 691\u001b[1;33m             result = _VF.lstm(input, hx, self._flat_weights, self.bias, self.num_layers,\n\u001b[0m\u001b[0;32m    692\u001b[0m                               self.dropout, self.training, self.bidirectional, self.batch_first)\n\u001b[0;32m    693\u001b[0m         \u001b[1;32melse\u001b[0m\u001b[1;33m:\u001b[0m\u001b[1;33m\u001b[0m\u001b[1;33m\u001b[0m\u001b[0m\n",
      "\u001b[1;31mKeyboardInterrupt\u001b[0m: "
     ]
    }
   ],
   "source": [
    "# # # Train LSTM \n",
    "input_size=len(features)\n",
    "hidden_size=7\n",
    "num_layers=3\n",
    "in_seq_len=input_window\n",
    "out_seq_len=output_window\n",
    "output_size=len(features)\n",
    "num_epochs=5000\n",
    "learning_rate= 0.001\n",
    "\n",
    "\n",
    "model_LSTM = LSTM(input_size=input_size, hidden_size=hidden_size, num_layers=num_layers, in_seq_len=in_seq_len, out_seq_len=out_seq_len, output_size=output_size, device=DEVICE).to(DEVICE)\n",
    "\n",
    "train_history, val_history, lt_history, r_history = train_MLP(model_LSTM, train_dataloader=train_dataloader, val_dataloader=val_dataloader, val_lt_dataloader=val_lt_dataloader, num_epochs=num_epochs, learning_rate=learning_rate)\n",
    "# train_history, val_history, lt_history, r_history = train_MLP(model_LSTM, train_dataloader=train_dataloader, val_dataloader=val_dataloader, val_lt_dataloader=val_lt_dataloader, num_epochs=num_epochs, learning_rate=learning_rate)"
   ]
  },
  {
   "cell_type": "code",
   "execution_count": null,
   "metadata": {},
   "outputs": [],
   "source": [
    "# # # useful resources: https://www.youtube.com/watch?v=8A6TEjG2DNw (LSTM Time Series Prediction Tutorial using PyTorch in Python | Coronavirus Daily Cases Forecasting)\n",
    "# # LSTM model \n",
    "# class LSTM_bi(nn.Module):\n",
    "#     def __init__(self, input_size, hidden_size, num_layers, in_seq_len, out_seq_len, output_size, device):\n",
    "#         super(LSTM_bi, self).__init__()\n",
    "#         '''\n",
    "#         nn.lstm: \n",
    "#         input_size = number of features in input, if batch_first = TRUE (batchSize, seq_len, Hin) FEATURES\n",
    "#         hidden_size = number of features in hidden state\n",
    "#         num_layers\n",
    "#         batch_first = if TRUE (batch, seq, Hin) Hin may mean input features\n",
    "#         h_0 = (D * num_layers, batchSize, Hout)\n",
    "#         c_0 = (D * num_layers, batchSize, Hcell)\n",
    "\n",
    "#         output = (batchSize, seq_len, D * Hout) Hout may mean output features, if batch first = TRUE \n",
    "#         h_0 = (D*num_layers, N, Hout) final state for each element in the batch \n",
    "#         C_0 = (D*num_layers, N, Hcell) final cell state for each element \n",
    "\n",
    "#         nn.linear:\n",
    "#         input_size = (N,*, Hin) Hin = input_features (equal to hidden size therefore is arbitrarily set)\n",
    "#         output_size = (N, *, Hout) Hout = output features (equal to output_size passed in to the model) \n",
    "\n",
    "#         '''\n",
    "#         # Pytorch documentation: \n",
    "#         # >>> rnn = nn.LSTM(10, 20, 2) features, hidden_size, number of layers \n",
    "#         # >>> input = torch.randn(5, 3, 10) in_seq_len, batch_size, hidden_size (batch size should not be input to the mode, inferred from the shape of the input and will be the first number if batch_first = TRUE)\n",
    "#         # >>> h0 = torch.randn(2, 3, 20)\n",
    "#         # >>> c0 = torch.randn(2, 3, 20)\n",
    "#         # >>> output, (hn, cn) = rnn(input, (h0, c0))\n",
    "\n",
    "#         self.input_size = input_size\n",
    "#         self.hidden_size = hidden_size\n",
    "#         self.num_layers = num_layers\n",
    "#         self.in_seq_len = in_seq_len\n",
    "#         self.output_size = output_size\n",
    "#         self.out_seq_len = out_seq_len\n",
    "#         self.device = device\n",
    "        \n",
    "#         # nn.LSTM(features, hidden_size, number of layers)\n",
    "#         self.lstm = nn.LSTM(input_size=self.input_size, hidden_size=self.hidden_size, num_layers=self.num_layers, batch_first = True, bidirectional=True)\n",
    "\n",
    "#         #nn.fc1\n",
    "#         self.fc1 = nn.Linear(in_features=self.hidden_size*2, out_features=(self.output_size * self.out_seq_len))\n",
    "#         # self.fc1 = nn.Linear(in_features=self.hidden_size, out_features=(self.output_size * self.out_seq_len))\n",
    "\n",
    "\n",
    "#     def forward(self, input_data):\n",
    "\n",
    "#         # initialise hidden and cell states after passing through each batch (this is skipped in stateless model)\n",
    "#         h_0 = torch.zeros(self.num_layers*2, input_data.shape[0], self.hidden_size).to(self.device) # input_data.shape[0] is equal to batch size\n",
    "#         c_0 = torch.zeros(self.num_layers*2, input_data.shape[0], self.hidden_size).to(self.device)\n",
    "\n",
    "#         #propagate through LSTM\n",
    "#         lstm_out, (h_out, c_out) = self.lstm(input_data, (h_0, c_0))\n",
    "#         # lsmt_out.shape = (batch_size,seq_length, hidden_size)\n",
    "#         # print('lstm_out[-1][-1]')\n",
    "#         # print(lstm_out[-1][-1])\n",
    "\n",
    "#         # print('h_out[-1][-1]')\n",
    "#         # print(h_out[-1][-1])\n",
    "#         # if lstm_out[-1][-1] == h_out[-1][-1]:\n",
    "#         # #     print(lstm_out[-1][-1])\n",
    "#         # concat_lstm_out = torch.cat((h_out[0,:,:], h_out[-1,:,:]), dim = 1)\n",
    "#         # print(f'concat_lstm_out {concat_lstm_out.shape}')\n",
    "#         # print(f'lsmt_out: {lstm_out[:,-1,:].shape}')\n",
    "#         # print(f'h_out: {h_out[-1].shape}')\n",
    "#         # print(f'h_out: {h_out.shape}')\n",
    "\n",
    "#         # propagate through linear layer \n",
    "#         fc1_out = self.fc1(lstm_out[:,-1,:])\n",
    "#         # fc1_out = self.fc1(lstm_out)\n",
    "#         # print(f'preds.shape (before reshaping): {fc1_out.shape}')\n",
    "        \n",
    "#         preds = fc1_out.reshape(input_data.shape[0], self.out_seq_len, self.output_size)\n",
    "#         # print(f'preds.shape (after reshaping): {preds.shape}')\n",
    "        \n",
    "#         return preds"
   ]
  },
  {
   "cell_type": "code",
   "execution_count": 64,
   "metadata": {},
   "outputs": [],
   "source": [
    "class MLP(nn.Module):\n",
    "    def __init__(self, input_size, output_size, in_seq_len, out_seq_len, device):\n",
    "        super(MLP, self).__init__()\n",
    "        # self.flatten = nn.Flatten()\n",
    "        self.input_size = input_size\n",
    "        self.output_size = output_size\n",
    "        self.in_seq_len = in_seq_len\n",
    "        self.out_seq_len = out_seq_len\n",
    "        self.device = device \n",
    "        self.layers = 3\n",
    "        self.num_units = 200\n",
    "        \n",
    "\n",
    "        self.flatten = nn.Flatten(start_dim=1, end_dim=-1)\n",
    "\n",
    "        # self.MLP = nn.Sequential(\n",
    "        #     nn.Linear(in_features=self.input_size*self.in_seq_len , out_features=200),\n",
    "        #     nn.ReLU(),\n",
    "        #     nn.Linear(200, 200),\n",
    "        #     nn.ReLU(),\n",
    "        #     nn.Linear(200, 200),\n",
    "        #     nn.ReLU(),\n",
    "        #     nn.Linear(200, self.output_size*self.out_seq_len),\n",
    "        # )\n",
    "\n",
    "        linear_layers_lst = [] #linear layer list\n",
    " \n",
    "        for i in range(self.layers):\n",
    "            linear_layers_lst.append(nn.Linear(self.num_units, self.num_units))\n",
    "            linear_layers_lst.append(nn.ReLU())\n",
    "\n",
    "       \n",
    "        linear_layers = tuple((linear_layers_lst))\n",
    "\n",
    "        self.MLP = nn.Sequential(nn.Linear(in_features=self.input_size*self.in_seq_len, out_features=self.num_units), \n",
    "                                nn.ReLU(), \n",
    "                                *linear_layers, \n",
    "                                nn.Linear(self.num_units, self.output_size*self.out_seq_len))\n",
    "\n",
    "        self.tanh = nn.Tanh()\n",
    "\n",
    "    def forward(self, x):\n",
    "        # print(f'shape of x: {x.shape}')\n",
    "        out = self.flatten(x)\n",
    "        # x is in the shape [batch_size, in_seq_len, features], but should be reshaped to [batch_size, in_seq_len*features]\n",
    "        # print(f'shape of flatten: {out.shape}')\n",
    "        out = self.MLP(out)\n",
    "        # print(f'shape of MLP: {out.shape}')\n",
    "        out = self.tanh(out)\n",
    "        preds = out.reshape(x.shape[0],  self.out_seq_len,self.output_size)\n",
    "        return preds\n"
   ]
  },
  {
   "cell_type": "code",
   "execution_count": 65,
   "metadata": {},
   "outputs": [],
   "source": [
    "#MLP with t2v\n",
    "class MLP(nn.Module):\n",
    "    def __init__(self, input_size, output_size, in_seq_len, out_seq_len, device):\n",
    "        super(MLP, self).__init__()\n",
    "        # self.flatten = nn.Flatten()\n",
    "        self.input_size = input_size\n",
    "        self.output_size = output_size\n",
    "        self.in_seq_len = in_seq_len\n",
    "        self.out_seq_len = out_seq_len\n",
    "        self.device = device \n",
    "        self.layers = 3\n",
    "        self.num_units = 200\n",
    "        \n",
    "        self.t2v = Time2Vec(input_dim=6, embed_dim=600, act_function=torch.sin)\n",
    "\n",
    "        self.flatten = nn.Flatten(start_dim=1, end_dim=-1)\n",
    "\n",
    "        # self.MLP = nn.Sequential(\n",
    "        #     nn.Linear(in_features=self.input_size*self.in_seq_len , out_features=200),\n",
    "        #     nn.ReLU(),\n",
    "        #     nn.Linear(200, 200),\n",
    "        #     nn.ReLU(),\n",
    "        #     nn.Linear(200, 200),\n",
    "        #     nn.ReLU(),\n",
    "        #     nn.Linear(200, self.output_size*self.out_seq_len),\n",
    "        # )\n",
    "\n",
    "        linear_layers_lst = [] #linear layer list\n",
    " \n",
    "        for i in range(self.layers):\n",
    "            linear_layers_lst.append(nn.Linear(self.num_units, self.num_units))\n",
    "            linear_layers_lst.append(nn.ReLU())\n",
    "\n",
    "       \n",
    "        linear_layers = tuple((linear_layers_lst))\n",
    "\n",
    "        self.MLP = nn.Sequential(nn.Linear(in_features=6*self.in_seq_len, out_features=self.num_units), \n",
    "                                nn.ReLU(), \n",
    "                                *linear_layers, \n",
    "                                nn.Linear(self.num_units, self.output_size*self.out_seq_len))\n",
    "\n",
    "    def forward(self, x):\n",
    "        # print(f'shape of x: {x.shape}')\n",
    "        affine_x = self.t2v(x)\n",
    "        # print(f'shape of affine_x: {affine_x.shape}')\n",
    "\n",
    "        out = self.flatten(x)\n",
    "        # x is in the shape [batch_size, in_seq_len, features], but should be reshaped to [batch_size, in_seq_len*features]\n",
    "        # print(f'shape of flatten: {out.shape}')\n",
    "        out = self.MLP(out)\n",
    "        # print(f'shape of MLP: {out.shape}')\n",
    "        preds = out.reshape(x.shape[0],  self.out_seq_len,self.output_size)\n",
    "        return preds\n"
   ]
  },
  {
   "cell_type": "code",
   "execution_count": 293,
   "metadata": {},
   "outputs": [],
   "source": [
    "# Training the MLP model using a loss function and a optimiser\n",
    "from scipy.stats import pearsonr\n",
    "\n",
    "def train_MLP(model, train_dataloader, val_dataloader, val_lt_dataloader, num_epochs, learning_rate):\n",
    "    loss_function = nn.MSELoss(reduction='mean')\n",
    "    optimiser = torch.optim.Adam(model.parameters(), lr = learning_rate)\n",
    "\n",
    "    # train_loss, val_loss = np.zeros(num_epochs), np.zeros(num_epochs)\n",
    "    train_loss = np.zeros(num_epochs)\n",
    "    val_loss = np.zeros(num_epochs)\n",
    "    lt_loss = np.zeros(num_epochs)\n",
    "    r_val = np.zeros(num_epochs)\n",
    "\n",
    "\n",
    "    min_val_loss = 1.\n",
    "\n",
    "    for epoch in tqdm(range(num_epochs)):\n",
    "        # Loop over batch values \n",
    "        runningLoss_train = 0. \n",
    "\n",
    "        for idx, (batch_inputs, batch_targets) in enumerate(train_dataloader):\n",
    "            \n",
    "            # Save batch on GPU\n",
    "            batch_inputs, batch_targets = batch_inputs.to(DEVICE), batch_targets.to(DEVICE)\n",
    "\n",
    "            # Means we are training the model, so uses techniques such as dropout etc., otherwise model.train(model=False)\n",
    "            model.train() \n",
    "\n",
    "            #set gradients to zero\n",
    "            optimiser.zero_grad()\n",
    "            preds = model(batch_inputs)\n",
    "            # print(f'shape of training predictions: {preds.shape}')\n",
    "        \n",
    "            loss = loss_function(preds, batch_targets)\n",
    "            \n",
    "\n",
    "            loss.backward()\n",
    "            optimiser.step()\n",
    "            runningLoss_train += loss.item()\n",
    "\n",
    "        train_loss[epoch] = runningLoss_train / len(train_dataloader)\n",
    "\n",
    "        # print(f\"Epoch: [{epoch + 1}/{num_epochs}]\", f\"Training loss: {runningLoss_train/len(train_dataloader)}\")\n",
    "\n",
    "        # Evaluate on validation set\n",
    "\n",
    "        model.eval() # means we are evaluating the model, stops process such as dropout etc. \n",
    "        runningLoss_val = 0.\n",
    "\n",
    "        with torch.no_grad(): # makes sure gradient is not stored \n",
    "            for idx, (batch_inputs, batch_targets) in enumerate(val_dataloader):\n",
    "                \n",
    "                batch_inputs, batch_targets = batch_inputs.to(DEVICE), batch_targets.to(DEVICE)\n",
    "                optimiser.zero_grad() #WHY?\n",
    "                preds = model(batch_inputs)\n",
    "                # print(f'shape of validation predictions: {preds.shape}')\n",
    "\n",
    "                loss = loss_function(preds, batch_targets)\n",
    "                runningLoss_val += loss.item()\n",
    "\n",
    "        val_loss[epoch] = runningLoss_val/len(val_dataloader)\n",
    "\n",
    "        # print(f\"Epoch: [{epoch + 1}/{num_epochs}]\", f\"Validation loss: {runningLoss_val/len(val_dataloader)}\")\n",
    "\n",
    "        #Measure long term error \n",
    "        lt_loss_criterion = nn.MSELoss() #long term loss criterion (l1 loss measures MAE for 99 steps in the future)\n",
    "        future_window=200\n",
    "        runningLoss_val_lt = 0.\n",
    "        runningR_val_lt = 0.\n",
    "\n",
    "        # with torch.no_grad(): # makes sure gradient is not stored \n",
    "        #     for idx, (batch_inputs, batch_targets) in enumerate(val_lt_dataloader):\n",
    "\n",
    "        #         batch_inputs, batch_targets = batch_inputs.to(DEVICE), batch_targets.to(DEVICE)\n",
    "                \n",
    "        #         future_preds = torch.zeros((batch_inputs.shape[0], 200, len(features))).to(DEVICE) #would store the predicted outputs for 200 timesteps\n",
    "                \n",
    "        #         # loop to calculate all 200 preds in the future\n",
    "        #         for t in range(0,future_window):\n",
    "        #             optimiser.zero_grad()\n",
    "        #             preds = model(batch_inputs)\n",
    "        #             # print(f'preds.shape: {preds.shape}')\n",
    "        #             # print(f'preds.reshape(-1,1).shape: {preds.squeeze().shape}')\n",
    "        #             # print(f'future_preds[:,t,:].shape: {future_preds[:,t,:].shape}')\n",
    "        #             future_preds[:,t,:] = preds.reshape(-1,1)\n",
    "        #             new_batch_inputs = torch.cat((batch_inputs, preds),1)\n",
    "        #             batch_inputs = new_batch_inputs[:,1:,:]\n",
    "                \n",
    "        #         #Evalute long term predictions\n",
    "        #         # print(f'future_preds[101:].shape: {future_preds[:,101:,:].shape}')\n",
    "        #         loss = lt_loss_criterion(future_preds[:,101:,:], batch_targets[:,101:,:])\n",
    "        #         runningLoss_val_lt += loss.item()\n",
    "\n",
    "        #         # Spearman's correlation coefficient = covariance(rank(X), rank(Y)) / (stdv(rank(X)) * stdv(rank(Y)))\n",
    "        #         all_corr = np.zeros(len(features))\n",
    "\n",
    "        #         if output_window == 1:\n",
    "        #             runningR_val_lt = 0\n",
    "        #         else:\n",
    "        #             for f in range(len(features)):\n",
    "        #                 corr, _ = pearsonr(future_preds[:,101:,f].cpu().detach().numpy().reshape(-1,1).squeeze(), \n",
    "        #                                     batch_targets[:,101:,f].cpu().detach().numpy().reshape(-1,1).squeeze())\n",
    "        #                 all_corr[f] = corr\n",
    "                    \n",
    "        #             runningR_val_lt += all_corr.mean()\n",
    "\n",
    "        #         # print(all_corr)\n",
    "        # lt_loss[epoch] = runningLoss_val_lt/len(val_lt_dataloader)\n",
    "        # r_val[epoch] = runningR_val_lt / (len(val_lt_dataloader))\n",
    "\n",
    "\n",
    "        # print(f\"Epoch: [{epoch + 1}/{num_epochs}]\", f\"Long term Validation loss: {runningLoss_val_lt/len(val_lt_dataloader)}\")\n",
    "        # print(f\"Epoch: [{epoch + 1}/{num_epochs}]\", f\"R value: {runningR_val_lt/ len(val_lt_dataloader)}\")\n",
    "\n",
    "        if val_loss[epoch] < min_val_loss:\n",
    "\n",
    "            # print('YAY, new best value')\n",
    "            min_val_loss = val_loss[epoch]\n",
    "\n",
    "            torch.save({\n",
    "                        'epoch': epoch,\n",
    "                        'model_state_dict': model.state_dict(),\n",
    "                        'optimiser_state_dict': optimiser.state_dict(),\n",
    "                        'loss': val_loss[epoch],\n",
    "                        }, MODEL_PATH)\n",
    "        \n",
    "        print(f\"Epoch: [{epoch + 1}/{num_epochs}]\", \n",
    "                        f\"Training loss: {runningLoss_train/len(train_dataloader)}\",\n",
    "                        f\"/ Validation loss: {runningLoss_val/len(val_dataloader)}\",\n",
    "                        # f\"/ Long term Validation loss: {runningLoss_val_lt/len(val_lt_dataloader):.4f}\",\n",
    "                        # f\"/ R value: {runningR_val_lt/ len(val_lt_dataloader):.4f}\"\n",
    "                        )\n",
    "\n",
    "    return train_loss, val_loss, lt_loss, r_val\n"
   ]
  },
  {
   "cell_type": "code",
   "execution_count": null,
   "metadata": {},
   "outputs": [],
   "source": [
    "# # Training the MLP model using a loss function and a optimiser\n",
    "# from scipy.stats import pearsonr\n",
    "\n",
    "# def train_MLP(model, train_dataloader, val_dataloader, val_lt_dataloader, num_epochs, learning_rate):\n",
    "#     loss_function = nn.MSELoss(reduction='mean')\n",
    "#     optimiser = torch.optim.Adam(model.parameters(), lr = learning_rate)\n",
    "\n",
    "#     # train_loss, val_loss = np.zeros(num_epochs), np.zeros(num_epochs)\n",
    "#     train_loss = np.zeros(num_epochs)\n",
    "#     val_loss = np.zeros(num_epochs)\n",
    "#     lt_loss = np.zeros(num_epochs)\n",
    "#     r_val = np.zeros(num_epochs)\n",
    "\n",
    "\n",
    "#     min_val_loss = 1.\n",
    "\n",
    "#     for epoch in tqdm(range(num_epochs)):\n",
    "#         # Loop over batch values \n",
    "#         runningLoss_train = 0. \n",
    "\n",
    "#         for idx, (batch_inputs, batch_targets) in enumerate(train_dataloader):\n",
    "            \n",
    "#             # Save batch on GPU\n",
    "#             batch_inputs, batch_targets = batch_inputs.to(DEVICE), batch_targets.to(DEVICE)\n",
    "\n",
    "#             # Means we are training the model, so uses techniques such as dropout etc., otherwise model.train(model=False)\n",
    "#             model.train() \n",
    "\n",
    "#             #set gradients to zero\n",
    "#             optimiser.zero_grad()\n",
    "#             preds = model(batch_inputs)\n",
    "#             # print(f'shape of training predictions: {preds.shape}')\n",
    "        \n",
    "#             loss = loss_function(preds, batch_targets)\n",
    "            \n",
    "\n",
    "#             loss.backward()\n",
    "#             optimiser.step()\n",
    "#             runningLoss_train += loss.item()\n",
    "\n",
    "#         train_loss[epoch] = runningLoss_train / len(train_dataloader)\n",
    "\n",
    "#         # print(f\"Epoch: [{epoch + 1}/{num_epochs}]\", f\"Training loss: {runningLoss_train/len(train_dataloader)}\")\n",
    "\n",
    "#         # Evaluate on validation set\n",
    "\n",
    "#         model.eval() # means we are evaluating the model, stops process such as dropout etc. \n",
    "#         runningLoss_val = 0.\n",
    "\n",
    "#         with torch.no_grad(): # makes sure gradient is not stored \n",
    "#             for idx, (batch_inputs, batch_targets) in enumerate(val_dataloader):\n",
    "                \n",
    "#                 batch_inputs, batch_targets = batch_inputs.to(DEVICE), batch_targets.to(DEVICE)\n",
    "#                 optimiser.zero_grad() #WHY?\n",
    "#                 preds = model(batch_inputs)\n",
    "#                 # print(f'shape of validation predictions: {preds.shape}')\n",
    "\n",
    "#                 loss = loss_function(preds, batch_targets)\n",
    "#                 runningLoss_val += loss.item()\n",
    "\n",
    "#         val_loss[epoch] = runningLoss_val/len(val_dataloader)\n",
    "\n",
    "#         # print(f\"Epoch: [{epoch + 1}/{num_epochs}]\", f\"Validation loss: {runningLoss_val/len(val_dataloader)}\")\n",
    "\n",
    "#         #Measure long term error \n",
    "#         lt_loss_criterion = nn.MSELoss() #long term loss criterion (l1 loss measures MAE for 99 steps in the future)\n",
    "#         future_window=200\n",
    "#         runningLoss_val_lt = 0.\n",
    "#         runningR_val_lt = 0.\n",
    "\n",
    "#         with torch.no_grad(): # makes sure gradient is not stored \n",
    "#             for idx, (batch_inputs, batch_targets) in enumerate(val_lt_dataloader):\n",
    "\n",
    "#                 batch_inputs, batch_targets = batch_inputs.to(DEVICE), batch_targets.to(DEVICE)\n",
    "                \n",
    "#                 future_preds = torch.zeros((batch_inputs.shape[0], 200, len(features))).to(DEVICE) #would store the predicted outputs for 200 timesteps\n",
    "                \n",
    "#                 # loop to calculate all 200 preds in the future\n",
    "#                 for t in range(0,future_window):\n",
    "#                     optimiser.zero_grad()\n",
    "#                     preds = model(batch_inputs)\n",
    "#                     # print(f'preds.shape: {preds.shape}')\n",
    "#                     # print(f'preds.reshape(-1,1).shape: {preds.squeeze().shape}')\n",
    "#                     # print(f'future_preds[:,t,:].shape: {future_preds[:,t,:].shape}')\n",
    "#                     future_preds[:,t,:] = preds.reshape(-1,1)\n",
    "#                     new_batch_inputs = torch.cat((batch_inputs, preds),1)\n",
    "#                     batch_inputs = new_batch_inputs[:,1:,:]\n",
    "                \n",
    "#                 #Evalute long term predictions\n",
    "#                 # print(f'future_preds[101:].shape: {future_preds[:,101:,:].shape}')\n",
    "#                 loss = lt_loss_criterion(future_preds[:,101:,:], batch_targets[:,101:,:])\n",
    "#                 runningLoss_val_lt += loss.item()\n",
    "\n",
    "#                 # Spearman's correlation coefficient = covariance(rank(X), rank(Y)) / (stdv(rank(X)) * stdv(rank(Y)))\n",
    "#                 all_corr = np.zeros(len(features))\n",
    "\n",
    "#                 if output_window == 1:\n",
    "#                     runningR_val_lt = 0\n",
    "#                 else:\n",
    "#                     for f in range(len(features)):\n",
    "#                         corr, _ = pearsonr(future_preds[:,101:,f].cpu().detach().numpy().reshape(-1,1).squeeze(), \n",
    "#                                             batch_targets[:,101:,f].cpu().detach().numpy().reshape(-1,1).squeeze())\n",
    "#                         all_corr[f] = corr\n",
    "                    \n",
    "#                     runningR_val_lt += all_corr.mean()\n",
    "\n",
    "#                 # print(all_corr)\n",
    "#         lt_loss[epoch] = runningLoss_val_lt/len(val_lt_dataloader)\n",
    "#         r_val[epoch] = runningR_val_lt / (len(val_lt_dataloader))\n",
    "\n",
    "\n",
    "#         # print(f\"Epoch: [{epoch + 1}/{num_epochs}]\", f\"Long term Validation loss: {runningLoss_val_lt/len(val_lt_dataloader)}\")\n",
    "#         # print(f\"Epoch: [{epoch + 1}/{num_epochs}]\", f\"R value: {runningR_val_lt/ len(val_lt_dataloader)}\")\n",
    "\n",
    "#         if val_loss[epoch] < min_val_loss:\n",
    "\n",
    "#             # print('YAY, new best value')\n",
    "#             min_val_loss = val_loss[epoch]\n",
    "\n",
    "#             torch.save({\n",
    "#                         'epoch': epoch,\n",
    "#                         'model_state_dict': model.state_dict(),\n",
    "#                         'optimiser_state_dict': optimiser.state_dict(),\n",
    "#                         'loss': val_loss[epoch],\n",
    "#                         }, MODEL_PATH)\n",
    "        \n",
    "#         print(f\"Epoch: [{epoch + 1}/{num_epochs}]\", \n",
    "#                         f\"Training loss: {runningLoss_train/len(train_dataloader):.7f}\",\n",
    "#                         f\"/ Validation loss: {runningLoss_val/len(val_dataloader):.7f}\",\n",
    "#                         f\"/ Long term Validation loss: {runningLoss_val_lt/len(val_lt_dataloader):.4f}\",\n",
    "#                         f\"/ R value: {runningR_val_lt/ len(val_lt_dataloader):.4f}\")\n",
    "\n",
    "#     return train_loss, val_loss, lt_loss, r_val\n"
   ]
  },
  {
   "cell_type": "code",
   "execution_count": null,
   "metadata": {},
   "outputs": [],
   "source": [
    "# Testing function \n",
    "def test_MLP(model, dataloader):\n",
    "    loss_function = nn.MSELoss(reduction='mean')\n",
    "    model.eval()\n",
    "    actual_output, pred_output = [], []\n",
    "    running_loss = 0. \n",
    "    \n",
    "    with torch.no_grad():\n",
    "        for idx, (batch_inputs, batch_targets) in tqdm(enumerate(dataloader)):\n",
    "\n",
    "            batch_inputs, batch_targets = batch_inputs.to(DEVICE), batch_targets.to(DEVICE)\n",
    "\n",
    "            # if idx==0:\n",
    "            #     batch_preds = model(batch_inputs)\n",
    "            #     # print(f'batch shape: {batch_preds.shape}')\n",
    "            #     loss = loss_function(batch_preds, batch_targets)\n",
    "            #     running_loss += loss.item()\n",
    "            #     current_preds = batch_preds\n",
    "            #     all_preds = batch_preds\n",
    "\n",
    "            # else:\n",
    "            #     batch_preds = model(batch_inputs)\n",
    "            #     print(f'batch shape: {batch_preds.shape}')\n",
    "            #     loss = loss_function(batch_preds, batch_targets)\n",
    "            #     running_loss += loss.item()\n",
    "            #     all_preds = torch.cat((current_preds, batch_preds), dim=0)\n",
    "            #     current_preds = batch_preds\n",
    "\n",
    "            batch_preds = model(batch_inputs)\n",
    "            loss = loss_function(batch_preds, batch_targets)\n",
    "            running_loss += loss.item()\n",
    "            actual_output.append(batch_targets)\n",
    "            pred_output.append(batch_preds)\n",
    "\n",
    "\n",
    "            #             lst = []\n",
    "            # print(f'{x.size()}')\n",
    "            # for i in range(10):\n",
    "            #     x += i  # say we do something with x at iteration i\n",
    "            #     lst.append(x)\n",
    "            # # lstt = torch.stack([x for _ in range(10)])\n",
    "            # lstt = torch.stack(lst)\n",
    "            # print(lstt.size())\n",
    "\n",
    "        total_loss = running_loss / len(dataloader)\n",
    "\n",
    "        actual_output_tensor = torch.vstack(actual_output)\n",
    "        pred_output_tensor = torch.vstack(pred_output)\n",
    "    \n",
    "    return pred_output_tensor, actual_output_tensor, total_loss"
   ]
  },
  {
   "cell_type": "code",
   "execution_count": null,
   "metadata": {},
   "outputs": [],
   "source": [
    "# Set model hyperparameters \n",
    "# Train MLP\n",
    "input_size=len(features)\n",
    "in_seq_len=input_window\n",
    "out_seq_len=output_window\n",
    "output_size=len(features)\n",
    "num_epochs=8\n",
    "learning_rate=0.001\n",
    "\n",
    "model_MLP = MLP(input_size=input_size, in_seq_len=in_seq_len, out_seq_len=out_seq_len, output_size=output_size, device=DEVICE).to(DEVICE)\n",
    "\n",
    "train_history, val_history, lt_history, r_history = train_MLP(model_MLP, train_dataloader=train_dataloader, val_dataloader=val_dataloader, val_lt_dataloader= val_lt_dataloader, num_epochs=num_epochs, learning_rate=learning_rate)"
   ]
  },
  {
   "cell_type": "code",
   "execution_count": null,
   "metadata": {},
   "outputs": [],
   "source": [
    "class CNN(nn.Module):\n",
    "    def __init__(self, input_size, output_size, in_seq_len, out_seq_len, device=DEVICE):\n",
    "        super(CNN, self).__init__()\n",
    "        '''\n",
    "        nn.Conv1d\n",
    "        in_channels: number of features in input \n",
    "        out_channels: number of channels in output\n",
    "        kernel_size: size of convolving layer\n",
    "        stride: convolution stride\n",
    "        padding=0\n",
    "        dilation=1\n",
    "        groups=1\n",
    "        bias=True\n",
    "        padding_mode='zeros'\n",
    "        device=device \n",
    "        dtype=None\n",
    "\n",
    "        nn.MaxPool1d\n",
    "        kernel_size:\n",
    "        stride=None: default is kernel_size\n",
    "        padding=0:\n",
    "        dilation=1\n",
    "        return_indices=False\n",
    "        ceil_mode=False\n",
    "\n",
    "        torch.flatten (reshapes to 1D vector)\n",
    "        input\n",
    "        start_dim=0\n",
    "        end_dim=- 1\n",
    "\n",
    "        nn.Linear \n",
    "        input_size = (N,*, Hin) Hin = input_features (equal to hidden size therefore is arbitrarily set)\n",
    "        output_size = (N, *, Hout) Hout = output features (equal to output_size passed in to the model) \n",
    "        '''\n",
    "        # Pytorch documentation: \n",
    "        # >>> m = nn.Conv1d(16, 33, 3, stride=2) features(in_channels), output_channels, kernel_size\n",
    "        # >>> input = torch.randn(20, 16, 50) batch_size, features, length of sequence \n",
    "        # >>> output = m(input~)\n",
    "\n",
    "\n",
    "        # >>> m = nn.MaxPool1d(3, stride=2) kernel_size, stride\n",
    "        # >>> input = torch.randn(20, 16, 50)\n",
    "        # >>> output = m(input)\n",
    "    \n",
    "        self.input_size = input_size\n",
    "        self.output_size = output_size\n",
    "        # self.kernel_size = kernel_size\n",
    "        # self.stride = stride\n",
    "        self.device = device \n",
    "        self.in_seq_len = in_seq_len\n",
    "        self.out_seq_len = out_seq_len\n",
    "        self.conv1_channels = 32\n",
    "        self.conv2_channels = 48\n",
    "        self.conv3_channels = 256\n",
    "        self.conv4_channels = 512\n",
    "        self.kernel_12 = 7\n",
    "        self.kernel_34 = 7\n",
    "        self.padding = 4\n",
    "        self.stride = 1\n",
    "        self.dilation = 1\n",
    "\n",
    "        def calc_shape(input, kernel_size, stride, padding=0, dilation =1, operation = 'conv'):\n",
    "            if operation == 'conv':\n",
    "            # size = ((input - kernel_size + (2 * padding))/stride)  + 1 \n",
    "                size = ((input + 2 * padding - dilation * (kernel_size-1) -1)/stride )+ 1\n",
    "\n",
    "            if operation == 'pool':\n",
    "                size = ((input - kernel_size)/stride)  + 1\n",
    "\n",
    "            return size\n",
    "\n",
    "        self.conv1 = nn.Conv1d(in_channels = self.input_size, out_channels = self.conv1_channels, kernel_size = self.kernel_12, stride = self.stride, padding = self.padding, dilation=self.dilation)\n",
    "        post_conv1 = calc_shape(input = self.in_seq_len, kernel_size = self.kernel_12, stride = self.stride, padding = self.padding,  dilation=self.dilation, operation='conv')\n",
    "        # print(f'post conv1: {post_conv1}')\n",
    "\n",
    "        self.conv2 = nn.Conv1d(in_channels = self.conv1_channels, out_channels = self.conv2_channels, kernel_size = self.kernel_12 , stride = self.stride, padding = self.padding,  dilation=self.dilation)\n",
    "        post_conv2 = calc_shape(input = post_conv1, kernel_size =self.kernel_12 , stride = self.stride, padding = self.padding,  dilation=self.dilation,  operation='conv')\n",
    "        # print(f'post conv2: {post_conv2}')\n",
    "\n",
    "        self.pool1 = nn.MaxPool1d(kernel_size = 2, stride = 2)\n",
    "        post_pool1 = calc_shape(input = post_conv2, kernel_size = 2, stride = 2,  operation='pool')\n",
    "        # print(f'post poo1: {post_pool1}')\n",
    "\n",
    "        self.conv3 = nn.Conv1d(in_channels=self.conv2_channels, out_channels=self.conv3_channels, kernel_size = self.kernel_34, stride = self.stride, padding = self.padding,  dilation=self.dilation )\n",
    "        post_conv3 = calc_shape(input = post_pool1, kernel_size = self.kernel_34, stride = self.stride, padding = self.padding, dilation=self.dilation, operation='conv')\n",
    "        # print(f'post conv3: {post_conv3}')\n",
    "\n",
    "\n",
    "        self.conv4 = nn.Conv1d(in_channels=self.conv3_channels, out_channels=self.conv4_channels, kernel_size = self.kernel_34, stride = self.stride, padding = self.padding,  dilation=self.dilation)\n",
    "        post_conv4 = calc_shape(input = post_conv3, kernel_size = self.kernel_34, stride = self.stride, padding = self.padding,  dilation=self.dilation, operation='conv')\n",
    "        # print(f'post conv4: {post_conv4}')\n",
    "\n",
    "\n",
    "        self.pool2 = nn.MaxPool1d(kernel_size = 2, stride = 2)\n",
    "        post_pool2 = calc_shape(input = post_conv4, kernel_size = 2, stride = 2,  operation='pool')\n",
    "        # print(f'post pool2: {post_pool2}')\n",
    "\n",
    "        # print(f'linear input: {post_pool2 * 32}')\n",
    "\n",
    "        self.fc1 = nn.Linear(in_features = (int(post_pool2) * self.conv4_channels), out_features=(self.output_size * out_seq_len))\n",
    "        #nn.Linear(in_features=self.hidden_size, out_features=(self.output_size * self.out_seq_len))\n",
    "\n",
    "\n",
    "    def forward(self, input_data):\n",
    "        '''\n",
    "        input_data.shape = \n",
    "        '''\n",
    "        # print(f'input_data.shape = {input_data.shape}') #input_data.shape = torch.Size([512, 2, 120])\n",
    "        input = input_data.permute(0,2,1)\n",
    "        out = self.conv1(input)\n",
    "        out = F.relu(out)\n",
    "        out = self.conv2(out)\n",
    "        out = F.relu(out)\n",
    "        # print(f'conv1 out shape = {out.shape}') #conv1_out.shape = torch.Size([512, 12, 120])\n",
    "        out = self.pool1(out)\n",
    "        # print(f'pool1 out shape = {out.shape}')\n",
    "        out = self.conv3(out)\n",
    "        # print(f'conv2 out shape: {out.shape}')\n",
    "        out = F.relu(out)\n",
    "        out = self.conv4(out)\n",
    "        out = F.relu(out)\n",
    "        out = self.pool2(out)\n",
    "        out = torch.flatten(out, start_dim = 1, end_dim=-1) #do not flatten batches \n",
    "        # print(f'flatten layer out shape: {out.shape}') #([512, 720]) \n",
    "        out = self.fc1(out)\n",
    "        # print(f'fc1 out shape: {out.shape}')\n",
    "        preds = out.reshape(input_data.shape[0],  self.out_seq_len, self.output_size)\n",
    "        # print(f'preds.shape (after reshaping): {preds.shape}')\n",
    "\n",
    "        return preds"
   ]
  },
  {
   "cell_type": "code",
   "execution_count": null,
   "metadata": {},
   "outputs": [],
   "source": [
    "# class CNN(nn.Module):\n",
    "#     def __init__(self, input_size, output_size, in_seq_len, out_seq_len, device=DEVICE):\n",
    "#         super(CNN, self).__init__()\n",
    "#         '''\n",
    "#         nn.Conv1d\n",
    "#         in_channels: number of features in input \n",
    "#         out_channels: number of channels in output\n",
    "#         kernel_size: size of convolving layer\n",
    "#         stride: convolution stride\n",
    "#         padding=0\n",
    "#         dilation=1\n",
    "#         groups=1\n",
    "#         bias=True\n",
    "#         padding_mode='zeros'\n",
    "#         device=device \n",
    "#         dtype=None\n",
    "\n",
    "#         nn.MaxPool1d\n",
    "#         kernel_size:\n",
    "#         stride=None: default is kernel_size\n",
    "#         padding=0:\n",
    "#         dilation=1\n",
    "#         return_indices=False\n",
    "#         ceil_mode=False\n",
    "\n",
    "#         torch.flatten (reshapes to 1D vector)\n",
    "#         input\n",
    "#         start_dim=0\n",
    "#         end_dim=- 1\n",
    "\n",
    "#         nn.Linear \n",
    "#         input_size = (N,*, Hin) Hin = input_features (equal to hidden size therefore is arbitrarily set)\n",
    "#         output_size = (N, *, Hout) Hout = output features (equal to output_size passed in to the model) \n",
    "#         '''\n",
    "#         # Pytorch documentation: \n",
    "#         # >>> m = nn.Conv1d(16, 33, 3, stride=2) features(in_channels), output_channels, kernel_size\n",
    "#         # >>> input = torch.randn(20, 16, 50) batch_size, features, length of sequence \n",
    "#         # >>> output = m(input~)\n",
    "\n",
    "\n",
    "#         # >>> m = nn.MaxPool1d(3, stride=2) kernel_size, stride\n",
    "#         # >>> input = torch.randn(20, 16, 50)\n",
    "#         # >>> output = m(input)\n",
    "    \n",
    "#         self.input_size = input_size\n",
    "#         self.output_size = output_size\n",
    "#         # self.kernel_size = kernel_size\n",
    "#         # self.stride = stride\n",
    "#         self.device = device \n",
    "#         self.in_seq_len = in_seq_len\n",
    "#         self.out_seq_len = out_seq_len\n",
    "#         self.conv1_channels = 16\n",
    "#         self.conv2_channels = 16\n",
    "#         self.conv3_channels = 16\n",
    "#         self.conv4_channels = 16\n",
    "#         self.kernel_12 = 5\n",
    "#         self.kernel_34 = 5\n",
    "#         self.padding = 4\n",
    "#         self.stride = 1\n",
    "#         self.dilation = 1\n",
    "\n",
    "#         def calc_shape(input, kernel_size, stride, padding=0, dilation =1, operation = 'conv'):\n",
    "#             if operation == 'conv':\n",
    "#             # size = ((input - kernel_size + (2 * padding))/stride)  + 1 \n",
    "#                 size = ((input + 2 * padding - dilation * (kernel_size-1) -1)/stride )+ 1\n",
    "\n",
    "#             if operation == 'pool':\n",
    "#                 size = ((input - kernel_size)/stride)  + 1\n",
    "\n",
    "#             return size\n",
    "\n",
    "#         self.conv1 = nn.Conv1d(in_channels = self.input_size, out_channels = self.conv1_channels, kernel_size = self.kernel_12, stride = self.stride, padding = self.padding, dilation=self.dilation)\n",
    "#         post_conv1 = calc_shape(input = self.in_seq_len, kernel_size = self.kernel_12, stride = self.stride, padding = self.padding,  dilation=self.dilation, operation='conv')\n",
    "#         # print(f'post conv1: {post_conv1}')\n",
    "\n",
    "#         self.conv2 = nn.Conv1d(in_channels = self.conv1_channels, out_channels = self.conv2_channels, kernel_size = self.kernel_12 , stride = self.stride, padding = self.padding,  dilation=self.dilation)\n",
    "#         post_conv2 = calc_shape(input = post_conv1, kernel_size =self.kernel_12 , stride = self.stride, padding = self.padding,  dilation=self.dilation,  operation='conv')\n",
    "#         # print(f'post conv2: {post_conv2}')\n",
    "\n",
    "#         self.pool1 = nn.MaxPool1d(kernel_size = 2, stride = 2)\n",
    "#         post_pool1 = calc_shape(input = post_conv2, kernel_size = 2, stride = 2,  operation='pool')\n",
    "#         # print(f'post poo1: {post_pool1}')\n",
    "\n",
    "#         self.conv3 = nn.Conv1d(in_channels=self.conv2_channels, out_channels=self.conv3_channels, kernel_size = self.kernel_34, stride = self.stride, padding = self.padding,  dilation=self.dilation )\n",
    "#         post_conv3 = calc_shape(input = post_pool1, kernel_size = self.kernel_34, stride = self.stride, padding = self.padding, dilation=self.dilation, operation='conv')\n",
    "#         # print(f'post conv3: {post_conv3}')\n",
    "\n",
    "\n",
    "#         self.conv4 = nn.Conv1d(in_channels=self.conv3_channels, out_channels=self.conv4_channels, kernel_size = self.kernel_34, stride = self.stride, padding = self.padding,  dilation=self.dilation)\n",
    "#         post_conv4 = calc_shape(input = post_conv3, kernel_size = self.kernel_34, stride = self.stride, padding = self.padding,  dilation=self.dilation, operation='conv')\n",
    "#         # print(f'post conv4: {post_conv4}')\n",
    "\n",
    "\n",
    "#         self.pool2 = nn.MaxPool1d(kernel_size = 2, stride = 2)\n",
    "#         post_pool2 = calc_shape(input = post_conv4, kernel_size = 2, stride = 2,  operation='pool')\n",
    "#         # print(f'post pool2: {post_pool2}')\n",
    "\n",
    "#         # print(f'linear input: {post_pool2 * 32}')\n",
    "\n",
    "#         self.fc1 = nn.Linear(in_features = (int(post_pool2) * self.conv4_channels), out_features=(self.output_size * out_seq_len))\n",
    "#         #nn.Linear(in_features=self.hidden_size, out_features=(self.output_size * self.out_seq_len))\n",
    "\n",
    "\n",
    "#     def forward(self, input_data):\n",
    "#         '''\n",
    "#         input_data.shape = \n",
    "#         '''\n",
    "#         # print(f'input_data.shape = {input_data.shape}') #input_data.shape = torch.Size([512, 2, 120])\n",
    "#         out = self.conv1(input_data)\n",
    "#         out = F.relu(out)\n",
    "#         out = self.conv2(out)\n",
    "#         out = F.relu(out)\n",
    "#         # print(f'conv1 out shape = {out.shape}') #conv1_out.shape = torch.Size([512, 12, 120])\n",
    "#         out = self.pool1(out)\n",
    "#         # print(f'pool1 out shape = {out.shape}')\n",
    "#         out = self.conv3(out)\n",
    "#         # print(f'conv2 out shape: {out.shape}')\n",
    "#         out = F.relu(out)\n",
    "#         out = self.conv4(out)\n",
    "#         out = F.relu(out)\n",
    "#         out = self.pool2(out)\n",
    "#         out = torch.flatten(out, start_dim = 1, end_dim=-1) #do not flatten batches \n",
    "#         # print(f'flatten layer out shape: {out.shape}') #([512, 720]) \n",
    "#         out = self.fc1(out)\n",
    "#         # print(f'fc1 out shape: {out.shape}')\n",
    "#         preds = out.reshape(input_data.shape[0], self.output_size, self.out_seq_len)\n",
    "#         # print(f'preds.shape (after reshaping): {preds.shape}')\n",
    "\n",
    "#         return preds"
   ]
  },
  {
   "cell_type": "code",
   "execution_count": null,
   "metadata": {},
   "outputs": [],
   "source": [
    "# Training the CNN model using a loss function and a optimiser\n",
    "def train_CNN(model, train_dataloader, val_dataloader, num_epochs, learning_rate):\n",
    "\n",
    "    loss_function = nn.MSELoss()\n",
    "    \n",
    "    optimiser = torch.optim.Adam(model.parameters(), lr = learning_rate)\n",
    "\n",
    "    # train_loss, val_loss = np.zeros(num_epochs), np.zeros(num_epochs)\n",
    "    train_loss = np.zeros(num_epochs)\n",
    "    val_loss = np.zeros(num_epochs)\n",
    "    lt_loss = np.zeros(num_epochs)\n",
    "\n",
    "\n",
    "    min_val_loss = 1.\n",
    "\n",
    "    for epoch in tqdm(range(num_epochs)):\n",
    "        # Loop over batch values \n",
    "        runningLoss_train = 0. \n",
    "\n",
    "        for idx, (batch_inputs, batch_targets) in enumerate(train_dataloader):\n",
    "            \n",
    "            # Save batch on GPU\n",
    "            batch_inputs, batch_targets = batch_inputs.to(DEVICE), batch_targets.to(DEVICE)\n",
    "\n",
    "            # Means we are training the model, so uses techniques such as dropout etc., otherwise model.train(model=False)\n",
    "            model.train() \n",
    "\n",
    "            #set gradients to zero\n",
    "            optimiser.zero_grad()\n",
    "            preds = model(batch_inputs.permute(0,2,1))\n",
    "        \n",
    "            loss = loss_function(preds, batch_targets.permute(0,2,1))\n",
    "\n",
    "            loss.backward()\n",
    "            optimiser.step()\n",
    "            runningLoss_train += loss.item()\n",
    "\n",
    "        train_loss[epoch] = runningLoss_train / len(train_dataloader)\n",
    "\n",
    "        print(f\"Epoch: [{epoch + 1}/{num_epochs}]\", f\"Training loss: {runningLoss_train/len(train_dataloader)}\")\n",
    "\n",
    "        # Evaluate on validation set\n",
    "\n",
    "        model.eval() # means we are evaluating the model, stops process such as dropout etc. \n",
    "        runningLoss_val = 0.\n",
    "\n",
    "        with torch.no_grad(): # makes sure gradient is not stored \n",
    "            for idx, (batch_inputs, batch_targets) in enumerate(val_dataloader):\n",
    "                \n",
    "                batch_inputs, batch_targets = batch_inputs.to(DEVICE), batch_targets.to(DEVICE)\n",
    "                optimiser.zero_grad() #WHY?\n",
    "                preds = model(batch_inputs.permute(0,2,1)) # permute to make the input shape (samples, features, input_window_size)\n",
    "                # print(f'shape of validation predictions: {preds.shape}')\n",
    "\n",
    "                loss = loss_function(preds, batch_targets.permute(0,2,1)) #permute targets to make it same shape as preds\n",
    "                runningLoss_val += loss.item()\n",
    "\n",
    "        val_loss[epoch] = runningLoss_val/len(val_dataloader)                   \n",
    "\n",
    "        print(f\"Epoch: [{epoch + 1}/{num_epochs}]\", f\"Validation loss: {runningLoss_val/len(val_dataloader)}\")\n",
    "\n",
    "        #Measure long term error \n",
    "        lt_loss_criterion = nn.L1Loss() #long term loss criterion (l1 loss measures MAE for 99 steps in the future)\n",
    "        future_window=200\n",
    "        runningLoss_val_lt = 0.\n",
    "        runningR_val_lt = 0.\n",
    "\n",
    "        with torch.no_grad(): # makes sure gradient is not stored \n",
    "            for idx, (batch_inputs, batch_targets) in enumerate(val_lt_dataloader):\n",
    "\n",
    "                batch_inputs, batch_targets = batch_inputs.to(DEVICE), batch_targets.to(DEVICE)\n",
    "                \n",
    "                future_preds = torch.zeros((batch_inputs.shape[0], 200, 6)).to(DEVICE) #would store the predicted outputs for 200 timesteps\n",
    "                \n",
    "                # loop to calculate all 200 preds in the future\n",
    "                for t in range(0,future_window):\n",
    "                    optimiser.zero_grad()\n",
    "                    preds = model(batch_inputs)\n",
    "                    # print(f'preds.shape: {preds.shape}')\n",
    "                    # print(f'future_preds[:,t,:].shape: {future_preds[:,t,:].shape}')\n",
    "                    future_preds[:,t,:] = preds.squeeze()\n",
    "                    new_batch_inputs = torch.cat((batch_inputs, preds),1)\n",
    "                    batch_inputs = new_batch_inputs[:,1:,:]\n",
    "                \n",
    "                #Evalute long term predictions\n",
    "                # print(f'future_preds[101:].shape: {future_preds[:,101:,:].shape}')\n",
    "                loss = lt_loss_criterion(future_preds[:,101:,:], batch_targets[:,101:,:])\n",
    "                runningLoss_val_lt += loss.item()\n",
    "\n",
    "                for f in range(0,len(features)):\n",
    "                    r_val = torch.corrcoef(future_preds[:,101:,f], batch_targets[:,101:,f])\n",
    "                    runningR_val_lt += r_val[1]\n",
    "\n",
    "        lt_loss[epoch] = runningLoss_val_lt/ len(val_lt_dataloader)\n",
    "        r_val[epoch] = runningR_val_lt / (len(val_lt_dataloader) * len(features))\n",
    "\n",
    "\n",
    "        print(f\"Epoch: [{epoch + 1}/{num_epochs}]\", f\"Long term Validation loss: {runningLoss_val_lt/len(val_lt_dataloader)}\")\n",
    "        print(f\"Epoch: [{epoch + 1}/{num_epochs}]\", f\"R value: {runningR_val_lt/ (len(val_lt_dataloader)*len(features))}\")\n",
    "\n",
    "       # Save best model so far\n",
    "        if val_loss[epoch] < min_val_loss:\n",
    "\n",
    "            # print('YAY, new best value')\n",
    "            min_val_loss = val_loss[epoch]\n",
    "\n",
    "            torch.save({\n",
    "                        'epoch': epoch,\n",
    "                        'model_state_dict': model.state_dict(),\n",
    "                        'optimiser_state_dict': optimiser.state_dict(),\n",
    "                        'loss': val_loss[epoch],\n",
    "                        }, MODEL_PATH)\n",
    "                        \n",
    "    return train_loss, val_loss"
   ]
  },
  {
   "cell_type": "code",
   "execution_count": null,
   "metadata": {},
   "outputs": [],
   "source": [
    "#Testing function \n",
    "def test_CNN(model, dataloader):\n",
    "    loss_function = nn.MSELoss(reduction='mean')\n",
    "    model.eval()\n",
    "    actual_output, pred_output = [], []\n",
    "    running_loss = 0. \n",
    "    \n",
    "    with torch.no_grad():\n",
    "        for idx, (batch_inputs, batch_targets) in tqdm(enumerate(dataloader)):\n",
    "\n",
    "            batch_inputs, batch_targets = batch_inputs.to(DEVICE), batch_targets.to(DEVICE)\n",
    "\n",
    "            batch_preds = model(batch_inputs.permute(0,2,1))\n",
    "            loss = loss_function(batch_preds, batch_targets.permute(0,2,1))\n",
    "            running_loss += loss.item()\n",
    "            actual_output.append(batch_targets.permute(0,2,1))\n",
    "            # print(f'actual_output_shape:{batch_targets.permute(0,2,1).shape}')\n",
    "       \n",
    "            pred_output.append(batch_preds)\n",
    "            # print(f'pred_output shape; {batch_preds.shape}')\n",
    "\n",
    "        total_loss = running_loss / len(dataloader)\n",
    "\n",
    "        actual_output_tensor = torch.vstack(actual_output)\n",
    "        pred_output_tensor = torch.vstack(pred_output)\n",
    "    \n",
    "    return pred_output_tensor.permute(0,2,1), actual_output_tensor.permute(0,2,1), total_loss"
   ]
  },
  {
   "cell_type": "code",
   "execution_count": null,
   "metadata": {},
   "outputs": [],
   "source": [
    "# Set model hyperparameters \n",
    "# Train CNN\n",
    "input_size=len(features)\n",
    "in_seq_len=input_window\n",
    "out_seq_len=output_window\n",
    "# kernel_size=1\n",
    "num_epochs=30\n",
    "learning_rate=0.001\n",
    "output_size = len(features)"
   ]
  },
  {
   "cell_type": "code",
   "execution_count": null,
   "metadata": {},
   "outputs": [],
   "source": [
    "model_CNN = CNN(input_size, output_size=output_size, in_seq_len=in_seq_len, out_seq_len=out_seq_len,  device = DEVICE).to(DEVICE)\n",
    "\n",
    "train_history, val_history, lt_history= train_MLP(model_CNN, train_dataloader=train_dataloader, val_dataloader=val_dataloader, val_lt_dataloader = val_lt_dataloader, num_epochs=num_epochs, learning_rate=learning_rate)"
   ]
  },
  {
   "cell_type": "code",
   "execution_count": null,
   "metadata": {},
   "outputs": [],
   "source": [
    "class hybrid(nn.Module):\n",
    "    def __init__(self, input_size, output_size, hidden_size, num_layers, stride, padding, in_seq_len, out_seq_len, device=DEVICE):\n",
    "        super(hybrid, self).__init__()\n",
    "\n",
    "        self.input_size = input_size\n",
    "        self.output_size = output_size\n",
    "        self.stride = stride\n",
    "        self.padding = padding \n",
    "        self.device = device \n",
    "        self.in_seq_len = in_seq_len\n",
    "        self.out_seq_len = out_seq_len\n",
    "        self.hidden_size = hidden_size\n",
    "        self.num_layers = num_layers\n",
    "\n",
    "        self.conv1 = nn.Conv1d(in_channels = self.input_size, out_channels = 48, kernel_size = 7, stride = self.stride, padding = self.padding)\n",
    "        self.pool1 = nn.MaxPool1d(kernel_size = 2, stride = 2)\n",
    "        self.conv2 = nn.Conv1d(in_channels=48, out_channels=32, kernel_size = 5, stride = self.stride, padding = self.padding)\n",
    "        self.fc1 = nn.Linear(in_features = 1376, out_features=(self.output_size * in_seq_len))\n",
    "        self.lstm = nn.LSTM(input_size=self.input_size, hidden_size=self.hidden_size, num_layers=self.num_layers, batch_first = True)\n",
    "        self.fc2 = nn.Linear(in_features=self.hidden_size, out_features=(self.output_size * self.out_seq_len))\n",
    "\n",
    "        '''\n",
    "        input shape for CNN: [samples, features, in_seq_len]\n",
    "        output shape for CNN: [samples,out_seq_len, features]\n",
    "\n",
    "        input shape for LSTM: [samples,out_seq_len, features]\n",
    "        output shape for LSTM: [samples,out_seq_len, features]\n",
    "        '''\n",
    "    def forward(self, input_data):\n",
    "     \n",
    "        # print(f'input_data.shape = {input_data.shape}') #input_data.shape = torch.Size([512, 2, 120])\n",
    "        out = self.conv1(input_data)\n",
    "        out = F.relu(out)\n",
    "        # print(f'conv1 out shape = {out.shape}') #conv1_out.shape = torch.Size([512, 12, 120])\n",
    "        out = self.pool1(out)\n",
    "        # print(f'pool1 out shape = {out.shape}')\n",
    "        out = self.conv2(out)\n",
    "        # print(f'conv2 out shape: {out.shape}')\n",
    "        out = F.relu(out)\n",
    "        out = torch.flatten(out, start_dim = 1, end_dim=-1) #do not flatten batches \n",
    "        # print(f'flatten layer out shape: {out.shape}') #([512, 720]) \n",
    "        out = self.fc1(out)\n",
    "        # print(f'fc1 out shape: {out.shape}')\n",
    "        # print(f'reshaped output: {out.reshape(input_data.shape[0], self.in_seq_len, self.output_size).shape}')\n",
    "        \n",
    "        h_0 = torch.zeros(self.num_layers, input_data.shape[0], self.hidden_size).to(self.device) # input_data.shape[0] is equal to batch size\n",
    "        c_0 = torch.zeros(self.num_layers, input_data.shape[0], self.hidden_size).to(self.device)\n",
    "\n",
    "        lstm, (h_out, c_out) = self.lstm(out.reshape(input_data.shape[0], self.in_seq_len, self.output_size), (h_0, c_0))\n",
    "        out = self.fc2(h_out[-1])\n",
    "\n",
    "        preds = out.reshape(input_data.shape[0], self.out_seq_len, self.output_size)\n",
    "\n",
    "        return preds\n",
    "        "
   ]
  },
  {
   "cell_type": "code",
   "execution_count": null,
   "metadata": {},
   "outputs": [],
   "source": [
    "# Training the CNN model using a loss function and a optimiser\n",
    "def train_hybrid(model, train_dataloader, val_dataloader, num_epochs, learning_rate):\n",
    "    loss_function = nn.MSELoss(reduction='mean')\n",
    "    \n",
    "    # loss2_fun = nn.MSELoss(reduction=\"mean\")\n",
    "    optimiser = torch.optim.Adam(model.parameters(), lr = learning_rate)\n",
    "\n",
    "    # train_loss, val_loss = np.zeros(num_epochs), np.zeros(num_epochs)\n",
    "    train_loss = np.zeros(num_epochs)\n",
    "    val_loss = np.zeros(num_epochs)\n",
    "    lt_loss = np.zeros(num_epochs)\n",
    "\n",
    "    min_val_loss = 1.\n",
    "    for epoch in tqdm(range(num_epochs)):\n",
    "        # Loop over batch values \n",
    "        runningLoss_train = 0. \n",
    "\n",
    "        for idx, (batch_inputs, batch_targets) in enumerate(train_dataloader):\n",
    "            \n",
    "            # Save batch on GPU\n",
    "            batch_inputs, batch_targets = batch_inputs.to(DEVICE), batch_targets.to(DEVICE)\n",
    "\n",
    "            # Means we are training the model, so uses techniques such as dropout etc., otherwise model.train(model=False)\n",
    "            model.train() \n",
    "\n",
    "            #set gradients to zero\n",
    "            optimiser.zero_grad()\n",
    "            preds = model(batch_inputs.permute(0,2,1))\n",
    "            # print(f'shape of training predictions: {preds.shape}')\n",
    "        \n",
    "            loss = loss_function(preds, batch_targets)\n",
    "            # loss_manual = mse_loss(preds, batch_targets.permute(0,2,1), reduction='mean')\n",
    "            # print(f'preds shape: {preds.shape}')\n",
    "            # print(f'targets shape: {batch_targets.permute(0,2,1).shape}')\n",
    "            # print(f'loss automatic: {loss.item()}')\n",
    "            # print(f'loss manual: {loss_manual}')            \n",
    "\n",
    "            loss.backward()\n",
    "            optimiser.step()\n",
    "            runningLoss_train += loss.item()\n",
    "\n",
    "        train_loss[epoch] = runningLoss_train / len(train_dataloader)\n",
    "\n",
    "        print(f\"Epoch: [{epoch + 1}/{num_epochs}]\", f\"Training loss: {runningLoss_train/len(train_dataloader)}\")\n",
    "\n",
    "        # Evaluate on validation set\n",
    "\n",
    "        model.eval() # means we are evaluating the model, stops process such as dropout etc. \n",
    "        runningLoss_val = 0.\n",
    "\n",
    "        with torch.no_grad(): # makes sure gradient is not stored \n",
    "            for idx, (batch_inputs, batch_targets) in enumerate(val_dataloader):\n",
    "                \n",
    "                batch_inputs, batch_targets = batch_inputs.to(DEVICE), batch_targets.to(DEVICE)\n",
    "                optimiser.zero_grad() #WHY?\n",
    "                preds = model(batch_inputs.permute(0,2,1)) # permute to make the input shape (samples, features, input_window_size)\n",
    "                # print(f'shape of validation predictions: {preds.shape}')\n",
    "\n",
    "                loss = loss_function(preds, batch_targets) #permute targets to make it same shape as preds\n",
    "                runningLoss_val += loss.item()\n",
    "\n",
    "        val_loss[epoch] = runningLoss_val/len(val_dataloader)\n",
    "\n",
    "        print(f\"Epoch: [{epoch + 1}/{num_epochs}]\", f\"Validation loss: {runningLoss_val/len(val_dataloader)}\")\n",
    "\n",
    "         #Measure long term error \n",
    "        lt_loss_criterion = nn.L1Loss() #long term loss criterion (l1 loss measures MAE for 99 steps in the future)\n",
    "        future_window=200\n",
    "        runningLoss_val_lt = 0.\n",
    "\n",
    "        with torch.no_grad(): # makes sure gradient is not stored \n",
    "            for idx, (batch_inputs, batch_targets) in enumerate(val_lt_dataloader):\n",
    "\n",
    "                batch_inputs, batch_targets = batch_inputs.to(DEVICE), batch_targets.to(DEVICE)\n",
    "                \n",
    "                future_preds = torch.zeros((batch_inputs.shape[0], 200, 6)).to(DEVICE) #would store the predicted outputs for 200 timesteps\n",
    "                \n",
    "                # loop to calculate all 200 preds in the future\n",
    "                for t in range(0,future_window):\n",
    "                    optimiser.zero_grad()\n",
    "                    preds = model(batch_inputs.permute(0,2,1))\n",
    "\n",
    "                    # print(f'preds.shape: {preds.shape}')\n",
    "                    # print(f'future_preds[:,t,:].shape: {future_preds[:,t,:].shape}')\n",
    "                    future_preds[:,t,:] = preds.squeeze()\n",
    "                    new_batch_inputs = torch.cat((batch_inputs, preds),1)\n",
    "                    batch_inputs = new_batch_inputs[:,1:,:]\n",
    "                \n",
    "                #Evalute long term predictions\n",
    "                # print(f'future_preds[101:].shape: {future_preds[:,101:,:].shape}')\n",
    "                loss = lt_loss_criterion(future_preds[:,101:,:], batch_targets[:,101:,:])\n",
    "                runningLoss_val_lt += loss.item()\n",
    "\n",
    "        lt_loss[epoch] = runningLoss_val_lt/len(val_lt_dataloader)\n",
    "\n",
    "\n",
    "        print(f\"Epoch: [{epoch + 1}/{num_epochs}]\", f\"Long term Validation loss: {runningLoss_val_lt/len(val_lt_dataloader)}\")\n",
    "\n",
    "\n",
    "        if val_loss[epoch] < min_val_loss:\n",
    "\n",
    "            # print('YAY, new best value')\n",
    "            min_val_loss = val_loss[epoch]\n",
    "\n",
    "            torch.save({\n",
    "                        'epoch': epoch,\n",
    "                        'model_state_dict': model.state_dict(),\n",
    "                        'optimiser_state_dict': optimiser.state_dict(),\n",
    "                        'loss': val_loss[epoch],\n",
    "                        }, MODEL_PATH)\n",
    "                        \n",
    "\n",
    "    return train_loss, val_loss, lt_loss"
   ]
  },
  {
   "cell_type": "code",
   "execution_count": null,
   "metadata": {},
   "outputs": [],
   "source": [
    "# Set model hyperparameters \n",
    "# Train hybrid CNN-LSTM\n",
    "input_size=len(features)\n",
    "in_seq_len=input_window\n",
    "out_seq_len=output_window\n",
    "# kernel_size=1\n",
    "num_epochs=40\n",
    "learning_rate=1e-3\n",
    "output_size = len(features)\n",
    "hidden_size = 100\n",
    "num_layers=2\n",
    "\n",
    "model_hybrid = hybrid(input_size, output_size=output_size, hidden_size=hidden_size, num_layers=num_layers, stride=1, padding=0, in_seq_len=in_seq_len, out_seq_len=out_seq_len,  device = DEVICE).to(DEVICE)\n",
    "\n",
    "train_history, val_history, lt_history = train_hybrid(model_hybrid, train_dataloader=train_dataloader, val_dataloader=val_dataloader, num_epochs=num_epochs, learning_rate=learning_rate)\n"
   ]
  },
  {
   "cell_type": "markdown",
   "metadata": {},
   "source": [
    "#### Load Checkpoint Model"
   ]
  },
  {
   "cell_type": "code",
   "execution_count": null,
   "metadata": {},
   "outputs": [],
   "source": []
  },
  {
   "cell_type": "code",
   "execution_count": 465,
   "metadata": {},
   "outputs": [],
   "source": [
    "MODEL_PATH_CHECKPOINT = r'D:\\Study 2 Results and Models\\Study 2 Model Checkpoints' +  '\\\\' + 'Exp206-2022-08-18-LSTM-In100-Out1' + '.pt'"
   ]
  },
  {
   "cell_type": "code",
   "execution_count": 466,
   "metadata": {},
   "outputs": [
    {
     "data": {
      "text/plain": [
       "LSTM(\n",
       "  (lstm): LSTM(1, 7, batch_first=True)\n",
       "  (fc1): Linear(in_features=7, out_features=1, bias=True)\n",
       ")"
      ]
     },
     "execution_count": 466,
     "metadata": {},
     "output_type": "execute_result"
    }
   ],
   "source": [
    "#set parameters of the model \n",
    "input_size=len(features)\n",
    "hidden_size=7\n",
    "num_layers=3\n",
    "in_seq_len=input_window\n",
    "\n",
    "out_seq_len=output_window\n",
    "output_size=len(features)\n",
    "learning_rate= 0.001\n",
    "\n",
    "\n",
    "#Load checkpint model and its parameters\n",
    "checkpoint_model = LSTM(input_size=input_size, hidden_size=hidden_size, num_layers=num_layers, in_seq_len=in_seq_len, out_seq_len=out_seq_len, output_size=output_size, device=DEVICE).to(DEVICE)\n",
    "\n",
    "# checkpoint_model = CNN(input_size, output_size=output_size, in_seq_len=in_seq_len, out_seq_len=out_seq_len,  device = DEVICE).to(DEVICE)\n",
    "\n",
    "# checkpoint_model = MLP(input_size=input_size, in_seq_len=in_seq_len, out_seq_len=out_seq_len, output_size=output_size, device=DEVICE).to(DEVICE)\n",
    "optimiser = torch.optim.Adam(checkpoint_model.parameters(), lr = learning_rate)\n",
    "\n",
    "checkpoint = torch.load(MODEL_PATH_CHECKPOINT)\n",
    "checkpoint_model.load_state_dict(checkpoint['model_state_dict'])\n",
    "optimiser.load_state_dict(checkpoint['optimiser_state_dict'])\n",
    "best_epoch = checkpoint['epoch']\n",
    "best_val_loss = checkpoint['loss']\n",
    "\n",
    "checkpoint_model.eval()"
   ]
  },
  {
   "cell_type": "code",
   "execution_count": 467,
   "metadata": {},
   "outputs": [
    {
     "data": {
      "text/plain": [
       "'D:\\\\Study 2 Results and Models\\\\Study 2 Model Checkpoints\\\\Exp206-2022-08-18-LSTM-In100-Out1.pt'"
      ]
     },
     "execution_count": 467,
     "metadata": {},
     "output_type": "execute_result"
    }
   ],
   "source": [
    "MODEL_PATH_CHECKPOINT"
   ]
  },
  {
   "cell_type": "code",
   "execution_count": 468,
   "metadata": {},
   "outputs": [
    {
     "data": {
      "text/plain": [
       "24"
      ]
     },
     "execution_count": 468,
     "metadata": {},
     "output_type": "execute_result"
    }
   ],
   "source": [
    "best_epoch"
   ]
  },
  {
   "cell_type": "code",
   "execution_count": 469,
   "metadata": {},
   "outputs": [
    {
     "data": {
      "text/plain": [
       "7.497804424186726e-07"
      ]
     },
     "execution_count": 469,
     "metadata": {},
     "output_type": "execute_result"
    }
   ],
   "source": [
    "best_val_loss"
   ]
  },
  {
   "cell_type": "code",
   "execution_count": 470,
   "metadata": {},
   "outputs": [
    {
     "data": {
      "application/vnd.jupyter.widget-view+json": {
       "model_id": "8c9428c187e045dfb10475c4116ae19f",
       "version_major": 2,
       "version_minor": 0
      },
      "text/plain": [
       "0it [00:00, ?it/s]"
      ]
     },
     "metadata": {},
     "output_type": "display_data"
    },
    {
     "name": "stdout",
     "output_type": "stream",
     "text": [
      "val loss: 7.545969601273505e-07\n",
      "Shape of predicted values val normalised: (5169, 1, 1)\n",
      "shape of actual values val normalised: (5169, 1, 1)\n",
      "Shape of predicted values test after denormalisation: (5169, 1, 1)\n",
      "shape of actual values test after denormalisation: (5169, 1, 1)\n"
     ]
    }
   ],
   "source": [
    "preds_val_norm, actual_val_norm, val_loss = test_LSTM(checkpoint_model, val_dataloader, DEVICE)\n",
    "# preds_val_norm, actual_val_norm, val_loss = test_CNN(checkpoint_model, val_dataloader)\n",
    "# preds_val_norm, actual_val_norm, val_loss = test_MLP(checkpoint_model, val_dataloader)\n",
    "\n",
    "# predicted_values_val_H = pred_val_output_H.cpu().numpy()\n",
    "# actual_values_val_H = actual_val_output_H.cpu().numpy()\n",
    "\n",
    "print(f'val loss: {val_loss}')\n",
    "print(f'Shape of predicted values val normalised: {preds_val_norm.cpu().numpy().shape}')\n",
    "print(f'shape of actual values val normalised: {actual_val_norm.cpu().numpy().shape}')\n",
    "\n",
    "preds_val = denormalise(preds_val_norm.cpu().numpy(), scalars)\n",
    "actual_val = denormalise(actual_val_norm.cpu().numpy(), scalars)\n",
    "\n",
    "print(f'Shape of predicted values test after denormalisation: {preds_val.shape}')\n",
    "print(f'shape of actual values test after denormalisation: {preds_val.shape}')"
   ]
  },
  {
   "cell_type": "code",
   "execution_count": 471,
   "metadata": {},
   "outputs": [
    {
     "name": "stdout",
     "output_type": "stream",
     "text": [
      "Val MSE Loss: 0.0066236775302868514\n",
      "Val MSE std: 0.03763222694396973\n",
      "Val MAE Loss: 0.053835794482431316\n",
      "Val MAE std: 0.06103593111038208\n"
     ]
    }
   ],
   "source": [
    "val_mse_loss, val_mse_std = mse_loss(preds_val, actual_val, reduction='mean', format='np')\n",
    "val_mae_loss, val_mae_std = mae_loss(preds_val, actual_val, reduction='mean', format='np')\n",
    "\n",
    "print(f'Val MSE Loss: {val_mse_loss}')\n",
    "print(f'Val MSE std: {val_mse_std}')\n",
    "print(f'Val MAE Loss: {val_mae_loss}')\n",
    "print(f'Val MAE std: {val_mae_std}')"
   ]
  },
  {
   "cell_type": "code",
   "execution_count": 472,
   "metadata": {},
   "outputs": [
    {
     "ename": "IndexError",
     "evalue": "index 1 is out of bounds for axis 2 with size 1",
     "output_type": "error",
     "traceback": [
      "\u001b[1;31m---------------------------------------------------------------------------\u001b[0m",
      "\u001b[1;31mIndexError\u001b[0m                                Traceback (most recent call last)",
      "\u001b[1;32m~\\AppData\\Local\\Temp/ipykernel_8904/1735933970.py\u001b[0m in \u001b[0;36m<module>\u001b[1;34m\u001b[0m\n\u001b[1;32m----> 1\u001b[1;33m \u001b[0mdiff\u001b[0m \u001b[1;33m=\u001b[0m \u001b[0mabs\u001b[0m\u001b[1;33m(\u001b[0m\u001b[0mpreds_val\u001b[0m\u001b[1;33m[\u001b[0m\u001b[1;33m:\u001b[0m\u001b[1;33m,\u001b[0m\u001b[1;33m:\u001b[0m\u001b[1;33m,\u001b[0m\u001b[1;36m1\u001b[0m\u001b[1;33m]\u001b[0m \u001b[1;33m-\u001b[0m\u001b[0mactual_val\u001b[0m\u001b[1;33m[\u001b[0m\u001b[1;33m:\u001b[0m\u001b[1;33m,\u001b[0m\u001b[1;33m:\u001b[0m\u001b[1;33m,\u001b[0m\u001b[1;36m1\u001b[0m\u001b[1;33m]\u001b[0m\u001b[1;33m)\u001b[0m\u001b[1;33m\u001b[0m\u001b[1;33m\u001b[0m\u001b[0m\n\u001b[0m\u001b[0;32m      2\u001b[0m \u001b[0mplt\u001b[0m\u001b[1;33m.\u001b[0m\u001b[0mhist\u001b[0m\u001b[1;33m(\u001b[0m\u001b[0mdiff\u001b[0m\u001b[1;33m.\u001b[0m\u001b[0msqueeze\u001b[0m\u001b[1;33m(\u001b[0m\u001b[1;33m)\u001b[0m\u001b[1;33m,\u001b[0m \u001b[1;36m60\u001b[0m\u001b[1;33m)\u001b[0m\u001b[1;33m\u001b[0m\u001b[1;33m\u001b[0m\u001b[0m\n\u001b[0;32m      3\u001b[0m \u001b[0mplt\u001b[0m\u001b[1;33m.\u001b[0m\u001b[0mxlabel\u001b[0m\u001b[1;33m(\u001b[0m\u001b[1;34m'Error between actual and predictions (degrees)'\u001b[0m\u001b[1;33m)\u001b[0m\u001b[1;33m\u001b[0m\u001b[1;33m\u001b[0m\u001b[0m\n\u001b[0;32m      4\u001b[0m \u001b[0mplt\u001b[0m\u001b[1;33m.\u001b[0m\u001b[0mylabel\u001b[0m\u001b[1;33m(\u001b[0m\u001b[1;34m'Frequency'\u001b[0m\u001b[1;33m)\u001b[0m\u001b[1;33m\u001b[0m\u001b[1;33m\u001b[0m\u001b[0m\n\u001b[0;32m      5\u001b[0m \u001b[0mplt\u001b[0m\u001b[1;33m.\u001b[0m\u001b[0mshow\u001b[0m\u001b[1;33m(\u001b[0m\u001b[1;33m)\u001b[0m\u001b[1;33m\u001b[0m\u001b[1;33m\u001b[0m\u001b[0m\n",
      "\u001b[1;31mIndexError\u001b[0m: index 1 is out of bounds for axis 2 with size 1"
     ]
    }
   ],
   "source": [
    "diff = abs(preds_val[:,:,1] -actual_val[:,:,1])\n",
    "plt.hist(diff.squeeze(), 60)\n",
    "plt.xlabel('Error between actual and predictions (degrees)')\n",
    "plt.ylabel('Frequency')\n",
    "plt.show()"
   ]
  },
  {
   "cell_type": "markdown",
   "metadata": {},
   "source": [
    "#### Plot MAE for individual steps"
   ]
  },
  {
   "cell_type": "code",
   "execution_count": 446,
   "metadata": {},
   "outputs": [
    {
     "name": "stdout",
     "output_type": "stream",
     "text": [
      "MAE loss and standard deviation for timestep 1 is: (0.03066356538642327, 0.026002726)\n"
     ]
    },
    {
     "data": {
      "text/plain": [
       "(5169, 1, 1)"
      ]
     },
     "execution_count": 446,
     "metadata": {},
     "output_type": "execute_result"
    }
   ],
   "source": [
    "mae_timesteps_H = []\n",
    "for s in range(output_window):\n",
    "    # print(s)\n",
    "    _ = mae_loss(np.expand_dims(preds_val[:,s,:],-1), np.expand_dims(actual_val[:,s,:],-1), reduction='mean', format='np')\n",
    "    mae_timesteps_H.append(_)\n",
    "\n",
    "    print(f'MAE loss and standard deviation for timestep {s+1} is: {mae_timesteps_H[s]}')\n",
    "\n",
    "preds_val[:,:,:].shape"
   ]
  },
  {
   "cell_type": "code",
   "execution_count": 447,
   "metadata": {},
   "outputs": [
    {
     "name": "stdout",
     "output_type": "stream",
     "text": [
      "0.1351663081858524\n"
     ]
    },
    {
     "name": "stderr",
     "output_type": "stream",
     "text": [
      "C:\\Users\\Rania\\AppData\\Local\\Temp/ipykernel_8904/2277388609.py:7: RuntimeWarning: divide by zero encountered in log\n",
      "  plt.plot(np.log(np.abs(r_history[:])), label='Val R values (absolute value)')\n"
     ]
    },
    {
     "data": {
      "image/png": "[encoded data removed]",
      "text/plain": [
       "<Figure size 1440x720 with 1 Axes>"
      ]
     },
     "metadata": {},
     "output_type": "display_data"
    }
   ],
   "source": [
    "rcParams['figure.figsize'] = 20,10\n",
    "\n",
    "\n",
    "plt.plot(np.log(train_history[:]), label = 'Training loss')\n",
    "plt.plot(np.log(val_history[:]), label = 'Val loss')\n",
    "plt.plot(np.log(lt_history[:]), label='Long term preds loss')\n",
    "plt.plot(np.log(np.abs(r_history[:])), label='Val R values (absolute value)')\n",
    "plt.axhline(np.min(np.log(lt_history)), label='mininum long term loss')\n",
    "print(np.min(lt_history))\n",
    "plt.xlabel('Iterations')\n",
    "plt.ylabel('Log MSE Loss')\n",
    "plt.title('Training and Validation MSE Loss')\n",
    "plt.legend()\n",
    "plt.show()"
   ]
  },
  {
   "cell_type": "code",
   "execution_count": 448,
   "metadata": {},
   "outputs": [
    {
     "data": {
      "text/plain": [
       "array([0., 0., 0., 0., 0., 0., 0., 0., 0., 0., 0., 0., 0., 0., 0., 0., 0.,\n",
       "       0., 0., 0.])"
      ]
     },
     "execution_count": 448,
     "metadata": {},
     "output_type": "execute_result"
    }
   ],
   "source": [
    "r_history"
   ]
  },
  {
   "cell_type": "code",
   "execution_count": 449,
   "metadata": {},
   "outputs": [
    {
     "data": {
      "image/png": "[encoded data removed]",
      "text/plain": [
       "<Figure size 1440x720 with 1 Axes>"
      ]
     },
     "metadata": {},
     "output_type": "display_data"
    }
   ],
   "source": [
    "rcParams['figure.figsize'] = 20,10\n",
    "\n",
    "\n",
    "plt.plot(train_history[:], label = 'Training loss')\n",
    "plt.plot(val_history[:], label = 'Val loss')\n",
    "# plt.plot(lt_history[:], label='Long/ term preds loss')\n",
    "# plt.axhline(np.min(lt_history))\n",
    "plt.xlabel('Iterations')\n",
    "plt.ylabel('MSE Loss')\n",
    "plt.title('Training and Validation MSE Loss')\n",
    "plt.legend()\n",
    "plt.show()"
   ]
  },
  {
   "cell_type": "code",
   "execution_count": 450,
   "metadata": {},
   "outputs": [
    {
     "data": {
      "text/plain": [
       "array([0.06345001, 0.0625291 , 0.06161936, 0.0607209 , 0.05983384,\n",
       "       0.05895824, 0.05809412, 0.05724149, 0.05640026, 0.05557033,\n",
       "       0.05475151, 0.05394359, 0.05314629, 0.05235938, 0.05158259,\n",
       "       0.05081572, 0.05005861, 0.04931112, 0.04857319, 0.04784475])"
      ]
     },
     "execution_count": 450,
     "metadata": {},
     "output_type": "execute_result"
    }
   ],
   "source": [
    "train_history"
   ]
  },
  {
   "cell_type": "code",
   "execution_count": null,
   "metadata": {},
   "outputs": [],
   "source": [
    "\n",
    "# pred_val_output, actual_val_output, val_loss = test_LSTM(model_LSTM, val_dataloader, DEVICE)\n",
    "\n",
    "# predicted_values_val = pred_val_output.cpu().numpy()\n",
    "# actual_values_val = actual_val_output.cpu().numpy()\n",
    "\n",
    "# print(f'val loss: {val_loss}')\n",
    "# print(f'Shape of predicted values test: {predicted_values_val.shape}')\n",
    "# print(f'shape of actual values test: {actual_values_val.shape}')\n",
    "\n",
    "# predicted_val_denorm = denormalise(predicted_values_val, scalars)\n",
    "# actual_val_denorm = denormalise(actual_values_val, scalars)\n",
    "\n",
    "# print(f'Shape of predicted values test post denormalisation: {predicted_val_denorm.shape}')\n",
    "# print(f'shape of actual values test post denormalisation: {actual_val_denorm.shape}')"
   ]
  },
  {
   "cell_type": "code",
   "execution_count": null,
   "metadata": {},
   "outputs": [],
   "source": [
    "# val_mse_loss, val_mse_std = mse_loss(predicted_val_denorm, actual_val_denorm, reduction='mean', format='np')\n",
    "# val_mae_loss, val_mae_std = mae_loss(predicted_val_denorm, actual_val_denorm, reduction='mean', format='np')\n",
    "\n",
    "# print(f'Val MSE Loss: {val_mse_loss}')\n",
    "# print(f'Val MSE std: {val_mse_std}')\n",
    "# print(f'Val MAE Loss: {val_mae_loss}')\n",
    "# print(f'Val MAE std: {val_mae_std}')"
   ]
  },
  {
   "cell_type": "code",
   "execution_count": null,
   "metadata": {},
   "outputs": [],
   "source": [
    "# val_dataset = gaitDataset(X_val, Y_val) #ADJUSTED\n",
    "# # val_dataloader = DataLoader(val_dataset, batch_size=len(val_dataset), shuffle=False)\n",
    "# val_dataloader = DataLoader(val_dataset, batch_size=32, shuffle=False)\n",
    "\n",
    "\n",
    "# print(f\"Train Dataset length: {len(train_dataset)}\")\n",
    "# print(f\"Val Dataset length: {len(val_dataset)}\")"
   ]
  },
  {
   "cell_type": "code",
   "execution_count": null,
   "metadata": {},
   "outputs": [],
   "source": [
    "# pred_val_output, actual_val_output, val_loss = test_LSTM(model_LSTM, val_dataloader, DEVICE)\n",
    "\n",
    "# predicted_values_val = pred_val_output.cpu().numpy()\n",
    "# actual_values_val = actual_val_output.cpu().numpy()\n",
    "\n",
    "# print(f'val loss: {val_loss}')\n",
    "# print(f'Shape of predicted values test: {predicted_values_val.shape}')\n",
    "# print(f'shape of actual values test: {actual_values_val.shape}')\n",
    "\n",
    "# predicted_val_denorm = denormalise(predicted_values_val, scalars)\n",
    "# actual_val_denorm = denormalise(actual_values_val, scalars)\n",
    "\n",
    "# print(f'Shape of predicted values test post denormalisation: {predicted_val_denorm.shape}')\n",
    "# print(f'shape of actual values test post denormalisation: {actual_val_denorm.shape}')"
   ]
  },
  {
   "cell_type": "code",
   "execution_count": null,
   "metadata": {},
   "outputs": [],
   "source": [
    "# val_mse_loss, val_mse_std = mse_loss(predicted_val_denorm, actual_val_denorm, reduction='mean', format='np')\n",
    "# val_mae_loss, val_mae_std = mae_loss(predicted_val_denorm, actual_val_denorm, reduction='mean', format='np')\n",
    "\n",
    "# print(f'Val MSE Loss: {val_mse_loss}')\n",
    "# print(f'Val MSE std: {val_mse_std}')\n",
    "# print(f'Val MAE Loss: {val_mae_loss}')\n",
    "# print(f'Val MAE std: {val_mae_std}')"
   ]
  },
  {
   "cell_type": "markdown",
   "metadata": {},
   "source": [
    "### Visualise Predictions"
   ]
  },
  {
   "cell_type": "code",
   "execution_count": null,
   "metadata": {},
   "outputs": [],
   "source": [
    "from matplotlib import rcParams"
   ]
  },
  {
   "cell_type": "code",
   "execution_count": null,
   "metadata": {},
   "outputs": [],
   "source": [
    "# s_num = 1 #sample number \n",
    "# f = 2 #feature\n",
    "\n",
    "# samples = [2,3,4,3,2]\n",
    "# f_values = [0,1,2,3,4,5]\n",
    "# for s_num in samples:\n",
    "#     for f in f_values:\n",
    "\n",
    "#         input = X_val_data[s_num,:,f]\n",
    "\n",
    "#         # print(f'input length: {len(input)}')\n",
    "#         actual = actual_val[s_num,:,f]\n",
    "#         preds = preds_val[s_num,:,f]\n",
    "        \n",
    "#         past_timepoints = np.arange(0,len(input))\n",
    "#         # print(f'past_timepoints: {past_timepoints}')\n",
    "\n",
    "#         future_timepoints = np.arange(len(input), len(input)+len(preds))\n",
    "#         # print(f'future_timepoints: {future_timepoints}')\n",
    "\n",
    "#         rcParams['figure.figsize'] = 19,6\n",
    "\n",
    "#         # ax = sns.lineplot(x=past_timepoints[-20:], y=input[-20:]) #only plots last 20 values of input\n",
    "#         ax = sns.lineplot(x=past_timepoints[:], y=input[:])\n",
    "\n",
    "#         # ax.fill_between(x=past_timepoints, y1=input_stats, y2=input_stats, alpha=0.1)\n",
    "#         ax = sns.lineplot(x=future_timepoints, y=preds)\n",
    "#         ax = sns.lineplot(x=future_timepoints, y=actual)\n",
    "#         ax.set_xlabel('Time-step', fontsize =15)\n",
    "#         ax.set_ylabel('Angle (degrees)', fontsize =15)\n",
    "#         ax.set_title(f'Sample {s_num} - Feature {f} - {labels_keys[f]}')\n",
    "#         plt.figure()\n"
   ]
  },
  {
   "cell_type": "markdown",
   "metadata": {},
   "source": [
    "## Test Models\n"
   ]
  },
  {
   "cell_type": "markdown",
   "metadata": {},
   "source": [
    "#### Load Test Data"
   ]
  },
  {
   "cell_type": "code",
   "execution_count": null,
   "metadata": {},
   "outputs": [],
   "source": [
    "file_dir = r'D:\\Study 2 Data\\Healthy Gait\\Val'\n",
    "# file_dir = f'D:\\Study 2 Data\\Healthy Gait\\evaluate'\n",
    "test_files = os.listdir(file_dir) \n",
    "\n",
    "# Changes the working directory to get the data from their location \n",
    "os.chdir(file_dir)\n",
    "cwd = os.getcwd()\n",
    "\n",
    "print(f'Current working directory is: {cwd}')\n",
    "print(f\"There are {len(test_files)} files in the specified path.\")\n",
    "\n",
    "test_files\n"
   ]
  },
  {
   "cell_type": "code",
   "execution_count": null,
   "metadata": {},
   "outputs": [],
   "source": [
    "val_subjects"
   ]
  },
  {
   "cell_type": "code",
   "execution_count": null,
   "metadata": {},
   "outputs": [],
   "source": [
    "test_data = create_dataframe(test_files, all_features)"
   ]
  },
  {
   "cell_type": "code",
   "execution_count": null,
   "metadata": {},
   "outputs": [],
   "source": [
    "test_data.shape"
   ]
  },
  {
   "cell_type": "code",
   "execution_count": null,
   "metadata": {},
   "outputs": [],
   "source": [
    "test_samples = count_nsamples(test_data)"
   ]
  },
  {
   "cell_type": "code",
   "execution_count": null,
   "metadata": {},
   "outputs": [],
   "source": [
    "def pd_to_np_converter(data, n_samples, features):\n",
    "    #create a numpy array that stores the data for export\n",
    "    sample_ID = []\n",
    "    # patients = 2\n",
    "    # n_trials = 10\n",
    "    # # samples = patients * n_trials\n",
    "    data_store = np.zeros((n_samples, 2500, len(features)), dtype=np.float32)\n",
    "    i = 0\n",
    "\n",
    "    for p in data['Patient ID'].unique(): #loop over patients \n",
    "        for t in data['Trial'].unique(): #loop over trials starting with trials 1 to trial 9 (inclusive)\n",
    "            pd_array = data[(data['Patient ID'] == p) & (data['Trial'] == t)]\n",
    "            if pd_array.empty:\n",
    "                continue\n",
    "                # print('DataFrame is empty!')\n",
    "                # print(f'Trail {t} does not exist in {p}')\n",
    "            else:\n",
    "                np_array = pd_array.to_numpy()\n",
    "                data_store[i, :np_array.shape[0], :] = np_array[:,3:] #[:,3:] is because we are\n",
    "                sample_ID.append(p+ ' Ts'+str(t)) \n",
    "                i +=1\n",
    "\n",
    "    return pd_array.columns, data_store"
   ]
  },
  {
   "cell_type": "code",
   "execution_count": null,
   "metadata": {},
   "outputs": [],
   "source": [
    "test_columns, test_data_np = pd_to_np_converter(test_data, test_samples, features)\n",
    "\n",
    "print(f'test_data_np.shape: {test_data_np.shape}')\n",
    "\n",
    "test_columns"
   ]
  },
  {
   "cell_type": "code",
   "execution_count": null,
   "metadata": {},
   "outputs": [],
   "source": [
    "# Selecting the features to be used when creating windows \n",
    "# approx_seq_len = 2500 # appoximate the length of the longest sequence that can be encountered \n",
    "# samples_per_file = ((approx_seq_len - (input_window+output_window)) // stride) + 1 #number of window samples generated per file \n",
    "samples_per_file = 2000\n",
    "\n",
    "\n",
    "# create a zero-filled 3D array with shape (number of samples * number of files, window size, number of features)\n",
    "X_test_windows = np.zeros((samples_per_file*test_samples, input_window, len(features)), dtype=np.float32) #size can be reduced by decreasing train_size \n",
    "Y_test_windows = np.zeros((samples_per_file*test_samples, output_window, len(features)), dtype=np.float32) \n",
    "\n",
    "\n",
    "start_idx = 0 #setting start index to equal zero \n",
    "test_sample_sum = 0\n",
    "test_excluded_samples = []\n",
    "# Create training windows \n",
    "\n",
    "#for i in tqdm(range(train_size)): #Use for including all data including outliers \n",
    "for i in range(test_samples): \n",
    "       \n",
    "    X_values, Y_values = window_generator_fltrd(\n",
    "        test_data_np[i,:,:],\n",
    "        input_window=input_window, \n",
    "        output_window=output_window, \n",
    "        stride=stride, \n",
    "        features=features,\n",
    "        labels=labels\n",
    "        )\n",
    "\n",
    "    end_idx = start_idx + X_values.shape[0]\n",
    "\n",
    "    # print(f'file number [{f}] start index: {start_idx}, end index: {end_idx}, number of samples: {X_values.shape[0]}')\n",
    "\n",
    "    X_test_windows[start_idx:end_idx, :, :] = X_values\n",
    "    Y_test_windows[start_idx:end_idx, :, :] = Y_values\n",
    "\n",
    "    # print(f'number of samples copied: {X_train_data_store[start_idx:end_idx, :, :].shape[0]}')\n",
    "\n",
    "    start_idx = end_idx \n",
    "    test_sample_sum += X_values.shape[0]\n",
    "\n",
    "    # except Exception:\n",
    "    #     exception_msg(i)\n",
    "    #     train_excluded_samples.append(i)\n",
    "\n",
    "# print(f\"Completed storage of training windows samples, which contains {X_train_data_store.shape[0]} samples\")\n",
    "X_test_data = X_test_windows[:end_idx, :, :]\n",
    "Y_test_data = Y_test_windows[:end_idx, :, :]\n",
    "\n",
    "\n",
    "print(f'shape of X_test_windows: {X_test_windows.shape}')\n",
    "print(f'shape of Y_test_windows: {Y_test_windows.shape}')\n",
    "\n",
    "print(f'shape of X_test_data: {X_test_data.shape}')\n",
    "print(f'shape of Y_test_data: {Y_test_data.shape}')"
   ]
  },
  {
   "cell_type": "markdown",
   "metadata": {},
   "source": [
    "#### Prepare Data for hModel"
   ]
  },
  {
   "cell_type": "code",
   "execution_count": null,
   "metadata": {},
   "outputs": [],
   "source": [
    "hModel_X_test_norm = normalise_transform(X_test_data, scalars)\n",
    "hModel_Y_test_norm = normalise_transform(Y_test_data, scalars)"
   ]
  },
  {
   "cell_type": "code",
   "execution_count": null,
   "metadata": {},
   "outputs": [],
   "source": [
    "# Plot histogram of the data \n",
    "for f in range(len(features)):\n",
    "    plt.hist(hModel_X_test_norm[:,:,f].reshape(-1,1), bins=50, label = features[f])\n",
    "    plt.legend()\n",
    "    plt.show()"
   ]
  },
  {
   "cell_type": "code",
   "execution_count": null,
   "metadata": {},
   "outputs": [],
   "source": [
    "# Plot histogram of the data \n",
    "for f in range(len(features)):\n",
    "    plt.hist(X_test_data[:,:,f].reshape(-1,1), bins=50, label = features[f])\n",
    "    plt.legend()\n",
    "    plt.show()"
   ]
  },
  {
   "cell_type": "code",
   "execution_count": null,
   "metadata": {},
   "outputs": [],
   "source": [
    "# Convert to Tensor \n",
    "# do not store on GPU (yet)\n",
    "hModel_X_test_tensor = torch.from_numpy(hModel_X_test_norm).float()\n",
    "hModel_Y_test_tensor = torch.from_numpy(hModel_Y_test_norm).float()\n",
    "\n",
    "print(f'hModel_X_test_tensor shape: {hModel_X_test_tensor.shape}')\n",
    "print(f'hModel_Y_test_tensor shape: {hModel_Y_test_tensor.shape}')\n"
   ]
  },
  {
   "cell_type": "code",
   "execution_count": null,
   "metadata": {},
   "outputs": [],
   "source": [
    "# #only use if predicting one feature\n",
    "# hModel_Y_test_tensor = hModel_Y_test_tensor[:,:,1].unsqueeze(-1)\n",
    "\n",
    "# print(f'hModel_Y_test_tensor shape: {hModel_Y_test_tensor.shape}')"
   ]
  },
  {
   "cell_type": "code",
   "execution_count": null,
   "metadata": {},
   "outputs": [],
   "source": [
    "hModel_test_dataset = gaitDataset(hModel_X_test_tensor, hModel_Y_test_tensor)\n",
    "# train_dataloader = DataLoader(train_dataset, batch_size=len(train_dataset), shuffle = False)\n",
    "hModel_test_dataloader = DataLoader(hModel_test_dataset, batch_size=32, shuffle = False)\n",
    "# hModel_test_dataloader = DataLoader(hModel_test_dataset, batch_size=16, shuffle = False)"
   ]
  },
  {
   "cell_type": "markdown",
   "metadata": {},
   "source": [
    "#### Load Healthy Model"
   ]
  },
  {
   "cell_type": "code",
   "execution_count": null,
   "metadata": {},
   "outputs": [],
   "source": [
    "H_MODEL_PATH = r'D:\\Study 2 Results and Models\\Study 2 Model Checkpoints' +  '\\\\' + 'Exp202-2022-08-10-LSTM-In100-Out1' + '.pt'"
   ]
  },
  {
   "cell_type": "code",
   "execution_count": null,
   "metadata": {},
   "outputs": [],
   "source": [
    "#set parameters of the model \n",
    "input_size=len(features)\n",
    "hidden_size=100\n",
    "num_layers=2\n",
    "in_seq_len=input_window\n",
    "out_seq_len=output_window\n",
    "output_size=len(features)\n",
    "learning_rate= 0.001\n",
    "\n",
    "\n",
    "hModel = LSTM(input_size    =input_size, hidden_size=hidden_size, num_layers=num_layers, in_seq_len=in_seq_len, out_seq_len=out_seq_len, output_size=output_size, device=DEVICE).to(DEVICE)\n",
    "# hModel = MLP(input_size=input_size, in_seq_len=in_seq_len, out_seq_len=out_seq_len, output_size=output_size, device=DEVICE).to(DEVICE)\n",
    "# hModel = CNN(input_size, output_size=output_size, in_seq_len=in_seq_len, out_seq_len=out_seq_len,  device = DEVICE).to(DEVICE)\n",
    "\n",
    "optimiser = torch.optim.Adam(hModel.parameters(), lr = learning_rate)\n",
    "\n",
    "checkpoint = torch.load(H_MODEL_PATH)\n",
    "hModel.load_state_dict(checkpoint['model_state_dict'])\n",
    "optimiser.load_state_dict(checkpoint['optimiser_state_dict'])\n",
    "best_epoch_hModel = checkpoint['epoch']\n",
    "best_val_loss_hModel = checkpoint['loss']\n",
    "\n",
    "hModel.eval()"
   ]
  },
  {
   "cell_type": "code",
   "execution_count": null,
   "metadata": {},
   "outputs": [],
   "source": [
    "H_MODEL_PATH"
   ]
  },
  {
   "cell_type": "code",
   "execution_count": null,
   "metadata": {},
   "outputs": [],
   "source": [
    "best_epoch_hModel"
   ]
  },
  {
   "cell_type": "code",
   "execution_count": null,
   "metadata": {},
   "outputs": [],
   "source": [
    "best_val_loss_hModel"
   ]
  },
  {
   "cell_type": "code",
   "execution_count": null,
   "metadata": {},
   "outputs": [],
   "source": [
    "# hModel_preds_norm, hModel_actual_norm, hmodel_loss = test_LSTM(hModel, hModel_test_dataloader, DEVICE)\n",
    "# hModel_preds_norm, hModel_actual_norm, hmodel_loss = test_CNN(hModel, hModel_test_dataloader)\n",
    "\n",
    "hModel_preds_norm, hModel_actual_norm, hmodel_loss = test_MLP(hModel, hModel_test_dataloader)\n",
    "\n",
    "\n",
    "# H_model_predicted_values = hModel_preds_norm.cpu().numpy()\n",
    "# H_model_actual_values = hModel_actual_norm.cpu().numpy()\n",
    "\n",
    "print(f'hmodel loss: {hmodel_loss}')\n",
    "print(f'Shape of predicted values test: {hModel_preds_norm.cpu().numpy().shape}')\n",
    "print(f'shape of actual values test: {hModel_actual_norm.cpu().numpy().shape}')\n",
    "\n",
    "# hModel_preds = denormalise(hModel_preds_norm.cpu().numpy(), healthy_scalars)\n",
    "hModel_preds = denormalise(hModel_preds_norm.cpu().numpy(), scalars) #UNCOMMENT FOR PREDS shape (batch_size, num_features)\n",
    "hModel_actual = denormalise(hModel_actual_norm.cpu().numpy(), scalars)\n",
    "\n",
    "\n",
    "print(f'Shape of predicted values test post denormalisation: {hModel_preds.shape}')\n",
    "print(f'shape of actual values test post denormalisation: {hModel_actual.shape}')"
   ]
  },
  {
   "cell_type": "code",
   "execution_count": null,
   "metadata": {},
   "outputs": [],
   "source": [
    "hModel_mse_loss, hModel_mse_std = mse_loss(hModel_preds, hModel_actual, reduction='mean', format='np')\n",
    "hModel_mae_loss, hModel_mae_std = mae_loss(hModel_preds, hModel_actual, reduction='mean', format='np')\n",
    "\n",
    "print('Losses for Healthy trained model')\n",
    "print(f'hmodel MSE Loss: {hModel_mse_loss}')\n",
    "print(f'hmodel MSE std: {hModel_mse_std}')\n",
    "print(f'hmodel MAE Loss: {hModel_mae_loss}')\n",
    "print(f'hmodel MAE std: {hModel_mae_std}')"
   ]
  },
  {
   "cell_type": "markdown",
   "metadata": {},
   "source": [
    "#### Load CP Data for CP Model"
   ]
  },
  {
   "cell_type": "code",
   "execution_count": null,
   "metadata": {},
   "outputs": [],
   "source": [
    "# file_dir = r'D:\\Study 2 Data\\CP Gait\\Val'\n",
    "# cp_files = os.listdir(file_dir) \n",
    "\n",
    "# # Changes the working directory to get the data from their location \n",
    "# os.chdir(file_dir)\n",
    "# cwd = os.getcwd()\n",
    "\n",
    "# print(f'Current working directory is: {cwd}')\n",
    "# print(f\"There are {len(cp_files)} files in the specified path.\")\n",
    "\n",
    "# cp_files\n"
   ]
  },
  {
   "cell_type": "code",
   "execution_count": null,
   "metadata": {},
   "outputs": [],
   "source": [
    "# CP_data = create_dataframe(cp_files, all_features)"
   ]
  },
  {
   "cell_type": "code",
   "execution_count": null,
   "metadata": {},
   "outputs": [],
   "source": [
    "# CP_data.shape"
   ]
  },
  {
   "cell_type": "code",
   "execution_count": null,
   "metadata": {},
   "outputs": [],
   "source": [
    "# CP_samples = count_nsamples(CP_data)"
   ]
  },
  {
   "cell_type": "code",
   "execution_count": null,
   "metadata": {},
   "outputs": [],
   "source": [
    "# def pd_to_np_converter(data, n_samples, features):\n",
    "#     #create a numpy array that stores the data for export\n",
    "#     sample_ID = []\n",
    "#     # patients = 2\n",
    "#     # n_trials = 10\n",
    "#     # # samples = patients * n_trials\n",
    "#     data_store = np.zeros((n_samples, 2500, len(features)), dtype=np.float32)\n",
    "#     i = 0\n",
    "\n",
    "#     for p in data['Patient ID'].unique(): #loop over patients \n",
    "#         for t in data['Trial'].unique(): #loop over trials starting with trials 1 to trial 9 (inclusive)\n",
    "#             pd_array = data[(data['Patient ID'] == p) & (data['Trial'] == t)]\n",
    "#             if pd_array.empty:\n",
    "#                 continue\n",
    "#                 # print('DataFrame is empty!')\n",
    "#                 # print(f'Trail {t} does not exist in {p}')\n",
    "#             else:\n",
    "#                 np_array = pd_array.to_numpy()\n",
    "#                 data_store[i, :np_array.shape[0], :] = np_array[:,3:] \n",
    "#                 sample_ID.append(p+ ' Ts'+str(t)) \n",
    "#                 i +=1\n",
    "\n",
    "#     return pd_array.columns, data_store"
   ]
  },
  {
   "cell_type": "code",
   "execution_count": null,
   "metadata": {},
   "outputs": [],
   "source": [
    "# CP_columns, CP_data_np = pd_to_np_converter(CP_data, CP_samples, features)\n",
    "\n",
    "# print(f'CP_data_np.shape: {CP_data_np.shape}')\n"
   ]
  },
  {
   "cell_type": "code",
   "execution_count": null,
   "metadata": {},
   "outputs": [],
   "source": [
    "# # CHECKKKKKKKKKKKKKKKKKKKKKKKKKKKKKKKKKKKKKKKKKKKKKKKKKKKKKKKKKKKKKKKKKKKKKKKKKKKKKKKKKKKKKKKKKKKKKKKKKKKKKKKKKKKKKKKKKKKKKKKKKKKKKKKKKKKKKKKKKKKKKKKKKKKKKKKKKKKKKKKKKKKKKKKKKK\n",
    "# # Selecting the features to be used when creating windows \n",
    "# approx_seq_len = 2500 # appoximate the length of the longest sequence that can be encountered \n",
    "# # samples_per_file = ((approx_seq_len - (input_window+output_window)) // stride) + 1 #number of window samples generated per file \n",
    "# samples_per_file = 2000\n",
    "\n",
    "\n",
    "# # create a zero-filled 3D array with shape (number of samples * number of files, window size, number of features)\n",
    "# X_CP_windows = np.zeros((samples_per_file*CP_samples, input_window, len(features)), dtype=np.float32) #size can be reduced by decreasing train_size \n",
    "# Y_CP_windows = np.zeros((samples_per_file*CP_samples, output_window, len(features)), dtype=np.float32) \n",
    "\n",
    "\n",
    "# start_idx = 0 #setting start index to equal zero \n",
    "# CP_sample_sum = 0\n",
    "# CP_excluded_samples = []\n",
    "# # Create training windows \n",
    "\n",
    "# #for i in tqdm(range(train_size)): #Use for including all data including outliers \n",
    "# for i in range(CP_samples): \n",
    "       \n",
    "#     X_values, Y_values = window_generator(\n",
    "#         CP_data_np[i,:,:],\n",
    "#         input_window=input_window, \n",
    "#         output_window=output_window, \n",
    "#         stride=stride, \n",
    "#         features=features,\n",
    "#         labels=labels\n",
    "#         )\n",
    "\n",
    "#     end_idx = start_idx + X_values.shape[0]\n",
    "\n",
    "#     # print(f'file number [{f}] start index: {start_idx}, end index: {end_idx}, number of samples: {X_values.shape[0]}')\n",
    "\n",
    "#     X_CP_windows[start_idx:end_idx, :, :] = X_values\n",
    "#     Y_CP_windows[start_idx:end_idx, :, :] = Y_values\n",
    "\n",
    "#     # print(f'number of samples copied: {X_train_data_store[start_idx:end_idx, :, :].shape[0]}')\n",
    "\n",
    "#     start_idx = end_idx \n",
    "#     CP_sample_sum += X_values.shape[0]\n",
    "\n",
    "#     # except Exception:\n",
    "#     #     exception_msg(i)\n",
    "#     #     train_excluded_samples.append(i)\n",
    "\n",
    "# # print(f\"Completed storage of training windows samples, which contains {X_train_data_store.shape[0]} samples\")\n",
    "# X_CP_data = X_CP_windows[:end_idx, :, :]\n",
    "# Y_CP_data = Y_CP_windows[:end_idx, :, :]\n",
    "\n",
    "\n",
    "# print(f'shape of X_CP_windows: {X_CP_windows.shape}')\n",
    "# print(f'shape of Y_CP_windows: {Y_CP_windows.shape}')\n",
    "\n",
    "# print(f'shape of X_CP_data: {X_CP_data.shape}')\n",
    "# print(f'shape of Y_CP_data: {Y_CP_data.shape}')"
   ]
  },
  {
   "cell_type": "code",
   "execution_count": null,
   "metadata": {},
   "outputs": [],
   "source": [
    "cpModel_X_test_norm = normalise_transform(X_test_data, cp_scalars)\n",
    "cpModel_Y_test_norm = normalise_transform(Y_test_data, cp_scalars)"
   ]
  },
  {
   "cell_type": "code",
   "execution_count": null,
   "metadata": {},
   "outputs": [],
   "source": [
    "# Plot histogram of the data \n",
    "for f in range(len(features)):\n",
    "    plt.hist(cpModel_X_test_norm[:,:,f].reshape(-1,1), bins=50, label = features[f])\n",
    "    plt.legend()\n",
    "    plt.show()"
   ]
  },
  {
   "cell_type": "code",
   "execution_count": null,
   "metadata": {},
   "outputs": [],
   "source": [
    "# Convert to Tensor \n",
    "# do not store on GPU (yet)\n",
    "cpModel_X_test_tensor = torch.from_numpy(cpModel_X_test_norm).float()\n",
    "cpModel_Y_test_tensor = torch.from_numpy(cpModel_Y_test_norm).float()\n",
    "\n",
    "print(f'cpModel_X_test_tensor shape: {cpModel_X_test_tensor.shape}')\n",
    "print(f'cpModel_Y_test_tensor shape: {cpModel_Y_test_tensor.shape}')\n"
   ]
  },
  {
   "cell_type": "code",
   "execution_count": null,
   "metadata": {},
   "outputs": [],
   "source": [
    "cpModel_test_dataset = gaitDataset(cpModel_X_test_tensor, cpModel_Y_test_tensor)\n",
    "# train_dataloader = DataLoader(train_dataset, batch_size=len(train_dataset), shuffle = False)\n",
    "cpModel_test_dataloader = DataLoader(cpModel_test_dataset, batch_size=32, shuffle = False)"
   ]
  },
  {
   "cell_type": "markdown",
   "metadata": {},
   "source": [
    "#### Load CP Model"
   ]
  },
  {
   "cell_type": "code",
   "execution_count": null,
   "metadata": {},
   "outputs": [],
   "source": [
    "CP_MODEL_PATH = r'D:\\Study 2 Results and Models\\Study 2 Optimisation\\2022-06-30 Optimisation LSTM CP 1'+  '\\\\' + 'LSTM CP-2022-07-01-trial6' + '.pt'"
   ]
  },
  {
   "cell_type": "code",
   "execution_count": null,
   "metadata": {},
   "outputs": [],
   "source": [
    "#set parameters of the model \n",
    "input_size=len(features)\n",
    "hidden_size=100\n",
    "num_layers=4\n",
    "in_seq_len=input_window\n",
    "out_seq_len=output_window\n",
    "output_size=len(features)\n",
    "learning_rate= 0.001\n",
    "\n",
    "\n",
    "cpModel = LSTM(input_size=input_size, hidden_size=hidden_size, num_layers=num_layers, in_seq_len=in_seq_len, out_seq_len=out_seq_len, output_size=output_size, device=DEVICE).to(DEVICE)\n",
    "optimiser = torch.optim.Adam(cpModel.parameters(), lr = learning_rate)\n",
    "\n",
    "checkpoint = torch.load(CP_MODEL_PATH)\n",
    "cpModel.load_state_dict(checkpoint['model_state_dict'])\n",
    "optimiser.load_state_dict(checkpoint['optimiser_state_dict'])\n",
    "best_epoch_cpModel = checkpoint['epoch']\n",
    "best_val_loss_cpModel = checkpoint['loss']\n",
    "\n",
    "cpModel.eval()"
   ]
  },
  {
   "cell_type": "code",
   "execution_count": null,
   "metadata": {},
   "outputs": [],
   "source": [
    "CP_MODEL_PATH"
   ]
  },
  {
   "cell_type": "code",
   "execution_count": null,
   "metadata": {},
   "outputs": [],
   "source": [
    "best_epoch_cpModel"
   ]
  },
  {
   "cell_type": "code",
   "execution_count": null,
   "metadata": {},
   "outputs": [],
   "source": [
    "best_val_loss_cpModel"
   ]
  },
  {
   "cell_type": "code",
   "execution_count": null,
   "metadata": {},
   "outputs": [],
   "source": [
    "cpModel_preds_norm, cpModel_actual_norm, cpModel_loss = test_LSTM(cpModel, cpModel_test_dataloader, DEVICE)\n",
    "\n",
    "# H_model_predicted_values_CP = hModel_preds_norm_CP.cpu().numpy()\n",
    "# H_model_actual_values_CP = hModel_actual_norm_CP.cpu().numpy()\n",
    "\n",
    "print(f'cpModel loss: {cpModel_loss}')\n",
    "print(f'Shape of predicted values test: {cpModel_preds_norm.cpu().numpy().shape}')\n",
    "print(f'shape of actual values test: {cpModel_actual_norm.cpu().numpy().shape}')\n",
    "\n",
    "cpModel_preds = denormalise(cpModel_preds_norm.cpu().numpy(), cp_scalars)\n",
    "cpModel_actual = denormalise(cpModel_actual_norm.cpu().numpy(), cp_scalars)\n",
    "\n",
    "print(f'Shape of predicted values test post denormalisation: {cpModel_preds.shape}')\n",
    "print(f'shape of actual values test post denormalisation: {cpModel_actual.shape}')"
   ]
  },
  {
   "cell_type": "code",
   "execution_count": null,
   "metadata": {},
   "outputs": [],
   "source": [
    "cpModel_mse_loss, cpModel_mse_std = mse_loss(cpModel_preds, cpModel_actual, reduction='mean', format='np')\n",
    "cpModel_mae_loss, cpModel_mae_std = mae_loss(cpModel_preds, cpModel_actual, reduction='mean', format='np')\n",
    "\n",
    "print('Losses for CP trained model')\n",
    "print(f'cpModel MSE Loss: {cpModel_mse_loss}')\n",
    "print(f'hmodel MSE std: {cpModel_mse_std}')\n",
    "print(f'hmodel MAE Loss: {cpModel_mae_loss}')\n",
    "print(f'hmodel MAE std: {cpModel_mae_std}')"
   ]
  },
  {
   "cell_type": "markdown",
   "metadata": {},
   "source": [
    "### Compare Predictions of Healthy trained and CP model"
   ]
  },
  {
   "cell_type": "code",
   "execution_count": null,
   "metadata": {},
   "outputs": [],
   "source": [
    "from matplotlib import rcParams"
   ]
  },
  {
   "cell_type": "code",
   "execution_count": null,
   "metadata": {},
   "outputs": [],
   "source": [
    "s_num = 1 #sample number \n",
    "f = 2 #feature\n",
    "\n",
    "sns.set_theme(style='white')\n",
    "\n",
    "\n",
    "samples = [10300]\n",
    "f_values = [0,1,2,3,4,5]\n",
    "for s_num in samples:\n",
    "    for f in f_values:\n",
    "        \n",
    "        # X_CP_norm = normalise_transform(X_CP_data, cp_scalars)\n",
    "        # Y_CP_norm = normalise_transform(Y_CP_data, cp_scalars)\n",
    "\n",
    "        input = X_CP_data[s_num,:,f]\n",
    "\n",
    "        # print(f'input length: {len(input)}')\n",
    "        input_bf_processing = Y_CP_data[s_num,:,f]\n",
    "        actual = cpModel_actual_CP[s_num,:,f]\n",
    "        CP_model_preds = cpModel_preds_CP[s_num,:,f]\n",
    "        H_model_preds = hModel_preds_CP[s_num,:,f]\n",
    "\n",
    "        past_timepoints = np.arange(0,len(input))\n",
    "        # print(f'past_timepoints: {past_timepoints}')\n",
    "\n",
    "        future_timepoints = np.arange(len(input), len(input)+len(CP_model_preds))\n",
    "        # print(f'future_timepoints: {future_timepoints}')\n",
    "\n",
    "        rcParams['figure.figsize'] = 20,6\n",
    "\n",
    "        # ax = sns.lineplot(x=past_timepoints[-20:], y=input[-20:]) #only plots last 20 values of input\n",
    "        ax = sns.lineplot(x=past_timepoints[:], y=input[:])\n",
    "\n",
    "        # ax.fill_between(x=past_timepoints, y1=input_stats, y2=input_stats, alpha=0.1)\n",
    "        ax = sns.lineplot(x=future_timepoints, y=CP_model_preds, label='CP_model_preds')\n",
    "        ax = sns.lineplot(x=future_timepoints, y=H_model_preds, label='H_model_preds')\n",
    "        ax = sns.lineplot(x=future_timepoints, y=actual, label='actual')\n",
    "        # ax = sns.lineplot(x=future_timepoints, y=input_bf_processing, label='input_bf_processing')\n",
    "\n",
    "        # ax.set(font_scale = 1)\n",
    "        # sns.set(rc={'axes.facecolor':'whitegrid', 'figure.facecolor':'whitegrid'})\n",
    " \n",
    "        fontsize = 15\n",
    "        ax.set_xlabel('Time-step', fontsize =15)\n",
    "        ax.set_ylabel('Angle (degrees)', fontsize =15)\n",
    "        ax.set_title(f'Sample {s_num} - Feature {f} - {labels_keys[f]}', fontsize=fontsize)\n",
    "        plt.legend(fontsize = 15)\n",
    "        plt.figure()\n"
   ]
  },
  {
   "cell_type": "code",
   "execution_count": null,
   "metadata": {},
   "outputs": [],
   "source": [
    "diff = cpModel_preds_CP - hModel_preds_CP\n",
    "\n",
    "# rcParams['figure.figsize'] = 20,6\n",
    "p = sns.displot(diff[:,:,2], height=4, aspect=2)\n",
    "p.fig.set_dpi(100)\n"
   ]
  },
  {
   "cell_type": "markdown",
   "metadata": {},
   "source": [
    "### Model"
   ]
  },
  {
   "cell_type": "code",
   "execution_count": null,
   "metadata": {},
   "outputs": [],
   "source": [
    "mae_timesteps = []\n",
    "for s in range(output_window):\n",
    "    # print(s)\n",
    "    _ = mae_loss(np.expand_dims(predicted_CP_denorm[:,s,:],-1), np.expand_dims(actual_CP_denorm[:,s,:],-1), reduction='mean', format='np')\n",
    "    mae_timesteps.append(_)\n",
    "\n",
    "    print(f'MAE loss and standard deviation for timestep {s+1} is: {mae_timesteps[s]}')\n",
    "\n",
    "actual_CP_denorm[:,:,:].shape"
   ]
  },
  {
   "cell_type": "markdown",
   "metadata": {},
   "source": [
    "#### Use for output window > 1"
   ]
  },
  {
   "cell_type": "code",
   "execution_count": null,
   "metadata": {},
   "outputs": [],
   "source": [
    "# #Only use when output window is greater than 1\n",
    "# s = 00#sample to plot\n",
    "# nsteps_future = 300 #number of steps to predict in the future \n",
    "\n",
    "# with torch.no_grad(): #do not calculate gradients for forward pass\n",
    "#     in_to_model = hModel_X_test_tensor[s].expand((1,-1,-1)).to(DEVICE) \n",
    "#     all_preds=[] \n",
    "\n",
    "#     for _ in range(0,nsteps_future): #loop over the steps to predict in the future\n",
    "#         # print(f'in_to_model: {in_to_model[:,-10:,1]}')\n",
    "#         # print(f'shape in to model: {in_to_model.shape}')\n",
    "#         future_pred = hModel(in_to_model)\n",
    "#         # print(f'future pred: {future_pred.shape}')\n",
    "#         # print(f'shape future preds: {future_pred[:,0,:].unsqueeze(1).shape}')\n",
    "\n",
    "#         all_preds.append(future_pred[:,0,:].unsqueeze(1).tolist())\n",
    "\n",
    "#         new_in_to_model = torch.cat((in_to_model, future_pred[:,0,:].unsqueeze(1)),1)\n",
    "#         in_to_model = new_in_to_model[:,1:,:]\n",
    "#         # print(f'shape in to model: {in_to_model.shape}')\n",
    "\n",
    "# all_future_preds = np.array(all_preds).reshape((nsteps_future,len(features)))\n",
    "\n",
    "# all_future_preds.shape"
   ]
  },
  {
   "cell_type": "code",
   "execution_count": null,
   "metadata": {},
   "outputs": [],
   "source": [
    "# #only use for multiple timesteps\n",
    "# input_seq = hModel_X_test_tensor[s].expand((1,-1,-1))\n",
    "\n",
    "\n",
    "# for f in range(len(features)):\n",
    "#     path = r'D:\\Study 2 Results and Models\\Model Performance' + '\\\\'  + 'Exp' + str(exp_ID) + '-' + str(date.today()) + '-' + model + '-In' + str(input_window) + '-Out' + str(output_window) + '-Plot(1)-' + str(features[f]) + '.png'\n",
    "   \n",
    "#     input = input_seq[:,:,f].squeeze()\n",
    "#     print(input.shape)\n",
    "\n",
    "#     predicted_trajectory = all_future_preds[:,f]\n",
    "#     print(predicted_trajectory.shape)\n",
    "\n",
    "#     past_timepoints = np.arange(0,len(input))\n",
    "#     # print(f'past_timepoints: {past_timepoints}')\n",
    "\n",
    "#     future_timepoints = np.arange(len(input), len(input)+len(predicted_trajectory))\n",
    "#     # print(f'future_timepoints: {future_timepoints}')\n",
    "\n",
    "#     actual_seq = hModel_Y_test_tensor[s:s+nsteps_future,0,f].reshape(-1,1).squeeze()\n",
    "#     actual_timepoints = np.arange(len(input), len(input)+len(actual_seq))\n",
    "\n",
    "#     rcParams['figure.figsize'] = 20,6\n",
    "\n",
    "#     # ax = sns.lineplot(x=past_timepoints[-20:], y=input[-20:]) #only plots last 20 values of input\n",
    "#     ax = sns.lineplot(x=past_timepoints[:], y=input[:], label='input_timesteps')\n",
    "\n",
    "#     # ax.fill_between(x=past_timepoints, y1=input_stats, y2=input_stats, alpha=0.1)\n",
    "#     ax = sns.lineplot(x=future_timepoints, y=predicted_trajectory, label='hModel_preds')\n",
    "\n",
    "#     ax = sns.lineplot(x=actual_timepoints, y = actual_seq, label='actual')\n",
    "#     # ax = sns.lineplot(x=future_timepoints, y=H_model_preds, label='H_model_preds')\n",
    "#     # ax = sns.lineplot(x=future_timepoints, y=actual, label='actual')\n",
    "#     # ax = sns.lineplot(x=future_timepoints, y=input_bf_processing, label='input_bf_processing')\n",
    "\n",
    "#     # ax.set(font_scale = 1)\n",
    "#     # sns.set(rc={'axes.facecolor':'whitegrid', 'figure.facecolor':'whitegrid'})\n",
    "\n",
    "#     fontsize = 15\n",
    "#     ax.set_xlabel('Time-step', fontsize =15)\n",
    "#     ax.set_ylabel('Angle (degrees)', fontsize =15)\n",
    "\n",
    "#     plt.legend(fontsize = 15)\n",
    "  \n",
    "#     # plt.savefig(path)\n",
    "#     plt.show()\n"
   ]
  },
  {
   "cell_type": "markdown",
   "metadata": {},
   "source": [
    "#### Predicting Future loss for 200 timesteps in advance for entire validation set"
   ]
  },
  {
   "cell_type": "code",
   "execution_count": 473,
   "metadata": {},
   "outputs": [
    {
     "name": "stdout",
     "output_type": "stream",
     "text": [
      "val_inputs.shape: torch.Size([3179, 100, 1])\n",
      "val_targets.shape: torch.Size([3179, 200, 1])\n"
     ]
    }
   ],
   "source": [
    "val_inputs=X_val_lt\n",
    "val_targets=Y_val_lt\n",
    "\n",
    "print(f'val_inputs.shape: {val_inputs.shape}')\n",
    "print(f'val_targets.shape: {val_targets.shape}')\n"
   ]
  },
  {
   "cell_type": "code",
   "execution_count": 474,
   "metadata": {},
   "outputs": [
    {
     "data": {
      "text/plain": [
       "<matplotlib.legend.Legend at 0x2880aa6a580>"
      ]
     },
     "execution_count": 474,
     "metadata": {},
     "output_type": "execute_result"
    },
    {
     "data": {
      "image/png": "[encoded data removed]",
      "text/plain": [
       "<Figure size 1440x720 with 1 Axes>"
      ]
     },
     "metadata": {},
     "output_type": "display_data"
    }
   ],
   "source": [
    "#checking the windows\n",
    "x1 = np.arange(0,100)\n",
    "x2 = np.arange(100,300)\n",
    "x3 = 100\n",
    "plt.plot(x1, val_inputs[10,:,0].cpu(), label='input')\n",
    "plt.plot(x2, val_targets[10,:,0].cpu(), label='200 timesteps in the future')\n",
    "# plt.scatter(x3, Y_val_data[10,0,0], s=30, label='target value')\n",
    "plt.legend()\n"
   ]
  },
  {
   "cell_type": "code",
   "execution_count": 475,
   "metadata": {},
   "outputs": [
    {
     "data": {
      "text/plain": [
       "torch.Tensor"
      ]
     },
     "execution_count": 475,
     "metadata": {},
     "output_type": "execute_result"
    }
   ],
   "source": [
    "type(val_inputs)"
   ]
  },
  {
   "cell_type": "code",
   "execution_count": 476,
   "metadata": {},
   "outputs": [
    {
     "name": "stdout",
     "output_type": "stream",
     "text": [
      "future_preds[101:].shape: torch.Size([3179, 99, 1])\n",
      "0.22818447649478912\n"
     ]
    }
   ],
   "source": [
    "lt_loss_criterion = nn.MSELoss() #long term loss criterion (l1 loss measures MAE for 99 steps in the future)\n",
    "future_window=200\n",
    "runningLoss_val_lt = 0.\n",
    "\n",
    "with torch.no_grad(): # makes sure gradient is not stored \n",
    "    \n",
    "    val_inputs_, val_targets_ = val_inputs.to(DEVICE), val_targets.to(DEVICE)\n",
    "    \n",
    "    future_preds = torch.zeros((val_inputs_.shape[0], 200, len(features))).to(DEVICE) #would store the predicted outputs for 200 timesteps\n",
    "    \n",
    "    # loop to calculate all 200 preds in the future\n",
    "    for t in range(0,future_window):\n",
    "        # optimiser.zero_grad()\n",
    "        # print(f'val.inputs.shape: {val_inputs_.shape} at time {t}')\n",
    "        preds = model_LSTM(val_inputs_)\n",
    "        # print(f'preds.shape: {preds.shape} at time {t}')\n",
    "        # print(f'future_preds[:,t,:].shape: {future_preds[:,t,:].shape}')\n",
    "        future_preds[:,t,:] = preds.reshape(-1,1)\n",
    "        # print(f'future_preds[:,t,:].shape: {future_preds[:,t,:].shape} at time {t}')\n",
    "        new_val_inputs = torch.cat((val_inputs_, preds),1)\n",
    "        # print(f'new_val_inputs.shape: {new_val_inputs.shape} at time {t}')\n",
    "        val_inputs_ = new_val_inputs[:,1:,:]\n",
    "        \n",
    "    \n",
    "    # Evalute long term predictions\n",
    "    print(f'future_preds[101:].shape: {future_preds[:,101:,:].shape}')\n",
    "    # future_preds[:,:,:] = 0.5\n",
    "    loss = lt_loss_criterion(future_preds[:,101:,:], val_targets_[:,101:,:])\n",
    "    # loss = lt_loss_criterion(val_targets_[:,101:,:] ,val_targets_[:,101:,:])\n",
    "\n",
    "    runningLoss_val_lt += loss.item()\n",
    "    print(runningLoss_val_lt)"
   ]
  },
  {
   "cell_type": "code",
   "execution_count": 477,
   "metadata": {},
   "outputs": [
    {
     "data": {
      "text/plain": [
       "tensor(0.2282, device='cuda:0')"
      ]
     },
     "execution_count": 477,
     "metadata": {},
     "output_type": "execute_result"
    }
   ],
   "source": [
    "a = torch.mean((val_targets_[:,101:,:] - future_preds[:,101:,:] ) ** 2 )\n",
    "a\n"
   ]
  },
  {
   "cell_type": "code",
   "execution_count": 478,
   "metadata": {},
   "outputs": [
    {
     "data": {
      "text/plain": [
       "tensor(0.2282, device='cuda:0')"
      ]
     },
     "execution_count": 478,
     "metadata": {},
     "output_type": "execute_result"
    }
   ],
   "source": [
    "a = (val_targets_[:,101:,:] - future_preds[:,101:,:]) ** 2\n",
    "a.reshape(-1,1)\n",
    "a.mean()"
   ]
  },
  {
   "cell_type": "code",
   "execution_count": 479,
   "metadata": {},
   "outputs": [],
   "source": [
    "# future_preds[:,101:,:]"
   ]
  },
  {
   "cell_type": "code",
   "execution_count": 480,
   "metadata": {},
   "outputs": [],
   "source": [
    "val_inputs_np = val_inputs.cpu().detach().numpy()\n",
    "val_targets_np = val_targets.cpu().detach().numpy()\n",
    "future_preds_np = future_preds.cpu().detach().numpy()"
   ]
  },
  {
   "cell_type": "code",
   "execution_count": 481,
   "metadata": {},
   "outputs": [
    {
     "name": "stdout",
     "output_type": "stream",
     "text": [
      "correlation for feature Hips Flexion-Extension Left is -0.04\n"
     ]
    },
    {
     "data": {
      "text/plain": [
       "-0.006643061454486415"
      ]
     },
     "execution_count": 481,
     "metadata": {},
     "output_type": "execute_result"
    }
   ],
   "source": [
    "# Spearman's correlation coefficient = covariance(rank(X), rank(Y)) / (stdv(rank(X)) * stdv(rank(Y)))\n",
    "from scipy.stats import pearsonr\n",
    "\n",
    "all_corr = np.zeros(6)\n",
    "for f in range(len(features)):\n",
    "    corr, _ = pearsonr(val_targets_np[:,100:,f].reshape(-1,1).squeeze(), future_preds_np[:,100:,f].reshape(-1,1).squeeze())\n",
    "    print(f'correlation for feature {features[f]} is {round(corr,2)}')\n",
    "    all_corr[f] = corr\n",
    "\n",
    "all_corr.mean()\n",
    "    \n",
    "\n"
   ]
  },
  {
   "cell_type": "code",
   "execution_count": 482,
   "metadata": {},
   "outputs": [],
   "source": [
    "def count_parameters(model): \n",
    "    return sum(p.numel() for p in model.parameters() if p.requires_grad)"
   ]
  },
  {
   "cell_type": "code",
   "execution_count": 483,
   "metadata": {},
   "outputs": [
    {
     "data": {
      "text/plain": [
       "288"
      ]
     },
     "execution_count": 483,
     "metadata": {},
     "output_type": "execute_result"
    }
   ],
   "source": [
    "count_parameters(model_LSTM)"
   ]
  },
  {
   "cell_type": "code",
   "execution_count": 493,
   "metadata": {},
   "outputs": [
    {
     "name": "stdout",
     "output_type": "stream",
     "text": [
      "(100,)\n",
      "(200,)\n"
     ]
    },
    {
     "data": {
      "image/png": "[encoded data removed]",
      "text/plain": [
       "<Figure size 1440x432 with 1 Axes>"
      ]
     },
     "metadata": {},
     "output_type": "display_data"
    }
   ],
   "source": [
    "val_inputs_np = val_inputs.cpu().detach().numpy()\n",
    "val_targets_np = val_targets.cpu().detach().numpy()\n",
    "future_preds_np = future_preds.cpu().detach().numpy()\n",
    "\n",
    "s=700\n",
    "for f in range(len(features)):\n",
    "    path = r'D:\\Study 2 Results and Models\\Model Performance' + '\\\\'  + 'Exp' + str(exp_ID) + '-' + str(date.today()) + '-' + model + '-In' + str(input_window) + '-Out' + str(output_window) + '-Plot(1)-' + str(features[f]) + '.png'\n",
    "   \n",
    "    input = val_inputs_np[s,:,f].squeeze()\n",
    "    print(input.shape)\n",
    "\n",
    "    predicted_trajectory = future_preds_np[s,:,f].squeeze()\n",
    "    print(predicted_trajectory.shape)\n",
    "\n",
    "    past_timepoints = np.arange(0,len(input))\n",
    "    # print(f'past_timepoints: {past_timepoints}')\n",
    "\n",
    "    future_timepoints = np.arange(len(input), len(input)+len(predicted_trajectory))\n",
    "    # print(f'future_timepoints: {future_timepoints}')\n",
    "\n",
    "    actual_seq = val_targets_np[s,:,f].squeeze()\n",
    "    actual_timepoints = np.arange(len(input), len(input)+len(actual_seq))\n",
    "\n",
    "    rcParams['figure.figsize'] = 20,6\n",
    "\n",
    "    # ax = sns.lineplot(x=past_timepoints[-20:], y=input[-20:]) #only plots last 20 values of input\n",
    "    ax = sns.lineplot(x=past_timepoints[:], y=input[:], label='input_timesteps')\n",
    "\n",
    "    # ax.fill_between(x=past_timepoints, y1=input_stats, y2=input_stats, alpha=0.1)\n",
    "    ax = sns.lineplot(x=future_timepoints, y=predicted_trajectory, label='hModel_preds')\n",
    "\n",
    "    ax = sns.lineplot(x=actual_timepoints, y = actual_seq, label='actual')\n",
    "    # ax = sns.lineplot(x=future_timepoints, y=H_model_preds, label='H_model_preds')\n",
    "    # ax = sns.lineplot(x=future_timepoints, y=actual, label='actual')\n",
    "    # ax = sns.lineplot(x=future_timepoints, y=input_bf_processing, label='input_bf_processing')\n",
    "\n",
    "    # ax.set(font_scale = 1)\n",
    "    # sns.set(rc={'axes.facecolor':'whitegrid', 'figure.facecolor':'whitegrid'})\n",
    "\n",
    "    fontsize = 15\n",
    "    ax.set_xlabel('Time-step', fontsize =15)\n",
    "    ax.set_ylabel('Angle degrees (normalised)', fontsize =15)\n",
    "\n",
    "    plt.legend(fontsize = 15)\n",
    "    plt.title(features[f] + ' S ' + str(s))\n",
    " \n",
    "    plt.savefig(path)\n",
    "    plt.show()\n"
   ]
  },
  {
   "cell_type": "markdown",
   "metadata": {},
   "source": [
    "#### Predicting and Plotting loss for 1 sample in the validation set"
   ]
  },
  {
   "cell_type": "code",
   "execution_count": 219,
   "metadata": {},
   "outputs": [
    {
     "ename": "NameError",
     "evalue": "name 'hModel_X_test_tensor' is not defined",
     "output_type": "error",
     "traceback": [
      "\u001b[1;31m---------------------------------------------------------------------------\u001b[0m",
      "\u001b[1;31mNameError\u001b[0m                                 Traceback (most recent call last)",
      "\u001b[1;32m~\\AppData\\Local\\Temp/ipykernel_8904/1422355462.py\u001b[0m in \u001b[0;36m<module>\u001b[1;34m\u001b[0m\n\u001b[0;32m      3\u001b[0m \u001b[1;33m\u001b[0m\u001b[0m\n\u001b[0;32m      4\u001b[0m \u001b[1;32mwith\u001b[0m \u001b[0mtorch\u001b[0m\u001b[1;33m.\u001b[0m\u001b[0mno_grad\u001b[0m\u001b[1;33m(\u001b[0m\u001b[1;33m)\u001b[0m\u001b[1;33m:\u001b[0m \u001b[1;31m#do not calculate gradients for forward pass\u001b[0m\u001b[1;33m\u001b[0m\u001b[1;33m\u001b[0m\u001b[0m\n\u001b[1;32m----> 5\u001b[1;33m     \u001b[0min_to_model\u001b[0m \u001b[1;33m=\u001b[0m \u001b[0mhModel_X_test_tensor\u001b[0m\u001b[1;33m[\u001b[0m\u001b[0ms\u001b[0m\u001b[1;33m]\u001b[0m\u001b[1;33m.\u001b[0m\u001b[0mexpand\u001b[0m\u001b[1;33m(\u001b[0m\u001b[1;33m(\u001b[0m\u001b[1;36m1\u001b[0m\u001b[1;33m,\u001b[0m\u001b[1;33m-\u001b[0m\u001b[1;36m1\u001b[0m\u001b[1;33m,\u001b[0m\u001b[1;33m-\u001b[0m\u001b[1;36m1\u001b[0m\u001b[1;33m)\u001b[0m\u001b[1;33m)\u001b[0m\u001b[1;33m.\u001b[0m\u001b[0mto\u001b[0m\u001b[1;33m(\u001b[0m\u001b[0mDEVICE\u001b[0m\u001b[1;33m)\u001b[0m\u001b[1;33m\u001b[0m\u001b[1;33m\u001b[0m\u001b[0m\n\u001b[0m\u001b[0;32m      6\u001b[0m     \u001b[0mall_preds\u001b[0m\u001b[1;33m=\u001b[0m\u001b[1;33m[\u001b[0m\u001b[1;33m]\u001b[0m\u001b[1;33m\u001b[0m\u001b[1;33m\u001b[0m\u001b[0m\n\u001b[0;32m      7\u001b[0m \u001b[1;33m\u001b[0m\u001b[0m\n",
      "\u001b[1;31mNameError\u001b[0m: name 'hModel_X_test_tensor' is not defined"
     ]
    }
   ],
   "source": [
    "s = 100#sample to plot\n",
    "nsteps_future = 500 #number of steps to predict in the future \n",
    "\n",
    "with torch.no_grad(): #do not calculate gradients for forward pass\n",
    "    in_to_model = hModel_X_test_tensor[s].expand((1,-1,-1)).to(DEVICE) \n",
    "    all_preds=[] \n",
    "\n",
    "    for _ in range(0,nsteps_future): #loop over the steps to predict in the future\n",
    "        # # print(f'in_to_model: {in_to_model[:,-10:,1]}')\n",
    "        # future_pred = hModel(in_to_model)\n",
    "\n",
    "        # all_preds.append(future_pred.tolist())\n",
    "\n",
    "        # new_in_to_model = torch.cat((in_to_model, future_pred),1)\n",
    "        # in_to_model = new_in_to_model[:,1:,:]\n",
    "\n",
    "        #Uncomment only for CNN\n",
    "        future_pred = hModel(in_to_model.permute(0,2,1))\n",
    "\n",
    "        all_preds.append(future_pred.permute(0,2,1).tolist())\n",
    "\n",
    "        new_in_to_model = torch.cat((in_to_model, future_pred.permute(0,2,1)),1)\n",
    "        in_to_model = new_in_to_model[:,1:,:]\n",
    "\n",
    "all_future_preds = np.array(all_preds).reshape((nsteps_future,len(features)))\n",
    "\n",
    "all_future_preds.shape "
   ]
  },
  {
   "cell_type": "code",
   "execution_count": null,
   "metadata": {},
   "outputs": [],
   "source": [
    "input_seq = hModel_X_test_tensor[s].expand((1,-1,-1))\n",
    "\n",
    "\n",
    "for f in range(len(features)):\n",
    "    path = r'D:\\Study 2 Results and Models\\Model Performance' + '\\\\'  + 'Exp' + str(exp_ID) + '-' + str(date.today()) + '-' + model + '-In' + str(input_window) + '-Out' + str(output_window) + '-Plot(1)-' + str(features[f]) + '.png'\n",
    "   \n",
    "    input = input_seq[:,:,f].squeeze()\n",
    "    print(input.shape)\n",
    "\n",
    "    predicted_trajectory = all_future_preds[:,f]\n",
    "    print(predicted_trajectory.shape)\n",
    "\n",
    "    past_timepoints = np.arange(0,len(input))\n",
    "    # print(f'past_timepoints: {past_timepoints}')\n",
    "\n",
    "    future_timepoints = np.arange(len(input), len(input)+len(predicted_trajectory))\n",
    "    # print(f'future_timepoints: {future_timepoints}')\n",
    "\n",
    "    actual_seq = hModel_Y_test_tensor[s:s+nsteps_future,:,f].reshape(-1,1).squeeze()\n",
    "    actual_timepoints = np.arange(len(input), len(input)+len(actual_seq))\n",
    "\n",
    "    rcParams['figure.figsize'] = 20,6\n",
    "\n",
    "    # ax = sns.lineplot(x=past_timepoints[-20:], y=input[-20:]) #only plots last 20 values of input\n",
    "    ax = sns.lineplot(x=past_timepoints[:], y=input[:], label='input_timesteps')\n",
    "\n",
    "    # ax.fill_between(x=past_timepoints, y1=input_stats, y2=input_stats, alpha=0.1)\n",
    "    ax = sns.lineplot(x=future_timepoints, y=predicted_trajectory, label='hModel_preds')\n",
    "\n",
    "    ax = sns.lineplot(x=actual_timepoints, y = actual_seq, label='actual')\n",
    "    # ax = sns.lineplot(x=future_timepoints, y=H_model_preds, label='H_model_preds')\n",
    "    # ax = sns.lineplot(x=future_timepoints, y=actual, label='actual')\n",
    "    # ax = sns.lineplot(x=future_timepoints, y=input_bf_processing, label='input_bf_processing')\n",
    "\n",
    "    # ax.set(font_scale = 1)\n",
    "    # sns.set(rc={'axes.facecolor':'whitegrid', 'figure.facecolor':'whitegrid'})\n",
    "\n",
    "    fontsize = 15\n",
    "    ax.set_xlabel('Time-step', fontsize =15)\n",
    "    ax.set_ylabel('Angle (degrees)', fontsize =15)\n",
    "\n",
    "    plt.legend(fontsize = 15)\n",
    "    plt.title(features[f] + ' S ' + str(s))\n",
    " \n",
    "    # plt.savefig(path)\n",
    "    plt.show()\n"
   ]
  },
  {
   "cell_type": "code",
   "execution_count": null,
   "metadata": {},
   "outputs": [],
   "source": []
  },
  {
   "cell_type": "code",
   "execution_count": null,
   "metadata": {},
   "outputs": [],
   "source": [
    "#original sequence size [n_samples, timesteps, featuers]\n",
    "\n",
    "#take only one timesteps from each sample + choose one feature only [:, 1, f]\n",
    "\n",
    "#flatten sequence and plot \n",
    "\n",
    "in_seq_to_plt = X_sample.cpu().numpy()\n",
    "\n",
    "gen_seq_to_plt = generated_sequence.cpu().numpy()\n",
    "\n",
    "in_seq_to_plt_denorm = denormalise(in_seq_to_plt, scalars)\n",
    "gen_seq_to_plt_denorm = denormalise(gen_seq_to_plt, scalars)\n",
    "\n",
    "in_seq_to_plt_denorm = in_seq_to_plt_denorm[:, :, 1]\n",
    "gen_seq_to_plt_denorm = gen_seq_to_plt_denorm[:, 0, 1]\n",
    "\n",
    "print('in_seq_to_plt_denorm')\n",
    "print(in_seq_to_plt_denorm)\n",
    "print('gen_seq_to_plt_denorm')\n",
    "print(gen_seq_to_plt_denorm)\n",
    "\n"
   ]
  },
  {
   "cell_type": "code",
   "execution_count": null,
   "metadata": {},
   "outputs": [],
   "source": [
    "past_timepoints=np.array()\n",
    "\n",
    "ax = sns.lineplot(x=past_timepoints[-20:], y=input[-20:])\n",
    "# ax.fill_between(x=past_timepoints, y1=input_stats, y2=input_stats, alpha=0.1)\n",
    "ax = sns.lineplot(x=future_timepoints, y=preds)\n",
    "ax = sns.lineplot(x=future_timepoints, y=actual)"
   ]
  },
  {
   "cell_type": "markdown",
   "metadata": {},
   "source": [
    "### Benchmark"
   ]
  },
  {
   "cell_type": "markdown",
   "metadata": {},
   "source": [
    "#### Benchmark against naive method "
   ]
  },
  {
   "cell_type": "code",
   "execution_count": null,
   "metadata": {},
   "outputs": [],
   "source": [
    "## benchmark against naive output (making prediction only last value)\n",
    "naive_1_train_output = np.zeros(Y_train_data.shape)\n",
    "\n",
    "    \n",
    "for f in range(len(features)):\n",
    "    for s in range(Y_train_data.shape[0]):\n",
    "        naive_1_train_output[s,:,f] = np.ones((output_window)) * X_train_data[s,-1,f]\n",
    "\n",
    "\n",
    "\n",
    "# print(naive_1_test_output.shape)\n",
    "\n",
    "\n",
    "# naive_1_test_output[1,:,1]\n",
    "\n",
    "# X_test_data[1,:,1]\n",
    "\n"
   ]
  },
  {
   "cell_type": "code",
   "execution_count": null,
   "metadata": {},
   "outputs": [],
   "source": [
    "naive_1_mse_loss, naive_1_mse_std = mse_loss(naive_1_train_output, Y_train_data, reduction='mean', format='np')\n",
    "naive_1_mae_loss, naive_1_mae_std = mae_loss(naive_1_train_output, Y_train_data, reduction='mean', format='np')\n",
    "\n",
    "print(f'naive_1 MSE Loss: {naive_1_mse_loss}')\n",
    "print(f'naive_1 MSE std: {naive_1_mse_std} ')\n",
    "print(f'naive_1 MAE Loss: {naive_1_mae_loss}')\n",
    "print(f'naive_1 MAE std: {naive_1_mae_std}')"
   ]
  },
  {
   "cell_type": "code",
   "execution_count": null,
   "metadata": {},
   "outputs": [],
   "source": [
    "## benchmark against mean output\n",
    "\n",
    "naive_average_train_output = np.zeros(Y_train_data.shape)\n",
    "\n",
    "for f in range(len(features)):\n",
    "    for s in range(Y_train_data.shape[0]):\n",
    "        naive_average_train_output[s,:,f] = np.ones((output_window)) * np.mean(X_train_data[s,:,f])\n",
    "\n",
    "\n",
    "\n",
    "print(naive_average_train_output.shape)\n",
    "\n"
   ]
  },
  {
   "cell_type": "code",
   "execution_count": null,
   "metadata": {},
   "outputs": [],
   "source": [
    "naive_average_mse_loss, naive_average_mse_std = mse_loss(naive_average_train_output, Y_train_data, reduction='mean', format='np')\n",
    "naive_average_mae_loss, naive_average_mae_std = mae_loss(naive_average_train_output, Y_train_data, reduction='mean', format='np')\n",
    "\n",
    "print(f'average MSE Loss: {naive_average_mse_loss}')\n",
    "print(f'average MSE std: {naive_average_mse_std} ')\n",
    "print(f'average MAE Loss: {naive_average_mae_loss}')\n",
    "print(f'average MAE std: {naive_average_mae_std}')"
   ]
  },
  {
   "cell_type": "markdown",
   "metadata": {},
   "source": [
    "### Save Progress and Results"
   ]
  },
  {
   "cell_type": "code",
   "execution_count": null,
   "metadata": {},
   "outputs": [],
   "source": [
    "# model = 'LSTM'\n",
    "# exp_ID = '022'\n",
    "\n",
    "out_fname = r'D:\\Study 2 Results and Models\\Investigation Results' + '\\\\' + 'Study 2 Experimentation Results' + '.txt'\n",
    "comments = 'LSTM'\n",
    "\n",
    "\n"
   ]
  },
  {
   "cell_type": "code",
   "execution_count": null,
   "metadata": {},
   "outputs": [],
   "source": [
    "# if os.path.exists(out_fname):\n",
    "#     print('ERROR: File with this name already exists, try alternative name.')\n",
    "    \n",
    "# else:\n",
    "with open(out_fname, 'a+') as text_file:\n",
    "    \n",
    "    print('Experiment Report', file=text_file)\n",
    "    print(f'{exp_ID}: {date.today()}',file=text_file)\n",
    "    # print('\\n', file=text_file)\n",
    "    print(f'model: {model}', file=text_file)\n",
    "    print(f'features: {features} \\n', file=text_file)\n",
    "    print(f'Comments: {comments} \\n', file=text_file)\n",
    "\n",
    "    print('Information on Data', file=text_file)\n",
    "    print(f'train size: {train_sample_sum}', file=text_file)\n",
    "    print(f'validation size: {val_sample_sum}', file=text_file)\n",
    "    print(f'Train subjects: {train_subjects}', file=text_file)\n",
    "    print(f'Val subjects: {val_subjects}', file=text_file)\n",
    "    print(f'Scalars: {scalars} \\n', file=text_file)\n",
    "\n",
    "    print('Model Hyperparameters', file=text_file)\n",
    "    print(f'input window size: {input_window}', file=text_file)\n",
    "    print(f'output window size: {output_window}', file=text_file)\n",
    "    print(f'stride: {stride}', file=text_file)\n",
    "    # print(f'epochs: {num_epochs}', file=text_file)\n",
    "    print(f'best epoch: {best_epoch}', file=text_file)\n",
    "    print(f'hidden size: {hidden_size}', file=text_file)\n",
    "    print(f'number of layers: {num_layers}', file=text_file)\n",
    "    print(f'learning rate: {learning_rate}', file=text_file)\n",
    "    print(f'optimiser: MSE', file=text_file)\n",
    "\n",
    "    print('\\n', file = text_file)\n",
    "    print(f'Model Architecture', file=text_file)\n",
    "    print(checkpoint_model, file=text_file)\n",
    "\n",
    "    print(f'Losses during training:', file=text_file)\n",
    "    print(f'training loss: {train_history}', file=text_file)\n",
    "    print(f'validation history: {val_history}', file=text_file)\n",
    "    print(f'lt loss: {lt_history}', file=text_file)\n",
    "    print(f'r value: {r_history}', file=text_file)\n",
    "\n",
    "    print('\\n', file=text_file)\n",
    "    print(f'Denomralised MSE and MAE: ', file=text_file)\n",
    "    print(f'Validation MSE and std(degrees): {val_mse_loss:.3f}, {val_mse_std:.3f}', file=text_file)\n",
    "    print(f'Validation MAE and std (degrees): {val_mae_loss:.3f}, {val_mae_std:.3f}', file=text_file)\n",
    "    # print('\\n', file=text_file)\n",
    "    print('--------------------------------------------------------------------------------------------------------', file=text_file)\n",
    "\n",
    "\n",
    "print(\"Generation of text file complete.\")"
   ]
  },
  {
   "cell_type": "code",
   "execution_count": null,
   "metadata": {},
   "outputs": [],
   "source": [
    "plt_path = r'D:\\Study 2 Results and Models\\Investigations Plots' + '\\\\'  + 'Exp' + str(exp_ID) + '-' + str(date.today()) + '-' + model + '-In' + str(input_window) + '-Out' + str(output_window) + '(loss)' + '.png'\n",
    "fst_e = 1 #first epoch to start plotting for \n",
    "x = [i for i in range(fst_e,num_epochs)]\n",
    "# print(x)\n",
    "# print(train_history[20:145].shape)\n",
    "\n",
    "plt.plot(np.log(train_history[fst_e:]), label = 'Training loss')\n",
    "plt.plot(np.log(val_history[fst_e:]), label = 'Val loss')\n",
    "plt.plot(np.log(lt_history[fst_e:]), label='Long term preds loss')\n",
    "plt.plot(np.log(np.abs(r_history[fst_e:])), label='Val R values (absolute value)')\n",
    "plt.axhline(np.min(np.log(lt_history)), label='mininum long term loss')\n",
    "print(np.min(lt_history))\n",
    "plt.xlabel('Iterations')\n",
    "plt.ylabel('MSE Loss')\n",
    "plt.title('Training and Validation MSE Loss')\n",
    "plt.legend()\n",
    "\n",
    "# plt.plot(x,train_history[fst_e:], label = 'Training loss')\n",
    "# plt.plot(x,val_history[fst_e:], label = 'Val loss')\n",
    "# plt.plot(train_history, label = 'Training loss')\n",
    "# plt.plot(val_history, label = 'Val loss')\n",
    "\n",
    "\n",
    "plt.savefig(plt_path)"
   ]
  },
  {
   "cell_type": "code",
   "execution_count": null,
   "metadata": {},
   "outputs": [],
   "source": [
    "# plt_path = r'D:\\Study 2 Results and Models\\Investigations Plots' + '\\\\'  + 'Exp' + str(exp_ID) + '-' + str(date.today()) + '-' + model + '-In' + str(input_window) + '-Out' + str(output_window) + '(loss)' + '.png'\n",
    "# fst_e = 10 #first epoch to start plotting for \n",
    "# x = [i for i in range(fst_e,num_epochs)]\n",
    "# # print(x)\n",
    "# # print(train_history[20:145].shape)\n",
    "# plt.plot(x,train_history[fst_e:], label = 'Training loss')\n",
    "# plt.plot(x,val_history[fst_e:], label = 'Val loss')\n",
    "# # plt.plot(train_history, label = 'Training loss')\n",
    "# # plt.plot(val_history, label = 'Val loss')\n",
    "\n",
    "\n",
    "# plt.xlabel('Iterations')\n",
    "# plt.ylabel('MSE Loss')\n",
    "# plt.title('Train and Val MSE Loss')\n",
    "# plt.legend()\n",
    "# plt.savefig(plt_path)"
   ]
  },
  {
   "cell_type": "code",
   "execution_count": null,
   "metadata": {},
   "outputs": [],
   "source": [
    "import_path = r'D:\\Study 1 Results and Models\\Study 1 Models\\LSTM_4' + '\\\\' + 'Exp014-2022-02-10-LSTM-In120-Out3.pickle'\n",
    "# # # import_path = r'C:\\Users\\Rania\\rbk9\\Study 1 Results and Models\\Study 1 Models\\CNN_1' + '\\\\' + 'Exp001-2022-01-24-CNN-In96-Out1.pickle'\n",
    "# # # model_CNN = CNN(input_size, output_size=output_size, kernel_size=kernel_size, stride=1, in_seq_len=in_seq_len, out_seq_len=out_seq_len,  device = DEVICE).to(DEVICE)\n",
    "\n",
    "input_size=len(features)\n",
    "hidden_size=128\n",
    "num_layers=4\n",
    "in_seq_len=input_window\n",
    "out_seq_len=output_window\n",
    "output_size=len(features)\n",
    "# num_epochs=60\n",
    "\n",
    "# # learning_rate= 0.001\n",
    "\n",
    "model_LSTM = LSTM(input_size=input_size, hidden_size=hidden_size, num_layers=num_layers, in_seq_len=in_seq_len, out_seq_len=out_seq_len, output_size=output_size, device=DEVICE).to(DEVICE)\n",
    "model_LSTM.load_state_dict(torch.load(import_path))\n",
    "model_LSTM.eval()"
   ]
  },
  {
   "cell_type": "code",
   "execution_count": null,
   "metadata": {},
   "outputs": [],
   "source": [
    "pred_val_output, actual_val_output, val_loss = test_LSTM(model_LSTM, val_dataloader, DEVICE)\n",
    "\n",
    "predicted_values_val = pred_val_output.cpu().numpy()\n",
    "actual_values_val = actual_val_output.cpu().numpy()\n",
    "\n",
    "print(f'val loss: {val_loss}')\n",
    "print(f'Shape of predicted values test: {predicted_values_val.shape}')\n",
    "print(f'shape of actual values test: {actual_values_val.shape}')\n",
    "\n",
    "predicted_val_denorm = denormalise(predicted_values_val, scalars)\n",
    "actual_val_denorm = denormalise(actual_values_val, scalars)\n",
    "\n",
    "print(f'Shape of predicted values test post denormalisation: {predicted_val_denorm.shape}')\n",
    "print(f'shape of actual values test post denormalisation: {actual_val_denorm.shape}')"
   ]
  },
  {
   "cell_type": "code",
   "execution_count": null,
   "metadata": {},
   "outputs": [],
   "source": [
    "val_mse_loss, val_mse_std = mse_loss(predicted_val_denorm, actual_val_denorm, reduction='mean', format='np')\n",
    "val_mae_loss, val_mae_std = mae_loss(predicted_val_denorm, actual_val_denorm, reduction='mean', format='np')\n",
    "\n",
    "print(f'Val MSE Loss: {val_mse_loss}')\n",
    "print(f'Val MSE std: {val_mse_std}')\n",
    "print(f'Val MAE Loss: {val_mae_loss}')\n",
    "print(f'Val MAE std: {val_mae_std}')"
   ]
  },
  {
   "cell_type": "code",
   "execution_count": null,
   "metadata": {},
   "outputs": [],
   "source": [
    "# for p in model_LSTM.parameters():\n",
    "#     print(p.device)"
   ]
  },
  {
   "cell_type": "code",
   "execution_count": null,
   "metadata": {},
   "outputs": [],
   "source": [
    "# # Testing function \n",
    "# def test_LSTM(model, dataloader):\n",
    "#     loss_function = nn.MSELoss(reduction='mean')\n",
    "#     model.eval()\n",
    "#     actual_output, pred_output = [], []\n",
    "#     running_loss = 0. \n",
    "    \n",
    "#     with torch.no_grad():\n",
    "#         for idx, (batch_inputs, batch_targets) in tqdm(enumerate(dataloader)):\n",
    "\n",
    "#             batch_inputs, batch_targets = batch_inputs.to(DEVICE), batch_targets.to(DEVICE)\n",
    "\n",
    "#             # if idx==0:\n",
    "#             #     batch_preds = model(batch_inputs)\n",
    "#             #     # print(f'batch shape: {batch_preds.shape}')\n",
    "#             #     loss = loss_function(batch_preds, batch_targets)\n",
    "#             #     running_loss += loss.item()\n",
    "#             #     current_preds = batch_preds\n",
    "#             #     all_preds = batch_preds\n",
    "\n",
    "#             # else:\n",
    "#             #     batch_preds = model(batch_inputs)\n",
    "#             #     print(f'batch shape: {batch_preds.shape}')\n",
    "#             #     loss = loss_function(batch_preds, batch_targets)\n",
    "#             #     running_loss += loss.item()\n",
    "#             #     all_preds = torch.cat((current_preds, batch_preds), dim=0)\n",
    "#             #     current_preds = batch_preds\n",
    "\n",
    "#             batch_preds = model(batch_inputs)\n",
    "#             # print(f'batch preds: {batch_preds.type}')\n",
    "#             loss = loss_function(batch_preds, batch_targets)\n",
    "#             running_loss += loss.item()\n",
    "#             actual_output.append(batch_targets)\n",
    "#             pred_output.append(batch_preds)\n",
    "\n",
    "\n",
    "#             #             lst = []\n",
    "#             # print(f'{x.size()}')\n",
    "#             # for i in range(10):\n",
    "#             #     x += i  # say we do something with x at iteration i\n",
    "#             #     lst.append(x)\n",
    "#             # # lstt = torch.stack([x for _ in range(10)])\n",
    "#             # lstt = torch.stack(lst)\n",
    "#             # print(lstt.size())\n",
    "\n",
    "#         total_loss = running_loss / len(dataloader)\n",
    "\n",
    "#         actual_output_tensor = torch.vstack(actual_output)\n",
    "#         pred_output_tensor = torch.vstack(pred_output)\n",
    "    \n",
    "#     return pred_output_tensor, actual_output_tensor, total_loss"
   ]
  },
  {
   "cell_type": "code",
   "execution_count": null,
   "metadata": {},
   "outputs": [],
   "source": [
    "# # Creates dataset object that gets individual samples for training/testing so that the Dataloader can generate batches\n",
    "# class gaitDataset(Dataset):\n",
    "#     def __init__(self, x, y):\n",
    "#         self.x = x \n",
    "#         self.y = y \n",
    "\n",
    "#     def __len__(self):\n",
    "#         return self.x.shape[0]\n",
    "    \n",
    "#     def __getitem__(self, index):\n",
    "#         X_sample = self.x[index, :, :]\n",
    "#         Y_sample = self.y[index, :, :]\n",
    "#         return X_sample, Y_sample"
   ]
  },
  {
   "cell_type": "code",
   "execution_count": null,
   "metadata": {},
   "outputs": [],
   "source": [
    "# # X_test_norm = normalise_transform(X_test_data, scalars)\n",
    "# # Y_test_norm = normalise_transform(Y_test_data, scalars)\n",
    "\n",
    "# # Convert to Tensor \n",
    "# # do not store on GPU (yet)\n",
    "# X_test = torch.from_numpy(X_train_norm).float()\n",
    "# Y_test = torch.from_numpy(Y_train_norm).float()\n",
    "\n",
    "# print(f'X_test shape: {X_test.shape}')\n",
    "# print(f'Y_test shape: {Y_test.shape}')"
   ]
  },
  {
   "cell_type": "code",
   "execution_count": null,
   "metadata": {},
   "outputs": [],
   "source": [
    "# test_dataset = gaitDataset(X_test, Y_test)\n",
    "# # # test_dataloader = DataLoader(test_dataset, batch_size=len(test_dataset), shuffle=False)\n",
    "# test_dataloader = DataLoader(test_dataset, batch_size=32, shuffle=False) #ADJUSTED\n",
    "\n",
    "# print(f\"Test Dataset length: {len(test_dataset)}\")"
   ]
  },
  {
   "cell_type": "code",
   "execution_count": null,
   "metadata": {},
   "outputs": [],
   "source": [
    "# pred_test_output, actual_test_output, test_loss = test_LSTM(model_LSTM, test_dataloader)\n",
    "\n",
    "# predicted_values_test = pred_test_output.cpu().numpy() # premute again to make the order of the array (samples, windows, features)\n",
    "# actual_values_test =  actual_test_output.cpu().numpy()\n",
    "\n",
    "# print(f'test loss: {test_loss}')\n",
    "\n",
    "# print(f'Shape of predicted values test: {predicted_values_test.shape}')\n",
    "# print(f'shape of actual values test: {actual_values_test.shape}')\n",
    "\n",
    "# predicted_test_denorm = denormalise(predicted_values_test, scalars)\n",
    "# actual_test_denorm =  denormalise(actual_values_test, scalars)\n",
    "\n",
    "# print(f'Shape of predicted values test post denormalisation: {predicted_test_denorm.shape}')\n",
    "# print(f'shape of actual values test post denormalisation: {actual_test_denorm.shape}')"
   ]
  },
  {
   "cell_type": "code",
   "execution_count": null,
   "metadata": {},
   "outputs": [],
   "source": [
    "test_mse_loss, test_mse_std = mse_loss(predicted_test_denorm, actual_test_denorm, reduction='mean', format='np')\n",
    "test_mae_loss, test_mae_std = mae_loss(predicted_test_denorm, actual_test_denorm, reduction='mean', format='np')\n",
    "\n",
    "print(f'Test MSE Loss: {test_mse_loss}')\n",
    "print(f'Test MSE std: {test_mse_std} ')\n",
    "\n",
    "# MDE= mae_loss(actual_test_denorm[:-1,:,:],actual_test_denorm[1:,:,:],reduction='mean', format='np')\n",
    "MDE= mae_loss(actual_test_denorm[:,:,:],actual_test_denorm[:,:,:],reduction='mean', format='np')\n",
    "\n",
    "print(f'Test MAE Loss: {test_mae_loss}')\n",
    "print(f'Test MAE std: {test_mae_std}')"
   ]
  },
  {
   "cell_type": "code",
   "execution_count": null,
   "metadata": {},
   "outputs": [],
   "source": [
    "plt.hist(np.abs(predicted_test_denorm[:,:,1].reshape(-1,1) - actual_test_denorm[:,:,1].reshape(-1,1)))\n",
    "\n"
   ]
  },
  {
   "cell_type": "code",
   "execution_count": null,
   "metadata": {},
   "outputs": [],
   "source": [
    "actual = np.array([23,36,28,33,44,22,12,10,1])\n",
    "predicted = np.array([23, 35.5, 28.1, 33, 45, 15, 13, 8, 0])\n",
    "\n",
    "actual-predicted"
   ]
  },
  {
   "cell_type": "code",
   "execution_count": null,
   "metadata": {},
   "outputs": [],
   "source": [
    "abs_values = np.abs(actual-predicted)\n",
    "\n",
    "plt.hist(abs_values)"
   ]
  },
  {
   "cell_type": "code",
   "execution_count": null,
   "metadata": {},
   "outputs": [],
   "source": [
    "\n",
    "\n",
    "np.abs(actual-predicted).std()\n"
   ]
  }
 ],
 "metadata": {
  "interpreter": {
   "hash": "27ff62b9f8f46ac7739d102fa0cb2cdb691dbf234c24f48db1edec61200604ab"
  },
  "kernelspec": {
   "display_name": "Python 3.9.7 ('study2')",
   "language": "python",
   "name": "python3"
  },
  "language_info": {
   "codemirror_mode": {
    "name": "ipython",
    "version": 3
   },
   "file_extension": ".py",
   "mimetype": "text/x-python",
   "name": "python",
   "nbconvert_exporter": "python",
   "pygments_lexer": "ipython3",
   "version": "3.9.7"
  },
  "orig_nbformat": 4
 },
 "nbformat": 4,
 "nbformat_minor": 2
}
