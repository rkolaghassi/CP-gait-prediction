{
 "cells": [
  {
   "cell_type": "code",
   "execution_count": 1,
   "metadata": {},
   "outputs": [],
   "source": [
    "import numpy as np\n",
    "import torch\n",
    "from matplotlib import pyplot as plt\n",
    "from matplotlib.pyplot import figure\n",
    "from matplotlib import rcParams\n",
    "from utils.utils import *\n",
    "\n",
    "np.random.seed(2)"
   ]
  },
  {
   "cell_type": "code",
   "execution_count": 2,
   "metadata": {},
   "outputs": [
    {
     "name": "stdout",
     "output_type": "stream",
     "text": [
      "The device used in this notebook is: cuda\n"
     ]
    }
   ],
   "source": [
    "# Set device\n",
    "print(f'The device used in this notebook is: {setDevice()}')\n",
    "\n",
    "DEVICE = setDevice()"
   ]
  },
  {
   "cell_type": "markdown",
   "metadata": {},
   "source": [
    "## Import data"
   ]
  },
  {
   "cell_type": "code",
   "execution_count": 3,
   "metadata": {},
   "outputs": [
    {
     "name": "stdout",
     "output_type": "stream",
     "text": [
      "features: ['Hips Flexion-Extension Left']\n",
      "input_window: 100\n",
      "output_window: 1\n",
      "stride: 1\n"
     ]
    }
   ],
   "source": [
    "# Set settings\n",
    "features, input_window, output_window, stride = set_settings()\n",
    "\n",
    "print(f'features: {features}')\n",
    "print(f'input_window: {input_window}')\n",
    "print(f'output_window: {output_window}')\n",
    "print(f'stride: {stride}')"
   ]
  },
  {
   "cell_type": "code",
   "execution_count": 4,
   "metadata": {},
   "outputs": [
    {
     "name": "stdout",
     "output_type": "stream",
     "text": [
      "Current working directory is: D:\\Study 2 Data\\Healthy Gait\\Train\n",
      "There are 7 files in the specified path.\n"
     ]
    }
   ],
   "source": [
    "file_dir = r'D:\\Study 2 Data\\Healthy Gait\\Train' \n",
    "# file_dir = r'D:\\Study 2 Data\\CP Gait\\Train'\n",
    "train_files = os.listdir(file_dir) \n",
    "\n",
    "# Changes the working directory to get the data from their location \n",
    "os.chdir(file_dir)\n",
    "cwd = os.getcwd()\n",
    "\n",
    "print(f'Current working directory is: {cwd}')\n",
    "print(f\"There are {len(train_files)} files in the specified path.\")"
   ]
  },
  {
   "cell_type": "code",
   "execution_count": 5,
   "metadata": {},
   "outputs": [
    {
     "data": {
      "text/plain": [
       "['AB3154 BF T6-10.csv',\n",
       " 'AB6751 BF T1-5.csv',\n",
       " 'AB7422 BF T1-5.csv',\n",
       " 'AB7779 BF T1-5.csv',\n",
       " 'AB9119 BF T1-5.csv',\n",
       " 'AB9737 BF T1-5.csv',\n",
       " 'AB9737 BF T6-10.csv']"
      ]
     },
     "execution_count": 5,
     "metadata": {},
     "output_type": "execute_result"
    }
   ],
   "source": [
    "train_files"
   ]
  },
  {
   "cell_type": "code",
   "execution_count": 6,
   "metadata": {},
   "outputs": [
    {
     "data": {
      "text/plain": [
       "['Trial', 'Time', 'Hips Flexion-Extension Left']"
      ]
     },
     "execution_count": 6,
     "metadata": {},
     "output_type": "execute_result"
    }
   ],
   "source": [
    "#Create feature list to extract values needed from CSV files\n",
    "all_features = ['Trial', 'Time'] + features\n",
    "all_features\n"
   ]
  },
  {
   "cell_type": "code",
   "execution_count": 7,
   "metadata": {},
   "outputs": [
    {
     "name": "stdout",
     "output_type": "stream",
     "text": [
      "Extracting data from: AB3154 BF T6-10.csv\n",
      "Extracting data from: AB6751 BF T1-5.csv\n",
      "Extracting data from: AB7422 BF T1-5.csv\n",
      "Extracting data from: AB7779 BF T1-5.csv\n",
      "Extracting data from: AB9119 BF T1-5.csv\n",
      "Extracting data from: AB9737 BF T1-5.csv\n",
      "Extracting data from: AB9737 BF T6-10.csv\n"
     ]
    }
   ],
   "source": [
    "all_data = create_dataframe(train_files, all_features)"
   ]
  },
  {
   "cell_type": "code",
   "execution_count": 8,
   "metadata": {},
   "outputs": [],
   "source": [
    "all_data.reset_index(drop=True, inplace=True) #reset the index of the table\n",
    "# path = r'D:\\Study 2 Data\\Healthy Gait' + '\\\\' + 'all_data_healthy_train.csv'\n",
    "# all_data.to_csv(path)"
   ]
  },
  {
   "cell_type": "code",
   "execution_count": 9,
   "metadata": {},
   "outputs": [
    {
     "data": {
      "text/html": [
       "<div>\n",
       "<style scoped>\n",
       "    .dataframe tbody tr th:only-of-type {\n",
       "        vertical-align: middle;\n",
       "    }\n",
       "\n",
       "    .dataframe tbody tr th {\n",
       "        vertical-align: top;\n",
       "    }\n",
       "\n",
       "    .dataframe thead th {\n",
       "        text-align: right;\n",
       "    }\n",
       "</style>\n",
       "<table border=\"1\" class=\"dataframe\">\n",
       "  <thead>\n",
       "    <tr style=\"text-align: right;\">\n",
       "      <th></th>\n",
       "      <th>Patient ID</th>\n",
       "      <th>Trial</th>\n",
       "      <th>Time</th>\n",
       "      <th>Hips Flexion-Extension Left</th>\n",
       "    </tr>\n",
       "  </thead>\n",
       "  <tbody>\n",
       "    <tr>\n",
       "      <th>0</th>\n",
       "      <td>AB3154 BF T6-10</td>\n",
       "      <td>1</td>\n",
       "      <td>161.00</td>\n",
       "      <td>-1.76414</td>\n",
       "    </tr>\n",
       "    <tr>\n",
       "      <th>1</th>\n",
       "      <td>AB3154 BF T6-10</td>\n",
       "      <td>1</td>\n",
       "      <td>161.01</td>\n",
       "      <td>-1.71541</td>\n",
       "    </tr>\n",
       "    <tr>\n",
       "      <th>2</th>\n",
       "      <td>AB3154 BF T6-10</td>\n",
       "      <td>1</td>\n",
       "      <td>161.02</td>\n",
       "      <td>-1.66432</td>\n",
       "    </tr>\n",
       "    <tr>\n",
       "      <th>3</th>\n",
       "      <td>AB3154 BF T6-10</td>\n",
       "      <td>1</td>\n",
       "      <td>161.03</td>\n",
       "      <td>-1.60888</td>\n",
       "    </tr>\n",
       "    <tr>\n",
       "      <th>4</th>\n",
       "      <td>AB3154 BF T6-10</td>\n",
       "      <td>1</td>\n",
       "      <td>161.04</td>\n",
       "      <td>-1.54643</td>\n",
       "    </tr>\n",
       "    <tr>\n",
       "      <th>...</th>\n",
       "      <td>...</td>\n",
       "      <td>...</td>\n",
       "      <td>...</td>\n",
       "      <td>...</td>\n",
       "    </tr>\n",
       "    <tr>\n",
       "      <th>69453</th>\n",
       "      <td>AB9737 BF T6-10</td>\n",
       "      <td>14</td>\n",
       "      <td>474.70</td>\n",
       "      <td>5.59699</td>\n",
       "    </tr>\n",
       "    <tr>\n",
       "      <th>69454</th>\n",
       "      <td>AB9737 BF T6-10</td>\n",
       "      <td>14</td>\n",
       "      <td>474.71</td>\n",
       "      <td>5.45820</td>\n",
       "    </tr>\n",
       "    <tr>\n",
       "      <th>69455</th>\n",
       "      <td>AB9737 BF T6-10</td>\n",
       "      <td>14</td>\n",
       "      <td>474.72</td>\n",
       "      <td>5.31928</td>\n",
       "    </tr>\n",
       "    <tr>\n",
       "      <th>69456</th>\n",
       "      <td>AB9737 BF T6-10</td>\n",
       "      <td>14</td>\n",
       "      <td>474.73</td>\n",
       "      <td>5.17878</td>\n",
       "    </tr>\n",
       "    <tr>\n",
       "      <th>69457</th>\n",
       "      <td>AB9737 BF T6-10</td>\n",
       "      <td>14</td>\n",
       "      <td>474.74</td>\n",
       "      <td>5.03528</td>\n",
       "    </tr>\n",
       "  </tbody>\n",
       "</table>\n",
       "<p>69458 rows × 4 columns</p>\n",
       "</div>"
      ],
      "text/plain": [
       "            Patient ID  Trial    Time  Hips Flexion-Extension Left\n",
       "0      AB3154 BF T6-10      1  161.00                     -1.76414\n",
       "1      AB3154 BF T6-10      1  161.01                     -1.71541\n",
       "2      AB3154 BF T6-10      1  161.02                     -1.66432\n",
       "3      AB3154 BF T6-10      1  161.03                     -1.60888\n",
       "4      AB3154 BF T6-10      1  161.04                     -1.54643\n",
       "...                ...    ...     ...                          ...\n",
       "69453  AB9737 BF T6-10     14  474.70                      5.59699\n",
       "69454  AB9737 BF T6-10     14  474.71                      5.45820\n",
       "69455  AB9737 BF T6-10     14  474.72                      5.31928\n",
       "69456  AB9737 BF T6-10     14  474.73                      5.17878\n",
       "69457  AB9737 BF T6-10     14  474.74                      5.03528\n",
       "\n",
       "[69458 rows x 4 columns]"
      ]
     },
     "execution_count": 9,
     "metadata": {},
     "output_type": "execute_result"
    }
   ],
   "source": [
    "all_data"
   ]
  },
  {
   "cell_type": "code",
   "execution_count": 10,
   "metadata": {},
   "outputs": [
    {
     "name": "stdout",
     "output_type": "stream",
     "text": [
      "maximum number of trials is: 16\n"
     ]
    }
   ],
   "source": [
    "n_trials = all_data['Trial'].max()\n",
    "print(f'maximum number of trials is: {n_trials}')"
   ]
  },
  {
   "cell_type": "code",
   "execution_count": 11,
   "metadata": {},
   "outputs": [
    {
     "data": {
      "text/plain": [
       "array(['AB3154 BF T6-10', 'AB6751 BF T1-5', 'AB7422 BF T1-5',\n",
       "       'AB7779 BF T1-5', 'AB9119 BF T1-5', 'AB9737 BF T1-5',\n",
       "       'AB9737 BF T6-10'], dtype=object)"
      ]
     },
     "execution_count": 11,
     "metadata": {},
     "output_type": "execute_result"
    }
   ],
   "source": [
    "all_data['Patient ID'].unique()"
   ]
  },
  {
   "cell_type": "code",
   "execution_count": 12,
   "metadata": {},
   "outputs": [],
   "source": [
    "# Healthy Subjects \n",
    "train_subjects = [\n",
    " 'AB9737 BF T1-5', \n",
    " 'AB9737 BF T6-10', \n",
    "'AB3154 BF T6-10',\n",
    " 'AB6751 BF T1-5', \n",
    " 'AB7779 BF T1-5', \n",
    " 'AB7422 BF T1-5']\n",
    "\n",
    "val_subjects = ['AB9119 BF T1-5']\n",
    "\n",
    "\n",
    "\n",
    "\n"
   ]
  },
  {
   "cell_type": "code",
   "execution_count": 13,
   "metadata": {},
   "outputs": [
    {
     "data": {
      "text/plain": [
       "['AB9119 BF T1-5']"
      ]
     },
     "execution_count": 13,
     "metadata": {},
     "output_type": "execute_result"
    }
   ],
   "source": [
    "val_subjects"
   ]
  },
  {
   "cell_type": "code",
   "execution_count": 14,
   "metadata": {},
   "outputs": [],
   "source": [
    "train_data = all_data.loc[all_data['Patient ID'].isin(train_subjects)]\n",
    "\n",
    "val_data = all_data.loc[all_data['Patient ID'].isin(val_subjects)]"
   ]
  },
  {
   "cell_type": "code",
   "execution_count": 15,
   "metadata": {},
   "outputs": [
    {
     "name": "stdout",
     "output_type": "stream",
     "text": [
      "all_data: (69458, 4)\n",
      "train_data: (61289, 4)\n",
      "val_data: (8169, 4)\n"
     ]
    }
   ],
   "source": [
    "print(f'all_data: {all_data.shape}')\n",
    "print(f'train_data: {train_data.shape}')\n",
    "print(f'val_data: {val_data.shape}')"
   ]
  },
  {
   "cell_type": "code",
   "execution_count": 16,
   "metadata": {},
   "outputs": [
    {
     "name": "stdout",
     "output_type": "stream",
     "text": [
      "For patient: AB3154 BF T6-10, trial: 1, there are: 651 time-points\n",
      "For patient: AB3154 BF T6-10, trial: 2, there are: 541 time-points\n",
      "For patient: AB3154 BF T6-10, trial: 3, there are: 613 time-points\n",
      "For patient: AB3154 BF T6-10, trial: 4, there are: 601 time-points\n",
      "For patient: AB3154 BF T6-10, trial: 5, there are: 711 time-points\n",
      "For patient: AB3154 BF T6-10, trial: 6, there are: 651 time-points\n",
      "For patient: AB3154 BF T6-10, trial: 7, there are: 1031 time-points\n",
      "For patient: AB3154 BF T6-10, trial: 8, there are: 896 time-points\n",
      "For patient: AB3154 BF T6-10, trial: 9, there are: 812 time-points\n",
      "For patient: AB6751 BF T1-5, trial: 1, there are: 761 time-points\n",
      "For patient: AB6751 BF T1-5, trial: 2, there are: 733 time-points\n",
      "For patient: AB6751 BF T1-5, trial: 3, there are: 731 time-points\n",
      "For patient: AB6751 BF T1-5, trial: 4, there are: 682 time-points\n",
      "For patient: AB6751 BF T1-5, trial: 5, there are: 710 time-points\n",
      "For patient: AB6751 BF T1-5, trial: 6, there are: 708 time-points\n",
      "For patient: AB6751 BF T1-5, trial: 7, there are: 682 time-points\n",
      "For patient: AB6751 BF T1-5, trial: 8, there are: 675 time-points\n",
      "For patient: AB6751 BF T1-5, trial: 9, there are: 900 time-points\n",
      "For patient: AB6751 BF T1-5, trial: 10, there are: 761 time-points\n",
      "For patient: AB7422 BF T1-5, trial: 1, there are: 1004 time-points\n",
      "For patient: AB7422 BF T1-5, trial: 2, there are: 781 time-points\n",
      "For patient: AB7422 BF T1-5, trial: 3, there are: 689 time-points\n",
      "For patient: AB7422 BF T1-5, trial: 4, there are: 792 time-points\n",
      "For patient: AB7422 BF T1-5, trial: 5, there are: 735 time-points\n",
      "For patient: AB7422 BF T1-5, trial: 6, there are: 835 time-points\n",
      "For patient: AB7422 BF T1-5, trial: 7, there are: 761 time-points\n",
      "For patient: AB7422 BF T1-5, trial: 8, there are: 790 time-points\n",
      "For patient: AB7422 BF T1-5, trial: 9, there are: 687 time-points\n",
      "For patient: AB7422 BF T1-5, trial: 10, there are: 775 time-points\n",
      "For patient: AB7779 BF T1-5, trial: 1, there are: 1055 time-points\n",
      "For patient: AB7779 BF T1-5, trial: 2, there are: 914 time-points\n",
      "For patient: AB7779 BF T1-5, trial: 3, there are: 893 time-points\n",
      "For patient: AB7779 BF T1-5, trial: 4, there are: 962 time-points\n",
      "For patient: AB7779 BF T1-5, trial: 5, there are: 830 time-points\n",
      "For patient: AB7779 BF T1-5, trial: 6, there are: 721 time-points\n",
      "For patient: AB7779 BF T1-5, trial: 7, there are: 731 time-points\n",
      "For patient: AB7779 BF T1-5, trial: 8, there are: 771 time-points\n",
      "For patient: AB7779 BF T1-5, trial: 9, there are: 663 time-points\n",
      "For patient: AB7779 BF T1-5, trial: 10, there are: 754 time-points\n",
      "For patient: AB9737 BF T1-5, trial: 1, there are: 1027 time-points\n",
      "For patient: AB9737 BF T1-5, trial: 2, there are: 1066 time-points\n",
      "For patient: AB9737 BF T1-5, trial: 3, there are: 1061 time-points\n",
      "For patient: AB9737 BF T1-5, trial: 4, there are: 880 time-points\n",
      "For patient: AB9737 BF T1-5, trial: 5, there are: 995 time-points\n",
      "For patient: AB9737 BF T1-5, trial: 6, there are: 921 time-points\n",
      "For patient: AB9737 BF T1-5, trial: 7, there are: 897 time-points\n",
      "For patient: AB9737 BF T1-5, trial: 8, there are: 920 time-points\n",
      "For patient: AB9737 BF T1-5, trial: 9, there are: 836 time-points\n",
      "For patient: AB9737 BF T1-5, trial: 10, there are: 874 time-points\n",
      "For patient: AB9737 BF T1-5, trial: 11, there are: 801 time-points\n",
      "For patient: AB9737 BF T1-5, trial: 12, there are: 877 time-points\n",
      "For patient: AB9737 BF T1-5, trial: 13, there are: 833 time-points\n",
      "For patient: AB9737 BF T1-5, trial: 14, there are: 811 time-points\n",
      "For patient: AB9737 BF T1-5, trial: 15, there are: 909 time-points\n",
      "For patient: AB9737 BF T1-5, trial: 16, there are: 824 time-points\n",
      "For patient: AB9737 BF T6-10, trial: 1, there are: 1843 time-points\n",
      "For patient: AB9737 BF T6-10, trial: 2, there are: 1565 time-points\n",
      "For patient: AB9737 BF T6-10, trial: 3, there are: 1296 time-points\n",
      "For patient: AB9737 BF T6-10, trial: 4, there are: 1241 time-points\n",
      "For patient: AB9737 BF T6-10, trial: 5, there are: 1251 time-points\n",
      "For patient: AB9737 BF T6-10, trial: 6, there are: 951 time-points\n",
      "For patient: AB9737 BF T6-10, trial: 7, there are: 1170 time-points\n",
      "For patient: AB9737 BF T6-10, trial: 8, there are: 1201 time-points\n",
      "For patient: AB9737 BF T6-10, trial: 9, there are: 1051 time-points\n",
      "For patient: AB9737 BF T6-10, trial: 10, there are: 1023 time-points\n",
      "For patient: AB9737 BF T6-10, trial: 11, there are: 1026 time-points\n",
      "For patient: AB9737 BF T6-10, trial: 12, there are: 1063 time-points\n",
      "For patient: AB9737 BF T6-10, trial: 13, there are: 1020 time-points\n",
      "For patient: AB9737 BF T6-10, trial: 14, there are: 1063 time-points\n",
      "\n",
      "There are 69 samples\n",
      "For patient: AB9119 BF T1-5, trial: 1, there are: 890 time-points\n",
      "For patient: AB9119 BF T1-5, trial: 2, there are: 1001 time-points\n",
      "For patient: AB9119 BF T1-5, trial: 3, there are: 831 time-points\n",
      "For patient: AB9119 BF T1-5, trial: 4, there are: 1051 time-points\n",
      "For patient: AB9119 BF T1-5, trial: 5, there are: 736 time-points\n",
      "For patient: AB9119 BF T1-5, trial: 6, there are: 766 time-points\n",
      "For patient: AB9119 BF T1-5, trial: 7, there are: 664 time-points\n",
      "For patient: AB9119 BF T1-5, trial: 8, there are: 764 time-points\n",
      "For patient: AB9119 BF T1-5, trial: 9, there are: 711 time-points\n",
      "For patient: AB9119 BF T1-5, trial: 10, there are: 755 time-points\n",
      "\n",
      "There are 10 samples\n"
     ]
    }
   ],
   "source": [
    "train_samples = count_nsamples(train_data)\n",
    "val_samples = count_nsamples(val_data)"
   ]
  },
  {
   "cell_type": "code",
   "execution_count": 17,
   "metadata": {},
   "outputs": [
    {
     "name": "stdout",
     "output_type": "stream",
     "text": [
      "Number of train samples: 69\n",
      "Number of validation samples: 10\n"
     ]
    }
   ],
   "source": [
    "print(f'Number of train samples: {train_samples}')\n",
    "print(f'Number of validation samples: {val_samples}')"
   ]
  },
  {
   "cell_type": "code",
   "execution_count": 18,
   "metadata": {},
   "outputs": [],
   "source": [
    "m = all_data['Patient ID'].unique()"
   ]
  },
  {
   "cell_type": "code",
   "execution_count": 19,
   "metadata": {},
   "outputs": [],
   "source": [
    "\n",
    "def pd_to_np_converter(data, n_samples, features):\n",
    "    #create a numpy array that stores the data for export\n",
    "    sample_ID = []\n",
    "    # patients = 2\n",
    "    # n_trials = 10\n",
    "    # # samples = patients * n_trials\n",
    "    data_store = np.zeros((n_samples, 2000, len(features)), dtype=np.float32)\n",
    "    i = 0\n",
    "\n",
    "    for p in data['Patient ID'].unique(): #loop over patients \n",
    "        for t in data['Trial'].unique(): #loop over trials starting with trials 1 to trial 9 (inclusive)\n",
    "            pd_array = data[(data['Patient ID'] == p) & (data['Trial'] == t)]\n",
    "            if pd_array.empty:\n",
    "                continue\n",
    "                # print('DataFrame is empty!')\n",
    "                # print(f'Trail {t} does not exist in {p}')\n",
    "            else:\n",
    "                np_array = pd_array.to_numpy()\n",
    "                data_store[i, :np_array.shape[0], :] = np_array[:,3:] \n",
    "                sample_ID.append(p+ ' Ts'+str(t)) \n",
    "                i +=1\n",
    "\n",
    "    return pd_array.columns, data_store\n"
   ]
  },
  {
   "cell_type": "code",
   "execution_count": 20,
   "metadata": {},
   "outputs": [
    {
     "name": "stdout",
     "output_type": "stream",
     "text": [
      "train_data_np.shape: (69, 2000, 1)\n",
      "val_data_np.shape: (10, 2000, 1)\n"
     ]
    }
   ],
   "source": [
    "train_columns, train_data_np = pd_to_np_converter(train_data, train_samples, features)\n",
    "val_columns, val_data_np = pd_to_np_converter(val_data, val_samples, features)\n",
    "\n",
    "print(f'train_data_np.shape: {train_data_np.shape}')\n",
    "print(f'val_data_np.shape: {val_data_np.shape}')"
   ]
  },
  {
   "cell_type": "code",
   "execution_count": 21,
   "metadata": {},
   "outputs": [
    {
     "data": {
      "text/plain": [
       "['Hips Flexion-Extension Left']"
      ]
     },
     "execution_count": 21,
     "metadata": {},
     "output_type": "execute_result"
    }
   ],
   "source": [
    "train_columns[3:].tolist() "
   ]
  },
  {
   "cell_type": "code",
   "execution_count": 22,
   "metadata": {},
   "outputs": [
    {
     "data": {
      "text/plain": [
       "True"
      ]
     },
     "execution_count": 22,
     "metadata": {},
     "output_type": "execute_result"
    }
   ],
   "source": [
    "features == train_columns[3:].tolist() "
   ]
  },
  {
   "cell_type": "code",
   "execution_count": 23,
   "metadata": {},
   "outputs": [
    {
     "name": "stdout",
     "output_type": "stream",
     "text": [
      "YAY! Column headers of dataframe match features\n"
     ]
    }
   ],
   "source": [
    "labels_keys = train_columns[3:].tolist() #copy the train columns removing the first column headers'Patient ID', 'Trial', 'Time'\n",
    "\n",
    "\n",
    "if features == labels_keys: # check that the features are the same as the label keys \n",
    "    print('YAY! Column headers of dataframe match features')\n",
    "else:\n",
    "    print('ERROR: Features and labels_keys do not match!')"
   ]
  },
  {
   "cell_type": "code",
   "execution_count": 24,
   "metadata": {},
   "outputs": [
    {
     "data": {
      "text/plain": [
       "{'Hips Flexion-Extension Left': 0}"
      ]
     },
     "execution_count": 24,
     "metadata": {},
     "output_type": "execute_result"
    }
   ],
   "source": [
    "labels_keys = features \n",
    "\n",
    "labels_idx = np.arange(0, len(labels_keys), 1)\n",
    "\n",
    "labels = dict(zip(labels_keys, labels_idx))\n",
    "\n",
    "len(labels)\n",
    "labels\n",
    "# labels_keys"
   ]
  },
  {
   "cell_type": "code",
   "execution_count": 25,
   "metadata": {},
   "outputs": [],
   "source": [
    "def window_generator_fltrd(sequence, input_window, output_window, stride, features, labels):\n",
    "    \"\"\"\n",
    "    Trims the input sequence from leading and trailing zeros, then generates an array with input windows and another array for the corresponding output windows\n",
    "    Args:\n",
    "        sequence: (np.array, float32) columns are features while rows are time points\n",
    "        features: (list, strin~g) column names\n",
    "        input_window: (int)\n",
    "        stride (int): the value the input window shifts along the sequence \n",
    "    Returns:\n",
    "\n",
    "    \"\"\"\n",
    "    # shortest_seqLen = float('inf')\n",
    "\n",
    "    # f_zeros = [] #array that stores the number of leading zeros for each feature\n",
    "    b_zeros = [] #array that stores the number of trailing zeros for each feacture \n",
    "\n",
    "    for f in features:\n",
    "        # trim the leading and training zeros\n",
    "        # f_zeros.append(sequence[:,labels[f]].shape[0] - np.trim_zeros(sequence[:,labels[f]], 'f').shape[0]) #forward zeros\n",
    "        b_zeros.append(sequence[:,labels[f]].shape[0] - np.trim_zeros(sequence[:,labels[f]], 'b').shape[0]) #backward zeros\n",
    "\n",
    "    # max_f_zeros = max(f_zeros) #find the maximum number of leading zeros\n",
    "    max_b_zeros = max(b_zeros) #find the maximum number of trailing/backward zeros \n",
    "    # print(max_b_zeros)\n",
    "\n",
    "    #total sequence length minus max leading and trailing zeros \n",
    "    trimmed_seqLen = sequence[:,0].shape[0] - (max_b_zeros)\n",
    "    trimmed_seqLen_reduced = trimmed_seqLen - 200 #reducing sequence size to remove the first and last 200 timesteps which may contain errors   \n",
    "    print(f'trimmed_seqLen: {trimmed_seqLen}')\n",
    "    print(f'trimmed_seqLen_reduced: {trimmed_seqLen_reduced}')\n",
    "\n",
    "\n",
    "    # Slides are the number of times the input window can scan the sequence \n",
    "    # Using the equation that calculates the number of outputs as in convolution  (W – F + 2P) / S + 1, W=input image width, F=filter width, P=padding, S=stride\n",
    "    # The width of the image is taken as the number of time steps in the sequence, corresponding to the length of any TRIMMED column in the data \n",
    "    slides = ((trimmed_seqLen_reduced - (input_window+output_window)) // stride) + 1\n",
    "    print(f\"number of slides is: {slides}\")\n",
    "\n",
    "    # Calculating the first index of each of the output sequences (first index always f_zeros as its always shifted to start with the first non-zero element)\n",
    "    seq_indicies = (np.arange(slides) * stride) + 100\n",
    "\n",
    "    if slides <= 0:\n",
    "        raise ValueError(\"input window and output window length are greater than sequence length, check their values\")\n",
    "\n",
    "    # Creates an zero numpy array to store the samples in \n",
    "    X_values = np.zeros((len(seq_indicies) , input_window, len(features)))\n",
    "    Y_values = np.zeros((len(seq_indicies), output_window, len(features)))\n",
    "\n",
    "    # Loop through the features, then loop through the list of sequence indicies needed for input and output windows \n",
    "    for j, feature in enumerate(features):\n",
    "        # print(j)\n",
    "        # print(feature)\n",
    "        for i, idx in enumerate(seq_indicies):\n",
    "            X_values[i, :, j] = sequence[idx:idx+input_window, labels[feature]]\n",
    "            Y_values[i, :, j] = sequence[idx+input_window:idx+input_window + output_window, labels[feature]]\n",
    "\n",
    "    return X_values, Y_values "
   ]
  },
  {
   "cell_type": "code",
   "execution_count": 26,
   "metadata": {},
   "outputs": [],
   "source": [
    "def window_generator_lt_fltrd(sequence, input_window, future_window, stride, features, labels): #window gernerator long term fltrd (creats a validation window up to 200 timesteps in advance to measure error on long term future predictions)\n",
    "    \"\"\"\n",
    "    Trims the input sequence from leading and trailing zeros, then generates an array with input windows and another array for the corresponding output windows\n",
    "    Args:\n",
    "        sequence: (np.array, float32) columns are features while rows are time points\n",
    "        features: (list, strin~g) column names\n",
    "        input_window: (int)\n",
    "        stride (int): the value the input window shifts along the sequence \n",
    "    Returns:\n",
    "\n",
    "    \"\"\"\n",
    "    b_zeros = [] #array that stores the number of trailing zeros for each feacture \n",
    "\n",
    "    for f in features:\n",
    "        # trim the leading and training zeros\n",
    "        b_zeros.append(sequence[:,labels[f]].shape[0] - np.trim_zeros(sequence[:,labels[f]], 'b').shape[0]) #backward zeros\n",
    "\n",
    "    max_b_zeros = max(b_zeros) #find the maximum number of trailing/backward zeros \n",
    "    # print(max_b_zeros)\n",
    "\n",
    "    fltrd_samples = 2 * 100 #remove 150 timesteps from the beggining and ending of the entire sequence\n",
    "    # lt_len = 200 # number of timesteps to predict in the future based on a single input window (to be used in measuring errors based on prediction input)\n",
    "    \n",
    "    #total sequence length minus max leading and trailing zeros \n",
    "    trimmed_seqLen = sequence[:,0].shape[0] - (max_b_zeros)\n",
    "    trimmed_seqLen_reduced = trimmed_seqLen - (fltrd_samples) # (- fltrd_samples is done to reduce sequence size to remove the first and last 150 timesteps which may contain errors since they corresponding to beggining and ending of the trials \n",
    "    print(f'trimmed_seqLen: {trimmed_seqLen}')\n",
    "    print(f'trimmed_seqLen_reduced: {trimmed_seqLen_reduced}')\n",
    "\n",
    "\n",
    "    # Slides are the number of times the input window can scan the sequence \n",
    "    # Using the equation that calculates the number of outputs as in convolution  (W – F + 2P) / S + 1, W=input image width, F=filter width, P=padding, S=stride\n",
    "    # The width of the image is taken as the number of time steps in the sequence, corresponding to the length of any TRIMMED column in the data \n",
    "    slides = ((trimmed_seqLen_reduced - (input_window+future_window)) // stride) + 1\n",
    "    print(f\"number of slides is: {slides}\")\n",
    "\n",
    "    # Calculating the first index of each of the output sequences (first index always f_zeros as its always shifted to start with the first non-zero element)\n",
    "    seq_indicies = (np.arange(slides) * stride) + 100\n",
    "\n",
    "    if slides <= 0:\n",
    "        raise ValueError(\"input window and output window length are greater than sequence length, check their values\")\n",
    "        # return None \n",
    "\n",
    "    # Creates an zero numpy array to store the samples in \n",
    "    X_values = np.zeros((len(seq_indicies) , input_window, len(features)))\n",
    "    Y_values = np.zeros((len(seq_indicies), future_window, len(features)))\n",
    "\n",
    "    # Loop through the features, then loop through the list of sequence indicies needed for input and output windows \n",
    "    for j, feature in enumerate(features):\n",
    "        # print(j)\n",
    "        # print(feature)\n",
    "        for i, idx in enumerate(seq_indicies):\n",
    "            X_values[i, :, j] = sequence[idx:idx+input_window, labels[feature]]\n",
    "            Y_values[i, :, j] = sequence[idx+input_window:idx+input_window + future_window, labels[feature]]\n",
    "\n",
    "    return X_values, Y_values "
   ]
  },
  {
   "cell_type": "code",
   "execution_count": 27,
   "metadata": {},
   "outputs": [
    {
     "name": "stdout",
     "output_type": "stream",
     "text": [
      "trimmed_seqLen: 651\n",
      "trimmed_seqLen_reduced: 451\n",
      "number of slides is: 351\n",
      "trimmed_seqLen: 541\n",
      "trimmed_seqLen_reduced: 341\n",
      "number of slides is: 241\n",
      "trimmed_seqLen: 613\n",
      "trimmed_seqLen_reduced: 413\n",
      "number of slides is: 313\n",
      "trimmed_seqLen: 601\n",
      "trimmed_seqLen_reduced: 401\n",
      "number of slides is: 301\n",
      "trimmed_seqLen: 711\n",
      "trimmed_seqLen_reduced: 511\n",
      "number of slides is: 411\n",
      "trimmed_seqLen: 651\n",
      "trimmed_seqLen_reduced: 451\n",
      "number of slides is: 351\n",
      "trimmed_seqLen: 1031\n",
      "trimmed_seqLen_reduced: 831\n",
      "number of slides is: 731\n",
      "trimmed_seqLen: 896\n",
      "trimmed_seqLen_reduced: 696\n",
      "number of slides is: 596\n",
      "trimmed_seqLen: 812\n",
      "trimmed_seqLen_reduced: 612\n",
      "number of slides is: 512\n",
      "trimmed_seqLen: 761\n",
      "trimmed_seqLen_reduced: 561\n",
      "number of slides is: 461\n",
      "trimmed_seqLen: 733\n",
      "trimmed_seqLen_reduced: 533\n",
      "number of slides is: 433\n",
      "trimmed_seqLen: 731\n",
      "trimmed_seqLen_reduced: 531\n",
      "number of slides is: 431\n",
      "trimmed_seqLen: 682\n",
      "trimmed_seqLen_reduced: 482\n",
      "number of slides is: 382\n",
      "trimmed_seqLen: 710\n",
      "trimmed_seqLen_reduced: 510\n",
      "number of slides is: 410\n",
      "trimmed_seqLen: 708\n",
      "trimmed_seqLen_reduced: 508\n",
      "number of slides is: 408\n",
      "trimmed_seqLen: 682\n",
      "trimmed_seqLen_reduced: 482\n",
      "number of slides is: 382\n",
      "trimmed_seqLen: 675\n",
      "trimmed_seqLen_reduced: 475\n",
      "number of slides is: 375\n",
      "trimmed_seqLen: 900\n",
      "trimmed_seqLen_reduced: 700\n",
      "number of slides is: 600\n",
      "trimmed_seqLen: 761\n",
      "trimmed_seqLen_reduced: 561\n",
      "number of slides is: 461\n",
      "trimmed_seqLen: 1004\n",
      "trimmed_seqLen_reduced: 804\n",
      "number of slides is: 704\n",
      "trimmed_seqLen: 781\n",
      "trimmed_seqLen_reduced: 581\n",
      "number of slides is: 481\n",
      "trimmed_seqLen: 689\n",
      "trimmed_seqLen_reduced: 489\n",
      "number of slides is: 389\n",
      "trimmed_seqLen: 792\n",
      "trimmed_seqLen_reduced: 592\n",
      "number of slides is: 492\n",
      "trimmed_seqLen: 735\n",
      "trimmed_seqLen_reduced: 535\n",
      "number of slides is: 435\n",
      "trimmed_seqLen: 835\n",
      "trimmed_seqLen_reduced: 635\n",
      "number of slides is: 535\n",
      "trimmed_seqLen: 761\n",
      "trimmed_seqLen_reduced: 561\n",
      "number of slides is: 461\n",
      "trimmed_seqLen: 790\n",
      "trimmed_seqLen_reduced: 590\n",
      "number of slides is: 490\n",
      "trimmed_seqLen: 687\n",
      "trimmed_seqLen_reduced: 487\n",
      "number of slides is: 387\n",
      "trimmed_seqLen: 775\n",
      "trimmed_seqLen_reduced: 575\n",
      "number of slides is: 475\n",
      "trimmed_seqLen: 1055\n",
      "trimmed_seqLen_reduced: 855\n",
      "number of slides is: 755\n",
      "trimmed_seqLen: 914\n",
      "trimmed_seqLen_reduced: 714\n",
      "number of slides is: 614\n",
      "trimmed_seqLen: 893\n",
      "trimmed_seqLen_reduced: 693\n",
      "number of slides is: 593\n",
      "trimmed_seqLen: 962\n",
      "trimmed_seqLen_reduced: 762\n",
      "number of slides is: 662\n",
      "trimmed_seqLen: 830\n",
      "trimmed_seqLen_reduced: 630\n",
      "number of slides is: 530\n",
      "trimmed_seqLen: 721\n",
      "trimmed_seqLen_reduced: 521\n",
      "number of slides is: 421\n",
      "trimmed_seqLen: 731\n",
      "trimmed_seqLen_reduced: 531\n",
      "number of slides is: 431\n",
      "trimmed_seqLen: 771\n",
      "trimmed_seqLen_reduced: 571\n",
      "number of slides is: 471\n",
      "trimmed_seqLen: 663\n",
      "trimmed_seqLen_reduced: 463\n",
      "number of slides is: 363\n",
      "trimmed_seqLen: 754\n",
      "trimmed_seqLen_reduced: 554\n",
      "number of slides is: 454\n",
      "trimmed_seqLen: 1027\n",
      "trimmed_seqLen_reduced: 827\n",
      "number of slides is: 727\n",
      "trimmed_seqLen: 1066\n",
      "trimmed_seqLen_reduced: 866\n",
      "number of slides is: 766\n",
      "trimmed_seqLen: 1061\n",
      "trimmed_seqLen_reduced: 861\n",
      "number of slides is: 761\n",
      "trimmed_seqLen: 880\n",
      "trimmed_seqLen_reduced: 680\n",
      "number of slides is: 580\n",
      "trimmed_seqLen: 995\n",
      "trimmed_seqLen_reduced: 795\n",
      "number of slides is: 695\n",
      "trimmed_seqLen: 921\n",
      "trimmed_seqLen_reduced: 721\n",
      "number of slides is: 621\n",
      "trimmed_seqLen: 897\n",
      "trimmed_seqLen_reduced: 697\n",
      "number of slides is: 597\n",
      "trimmed_seqLen: 920\n",
      "trimmed_seqLen_reduced: 720\n",
      "number of slides is: 620\n",
      "trimmed_seqLen: 836\n",
      "trimmed_seqLen_reduced: 636\n",
      "number of slides is: 536\n",
      "trimmed_seqLen: 874\n",
      "trimmed_seqLen_reduced: 674\n",
      "number of slides is: 574\n",
      "trimmed_seqLen: 801\n",
      "trimmed_seqLen_reduced: 601\n",
      "number of slides is: 501\n",
      "trimmed_seqLen: 877\n",
      "trimmed_seqLen_reduced: 677\n",
      "number of slides is: 577\n",
      "trimmed_seqLen: 833\n",
      "trimmed_seqLen_reduced: 633\n",
      "number of slides is: 533\n",
      "trimmed_seqLen: 811\n",
      "trimmed_seqLen_reduced: 611\n",
      "number of slides is: 511\n",
      "trimmed_seqLen: 909\n",
      "trimmed_seqLen_reduced: 709\n",
      "number of slides is: 609\n",
      "trimmed_seqLen: 824\n",
      "trimmed_seqLen_reduced: 624\n",
      "number of slides is: 524\n",
      "trimmed_seqLen: 1843\n",
      "trimmed_seqLen_reduced: 1643\n",
      "number of slides is: 1543\n",
      "trimmed_seqLen: 1565\n",
      "trimmed_seqLen_reduced: 1365\n",
      "number of slides is: 1265\n",
      "trimmed_seqLen: 1296\n",
      "trimmed_seqLen_reduced: 1096\n",
      "number of slides is: 996\n",
      "trimmed_seqLen: 1241\n",
      "trimmed_seqLen_reduced: 1041\n",
      "number of slides is: 941\n",
      "trimmed_seqLen: 1251\n",
      "trimmed_seqLen_reduced: 1051\n",
      "number of slides is: 951\n",
      "trimmed_seqLen: 951\n",
      "trimmed_seqLen_reduced: 751\n",
      "number of slides is: 651\n",
      "trimmed_seqLen: 1170\n",
      "trimmed_seqLen_reduced: 970\n",
      "number of slides is: 870\n",
      "trimmed_seqLen: 1201\n",
      "trimmed_seqLen_reduced: 1001\n",
      "number of slides is: 901\n",
      "trimmed_seqLen: 1051\n",
      "trimmed_seqLen_reduced: 851\n",
      "number of slides is: 751\n",
      "trimmed_seqLen: 1023\n",
      "trimmed_seqLen_reduced: 823\n",
      "number of slides is: 723\n",
      "trimmed_seqLen: 1026\n",
      "trimmed_seqLen_reduced: 826\n",
      "number of slides is: 726\n",
      "trimmed_seqLen: 1063\n",
      "trimmed_seqLen_reduced: 863\n",
      "number of slides is: 763\n",
      "trimmed_seqLen: 1020\n",
      "trimmed_seqLen_reduced: 820\n",
      "number of slides is: 720\n",
      "trimmed_seqLen: 1063\n",
      "trimmed_seqLen_reduced: 863\n",
      "number of slides is: 763\n",
      "shape of X_train_windows: (62100, 100, 1)\n",
      "shape of Y_train_windows: (62100, 1, 1)\n",
      "shape of X_train_data: (40589, 100, 1)\n",
      "shape of Y_train_data: (40589, 1, 1)\n"
     ]
    }
   ],
   "source": [
    "# Creating training datasets\n",
    "# Selecting the features to be used when creating windows \n",
    "approx_seq_len = 2000 # appoximate the length of the longest sequence that can be encountered \n",
    "# samples_per_file = ((approx_seq_len - (input_window+output_window)) // stride) + 1 #number of window samples generated per file \n",
    "samples_per_file = 900\n",
    "\n",
    "\n",
    "# create a zero-filled 3D array with shape (number of samples * number of files, window size, number of features)\n",
    "X_train_windows = np.zeros((samples_per_file*train_samples, input_window, len(features)), dtype=np.float32) #size can be reduced by decreasing train_size \n",
    "Y_train_windows = np.zeros((samples_per_file*train_samples, output_window, len(features)), dtype=np.float32) \n",
    "\n",
    "\n",
    "start_idx = 0 #setting start index to equal zero \n",
    "train_sample_sum = 0\n",
    "train_excluded_samples = []\n",
    "# Create training windows \n",
    "\n",
    "#for i in tqdm(range(train_size)): #Use for including all data including outliers \n",
    "for i in range(train_samples): \n",
    "       \n",
    "    X_values, Y_values = window_generator_fltrd(\n",
    "        train_data_np[i,:,:],\n",
    "        input_window=input_window, \n",
    "        output_window=output_window, \n",
    "        stride=stride, \n",
    "        features=features,\n",
    "        labels=labels\n",
    "        )\n",
    "\n",
    "    end_idx = start_idx + X_values.shape[0]\n",
    "\n",
    "    # print(f'file number [{f}] start index: {start_idx}, end index: {end_idx}, number of samples: {X_values.shape[0]}')\n",
    "\n",
    "    X_train_windows[start_idx:end_idx, :, :] = X_values\n",
    "    Y_train_windows[start_idx:end_idx, :, :] = Y_values\n",
    "\n",
    "    # print(f'number of samples copied: {X_train_data_store[start_idx:end_idx, :, :].shape[0]}')\n",
    "\n",
    "    start_idx = end_idx \n",
    "    train_sample_sum += X_values.shape[0]\n",
    "\n",
    "    # except Exception:\n",
    "    #     exception_msg(i)\n",
    "    #     train_excluded_samples.append(i)\n",
    "\n",
    "# print(f\"Completed storage of training windows samples, which contains {X_train_data_store.shape[0]} samples\")\n",
    "X_train_data = X_train_windows[:end_idx, :, :].astype('float64')\n",
    "Y_train_data = Y_train_windows[:end_idx, :, :].astype('float64')\n",
    "\n",
    "\n",
    "print(f'shape of X_train_windows: {X_train_windows.shape}')\n",
    "print(f'shape of Y_train_windows: {Y_train_windows.shape}')\n",
    "\n",
    "print(f'shape of X_train_data: {X_train_data.shape}')\n",
    "print(f'shape of Y_train_data: {Y_train_data.shape}')"
   ]
  },
  {
   "cell_type": "code",
   "execution_count": 28,
   "metadata": {},
   "outputs": [
    {
     "name": "stdout",
     "output_type": "stream",
     "text": [
      "trimmed_seqLen: 890\n",
      "trimmed_seqLen_reduced: 690\n",
      "number of slides is: 590\n",
      "trimmed_seqLen: 1001\n",
      "trimmed_seqLen_reduced: 801\n",
      "number of slides is: 701\n",
      "trimmed_seqLen: 831\n",
      "trimmed_seqLen_reduced: 631\n",
      "number of slides is: 531\n",
      "trimmed_seqLen: 1051\n",
      "trimmed_seqLen_reduced: 851\n",
      "number of slides is: 751\n",
      "trimmed_seqLen: 736\n",
      "trimmed_seqLen_reduced: 536\n",
      "number of slides is: 436\n",
      "trimmed_seqLen: 766\n",
      "trimmed_seqLen_reduced: 566\n",
      "number of slides is: 466\n",
      "trimmed_seqLen: 664\n",
      "trimmed_seqLen_reduced: 464\n",
      "number of slides is: 364\n",
      "trimmed_seqLen: 764\n",
      "trimmed_seqLen_reduced: 564\n",
      "number of slides is: 464\n",
      "trimmed_seqLen: 711\n",
      "trimmed_seqLen_reduced: 511\n",
      "number of slides is: 411\n",
      "trimmed_seqLen: 755\n",
      "trimmed_seqLen_reduced: 555\n",
      "number of slides is: 455\n",
      "shape of X_val_windows: (16000, 100, 1)\n",
      "shape of Y_val_windows: (16000, 1, 1)\n",
      "shape of X_val_data: (5169, 100, 1)\n",
      "shape of Y_val_data: (5169, 1, 1)\n"
     ]
    }
   ],
   "source": [
    "# Creating validation datasets\n",
    "# Selecting the features to be used when creating windows \n",
    "approx_seq_len = 2000 # appoximate the length of the longest sequence that can be encountered \n",
    "# samples_per_file = ((approx_seq_len - (input_window+output_window)) // stride) + 1 #number of window samples generated per file \n",
    "samples_per_file = 1600\n",
    "\n",
    "\n",
    "# create a zero-filled 3D array with shape (number of samples * number of files, window size, number of features)\n",
    "X_val_windows = np.zeros((samples_per_file*val_samples, input_window, len(features)), dtype=np.float32) #size can be reduced by decreasing train_size \n",
    "Y_val_windows = np.zeros((samples_per_file*val_samples, output_window, len(features)), dtype=np.float32) \n",
    "\n",
    "\n",
    "start_idx = 0 #setting start index to equal zero \n",
    "val_sample_sum = 0\n",
    "val_excluded_samples = []\n",
    "# Create training windows \n",
    "\n",
    "#for i in tqdm(range(train_size)): #Use for including all data including outliers \n",
    "for i in range(val_samples): \n",
    "       \n",
    "    X_values, Y_values = window_generator_fltrd(\n",
    "        val_data_np[i,:,:],\n",
    "        input_window=input_window, \n",
    "        output_window=output_window, \n",
    "        stride=stride, \n",
    "        features=features,\n",
    "        labels=labels\n",
    "        )\n",
    "\n",
    "    end_idx = start_idx + X_values.shape[0]\n",
    "\n",
    "    # print(f'file number [{f}] start index: {start_idx}, end index: {end_idx}, number of samples: {X_values.shape[0]}')\n",
    "\n",
    "    X_val_windows[start_idx:end_idx, :, :] = X_values\n",
    "    Y_val_windows[start_idx:end_idx, :, :] = Y_values\n",
    "\n",
    "    # print(f'number of samples copied: {X_train_data_store[start_idx:end_idx, :, :].shape[0]}')\n",
    "\n",
    "    start_idx = end_idx \n",
    "    val_sample_sum += X_values.shape[0]\n",
    "\n",
    "    # except Exception:\n",
    "    #     exception_msg(i)\n",
    "    #     train_excluded_samples.append(i)\n",
    "\n",
    "# print(f\"Completed storage of training windows samples, which contains {X_train_data_store.shape[0]} samples\")\n",
    "X_val_data = X_val_windows[:end_idx, :, :].astype('float64')\n",
    "Y_val_data = Y_val_windows[:end_idx, :, :].astype('float64')\n",
    "\n",
    "\n",
    "print(f'shape of X_val_windows: {X_val_windows.shape}')\n",
    "print(f'shape of Y_val_windows: {Y_val_windows.shape}')\n",
    "\n",
    "print(f'shape of X_val_data: {X_val_data.shape}')\n",
    "print(f'shape of Y_val_data: {Y_val_data.shape}')"
   ]
  },
  {
   "cell_type": "code",
   "execution_count": 29,
   "metadata": {},
   "outputs": [
    {
     "name": "stdout",
     "output_type": "stream",
     "text": [
      "trimmed_seqLen: 890\n",
      "trimmed_seqLen_reduced: 690\n",
      "number of slides is: 391\n",
      "trimmed_seqLen: 1001\n",
      "trimmed_seqLen_reduced: 801\n",
      "number of slides is: 502\n",
      "trimmed_seqLen: 831\n",
      "trimmed_seqLen_reduced: 631\n",
      "number of slides is: 332\n",
      "trimmed_seqLen: 1051\n",
      "trimmed_seqLen_reduced: 851\n",
      "number of slides is: 552\n",
      "trimmed_seqLen: 736\n",
      "trimmed_seqLen_reduced: 536\n",
      "number of slides is: 237\n",
      "trimmed_seqLen: 766\n",
      "trimmed_seqLen_reduced: 566\n",
      "number of slides is: 267\n",
      "trimmed_seqLen: 664\n",
      "trimmed_seqLen_reduced: 464\n",
      "number of slides is: 165\n",
      "trimmed_seqLen: 764\n",
      "trimmed_seqLen_reduced: 564\n",
      "number of slides is: 265\n",
      "trimmed_seqLen: 711\n",
      "trimmed_seqLen_reduced: 511\n",
      "number of slides is: 212\n",
      "trimmed_seqLen: 755\n",
      "trimmed_seqLen_reduced: 555\n",
      "number of slides is: 256\n",
      "shape of X_val_lt_windows: (16000, 100, 1)\n",
      "shape of Y_val_lt_windows: (16000, 200, 1)\n",
      "shape of X_val_lt_data: (3179, 100, 1)\n",
      "shape of Y_val_lt_data: (3179, 200, 1)\n"
     ]
    }
   ],
   "source": [
    "# Creating validation datasets (long term predictions)\n",
    "# Selecting the features to be used when creating windows \n",
    "approx_seq_len = 2000 # appoximate the length of the longest sequence that can be encountered \n",
    "# samples_per_file = ((approx_seq_len - (input_window+output_window)) // stride) + 1 #number of window samples generated per file \n",
    "samples_per_file = 1600\n",
    "\n",
    "future_window = 200\n",
    "\n",
    "# create a zero-filled 3D array with shape (number of samples * number of files, window size, number of features)\n",
    "X_val_lt_windows = np.zeros((samples_per_file*val_samples, input_window, len(features)), dtype=np.float32) #size can be reduced by decreasing train_size \n",
    "Y_val_lt_windows = np.zeros((samples_per_file*val_samples, future_window, len(features)), dtype=np.float32) \n",
    "\n",
    "\n",
    "start_idx = 0 #setting start index to equal zero \n",
    "val_lt_sample_sum = 0\n",
    "val_lt_excluded_samples = []\n",
    "# Create training windows \n",
    "\n",
    "#for i in tqdm(range(train_size)): #Use for including all data including outliers \n",
    "for i in range(val_samples): \n",
    "       \n",
    "    X_values, Y_values = window_generator_lt_fltrd(\n",
    "        val_data_np[i,:,:],\n",
    "        input_window=input_window, \n",
    "        future_window=future_window, \n",
    "        stride=stride, \n",
    "        features=features,\n",
    "        labels=labels\n",
    "        )\n",
    "\n",
    "    end_idx = start_idx + X_values.shape[0]\n",
    "\n",
    "    # print(f'file number [{f}] start index: {start_idx}, end index: {end_idx}, number of samples: {X_values.shape[0]}')\n",
    "\n",
    "    X_val_lt_windows[start_idx:end_idx, :, :] = X_values\n",
    "    Y_val_lt_windows[start_idx:end_idx, :, :] = Y_values\n",
    "\n",
    "    # print(f'number of samples copied: {X_train_data_store[start_idx:end_idx, :, :].shape[0]}')\n",
    "\n",
    "    start_idx = end_idx \n",
    "    val_lt_sample_sum += X_values.shape[0]\n",
    "\n",
    "    # except Exception:\n",
    "    #     exception_msg(i)\n",
    "    #     train_excluded_samples.append(i)\n",
    "\n",
    "# print(f\"Completed storage of training windows samples, which contains {X_train_data_store.shape[0]} samples\")\n",
    "X_val_lt_data = X_val_lt_windows[:end_idx, :, :].astype('float64')\n",
    "Y_val_lt_data = Y_val_lt_windows[:end_idx, :, :].astype('float64')\n",
    "\n",
    "\n",
    "print(f'shape of X_val_lt_windows: {X_val_lt_windows.shape}')\n",
    "print(f'shape of Y_val_lt_windows: {Y_val_lt_windows.shape}')\n",
    "\n",
    "print(f'shape of X_val_lt_data: {X_val_lt_data.shape}')\n",
    "print(f'shape of Y_val_lt_data: {Y_val_lt_data.shape}')"
   ]
  },
  {
   "cell_type": "code",
   "execution_count": 30,
   "metadata": {},
   "outputs": [
    {
     "data": {
      "text/plain": [
       "array([[-30.96504974],\n",
       "       [ 63.01054001]])"
      ]
     },
     "execution_count": 30,
     "metadata": {},
     "output_type": "execute_result"
    }
   ],
   "source": [
    "X_train_norm, scalars = normalise_fit(X_train_data)\n",
    "Y_train_norm = normalise_transform(Y_train_data, scalars)\n",
    "\n",
    "X_val_norm = normalise_transform(X_val_data, scalars)\n",
    "Y_val_norm = normalise_transform(Y_val_data, scalars)\n",
    "\n",
    "X_val_lt_norm = normalise_transform(X_val_lt_data, scalars)\n",
    "Y_val_lt_norm = normalise_transform(Y_val_lt_data, scalars)\n",
    "\n",
    "\n",
    "scalars"
   ]
  },
  {
   "cell_type": "code",
   "execution_count": 31,
   "metadata": {},
   "outputs": [
    {
     "data": {
      "text/plain": [
       "[<matplotlib.lines.Line2D at 0x25b0903f730>]"
      ]
     },
     "execution_count": 31,
     "metadata": {},
     "output_type": "execute_result"
    },
    {
     "data": {
      "image/png": "[encoded data removed]",
      "text/plain": [
       "<Figure size 432x288 with 1 Axes>"
      ]
     },
     "metadata": {
      "needs_background": "light"
     },
     "output_type": "display_data"
    }
   ],
   "source": [
    "plt.plot(X_train_norm[2089,:])"
   ]
  },
  {
   "cell_type": "code",
   "execution_count": 32,
   "metadata": {},
   "outputs": [
    {
     "name": "stdout",
     "output_type": "stream",
     "text": [
      "X_train shape: torch.Size([40589, 100])\n",
      "Y_train shape: torch.Size([40589, 1])\n",
      "X_val shape: torch.Size([5169, 100])\n",
      "Y_val shape: torch.Size([5169, 1])\n",
      "X_val_lt shape: torch.Size([3179, 100])\n",
      "Y_val_lt shape: torch.Size([3179, 200])\n"
     ]
    }
   ],
   "source": [
    "# Convert to Tensor \n",
    "# do not store on GPU (yet)\n",
    "X_train = torch.from_numpy(X_train_norm[:,:,0]).to(torch.float64)\n",
    "Y_train = torch.from_numpy(Y_train_norm[:,:,0]).to(torch.float64)\n",
    "\n",
    "# X_val = torch.from_numpy(X_val_norm).float()\n",
    "\n",
    "# X_val_resized = np.expand_dims(Y_val_norm[:,0,:], axis=1)\n",
    "# Y_val = torch.from_numpy(X_val_resized).float()\n",
    "\n",
    "X_val = torch.from_numpy(X_val_norm[:,:,0]).to(torch.float64)\n",
    "Y_val = torch.from_numpy(Y_val_norm[:,:,0]).to(torch.float64)\n",
    "\n",
    "\n",
    "X_val_lt = torch.from_numpy(X_val_lt_norm[:,:,0]).to(torch.float64)\n",
    "Y_val_lt = torch.from_numpy(Y_val_lt_norm[:,:,0]).to(torch.float64)\n",
    "\n",
    "\n",
    "print(f'X_train shape: {X_train.shape}')\n",
    "print(f'Y_train shape: {Y_train.shape}')\n",
    "\n",
    "print(f'X_val shape: {X_val.shape}')\n",
    "print(f'Y_val shape: {Y_val.shape}')\n",
    "\n",
    "print(f'X_val_lt shape: {X_val_lt.shape}') #long term predictions\n",
    "print(f'Y_val_lt shape: {Y_val_lt.shape}') #long term predictions\n",
    "\n",
    "\n"
   ]
  },
  {
   "cell_type": "code",
   "execution_count": 33,
   "metadata": {},
   "outputs": [
    {
     "data": {
      "text/plain": [
       "torch.float64"
      ]
     },
     "execution_count": 33,
     "metadata": {},
     "output_type": "execute_result"
    }
   ],
   "source": [
    "X_val.dtype"
   ]
  },
  {
   "cell_type": "code",
   "execution_count": 34,
   "metadata": {},
   "outputs": [
    {
     "name": "stdout",
     "output_type": "stream",
     "text": [
      "Train Dataset length: 40589\n",
      "Val Dataset length: 5169\n"
     ]
    }
   ],
   "source": [
    "train_dataset = gaitDataset(X_train, Y_train)\n",
    "train_dataloader = DataLoader(train_dataset, batch_size=32, shuffle = True)\n",
    "# train_dataloader = DataLoader(train_dataset, batch_size=32, shuffle = True)\n",
    "\n",
    "val_dataset = gaitDataset(X_val, Y_val) #ADJUSTED\n",
    "val_dataloader = DataLoader(val_dataset, batch_size=32, shuffle=True)\n",
    "# val_dataloader = DataLoader(val_dataset, batch_size=32, shuffle=True)\n",
    "\n",
    "\n",
    "\n",
    "# val_lt_dataset = gaitDataset(X_val_lt, Y_val_lt) #long term predictions\n",
    "# val_lt_dataloader = DataLoader(val_lt_dataset, batch_size=32, shuffle=True)\n",
    "\n",
    "\n",
    "print(f\"Train Dataset length: {len(train_dataset)}\")\n",
    "print(f\"Val Dataset length: {len(val_dataset)}\")\n",
    "# print(f\"Val_lt Dataset length: {len(val_lt_dataset)}\")\n"
   ]
  },
  {
   "cell_type": "markdown",
   "metadata": {},
   "source": [
    "## Model training\n"
   ]
  },
  {
   "cell_type": "code",
   "execution_count": 35,
   "metadata": {},
   "outputs": [],
   "source": [
    "from utils.utils import *\n",
    "from matplotlib import rcParams\n"
   ]
  },
  {
   "cell_type": "code",
   "execution_count": 36,
   "metadata": {},
   "outputs": [
    {
     "ename": "NameError",
     "evalue": "name 'data' is not defined",
     "output_type": "error",
     "traceback": [
      "\u001b[1;31m---------------------------------------------------------------------------\u001b[0m",
      "\u001b[1;31mNameError\u001b[0m                                 Traceback (most recent call last)",
      "\u001b[1;32m~\\AppData\\Local\\Temp/ipykernel_25424/3993293784.py\u001b[0m in \u001b[0;36m<module>\u001b[1;34m\u001b[0m\n\u001b[1;32m----> 1\u001b[1;33m \u001b[0mdata\u001b[0m\u001b[1;33m.\u001b[0m\u001b[0mshape\u001b[0m\u001b[1;33m\u001b[0m\u001b[1;33m\u001b[0m\u001b[0m\n\u001b[0m",
      "\u001b[1;31mNameError\u001b[0m: name 'data' is not defined"
     ]
    }
   ],
   "source": [
    "data.shape"
   ]
  },
  {
   "cell_type": "code",
   "execution_count": null,
   "metadata": {},
   "outputs": [],
   "source": [
    "plt.plot(data[1,:])\n",
    "plt.plot(data[3,:])\n",
    "plt.plot(data[99,:])"
   ]
  },
  {
   "cell_type": "code",
   "execution_count": 37,
   "metadata": {},
   "outputs": [
    {
     "ename": "NameError",
     "evalue": "name 'data' is not defined",
     "output_type": "error",
     "traceback": [
      "\u001b[1;31m---------------------------------------------------------------------------\u001b[0m",
      "\u001b[1;31mNameError\u001b[0m                                 Traceback (most recent call last)",
      "\u001b[1;32m~\\AppData\\Local\\Temp/ipykernel_25424/3993293784.py\u001b[0m in \u001b[0;36m<module>\u001b[1;34m\u001b[0m\n\u001b[1;32m----> 1\u001b[1;33m \u001b[0mdata\u001b[0m\u001b[1;33m.\u001b[0m\u001b[0mshape\u001b[0m\u001b[1;33m\u001b[0m\u001b[1;33m\u001b[0m\u001b[0m\n\u001b[0m",
      "\u001b[1;31mNameError\u001b[0m: name 'data' is not defined"
     ]
    }
   ],
   "source": [
    "data.shape"
   ]
  },
  {
   "cell_type": "code",
   "execution_count": 38,
   "metadata": {},
   "outputs": [],
   "source": [
    "# import torch\n",
    "# import torch.nn as nn\n",
    "# import torch.optim as optim\n",
    "# import numpy as np\n",
    "# import matplotlib\n",
    "# matplotlib.use('Agg')\n",
    "# import matplotlib.pyplot as plt\n",
    "\n",
    "# class Sequence(nn.Module):\n",
    "#     def __init__(self):\n",
    "#         super(Sequence, self).__init__()\n",
    "#         self.lstm1 = nn.LSTMCell(1, 51) #(input_size, hidden size)\n",
    "#         self.lstm2 = nn.LSTMCell(51, 51) \n",
    "#         self.linear = nn.Linear(51, 1) #(hidden_dims, outputsize )\n",
    "\n",
    "#     def forward(self, input, future = 0): #input.shape = (batch_size, timesteps) e.g.[97, 999]\n",
    "#         outputs = [] \n",
    "#         print(f'input.shape {input.shape}')\n",
    "#         h_t = torch.zeros(input.size(0), 51, dtype=torch.double)\n",
    "#         c_t = torch.zeros(input.size(0), 51, dtype=torch.double)\n",
    "#         h_t2 = torch.zeros(input.size(0), 51, dtype=torch.double)\n",
    "#         c_t2 = torch.zeros(input.size(0), 51, dtype=torch.double)\n",
    "\n",
    "#         for input_t in input.split(1, dim=1):\n",
    "#             print(f'input.split(1, dim=1): {input_t.shape}')\n",
    "#             h_t, c_t = self.lstm1(input_t, (h_t, c_t))\n",
    "#             print(f'h_t: {h_t.shape}')\n",
    "#             h_t2, c_t2 = self.lstm2(h_t, (h_t2, c_t2))\n",
    "#             output = self.linear(h_t2)\n",
    "#             outputs += [output]\n",
    "#         for i in range(future):# if we should predict the future\n",
    "#             h_t, c_t = self.lstm1(output, (h_t, c_t))\n",
    "#             h_t2, c_t2 = self.lstm2(h_t, (h_t2, c_t2))\n",
    "#             output = self.linear(h_t2)\n",
    "#             outputs += [output]\n",
    "#         outputs = torch.cat(outputs, dim=1)\n",
    "#         return outputs\n",
    "\n",
    "\n"
   ]
  },
  {
   "cell_type": "code",
   "execution_count": 39,
   "metadata": {},
   "outputs": [],
   "source": [
    "import torch\n",
    "import torch.nn as nn\n",
    "import torch.optim as optim\n",
    "import numpy as np\n",
    "import matplotlib\n",
    "matplotlib.use('Agg')\n",
    "import matplotlib.pyplot as plt\n",
    "\n",
    "class Sequence(nn.Module):\n",
    "    def __init__(self):\n",
    "        super(Sequence, self).__init__()\n",
    "        self.lstm1 = nn.LSTM(input_size = 1, hidden_size = 100, num_layers=2, batch_first=True) #(input_size, hidden size)\n",
    "        # self.lstm2 = nn.LSTMCell(51, 51) \n",
    "        self.linear = nn.Linear(100, 1) #(hidden_dims, outputsize )\n",
    "\n",
    "    def forward(self, input, future = 0): #input.shape = (batch_size, timesteps) e.g.[97, 999]\n",
    "        outputs = [] \n",
    "        \n",
    "        # print(f'input.shape {input.shape}')\n",
    "        h_t = torch.zeros(2, input.size(0), 100, dtype=torch.double).to(DEVICE)\n",
    "        c_t = torch.zeros(2, input.size(0), 100, dtype=torch.double).to(DEVICE)\n",
    "        # h_t2 = torch.zeros(input.size(0), 51, dtype=torch.double)\n",
    "        # c_t2 = torch.zeros(input.size(0), 51, dtype=torch.double)\n",
    "\n",
    "        for input_t in input.split(1, dim=1):\n",
    "\n",
    "            in_data= torch.unsqueeze(input=input_t, dim=1)\n",
    "            # print(f'input.split(1, dim=1): {in_data.shape}')\n",
    "            out, (h_t, c_t) = self.lstm1(in_data, (h_t, c_t))\n",
    "            # print(f'h_t[-1]: {h_t[-1].shape}')\n",
    "            # h_t2, c_t2 = self.lstm2(h_t, (h_t2, c_t2))\n",
    "            output = self.linear(h_t[-1])\n",
    "            # print(f'output of fist loop: {output.shape}')\n",
    "            outputs += [output]\n",
    "        # print(f'we are done now yay: output.shape {output.shape}')\n",
    "        for i in range(future):# if we should predict the future\n",
    "            out_data= torch.unsqueeze(input=output, dim=1)\n",
    "            # print(f'out_data.shape: {i} + {out_data.shape}')\n",
    "            out, (h_t, c_t) = self.lstm1(out_data, (h_t, c_t))\n",
    "            # h_t2, c_t2 = self.lstm2(h_t, (h_t2, c_t2))\n",
    "            output = self.linear(h_t[-1])\n",
    "            outputs += [output]\n",
    "        outputs = torch.cat(outputs, dim=1)\n",
    "        return outputs\n"
   ]
  },
  {
   "cell_type": "code",
   "execution_count": null,
   "metadata": {},
   "outputs": [],
   "source": [
    "import torch.optim as optim\n",
    "# T = 20\n",
    "# L = 1000\n",
    "# N = 100\n",
    "\n",
    "# x = np.empty((N, L), 'int64')\n",
    "# x[:] = np.array(range(L)) + np.random.randint(-4 * T, 4 * T, N).reshape(N, 1)\n",
    "# data = np.sin(x / 1.0 / T).astype('float64')\n",
    "# torch.save(data, open('traindata.pt', 'wb'))\n",
    "\n",
    "# np.random.seed(0)\n",
    "# torch.manual_seed(0)\n",
    "# # load data and make training set\n",
    "# # data = torch.load('traindata.pt')\n",
    "# input = torch.from_numpy(data[3:, :-1])\n",
    "# target = torch.from_numpy(data[3:, 1:])\n",
    "# test_input = torch.from_numpy(data[:3, :-1])\n",
    "# test_target = torch.from_numpy(data[:3, 1:])"
   ]
  },
  {
   "cell_type": "code",
   "execution_count": null,
   "metadata": {},
   "outputs": [],
   "source": [
    "input.shape"
   ]
  },
  {
   "cell_type": "code",
   "execution_count": null,
   "metadata": {},
   "outputs": [],
   "source": [
    "target.shape"
   ]
  },
  {
   "cell_type": "code",
   "execution_count": null,
   "metadata": {},
   "outputs": [],
   "source": [
    "# input.shape"
   ]
  },
  {
   "cell_type": "code",
   "execution_count": null,
   "metadata": {},
   "outputs": [],
   "source": [
    "X_train.shape"
   ]
  },
  {
   "cell_type": "code",
   "execution_count": null,
   "metadata": {},
   "outputs": [],
   "source": [
    "X_val.shape"
   ]
  },
  {
   "cell_type": "code",
   "execution_count": null,
   "metadata": {},
   "outputs": [],
   "source": [
    "input = X_train[:,:-1]\n",
    "target = X_train[:,1:]\n",
    "\n",
    "test_input = X_val[:, :-1]\n",
    "test_target = X_val[:,1:]"
   ]
  },
  {
   "cell_type": "code",
   "execution_count": null,
   "metadata": {},
   "outputs": [],
   "source": [
    "test_target[0,:].cpu().numpy()\n",
    "plt.plot(test_target[200,:].cpu().numpy())"
   ]
  },
  {
   "cell_type": "code",
   "execution_count": null,
   "metadata": {},
   "outputs": [],
   "source": [
    "input.shape"
   ]
  },
  {
   "cell_type": "code",
   "execution_count": null,
   "metadata": {},
   "outputs": [],
   "source": [
    "target.shape"
   ]
  },
  {
   "cell_type": "code",
   "execution_count": null,
   "metadata": {},
   "outputs": [],
   "source": [
    "from torch.utils.data import Dataset\n",
    "from torch.utils.data import DataLoader\n",
    "\n",
    "class create_dataset(Dataset):\n",
    "    def __init__(self, x, y):\n",
    "        self.x = x\n",
    "        self.y = y\n",
    "        self.len = x.shape[0]\n",
    "    def __getitem__(self, idx):\n",
    "        return self.x[idx], self.y[idx]\n",
    "    def __len__(self):\n",
    "        return self.len\n",
    "    \n",
    "ds = create_dataset(input, target)\n",
    "\n",
    "train_loader = DataLoader(ds, shuffle = True, batch_size = 128)"
   ]
  },
  {
   "cell_type": "code",
   "execution_count": null,
   "metadata": {},
   "outputs": [],
   "source": [
    "# build the model\n",
    "seq = Sequence().to(DEVICE)\n",
    "seq.double()\n",
    "criterion = nn.MSELoss()\n",
    "# use LBFGS as optimizer since we can load the whole data to train\n",
    "# optimizer = optim.Adam(seq.parameters(), lr=0.8)\n",
    "optimizer = optim.Adam(seq.parameters(), lr=0.001)\n",
    "scheduler = optim.lr_scheduler.StepLR(optimizer, step_size=40, gamma=0.1)\n",
    "\n",
    "#begin to train\n",
    "for i in range(100):\n",
    "    print('STEP: ', i)\n",
    "    running_train_loss = 0.\n",
    "    for input,target in train_loader:\n",
    "        input, target = input.to(DEVICE), target.to(DEVICE)\n",
    "        # def closure():\n",
    "        optimizer.zero_grad()\n",
    "        out = seq(input)\n",
    "        loss = criterion(out, target)\n",
    "        # print('loss:', loss.item())\n",
    "        running_train_loss += loss.item()\n",
    "        loss.backward()\n",
    "        optimizer.step()\n",
    "\n",
    "    print(f\"Epoch {i+1}, Loss: {running_train_loss/len(train_loader)}\")\n",
    "    # optimizer.zero_grad()\n",
    "    # out = seq(input)\n",
    "    # loss = criterion(out, target)\n",
    "    # print('loss:', loss.item())\n",
    "    # loss.backward()\n",
    "   \n",
    "    # optimizer.step()\n",
    "    scheduler.step()\n",
    "    # begin to predict, no need to track gradient here\n",
    "    with torch.no_grad():\n",
    "        future = 200\n",
    "        test_input, test_target = test_input.to(DEVICE), test_target.to(DEVICE)\n",
    "        pred = seq(test_input, future=future)\n",
    "        loss = criterion(pred[:, :-future], test_target)\n",
    "        print('test loss:', loss.item())\n",
    "        y = pred.detach().cpu().numpy()\n",
    "        # print(f'input.size(1): {input.size(1)}')\n",
    "        # draw the result\n",
    "        if i % 5 ==  0:\n",
    "            plt.figure(figsize=(30,10))\n",
    "            plt.title('Predict future values for time sequences\\n(Dashlines are predicted values)', fontsize=30)\n",
    "            plt.xlabel('x', fontsize=20)\n",
    "            plt.ylabel('y', fontsize=20)\n",
    "            plt.xticks(fontsize=20)\n",
    "            plt.yticks(fontsize=20)\n",
    "            def draw(yi, color):\n",
    "                plt.plot(np.arange(input.size(1)), yi[:input.size(1)], color, linewidth = 2.0)\n",
    "                plt.plot(np.arange(input.size(1), input.size(1) + future), yi[input.size(1):], color + ':', linewidth = 2.0)\n",
    "            draw(y[0], 'r')\n",
    "            draw(y[10], 'g')\n",
    "            draw(y[29], 'b')\n",
    "            # plt.savefig('predict%d.pdf'%i)\n",
    "            # plt.close()"
   ]
  },
  {
   "cell_type": "code",
   "execution_count": null,
   "metadata": {},
   "outputs": [],
   "source": [
    "plt.plot(y[1,:])\n",
    "plt.plot(test_target[1,:].cpu().numpy())"
   ]
  },
  {
   "cell_type": "code",
   "execution_count": null,
   "metadata": {},
   "outputs": [],
   "source": [
    "import torch.optim as optim\n",
    "scheduler = optim.lr_scheduler.StepLR(optimizer, step_size=5, gamma=0.1)\n"
   ]
  },
  {
   "cell_type": "code",
   "execution_count": null,
   "metadata": {},
   "outputs": [],
   "source": [
    "10 % 5"
   ]
  },
  {
   "cell_type": "code",
   "execution_count": null,
   "metadata": {},
   "outputs": [],
   "source": []
  },
  {
   "cell_type": "code",
   "execution_count": null,
   "metadata": {},
   "outputs": [],
   "source": [
    "seq = Sequence().to(DEVICE)\n",
    "seq.double()"
   ]
  },
  {
   "cell_type": "code",
   "execution_count": null,
   "metadata": {},
   "outputs": [],
   "source": [
    "def setDevice():\n",
    "  DEVICE = \"cuda\" if torch.cuda.is_available() else \"cpu\"\n",
    "  return DEVICE"
   ]
  },
  {
   "cell_type": "code",
   "execution_count": null,
   "metadata": {},
   "outputs": [],
   "source": [
    "# Set device\n",
    "print(f'The device used in this notebook is: {setDevice()}')\n",
    "\n",
    "DEVICE = setDevice()"
   ]
  },
  {
   "cell_type": "code",
   "execution_count": null,
   "metadata": {},
   "outputs": [],
   "source": [
    "for i in range(50):\n",
    "    loss = 0.0\n",
    "    num_len = 0\n",
    "    seq.train()\n",
    "    for x,y in train_loader:\n",
    "        x, y = x.to(DEVICE), y.to(DEVICE)\n",
    "        batch_size = x.shape[0]\n",
    "        y_pred = seq(x)\n",
    "        optim.zero_grad()\n",
    "        loss = criterion(y_pred, y)\n",
    "        loss.backward()\n",
    "        optim.step()\n",
    "        num_len += batch_size\n",
    "        loss += (batch_size * loss.item())\n",
    "    loss = loss / (num_len)\n",
    "    print(f\"Epoch {i+1}, Loss: {loss}\")\n",
    "    \n",
    "    with torch.no_grad():\n",
    "        future = 1000\n",
    "        test_input, test_target = test_input.to(DEVICE), test_target.to(DEVICE)\n",
    "        pred = seq(test_input, future=future)\n",
    "        loss = criterion(pred[:, :-future], test_target)\n",
    "        print('test loss:', loss.item())\n",
    "        print(\"==========================\")\n",
    "        y = pred.detach().cpu().numpy()\n",
    "    \n",
    "    plt.figure(figsize=(30,10))\n",
    "    plt.title('Predict future values for time sequences\\n(Dashlines are predicted values)', fontsize=30)\n",
    "    plt.xlabel('x', fontsize=20)\n",
    "    plt.ylabel('y', fontsize=20)\n",
    "    plt.xticks(fontsize=20)\n",
    "    plt.yticks(fontsize=20)\n",
    "    def draw(yi, color):\n",
    "        plt.plot(np.arange(input.size(1)), yi[:input.size(1)], color, linewidth = 2.0)\n",
    "        plt.plot(np.arange(input.size(1), input.size(1) + future), yi[input.size(1):], color + ':', linewidth = 2.0)\n",
    "    draw(y[0], 'r')\n",
    "    draw(y[1], 'g')\n",
    "    draw(y[2], 'b')\n",
    "    # plt.savefig('predict%d.pdf'%i)\n",
    "    # plt.close()"
   ]
  },
  {
   "cell_type": "markdown",
   "metadata": {},
   "source": [
    "### Another tutorial:\n",
    "https://www.kaggle.com/code/seangribben/lstm-time-series-prediction-pytorch-sine-wave"
   ]
  },
  {
   "cell_type": "code",
   "execution_count": 40,
   "metadata": {},
   "outputs": [
    {
     "ename": "SyntaxError",
     "evalue": "invalid syntax (Temp/ipykernel_25424/2830211399.py, line 1)",
     "output_type": "error",
     "traceback": [
      "\u001b[1;36m  File \u001b[1;32m\"C:\\Users\\Rania\\AppData\\Local\\Temp/ipykernel_25424/2830211399.py\"\u001b[1;36m, line \u001b[1;32m1\u001b[0m\n\u001b[1;33m    `\u001b[0m\n\u001b[1;37m    ^\u001b[0m\n\u001b[1;31mSyntaxError\u001b[0m\u001b[1;31m:\u001b[0m invalid syntax\n"
     ]
    }
   ],
   "source": [
    "`\n",
    "# X_train = np.arange(0,100,0.5)\n",
    "# y_train = np.sin(X_train)\n",
    "\n",
    "# X_test = np.arange(100,200,0.5)\n",
    "# y_test = np.sin(X_test)\n",
    "\n",
    "# n_features = 1\n",
    "\n",
    "# train_series = y_train\n",
    "# test_series  = y_test`"
   ]
  },
  {
   "cell_type": "code",
   "execution_count": 41,
   "metadata": {},
   "outputs": [],
   "source": [
    "# X_train.shape\n",
    "# y_train.shape"
   ]
  },
  {
   "cell_type": "code",
   "execution_count": 42,
   "metadata": {},
   "outputs": [],
   "source": [
    "# fig, ax = plt.subplots(1, 1, figsize=(15, 4))\n",
    "# ax.plot(X_train,y_train, lw=3, label='train data')\n",
    "# ax.plot(X_test, y_test,  lw=3, label='test data')\n",
    "# ax.legend(loc=\"lower left\")\n",
    "# plt.show()"
   ]
  },
  {
   "cell_type": "code",
   "execution_count": 43,
   "metadata": {},
   "outputs": [],
   "source": [
    "# train_series = torch.from_numpy(train_series)\n",
    "# test_series = torch.from_numpy(test_series)"
   ]
  },
  {
   "cell_type": "code",
   "execution_count": 44,
   "metadata": {},
   "outputs": [],
   "source": [
    "# # LSTM expects input of (batch, sequence, features)\n",
    "# # So shape should be (1, 179, 20) and labels (1, 1, 179)\n",
    "# look_back = 20\n",
    "\n",
    "# train_dataset = []\n",
    "# train_labels = []\n",
    "# for i in range(len(train_series)-look_back):\n",
    "#     train_dataset.append(train_series[i:i+20])\n",
    "#     train_labels.append(train_series[i+20])\n",
    "# train_dataset = torch.stack(train_dataset).unsqueeze(0)\n",
    "# train_labels = torch.stack(train_labels).unsqueeze(0).unsqueeze(2)"
   ]
  },
  {
   "cell_type": "code",
   "execution_count": 45,
   "metadata": {},
   "outputs": [],
   "source": [
    "train_dataset = X_train.unsqueeze(0)\n",
    "train_labels = Y_train.unsqueeze(0)"
   ]
  },
  {
   "cell_type": "code",
   "execution_count": 46,
   "metadata": {},
   "outputs": [],
   "source": [
    "look_back = 100"
   ]
  },
  {
   "cell_type": "code",
   "execution_count": 47,
   "metadata": {},
   "outputs": [
    {
     "data": {
      "text/plain": [
       "torch.Size([1, 40589, 1])"
      ]
     },
     "execution_count": 47,
     "metadata": {},
     "output_type": "execute_result"
    }
   ],
   "source": [
    "train_dataset.shape\n",
    "train_labels.shape"
   ]
  },
  {
   "cell_type": "code",
   "execution_count": 48,
   "metadata": {},
   "outputs": [],
   "source": [
    "# Vanilla LSTM\n",
    "class Net(nn.Module):\n",
    "    def __init__(self, n_neurons, input_shape):\n",
    "        super(Net, self).__init__()\n",
    "        \n",
    "        # self.fc1 = nn.Linear(input_shape, n_neurons)\n",
    "        self.lstm = nn.LSTM(input_size=input_shape, hidden_size=n_neurons)\n",
    "        self.fc = nn.Linear(n_neurons, 1)\n",
    "    \n",
    "    def forward(self, x):\n",
    "        out, _ = self.lstm(x)\n",
    "        # out = self.fc1(x)\n",
    "        out = self.fc(out)\n",
    "        return out"
   ]
  },
  {
   "cell_type": "code",
   "execution_count": 49,
   "metadata": {},
   "outputs": [],
   "source": [
    "class Net(nn.Module):\n",
    "    def __init__(self, n_neurons, input_shape):\n",
    "        super(Net, self).__init__()\n",
    "        \n",
    "        # self.fc1 = nn.Linear(input_shape, n_neurons)\n",
    "        self.lstm = nn.LSTM(input_size=1, hidden_size=n_neurons)\n",
    "        self.fc = nn.Linear(n_neurons, 1)\n",
    "        # self.relu = nn.ReLU()\n",
    "    def forward(self, x):\n",
    "        # print(f'input shape: {x.permute(2,1,0).shape}')\n",
    "        out, _ = self.lstm(x.permute(2,1,0))\n",
    "        # out = self.fc1(x)\n",
    "        # out = self.relu(out)\n",
    "        # print(f'lstm out shape: {out[-1].shape}')\n",
    "        out = self.fc(out[-1])\n",
    "        # print(f'output.shape {out.unsqueeze(0).shape}')\n",
    "        return out.unsqueeze(0)"
   ]
  },
  {
   "cell_type": "code",
   "execution_count": 50,
   "metadata": {},
   "outputs": [],
   "source": [
    "# MLP\n",
    "class Net(nn.Module):\n",
    "    def __init__(self, n_neurons, input_shape):\n",
    "        super(Net, self).__init__()\n",
    "        \n",
    "        self.fc1 = nn.Linear(input_shape, n_neurons)\n",
    "        self.fc2 = nn.Linear(n_neurons, n_neurons)\n",
    "\n",
    "        self.fc3 = nn.Linear(n_neurons, n_neurons)\n",
    " \n",
    "        # self.fc1 = nn.Linear(n_neurons, n_neurons)\n",
    "\n",
    "        # self.lstm = nn.LSTM(input_size=input_shape, hidden_size=n_neurons)\n",
    "        self.fc = nn.Linear(n_neurons, 1)\n",
    "        self.relu = nn.ReLU()\n",
    "    \n",
    "    def forward(self, x):\n",
    "        # print(f'input shape: {x.shape}')\n",
    "        # out, _ = self.lstm(x)\n",
    "        out = self.fc1(x)\n",
    "        out = self.relu(out)\n",
    "\n",
    "        out = self.fc2(out)\n",
    "        out = self.relu(out)\n",
    "        \n",
    "        out = self.fc3(out)\n",
    "        out = self.relu(out)\n",
    "\n",
    "        # print(f'lstm out shape: {out.shape}')\n",
    "        out = self.fc(out)\n",
    "        # print(f'output.shape {out.shape}')\n",
    "        return out"
   ]
  },
  {
   "cell_type": "code",
   "execution_count": 51,
   "metadata": {},
   "outputs": [],
   "source": [
    "# Encoder Decoder LSTM\n",
    "class Net(nn.Module):\n",
    "    def __init__(self, n_neurons, input_shape):\n",
    "        super(Net, self).__init__()\n",
    "\n",
    "        self.encoder = nn.LSTM(input_size=1, hidden_size=4)\n",
    "        self.decoder = nn.LSTM(input_size=4, hidden_size=4)\n",
    "        \n",
    "        # self.fc1 = nn.Linear(input_shape, n_neurons)\n",
    "        # self.lstm = nn.LSTM(input_size=input_shape, hidden_size=n_neurons)\n",
    "        self.fc = nn.Linear(4, 1)\n",
    "    \n",
    "    def forward(self, x):\n",
    "        out, _ = self.encoder(x.permute(2,1,0))\n",
    "        out, _ = self.decoder(out)\n",
    "        # out = self.fc1(x)\n",
    "        out = self.fc(out[-1])\n",
    "        return out.unsqueeze(0)\n"
   ]
  },
  {
   "cell_type": "code",
   "execution_count": 100,
   "metadata": {},
   "outputs": [
    {
     "data": {
      "application/vnd.jupyter.widget-view+json": {
       "model_id": "d814977673f64f4a9ba290484c1bb091",
       "version_major": 2,
       "version_minor": 0
      },
      "text/plain": [
       "  0%|          | 0/10000 [00:00<?, ?it/s]"
      ]
     },
     "metadata": {},
     "output_type": "display_data"
    },
    {
     "name": "stdout",
     "output_type": "stream",
     "text": [
      "loss: 0.24009982016944434\n",
      "loss: 0.1735713413734957\n",
      "loss: 0.12059910458014693\n",
      "loss: 0.0725615840750637\n",
      "loss: 0.03543509343035062\n",
      "loss: 0.027829122017513593\n",
      "loss: 0.051342734995222766\n",
      "loss: 0.05637176576539343\n",
      "loss: 0.04142705719089241\n",
      "loss: 0.025693134461299345\n",
      "loss: 0.018453447032776838\n",
      "loss: 0.018611531080380245\n",
      "loss: 0.021617659949554863\n",
      "loss: 0.02396591387827045\n",
      "loss: 0.024133595062703784\n",
      "loss: 0.021936035584302082\n",
      "loss: 0.018001597228599335\n",
      "loss: 0.01352373353953142\n",
      "loss: 0.00999397433615668\n",
      "loss: 0.00869237504666493\n",
      "loss: 0.009747337023771075\n",
      "loss: 0.011543358569658947\n",
      "loss: 0.01188499721136809\n",
      "loss: 0.010142167241497056\n",
      "loss: 0.007635308588370681\n",
      "loss: 0.0060356265734124335\n",
      "loss: 0.00596826837061369\n",
      "loss: 0.0068503801737956746\n",
      "loss: 0.007601632372732273\n",
      "loss: 0.007499273164386429\n",
      "loss: 0.006596849631247852\n",
      "loss: 0.0055328277409724975\n",
      "loss: 0.005035147840689125\n",
      "loss: 0.005386234285335251\n",
      "loss: 0.006065967901895486\n",
      "loss: 0.006246656102190547\n",
      "loss: 0.0057481511099752615\n",
      "loss: 0.005087946249070002\n",
      "loss: 0.004798381768069638\n",
      "loss: 0.004935422241655185\n",
      "loss: 0.00517208007265139\n",
      "loss: 0.0051943005062218\n",
      "loss: 0.004938589309537948\n",
      "loss: 0.004594423089746671\n",
      "loss: 0.004411513061638867\n",
      "loss: 0.004465567878346489\n",
      "loss: 0.004578464000781181\n",
      "loss: 0.004530483476489488\n",
      "loss: 0.004319186932824922\n",
      "loss: 0.004120309934492492\n",
      "loss: 0.004062274128805102\n",
      "loss: 0.004102816730673195\n",
      "loss: 0.004103418694902132\n",
      "loss: 0.003990885540474394\n",
      "loss: 0.0038282791722494477\n",
      "loss: 0.003724143838259859\n",
      "loss: 0.0037035004153870184\n",
      "loss: 0.0036859819833352445\n",
      "loss: 0.003596023374619542\n",
      "loss: 0.0034602444551385626\n",
      "loss: 0.003365403109074938\n",
      "loss: 0.003340678948537352\n",
      "loss: 0.0032925678752682335\n",
      "loss: 0.0031753458850215907\n",
      "loss: 0.003065880792695965\n",
      "loss: 0.0030150242166324293\n",
      "loss: 0.002964207422939869\n",
      "loss: 0.0028580838245665027\n",
      "loss: 0.0027482226574270293\n",
      "loss: 0.00269810475979161\n",
      "loss: 0.0026309665347048336\n",
      "loss: 0.0025155263838211443\n",
      "loss: 0.002436875548966296\n",
      "loss: 0.002380564484213367\n",
      "loss: 0.0022816842855057605\n",
      "loss: 0.0021915909946396933\n",
      "loss: 0.0021387942472198334\n",
      "loss: 0.0020543263920454386\n",
      "loss: 0.0019685135916018516\n",
      "loss: 0.001915663644641326\n",
      "loss: 0.0018363477087610764\n",
      "loss: 0.0017625567208963326\n",
      "loss: 0.0017135280218893063\n",
      "loss: 0.0016380476748990526\n",
      "loss: 0.0015853321463638209\n",
      "loss: 0.0015337915160702445\n",
      "loss: 0.0014724673898468862\n",
      "loss: 0.001435836419380466\n",
      "loss: 0.001378299115449358\n",
      "loss: 0.001342928545030454\n",
      "loss: 0.0013033882810901598\n",
      "loss: 0.0012584575627638088\n",
      "loss: 0.0012325233136366526\n",
      "loss: 0.0011896434337727167\n",
      "loss: 0.001162757141954797\n",
      "loss: 0.0011309922003024352\n",
      "loss: 0.0010996407523436377\n",
      "loss: 0.0010664983623293596\n",
      "loss: 0.0010395342322525977\n",
      "loss: 0.001010112443833957\n",
      "loss: 0.0009781413816231947\n",
      "loss: 0.0009487197291623186\n",
      "loss: 0.0009199767446912088\n",
      "loss: 0.0008913557622119636\n",
      "loss: 0.0008602084241351725\n",
      "loss: 0.0008306635335016447\n",
      "loss: 0.000802035779064605\n",
      "loss: 0.0007725778266505266\n",
      "loss: 0.0007437765592380458\n",
      "loss: 0.000715505443326409\n",
      "loss: 0.0006895161207535525\n",
      "loss: 0.0006649395738181455\n",
      "loss: 0.0006416806600866518\n",
      "loss: 0.0006208153343839805\n",
      "loss: 0.0006009695482189004\n",
      "loss: 0.0005819588253451291\n",
      "loss: 0.0005637514007549467\n",
      "loss: 0.0005461762958353202\n",
      "loss: 0.0005297557171070692\n",
      "loss: 0.0005139402046193875\n",
      "loss: 0.0004984008515701094\n",
      "loss: 0.00048417480458695796\n",
      "loss: 0.00047130096860495125\n",
      "loss: 0.000458848977749235\n",
      "loss: 0.00044685611130820645\n",
      "loss: 0.0004360248005927941\n",
      "loss: 0.0004261856175958333\n",
      "loss: 0.00041688377409574665\n",
      "loss: 0.0004081985528593908\n",
      "loss: 0.00040019472330533065\n",
      "loss: 0.00039257510850800346\n",
      "loss: 0.0003853173957733053\n",
      "loss: 0.0003784309881996971\n",
      "loss: 0.0003717653037979575\n",
      "loss: 0.0003653384657551194\n",
      "loss: 0.00035928321084551337\n",
      "loss: 0.0003536415628986097\n",
      "loss: 0.0003490273267250727\n",
      "loss: 0.0003478168722687863\n",
      "loss: 0.0003557200103719549\n",
      "loss: 0.00037290169840305503\n",
      "loss: 0.00037791173786115253\n",
      "loss: 0.00034396695701654345\n",
      "loss: 0.00031738324501888606\n",
      "loss: 0.0003318308689661234\n",
      "loss: 0.0003410197894387583\n",
      "loss: 0.0003168176930652059\n",
      "loss: 0.0003024427253535749\n",
      "loss: 0.00031519468506012736\n",
      "loss: 0.00031418167132303104\n",
      "loss: 0.00029418647403856875\n",
      "loss: 0.0002908762266046084\n",
      "loss: 0.0002992643477160636\n",
      "loss: 0.00029145121101860284\n",
      "loss: 0.0002775790164994112\n",
      "loss: 0.00027788456156219133\n",
      "loss: 0.00028164657702821875\n",
      "loss: 0.0002741266398873115\n",
      "loss: 0.00026363007108102545\n",
      "loss: 0.0002621930889636522\n",
      "loss: 0.00026479765418126216\n",
      "loss: 0.00026159991027366645\n",
      "loss: 0.0002535686282522857\n",
      "loss: 0.0002479075460509903\n",
      "loss: 0.0002473275561467817\n",
      "loss: 0.00024842787047077246\n",
      "loss: 0.00024724158346050033\n",
      "loss: 0.00024301133196827875\n",
      "loss: 0.00023757492224635716\n",
      "loss: 0.00023309758154509215\n",
      "loss: 0.00023047208348124648\n",
      "loss: 0.00022942333540658806\n",
      "loss: 0.00022923202155875893\n",
      "loss: 0.00022939963663574944\n",
      "loss: 0.00022968807789013122\n",
      "loss: 0.00023017953203148197\n",
      "loss: 0.00023073859195653888\n",
      "loss: 0.00023145943808165344\n",
      "loss: 0.0002316598591903705\n",
      "loss: 0.00023326789100529518\n",
      "loss: 0.0002360275155883042\n",
      "loss: 0.00023772161110883694\n",
      "loss: 0.0002339558525862296\n",
      "loss: 0.00022532489088956695\n",
      "loss: 0.00021405563408787324\n",
      "loss: 0.0002047752859712139\n",
      "loss: 0.00020031401438034028\n",
      "loss: 0.0002007181675792376\n",
      "loss: 0.0002040071724958673\n",
      "loss: 0.0002077789085440126\n",
      "loss: 0.00021034959555465217\n",
      "loss: 0.00021030017265225633\n",
      "loss: 0.00020756838370520462\n",
      "loss: 0.0002024965118301682\n",
      "loss: 0.0001966446225153829\n",
      "loss: 0.00019117001270813774\n",
      "loss: 0.00018702698409149836\n",
      "loss: 0.00018440741894862236\n",
      "loss: 0.00018310575980143694\n",
      "loss: 0.00018278585171329373\n",
      "loss: 0.00018327504158557068\n",
      "loss: 0.000184730815362899\n",
      "loss: 0.00018760975411264149\n",
      "loss: 0.00019305091039914312\n",
      "loss: 0.00020259204492104296\n",
      "loss: 0.0002187635582550385\n",
      "loss: 0.00024167808886893342\n",
      "loss: 0.00026836393624738933\n",
      "loss: 0.00028109790547771945\n",
      "loss: 0.0002646492677387385\n",
      "loss: 0.00021717244749819701\n",
      "loss: 0.00017516447320720457\n",
      "loss: 0.0001687032690340766\n",
      "loss: 0.00019286380765828732\n",
      "loss: 0.00021725466735732124\n",
      "loss: 0.00021467063172704877\n",
      "loss: 0.00018852037281379973\n",
      "loss: 0.00016439979771109273\n",
      "loss: 0.00016335509414809122\n",
      "loss: 0.0001793214561306104\n",
      "loss: 0.00019103639032148196\n",
      "loss: 0.00018590924904480675\n",
      "loss: 0.00016900277341364177\n",
      "loss: 0.0001566351859713334\n",
      "loss: 0.0001574061132410189\n",
      "loss: 0.00016639339593519967\n",
      "loss: 0.00017297426469096522\n",
      "loss: 0.00017058675193188256\n",
      "loss: 0.00016165751679466067\n",
      "loss: 0.0001529209020435346\n",
      "loss: 0.00014972419647711746\n",
      "loss: 0.00015218112204227484\n",
      "loss: 0.00015673430685390368\n",
      "loss: 0.0001596129660070481\n",
      "loss: 0.00015882124452724577\n",
      "loss: 0.00015500893321679932\n",
      "loss: 0.00014995691696272645\n",
      "loss: 0.00014570445515362104\n",
      "loss: 0.0001433226292321567\n",
      "loss: 0.00014287043780545489\n",
      "loss: 0.00014376530937801457\n",
      "loss: 0.0001452861884518798\n",
      "loss: 0.0001469331473281546\n",
      "loss: 0.00014841536446066192\n",
      "loss: 0.00014975641001154655\n",
      "loss: 0.000151046031611808\n",
      "loss: 0.0001529913976312131\n",
      "loss: 0.00015539139611994916\n",
      "loss: 0.00015880175422864154\n",
      "loss: 0.00016335744084253166\n",
      "loss: 0.00017026901583220758\n",
      "loss: 0.00017859781955640203\n",
      "loss: 0.00018886209867282797\n",
      "loss: 0.00019789785179202073\n",
      "loss: 0.00020478383058821693\n",
      "loss: 0.00020312218422201148\n",
      "loss: 0.00019309488090205604\n",
      "loss: 0.0001733616944552616\n",
      "loss: 0.0001517697837264857\n",
      "loss: 0.0001348887028474979\n",
      "loss: 0.00012772626320912346\n",
      "loss: 0.00013005149683333972\n",
      "loss: 0.0001385824675394828\n",
      "loss: 0.0001496863761058775\n",
      "loss: 0.0001590377023306134\n",
      "loss: 0.00016422900552543132\n",
      "loss: 0.00016229687138934963\n",
      "loss: 0.00015490062556443402\n",
      "loss: 0.00014368168306867052\n",
      "loss: 0.0001328493342561398\n",
      "loss: 0.00012493020167407974\n",
      "loss: 0.0001211778768431143\n",
      "loss: 0.00012122051447230968\n",
      "loss: 0.00012399895825542065\n",
      "loss: 0.00012861639043008688\n",
      "loss: 0.0001344352272647684\n",
      "loss: 0.00014161250283194462\n",
      "loss: 0.00014939367826082456\n",
      "loss: 0.0001581955551414965\n",
      "loss: 0.00016590808236996787\n",
      "loss: 0.0001727228451649038\n",
      "loss: 0.00017490105658094128\n",
      "loss: 0.00017320859504286947\n",
      "loss: 0.00016471480641746055\n",
      "loss: 0.00015258478902485106\n",
      "loss: 0.0001379908551032423\n",
      "loss: 0.0001251521137090398\n",
      "loss: 0.00011605284739800609\n",
      "loss: 0.00011169684553363979\n",
      "loss: 0.0001115311086671085\n",
      "loss: 0.00011441840439662338\n",
      "loss: 0.00011933030647783868\n",
      "loss: 0.00012543429080692285\n",
      "loss: 0.00013271728494059285\n",
      "loss: 0.00014051187207122452\n",
      "loss: 0.00014964168700076487\n",
      "loss: 0.00015841989509146563\n",
      "loss: 0.00016773431356792188\n",
      "loss: 0.00017357887568236893\n",
      "loss: 0.00017656258053898175\n",
      "loss: 0.00017156282596540547\n",
      "loss: 0.00016104969338193522\n",
      "loss: 0.0001441832348391517\n",
      "loss: 0.00012681283566657434\n",
      "loss: 0.0001122089972193267\n",
      "loss: 0.00010370356743104487\n",
      "loss: 0.00010163465081105229\n"
     ]
    },
    {
     "ename": "KeyboardInterrupt",
     "evalue": "",
     "output_type": "error",
     "traceback": [
      "\u001b[1;31m---------------------------------------------------------------------------\u001b[0m",
      "\u001b[1;31mKeyboardInterrupt\u001b[0m                         Traceback (most recent call last)",
      "\u001b[1;32m~\\AppData\\Local\\Temp/ipykernel_25424/3250252506.py\u001b[0m in \u001b[0;36m<module>\u001b[1;34m\u001b[0m\n\u001b[0;32m     16\u001b[0m     \u001b[0mloss_total\u001b[0m \u001b[1;33m+=\u001b[0m \u001b[0mloss\u001b[0m\u001b[1;33m.\u001b[0m\u001b[0mitem\u001b[0m\u001b[1;33m(\u001b[0m\u001b[1;33m)\u001b[0m\u001b[1;33m\u001b[0m\u001b[1;33m\u001b[0m\u001b[0m\n\u001b[0;32m     17\u001b[0m     \u001b[0mprint\u001b[0m\u001b[1;33m(\u001b[0m\u001b[1;34mf'loss: {loss.item()}'\u001b[0m\u001b[1;33m)\u001b[0m\u001b[1;33m\u001b[0m\u001b[1;33m\u001b[0m\u001b[0m\n\u001b[1;32m---> 18\u001b[1;33m     \u001b[0mloss\u001b[0m\u001b[1;33m.\u001b[0m\u001b[0mbackward\u001b[0m\u001b[1;33m(\u001b[0m\u001b[1;33m)\u001b[0m\u001b[1;33m\u001b[0m\u001b[1;33m\u001b[0m\u001b[0m\n\u001b[0m\u001b[0;32m     19\u001b[0m     \u001b[0moptimizer\u001b[0m\u001b[1;33m.\u001b[0m\u001b[0mstep\u001b[0m\u001b[1;33m(\u001b[0m\u001b[1;33m)\u001b[0m\u001b[1;33m\u001b[0m\u001b[1;33m\u001b[0m\u001b[0m\n\u001b[0;32m     20\u001b[0m     \u001b[0mloss_curve\u001b[0m\u001b[1;33m.\u001b[0m\u001b[0mappend\u001b[0m\u001b[1;33m(\u001b[0m\u001b[0mloss_total\u001b[0m\u001b[1;33m)\u001b[0m\u001b[1;33m\u001b[0m\u001b[1;33m\u001b[0m\u001b[0m\n",
      "\u001b[1;32mc:\\Users\\Rania\\Anaconda3\\envs\\study2\\lib\\site-packages\\torch\\_tensor.py\u001b[0m in \u001b[0;36mbackward\u001b[1;34m(self, gradient, retain_graph, create_graph, inputs)\u001b[0m\n\u001b[0;32m    305\u001b[0m                 \u001b[0mcreate_graph\u001b[0m\u001b[1;33m=\u001b[0m\u001b[0mcreate_graph\u001b[0m\u001b[1;33m,\u001b[0m\u001b[1;33m\u001b[0m\u001b[1;33m\u001b[0m\u001b[0m\n\u001b[0;32m    306\u001b[0m                 inputs=inputs)\n\u001b[1;32m--> 307\u001b[1;33m         \u001b[0mtorch\u001b[0m\u001b[1;33m.\u001b[0m\u001b[0mautograd\u001b[0m\u001b[1;33m.\u001b[0m\u001b[0mbackward\u001b[0m\u001b[1;33m(\u001b[0m\u001b[0mself\u001b[0m\u001b[1;33m,\u001b[0m \u001b[0mgradient\u001b[0m\u001b[1;33m,\u001b[0m \u001b[0mretain_graph\u001b[0m\u001b[1;33m,\u001b[0m \u001b[0mcreate_graph\u001b[0m\u001b[1;33m,\u001b[0m \u001b[0minputs\u001b[0m\u001b[1;33m=\u001b[0m\u001b[0minputs\u001b[0m\u001b[1;33m)\u001b[0m\u001b[1;33m\u001b[0m\u001b[1;33m\u001b[0m\u001b[0m\n\u001b[0m\u001b[0;32m    308\u001b[0m \u001b[1;33m\u001b[0m\u001b[0m\n\u001b[0;32m    309\u001b[0m     \u001b[1;32mdef\u001b[0m \u001b[0mregister_hook\u001b[0m\u001b[1;33m(\u001b[0m\u001b[0mself\u001b[0m\u001b[1;33m,\u001b[0m \u001b[0mhook\u001b[0m\u001b[1;33m)\u001b[0m\u001b[1;33m:\u001b[0m\u001b[1;33m\u001b[0m\u001b[1;33m\u001b[0m\u001b[0m\n",
      "\u001b[1;32mc:\\Users\\Rania\\Anaconda3\\envs\\study2\\lib\\site-packages\\torch\\autograd\\__init__.py\u001b[0m in \u001b[0;36mbackward\u001b[1;34m(tensors, grad_tensors, retain_graph, create_graph, grad_variables, inputs)\u001b[0m\n\u001b[0;32m    152\u001b[0m         \u001b[0mretain_graph\u001b[0m \u001b[1;33m=\u001b[0m \u001b[0mcreate_graph\u001b[0m\u001b[1;33m\u001b[0m\u001b[1;33m\u001b[0m\u001b[0m\n\u001b[0;32m    153\u001b[0m \u001b[1;33m\u001b[0m\u001b[0m\n\u001b[1;32m--> 154\u001b[1;33m     Variable._execution_engine.run_backward(\n\u001b[0m\u001b[0;32m    155\u001b[0m         \u001b[0mtensors\u001b[0m\u001b[1;33m,\u001b[0m \u001b[0mgrad_tensors_\u001b[0m\u001b[1;33m,\u001b[0m \u001b[0mretain_graph\u001b[0m\u001b[1;33m,\u001b[0m \u001b[0mcreate_graph\u001b[0m\u001b[1;33m,\u001b[0m \u001b[0minputs\u001b[0m\u001b[1;33m,\u001b[0m\u001b[1;33m\u001b[0m\u001b[1;33m\u001b[0m\u001b[0m\n\u001b[0;32m    156\u001b[0m         allow_unreachable=True, accumulate_grad=True)  # allow_unreachable flag\n",
      "\u001b[1;31mKeyboardInterrupt\u001b[0m: "
     ]
    }
   ],
   "source": [
    "n_neurons = 200\n",
    "\n",
    "model = Net(n_neurons, look_back).double()\n",
    "loss_function = nn.MSELoss()\n",
    "optimizer = optim.Adam(model.parameters(), lr=0.001)\n",
    "\n",
    "loss_curve = []\n",
    "for epoch in tqdm(range(10000)):\n",
    "    loss_total = 0\n",
    "    \n",
    "    model.zero_grad()\n",
    "    \n",
    "    predictions = model(train_dataset)\n",
    "    \n",
    "    loss = loss_function(predictions, train_labels)\n",
    "    loss_total += loss.item()\n",
    "    print(f'loss: {loss.item()}')\n",
    "    loss.backward()\n",
    "    optimizer.step()\n",
    "    loss_curve.append(loss_total)"
   ]
  },
  {
   "cell_type": "code",
   "execution_count": 101,
   "metadata": {},
   "outputs": [
    {
     "name": "stderr",
     "output_type": "stream",
     "text": [
      "C:\\Users\\Rania\\AppData\\Local\\Temp/ipykernel_25424/4026478711.py:5: UserWarning: Matplotlib is currently using agg, which is a non-GUI backend, so cannot show the figure.\n",
      "  plt.show()\n"
     ]
    },
    {
     "data": {
      "image/png": "[encoded data removed]",
      "text/plain": [
       "<Figure size 1080x360 with 1 Axes>"
      ]
     },
     "metadata": {
      "needs_background": "light"
     },
     "output_type": "display_data"
    }
   ],
   "source": [
    "\n",
    "fig, ax = plt.subplots(1, 1, figsize=(15, 5))\n",
    "ax.plot(loss_curve[:], lw=2)\n",
    "ax.set_xlabel(\"Epoch\")\n",
    "ax.set_ylabel(\"Training Loss (MSE)\")\n",
    "plt.show()"
   ]
  },
  {
   "cell_type": "code",
   "execution_count": 102,
   "metadata": {},
   "outputs": [],
   "source": [
    "# # LSTM expects input of (batch, sequence, features)\n",
    "# # So shape should be (1, 179, 20)\n",
    "# test_dataset = [test_series[i:i+20] for i in range(len(train_series)-look_back)]\n",
    "# test_dataset = torch.stack(test_dataset).unsqueeze(0)\n",
    "\n",
    "# with torch.no_grad():\n",
    "#     test_predictions = model(test_dataset).squeeze()"
   ]
  },
  {
   "cell_type": "code",
   "execution_count": 103,
   "metadata": {},
   "outputs": [],
   "source": [
    "# X_val_lt shape: torch.Size([3179, 100])\n",
    "# Y_val_lt shape: torch.Size([3179, 200])"
   ]
  },
  {
   "cell_type": "code",
   "execution_count": 104,
   "metadata": {},
   "outputs": [
    {
     "data": {
      "text/plain": [
       "torch.Size([3179])"
      ]
     },
     "execution_count": 104,
     "metadata": {},
     "output_type": "execute_result"
    }
   ],
   "source": [
    "X_val_lt[:,1].shape"
   ]
  },
  {
   "cell_type": "code",
   "execution_count": 105,
   "metadata": {},
   "outputs": [],
   "source": [
    "# LSTM expects input of (batch, sequence, features)\n",
    "# So shape should be (1, 179, 20)\n",
    "test_dataset = X_val_lt.unsqueeze(0)\n",
    "with torch.no_grad():\n",
    "    test_predictions = model(test_dataset).squeeze()\n",
    "\n"
   ]
  },
  {
   "cell_type": "code",
   "execution_count": 106,
   "metadata": {},
   "outputs": [
    {
     "data": {
      "text/plain": [
       "torch.Size([100])"
      ]
     },
     "execution_count": 106,
     "metadata": {},
     "output_type": "execute_result"
    }
   ],
   "source": [
    "test_dataset[0,1,].shape"
   ]
  },
  {
   "cell_type": "code",
   "execution_count": 107,
   "metadata": {},
   "outputs": [
    {
     "data": {
      "text/plain": [
       "torch.Size([3179])"
      ]
     },
     "execution_count": 107,
     "metadata": {},
     "output_type": "execute_result"
    }
   ],
   "source": [
    "test_predictions.shape"
   ]
  },
  {
   "cell_type": "code",
   "execution_count": 108,
   "metadata": {},
   "outputs": [
    {
     "data": {
      "text/plain": [
       "tensor(0.4582, dtype=torch.float64)"
      ]
     },
     "execution_count": 108,
     "metadata": {},
     "output_type": "execute_result"
    }
   ],
   "source": [
    "test_predictions[1]"
   ]
  },
  {
   "cell_type": "code",
   "execution_count": 109,
   "metadata": {},
   "outputs": [
    {
     "name": "stderr",
     "output_type": "stream",
     "text": [
      "C:\\Users\\Rania\\AppData\\Local\\Temp/ipykernel_25424/3322916708.py:12: UserWarning: Matplotlib is currently using agg, which is a non-GUI backend, so cannot show the figure.\n",
      "  plt.show()\n"
     ]
    },
    {
     "data": {
      "image/png": "[encoded data removed]",
      "text/plain": [
       "<Figure size 1080x360 with 1 Axes>"
      ]
     },
     "metadata": {
      "needs_background": "light"
     },
     "output_type": "display_data"
    }
   ],
   "source": [
    "x1 = np.arange(0,100)\n",
    "x2 = 101\n",
    "s =400\n",
    "\n",
    "fig, ax = plt.subplots(1, 1, figsize=(15, 5))\n",
    "# ax.plot(X_train,y_train, lw=2, label='train data')\n",
    "# ax.plot(X_test,y_test, lw=3, c='y', label='test data')\n",
    "plt.plot(x1, test_dataset[0,s,:].reshape(-1,1).squeeze(), lw=3, c='b', label='input')\n",
    "plt.scatter(x2, test_predictions[s], lw=6, c='g', label='predictions')\n",
    "\n",
    "ax.legend(loc=\"lower right\")\n",
    "plt.show()"
   ]
  },
  {
   "cell_type": "code",
   "execution_count": 110,
   "metadata": {},
   "outputs": [],
   "source": [
    "extrapolation = []\n",
    "seed_batch = test_dataset[0,s,:].reshape(1, 1, 100)\n",
    "current_batch = seed_batch\n",
    "with torch.no_grad():\n",
    "    for i in range(200):\n",
    "        predicted_value = model(current_batch)\n",
    "        extrapolation.append(predicted_value.item())\n",
    "        current_batch = torch.cat((current_batch[:,:,1:], predicted_value), axis=2)"
   ]
  },
  {
   "cell_type": "code",
   "execution_count": 111,
   "metadata": {},
   "outputs": [
    {
     "name": "stderr",
     "output_type": "stream",
     "text": [
      "C:\\Users\\Rania\\AppData\\Local\\Temp/ipykernel_25424/2299808046.py:13: UserWarning: Matplotlib is currently using agg, which is a non-GUI backend, so cannot show the figure.\n",
      "  plt.show()\n"
     ]
    },
    {
     "data": {
      "image/png": "[encoded data removed]",
      "text/plain": [
       "<Figure size 1080x360 with 1 Axes>"
      ]
     },
     "metadata": {
      "needs_background": "light"
     },
     "output_type": "display_data"
    }
   ],
   "source": [
    "x1 = np.arange(0,100)\n",
    "x2 = 101\n",
    "x3 = np.arange(101,301)\n",
    "\n",
    "fig, ax = plt.subplots(1, 1, figsize=(15, 5))\n",
    "# ax.plot(X_train,y_train, lw=2, label='train data')\n",
    "# ax.plot(X_test,y_test, lw=3, c='y', label='test data')\n",
    "plt.plot(x1, test_dataset[0,s,:].reshape(-1,1).squeeze(), lw=3, c='b', label='input')\n",
    "plt.plot(x3, extrapolation, lw=3, c='g', label='extrapolation')\n",
    "plt.plot(x3, Y_val_lt[s,:], lw = 2, c='r', label='actual' )\n",
    "\n",
    "ax.legend(loc=\"lower right\")\n",
    "plt.show()"
   ]
  },
  {
   "cell_type": "code",
   "execution_count": 111,
   "metadata": {},
   "outputs": [],
   "source": [
    "# x = np.arange(110,200,0.5)\n",
    "# fig, ax = plt.subplots(1, 1, figsize=(15, 5))\n",
    "# # ax.plot(X_train,y_train, lw=2, label='train data')\n",
    "# ax.plot(X_test,y_test, lw=3, c='y', label='test data')\n",
    "# ax.plot(x,extrapolation, lw=3, c='r',linestyle = ':', label='extrapolation')\n",
    "# ax.legend(loc=\"lower left\")\n",
    "# plt.show();"
   ]
  },
  {
   "cell_type": "code",
   "execution_count": null,
   "metadata": {},
   "outputs": [],
   "source": [
    "# X_train = np.arange(0,50,0.5) \n",
    "# y_train = np.sin(X_train) + np.sin(3*X_train)/3 + np.sin(5*X_train)/5\n",
    "\n",
    "# X_test  = np.arange(50,100,0.5) \n",
    "# y_test  = np.sin(X_train) + np.sin(3*X_train)/3 + np.sin(5*X_train)/5\n",
    "\n",
    "# train_series = y_train\n",
    "# test_series  = y_test"
   ]
  },
  {
   "cell_type": "code",
   "execution_count": null,
   "metadata": {},
   "outputs": [],
   "source": []
  }
 ],
 "metadata": {
  "kernelspec": {
   "display_name": "Python 3.9.7 ('study2')",
   "language": "python",
   "name": "python3"
  },
  "language_info": {
   "codemirror_mode": {
    "name": "ipython",
    "version": 3
   },
   "file_extension": ".py",
   "mimetype": "text/x-python",
   "name": "python",
   "nbconvert_exporter": "python",
   "pygments_lexer": "ipython3",
   "version": "3.9.7 (default, Sep 16 2021, 16:59:28) [MSC v.1916 64 bit (AMD64)]"
  },
  "orig_nbformat": 4,
  "vscode": {
   "interpreter": {
    "hash": "27ff62b9f8f46ac7739d102fa0cb2cdb691dbf234c24f48db1edec61200604ab"
   }
  }
 },
 "nbformat": 4,
 "nbformat_minor": 2
}
