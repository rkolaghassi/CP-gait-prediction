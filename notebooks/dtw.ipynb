{
 "cells": [
  {
   "cell_type": "code",
   "execution_count": 2,
   "metadata": {},
   "outputs": [],
   "source": [
    "from dtw import dtw\n",
    "import numpy as np\n",
    "import torch\n",
    "from matplotlib import pyplot as plt\n",
    "from matplotlib.pyplot import figure\n",
    "from matplotlib import rcParams"
   ]
  },
  {
   "cell_type": "code",
   "execution_count": 7,
   "metadata": {},
   "outputs": [],
   "source": [
    "from dtw import dtw"
   ]
  },
  {
   "cell_type": "code",
   "execution_count": 10,
   "metadata": {},
   "outputs": [
    {
     "name": "stdout",
     "output_type": "stream",
     "text": [
      "Help on function dtw in module dtw.dtw:\n",
      "\n",
      "dtw(x, y=None, dist_method='euclidean', step_pattern='symmetric2', window_type=None, window_args={}, keep_internals=False, distance_only=False, open_end=False, open_begin=False)\n",
      "    Compute Dynamic Time Warp and find optimal alignment between two time\n",
      "    series.\n",
      "    \n",
      "    **Details**\n",
      "    \n",
      "    The function performs Dynamic Time Warp (DTW) and computes the optimal\n",
      "    alignment between two time series ``x`` and ``y``, given as numeric\n",
      "    vectors. The “optimal” alignment minimizes the sum of distances between\n",
      "    aligned elements. Lengths of ``x`` and ``y`` may differ.\n",
      "    \n",
      "    The local distance between elements of ``x`` (query) and ``y``\n",
      "    (reference) can be computed in one of the following ways:\n",
      "    \n",
      "    1. if ``dist_method`` is a string, ``x`` and ``y`` are passed to the\n",
      "       `scipy.spatial.distance.cdist` function with the method given;\n",
      "    2. multivariate time series and arbitrary distance metrics can be\n",
      "       handled by supplying a local-distance matrix. Element ``[i,j]`` of\n",
      "       the local-distance matrix is understood as the distance between\n",
      "       element ``x[i]`` and ``y[j]``. The distance matrix has therefore\n",
      "       ``n=length(x)`` rows and ``m=length(y)`` columns (see note below).\n",
      "    \n",
      "    Several common variants of the DTW recursion are supported via the\n",
      "    ``step_pattern`` argument, which defaults to ``symmetric2``. Step\n",
      "    patterns are commonly used to *locally* constrain the slope of the\n",
      "    alignment function. See [stepPattern()] for details.\n",
      "    \n",
      "    Windowing enforces a *global* constraint on the envelope of the warping\n",
      "    path. It is selected by passing a string or function to the\n",
      "    ``window_type`` argument. Commonly used windows are (abbreviations\n",
      "    allowed):\n",
      "    \n",
      "    -  ``\"none\"`` No windowing (default)\n",
      "    -  ``\"sakoechiba\"`` A band around main diagonal\n",
      "    -  ``\"slantedband\"`` A band around slanted diagonal\n",
      "    -  ``\"itakura\"`` So-called Itakura parallelogram\n",
      "    \n",
      "    ``window_type`` can also be an user-defined windowing function. See\n",
      "    [dtwWindowingFunctions()] for all available windowing functions, details\n",
      "    on user-defined windowing, and a discussion of the (mis)naming of the\n",
      "    “Itakura” parallelogram as a global constraint. Some windowing functions\n",
      "    may require parameters, such as the ``window_size`` argument.\n",
      "    \n",
      "    Open-ended alignment, i_e. semi-unconstrained alignment, can be selected\n",
      "    via the ``open_end`` switch. Open-end DTW computes the alignment which\n",
      "    best matches all of the query with a *leading part* of the reference.\n",
      "    This is proposed e_g. by Mori (2006), Sakoe (1979) and others.\n",
      "    Similarly, open-begin is enabled via ``open_begin``; it makes sense when\n",
      "    ``open_end`` is also enabled (subsequence finding). Subsequence\n",
      "    alignments are similar e_g. to UE2-1 algorithm by Rabiner (1978) and\n",
      "    others. Please find a review in Tormene et al. (2009).\n",
      "    \n",
      "    If the warping function is not required, computation can be sped up\n",
      "    enabling the ``distance_only=True`` switch, which skips the backtracking\n",
      "    step. The output object will then lack the ``index{1,2,1s,2s}`` and\n",
      "    ``stepsTaken`` fields.\n",
      "    \n",
      "    \n",
      "    Parameters\n",
      "    ----------\n",
      "    x : \n",
      "        query vector *or* local cost matrix\n",
      "    y : \n",
      "        reference vector, unused if `x` given as cost matrix\n",
      "    dist_method : \n",
      "        pointwise (local) distance function to use. \n",
      "    step_pattern : \n",
      "        a stepPattern object describing the local warping steps\n",
      "        allowed with their cost (see [stepPattern()])\n",
      "    window_type : \n",
      "        windowing function. Character: \"none\", \"itakura\",\n",
      "        \"sakoechiba\", \"slantedband\", or a function (see details).\n",
      "    open_begin,open_end : \n",
      "        perform open-ended alignments\n",
      "    keep_internals : \n",
      "        preserve the cumulative cost matrix, inputs, and other\n",
      "        internal structures\n",
      "    distance_only : \n",
      "        only compute distance (no backtrack, faster)\n",
      "    window_args : \n",
      "        additional arguments, passed to the windowing function\n",
      "    \n",
      "    Returns\n",
      "    -------\n",
      "    \n",
      "    An object of class ``DTW``. See docs for the corresponding properties. \n",
      "    \n",
      "    \n",
      "    Notes\n",
      "    -----\n",
      "    \n",
      "    Cost matrices (both input and output) have query elements arranged\n",
      "    row-wise (first index), and reference elements column-wise (second\n",
      "    index). They print according to the usual convention, with indexes\n",
      "    increasing down- and rightwards. Many DTW papers and tutorials show\n",
      "    matrices according to plot-like conventions, i_e. reference index\n",
      "    growing upwards. This may be confusing.\n",
      "    \n",
      "    A fast compiled version of the function is normally used. Should it be\n",
      "    unavailable, the interpreted equivalent will be used as a fall-back with\n",
      "    a warning.\n",
      "    \n",
      "    References\n",
      "    ----------\n",
      "    \n",
      "    1. Toni Giorgino. *Computing and Visualizing Dynamic Time Warping\n",
      "       Alignments in R: The dtw Package.* Journal of Statistical Software,\n",
      "       31(7), 1-24. http://www.jstatsoft.org/v31/i07/\n",
      "    2. Tormene, P.; Giorgino, T.; Quaglini, S. & Stefanelli, M. *Matching\n",
      "       incomplete time series with dynamic time warping: an algorithm and an\n",
      "       application to post-stroke rehabilitation.* Artif Intell Med, 2009,\n",
      "       45, 11-34. http://dx.doi.org/10.1016/j.artmed.2008.11.007\n",
      "    3. Sakoe, H.; Chiba, S., *Dynamic programming algorithm optimization for\n",
      "       spoken word recognition,* Acoustics, Speech, and Signal Processing,\n",
      "       IEEE Transactions on , vol.26, no.1, pp. 43-49, Feb 1978.\n",
      "       http://ieeexplore.ieee.org/xpls/abs_all.jsp?arnumber=1163055\n",
      "    4. Mori, A.; Uchida, S.; Kurazume, R.; Taniguchi, R.; Hasegawa, T. &\n",
      "       Sakoe, H. *Early Recognition and Prediction of Gestures* Proc. 18th\n",
      "       International Conference on Pattern Recognition ICPR 2006, 2006, 3,\n",
      "       560-563\n",
      "    5. Sakoe, H. *Two-level DP-matching–A dynamic programming-based pattern\n",
      "       matching algorithm for connected word recognition* Acoustics, Speech,\n",
      "       and Signal Processing, IEEE Transactions on, 1979, 27, 588-595\n",
      "    6. Rabiner L, Rosenberg A, Levinson S (1978). *Considerations in dynamic\n",
      "       time warping algorithms for discrete word recognition.* IEEE Trans.\n",
      "       Acoust., Speech, Signal Process., 26(6), 575-582. ISSN 0096-3518.\n",
      "    7. Muller M. *Dynamic Time Warping* in *Information Retrieval for Music\n",
      "       and Motion*. Springer Berlin Heidelberg; 2007. p. 69-84.\n",
      "       http://link.springer.com/chapter/10.1007/978-3-540-74048-3_4\n",
      "    \n",
      "    Examples\n",
      "    --------\n",
      "    \n",
      "    \n",
      "    \n",
      "    >>> import numpy as np\n",
      "    >>> from dtw import *\n",
      "    \n",
      "    A noisy sine wave as query\n",
      "    \n",
      "    >>> idx = np.linspace(0,6.28,num=100)\n",
      "    >>> query = np.sin(idx) + np.random.uniform(size=100)/10.0\n",
      "    \n",
      "    A cosine is for reference; sin and cos are offset by 25 samples\n",
      "    \n",
      "    >>> reference = np.cos(idx)\n",
      "    \n",
      "    Find the best match\n",
      "    \n",
      "    >>> alignment = dtw(query,reference)\n",
      "    \n",
      "    Display the mapping, AKA warping function - may be multiple-valued\n",
      "    Equivalent to: plot(alignment,type=\"alignment\")\n",
      "    \n",
      "    >>> import matplotlib.pyplot as plt;\n",
      "    ... plt.plot(alignment.index1, alignment.index2)        # doctest: +SKIP\n",
      "    \n",
      "    \n",
      "    Partial alignments are allowed.\n",
      "    \n",
      "    >>> alignmentOBE = dtw(query[44:88], reference,\n",
      "    ...                      keep_internals=True,\n",
      "    ...                      step_pattern=asymmetric,\n",
      "    ...                      open_end=True,open_begin=True)\n",
      "    \n",
      "    >>> alignmentOBE.plot(type=\"twoway\",offset=1)           # doctest: +SKIP\n",
      "    \n",
      "    \n",
      "    Subsetting allows warping and unwarping of\n",
      "    timeseries according to the warping curve. \n",
      "    See first example below.\n",
      "    \n",
      "    Most useful: plot the warped query along with reference \n",
      "    \n",
      "    >>> plt.plot(reference);\n",
      "    ... plt.plot(alignment.index2,query[alignment.index1])  # doctest: +SKIP\n",
      "    \n",
      "    Plot the (unwarped) query and the inverse-warped reference\n",
      "    \n",
      "    >>> plt.plot(query)                                     # doctest: +SKIP\n",
      "    ... plt.plot(alignment.index1,reference[alignment.index2]) \n",
      "    \n",
      "    \n",
      "    \n",
      "    \n",
      "    \n",
      "    \n",
      "    \n",
      "    \n",
      "    A hand-checkable example\n",
      "    \n",
      "    >>> ldist = np.ones((6,6))                    # Matrix of ones\n",
      "    >>> ldist[1,:] = 0; ldist[:,4] = 0;           # Mark a clear path of zeroes\n",
      "    >>> ldist[1,4] = .01;                         # Forcely cut the corner\n",
      "    \n",
      "    >>> ds = dtw(ldist);                          # DTW with user-supplied local\n",
      "    \n",
      "    >>> da = dtw(ldist,step_pattern=asymmetric)   # Also compute the asymmetric \n",
      "    \n",
      "    Symmetric: alignment follows the low-distance marked path\n",
      "    \n",
      "    >>> plt.plot(ds.index1,ds.index2)             # doctest: +SKIP\n",
      "    \n",
      "    Asymmetric: visiting 1 is required twice\n",
      "    \n",
      "    >>> plt.plot(da.index1,da.index2,'ro')        # doctest: +SKIP  \n",
      "    \n",
      "    >>> ds.distance\n",
      "    2.0\n",
      "    >>> da.distance\n",
      "    2.0\n",
      "\n"
     ]
    }
   ],
   "source": [
    "help(dtw)"
   ]
  },
  {
   "cell_type": "code",
   "execution_count": 3,
   "metadata": {},
   "outputs": [],
   "source": [
    "time  = np.arange(0, 10, 0.1);\n",
    "# print(time)\n",
    " \n",
    "\n",
    "# Amplitude of the sine wave is sine of a variable like time\n",
    "target = np.sin(time) \n",
    "line  = np.zeros(target.shape[0])\n",
    "curve1 = target + 0.2\n",
    "curve2 = np.sin(time+0.5)\n",
    "curve3 = np.sin(time+0.7) + 0.3\n",
    "curve4 = curve3 * 1.2"
   ]
  },
  {
   "cell_type": "code",
   "execution_count": 29,
   "metadata": {},
   "outputs": [
    {
     "data": {
      "text/plain": [
       "<matplotlib.legend.Legend at 0x15acd9df340>"
      ]
     },
     "execution_count": 29,
     "metadata": {},
     "output_type": "execute_result"
    },
    {
     "data": {
      "image/png": "[encoded data removed]",
      "text/plain": [
       "<Figure size 432x288 with 1 Axes>"
      ]
     },
     "metadata": {
      "needs_background": "light"
     },
     "output_type": "display_data"
    }
   ],
   "source": [
    "plt.plot(target, 'r+')\n",
    "plt.plot(line, label = 'line')\n",
    "plt.plot(curve1, label='upwards1')\n",
    "plt.plot(curve2, label='sideways2')\n",
    "# plt.plot(curve3, label='up+side3')\n",
    "# plt.plot(curve3 * 1.2, label='up+side+scaled4')\n",
    "plt.plot(curve3 * 1.2, label='up+side+scaled4')\n",
    "plt.legend()"
   ]
  },
  {
   "cell_type": "code",
   "execution_count": 28,
   "metadata": {},
   "outputs": [
    {
     "data": {
      "text/plain": [
       "8.111786586675866"
      ]
     },
     "execution_count": 28,
     "metadata": {},
     "output_type": "execute_result"
    }
   ],
   "source": [
    "align = dtw(target, curve1, distance_only=True)\n",
    "# align.distance\n",
    "align.distance"
   ]
  },
  {
   "cell_type": "code",
   "execution_count": 31,
   "metadata": {},
   "outputs": [
    {
     "data": {
      "text/plain": [
       "8.111786586675866"
      ]
     },
     "execution_count": 31,
     "metadata": {},
     "output_type": "execute_result"
    }
   ],
   "source": [
    "align = dtw(target, curve1, distance_only=True)\n",
    "# align.distance\n",
    "align.distance"
   ]
  },
  {
   "cell_type": "code",
   "execution_count": 30,
   "metadata": {},
   "outputs": [
    {
     "data": {
      "text/plain": [
       "2.590485653957571"
      ]
     },
     "execution_count": 30,
     "metadata": {},
     "output_type": "execute_result"
    }
   ],
   "source": [
    "align = dtw(target, curve2, distance_only=True)\n",
    "# align.distance\n",
    "align.distance"
   ]
  },
  {
   "cell_type": "code",
   "execution_count": 21,
   "metadata": {},
   "outputs": [
    {
     "data": {
      "text/plain": [
       "61.34285297636286"
      ]
     },
     "execution_count": 21,
     "metadata": {},
     "output_type": "execute_result"
    }
   ],
   "source": [
    "align = dtw(target, line, distance_only=True).distance\n",
    "# plt.plot(align.index1, align.index2)   \n",
    "# align.distance\n",
    "align"
   ]
  },
  {
   "cell_type": "code",
   "execution_count": 23,
   "metadata": {},
   "outputs": [
    {
     "data": {
      "text/plain": [
       "17.67188814220996"
      ]
     },
     "execution_count": 23,
     "metadata": {},
     "output_type": "execute_result"
    }
   ],
   "source": [
    "align = dtw(curve3, target, distance_only=True).distance\n",
    "# plt.plot(align.index1, align.index2)   \n",
    "# align.distance\n",
    "align"
   ]
  }
 ],
 "metadata": {
  "kernelspec": {
   "display_name": "Python 3.9.7 ('study2')",
   "language": "python",
   "name": "python3"
  },
  "language_info": {
   "codemirror_mode": {
    "name": "ipython",
    "version": 3
   },
   "file_extension": ".py",
   "mimetype": "text/x-python",
   "name": "python",
   "nbconvert_exporter": "python",
   "pygments_lexer": "ipython3",
   "version": "3.9.7"
  },
  "orig_nbformat": 4,
  "vscode": {
   "interpreter": {
    "hash": "27ff62b9f8f46ac7739d102fa0cb2cdb691dbf234c24f48db1edec61200604ab"
   }
  }
 },
 "nbformat": 4,
 "nbformat_minor": 2
}
