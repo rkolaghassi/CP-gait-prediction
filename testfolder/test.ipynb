{
 "cells": [
  {
   "cell_type": "code",
   "execution_count": 1,
   "metadata": {},
   "outputs": [
    {
     "data": {
      "text/plain": [
       "['c:\\\\Users\\\\Rania\\\\rbk9\\\\git-hub\\\\study-2\\\\testfolder',\n",
       " 'c:\\\\Users\\\\Rania\\\\Anaconda3\\\\envs\\\\study2\\\\python39.zip',\n",
       " 'c:\\\\Users\\\\Rania\\\\Anaconda3\\\\envs\\\\study2\\\\DLLs',\n",
       " 'c:\\\\Users\\\\Rania\\\\Anaconda3\\\\envs\\\\study2\\\\lib',\n",
       " 'c:\\\\Users\\\\Rania\\\\Anaconda3\\\\envs\\\\study2',\n",
       " '',\n",
       " 'c:\\\\Users\\\\Rania\\\\Anaconda3\\\\envs\\\\study2\\\\lib\\\\site-packages',\n",
       " 'c:\\\\Users\\\\Rania\\\\Anaconda3\\\\envs\\\\study2\\\\lib\\\\site-packages\\\\win32',\n",
       " 'c:\\\\Users\\\\Rania\\\\Anaconda3\\\\envs\\\\study2\\\\lib\\\\site-packages\\\\win32\\\\lib',\n",
       " 'c:\\\\Users\\\\Rania\\\\Anaconda3\\\\envs\\\\study2\\\\lib\\\\site-packages\\\\Pythonwin',\n",
       " 'c:\\\\Users\\\\Rania\\\\Anaconda3\\\\envs\\\\study2\\\\lib\\\\site-packages\\\\IPython\\\\extensions',\n",
       " 'C:\\\\Users\\\\Rania\\\\.ipython',\n",
       " '/Users/Rania/rbk9/git-hub/study-2/utils']"
      ]
     },
     "execution_count": 1,
     "metadata": {},
     "output_type": "execute_result"
    }
   ],
   "source": [
    "import sys\n",
    "# sys.path.append(r'C:\\Users\\Rania\\rbk9\\git-hub\\study-2\\utils')\n",
    "sys.path.append('/Users/Rania/rbk9/git-hub/study-2/utils')\n",
    "\n",
    "# os.getcwd()\n",
    "import os\n",
    "sys.path"
   ]
  },
  {
   "cell_type": "code",
   "execution_count": 4,
   "metadata": {},
   "outputs": [],
   "source": [
    "from utils import *"
   ]
  },
  {
   "cell_type": "code",
   "execution_count": 5,
   "metadata": {},
   "outputs": [
    {
     "data": {
      "text/plain": [
       "'cuda'"
      ]
     },
     "execution_count": 5,
     "metadata": {},
     "output_type": "execute_result"
    }
   ],
   "source": [
    "setDevice()"
   ]
  },
  {
   "cell_type": "code",
   "execution_count": null,
   "metadata": {},
   "outputs": [],
   "source": []
  }
 ],
 "metadata": {
  "kernelspec": {
   "display_name": "Python 3.9.7 ('study2')",
   "language": "python",
   "name": "python3"
  },
  "language_info": {
   "codemirror_mode": {
    "name": "ipython",
    "version": 3
   },
   "file_extension": ".py",
   "mimetype": "text/x-python",
   "name": "python",
   "nbconvert_exporter": "python",
   "pygments_lexer": "ipython3",
   "version": "3.9.7"
  },
  "orig_nbformat": 4,
  "vscode": {
   "interpreter": {
    "hash": "27ff62b9f8f46ac7739d102fa0cb2cdb691dbf234c24f48db1edec61200604ab"
   }
  }
 },
 "nbformat": 4,
 "nbformat_minor": 2
}
